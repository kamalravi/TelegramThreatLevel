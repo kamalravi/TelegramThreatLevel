{
 "cells": [
  {
   "cell_type": "code",
   "execution_count": 2,
   "id": "901e4e98-a2ca-4bd9-bbd8-111ccf81c9bf",
   "metadata": {},
   "outputs": [],
   "source": [
    "# import libraries needed\n",
    "import pandas as pd\n",
    "from collections import OrderedDict\n",
    "from sklearn.model_selection import train_test_split\n",
    "import datetime\n",
    "\n",
    "import random\n",
    "random.seed(42)\n",
    "import glob"
   ]
  },
  {
   "cell_type": "markdown",
   "id": "fcc6c4ce-cb1d-45fd-b468-51eecfd34557",
   "metadata": {},
   "source": [
    "## data load"
   ]
  },
  {
   "cell_type": "code",
   "execution_count": 5,
   "id": "767e9d08-4aa3-4d47-b4a9-c1a8a8def73f",
   "metadata": {},
   "outputs": [],
   "source": [
    "filepaths = glob.glob(\"/home/ravi/UCF Dropbox/KAMALAKKANNAN RAVI/guyonDesktop/DATA_AutomatedHarmDetection/allChatsReplies/*.json\")"
   ]
  },
  {
   "cell_type": "code",
   "execution_count": 6,
   "id": "a133001c-4ce2-4694-9ade-f0518a4aac33",
   "metadata": {},
   "outputs": [
    {
     "name": "stdout",
     "output_type": "stream",
     "text": [
      "39\n",
      "649\n",
      "185239\n",
      "322488\n",
      "13309\n",
      "15819\n",
      "28134\n",
      "165684\n",
      "68325\n",
      "297502\n",
      "104499\n",
      "23967\n",
      "153517\n",
      "all_replies_count:1379171\n"
     ]
    }
   ],
   "source": [
    "all_replies_count = 0\n",
    "for filepath in filepaths:\n",
    "    data = pd.read_json(filepath, orient='records')\n",
    "    # print(data.shape, filepath.split('/')[-1])\n",
    "    print(data.shape[0])\n",
    "    # print(str.split(filepath.split('/')[-1], '_')[0])\n",
    "    all_replies_count+=data.shape[0]\n",
    "print(\"all_replies_count:{}\".format(all_replies_count))"
   ]
  },
  {
   "cell_type": "markdown",
   "id": "79ac5144-2c09-4e8e-946d-85610c6e8442",
   "metadata": {},
   "source": [
    "## Sample 1000 Replies"
   ]
  },
  {
   "cell_type": "code",
   "execution_count": 37,
   "id": "bb9142dc-f6c2-41a2-b800-8359c1c7417a",
   "metadata": {},
   "outputs": [],
   "source": [
    "InfoWars = pd.read_json('/home/ravi/DATA_AutomatedHarmDetection/allChatsReplies/InfoWars.com_Date_Replies.json', orient='records')\n",
    "AlexJones = pd.read_json('/home/ravi/DATA_AutomatedHarmDetection/allChatsReplies/AlexJones_Date_Replies.json', orient='records')"
   ]
  },
  {
   "cell_type": "code",
   "execution_count": 38,
   "id": "3f03cbe9-c48b-4696-903f-bf6881967890",
   "metadata": {},
   "outputs": [
    {
     "name": "stdout",
     "output_type": "stream",
     "text": [
      "(3087, 2) (792, 2)\n"
     ]
    }
   ],
   "source": [
    "start_date= 1608008400 # Dec 15, 2020\n",
    "end_date= 1613451599 # Feb 15, 2021\n",
    "InfoWarsDF = InfoWars.loc[(InfoWars['date_unixtime'] >= start_date) & (InfoWars['date_unixtime'] <= end_date)]\n",
    "AlexJonesDF = AlexJones.loc[(AlexJones['date_unixtime'] >= start_date) & (AlexJones['date_unixtime'] <= end_date)]\n",
    "print(InfoWarsDF.shape, AlexJonesDF.shape)"
   ]
  },
  {
   "cell_type": "code",
   "execution_count": 39,
   "id": "e7db47ec-2ecd-44e2-9ab0-63877cc9c73c",
   "metadata": {},
   "outputs": [],
   "source": [
    "def stratified_sample_df(df, col, n_samples):\n",
    "    n = min(n_samples, df[col].value_counts().min())\n",
    "    df_ = df.groupby(col).apply(lambda x: x.sample(n))\n",
    "    df_.index = df_.index.droplevel(0)\n",
    "    return df_"
   ]
  },
  {
   "cell_type": "code",
   "execution_count": 40,
   "id": "e123bc38-38f5-410b-a078-598f9d8c429f",
   "metadata": {},
   "outputs": [],
   "source": [
    "AlexJonesDF500 = AlexJonesDF.sample(n=500, weights='date_unixtime', random_state=42).reset_index(drop=True)\n",
    "InfoWarsDF500 =  InfoWarsDF.sample(n=500, weights='date_unixtime', random_state=42).reset_index(drop=True)"
   ]
  },
  {
   "cell_type": "code",
   "execution_count": 41,
   "id": "47a0f95e-8925-4f2d-9a76-6cdae916ad5b",
   "metadata": {},
   "outputs": [
    {
     "data": {
      "text/html": [
       "<div>\n",
       "<style scoped>\n",
       "    .dataframe tbody tr th:only-of-type {\n",
       "        vertical-align: middle;\n",
       "    }\n",
       "\n",
       "    .dataframe tbody tr th {\n",
       "        vertical-align: top;\n",
       "    }\n",
       "\n",
       "    .dataframe thead th {\n",
       "        text-align: right;\n",
       "    }\n",
       "</style>\n",
       "<table border=\"1\" class=\"dataframe\">\n",
       "  <thead>\n",
       "    <tr style=\"text-align: right;\">\n",
       "      <th></th>\n",
       "      <th>date_unixtime</th>\n",
       "      <th>reply</th>\n",
       "    </tr>\n",
       "  </thead>\n",
       "  <tbody>\n",
       "    <tr>\n",
       "      <th>70</th>\n",
       "      <td>1611542658</td>\n",
       "      <td>As an illustration of the futility of \"protest...</td>\n",
       "    </tr>\n",
       "    <tr>\n",
       "      <th>120</th>\n",
       "      <td>1611543197</td>\n",
       "      <td>re: Gates dimming the Sun\\nDon't you think it'...</td>\n",
       "    </tr>\n",
       "    <tr>\n",
       "      <th>189</th>\n",
       "      <td>1611545463</td>\n",
       "      <td>Lin Wood has lost all channel of speech except...</td>\n",
       "    </tr>\n",
       "    <tr>\n",
       "      <th>323</th>\n",
       "      <td>1611545806</td>\n",
       "      <td>goo</td>\n",
       "    </tr>\n",
       "    <tr>\n",
       "      <th>355</th>\n",
       "      <td>1611545810</td>\n",
       "      <td>d</td>\n",
       "    </tr>\n",
       "    <tr>\n",
       "      <th>...</th>\n",
       "      <td>...</td>\n",
       "      <td>...</td>\n",
       "    </tr>\n",
       "    <tr>\n",
       "      <th>41</th>\n",
       "      <td>1613422763</td>\n",
       "      <td>Wil it transmit that far?</td>\n",
       "    </tr>\n",
       "    <tr>\n",
       "      <th>232</th>\n",
       "      <td>1613423253</td>\n",
       "      <td>Ain't to far of a fetch for him to turn that h...</td>\n",
       "    </tr>\n",
       "    <tr>\n",
       "      <th>401</th>\n",
       "      <td>1613443139</td>\n",
       "      <td>Sitting in Kemah w power....surrounded by ppl ...</td>\n",
       "    </tr>\n",
       "    <tr>\n",
       "      <th>359</th>\n",
       "      <td>1613443699</td>\n",
       "      <td>Leading a Movement of Repentance: The last thi...</td>\n",
       "    </tr>\n",
       "    <tr>\n",
       "      <th>400</th>\n",
       "      <td>1613443785</td>\n",
       "      <td>O  RESET vem  ai</td>\n",
       "    </tr>\n",
       "  </tbody>\n",
       "</table>\n",
       "<p>500 rows × 2 columns</p>\n",
       "</div>"
      ],
      "text/plain": [
       "     date_unixtime                                              reply\n",
       "70      1611542658  As an illustration of the futility of \"protest...\n",
       "120     1611543197  re: Gates dimming the Sun\\nDon't you think it'...\n",
       "189     1611545463  Lin Wood has lost all channel of speech except...\n",
       "323     1611545806                                                goo\n",
       "355     1611545810                                                  d\n",
       "..             ...                                                ...\n",
       "41      1613422763                          Wil it transmit that far?\n",
       "232     1613423253  Ain't to far of a fetch for him to turn that h...\n",
       "401     1613443139  Sitting in Kemah w power....surrounded by ppl ...\n",
       "359     1613443699  Leading a Movement of Repentance: The last thi...\n",
       "400     1613443785                                   O  RESET vem  ai\n",
       "\n",
       "[500 rows x 2 columns]"
      ]
     },
     "execution_count": 41,
     "metadata": {},
     "output_type": "execute_result"
    }
   ],
   "source": [
    "AlexJonesDF500.sort_values(by=['date_unixtime'])"
   ]
  },
  {
   "cell_type": "code",
   "execution_count": 42,
   "id": "0f35caa2-8d66-4300-b1c7-fc1bf680d38a",
   "metadata": {},
   "outputs": [
    {
     "data": {
      "text/html": [
       "<div>\n",
       "<style scoped>\n",
       "    .dataframe tbody tr th:only-of-type {\n",
       "        vertical-align: middle;\n",
       "    }\n",
       "\n",
       "    .dataframe tbody tr th {\n",
       "        vertical-align: top;\n",
       "    }\n",
       "\n",
       "    .dataframe thead th {\n",
       "        text-align: right;\n",
       "    }\n",
       "</style>\n",
       "<table border=\"1\" class=\"dataframe\">\n",
       "  <thead>\n",
       "    <tr style=\"text-align: right;\">\n",
       "      <th></th>\n",
       "      <th>date_unixtime</th>\n",
       "      <th>reply</th>\n",
       "    </tr>\n",
       "  </thead>\n",
       "  <tbody>\n",
       "    <tr>\n",
       "      <th>204</th>\n",
       "      <td>1611550376</td>\n",
       "      <td>Planned.</td>\n",
       "    </tr>\n",
       "    <tr>\n",
       "      <th>126</th>\n",
       "      <td>1611550589</td>\n",
       "      <td>Acosta and CNN are the real existential threat...</td>\n",
       "    </tr>\n",
       "    <tr>\n",
       "      <th>71</th>\n",
       "      <td>1611550644</td>\n",
       "      <td>Dominion</td>\n",
       "    </tr>\n",
       "    <tr>\n",
       "      <th>201</th>\n",
       "      <td>1611551822</td>\n",
       "      <td>Paul is on top of things as always. His point ...</td>\n",
       "    </tr>\n",
       "    <tr>\n",
       "      <th>447</th>\n",
       "      <td>1611552019</td>\n",
       "      <td>HAHAHAHAHA BILL HICKS YOU STAR</td>\n",
       "    </tr>\n",
       "    <tr>\n",
       "      <th>...</th>\n",
       "      <td>...</td>\n",
       "      <td>...</td>\n",
       "    </tr>\n",
       "    <tr>\n",
       "      <th>491</th>\n",
       "      <td>1613423254</td>\n",
       "      <td>Wrong. It's Trump and the military who will sa...</td>\n",
       "    </tr>\n",
       "    <tr>\n",
       "      <th>253</th>\n",
       "      <td>1613428375</td>\n",
       "      <td>Jerkwad McConnell RINO... I'm done with the GO...</td>\n",
       "    </tr>\n",
       "    <tr>\n",
       "      <th>371</th>\n",
       "      <td>1613428548</td>\n",
       "      <td>Mitch is no longer an electable candidate. I c...</td>\n",
       "    </tr>\n",
       "    <tr>\n",
       "      <th>451</th>\n",
       "      <td>1613431022</td>\n",
       "      <td>The entire GOP is commie trash. If you don't g...</td>\n",
       "    </tr>\n",
       "    <tr>\n",
       "      <th>220</th>\n",
       "      <td>1613435033</td>\n",
       "      <td>It was a supportive rally. Not an insurrection...</td>\n",
       "    </tr>\n",
       "  </tbody>\n",
       "</table>\n",
       "<p>500 rows × 2 columns</p>\n",
       "</div>"
      ],
      "text/plain": [
       "     date_unixtime                                              reply\n",
       "204     1611550376                                           Planned.\n",
       "126     1611550589  Acosta and CNN are the real existential threat...\n",
       "71      1611550644                                           Dominion\n",
       "201     1611551822  Paul is on top of things as always. His point ...\n",
       "447     1611552019                     HAHAHAHAHA BILL HICKS YOU STAR\n",
       "..             ...                                                ...\n",
       "491     1613423254  Wrong. It's Trump and the military who will sa...\n",
       "253     1613428375  Jerkwad McConnell RINO... I'm done with the GO...\n",
       "371     1613428548  Mitch is no longer an electable candidate. I c...\n",
       "451     1613431022  The entire GOP is commie trash. If you don't g...\n",
       "220     1613435033  It was a supportive rally. Not an insurrection...\n",
       "\n",
       "[500 rows x 2 columns]"
      ]
     },
     "execution_count": 42,
     "metadata": {},
     "output_type": "execute_result"
    }
   ],
   "source": [
    "InfoWarsDF500.sort_values(by=['date_unixtime'])"
   ]
  },
  {
   "cell_type": "code",
   "execution_count": 43,
   "id": "f486272e-44d4-4cae-a9a5-ed05ce610844",
   "metadata": {},
   "outputs": [],
   "source": [
    "Sample1000=pd.concat([AlexJonesDF500, InfoWarsDF500], axis=0)"
   ]
  },
  {
   "cell_type": "code",
   "execution_count": 44,
   "id": "a64b6a97-d7a9-40f9-b79f-12cd49c49d23",
   "metadata": {},
   "outputs": [
    {
     "data": {
      "text/html": [
       "<div>\n",
       "<style scoped>\n",
       "    .dataframe tbody tr th:only-of-type {\n",
       "        vertical-align: middle;\n",
       "    }\n",
       "\n",
       "    .dataframe tbody tr th {\n",
       "        vertical-align: top;\n",
       "    }\n",
       "\n",
       "    .dataframe thead th {\n",
       "        text-align: right;\n",
       "    }\n",
       "</style>\n",
       "<table border=\"1\" class=\"dataframe\">\n",
       "  <thead>\n",
       "    <tr style=\"text-align: right;\">\n",
       "      <th></th>\n",
       "      <th>date_unixtime</th>\n",
       "      <th>reply</th>\n",
       "    </tr>\n",
       "  </thead>\n",
       "  <tbody>\n",
       "    <tr>\n",
       "      <th>70</th>\n",
       "      <td>1611542658</td>\n",
       "      <td>As an illustration of the futility of \"protest...</td>\n",
       "    </tr>\n",
       "    <tr>\n",
       "      <th>120</th>\n",
       "      <td>1611543197</td>\n",
       "      <td>re: Gates dimming the Sun\\nDon't you think it'...</td>\n",
       "    </tr>\n",
       "    <tr>\n",
       "      <th>189</th>\n",
       "      <td>1611545463</td>\n",
       "      <td>Lin Wood has lost all channel of speech except...</td>\n",
       "    </tr>\n",
       "    <tr>\n",
       "      <th>323</th>\n",
       "      <td>1611545806</td>\n",
       "      <td>goo</td>\n",
       "    </tr>\n",
       "    <tr>\n",
       "      <th>355</th>\n",
       "      <td>1611545810</td>\n",
       "      <td>d</td>\n",
       "    </tr>\n",
       "    <tr>\n",
       "      <th>...</th>\n",
       "      <td>...</td>\n",
       "      <td>...</td>\n",
       "    </tr>\n",
       "    <tr>\n",
       "      <th>451</th>\n",
       "      <td>1613431022</td>\n",
       "      <td>The entire GOP is commie trash. If you don't g...</td>\n",
       "    </tr>\n",
       "    <tr>\n",
       "      <th>220</th>\n",
       "      <td>1613435033</td>\n",
       "      <td>It was a supportive rally. Not an insurrection...</td>\n",
       "    </tr>\n",
       "    <tr>\n",
       "      <th>401</th>\n",
       "      <td>1613443139</td>\n",
       "      <td>Sitting in Kemah w power....surrounded by ppl ...</td>\n",
       "    </tr>\n",
       "    <tr>\n",
       "      <th>359</th>\n",
       "      <td>1613443699</td>\n",
       "      <td>Leading a Movement of Repentance: The last thi...</td>\n",
       "    </tr>\n",
       "    <tr>\n",
       "      <th>400</th>\n",
       "      <td>1613443785</td>\n",
       "      <td>O  RESET vem  ai</td>\n",
       "    </tr>\n",
       "  </tbody>\n",
       "</table>\n",
       "<p>1000 rows × 2 columns</p>\n",
       "</div>"
      ],
      "text/plain": [
       "     date_unixtime                                              reply\n",
       "70      1611542658  As an illustration of the futility of \"protest...\n",
       "120     1611543197  re: Gates dimming the Sun\\nDon't you think it'...\n",
       "189     1611545463  Lin Wood has lost all channel of speech except...\n",
       "323     1611545806                                                goo\n",
       "355     1611545810                                                  d\n",
       "..             ...                                                ...\n",
       "451     1613431022  The entire GOP is commie trash. If you don't g...\n",
       "220     1613435033  It was a supportive rally. Not an insurrection...\n",
       "401     1613443139  Sitting in Kemah w power....surrounded by ppl ...\n",
       "359     1613443699  Leading a Movement of Repentance: The last thi...\n",
       "400     1613443785                                   O  RESET vem  ai\n",
       "\n",
       "[1000 rows x 2 columns]"
      ]
     },
     "execution_count": 44,
     "metadata": {},
     "output_type": "execute_result"
    }
   ],
   "source": [
    "Sample1000.sort_values(by=['date_unixtime'])"
   ]
  },
  {
   "cell_type": "code",
   "execution_count": 45,
   "id": "49d11968-e7f0-4570-b13f-35ac6e384990",
   "metadata": {},
   "outputs": [],
   "source": [
    "Sample1000['label']=\"\""
   ]
  },
  {
   "cell_type": "code",
   "execution_count": 47,
   "id": "d2415237-c180-4f93-ab42-a7768cd98196",
   "metadata": {},
   "outputs": [],
   "source": [
    "Sample1000.to_json('/home/ravi/DATA_AutomatedHarmDetection/Sample1000Data.json', orient='records')"
   ]
  },
  {
   "cell_type": "markdown",
   "id": "d5d0c2b4-43e9-475f-9419-882844073f50",
   "metadata": {},
   "source": [
    "## annotated Data"
   ]
  },
  {
   "cell_type": "code",
   "execution_count": 2,
   "id": "ccc5596a-cff3-4d2e-aa4b-7c51bc90d074",
   "metadata": {},
   "outputs": [],
   "source": [
    "anno=pd.read_json(\"/home/ravi/DATA_AutomatedHarmDetection/Sample1000DataByRavi.json\", orient='records')"
   ]
  },
  {
   "cell_type": "code",
   "execution_count": 10,
   "id": "e4c71f2e-a9d3-49d7-b8a6-de54dffdd370",
   "metadata": {},
   "outputs": [
    {
     "data": {
      "text/plain": [
       "'No harm'"
      ]
     },
     "execution_count": 10,
     "metadata": {},
     "output_type": "execute_result"
    }
   ],
   "source": [
    "anno.label[0][0]"
   ]
  },
  {
   "cell_type": "code",
   "execution_count": 13,
   "id": "74aed2b9-d550-444d-96b1-57106f25b093",
   "metadata": {},
   "outputs": [],
   "source": [
    "anno['label']=anno.label.str.join(',')"
   ]
  },
  {
   "cell_type": "code",
   "execution_count": 14,
   "id": "a935bde5-688e-40e7-b96e-2a77b02c99e8",
   "metadata": {},
   "outputs": [
    {
     "data": {
      "text/html": [
       "<div>\n",
       "<style scoped>\n",
       "    .dataframe tbody tr th:only-of-type {\n",
       "        vertical-align: middle;\n",
       "    }\n",
       "\n",
       "    .dataframe tbody tr th {\n",
       "        vertical-align: top;\n",
       "    }\n",
       "\n",
       "    .dataframe thead th {\n",
       "        text-align: right;\n",
       "    }\n",
       "</style>\n",
       "<table border=\"1\" class=\"dataframe\">\n",
       "  <thead>\n",
       "    <tr style=\"text-align: right;\">\n",
       "      <th></th>\n",
       "      <th>id</th>\n",
       "      <th>data</th>\n",
       "      <th>label</th>\n",
       "      <th>date_unixtime</th>\n",
       "    </tr>\n",
       "  </thead>\n",
       "  <tbody>\n",
       "    <tr>\n",
       "      <th>0</th>\n",
       "      <td>293323</td>\n",
       "      <td>Isaiah 2:20</td>\n",
       "      <td>No harm</td>\n",
       "      <td>1612205510</td>\n",
       "    </tr>\n",
       "    <tr>\n",
       "      <th>1</th>\n",
       "      <td>293324</td>\n",
       "      <td>Alex you are a voice crying in the Wilderness....</td>\n",
       "      <td>No harm</td>\n",
       "      <td>1613369475</td>\n",
       "    </tr>\n",
       "    <tr>\n",
       "      <th>2</th>\n",
       "      <td>293325</td>\n",
       "      <td>Due to being trafficked as a child, the masks ...</td>\n",
       "      <td>No harm</td>\n",
       "      <td>1612923731</td>\n",
       "    </tr>\n",
       "    <tr>\n",
       "      <th>3</th>\n",
       "      <td>293326</td>\n",
       "      <td>Do you know anything about and military proced...</td>\n",
       "      <td>No harm</td>\n",
       "      <td>1613348593</td>\n",
       "    </tr>\n",
       "    <tr>\n",
       "      <th>4</th>\n",
       "      <td>293327</td>\n",
       "      <td>👍 ... Of  course he didn't. Anyone with  brain...</td>\n",
       "      <td>No harm</td>\n",
       "      <td>1611699453</td>\n",
       "    </tr>\n",
       "    <tr>\n",
       "      <th>...</th>\n",
       "      <td>...</td>\n",
       "      <td>...</td>\n",
       "      <td>...</td>\n",
       "      <td>...</td>\n",
       "    </tr>\n",
       "    <tr>\n",
       "      <th>995</th>\n",
       "      <td>294318</td>\n",
       "      <td>Infowars IS DOWN!!! EVEN THEIR CONTACT NUMBERS...</td>\n",
       "      <td>No harm</td>\n",
       "      <td>1613398960</td>\n",
       "    </tr>\n",
       "    <tr>\n",
       "      <th>996</th>\n",
       "      <td>294319</td>\n",
       "      <td>Gates is probably really pleased</td>\n",
       "      <td>No harm</td>\n",
       "      <td>1613066945</td>\n",
       "    </tr>\n",
       "    <tr>\n",
       "      <th>997</th>\n",
       "      <td>294320</td>\n",
       "      <td>Open carry States are very polite and civilized.</td>\n",
       "      <td>No harm</td>\n",
       "      <td>1613074911</td>\n",
       "    </tr>\n",
       "    <tr>\n",
       "      <th>998</th>\n",
       "      <td>294321</td>\n",
       "      <td>When calling out a crime considered a crime we...</td>\n",
       "      <td>No harm</td>\n",
       "      <td>1612308519</td>\n",
       "    </tr>\n",
       "    <tr>\n",
       "      <th>999</th>\n",
       "      <td>294322</td>\n",
       "      <td>Oh, I’m betting they DO talk about Trump- all ...</td>\n",
       "      <td>No harm</td>\n",
       "      <td>1612212362</td>\n",
       "    </tr>\n",
       "  </tbody>\n",
       "</table>\n",
       "<p>1000 rows × 4 columns</p>\n",
       "</div>"
      ],
      "text/plain": [
       "         id                                               data    label  \\\n",
       "0    293323                                        Isaiah 2:20  No harm   \n",
       "1    293324  Alex you are a voice crying in the Wilderness....  No harm   \n",
       "2    293325  Due to being trafficked as a child, the masks ...  No harm   \n",
       "3    293326  Do you know anything about and military proced...  No harm   \n",
       "4    293327  👍 ... Of  course he didn't. Anyone with  brain...  No harm   \n",
       "..      ...                                                ...      ...   \n",
       "995  294318  Infowars IS DOWN!!! EVEN THEIR CONTACT NUMBERS...  No harm   \n",
       "996  294319                   Gates is probably really pleased  No harm   \n",
       "997  294320   Open carry States are very polite and civilized.  No harm   \n",
       "998  294321  When calling out a crime considered a crime we...  No harm   \n",
       "999  294322  Oh, I’m betting they DO talk about Trump- all ...  No harm   \n",
       "\n",
       "     date_unixtime  \n",
       "0       1612205510  \n",
       "1       1613369475  \n",
       "2       1612923731  \n",
       "3       1613348593  \n",
       "4       1611699453  \n",
       "..             ...  \n",
       "995     1613398960  \n",
       "996     1613066945  \n",
       "997     1613074911  \n",
       "998     1612308519  \n",
       "999     1612212362  \n",
       "\n",
       "[1000 rows x 4 columns]"
      ]
     },
     "execution_count": 14,
     "metadata": {},
     "output_type": "execute_result"
    }
   ],
   "source": [
    "anno"
   ]
  },
  {
   "cell_type": "code",
   "execution_count": 15,
   "id": "6a089a2b-9d5c-4039-8738-73cac5747c3b",
   "metadata": {},
   "outputs": [
    {
     "data": {
      "text/plain": [
       "array(['No harm', 'Ambiguous', 'Judicial harm', 'Non judicial'],\n",
       "      dtype=object)"
      ]
     },
     "execution_count": 15,
     "metadata": {},
     "output_type": "execute_result"
    }
   ],
   "source": [
    "anno.label.unique()"
   ]
  },
  {
   "cell_type": "code",
   "execution_count": 17,
   "id": "f62ac2a2-422f-4357-b8a6-b7a4549aa633",
   "metadata": {},
   "outputs": [],
   "source": [
    "anno=anno.replace('Ambiguous','No harm')"
   ]
  },
  {
   "cell_type": "code",
   "execution_count": 18,
   "id": "2f005d42-277e-47c4-ab9f-43618c34bd4f",
   "metadata": {},
   "outputs": [
    {
     "data": {
      "text/plain": [
       "array(['No harm', 'Judicial harm', 'Non judicial'], dtype=object)"
      ]
     },
     "execution_count": 18,
     "metadata": {},
     "output_type": "execute_result"
    }
   ],
   "source": [
    "anno.label.unique()"
   ]
  },
  {
   "cell_type": "code",
   "execution_count": 19,
   "id": "ecd1fbb0-dec6-41ab-8613-c0c703ab0b79",
   "metadata": {},
   "outputs": [],
   "source": [
    "anno=anno.replace('Judicial harm','Harm')\n",
    "anno=anno.replace('Non judicial','Harm')"
   ]
  },
  {
   "cell_type": "code",
   "execution_count": 23,
   "id": "6d642456-73fc-479a-b7b1-d582b3957e02",
   "metadata": {},
   "outputs": [
    {
     "data": {
      "text/plain": [
       "No harm    965\n",
       "Harm        35\n",
       "Name: label, dtype: int64"
      ]
     },
     "execution_count": 23,
     "metadata": {},
     "output_type": "execute_result"
    }
   ],
   "source": [
    "anno.label.value_counts()"
   ]
  },
  {
   "cell_type": "code",
   "execution_count": 24,
   "id": "842650c3-3391-4dcd-9ad8-6891997e3e66",
   "metadata": {},
   "outputs": [],
   "source": [
    "anno=anno.replace('No harm',0)\n",
    "anno=anno.replace('Harm',1)"
   ]
  },
  {
   "cell_type": "code",
   "execution_count": 26,
   "id": "5d1e33e6-fd91-43ec-96ac-c394065bc1a9",
   "metadata": {},
   "outputs": [],
   "source": [
    "anno.to_json(\"/home/ravi/DATA_AutomatedHarmDetection/sample1000class2.json\", orient='records')"
   ]
  },
  {
   "cell_type": "markdown",
   "id": "203211b3-8561-44d4-a352-22e37d706c3c",
   "metadata": {},
   "source": [
    "## split train, test"
   ]
  },
  {
   "cell_type": "code",
   "execution_count": 30,
   "id": "21e4ae8d-7833-4284-a524-58eb7e89472d",
   "metadata": {},
   "outputs": [],
   "source": [
    "AllClassesDF=pd.read_json(\"/home/ravi/DATA_AutomatedHarmDetection/sample1000class2.json\", orient='records')"
   ]
  },
  {
   "cell_type": "code",
   "execution_count": 31,
   "id": "cf8a02d7-c5e7-4546-b00e-67eeb1e4e5ae",
   "metadata": {},
   "outputs": [
    {
     "data": {
      "text/html": [
       "<div>\n",
       "<style scoped>\n",
       "    .dataframe tbody tr th:only-of-type {\n",
       "        vertical-align: middle;\n",
       "    }\n",
       "\n",
       "    .dataframe tbody tr th {\n",
       "        vertical-align: top;\n",
       "    }\n",
       "\n",
       "    .dataframe thead th {\n",
       "        text-align: right;\n",
       "    }\n",
       "</style>\n",
       "<table border=\"1\" class=\"dataframe\">\n",
       "  <thead>\n",
       "    <tr style=\"text-align: right;\">\n",
       "      <th></th>\n",
       "      <th>id</th>\n",
       "      <th>data</th>\n",
       "      <th>label</th>\n",
       "      <th>date_unixtime</th>\n",
       "    </tr>\n",
       "  </thead>\n",
       "  <tbody>\n",
       "    <tr>\n",
       "      <th>0</th>\n",
       "      <td>293323</td>\n",
       "      <td>Isaiah 2:20</td>\n",
       "      <td>0</td>\n",
       "      <td>1612205510</td>\n",
       "    </tr>\n",
       "  </tbody>\n",
       "</table>\n",
       "</div>"
      ],
      "text/plain": [
       "       id         data  label  date_unixtime\n",
       "0  293323  Isaiah 2:20      0     1612205510"
      ]
     },
     "execution_count": 31,
     "metadata": {},
     "output_type": "execute_result"
    }
   ],
   "source": [
    "AllClassesDF.head(1)"
   ]
  },
  {
   "cell_type": "code",
   "execution_count": 33,
   "id": "4ed9c84a-60ed-4dab-80ab-79edf0e1f314",
   "metadata": {},
   "outputs": [],
   "source": [
    "AllClassesDF['date']=pd.to_datetime(AllClassesDF['date_unixtime'], unit='s')\n",
    "AllClassesDF['date']=pd.to_datetime(AllClassesDF['date']).dt.date"
   ]
  },
  {
   "cell_type": "code",
   "execution_count": 35,
   "id": "d059f4ee-c456-4255-a1b0-cd36bf3d18b1",
   "metadata": {},
   "outputs": [],
   "source": [
    "alltrain, test = train_test_split(AllClassesDF, test_size=0.2, random_state=42, stratify=AllClassesDF[['label']])"
   ]
  },
  {
   "cell_type": "code",
   "execution_count": 37,
   "id": "f15cb150-36aa-4b72-b97a-bb9f969652e4",
   "metadata": {},
   "outputs": [
    {
     "name": "stdout",
     "output_type": "stream",
     "text": [
      "(1000, 5)\n",
      "(800, 5)\n",
      "(200, 5)\n"
     ]
    }
   ],
   "source": [
    "print(AllClassesDF.shape)\n",
    "print(alltrain.shape)\n",
    "print(test.shape)"
   ]
  },
  {
   "cell_type": "code",
   "execution_count": 34,
   "id": "de5f9ab2-126a-4875-b0ca-4b2524b0f73f",
   "metadata": {},
   "outputs": [
    {
     "data": {
      "text/plain": [
       "<AxesSubplot:>"
      ]
     },
     "execution_count": 34,
     "metadata": {},
     "output_type": "execute_result"
    },
    {
     "data": {
      "image/png": "[encoded data removed]",
      "text/plain": [
       "<Figure size 432x288 with 1 Axes>"
      ]
     },
     "metadata": {
      "needs_background": "light"
     },
     "output_type": "display_data"
    }
   ],
   "source": [
    "AllClassesDF.date.value_counts().sort_values().plot(kind = 'line')"
   ]
  },
  {
   "cell_type": "code",
   "execution_count": 38,
   "id": "645a1c52-f292-44da-bfd2-5a6c1394eeee",
   "metadata": {},
   "outputs": [
    {
     "data": {
      "text/plain": [
       "<AxesSubplot:>"
      ]
     },
     "execution_count": 38,
     "metadata": {},
     "output_type": "execute_result"
    },
    {
     "data": {
      "image/png": "[encoded data removed]",
      "text/plain": [
       "<Figure size 432x288 with 1 Axes>"
      ]
     },
     "metadata": {
      "needs_background": "light"
     },
     "output_type": "display_data"
    }
   ],
   "source": [
    "alltrain.date.value_counts().sort_values().plot(kind = 'line')"
   ]
  },
  {
   "cell_type": "code",
   "execution_count": 39,
   "id": "f268ba38-869f-4d44-bd1e-478e2fe7cd59",
   "metadata": {},
   "outputs": [
    {
     "data": {
      "text/plain": [
       "<AxesSubplot:>"
      ]
     },
     "execution_count": 39,
     "metadata": {},
     "output_type": "execute_result"
    },
    {
     "data": {
      "image/png": "[encoded data removed]",
      "text/plain": [
       "<Figure size 432x288 with 1 Axes>"
      ]
     },
     "metadata": {
      "needs_background": "light"
     },
     "output_type": "display_data"
    }
   ],
   "source": [
    "test.date.value_counts().sort_values().plot(kind = 'line')"
   ]
  },
  {
   "cell_type": "code",
   "execution_count": 40,
   "id": "ec1e9317-a054-4fbb-8d39-762aaab2fe7d",
   "metadata": {},
   "outputs": [
    {
     "name": "stdout",
     "output_type": "stream",
     "text": [
      "writing to json\n"
     ]
    }
   ],
   "source": [
    "# AllClassesDF\n",
    "print(\"writing to json\")\n",
    "AllClassesDF.to_json(\"/home/ravi/DATA_AutomatedHarmDetection/DataModelsResults/Data/AllClassesDF.json\", orient=\"records\", default_handler = str)"
   ]
  },
  {
   "cell_type": "code",
   "execution_count": 41,
   "id": "8880d08e-5526-46d8-9442-777d32a305cc",
   "metadata": {},
   "outputs": [
    {
     "name": "stdout",
     "output_type": "stream",
     "text": [
      "writing to json\n"
     ]
    }
   ],
   "source": [
    "# alltrain\n",
    "print(\"writing to json\")\n",
    "alltrain.to_json(\"/home/ravi/DATA_AutomatedHarmDetection/DataModelsResults/Data/alltrainDF.json\", orient=\"records\", default_handler = str)"
   ]
  },
  {
   "cell_type": "code",
   "execution_count": 42,
   "id": "aea3901a-e0a0-473c-b9af-9b728ab2d4f2",
   "metadata": {},
   "outputs": [
    {
     "name": "stdout",
     "output_type": "stream",
     "text": [
      "writing to json\n"
     ]
    }
   ],
   "source": [
    "# test\n",
    "print(\"writing to json\")\n",
    "test.to_json(\"/home/ravi/DATA_AutomatedHarmDetection/DataModelsResults/Data/testDF.json\", orient=\"records\", default_handler = str)"
   ]
  },
  {
   "cell_type": "code",
   "execution_count": 43,
   "id": "eccdcb79-59f3-4804-8a6b-7bb75d83241a",
   "metadata": {},
   "outputs": [
    {
     "data": {
      "text/plain": [
       "0    193\n",
       "1      7\n",
       "Name: label, dtype: int64"
      ]
     },
     "execution_count": 43,
     "metadata": {},
     "output_type": "execute_result"
    }
   ],
   "source": [
    "test.label.value_counts()"
   ]
  },
  {
   "cell_type": "code",
   "execution_count": null,
   "id": "68ce2b0e-593d-493b-a804-fd8c1b201b50",
   "metadata": {},
   "outputs": [],
   "source": []
  }
 ],
 "metadata": {
  "kernelspec": {
   "display_name": "Python [conda env:redditJournal] *",
   "language": "python",
   "name": "conda-env-redditJournal-py"
  },
  "language_info": {
   "codemirror_mode": {
    "name": "ipython",
    "version": 3
   },
   "file_extension": ".py",
   "mimetype": "text/x-python",
   "name": "python",
   "nbconvert_exporter": "python",
   "pygments_lexer": "ipython3",
   "version": "3.10.4"
  }
 },
 "nbformat": 4,
 "nbformat_minor": 5
}
