{
 "cells": [
  {
   "cell_type": "code",
   "execution_count": 14,
   "id": "3774d88c-3046-4898-9a30-f11b47bdf155",
   "metadata": {},
   "outputs": [],
   "source": [
    "import pandas as pd\n",
    "import glob\n",
    "import numpy as np\n",
    "import json\n",
    "import math\n",
    "import matplotlib.pyplot as plt\n",
    "import seaborn as sns"
   ]
  },
  {
   "cell_type": "markdown",
   "id": "0142810f-b278-4719-b454-a7b05e9089d4",
   "metadata": {
    "tags": []
   },
   "source": [
    "## Negative samples > 50 words"
   ]
  },
  {
   "cell_type": "code",
   "execution_count": 6,
   "id": "372fe3b1-3ecd-4016-9c12-447d38878f32",
   "metadata": {},
   "outputs": [],
   "source": [
    "import pandas as pd\n",
    "df = pd.read_json(\"/home/ravi/UCF Dropbox/KAMALAKKANNAN RAVI/guyonDesktop/DATA_AutomatedHarmDetection/negRepliesFilteredBy4Models/neg50words.json\", orient='records')"
   ]
  },
  {
   "cell_type": "code",
   "execution_count": 7,
   "id": "00e41ab4-f393-4183-a4fa-c12abee041ba",
   "metadata": {},
   "outputs": [
    {
     "data": {
      "text/html": [
       "<div>\n",
       "<style scoped>\n",
       "    .dataframe tbody tr th:only-of-type {\n",
       "        vertical-align: middle;\n",
       "    }\n",
       "\n",
       "    .dataframe tbody tr th {\n",
       "        vertical-align: top;\n",
       "    }\n",
       "\n",
       "    .dataframe thead th {\n",
       "        text-align: right;\n",
       "    }\n",
       "</style>\n",
       "<table border=\"1\" class=\"dataframe\">\n",
       "  <thead>\n",
       "    <tr style=\"text-align: right;\">\n",
       "      <th></th>\n",
       "      <th>date_unixtime</th>\n",
       "      <th>reply</th>\n",
       "      <th>tfSent</th>\n",
       "      <th>VADERSent</th>\n",
       "      <th>AfinnSent</th>\n",
       "      <th>TextBlobSent</th>\n",
       "      <th>subreddit</th>\n",
       "      <th>num_words</th>\n",
       "    </tr>\n",
       "  </thead>\n",
       "  <tbody>\n",
       "    <tr>\n",
       "      <th>0</th>\n",
       "      <td>1618427406</td>\n",
       "      <td>First of all I'm a vet so understand OPSEC, th...</td>\n",
       "      <td>negative</td>\n",
       "      <td>negative</td>\n",
       "      <td>negative</td>\n",
       "      <td>negative</td>\n",
       "      <td>WhiteLivesMatter</td>\n",
       "      <td>67</td>\n",
       "    </tr>\n",
       "  </tbody>\n",
       "</table>\n",
       "</div>"
      ],
      "text/plain": [
       "   date_unixtime                                              reply    tfSent  \\\n",
       "0     1618427406  First of all I'm a vet so understand OPSEC, th...  negative   \n",
       "\n",
       "  VADERSent AfinnSent TextBlobSent         subreddit  num_words  \n",
       "0  negative  negative     negative  WhiteLivesMatter         67  "
      ]
     },
     "execution_count": 7,
     "metadata": {},
     "output_type": "execute_result"
    }
   ],
   "source": [
    "df.head(1)"
   ]
  },
  {
   "cell_type": "code",
   "execution_count": 8,
   "id": "2b6261d3-5c45-40f8-b3b6-9c4e4f5a4eb7",
   "metadata": {},
   "outputs": [
    {
     "data": {
      "text/plain": [
       "(12156, 8)"
      ]
     },
     "execution_count": 8,
     "metadata": {},
     "output_type": "execute_result"
    }
   ],
   "source": [
    "df.shape"
   ]
  },
  {
   "cell_type": "markdown",
   "id": "beb95fb2-1484-45ca-a971-cf09f0c4a1f6",
   "metadata": {
    "tags": []
   },
   "source": [
    "# Sample 800 to get enough samples to develop develop Threat Levels"
   ]
  },
  {
   "cell_type": "markdown",
   "id": "e8f5d31b-95e2-47e8-9030-f54bf135d94a",
   "metadata": {
    "jp-MarkdownHeadingCollapsed": true,
    "tags": []
   },
   "source": [
    "## V1 200"
   ]
  },
  {
   "cell_type": "code",
   "execution_count": 10,
   "id": "c60a6392-9f0f-40d4-acf6-29a1ae22d96d",
   "metadata": {},
   "outputs": [
    {
     "name": "stdout",
     "output_type": "stream",
     "text": [
      "200\n",
      "11956\n"
     ]
    }
   ],
   "source": [
    "# Sample the DataFrame with replacement\n",
    "n=200\n",
    "sampled_df = df.sample(n=n, replace=False)\n",
    "\n",
    "print(len(sampled_df))\n",
    "\n",
    "# Drop the sampled rows from the DataFrame\n",
    "df = df.drop(sampled_df.index)\n",
    "print(len(df))"
   ]
  },
  {
   "cell_type": "code",
   "execution_count": 11,
   "id": "6db59de6-5179-417d-ad6e-397f7d5ad3b6",
   "metadata": {},
   "outputs": [],
   "source": [
    "df.to_json(\"/home/ravi/UCF Dropbox/KAMALAKKANNAN RAVI/guyonDesktop/DATA_AutomatedHarmDetection/Annotate/v1_11956.json\", orient='records')"
   ]
  },
  {
   "cell_type": "code",
   "execution_count": 14,
   "id": "f722438a-f066-4269-9c45-8dd4a8f9ccc4",
   "metadata": {},
   "outputs": [],
   "source": [
    "sampled_df.to_csv(\"/home/ravi/UCF Dropbox/KAMALAKKANNAN RAVI/guyonDesktop/DATA_AutomatedHarmDetection/Annotate/v1_200.csv\")"
   ]
  },
  {
   "cell_type": "markdown",
   "id": "27e27ad2-5c71-477a-b614-3c59e2176bd8",
   "metadata": {
    "tags": []
   },
   "source": [
    "### annotated"
   ]
  },
  {
   "cell_type": "code",
   "execution_count": 25,
   "id": "f9ae04e3-1f31-468e-8abf-87c903a4d844",
   "metadata": {},
   "outputs": [],
   "source": [
    "OA=pd.read_csv(\"/home/ravi/UCF Dropbox/KAMALAKKANNAN RAVI/guyonDesktop/DATA_AutomatedHarmDetection/Annotate/v1_200_OA.csv\")"
   ]
  },
  {
   "cell_type": "code",
   "execution_count": 26,
   "id": "8c881e25-a261-40ae-955e-e5b0eb5aa17a",
   "metadata": {},
   "outputs": [
    {
     "data": {
      "text/plain": [
       "(   date_unixtime                                              reply  ChatGPT\n",
       " 0     1676857269  We our war with the old criminal system.  They...        3,\n",
       " (200, 3))"
      ]
     },
     "execution_count": 26,
     "metadata": {},
     "output_type": "execute_result"
    }
   ],
   "source": [
    "OA.head(1), OA.shape"
   ]
  },
  {
   "cell_type": "code",
   "execution_count": 27,
   "id": "692e5f1f-6e23-4542-a4af-1489140f4fd2",
   "metadata": {},
   "outputs": [
    {
     "data": {
      "text/plain": [
       "6    90\n",
       "2    47\n",
       "5    21\n",
       "1    19\n",
       "3    14\n",
       "4     9\n",
       "Name: ChatGPT, dtype: int64"
      ]
     },
     "execution_count": 27,
     "metadata": {},
     "output_type": "execute_result"
    }
   ],
   "source": [
    "OA['ChatGPT'].value_counts()"
   ]
  },
  {
   "cell_type": "code",
   "execution_count": 28,
   "id": "305f478f-adc4-491b-a79a-c30b05cb853e",
   "metadata": {},
   "outputs": [
    {
     "data": {
      "text/plain": [
       "200"
      ]
     },
     "execution_count": 28,
     "metadata": {},
     "output_type": "execute_result"
    }
   ],
   "source": [
    "sum(OA['ChatGPT'].value_counts())"
   ]
  },
  {
   "cell_type": "markdown",
   "id": "68bd9ef3-3fc2-433c-87e4-710f5d22d018",
   "metadata": {
    "jp-MarkdownHeadingCollapsed": true,
    "tags": []
   },
   "source": [
    "## V1 500"
   ]
  },
  {
   "cell_type": "code",
   "execution_count": 29,
   "id": "120f9e00-ee15-485a-ac42-14f698ff31ee",
   "metadata": {},
   "outputs": [],
   "source": [
    "df=pd.read_json(\"/home/ravi/UCF Dropbox/KAMALAKKANNAN RAVI/guyonDesktop/DATA_AutomatedHarmDetection/Annotate/v1_11956.json\", orient='records')"
   ]
  },
  {
   "cell_type": "code",
   "execution_count": 30,
   "id": "dc1312df-1fdd-42fb-820d-806b40e2bd9b",
   "metadata": {},
   "outputs": [
    {
     "name": "stdout",
     "output_type": "stream",
     "text": [
      "500\n",
      "11456\n"
     ]
    }
   ],
   "source": [
    "# Sample the DataFrame with replacement\n",
    "n=500\n",
    "sampled_df = df.sample(n=n, replace=False)\n",
    "\n",
    "print(len(sampled_df))\n",
    "\n",
    "# Drop the sampled rows from the DataFrame\n",
    "df = df.drop(sampled_df.index)\n",
    "print(len(df))"
   ]
  },
  {
   "cell_type": "code",
   "execution_count": 31,
   "id": "807fe835-f0c4-45c8-b4fb-366bdd3c01f2",
   "metadata": {},
   "outputs": [],
   "source": [
    "df.to_json(\"/home/ravi/UCF Dropbox/KAMALAKKANNAN RAVI/guyonDesktop/DATA_AutomatedHarmDetection/Annotate/v1_11456.json\", orient='records')"
   ]
  },
  {
   "cell_type": "code",
   "execution_count": 32,
   "id": "b9b56002-4dbf-488d-9115-6383888f96e8",
   "metadata": {},
   "outputs": [],
   "source": [
    "sampled_df.to_csv(\"/home/ravi/UCF Dropbox/KAMALAKKANNAN RAVI/guyonDesktop/DATA_AutomatedHarmDetection/Annotate/v1_500.csv\")"
   ]
  },
  {
   "cell_type": "markdown",
   "id": "77176296-908c-4f7e-958b-c74fd75dd6a3",
   "metadata": {
    "tags": []
   },
   "source": [
    "### annotated"
   ]
  },
  {
   "cell_type": "code",
   "execution_count": 33,
   "id": "4ed06e79-5545-4ae4-89b9-bd88203f094a",
   "metadata": {},
   "outputs": [],
   "source": [
    "OA1=pd.read_csv(\"/home/ravi/UCF Dropbox/KAMALAKKANNAN RAVI/guyonDesktop/DATA_AutomatedHarmDetection/Annotate/v1_500_OA.csv\")"
   ]
  },
  {
   "cell_type": "code",
   "execution_count": 45,
   "id": "7a382442-53c5-47ea-bc8d-659d6deca5ce",
   "metadata": {},
   "outputs": [
    {
     "data": {
      "text/plain": [
       "(   Unnamed: 0  date_unixtime  \\\n",
       " 0        2973     1667258595   \n",
       " \n",
       "                                                reply  ChatGPT  \n",
       " 0  Hell no. My daughter was chased out of the onl...        5  ,\n",
       " (500, 4))"
      ]
     },
     "execution_count": 45,
     "metadata": {},
     "output_type": "execute_result"
    }
   ],
   "source": [
    "OA1.head(1), OA1.shape"
   ]
  },
  {
   "cell_type": "code",
   "execution_count": 46,
   "id": "e295e054-2553-4048-b4d5-192ad2435e21",
   "metadata": {},
   "outputs": [],
   "source": [
    "OA1.to_csv(\"/home/ravi/UCF Dropbox/KAMALAKKANNAN RAVI/guyonDesktop/DATA_AutomatedHarmDetection/Annotate/v1_500_OA.csv\")"
   ]
  },
  {
   "cell_type": "code",
   "execution_count": 34,
   "id": "8c67cc1e-91c6-4f8a-9a67-5b4181a60916",
   "metadata": {},
   "outputs": [
    {
     "data": {
      "text/plain": [
       "(   Unnamed: 0  date_unixtime  \\\n",
       " 0        2973     1667258595   \n",
       " \n",
       "                                                reply  ChatGPT  \n",
       " 0  Hell no. My daughter was chased out of the onl...        5  ,\n",
       " (500, 4))"
      ]
     },
     "execution_count": 34,
     "metadata": {},
     "output_type": "execute_result"
    }
   ],
   "source": [
    "OA1.head(1), OA1.shape"
   ]
  },
  {
   "cell_type": "code",
   "execution_count": 35,
   "id": "24198c19-681e-4b29-9a39-ebf99e4751d0",
   "metadata": {},
   "outputs": [
    {
     "data": {
      "text/plain": [
       "6    247\n",
       "2    135\n",
       "1     37\n",
       "5     32\n",
       "3     31\n",
       "4     18\n",
       "Name: ChatGPT, dtype: int64"
      ]
     },
     "execution_count": 35,
     "metadata": {},
     "output_type": "execute_result"
    }
   ],
   "source": [
    "OA1['ChatGPT'].value_counts()"
   ]
  },
  {
   "cell_type": "code",
   "execution_count": 36,
   "id": "491dde33-398f-4737-a766-38c67f3ff799",
   "metadata": {},
   "outputs": [
    {
     "data": {
      "text/plain": [
       "500"
      ]
     },
     "execution_count": 36,
     "metadata": {},
     "output_type": "execute_result"
    }
   ],
   "source": [
    "sum(OA1['ChatGPT'].value_counts())"
   ]
  },
  {
   "cell_type": "markdown",
   "id": "989c7334-ff15-443c-9e43-8761307f5ed3",
   "metadata": {
    "jp-MarkdownHeadingCollapsed": true,
    "tags": []
   },
   "source": [
    "## V1 100"
   ]
  },
  {
   "cell_type": "code",
   "execution_count": 37,
   "id": "34c1d6e8-150d-436b-bc0b-2e7f16a6c0e7",
   "metadata": {},
   "outputs": [],
   "source": [
    "df = pd.read_json(\"/home/ravi/UCF Dropbox/KAMALAKKANNAN RAVI/guyonDesktop/DATA_AutomatedHarmDetection/Annotate/v1_11456.json\", orient='records')"
   ]
  },
  {
   "cell_type": "code",
   "execution_count": 38,
   "id": "0a80a4c0-2bdb-491d-a72c-1286f6e33353",
   "metadata": {},
   "outputs": [
    {
     "name": "stdout",
     "output_type": "stream",
     "text": [
      "100\n",
      "11356\n"
     ]
    }
   ],
   "source": [
    "# Sample the DataFrame with replacement\n",
    "n=100\n",
    "sampled_df = df.sample(n=n, replace=False)\n",
    "\n",
    "print(len(sampled_df))\n",
    "\n",
    "# Drop the sampled rows from the DataFrame\n",
    "df = df.drop(sampled_df.index)\n",
    "print(len(df))"
   ]
  },
  {
   "cell_type": "code",
   "execution_count": 39,
   "id": "a956cf00-e30b-434f-a53e-659450b3aefa",
   "metadata": {},
   "outputs": [],
   "source": [
    "df.to_json(\"/home/ravi/UCF Dropbox/KAMALAKKANNAN RAVI/guyonDesktop/DATA_AutomatedHarmDetection/Annotate/v1_11356.json\", orient='records')"
   ]
  },
  {
   "cell_type": "code",
   "execution_count": 40,
   "id": "8d3895da-1f7b-49a2-9117-a75da5d9f368",
   "metadata": {},
   "outputs": [],
   "source": [
    "sampled_df.to_csv(\"/home/ravi/UCF Dropbox/KAMALAKKANNAN RAVI/guyonDesktop/DATA_AutomatedHarmDetection/Annotate/v1_100.csv\")"
   ]
  },
  {
   "cell_type": "markdown",
   "id": "e573e686-b053-4517-b7cf-170b4aa4fe5e",
   "metadata": {
    "tags": []
   },
   "source": [
    "### annotated"
   ]
  },
  {
   "cell_type": "code",
   "execution_count": 41,
   "id": "99b122ca-96f0-4fcc-8994-b70ecde62cc9",
   "metadata": {},
   "outputs": [],
   "source": [
    "OA2=pd.read_csv(\"/home/ravi/UCF Dropbox/KAMALAKKANNAN RAVI/guyonDesktop/DATA_AutomatedHarmDetection/Annotate/v1_100_OA.csv\")"
   ]
  },
  {
   "cell_type": "code",
   "execution_count": 42,
   "id": "28bf58ee-96d7-40c0-92b2-19c53344e933",
   "metadata": {},
   "outputs": [
    {
     "data": {
      "text/plain": [
       "(   Unnamed: 0  date_unixtime  \\\n",
       " 0        8221     1672059834   \n",
       " \n",
       "                                                reply  ChatGPT  \n",
       " 0  I’m excited to share this! A year ago my mom w...        6  ,\n",
       " (100, 4))"
      ]
     },
     "execution_count": 42,
     "metadata": {},
     "output_type": "execute_result"
    }
   ],
   "source": [
    "OA2.head(1), OA2.shape"
   ]
  },
  {
   "cell_type": "code",
   "execution_count": 43,
   "id": "db7d46e6-8722-4941-b837-d0772acb907c",
   "metadata": {},
   "outputs": [
    {
     "data": {
      "text/plain": [
       "6    56\n",
       "2    21\n",
       "5     8\n",
       "4     8\n",
       "3     6\n",
       "1     1\n",
       "Name: ChatGPT, dtype: int64"
      ]
     },
     "execution_count": 43,
     "metadata": {},
     "output_type": "execute_result"
    }
   ],
   "source": [
    "OA2['ChatGPT'].value_counts()"
   ]
  },
  {
   "cell_type": "code",
   "execution_count": 44,
   "id": "ca6a1a5e-f281-4d89-8ca4-0e566aba8c56",
   "metadata": {},
   "outputs": [
    {
     "data": {
      "text/plain": [
       "100"
      ]
     },
     "execution_count": 44,
     "metadata": {},
     "output_type": "execute_result"
    }
   ],
   "source": [
    "sum(OA2['ChatGPT'].value_counts())"
   ]
  },
  {
   "cell_type": "markdown",
   "id": "86f4d250-bea6-4e35-8d17-e5de57c33300",
   "metadata": {
    "tags": []
   },
   "source": [
    "## Sample 30 from each class to develop develop Threat Levels"
   ]
  },
  {
   "cell_type": "code",
   "execution_count": 33,
   "id": "5ad75e89-5711-474b-b9c1-fafab30fe9ba",
   "metadata": {},
   "outputs": [
    {
     "name": "stdout",
     "output_type": "stream",
     "text": [
      "(100, 4)\n",
      "(200, 3)\n",
      "(500, 5)\n"
     ]
    }
   ],
   "source": [
    "df100=pd.read_csv(\"/home/ravi/UCF Dropbox/KAMALAKKANNAN RAVI/guyonDesktop/DATA_AutomatedHarmDetection/Annotate/v1_100_OA.csv\")\n",
    "print(df100.shape)\n",
    "df200=pd.read_csv(\"/home/ravi/UCF Dropbox/KAMALAKKANNAN RAVI/guyonDesktop/DATA_AutomatedHarmDetection/Annotate/v1_200_OA.csv\")\n",
    "print(df200.shape)\n",
    "df500=pd.read_csv(\"/home/ravi/UCF Dropbox/KAMALAKKANNAN RAVI/guyonDesktop/DATA_AutomatedHarmDetection/Annotate/v1_500_OA.csv\")\n",
    "print(df500.shape)"
   ]
  },
  {
   "cell_type": "code",
   "execution_count": 34,
   "id": "b70a0355-3e22-4795-81f9-83912c75270f",
   "metadata": {},
   "outputs": [],
   "source": [
    "df800 = pd.DataFrame()\n",
    "df800['date_unixtime'] = df100['date_unixtime'].append(df200['date_unixtime']).append(df500['date_unixtime'])\n",
    "df800['reply'] = df100['reply'].append(df200['reply']).append(df500['reply'])\n",
    "df800['ChatGPT'] = df100['ChatGPT'].append(df200['ChatGPT']).append(df500['ChatGPT'])"
   ]
  },
  {
   "cell_type": "code",
   "execution_count": 35,
   "id": "5bf09e9f-181f-4296-81bc-6025fa199afb",
   "metadata": {},
   "outputs": [
    {
     "data": {
      "text/plain": [
       "(800, 3)"
      ]
     },
     "execution_count": 35,
     "metadata": {},
     "output_type": "execute_result"
    }
   ],
   "source": [
    "df800.shape"
   ]
  },
  {
   "cell_type": "code",
   "execution_count": 36,
   "id": "4b792e61-fa34-469c-919b-57fc7a5bb24b",
   "metadata": {},
   "outputs": [
    {
     "data": {
      "text/html": [
       "<div>\n",
       "<style scoped>\n",
       "    .dataframe tbody tr th:only-of-type {\n",
       "        vertical-align: middle;\n",
       "    }\n",
       "\n",
       "    .dataframe tbody tr th {\n",
       "        vertical-align: top;\n",
       "    }\n",
       "\n",
       "    .dataframe thead th {\n",
       "        text-align: right;\n",
       "    }\n",
       "</style>\n",
       "<table border=\"1\" class=\"dataframe\">\n",
       "  <thead>\n",
       "    <tr style=\"text-align: right;\">\n",
       "      <th></th>\n",
       "      <th>date_unixtime</th>\n",
       "      <th>reply</th>\n",
       "      <th>ChatGPT</th>\n",
       "    </tr>\n",
       "  </thead>\n",
       "  <tbody>\n",
       "    <tr>\n",
       "      <th>0</th>\n",
       "      <td>1672059834</td>\n",
       "      <td>I’m excited to share this! A year ago my mom w...</td>\n",
       "      <td>6</td>\n",
       "    </tr>\n",
       "    <tr>\n",
       "      <th>1</th>\n",
       "      <td>1672210866</td>\n",
       "      <td>We are 2 years late &amp; a dollar short with our ...</td>\n",
       "      <td>3</td>\n",
       "    </tr>\n",
       "    <tr>\n",
       "      <th>2</th>\n",
       "      <td>1655480217</td>\n",
       "      <td>Just another attempt at fest tactics and contr...</td>\n",
       "      <td>2</td>\n",
       "    </tr>\n",
       "    <tr>\n",
       "      <th>3</th>\n",
       "      <td>1666953235</td>\n",
       "      <td>Bin telling people to wake up for 20 years, on...</td>\n",
       "      <td>5</td>\n",
       "    </tr>\n",
       "    <tr>\n",
       "      <th>4</th>\n",
       "      <td>1671807108</td>\n",
       "      <td>These people are SICK fuck's. Enticing young c...</td>\n",
       "      <td>5</td>\n",
       "    </tr>\n",
       "    <tr>\n",
       "      <th>5</th>\n",
       "      <td>1642557698</td>\n",
       "      <td>They Wana be commies then boycott flying . Why...</td>\n",
       "      <td>3</td>\n",
       "    </tr>\n",
       "    <tr>\n",
       "      <th>6</th>\n",
       "      <td>1678734657</td>\n",
       "      <td>Stacey Plaskett:  You're a dumba$$.  You're a ...</td>\n",
       "      <td>6</td>\n",
       "    </tr>\n",
       "    <tr>\n",
       "      <th>7</th>\n",
       "      <td>1679257167</td>\n",
       "      <td>Franco Tripepi you couldn’t be more incorrect....</td>\n",
       "      <td>6</td>\n",
       "    </tr>\n",
       "    <tr>\n",
       "      <th>8</th>\n",
       "      <td>1636418305</td>\n",
       "      <td>You Idiots knew how Corrupt and winded by Chin...</td>\n",
       "      <td>2</td>\n",
       "    </tr>\n",
       "    <tr>\n",
       "      <th>9</th>\n",
       "      <td>1675649728</td>\n",
       "      <td>They'll spin this as bad, however, they are mo...</td>\n",
       "      <td>6</td>\n",
       "    </tr>\n",
       "  </tbody>\n",
       "</table>\n",
       "</div>"
      ],
      "text/plain": [
       "   date_unixtime                                              reply  ChatGPT\n",
       "0     1672059834  I’m excited to share this! A year ago my mom w...        6\n",
       "1     1672210866  We are 2 years late & a dollar short with our ...        3\n",
       "2     1655480217  Just another attempt at fest tactics and contr...        2\n",
       "3     1666953235  Bin telling people to wake up for 20 years, on...        5\n",
       "4     1671807108  These people are SICK fuck's. Enticing young c...        5\n",
       "5     1642557698  They Wana be commies then boycott flying . Why...        3\n",
       "6     1678734657  Stacey Plaskett:  You're a dumba$$.  You're a ...        6\n",
       "7     1679257167  Franco Tripepi you couldn’t be more incorrect....        6\n",
       "8     1636418305  You Idiots knew how Corrupt and winded by Chin...        2\n",
       "9     1675649728  They'll spin this as bad, however, they are mo...        6"
      ]
     },
     "execution_count": 36,
     "metadata": {},
     "output_type": "execute_result"
    }
   ],
   "source": [
    "df800.head(10)"
   ]
  },
  {
   "cell_type": "code",
   "execution_count": 44,
   "id": "6b469c36-65b5-4112-818c-31d3addec085",
   "metadata": {},
   "outputs": [],
   "source": [
    "df=df800.copy()\n",
    "sampled_df = pd.concat([df[df['ChatGPT'] == 1].sample(n=30),\n",
    "                        df[df['ChatGPT'] == 2].sample(n=30),\n",
    "                        df[df['ChatGPT'] == 3].sample(n=30),\n",
    "                        df[df['ChatGPT'] == 4].sample(n=30),\n",
    "                        df[df['ChatGPT'] == 5].sample(n=30),\n",
    "                        df[df['ChatGPT'] == 6].sample(n=30)])"
   ]
  },
  {
   "cell_type": "code",
   "execution_count": 45,
   "id": "923b681d-b4a0-4b88-94d9-a33540e01073",
   "metadata": {},
   "outputs": [
    {
     "data": {
      "text/plain": [
       "(180, 3)"
      ]
     },
     "execution_count": 45,
     "metadata": {},
     "output_type": "execute_result"
    }
   ],
   "source": [
    "sampled_df.shape"
   ]
  },
  {
   "cell_type": "code",
   "execution_count": 46,
   "id": "7303d601-5add-435c-adc2-5592f3a29ca1",
   "metadata": {},
   "outputs": [
    {
     "data": {
      "text/html": [
       "<div>\n",
       "<style scoped>\n",
       "    .dataframe tbody tr th:only-of-type {\n",
       "        vertical-align: middle;\n",
       "    }\n",
       "\n",
       "    .dataframe tbody tr th {\n",
       "        vertical-align: top;\n",
       "    }\n",
       "\n",
       "    .dataframe thead th {\n",
       "        text-align: right;\n",
       "    }\n",
       "</style>\n",
       "<table border=\"1\" class=\"dataframe\">\n",
       "  <thead>\n",
       "    <tr style=\"text-align: right;\">\n",
       "      <th></th>\n",
       "      <th>date_unixtime</th>\n",
       "      <th>reply</th>\n",
       "      <th>ChatGPT</th>\n",
       "    </tr>\n",
       "  </thead>\n",
       "  <tbody>\n",
       "    <tr>\n",
       "      <th>141</th>\n",
       "      <td>1662508109</td>\n",
       "      <td>Well then why tf did you bleachfit your server...</td>\n",
       "      <td>1</td>\n",
       "    </tr>\n",
       "    <tr>\n",
       "      <th>183</th>\n",
       "      <td>1670890034</td>\n",
       "      <td>Of course it was STOLEN! The reason why the me...</td>\n",
       "      <td>1</td>\n",
       "    </tr>\n",
       "    <tr>\n",
       "      <th>79</th>\n",
       "      <td>1669774135</td>\n",
       "      <td>No.  We aren't doing commercial consumer Chris...</td>\n",
       "      <td>1</td>\n",
       "    </tr>\n",
       "    <tr>\n",
       "      <th>62</th>\n",
       "      <td>1650562558</td>\n",
       "      <td>'This bill would delete the requirement that a...</td>\n",
       "      <td>1</td>\n",
       "    </tr>\n",
       "    <tr>\n",
       "      <th>76</th>\n",
       "      <td>1678933695</td>\n",
       "      <td>Graham needs to put on his big girl pants and ...</td>\n",
       "      <td>1</td>\n",
       "    </tr>\n",
       "    <tr>\n",
       "      <th>175</th>\n",
       "      <td>1666561765</td>\n",
       "      <td>The military isn't the only once people are \"a...</td>\n",
       "      <td>1</td>\n",
       "    </tr>\n",
       "    <tr>\n",
       "      <th>109</th>\n",
       "      <td>1660253945</td>\n",
       "      <td>Yeah if Provable he’d be arrested and in jail....</td>\n",
       "      <td>1</td>\n",
       "    </tr>\n",
       "    <tr>\n",
       "      <th>91</th>\n",
       "      <td>1669269166</td>\n",
       "      <td>I wish they'd report the actual number of deat...</td>\n",
       "      <td>1</td>\n",
       "    </tr>\n",
       "    <tr>\n",
       "      <th>403</th>\n",
       "      <td>1658581903</td>\n",
       "      <td>Its worse than that Pelosi ordered the sham in...</td>\n",
       "      <td>1</td>\n",
       "    </tr>\n",
       "    <tr>\n",
       "      <th>140</th>\n",
       "      <td>1661576334</td>\n",
       "      <td>I’m guessing that this school loan forgiveness...</td>\n",
       "      <td>1</td>\n",
       "    </tr>\n",
       "  </tbody>\n",
       "</table>\n",
       "</div>"
      ],
      "text/plain": [
       "     date_unixtime                                              reply  ChatGPT\n",
       "141     1662508109  Well then why tf did you bleachfit your server...        1\n",
       "183     1670890034  Of course it was STOLEN! The reason why the me...        1\n",
       "79      1669774135  No.  We aren't doing commercial consumer Chris...        1\n",
       "62      1650562558  'This bill would delete the requirement that a...        1\n",
       "76      1678933695  Graham needs to put on his big girl pants and ...        1\n",
       "175     1666561765  The military isn't the only once people are \"a...        1\n",
       "109     1660253945  Yeah if Provable he’d be arrested and in jail....        1\n",
       "91      1669269166  I wish they'd report the actual number of deat...        1\n",
       "403     1658581903  Its worse than that Pelosi ordered the sham in...        1\n",
       "140     1661576334  I’m guessing that this school loan forgiveness...        1"
      ]
     },
     "execution_count": 46,
     "metadata": {},
     "output_type": "execute_result"
    }
   ],
   "source": [
    "sampled_df.head(10)"
   ]
  },
  {
   "cell_type": "code",
   "execution_count": 52,
   "id": "d7f39283-e3bd-40c2-94ac-4b17d49a3135",
   "metadata": {},
   "outputs": [],
   "source": [
    "sampled_df = sampled_df.sample(frac=1)"
   ]
  },
  {
   "cell_type": "code",
   "execution_count": 54,
   "id": "e156ec9b-90a8-4b5c-995f-d6c192724771",
   "metadata": {},
   "outputs": [],
   "source": [
    "sampled_df.to_csv(\"/home/ravi/UCF Dropbox/KAMALAKKANNAN RAVI/guyonDesktop/DATA_AutomatedHarmDetection/Annotate/ToAnnotate180SamplesOG.csv\")"
   ]
  },
  {
   "cell_type": "markdown",
   "id": "3e33b494-cf81-46e4-a7fe-e81b8bb6e634",
   "metadata": {},
   "source": [
    "# Compare Annotation by OpenAI-Lizzy-Ravi"
   ]
  },
  {
   "cell_type": "markdown",
   "id": "d3e4ed63-3940-463f-aaca-ca68e31907a6",
   "metadata": {
    "tags": []
   },
   "source": [
    "## OpenAI"
   ]
  },
  {
   "cell_type": "code",
   "execution_count": 81,
   "id": "9e5cc349-65bb-4b40-a181-e1abfd074c04",
   "metadata": {},
   "outputs": [],
   "source": [
    "file =  \"/home/ravi/UCF Dropbox/KAMALAKKANNAN RAVI/guyonDesktop/DATA_AutomatedHarmDetection/Annotate/ToAnnotate180Samples_openAI-classification-subject.ljson\""
   ]
  },
  {
   "cell_type": "code",
   "execution_count": 82,
   "id": "9812b5b7-c937-4d4e-9f7b-e6c7c7b36bdd",
   "metadata": {},
   "outputs": [],
   "source": [
    "newOA=[]\n",
    "with open(file) as fin:\n",
    "    for cLine in fin:\n",
    "        cJSON=json.loads(cLine)\n",
    "        newOA.append(cJSON)"
   ]
  },
  {
   "cell_type": "code",
   "execution_count": 84,
   "id": "26016fe1-032e-46fd-91af-563c619d5d44",
   "metadata": {},
   "outputs": [],
   "source": [
    "newOA = pd.DataFrame(newOA)"
   ]
  },
  {
   "cell_type": "code",
   "execution_count": 85,
   "id": "3a848831-89c7-490a-990f-ad6665adaf2a",
   "metadata": {},
   "outputs": [
    {
     "data": {
      "text/html": [
       "<div>\n",
       "<style scoped>\n",
       "    .dataframe tbody tr th:only-of-type {\n",
       "        vertical-align: middle;\n",
       "    }\n",
       "\n",
       "    .dataframe tbody tr th {\n",
       "        vertical-align: top;\n",
       "    }\n",
       "\n",
       "    .dataframe thead th {\n",
       "        text-align: right;\n",
       "    }\n",
       "</style>\n",
       "<table border=\"1\" class=\"dataframe\">\n",
       "  <thead>\n",
       "    <tr style=\"text-align: right;\">\n",
       "      <th></th>\n",
       "      <th>Unnamed: 0</th>\n",
       "      <th>date_unixtime</th>\n",
       "      <th>reply</th>\n",
       "      <th>openAI-classification</th>\n",
       "    </tr>\n",
       "  </thead>\n",
       "  <tbody>\n",
       "    <tr>\n",
       "      <th>0</th>\n",
       "      <td>123</td>\n",
       "      <td>1679409924</td>\n",
       "      <td>I would ask him to explain why at the beginnin...</td>\n",
       "      <td>2</td>\n",
       "    </tr>\n",
       "  </tbody>\n",
       "</table>\n",
       "</div>"
      ],
      "text/plain": [
       "   Unnamed: 0  date_unixtime  \\\n",
       "0         123     1679409924   \n",
       "\n",
       "                                               reply openAI-classification  \n",
       "0  I would ask him to explain why at the beginnin...                     2  "
      ]
     },
     "execution_count": 85,
     "metadata": {},
     "output_type": "execute_result"
    }
   ],
   "source": [
    "newOA.head(1)"
   ]
  },
  {
   "cell_type": "code",
   "execution_count": 86,
   "id": "616ba21c-5c35-4b22-b2e4-5ec6323cf34a",
   "metadata": {},
   "outputs": [
    {
     "data": {
      "text/plain": [
       "6                                                                                                                                                                                                                                                                           75\n",
       "3                                                                                                                                                                                                                                                                           35\n",
       "2                                                                                                                                                                                                                                                                           32\n",
       "5                                                                                                                                                                                                                                                                           16\n",
       "4                                                                                                                                                                                                                                                                           12\n",
       "1                                                                                                                                                                                                                                                                            8\n",
       "6. None of the above                                                                                                                                                                                                                                                         1\n",
       "2. Messages that say the subject of the message is evil, sinful or wicked, or that they are committing heinous crimes like grooming, child abuse, animal abuse, molestation, sexual assault/rape, sex trafficking, torture, terrorism, murder, and mass murder/genocide.     1\n",
       "Name: openAI-classification, dtype: int64"
      ]
     },
     "execution_count": 86,
     "metadata": {},
     "output_type": "execute_result"
    }
   ],
   "source": [
    "newOA['openAI-classification'].value_counts()"
   ]
  },
  {
   "cell_type": "code",
   "execution_count": 89,
   "id": "ebf1fb37-e1c0-451f-a9b5-50c672d0643c",
   "metadata": {},
   "outputs": [
    {
     "data": {
      "text/plain": [
       "array(['2', '6', '3', '5', '4', '1', '6. None of the above',\n",
       "       '2. Messages that say the subject of the message is evil, sinful or wicked, or that they are committing heinous crimes like grooming, child abuse, animal abuse, molestation, sexual assault/rape, sex trafficking, torture, terrorism, murder, and mass murder/genocide.'],\n",
       "      dtype=object)"
      ]
     },
     "execution_count": 89,
     "metadata": {},
     "output_type": "execute_result"
    }
   ],
   "source": [
    "newOA['openAI-classification'].unique()"
   ]
  },
  {
   "cell_type": "code",
   "execution_count": 92,
   "id": "8b1f4739-2e8d-4a2e-8714-cf0daaf25ee3",
   "metadata": {},
   "outputs": [],
   "source": [
    "newOA['openAI-classification'] = newOA['openAI-classification'].replace(['6. None of the above'], '6')\n",
    "newOA['openAI-classification'] = newOA['openAI-classification'].replace(['2. Messages that say the subject of the message is evil, sinful or wicked, or that they are committing heinous crimes like grooming, child abuse, animal abuse, molestation, sexual assault/rape, sex trafficking, torture, terrorism, murder, and mass murder/genocide.'], '2')"
   ]
  },
  {
   "cell_type": "code",
   "execution_count": 93,
   "id": "727a4a00-84de-4693-ab75-0bf22ad28b4a",
   "metadata": {},
   "outputs": [
    {
     "data": {
      "text/plain": [
       "array(['2', '6', '3', '5', '4', '1'], dtype=object)"
      ]
     },
     "execution_count": 93,
     "metadata": {},
     "output_type": "execute_result"
    }
   ],
   "source": [
    "newOA['openAI-classification'].unique()"
   ]
  },
  {
   "cell_type": "code",
   "execution_count": 94,
   "id": "43eef37a-9f9a-4abc-a217-96484e9b0fad",
   "metadata": {},
   "outputs": [
    {
     "data": {
      "text/plain": [
       "6    76\n",
       "3    35\n",
       "2    33\n",
       "5    16\n",
       "4    12\n",
       "1     8\n",
       "Name: openAI-classification, dtype: int64"
      ]
     },
     "execution_count": 94,
     "metadata": {},
     "output_type": "execute_result"
    }
   ],
   "source": [
    "newOA['openAI-classification'].value_counts()"
   ]
  },
  {
   "cell_type": "markdown",
   "id": "99afc7ab-5090-4356-9f68-402ae172b0f8",
   "metadata": {},
   "source": [
    "## Lizzy"
   ]
  },
  {
   "cell_type": "code",
   "execution_count": 52,
   "id": "87e83ce3-e704-4ace-9dbd-13f35b0a7db4",
   "metadata": {},
   "outputs": [],
   "source": [
    "Liz=pd.read_excel(\"/home/ravi/UCF Dropbox/KAMALAKKANNAN RAVI/guyonDesktop/DATA_AutomatedHarmDetection/Annotate/Annotated180Samples_Lizzy.xlsx\")"
   ]
  },
  {
   "cell_type": "code",
   "execution_count": 53,
   "id": "ac94395a-ed75-49d7-9c66-72cd5d8d6e74",
   "metadata": {},
   "outputs": [
    {
     "data": {
      "text/html": [
       "<div>\n",
       "<style scoped>\n",
       "    .dataframe tbody tr th:only-of-type {\n",
       "        vertical-align: middle;\n",
       "    }\n",
       "\n",
       "    .dataframe tbody tr th {\n",
       "        vertical-align: top;\n",
       "    }\n",
       "\n",
       "    .dataframe thead th {\n",
       "        text-align: right;\n",
       "    }\n",
       "</style>\n",
       "<table border=\"1\" class=\"dataframe\">\n",
       "  <thead>\n",
       "    <tr style=\"text-align: right;\">\n",
       "      <th></th>\n",
       "      <th>date_unixtime</th>\n",
       "      <th>reply</th>\n",
       "      <th>Label</th>\n",
       "      <th>Label 2</th>\n",
       "      <th>Label 3</th>\n",
       "      <th>Label 4</th>\n",
       "    </tr>\n",
       "  </thead>\n",
       "  <tbody>\n",
       "    <tr>\n",
       "      <th>0</th>\n",
       "      <td>1679409924</td>\n",
       "      <td>I would ask him to explain why at the beginnin...</td>\n",
       "      <td>2</td>\n",
       "      <td>NaN</td>\n",
       "      <td>NaN</td>\n",
       "      <td>NaN</td>\n",
       "    </tr>\n",
       "  </tbody>\n",
       "</table>\n",
       "</div>"
      ],
      "text/plain": [
       "   date_unixtime                                              reply  Label  \\\n",
       "0     1679409924  I would ask him to explain why at the beginnin...      2   \n",
       "\n",
       "   Label 2  Label 3  Label 4  \n",
       "0      NaN      NaN      NaN  "
      ]
     },
     "execution_count": 53,
     "metadata": {},
     "output_type": "execute_result"
    }
   ],
   "source": [
    "Liz.head(1)"
   ]
  },
  {
   "cell_type": "code",
   "execution_count": 61,
   "id": "b19b5845-54be-4f08-b748-3bfd07b80f2f",
   "metadata": {},
   "outputs": [
    {
     "data": {
      "text/plain": [
       "6    50\n",
       "4    35\n",
       "1    29\n",
       "3    24\n",
       "5    22\n",
       "2    20\n",
       "Name: Label, dtype: int64"
      ]
     },
     "execution_count": 61,
     "metadata": {},
     "output_type": "execute_result"
    }
   ],
   "source": [
    "Liz['Label'].value_counts()"
   ]
  },
  {
   "cell_type": "markdown",
   "id": "ecdf4297-3b36-4cdc-91f5-46ddd7d27cba",
   "metadata": {
    "tags": []
   },
   "source": [
    "## Ravi"
   ]
  },
  {
   "cell_type": "code",
   "execution_count": 187,
   "id": "9031d794-cc6a-4de9-bb12-6ab3c6c653ba",
   "metadata": {},
   "outputs": [],
   "source": [
    "rav=pd.read_csv(\"/home/ravi/UCF Dropbox/KAMALAKKANNAN RAVI/guyonDesktop/DATA_AutomatedHarmDetection/Annotate/ToAnnotate180Samples_Ravi_Trial2.csv\")"
   ]
  },
  {
   "cell_type": "code",
   "execution_count": 189,
   "id": "ce918080-278e-49c2-99ca-51255d6ab15e",
   "metadata": {},
   "outputs": [
    {
     "data": {
      "text/html": [
       "<div>\n",
       "<style scoped>\n",
       "    .dataframe tbody tr th:only-of-type {\n",
       "        vertical-align: middle;\n",
       "    }\n",
       "\n",
       "    .dataframe tbody tr th {\n",
       "        vertical-align: top;\n",
       "    }\n",
       "\n",
       "    .dataframe thead th {\n",
       "        text-align: right;\n",
       "    }\n",
       "</style>\n",
       "<table border=\"1\" class=\"dataframe\">\n",
       "  <thead>\n",
       "    <tr style=\"text-align: right;\">\n",
       "      <th></th>\n",
       "      <th>Unnamed: 0</th>\n",
       "      <th>date_unixtime</th>\n",
       "      <th>reply</th>\n",
       "      <th>L0</th>\n",
       "      <th>L1</th>\n",
       "      <th>L2</th>\n",
       "      <th>L3</th>\n",
       "    </tr>\n",
       "  </thead>\n",
       "  <tbody>\n",
       "    <tr>\n",
       "      <th>0</th>\n",
       "      <td>123</td>\n",
       "      <td>1679409924</td>\n",
       "      <td>I would ask him to explain why at the beginnin...</td>\n",
       "      <td>2</td>\n",
       "      <td>NaN</td>\n",
       "      <td>NaN</td>\n",
       "      <td>NaN</td>\n",
       "    </tr>\n",
       "  </tbody>\n",
       "</table>\n",
       "</div>"
      ],
      "text/plain": [
       "   Unnamed: 0  date_unixtime  \\\n",
       "0         123     1679409924   \n",
       "\n",
       "                                               reply  L0  L1  L2  L3  \n",
       "0  I would ask him to explain why at the beginnin...   2 NaN NaN NaN  "
      ]
     },
     "execution_count": 189,
     "metadata": {},
     "output_type": "execute_result"
    }
   ],
   "source": [
    "rav.head(1)"
   ]
  },
  {
   "cell_type": "code",
   "execution_count": 191,
   "id": "c3de38d5-226b-4c0d-913a-44d882a2a963",
   "metadata": {},
   "outputs": [
    {
     "data": {
      "text/plain": [
       "0    101\n",
       "3     22\n",
       "5     19\n",
       "4     15\n",
       "1     15\n",
       "2      8\n",
       "Name: L0, dtype: int64"
      ]
     },
     "execution_count": 191,
     "metadata": {},
     "output_type": "execute_result"
    }
   ],
   "source": [
    "rav['L0'].value_counts()"
   ]
  },
  {
   "cell_type": "markdown",
   "id": "f99e661d-bea8-453b-9d70-cc5a0cba3d02",
   "metadata": {},
   "source": [
    "## Custom Weighted Kappa"
   ]
  },
  {
   "cell_type": "code",
   "execution_count": null,
   "id": "88396ba2-d19e-46ab-bcdb-66e249d0c057",
   "metadata": {},
   "outputs": [],
   "source": [
    "newOA['openAI-classification'] = newOA['openAI-classification'].replace(['6'], '0')\n",
    "Liz['Label'] = Liz['Label'].replace([6], 0)\n",
    "rav['L0'] = rav['L0'].replace([6], 0)"
   ]
  },
  {
   "cell_type": "code",
   "execution_count": 320,
   "id": "560da8de-5005-43e8-ac72-328d6abec95f",
   "metadata": {},
   "outputs": [
    {
     "name": "stdout",
     "output_type": "stream",
     "text": [
      "0.4504643962848298\n",
      "0.43366317609760785\n",
      "0.48554135843981183\n"
     ]
    }
   ],
   "source": [
    "# Define the weight matrix\n",
    "weightsLR = np.array([\n",
    "    [0, 0.2, 0.2, 0.3, 0.5, 0.5],\n",
    "    [0.2, 0, 0.1, 0.2, 0.4, 0.4],\n",
    "    [0.2, 0.1, 0, 0.2, 0.4, 0.4],\n",
    "    [0.3, 0.2, 0.2, 0, 0.2, 0.1],\n",
    "    [0.5, 0.4, 0.4, 0.2, 0, 0.3],\n",
    "    [0.5, 0.4, 0.4, 0.2, 0.3, 0]\n",
    "])\n",
    "\n",
    "def customWeightedKappa(y1, y2, weights):\n",
    "    # Calculate the confusion matrix\n",
    "    confusion = confusion_matrix(y1, y2)\n",
    "\n",
    "    # Normalize the confusion matrix to represent probabilities\n",
    "    total_ratings = np.sum(confusion)\n",
    "    confusion = confusion / total_ratings\n",
    "\n",
    "    # Compute the expected probability matrix under the assumption of independence\n",
    "    ratings_probs = np.sum(confusion, axis=1)\n",
    "    expected = np.outer(ratings_probs, ratings_probs)\n",
    "\n",
    "    # Compute the weighted Kappa score\n",
    "    kappa = 1 - np.sum(weights * confusion) / np.sum(weights * expected)\n",
    "    \n",
    "    return kappa\n",
    "\n",
    "print(customWeightedKappa(rav['L0'], newOA['openAI-classification'].astype('int64'), weights=weightsLR))\n",
    "print(customWeightedKappa(Liz['Label'], newOA['openAI-classification'].astype('int64'), weights=weightsLR))\n",
    "print(customWeightedKappa(Liz['Label'], rav['L0'], weights=weightsLR))"
   ]
  }
 ],
 "metadata": {
  "kernelspec": {
   "display_name": "Python [conda env:redditJournal] *",
   "language": "python",
   "name": "conda-env-redditJournal-py"
  },
  "language_info": {
   "codemirror_mode": {
    "name": "ipython",
    "version": 3
   },
   "file_extension": ".py",
   "mimetype": "text/x-python",
   "name": "python",
   "nbconvert_exporter": "python",
   "pygments_lexer": "ipython3",
   "version": "3.10.4"
  }
 },
 "nbformat": 4,
 "nbformat_minor": 5
}
