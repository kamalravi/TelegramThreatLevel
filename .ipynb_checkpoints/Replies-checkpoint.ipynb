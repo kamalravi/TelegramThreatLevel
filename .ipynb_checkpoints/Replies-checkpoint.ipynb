{
 "cells": [
  {
   "cell_type": "code",
   "execution_count": 1,
   "id": "3774d88c-3046-4898-9a30-f11b47bdf155",
   "metadata": {},
   "outputs": [],
   "source": [
    "import pandas as pd\n",
    "import glob\n",
    "import numpy as np\n",
    "import json\n",
    "import math"
   ]
  },
  {
   "cell_type": "markdown",
   "id": "2870335d-ea55-462d-9b5a-6a2359f6acd0",
   "metadata": {},
   "source": [
    "# combine all telegram channels"
   ]
  },
  {
   "cell_type": "code",
   "execution_count": 3,
   "id": "5cadbc94-1e3d-40c6-8256-369099c8a113",
   "metadata": {},
   "outputs": [],
   "source": [
    "json_files=glob.glob(\"/home/ravi/UCF Dropbox/KAMALAKKANNAN RAVI/guyonDesktop/DATA_AutomatedHarmDetection/allChatsReplies/*.json\")\n",
    "df = pd.concat([pd.read_json(f, orient='records') for f in json_files], ignore_index=True)"
   ]
  },
  {
   "cell_type": "code",
   "execution_count": 4,
   "id": "8364a46a-ea2a-494e-8049-0bcd7bae520e",
   "metadata": {},
   "outputs": [
    {
     "data": {
      "text/html": [
       "<div>\n",
       "<style scoped>\n",
       "    .dataframe tbody tr th:only-of-type {\n",
       "        vertical-align: middle;\n",
       "    }\n",
       "\n",
       "    .dataframe tbody tr th {\n",
       "        vertical-align: top;\n",
       "    }\n",
       "\n",
       "    .dataframe thead th {\n",
       "        text-align: right;\n",
       "    }\n",
       "</style>\n",
       "<table border=\"1\" class=\"dataframe\">\n",
       "  <thead>\n",
       "    <tr style=\"text-align: right;\">\n",
       "      <th></th>\n",
       "      <th>msgDate</th>\n",
       "      <th>msg</th>\n",
       "      <th>replyDate</th>\n",
       "      <th>reply</th>\n",
       "      <th>telegramChannel</th>\n",
       "    </tr>\n",
       "  </thead>\n",
       "  <tbody>\n",
       "    <tr>\n",
       "      <th>0</th>\n",
       "      <td>1618359936</td>\n",
       "      <td>📌A while ago, in order to unify the movement a...</td>\n",
       "      <td>1618413012</td>\n",
       "      <td>Lets Roll🇺🇸👊⚓️🔱</td>\n",
       "      <td>WhiteLivesMatter</td>\n",
       "    </tr>\n",
       "    <tr>\n",
       "      <th>1</th>\n",
       "      <td>1618360496</td>\n",
       "      <td>The group chat will open in the morning.\\n\\nIf...</td>\n",
       "      <td>1618361126</td>\n",
       "      <td>[Meanwhile, follow our new account on GAB!👇\\n\\...</td>\n",
       "      <td>WhiteLivesMatter</td>\n",
       "    </tr>\n",
       "    <tr>\n",
       "      <th>2</th>\n",
       "      <td>1618408812</td>\n",
       "      <td>📌 STATEMENTS following the events on Sunday, 1...</td>\n",
       "      <td>1618412427</td>\n",
       "      <td>Great news!</td>\n",
       "      <td>WhiteLivesMatter</td>\n",
       "    </tr>\n",
       "    <tr>\n",
       "      <th>3</th>\n",
       "      <td>1618408812</td>\n",
       "      <td>📌 STATEMENTS following the events on Sunday, 1...</td>\n",
       "      <td>1618413274</td>\n",
       "      <td>We’ve had just about enough of their nonsense....</td>\n",
       "      <td>WhiteLivesMatter</td>\n",
       "    </tr>\n",
       "    <tr>\n",
       "      <th>4</th>\n",
       "      <td>1618408812</td>\n",
       "      <td>📌 STATEMENTS following the events on Sunday, 1...</td>\n",
       "      <td>1618415570</td>\n",
       "      <td>🇺🇸🇺🇸🇺🇸</td>\n",
       "      <td>WhiteLivesMatter</td>\n",
       "    </tr>\n",
       "  </tbody>\n",
       "</table>\n",
       "</div>"
      ],
      "text/plain": [
       "      msgDate                                                msg   replyDate  \\\n",
       "0  1618359936  📌A while ago, in order to unify the movement a...  1618413012   \n",
       "1  1618360496  The group chat will open in the morning.\\n\\nIf...  1618361126   \n",
       "2  1618408812  📌 STATEMENTS following the events on Sunday, 1...  1618412427   \n",
       "3  1618408812  📌 STATEMENTS following the events on Sunday, 1...  1618413274   \n",
       "4  1618408812  📌 STATEMENTS following the events on Sunday, 1...  1618415570   \n",
       "\n",
       "                                               reply   telegramChannel  \n",
       "0                                    Lets Roll🇺🇸👊⚓️🔱  WhiteLivesMatter  \n",
       "1  [Meanwhile, follow our new account on GAB!👇\\n\\...  WhiteLivesMatter  \n",
       "2                                        Great news!  WhiteLivesMatter  \n",
       "3  We’ve had just about enough of their nonsense....  WhiteLivesMatter  \n",
       "4                                             🇺🇸🇺🇸🇺🇸  WhiteLivesMatter  "
      ]
     },
     "execution_count": 4,
     "metadata": {},
     "output_type": "execute_result"
    }
   ],
   "source": [
    "df.head(5)"
   ]
  },
  {
   "cell_type": "code",
   "execution_count": 5,
   "id": "0a202932-8a4d-4946-888d-a8d435275d21",
   "metadata": {},
   "outputs": [],
   "source": [
    "df.to_json(\"/home/ravi/UCF Dropbox/KAMALAKKANNAN RAVI/guyonDesktop/DATA_AutomatedHarmDetection/allChatsReplies.json\", orient='records')"
   ]
  },
  {
   "cell_type": "code",
   "execution_count": 7,
   "id": "05dc55ca-acc2-47a8-855d-c6175150378d",
   "metadata": {},
   "outputs": [
    {
     "data": {
      "text/plain": [
       "(1379171, 5)"
      ]
     },
     "execution_count": 7,
     "metadata": {},
     "output_type": "execute_result"
    }
   ],
   "source": [
    "df.shape"
   ]
  },
  {
   "cell_type": "markdown",
   "id": "7d0348ae-de02-45ea-992b-5effc413e5c5",
   "metadata": {},
   "source": [
    "## filter URLs, then empty replies"
   ]
  },
  {
   "cell_type": "code",
   "execution_count": 10,
   "id": "db79947d-7202-46d8-9451-a88d2a1ff2c5",
   "metadata": {},
   "outputs": [],
   "source": [
    "df = pd.read_json(\"/home/ravi/UCF Dropbox/KAMALAKKANNAN RAVI/guyonDesktop/DATA_AutomatedHarmDetection/allChatsReplies.json\", orient='records')"
   ]
  },
  {
   "cell_type": "code",
   "execution_count": 11,
   "id": "a4c7c77b-12a5-4209-95a8-43799644c75c",
   "metadata": {},
   "outputs": [
    {
     "data": {
      "text/plain": [
       "(1379171, 5)"
      ]
     },
     "execution_count": 11,
     "metadata": {},
     "output_type": "execute_result"
    }
   ],
   "source": [
    "df.shape"
   ]
  },
  {
   "cell_type": "code",
   "execution_count": 12,
   "id": "9ce58fbe-4c0f-4dd7-9e7f-2d36d3b68727",
   "metadata": {},
   "outputs": [],
   "source": [
    "# Remove URLs from 'reply' column\n",
    "df['reply'] = df['reply'].str.replace(r'http\\S+|www.\\S+', '', regex=True)\n",
    "# Remove rows with empty or NaN values \n",
    "df = df.dropna(subset=['reply'])\n",
    "# Remove URLs from 'msg' column\n",
    "df['msg'] = df['msg'].str.replace(r'http\\S+|www.\\S+', '', regex=True)\n",
    "# Remove rows with empty or NaN values \n",
    "df = df.dropna(subset=['msg'])"
   ]
  },
  {
   "cell_type": "code",
   "execution_count": 14,
   "id": "1d67e08d-3592-4446-8c9b-3eab38983348",
   "metadata": {},
   "outputs": [],
   "source": [
    "df.to_json(\"/home/ravi/UCF Dropbox/KAMALAKKANNAN RAVI/guyonDesktop/DATA_AutomatedHarmDetection/allChatsRepliesFilteredUrlNaN.json\", orient='records')"
   ]
  },
  {
   "cell_type": "code",
   "execution_count": 13,
   "id": "551e15f3-33b8-4013-97d0-8d569eed290e",
   "metadata": {},
   "outputs": [
    {
     "data": {
      "text/plain": [
       "(1355147, 5)"
      ]
     },
     "execution_count": 13,
     "metadata": {},
     "output_type": "execute_result"
    }
   ],
   "source": [
    "df.shape"
   ]
  },
  {
   "cell_type": "markdown",
   "id": "2b30eb0a-f7a3-4d59-afa1-b95a2ff3a966",
   "metadata": {},
   "source": [
    "## Timeline plot RAW data"
   ]
  },
  {
   "cell_type": "code",
   "execution_count": 42,
   "id": "f84ccbce-6440-4843-9b22-d864d1366422",
   "metadata": {},
   "outputs": [],
   "source": [
    "df = pd.read_json(\"/home/ravi/UCF Dropbox/KAMALAKKANNAN RAVI/guyonDesktop/DATA_AutomatedHarmDetection/allChatsRepliesFilteredUrlNaN.json\", orient='records')"
   ]
  },
  {
   "cell_type": "code",
   "execution_count": 45,
   "id": "d23fdd73-a282-4850-81af-d623ff02a1b3",
   "metadata": {},
   "outputs": [
    {
     "name": "stdout",
     "output_type": "stream",
     "text": [
      "(805, 3)\n"
     ]
    },
    {
     "data": {
      "image/png": "[encoded data removed]",
      "text/plain": [
       "<Figure size 252x180 with 1 Axes>"
      ]
     },
     "metadata": {
      "needs_background": "light"
     },
     "output_type": "display_data"
    }
   ],
   "source": [
    "import pandas as pd\n",
    "import numpy as np\n",
    "import matplotlib.pyplot as plt\n",
    "from scipy.signal import savgol_filter\n",
    "\n",
    "# Convert date columns to datetime\n",
    "df['msgDate'] = pd.to_datetime(df['msgDate'], unit='s')\n",
    "df['replyDate'] = pd.to_datetime(df['replyDate'], unit='s')\n",
    "\n",
    "# Extract the day from the 'msgDate' column\n",
    "df['msgDay'] = df['msgDate'].dt.date\n",
    "\n",
    "# Group by 'msgDay' and calculate counts\n",
    "grouped = df.groupby('msgDay').agg({'msg': 'nunique', 'reply': 'count'})\n",
    "\n",
    "# Calculate the ratio of replies to unique messages\n",
    "grouped['ratio'] = grouped['reply'] / grouped['msg']\n",
    "\n",
    "print(grouped.shape)\n",
    "\n",
    "# Apply Savitzky-Golay filter to the 'ratio' column\n",
    "window_length = 51\n",
    "polyorder = 1\n",
    "grouped['smooth_ratio'] = savgol_filter(grouped['ratio'], window_length, polyorder)\n",
    "\n",
    "# Plot the ratio\n",
    "plt.figure(figsize=(3.5, 2.5))\n",
    "plt.plot(grouped.index, grouped['smooth_ratio'])\n",
    "plt.xlabel('Day')\n",
    "plt.ylabel('Replies/unique messages')\n",
    "# plt.title('Ratio of Replies to Unique Messages by Day')\n",
    "plt.xticks(rotation=45)\n",
    "\n",
    "plt.savefig('/home/ravi/UCF Dropbox/KAMALAKKANNAN RAVI/guyonDesktop/DATA_AutomatedHarmDetection/allChatsRepliesFilteredUrlNaN_msgByreplyRatioVDay.png', format='png', dpi=1200, bbox_inches='tight')\n",
    "\n",
    "plt.show()"
   ]
  },
  {
   "cell_type": "code",
   "execution_count": 49,
   "id": "a56f00eb-2415-4af2-9290-28386cc151b5",
   "metadata": {},
   "outputs": [
    {
     "data": {
      "text/plain": [
       "(            msg  reply  ratio  smooth_ratio\n",
       " msgDay                                     \n",
       " 2021-01-24    1     25   25.0     13.775714,\n",
       "             msg  reply     ratio  smooth_ratio\n",
       " msgDay                                        \n",
       " 2023-04-08   22    161  7.318182     16.145378)"
      ]
     },
     "execution_count": 49,
     "metadata": {},
     "output_type": "execute_result"
    }
   ],
   "source": [
    "grouped.head(1), grouped.tail(1)"
   ]
  },
  {
   "cell_type": "markdown",
   "id": "6121c2c0-5629-44d0-b55e-5c88f388355f",
   "metadata": {},
   "source": [
    "## Timeline plot for each channel"
   ]
  },
  {
   "cell_type": "code",
   "execution_count": null,
   "id": "e1dc6550-5806-4f2f-b5a2-16dcbd465483",
   "metadata": {},
   "outputs": [
    {
     "data": {
      "image/png": "[encoded data removed]",
      "text/plain": [
       "<Figure size 504x360 with 1 Axes>"
      ]
     },
     "metadata": {
      "needs_background": "light"
     },
     "output_type": "display_data"
    }
   ],
   "source": [
    "import pandas as pd\n",
    "import matplotlib.pyplot as plt\n",
    "from scipy.signal import savgol_filter\n",
    "from matplotlib.ticker import MultipleLocator\n",
    "\n",
    "chats = ['absoluteTruth1776', 'AlexJones', 'AlexjonesInfoWars', 'DonaldTrumpJr', 'FreedomFighters',\n",
    "         'InfoWars.com', 'PrayingMedic', 'RTM', 'ThePatriotVoice', 'TheTrumpRepublicans',\n",
    "         'TrumpSupportersChannel', 'WeTheMedia', 'WhiteLivesMatter']\n",
    "\n",
    "data = pd.read_json(\"/home/ravi/UCF Dropbox/KAMALAKKANNAN RAVI/guyonDesktop/DATA_AutomatedHarmDetection/allChatsRepliesFilteredUrlNaN.json\", orient='records')\n",
    "\n",
    "plt.figure(figsize=(7, 5))\n",
    "\n",
    "# Custom color palette\n",
    "colors = ['#FF0000', '#00FF00', '#0000FF', '#FF00FF', '#00FFFF', '#FFFF00',\n",
    "          '#FF8000', '#8000FF', '#00FF80', '#FF0080', '#0080FF', '#80FF00', '#800000']\n",
    "\n",
    "\n",
    "for idx, name in enumerate(chats):\n",
    "    df = data.copy()\n",
    "    df = df[df['telegramChannel'] == name]\n",
    "    df['msgDate'] = pd.to_datetime(df['msgDate'], unit='s')\n",
    "    df['replyDate'] = pd.to_datetime(df['replyDate'], unit='s')\n",
    "    df['msgDay'] = df['msgDate'].dt.date\n",
    "    grouped = df.groupby('msgDay').agg({'msg': 'nunique', 'reply': 'count'})\n",
    "    grouped['ratio'] = grouped['reply'] / grouped['msg']\n",
    "    \n",
    "    window_length = 51\n",
    "    polyorder = 1\n",
    "    if len(grouped) >= window_length:\n",
    "        grouped['smooth_ratio'] = savgol_filter(grouped['ratio'], window_length, polyorder)\n",
    "    else:\n",
    "        grouped['smooth_ratio'] = grouped['ratio']\n",
    "    \n",
    "    plt.plot(grouped.index, grouped['smooth_ratio'], label=name, color=colors[idx], linewidth=1)\n",
    "    \n",
    "plt.xlabel('Day')\n",
    "plt.ylabel('Ratio (replies/unique messages)')\n",
    "plt.xticks(rotation=45)\n",
    "\n",
    "# Add micro grid\n",
    "plt.gca().xaxis.set_minor_locator(MultipleLocator(1))\n",
    "\n",
    "# Place the legend below the x-label at the bottom\n",
    "plt.legend(loc='center left', bbox_to_anchor=(1, 0.5), ncol=1, fontsize='small')\n",
    "\n",
    "plt.yscale('log')\n",
    "\n",
    "plt.tight_layout()\n",
    "\n",
    "plt.savefig('/home/ravi/UCF Dropbox/KAMALAKKANNAN RAVI/guyonDesktop/DATA_AutomatedHarmDetection/allChatsReplies1Plot_FilteredUrlNaN_msgByreplyRatioVDay.png', format='png', dpi=1200, bbox_inches='tight')\n",
    "    \n",
    "plt.show()"
   ]
  },
  {
   "cell_type": "code",
   "execution_count": 56,
   "id": "78156e5e-d4e8-4bb2-866b-1d61149494d6",
   "metadata": {},
   "outputs": [
    {
     "name": "stdout",
     "output_type": "stream",
     "text": [
      "1 absoluteTruth1776\n",
      "(114, 3)\n"
     ]
    },
    {
     "data": {
      "image/png": "[encoded data removed]",
      "text/plain": [
       "<Figure size 360x216 with 1 Axes>"
      ]
     },
     "metadata": {
      "needs_background": "light"
     },
     "output_type": "display_data"
    },
    {
     "name": "stdout",
     "output_type": "stream",
     "text": [
      "2 AlexJones\n",
      "(295, 3)\n"
     ]
    },
    {
     "data": {
      "image/png": "[encoded data removed]",
      "text/plain": [
       "<Figure size 360x216 with 1 Axes>"
      ]
     },
     "metadata": {
      "needs_background": "light"
     },
     "output_type": "display_data"
    },
    {
     "name": "stdout",
     "output_type": "stream",
     "text": [
      "3 AlexjonesInfoWars\n",
      "(54, 3)\n"
     ]
    },
    {
     "data": {
      "image/png": "[encoded data removed]",
      "text/plain": [
       "<Figure size 360x216 with 1 Axes>"
      ]
     },
     "metadata": {
      "needs_background": "light"
     },
     "output_type": "display_data"
    },
    {
     "name": "stdout",
     "output_type": "stream",
     "text": [
      "4 DonaldTrumpJr\n",
      "(235, 3)\n"
     ]
    },
    {
     "data": {
      "image/png": "[encoded data removed]",
      "text/plain": [
       "<Figure size 360x216 with 1 Axes>"
      ]
     },
     "metadata": {
      "needs_background": "light"
     },
     "output_type": "display_data"
    },
    {
     "name": "stdout",
     "output_type": "stream",
     "text": [
      "5 FreedomFighters\n",
      "(284, 3)\n"
     ]
    },
    {
     "data": {
      "image/png": "[encoded data removed]",
      "text/plain": [
       "<Figure size 360x216 with 1 Axes>"
      ]
     },
     "metadata": {
      "needs_background": "light"
     },
     "output_type": "display_data"
    },
    {
     "name": "stdout",
     "output_type": "stream",
     "text": [
      "6 InfoWars.com\n",
      "(288, 3)\n"
     ]
    },
    {
     "data": {
      "image/png": "[encoded data removed]",
      "text/plain": [
       "<Figure size 360x216 with 1 Axes>"
      ]
     },
     "metadata": {
      "needs_background": "light"
     },
     "output_type": "display_data"
    },
    {
     "name": "stdout",
     "output_type": "stream",
     "text": [
      "7 PrayingMedic\n",
      "(549, 3)\n"
     ]
    },
    {
     "data": {
      "image/png": "[encoded data removed]",
      "text/plain": [
       "<Figure size 360x216 with 1 Axes>"
      ]
     },
     "metadata": {
      "needs_background": "light"
     },
     "output_type": "display_data"
    },
    {
     "name": "stdout",
     "output_type": "stream",
     "text": [
      "8 RTM\n",
      "(217, 3)\n"
     ]
    },
    {
     "data": {
      "image/png": "[encoded data removed]",
      "text/plain": [
       "<Figure size 360x216 with 1 Axes>"
      ]
     },
     "metadata": {
      "needs_background": "light"
     },
     "output_type": "display_data"
    },
    {
     "name": "stdout",
     "output_type": "stream",
     "text": [
      "9 ThePatriotVoice\n",
      "(456, 3)\n"
     ]
    },
    {
     "data": {
      "image/png": "[encoded data removed]",
      "text/plain": [
       "<Figure size 360x216 with 1 Axes>"
      ]
     },
     "metadata": {
      "needs_background": "light"
     },
     "output_type": "display_data"
    },
    {
     "name": "stdout",
     "output_type": "stream",
     "text": [
      "10 TheTrumpRepublicans\n",
      "(681, 3)\n"
     ]
    },
    {
     "data": {
      "image/png": "[encoded data removed]",
      "text/plain": [
       "<Figure size 360x216 with 1 Axes>"
      ]
     },
     "metadata": {
      "needs_background": "light"
     },
     "output_type": "display_data"
    },
    {
     "name": "stdout",
     "output_type": "stream",
     "text": [
      "11 TrumpSupportersChannel\n",
      "(447, 3)\n"
     ]
    },
    {
     "data": {
      "image/png": "[encoded data removed]",
      "text/plain": [
       "<Figure size 360x216 with 1 Axes>"
      ]
     },
     "metadata": {
      "needs_background": "light"
     },
     "output_type": "display_data"
    },
    {
     "name": "stdout",
     "output_type": "stream",
     "text": [
      "12 WeTheMedia\n",
      "(218, 3)\n"
     ]
    },
    {
     "data": {
      "image/png": "[encoded data removed]",
      "text/plain": [
       "<Figure size 360x216 with 1 Axes>"
      ]
     },
     "metadata": {
      "needs_background": "light"
     },
     "output_type": "display_data"
    },
    {
     "name": "stdout",
     "output_type": "stream",
     "text": [
      "13 WhiteLivesMatter\n",
      "(2, 3)\n"
     ]
    },
    {
     "data": {
      "image/png": "[encoded data removed]",
      "text/plain": [
       "<Figure size 360x216 with 1 Axes>"
      ]
     },
     "metadata": {
      "needs_background": "light"
     },
     "output_type": "display_data"
    }
   ],
   "source": [
    "chats = ['absoluteTruth1776', 'AlexJones', 'AlexjonesInfoWars', 'DonaldTrumpJr', 'FreedomFighters',\n",
    "         'InfoWars.com', 'PrayingMedic', 'RTM', 'ThePatriotVoice','TheTrumpRepublicans', \n",
    "         'TrumpSupportersChannel', 'WeTheMedia', 'WhiteLivesMatter']\n",
    "# chats = ['InfoWars.com']\n",
    "\n",
    "data = pd.read_json(\"/home/ravi/UCF Dropbox/KAMALAKKANNAN RAVI/guyonDesktop/DATA_AutomatedHarmDetection/allChatsRepliesFilteredUrlNaN.json\", orient='records')\n",
    "\n",
    "# chats = df['telegramChannel'].unique()\n",
    "\n",
    "# print(chats)\n",
    "\n",
    "for idx, name in enumerate(chats):\n",
    "    \n",
    "    print(idx+1,name)\n",
    "    \n",
    "    df = data.copy()\n",
    "\n",
    "    df = df[df['telegramChannel']==name]\n",
    "    # Convert date columns to datetime\n",
    "    df['msgDate'] = pd.to_datetime(df['msgDate'], unit='s')\n",
    "    df['replyDate'] = pd.to_datetime(df['replyDate'], unit='s')\n",
    "\n",
    "    # Extract the day from the 'msgDate' column\n",
    "    df['msgDay'] = df['msgDate'].dt.date\n",
    "\n",
    "    # Group by 'msgDay' and calculate counts\n",
    "    grouped = df.groupby('msgDay').agg({'msg': 'nunique', 'reply': 'count'})\n",
    "\n",
    "    # Calculate the ratio of replies to unique messages\n",
    "    grouped['ratio'] = grouped['reply'] / grouped['msg']\n",
    "\n",
    "    print(grouped.shape)\n",
    "\n",
    "    # Apply Savitzky-Golay filter to the 'ratio' column\n",
    "    window_length = 51\n",
    "    polyorder = 3\n",
    "    if len(grouped) >= window_length:\n",
    "        grouped['smooth_ratio'] = savgol_filter(grouped['ratio'], window_length, polyorder)\n",
    "    else:\n",
    "        grouped['smooth_ratio'] = grouped['ratio']\n",
    "\n",
    "    # Plot the ratio\n",
    "    plt.figure(figsize=(5, 3))\n",
    "    plt.plot(grouped.index, grouped['smooth_ratio'])\n",
    "    plt.xlabel('Day')\n",
    "    plt.ylabel('Ratio (replies/unique messages)')\n",
    "    # plt.title('Ratio of Replies to Unique Messages by Day')\n",
    "    plt.xticks(rotation=45)\n",
    "\n",
    "    plt.savefig('/home/ravi/UCF Dropbox/KAMALAKKANNAN RAVI/guyonDesktop/DATA_AutomatedHarmDetection/allChatsReplies/'+name+'_FilteredUrlNaN_msgByreplyRatioVDay.png', format='png', dpi=1200, bbox_inches='tight')\n",
    "\n",
    "    plt.show()\n",
    "    \n",
    "    # break"
   ]
  },
  {
   "cell_type": "markdown",
   "id": "7acda5df-200e-445f-bdda-40375d28a061",
   "metadata": {},
   "source": [
    "## count of each channel"
   ]
  },
  {
   "cell_type": "code",
   "execution_count": 41,
   "id": "6ee47331-e4f6-43dd-91a0-b6e784bee89e",
   "metadata": {},
   "outputs": [
    {
     "name": "stdout",
     "output_type": "stream",
     "text": [
      "(1355147, 5)\n",
      "1816\n",
      "1676\n",
      "64\n",
      "3344\n",
      "2460\n",
      "4083\n",
      "9683\n",
      "5593\n",
      "20114\n",
      "6891\n",
      "1531\n",
      "8263\n",
      "29\n",
      "all_msg_count:65547\n"
     ]
    }
   ],
   "source": [
    "chats = ['absoluteTruth1776', 'AlexJones', 'AlexjonesInfoWars', 'DonaldTrumpJr', 'FreedomFighters',\n",
    "         'InfoWars.com', 'PrayingMedic', 'RTM', 'ThePatriotVoice','TheTrumpRepublicans', \n",
    "         'TrumpSupportersChannel', 'WeTheMedia', 'WhiteLivesMatter']\n",
    "\n",
    "data = pd.read_json(\"/home/ravi/UCF Dropbox/KAMALAKKANNAN RAVI/guyonDesktop/DATA_AutomatedHarmDetection/allChatsRepliesFilteredUrlNaN.json\", orient='records')\n",
    "\n",
    "print(data.shape)\n",
    "\n",
    "all_replies_count = 0\n",
    "all_msg_count = 0\n",
    "\n",
    "for idx, name in enumerate(chats):\n",
    "    # print(name)\n",
    "    df = data.copy()\n",
    "\n",
    "    df = df[df['telegramChannel']==name]\n",
    "    \n",
    "    # uniq replies\n",
    "    # print(df.shape[0])\n",
    "\n",
    "    # uniq messages\n",
    "    print(df['msg'].unique().shape[0])\n",
    "    \n",
    "    all_replies_count+=df.shape[0]\n",
    "    all_msg_count+=df['msg'].unique().shape[0]\n",
    "    \n",
    "# print(\"all_replies_count:{}\".format(all_replies_count))\n",
    "print(\"all_msg_count:{}\".format(all_msg_count))"
   ]
  },
  {
   "cell_type": "markdown",
   "id": "49b5e589-fd51-4dde-b7ca-32dc45213f90",
   "metadata": {},
   "source": [
    "## word stat"
   ]
  },
  {
   "cell_type": "code",
   "execution_count": 2,
   "id": "51510b53-23b7-4211-b6ec-431860cc9183",
   "metadata": {},
   "outputs": [
    {
     "name": "stdout",
     "output_type": "stream",
     "text": [
      "(1355147, 5)\n"
     ]
    }
   ],
   "source": [
    "data = pd.read_json(\"/home/ravi/UCF Dropbox/KAMALAKKANNAN RAVI/guyonDesktop/DATA_AutomatedHarmDetection/allChatsRepliesFilteredUrlNaN.json\", orient='records')\n",
    "\n",
    "print(data.shape)"
   ]
  },
  {
   "cell_type": "code",
   "execution_count": 4,
   "id": "28945939-3266-4982-b921-f46ca1455e67",
   "metadata": {},
   "outputs": [
    {
     "name": "stderr",
     "output_type": "stream",
     "text": [
      "[nltk_data] Downloading package punkt to /home/ravi/nltk_data...\n",
      "[nltk_data]   Package punkt is already up-to-date!\n"
     ]
    },
    {
     "name": "stdout",
     "output_type": "stream",
     "text": [
      "count    1.355147e+06\n",
      "mean     2.407851e+00\n",
      "std      3.704864e+00\n",
      "min      0.000000e+00\n",
      "25%      1.000000e+00\n",
      "50%      1.000000e+00\n",
      "75%      3.000000e+00\n",
      "max      1.330000e+02\n",
      "Name: totalsentences, dtype: float64\n",
      "count    1.355147e+06\n",
      "mean     1.666382e+00\n",
      "std      1.602033e+00\n",
      "min      0.000000e+00\n",
      "25%      1.000000e+00\n",
      "50%      1.000000e+00\n",
      "75%      2.000000e+00\n",
      "max      1.030000e+02\n",
      "Name: totalsentences, dtype: float64\n"
     ]
    }
   ],
   "source": [
    "# get stats on sentences and words\n",
    "import nltk\n",
    "nltk.download('punkt')\n",
    "from nltk.tokenize import sent_tokenize\n",
    "\n",
    "msgData = data.copy()\n",
    "msgData['totalsentences'] = msgData['msg'].apply(sent_tokenize).tolist()\n",
    "msgData['totalsentences'] = msgData['totalsentences'].apply(len)\n",
    "print(msgData['totalsentences'].describe())\n",
    "\n",
    "replyData = data.copy()\n",
    "replyData['totalsentences'] = replyData['reply'].apply(sent_tokenize).tolist()\n",
    "replyData['totalsentences'] = replyData['totalsentences'].apply(len)\n",
    "print(replyData['totalsentences'].describe())"
   ]
  },
  {
   "cell_type": "code",
   "execution_count": 5,
   "id": "417ee8f4-d104-4dee-ac77-b17f82d324cf",
   "metadata": {},
   "outputs": [
    {
     "name": "stderr",
     "output_type": "stream",
     "text": [
      "[nltk_data] Downloading package punkt to /home/ravi/nltk_data...\n",
      "[nltk_data]   Package punkt is already up-to-date!\n"
     ]
    },
    {
     "name": "stdout",
     "output_type": "stream",
     "text": [
      "count    1.355147e+06\n",
      "mean     6.975156e+01\n",
      "std      1.593763e+02\n",
      "min      0.000000e+00\n",
      "25%      1.100000e+01\n",
      "50%      1.900000e+01\n",
      "75%      5.800000e+01\n",
      "max      3.473000e+03\n",
      "Name: totalwords, dtype: float64\n",
      "count    1.355147e+06\n",
      "mean     1.607524e+01\n",
      "std      2.576546e+01\n",
      "min      0.000000e+00\n",
      "25%      4.000000e+00\n",
      "50%      9.000000e+00\n",
      "75%      1.900000e+01\n",
      "max      9.770000e+02\n",
      "Name: totalwords, dtype: float64\n"
     ]
    }
   ],
   "source": [
    "# get stats on sentences and words\n",
    "import nltk\n",
    "nltk.download('punkt')\n",
    "from nltk.tokenize import word_tokenize\n",
    "\n",
    "msgData = data.copy()\n",
    "msgData['totalwords'] = msgData['msg'].apply(word_tokenize).tolist()\n",
    "msgData['totalwords'] = msgData['totalwords'].apply(len)\n",
    "print(msgData['totalwords'].describe())\n",
    "\n",
    "replyData = data.copy()\n",
    "replyData['totalwords'] = replyData['reply'].apply(word_tokenize).tolist()\n",
    "replyData['totalwords'] = replyData['totalwords'].apply(len)\n",
    "print(replyData['totalwords'].describe())"
   ]
  },
  {
   "cell_type": "markdown",
   "id": "487d3776-6623-4a2d-b2e4-1e15e26e8bac",
   "metadata": {},
   "source": [
    "## filter using tf sentiment"
   ]
  },
  {
   "cell_type": "code",
   "execution_count": 15,
   "id": "9ee54b3e-7b68-4608-982f-7da89803726c",
   "metadata": {},
   "outputs": [],
   "source": [
    "from transformersSentiment import gettfSentiments\n",
    "import pandas as pd\n",
    "import glob"
   ]
  },
  {
   "cell_type": "code",
   "execution_count": 26,
   "id": "5d23694d-c4bf-42e1-8aeb-d7a6dd87d5e9",
   "metadata": {},
   "outputs": [
    {
     "name": "stderr",
     "output_type": "stream",
     "text": [
      "/tmp/ipykernel_23314/1521149639.py:15: SettingWithCopyWarning: \n",
      "A value is trying to be set on a copy of a slice from a DataFrame.\n",
      "Try using .loc[row_indexer,col_indexer] = value instead\n",
      "\n",
      "See the caveats in the documentation: https://pandas.pydata.org/pandas-docs/stable/user_guide/indexing.html#returning-a-view-versus-a-copy\n",
      "  result['channel']=str.split(file.split(\"/\")[-1], '_')[0]\n",
      "/tmp/ipykernel_23314/1521149639.py:16: SettingWithCopyWarning: \n",
      "A value is trying to be set on a copy of a slice from a DataFrame.\n",
      "Try using .loc[row_indexer,col_indexer] = value instead\n",
      "\n",
      "See the caveats in the documentation: https://pandas.pydata.org/pandas-docs/stable/user_guide/indexing.html#returning-a-view-versus-a-copy\n",
      "  result['num_words'] = result['reply'].apply(lambda x: len(x.split()))\n",
      "/tmp/ipykernel_23314/1521149639.py:15: SettingWithCopyWarning: \n",
      "A value is trying to be set on a copy of a slice from a DataFrame.\n",
      "Try using .loc[row_indexer,col_indexer] = value instead\n",
      "\n",
      "See the caveats in the documentation: https://pandas.pydata.org/pandas-docs/stable/user_guide/indexing.html#returning-a-view-versus-a-copy\n",
      "  result['channel']=str.split(file.split(\"/\")[-1], '_')[0]\n",
      "/tmp/ipykernel_23314/1521149639.py:16: SettingWithCopyWarning: \n",
      "A value is trying to be set on a copy of a slice from a DataFrame.\n",
      "Try using .loc[row_indexer,col_indexer] = value instead\n",
      "\n",
      "See the caveats in the documentation: https://pandas.pydata.org/pandas-docs/stable/user_guide/indexing.html#returning-a-view-versus-a-copy\n",
      "  result['num_words'] = result['reply'].apply(lambda x: len(x.split()))\n",
      "/tmp/ipykernel_23314/1521149639.py:15: SettingWithCopyWarning: \n",
      "A value is trying to be set on a copy of a slice from a DataFrame.\n",
      "Try using .loc[row_indexer,col_indexer] = value instead\n",
      "\n",
      "See the caveats in the documentation: https://pandas.pydata.org/pandas-docs/stable/user_guide/indexing.html#returning-a-view-versus-a-copy\n",
      "  result['channel']=str.split(file.split(\"/\")[-1], '_')[0]\n",
      "/tmp/ipykernel_23314/1521149639.py:16: SettingWithCopyWarning: \n",
      "A value is trying to be set on a copy of a slice from a DataFrame.\n",
      "Try using .loc[row_indexer,col_indexer] = value instead\n",
      "\n",
      "See the caveats in the documentation: https://pandas.pydata.org/pandas-docs/stable/user_guide/indexing.html#returning-a-view-versus-a-copy\n",
      "  result['num_words'] = result['reply'].apply(lambda x: len(x.split()))\n",
      "/tmp/ipykernel_23314/1521149639.py:15: SettingWithCopyWarning: \n",
      "A value is trying to be set on a copy of a slice from a DataFrame.\n",
      "Try using .loc[row_indexer,col_indexer] = value instead\n",
      "\n",
      "See the caveats in the documentation: https://pandas.pydata.org/pandas-docs/stable/user_guide/indexing.html#returning-a-view-versus-a-copy\n",
      "  result['channel']=str.split(file.split(\"/\")[-1], '_')[0]\n",
      "/tmp/ipykernel_23314/1521149639.py:16: SettingWithCopyWarning: \n",
      "A value is trying to be set on a copy of a slice from a DataFrame.\n",
      "Try using .loc[row_indexer,col_indexer] = value instead\n",
      "\n",
      "See the caveats in the documentation: https://pandas.pydata.org/pandas-docs/stable/user_guide/indexing.html#returning-a-view-versus-a-copy\n",
      "  result['num_words'] = result['reply'].apply(lambda x: len(x.split()))\n",
      "/tmp/ipykernel_23314/1521149639.py:15: SettingWithCopyWarning: \n",
      "A value is trying to be set on a copy of a slice from a DataFrame.\n",
      "Try using .loc[row_indexer,col_indexer] = value instead\n",
      "\n",
      "See the caveats in the documentation: https://pandas.pydata.org/pandas-docs/stable/user_guide/indexing.html#returning-a-view-versus-a-copy\n",
      "  result['channel']=str.split(file.split(\"/\")[-1], '_')[0]\n",
      "/tmp/ipykernel_23314/1521149639.py:16: SettingWithCopyWarning: \n",
      "A value is trying to be set on a copy of a slice from a DataFrame.\n",
      "Try using .loc[row_indexer,col_indexer] = value instead\n",
      "\n",
      "See the caveats in the documentation: https://pandas.pydata.org/pandas-docs/stable/user_guide/indexing.html#returning-a-view-versus-a-copy\n",
      "  result['num_words'] = result['reply'].apply(lambda x: len(x.split()))\n",
      "/tmp/ipykernel_23314/1521149639.py:15: SettingWithCopyWarning: \n",
      "A value is trying to be set on a copy of a slice from a DataFrame.\n",
      "Try using .loc[row_indexer,col_indexer] = value instead\n",
      "\n",
      "See the caveats in the documentation: https://pandas.pydata.org/pandas-docs/stable/user_guide/indexing.html#returning-a-view-versus-a-copy\n",
      "  result['channel']=str.split(file.split(\"/\")[-1], '_')[0]\n",
      "/tmp/ipykernel_23314/1521149639.py:16: SettingWithCopyWarning: \n",
      "A value is trying to be set on a copy of a slice from a DataFrame.\n",
      "Try using .loc[row_indexer,col_indexer] = value instead\n",
      "\n",
      "See the caveats in the documentation: https://pandas.pydata.org/pandas-docs/stable/user_guide/indexing.html#returning-a-view-versus-a-copy\n",
      "  result['num_words'] = result['reply'].apply(lambda x: len(x.split()))\n",
      "/tmp/ipykernel_23314/1521149639.py:15: SettingWithCopyWarning: \n",
      "A value is trying to be set on a copy of a slice from a DataFrame.\n",
      "Try using .loc[row_indexer,col_indexer] = value instead\n",
      "\n",
      "See the caveats in the documentation: https://pandas.pydata.org/pandas-docs/stable/user_guide/indexing.html#returning-a-view-versus-a-copy\n",
      "  result['channel']=str.split(file.split(\"/\")[-1], '_')[0]\n",
      "/tmp/ipykernel_23314/1521149639.py:16: SettingWithCopyWarning: \n",
      "A value is trying to be set on a copy of a slice from a DataFrame.\n",
      "Try using .loc[row_indexer,col_indexer] = value instead\n",
      "\n",
      "See the caveats in the documentation: https://pandas.pydata.org/pandas-docs/stable/user_guide/indexing.html#returning-a-view-versus-a-copy\n",
      "  result['num_words'] = result['reply'].apply(lambda x: len(x.split()))\n",
      "/tmp/ipykernel_23314/1521149639.py:15: SettingWithCopyWarning: \n",
      "A value is trying to be set on a copy of a slice from a DataFrame.\n",
      "Try using .loc[row_indexer,col_indexer] = value instead\n",
      "\n",
      "See the caveats in the documentation: https://pandas.pydata.org/pandas-docs/stable/user_guide/indexing.html#returning-a-view-versus-a-copy\n",
      "  result['channel']=str.split(file.split(\"/\")[-1], '_')[0]\n",
      "/tmp/ipykernel_23314/1521149639.py:16: SettingWithCopyWarning: \n",
      "A value is trying to be set on a copy of a slice from a DataFrame.\n",
      "Try using .loc[row_indexer,col_indexer] = value instead\n",
      "\n",
      "See the caveats in the documentation: https://pandas.pydata.org/pandas-docs/stable/user_guide/indexing.html#returning-a-view-versus-a-copy\n",
      "  result['num_words'] = result['reply'].apply(lambda x: len(x.split()))\n",
      "/tmp/ipykernel_23314/1521149639.py:15: SettingWithCopyWarning: \n",
      "A value is trying to be set on a copy of a slice from a DataFrame.\n",
      "Try using .loc[row_indexer,col_indexer] = value instead\n",
      "\n",
      "See the caveats in the documentation: https://pandas.pydata.org/pandas-docs/stable/user_guide/indexing.html#returning-a-view-versus-a-copy\n",
      "  result['channel']=str.split(file.split(\"/\")[-1], '_')[0]\n",
      "/tmp/ipykernel_23314/1521149639.py:16: SettingWithCopyWarning: \n",
      "A value is trying to be set on a copy of a slice from a DataFrame.\n",
      "Try using .loc[row_indexer,col_indexer] = value instead\n",
      "\n",
      "See the caveats in the documentation: https://pandas.pydata.org/pandas-docs/stable/user_guide/indexing.html#returning-a-view-versus-a-copy\n",
      "  result['num_words'] = result['reply'].apply(lambda x: len(x.split()))\n",
      "/tmp/ipykernel_23314/1521149639.py:15: SettingWithCopyWarning: \n",
      "A value is trying to be set on a copy of a slice from a DataFrame.\n",
      "Try using .loc[row_indexer,col_indexer] = value instead\n",
      "\n",
      "See the caveats in the documentation: https://pandas.pydata.org/pandas-docs/stable/user_guide/indexing.html#returning-a-view-versus-a-copy\n",
      "  result['channel']=str.split(file.split(\"/\")[-1], '_')[0]\n",
      "/tmp/ipykernel_23314/1521149639.py:16: SettingWithCopyWarning: \n",
      "A value is trying to be set on a copy of a slice from a DataFrame.\n",
      "Try using .loc[row_indexer,col_indexer] = value instead\n",
      "\n",
      "See the caveats in the documentation: https://pandas.pydata.org/pandas-docs/stable/user_guide/indexing.html#returning-a-view-versus-a-copy\n",
      "  result['num_words'] = result['reply'].apply(lambda x: len(x.split()))\n",
      "/tmp/ipykernel_23314/1521149639.py:15: SettingWithCopyWarning: \n",
      "A value is trying to be set on a copy of a slice from a DataFrame.\n",
      "Try using .loc[row_indexer,col_indexer] = value instead\n",
      "\n",
      "See the caveats in the documentation: https://pandas.pydata.org/pandas-docs/stable/user_guide/indexing.html#returning-a-view-versus-a-copy\n",
      "  result['channel']=str.split(file.split(\"/\")[-1], '_')[0]\n",
      "/tmp/ipykernel_23314/1521149639.py:16: SettingWithCopyWarning: \n",
      "A value is trying to be set on a copy of a slice from a DataFrame.\n",
      "Try using .loc[row_indexer,col_indexer] = value instead\n",
      "\n",
      "See the caveats in the documentation: https://pandas.pydata.org/pandas-docs/stable/user_guide/indexing.html#returning-a-view-versus-a-copy\n",
      "  result['num_words'] = result['reply'].apply(lambda x: len(x.split()))\n",
      "/tmp/ipykernel_23314/1521149639.py:15: SettingWithCopyWarning: \n",
      "A value is trying to be set on a copy of a slice from a DataFrame.\n",
      "Try using .loc[row_indexer,col_indexer] = value instead\n",
      "\n",
      "See the caveats in the documentation: https://pandas.pydata.org/pandas-docs/stable/user_guide/indexing.html#returning-a-view-versus-a-copy\n",
      "  result['channel']=str.split(file.split(\"/\")[-1], '_')[0]\n",
      "/tmp/ipykernel_23314/1521149639.py:16: SettingWithCopyWarning: \n",
      "A value is trying to be set on a copy of a slice from a DataFrame.\n",
      "Try using .loc[row_indexer,col_indexer] = value instead\n",
      "\n",
      "See the caveats in the documentation: https://pandas.pydata.org/pandas-docs/stable/user_guide/indexing.html#returning-a-view-versus-a-copy\n",
      "  result['num_words'] = result['reply'].apply(lambda x: len(x.split()))\n",
      "/tmp/ipykernel_23314/1521149639.py:15: SettingWithCopyWarning: \n",
      "A value is trying to be set on a copy of a slice from a DataFrame.\n",
      "Try using .loc[row_indexer,col_indexer] = value instead\n",
      "\n",
      "See the caveats in the documentation: https://pandas.pydata.org/pandas-docs/stable/user_guide/indexing.html#returning-a-view-versus-a-copy\n",
      "  result['channel']=str.split(file.split(\"/\")[-1], '_')[0]\n",
      "/tmp/ipykernel_23314/1521149639.py:16: SettingWithCopyWarning: \n",
      "A value is trying to be set on a copy of a slice from a DataFrame.\n",
      "Try using .loc[row_indexer,col_indexer] = value instead\n",
      "\n",
      "See the caveats in the documentation: https://pandas.pydata.org/pandas-docs/stable/user_guide/indexing.html#returning-a-view-versus-a-copy\n",
      "  result['num_words'] = result['reply'].apply(lambda x: len(x.split()))\n"
     ]
    }
   ],
   "source": [
    "json_files=glob.glob(\"/home/ravi/PROJECTS_DATA/HarmDetection/allChatsRepliesEnsemblePreds/*.json\")\n",
    "\n",
    "neg = []\n",
    "combined = []\n",
    "for file in json_files:\n",
    "    \n",
    "    df = pd.read_json(file, orient=\"recors\")\n",
    "    \n",
    "    try:\n",
    "        # mask = (df['tfSent'] == df['VADERSent'] == df['AfinnSent'] == df['TextBlobSent'] == \"negative\")\n",
    "        result = df[(df['tfSent'] == 'negative') & \n",
    "                (df['VADERSent'] == 'negative') & \n",
    "                (df['AfinnSent'] == 'negative') & \n",
    "                (df['TextBlobSent'] == 'negative')]\n",
    "        result['channel']=str.split(file.split(\"/\")[-1], '_')[0]\n",
    "        result['num_words'] = result['reply'].apply(lambda x: len(x.split()))\n",
    "        # print(result.head(1))\n",
    "        neg.append(result)\n",
    "    except:\n",
    "        pass\n",
    "    df['channel']=str.split(file.split(\"/\")[-1], '_')[0]\n",
    "    df['num_words'] = df['reply'].apply(lambda x: len(x.split()))\n",
    "\n",
    "    combined.append(df)\n",
    "    \n",
    "    # break\n",
    "\n",
    "neg_df = pd.concat(neg)\n",
    "all_df=pd.concat(combined)"
   ]
  },
  {
   "cell_type": "code",
   "execution_count": 27,
   "id": "c78f3549-c6e4-409d-b774-e52a489088f2",
   "metadata": {},
   "outputs": [
    {
     "data": {
      "text/html": [
       "<div>\n",
       "<style scoped>\n",
       "    .dataframe tbody tr th:only-of-type {\n",
       "        vertical-align: middle;\n",
       "    }\n",
       "\n",
       "    .dataframe tbody tr th {\n",
       "        vertical-align: top;\n",
       "    }\n",
       "\n",
       "    .dataframe thead th {\n",
       "        text-align: right;\n",
       "    }\n",
       "</style>\n",
       "<table border=\"1\" class=\"dataframe\">\n",
       "  <thead>\n",
       "    <tr style=\"text-align: right;\">\n",
       "      <th></th>\n",
       "      <th>date_unixtime</th>\n",
       "      <th>reply</th>\n",
       "      <th>tfSent</th>\n",
       "      <th>VADERSent</th>\n",
       "      <th>AfinnSent</th>\n",
       "      <th>TextBlobSent</th>\n",
       "      <th>channel</th>\n",
       "      <th>num_words</th>\n",
       "    </tr>\n",
       "  </thead>\n",
       "  <tbody>\n",
       "    <tr>\n",
       "      <th>0</th>\n",
       "      <td>1618413012</td>\n",
       "      <td>Lets Roll🇺🇸👊⚓️🔱</td>\n",
       "      <td>positive</td>\n",
       "      <td>neutral</td>\n",
       "      <td>neutral</td>\n",
       "      <td>neutral</td>\n",
       "      <td>WhiteLivesMatter</td>\n",
       "      <td>2</td>\n",
       "    </tr>\n",
       "  </tbody>\n",
       "</table>\n",
       "</div>"
      ],
      "text/plain": [
       "   date_unixtime            reply    tfSent VADERSent AfinnSent TextBlobSent  \\\n",
       "0     1618413012  Lets Roll🇺🇸👊⚓️🔱  positive   neutral   neutral      neutral   \n",
       "\n",
       "            channel  num_words  \n",
       "0  WhiteLivesMatter          2  "
      ]
     },
     "execution_count": 27,
     "metadata": {},
     "output_type": "execute_result"
    }
   ],
   "source": [
    "all_df.head(1)"
   ]
  },
  {
   "cell_type": "code",
   "execution_count": 28,
   "id": "57281474-7a02-4e22-883e-641d1815497d",
   "metadata": {},
   "outputs": [
    {
     "data": {
      "text/plain": [
       "((165707, 8), (1286772, 8))"
      ]
     },
     "execution_count": 28,
     "metadata": {},
     "output_type": "execute_result"
    }
   ],
   "source": [
    "neg_df.shape, all_df.shape"
   ]
  },
  {
   "cell_type": "code",
   "execution_count": 29,
   "id": "1422a198-64c8-4700-9230-0300202129fb",
   "metadata": {},
   "outputs": [],
   "source": [
    "neg_df.to_json(\"/home/ravi/PROJECTS_DATA/HarmDetection/negReplies.json\", orient='records')\n",
    "all_df.to_json(\"/home/ravi/PROJECTS_DATA/HarmDetection/allReplies.json\", orient='records')"
   ]
  },
  {
   "cell_type": "code",
   "execution_count": null,
   "id": "8e55c336-1a08-41c6-b20b-dd440eb5bcf8",
   "metadata": {},
   "outputs": [],
   "source": []
  },
  {
   "cell_type": "code",
   "execution_count": null,
   "id": "8b90d1f8-4521-4d6e-9925-479a878f1ccd",
   "metadata": {},
   "outputs": [],
   "source": []
  },
  {
   "cell_type": "code",
   "execution_count": 3,
   "id": "2e60cb3b-8916-4417-a4d6-654b67a1c0ee",
   "metadata": {},
   "outputs": [],
   "source": [
    "neg50words=pd.read_json(\"/home/ravi/PROJECTS_DATA/HarmDetection/neg50words.json\", orient='records')"
   ]
  },
  {
   "cell_type": "code",
   "execution_count": 5,
   "id": "d104c71d-d0b3-484f-aa63-9104b2d25f43",
   "metadata": {},
   "outputs": [
    {
     "name": "stdout",
     "output_type": "stream",
     "text": [
      "(12156, 8)\n"
     ]
    }
   ],
   "source": [
    "neg50words = neg50words[neg50words[\"num_words\"]>=50]\n",
    "print(neg50words.shape)"
   ]
  },
  {
   "cell_type": "code",
   "execution_count": 7,
   "id": "cdb8023e-6b21-432a-86f1-5667edb8b643",
   "metadata": {},
   "outputs": [
    {
     "data": {
      "text/plain": [
       "'I hate Twatter and reading the comments makes me shake my head so hard I get vertigo and puke on my Star Wars onesie that my mom made. However, some of the comments arw compelling in that they are from civilians who are just learning how deceitful and menacing their own US government is with comments like \"Wow! Our government is so corrupt!\" It\\'s like, Yeah, we pay terrible people to do terrible things all over the world, and? But then I remember: Twatter commenters aren\\'t people like us. Then I eat Taco Bell and drink Tang.'"
      ]
     },
     "execution_count": 7,
     "metadata": {},
     "output_type": "execute_result"
    }
   ],
   "source": [
    "neg50words['reply'][10]"
   ]
  },
  {
   "cell_type": "code",
   "execution_count": 8,
   "id": "e3e38fc7-c369-476a-83c0-7cf4b8c67a90",
   "metadata": {},
   "outputs": [
    {
     "data": {
      "text/html": [
       "<div>\n",
       "<style scoped>\n",
       "    .dataframe tbody tr th:only-of-type {\n",
       "        vertical-align: middle;\n",
       "    }\n",
       "\n",
       "    .dataframe tbody tr th {\n",
       "        vertical-align: top;\n",
       "    }\n",
       "\n",
       "    .dataframe thead th {\n",
       "        text-align: right;\n",
       "    }\n",
       "</style>\n",
       "<table border=\"1\" class=\"dataframe\">\n",
       "  <thead>\n",
       "    <tr style=\"text-align: right;\">\n",
       "      <th></th>\n",
       "      <th>date_unixtime</th>\n",
       "      <th>reply</th>\n",
       "      <th>tfSent</th>\n",
       "      <th>VADERSent</th>\n",
       "      <th>AfinnSent</th>\n",
       "      <th>TextBlobSent</th>\n",
       "      <th>subreddit</th>\n",
       "      <th>num_words</th>\n",
       "    </tr>\n",
       "  </thead>\n",
       "  <tbody>\n",
       "    <tr>\n",
       "      <th>0</th>\n",
       "      <td>1618427406</td>\n",
       "      <td>First of all I'm a vet so understand OPSEC, th...</td>\n",
       "      <td>negative</td>\n",
       "      <td>negative</td>\n",
       "      <td>negative</td>\n",
       "      <td>negative</td>\n",
       "      <td>WhiteLivesMatter</td>\n",
       "      <td>67</td>\n",
       "    </tr>\n",
       "  </tbody>\n",
       "</table>\n",
       "</div>"
      ],
      "text/plain": [
       "   date_unixtime                                              reply    tfSent  \\\n",
       "0     1618427406  First of all I'm a vet so understand OPSEC, th...  negative   \n",
       "\n",
       "  VADERSent AfinnSent TextBlobSent         subreddit  num_words  \n",
       "0  negative  negative     negative  WhiteLivesMatter         67  "
      ]
     },
     "execution_count": 8,
     "metadata": {},
     "output_type": "execute_result"
    }
   ],
   "source": [
    "neg50words.head(1)"
   ]
  },
  {
   "cell_type": "code",
   "execution_count": 9,
   "id": "74ff9126-0855-457b-87c7-85f79373fa5c",
   "metadata": {},
   "outputs": [],
   "source": [
    "neg50words = neg50words.drop(['tfSent', 'VADERSent', 'AfinnSent','TextBlobSent', 'channel', 'num_words', 'date_unixtime'], axis=1)"
   ]
  },
  {
   "cell_type": "code",
   "execution_count": 10,
   "id": "84718d77-9ea5-4a76-ad11-4a4834573ecc",
   "metadata": {},
   "outputs": [],
   "source": [
    "neg50words['label']=''"
   ]
  },
  {
   "cell_type": "code",
   "execution_count": 11,
   "id": "d5c03edc-fb0f-4c22-918d-2e5b67a9a91f",
   "metadata": {},
   "outputs": [
    {
     "data": {
      "text/html": [
       "<div>\n",
       "<style scoped>\n",
       "    .dataframe tbody tr th:only-of-type {\n",
       "        vertical-align: middle;\n",
       "    }\n",
       "\n",
       "    .dataframe tbody tr th {\n",
       "        vertical-align: top;\n",
       "    }\n",
       "\n",
       "    .dataframe thead th {\n",
       "        text-align: right;\n",
       "    }\n",
       "</style>\n",
       "<table border=\"1\" class=\"dataframe\">\n",
       "  <thead>\n",
       "    <tr style=\"text-align: right;\">\n",
       "      <th></th>\n",
       "      <th>reply</th>\n",
       "      <th>label</th>\n",
       "    </tr>\n",
       "  </thead>\n",
       "  <tbody>\n",
       "    <tr>\n",
       "      <th>0</th>\n",
       "      <td>First of all I'm a vet so understand OPSEC, th...</td>\n",
       "      <td></td>\n",
       "    </tr>\n",
       "  </tbody>\n",
       "</table>\n",
       "</div>"
      ],
      "text/plain": [
       "                                               reply label\n",
       "0  First of all I'm a vet so understand OPSEC, th...      "
      ]
     },
     "execution_count": 11,
     "metadata": {},
     "output_type": "execute_result"
    }
   ],
   "source": [
    "neg50words.head(1)"
   ]
  },
  {
   "cell_type": "code",
   "execution_count": 13,
   "id": "83dc03d0-8d10-4cf4-a5c8-202535f83083",
   "metadata": {},
   "outputs": [],
   "source": [
    "# Split dataframe into 13 equal parts\n",
    "num_parts = 13\n",
    "df = neg50words.copy()\n",
    "chunk_size = math.ceil(len(df) / num_parts)\n",
    "df_chunks = [df[i:i+chunk_size] for i in range(0, len(df), chunk_size)]\n",
    "\n",
    "# Write each chunk to a JSON file\n",
    "for i, chunk in enumerate(df_chunks):\n",
    "    filename = \"/home/ravi/PROJECTS_DATA/HarmDetection/\" + f\"neg50words_chunk_{i}.json\"\n",
    "    with open(filename, \"w\") as f:\n",
    "        json.dump(chunk.to_dict(orient=\"records\"), f)\n"
   ]
  },
  {
   "cell_type": "code",
   "execution_count": null,
   "id": "6e2cc9e9-74fa-4988-8915-c99f0ae8c5a6",
   "metadata": {},
   "outputs": [],
   "source": []
  },
  {
   "cell_type": "code",
   "execution_count": 53,
   "id": "802615fe-04d1-4c12-b3e8-623db9ae31f2",
   "metadata": {},
   "outputs": [],
   "source": [
    "all_df = pd.read_json(\"/home/ravi/PROJECTS_DATA/HarmDetection/allReplies.json\", orient='records')"
   ]
  },
  {
   "cell_type": "code",
   "execution_count": 54,
   "id": "8b1c3a67-7336-4781-963e-d5321495aff0",
   "metadata": {},
   "outputs": [
    {
     "data": {
      "text/html": [
       "<div>\n",
       "<style scoped>\n",
       "    .dataframe tbody tr th:only-of-type {\n",
       "        vertical-align: middle;\n",
       "    }\n",
       "\n",
       "    .dataframe tbody tr th {\n",
       "        vertical-align: top;\n",
       "    }\n",
       "\n",
       "    .dataframe thead th {\n",
       "        text-align: right;\n",
       "    }\n",
       "</style>\n",
       "<table border=\"1\" class=\"dataframe\">\n",
       "  <thead>\n",
       "    <tr style=\"text-align: right;\">\n",
       "      <th></th>\n",
       "      <th>date_unixtime</th>\n",
       "      <th>reply</th>\n",
       "      <th>tfSent</th>\n",
       "      <th>VADERSent</th>\n",
       "      <th>AfinnSent</th>\n",
       "      <th>TextBlobSent</th>\n",
       "      <th>channel</th>\n",
       "      <th>num_words</th>\n",
       "    </tr>\n",
       "  </thead>\n",
       "  <tbody>\n",
       "    <tr>\n",
       "      <th>0</th>\n",
       "      <td>1618413012</td>\n",
       "      <td>Lets Roll🇺🇸👊⚓️🔱</td>\n",
       "      <td>positive</td>\n",
       "      <td>neutral</td>\n",
       "      <td>neutral</td>\n",
       "      <td>neutral</td>\n",
       "      <td>WhiteLivesMatter</td>\n",
       "      <td>2</td>\n",
       "    </tr>\n",
       "    <tr>\n",
       "      <th>1</th>\n",
       "      <td>1618412427</td>\n",
       "      <td>Great news!</td>\n",
       "      <td>positive</td>\n",
       "      <td>positive</td>\n",
       "      <td>positive</td>\n",
       "      <td>positive</td>\n",
       "      <td>WhiteLivesMatter</td>\n",
       "      <td>2</td>\n",
       "    </tr>\n",
       "    <tr>\n",
       "      <th>2</th>\n",
       "      <td>1618413274</td>\n",
       "      <td>We’ve had just about enough of their nonsense....</td>\n",
       "      <td>negative</td>\n",
       "      <td>neutral</td>\n",
       "      <td>negative</td>\n",
       "      <td>neutral</td>\n",
       "      <td>WhiteLivesMatter</td>\n",
       "      <td>15</td>\n",
       "    </tr>\n",
       "    <tr>\n",
       "      <th>3</th>\n",
       "      <td>1618415570</td>\n",
       "      <td>🇺🇸🇺🇸🇺🇸</td>\n",
       "      <td>neutral</td>\n",
       "      <td>neutral</td>\n",
       "      <td>neutral</td>\n",
       "      <td>neutral</td>\n",
       "      <td>WhiteLivesMatter</td>\n",
       "      <td>1</td>\n",
       "    </tr>\n",
       "    <tr>\n",
       "      <th>4</th>\n",
       "      <td>1618418760</td>\n",
       "      <td>Sounds promising so far!</td>\n",
       "      <td>positive</td>\n",
       "      <td>positive</td>\n",
       "      <td>neutral</td>\n",
       "      <td>positive</td>\n",
       "      <td>WhiteLivesMatter</td>\n",
       "      <td>4</td>\n",
       "    </tr>\n",
       "  </tbody>\n",
       "</table>\n",
       "</div>"
      ],
      "text/plain": [
       "   date_unixtime                                              reply    tfSent  \\\n",
       "0     1618413012                                    Lets Roll🇺🇸👊⚓️🔱  positive   \n",
       "1     1618412427                                        Great news!  positive   \n",
       "2     1618413274  We’ve had just about enough of their nonsense....  negative   \n",
       "3     1618415570                                             🇺🇸🇺🇸🇺🇸   neutral   \n",
       "4     1618418760                           Sounds promising so far!  positive   \n",
       "\n",
       "  VADERSent AfinnSent TextBlobSent           channel  num_words  \n",
       "0   neutral   neutral      neutral  WhiteLivesMatter          2  \n",
       "1  positive  positive     positive  WhiteLivesMatter          2  \n",
       "2   neutral  negative      neutral  WhiteLivesMatter         15  \n",
       "3   neutral   neutral      neutral  WhiteLivesMatter          1  \n",
       "4  positive   neutral     positive  WhiteLivesMatter          4  "
      ]
     },
     "execution_count": 54,
     "metadata": {},
     "output_type": "execute_result"
    }
   ],
   "source": [
    "all_df.head(5)"
   ]
  },
  {
   "cell_type": "code",
   "execution_count": 55,
   "id": "978d637c-df0a-450f-b6df-01d8b35cc3d6",
   "metadata": {},
   "outputs": [],
   "source": [
    "all_df = all_df.drop(['tfSent', 'VADERSent', 'AfinnSent','TextBlobSent'], axis=1)"
   ]
  },
  {
   "cell_type": "code",
   "execution_count": 56,
   "id": "8f6938b8-6fcd-4506-b83a-312c87978e9c",
   "metadata": {},
   "outputs": [],
   "source": [
    "all_df = all_df[all_df[\"num_words\"]>=50]\n"
   ]
  },
  {
   "cell_type": "code",
   "execution_count": 57,
   "id": "706a1015-fe9d-4d27-b3cd-22df47a637e1",
   "metadata": {},
   "outputs": [],
   "source": [
    "all_df = all_df.drop(['num_words'], axis=1)"
   ]
  },
  {
   "cell_type": "code",
   "execution_count": 58,
   "id": "08d017e3-1856-4683-a8e4-9c60bbeb9683",
   "metadata": {},
   "outputs": [
    {
     "data": {
      "text/html": [
       "<div>\n",
       "<style scoped>\n",
       "    .dataframe tbody tr th:only-of-type {\n",
       "        vertical-align: middle;\n",
       "    }\n",
       "\n",
       "    .dataframe tbody tr th {\n",
       "        vertical-align: top;\n",
       "    }\n",
       "\n",
       "    .dataframe thead th {\n",
       "        text-align: right;\n",
       "    }\n",
       "</style>\n",
       "<table border=\"1\" class=\"dataframe\">\n",
       "  <thead>\n",
       "    <tr style=\"text-align: right;\">\n",
       "      <th></th>\n",
       "      <th>date_unixtime</th>\n",
       "      <th>reply</th>\n",
       "      <th>channel</th>\n",
       "    </tr>\n",
       "  </thead>\n",
       "  <tbody>\n",
       "    <tr>\n",
       "      <th>7</th>\n",
       "      <td>1618426657</td>\n",
       "      <td>The Oregon channel was infiltrated by antqeefa...</td>\n",
       "      <td>WhiteLivesMatter</td>\n",
       "    </tr>\n",
       "    <tr>\n",
       "      <th>8</th>\n",
       "      <td>1618427406</td>\n",
       "      <td>First of all I'm a vet so understand OPSEC, th...</td>\n",
       "      <td>WhiteLivesMatter</td>\n",
       "    </tr>\n",
       "    <tr>\n",
       "      <th>10</th>\n",
       "      <td>1618411555</td>\n",
       "      <td>Communism killed over 100 million Whites, dire...</td>\n",
       "      <td>WhiteLivesMatter</td>\n",
       "    </tr>\n",
       "    <tr>\n",
       "      <th>43</th>\n",
       "      <td>1671199594</td>\n",
       "      <td>In reference to your post yesterday with the A...</td>\n",
       "      <td>absoluteTruth1776</td>\n",
       "    </tr>\n",
       "    <tr>\n",
       "      <th>145</th>\n",
       "      <td>1671209320</td>\n",
       "      <td>Not sure if you take video recommendations but...</td>\n",
       "      <td>absoluteTruth1776</td>\n",
       "    </tr>\n",
       "  </tbody>\n",
       "</table>\n",
       "</div>"
      ],
      "text/plain": [
       "     date_unixtime                                              reply  \\\n",
       "7       1618426657  The Oregon channel was infiltrated by antqeefa...   \n",
       "8       1618427406  First of all I'm a vet so understand OPSEC, th...   \n",
       "10      1618411555  Communism killed over 100 million Whites, dire...   \n",
       "43      1671199594  In reference to your post yesterday with the A...   \n",
       "145     1671209320  Not sure if you take video recommendations but...   \n",
       "\n",
       "               channel  \n",
       "7     WhiteLivesMatter  \n",
       "8     WhiteLivesMatter  \n",
       "10    WhiteLivesMatter  \n",
       "43   absoluteTruth1776  \n",
       "145  absoluteTruth1776  "
      ]
     },
     "execution_count": 58,
     "metadata": {},
     "output_type": "execute_result"
    }
   ],
   "source": [
    "all_df.head(5)"
   ]
  },
  {
   "cell_type": "code",
   "execution_count": 60,
   "id": "d3116a38-eb99-4938-800f-fd771463dd44",
   "metadata": {},
   "outputs": [],
   "source": [
    "new=all_df.copy()\n",
    "new['date'] = new['date_unixtime'].apply(lambda x: datetime.datetime.fromtimestamp(x).date())\n",
    "new['date'] = new['date'].apply(lambda x: x.strftime('%Y-%m'))\n",
    "\n",
    "new = new.drop(['date_unixtime', 'channel'], axis=1)\n",
    "new = new[['date', 'reply']]"
   ]
  },
  {
   "cell_type": "code",
   "execution_count": 61,
   "id": "594511f5-b298-4d56-9b42-6b91eda78853",
   "metadata": {},
   "outputs": [
    {
     "data": {
      "text/html": [
       "<div>\n",
       "<style scoped>\n",
       "    .dataframe tbody tr th:only-of-type {\n",
       "        vertical-align: middle;\n",
       "    }\n",
       "\n",
       "    .dataframe tbody tr th {\n",
       "        vertical-align: top;\n",
       "    }\n",
       "\n",
       "    .dataframe thead th {\n",
       "        text-align: right;\n",
       "    }\n",
       "</style>\n",
       "<table border=\"1\" class=\"dataframe\">\n",
       "  <thead>\n",
       "    <tr style=\"text-align: right;\">\n",
       "      <th></th>\n",
       "      <th>date</th>\n",
       "      <th>reply</th>\n",
       "    </tr>\n",
       "  </thead>\n",
       "  <tbody>\n",
       "    <tr>\n",
       "      <th>7</th>\n",
       "      <td>2021-04</td>\n",
       "      <td>The Oregon channel was infiltrated by antqeefa...</td>\n",
       "    </tr>\n",
       "    <tr>\n",
       "      <th>8</th>\n",
       "      <td>2021-04</td>\n",
       "      <td>First of all I'm a vet so understand OPSEC, th...</td>\n",
       "    </tr>\n",
       "    <tr>\n",
       "      <th>10</th>\n",
       "      <td>2021-04</td>\n",
       "      <td>Communism killed over 100 million Whites, dire...</td>\n",
       "    </tr>\n",
       "    <tr>\n",
       "      <th>43</th>\n",
       "      <td>2022-12</td>\n",
       "      <td>In reference to your post yesterday with the A...</td>\n",
       "    </tr>\n",
       "    <tr>\n",
       "      <th>145</th>\n",
       "      <td>2022-12</td>\n",
       "      <td>Not sure if you take video recommendations but...</td>\n",
       "    </tr>\n",
       "  </tbody>\n",
       "</table>\n",
       "</div>"
      ],
      "text/plain": [
       "        date                                              reply\n",
       "7    2021-04  The Oregon channel was infiltrated by antqeefa...\n",
       "8    2021-04  First of all I'm a vet so understand OPSEC, th...\n",
       "10   2021-04  Communism killed over 100 million Whites, dire...\n",
       "43   2022-12  In reference to your post yesterday with the A...\n",
       "145  2022-12  Not sure if you take video recommendations but..."
      ]
     },
     "execution_count": 61,
     "metadata": {},
     "output_type": "execute_result"
    }
   ],
   "source": [
    "new.head(5)"
   ]
  },
  {
   "cell_type": "code",
   "execution_count": 62,
   "id": "9bdafda6-678d-41a4-b855-4b17006cb135",
   "metadata": {},
   "outputs": [],
   "source": [
    "sample = new.head(5)"
   ]
  },
  {
   "cell_type": "code",
   "execution_count": 63,
   "id": "7684d831-83c3-4713-88df-d56cb2c3c3ae",
   "metadata": {},
   "outputs": [
    {
     "name": "stderr",
     "output_type": "stream",
     "text": [
      "/tmp/ipykernel_23314/1201832705.py:1: SettingWithCopyWarning: \n",
      "A value is trying to be set on a copy of a slice from a DataFrame.\n",
      "Try using .loc[row_indexer,col_indexer] = value instead\n",
      "\n",
      "See the caveats in the documentation: https://pandas.pydata.org/pandas-docs/stable/user_guide/indexing.html#returning-a-view-versus-a-copy\n",
      "  sample['threatLevel']=[0, 1, 3, 2, 5]\n"
     ]
    }
   ],
   "source": [
    "sample['threatLevel']=[0, 1, 3, 2, 5]"
   ]
  },
  {
   "cell_type": "code",
   "execution_count": 64,
   "id": "13b273de-0dbf-4fda-aa93-aebc1e24018e",
   "metadata": {},
   "outputs": [
    {
     "data": {
      "text/html": [
       "<div>\n",
       "<style scoped>\n",
       "    .dataframe tbody tr th:only-of-type {\n",
       "        vertical-align: middle;\n",
       "    }\n",
       "\n",
       "    .dataframe tbody tr th {\n",
       "        vertical-align: top;\n",
       "    }\n",
       "\n",
       "    .dataframe thead th {\n",
       "        text-align: right;\n",
       "    }\n",
       "</style>\n",
       "<table border=\"1\" class=\"dataframe\">\n",
       "  <thead>\n",
       "    <tr style=\"text-align: right;\">\n",
       "      <th></th>\n",
       "      <th>date</th>\n",
       "      <th>reply</th>\n",
       "      <th>threatLevel</th>\n",
       "    </tr>\n",
       "  </thead>\n",
       "  <tbody>\n",
       "    <tr>\n",
       "      <th>7</th>\n",
       "      <td>2021-04</td>\n",
       "      <td>The Oregon channel was infiltrated by antqeefa...</td>\n",
       "      <td>0</td>\n",
       "    </tr>\n",
       "    <tr>\n",
       "      <th>8</th>\n",
       "      <td>2021-04</td>\n",
       "      <td>First of all I'm a vet so understand OPSEC, th...</td>\n",
       "      <td>1</td>\n",
       "    </tr>\n",
       "    <tr>\n",
       "      <th>10</th>\n",
       "      <td>2021-04</td>\n",
       "      <td>Communism killed over 100 million Whites, dire...</td>\n",
       "      <td>3</td>\n",
       "    </tr>\n",
       "    <tr>\n",
       "      <th>43</th>\n",
       "      <td>2022-12</td>\n",
       "      <td>In reference to your post yesterday with the A...</td>\n",
       "      <td>2</td>\n",
       "    </tr>\n",
       "    <tr>\n",
       "      <th>145</th>\n",
       "      <td>2022-12</td>\n",
       "      <td>Not sure if you take video recommendations but...</td>\n",
       "      <td>5</td>\n",
       "    </tr>\n",
       "  </tbody>\n",
       "</table>\n",
       "</div>"
      ],
      "text/plain": [
       "        date                                              reply  threatLevel\n",
       "7    2021-04  The Oregon channel was infiltrated by antqeefa...            0\n",
       "8    2021-04  First of all I'm a vet so understand OPSEC, th...            1\n",
       "10   2021-04  Communism killed over 100 million Whites, dire...            3\n",
       "43   2022-12  In reference to your post yesterday with the A...            2\n",
       "145  2022-12  Not sure if you take video recommendations but...            5"
      ]
     },
     "execution_count": 64,
     "metadata": {},
     "output_type": "execute_result"
    }
   ],
   "source": [
    "sample"
   ]
  },
  {
   "cell_type": "code",
   "execution_count": null,
   "id": "0943235b-4744-45e9-85a6-db7f6dcebb1a",
   "metadata": {},
   "outputs": [],
   "source": []
  },
  {
   "cell_type": "markdown",
   "id": "0142810f-b278-4719-b454-a7b05e9089d4",
   "metadata": {},
   "source": [
    "## Negative samples > 50 words"
   ]
  },
  {
   "cell_type": "code",
   "execution_count": 1,
   "id": "372fe3b1-3ecd-4016-9c12-447d38878f32",
   "metadata": {},
   "outputs": [],
   "source": [
    "import pandas as pd\n",
    "df = pd.read_json(\"/home/ravi/UCF Dropbox/KAMALAKKANNAN RAVI/guyonDesktop/DATA_AutomatedHarmDetection/negRepliesFilteredBy4Models/neg50words.json\", orient='records')"
   ]
  },
  {
   "cell_type": "code",
   "execution_count": 2,
   "id": "23254e13-2f67-4339-abcb-fbb9ecb250b4",
   "metadata": {},
   "outputs": [
    {
     "data": {
      "text/html": [
       "<div>\n",
       "<style scoped>\n",
       "    .dataframe tbody tr th:only-of-type {\n",
       "        vertical-align: middle;\n",
       "    }\n",
       "\n",
       "    .dataframe tbody tr th {\n",
       "        vertical-align: top;\n",
       "    }\n",
       "\n",
       "    .dataframe thead th {\n",
       "        text-align: right;\n",
       "    }\n",
       "</style>\n",
       "<table border=\"1\" class=\"dataframe\">\n",
       "  <thead>\n",
       "    <tr style=\"text-align: right;\">\n",
       "      <th></th>\n",
       "      <th>date_unixtime</th>\n",
       "      <th>reply</th>\n",
       "      <th>tfSent</th>\n",
       "      <th>VADERSent</th>\n",
       "      <th>AfinnSent</th>\n",
       "      <th>TextBlobSent</th>\n",
       "      <th>channel</th>\n",
       "      <th>num_words</th>\n",
       "    </tr>\n",
       "  </thead>\n",
       "  <tbody>\n",
       "    <tr>\n",
       "      <th>0</th>\n",
       "      <td>1618427406</td>\n",
       "      <td>First of all I'm a vet so understand OPSEC, th...</td>\n",
       "      <td>negative</td>\n",
       "      <td>negative</td>\n",
       "      <td>negative</td>\n",
       "      <td>negative</td>\n",
       "      <td>WhiteLivesMatter</td>\n",
       "      <td>67</td>\n",
       "    </tr>\n",
       "    <tr>\n",
       "      <th>1</th>\n",
       "      <td>1618411555</td>\n",
       "      <td>Communism killed over 100 million Whites, dire...</td>\n",
       "      <td>negative</td>\n",
       "      <td>negative</td>\n",
       "      <td>negative</td>\n",
       "      <td>negative</td>\n",
       "      <td>WhiteLivesMatter</td>\n",
       "      <td>69</td>\n",
       "    </tr>\n",
       "    <tr>\n",
       "      <th>2</th>\n",
       "      <td>1671209320</td>\n",
       "      <td>Not sure if you take video recommendations but...</td>\n",
       "      <td>negative</td>\n",
       "      <td>negative</td>\n",
       "      <td>negative</td>\n",
       "      <td>negative</td>\n",
       "      <td>absoluteTruth1776</td>\n",
       "      <td>81</td>\n",
       "    </tr>\n",
       "    <tr>\n",
       "      <th>3</th>\n",
       "      <td>1671229175</td>\n",
       "      <td>BioClandestineTo make it simple for those that...</td>\n",
       "      <td>negative</td>\n",
       "      <td>negative</td>\n",
       "      <td>negative</td>\n",
       "      <td>negative</td>\n",
       "      <td>absoluteTruth1776</td>\n",
       "      <td>80</td>\n",
       "    </tr>\n",
       "    <tr>\n",
       "      <th>4</th>\n",
       "      <td>1671323910</td>\n",
       "      <td>Buy silver and xrp just a opinion. Been diggin...</td>\n",
       "      <td>negative</td>\n",
       "      <td>negative</td>\n",
       "      <td>negative</td>\n",
       "      <td>negative</td>\n",
       "      <td>absoluteTruth1776</td>\n",
       "      <td>88</td>\n",
       "    </tr>\n",
       "    <tr>\n",
       "      <th>...</th>\n",
       "      <td>...</td>\n",
       "      <td>...</td>\n",
       "      <td>...</td>\n",
       "      <td>...</td>\n",
       "      <td>...</td>\n",
       "      <td>...</td>\n",
       "      <td>...</td>\n",
       "      <td>...</td>\n",
       "    </tr>\n",
       "    <tr>\n",
       "      <th>12151</th>\n",
       "      <td>1680919253</td>\n",
       "      <td>At what point are they going to encourage orgi...</td>\n",
       "      <td>negative</td>\n",
       "      <td>negative</td>\n",
       "      <td>negative</td>\n",
       "      <td>negative</td>\n",
       "      <td>WeTheMedia</td>\n",
       "      <td>51</td>\n",
       "    </tr>\n",
       "    <tr>\n",
       "      <th>12152</th>\n",
       "      <td>1680874508</td>\n",
       "      <td>I’m wondering why Trump would run again? Who e...</td>\n",
       "      <td>negative</td>\n",
       "      <td>negative</td>\n",
       "      <td>negative</td>\n",
       "      <td>negative</td>\n",
       "      <td>WeTheMedia</td>\n",
       "      <td>94</td>\n",
       "    </tr>\n",
       "    <tr>\n",
       "      <th>12153</th>\n",
       "      <td>1680911044</td>\n",
       "      <td>Maybe they shouldn't have allowed infiltration...</td>\n",
       "      <td>negative</td>\n",
       "      <td>negative</td>\n",
       "      <td>negative</td>\n",
       "      <td>negative</td>\n",
       "      <td>WeTheMedia</td>\n",
       "      <td>64</td>\n",
       "    </tr>\n",
       "    <tr>\n",
       "      <th>12154</th>\n",
       "      <td>1680907168</td>\n",
       "      <td>Your full of crap....mRNA will be injected int...</td>\n",
       "      <td>negative</td>\n",
       "      <td>negative</td>\n",
       "      <td>negative</td>\n",
       "      <td>negative</td>\n",
       "      <td>WeTheMedia</td>\n",
       "      <td>77</td>\n",
       "    </tr>\n",
       "    <tr>\n",
       "      <th>12155</th>\n",
       "      <td>1680924349</td>\n",
       "      <td>I FEEL LIKE I CAN SPEAK FOR MANY PEOPLE IN TEN...</td>\n",
       "      <td>negative</td>\n",
       "      <td>negative</td>\n",
       "      <td>negative</td>\n",
       "      <td>negative</td>\n",
       "      <td>WeTheMedia</td>\n",
       "      <td>68</td>\n",
       "    </tr>\n",
       "  </tbody>\n",
       "</table>\n",
       "<p>12156 rows × 8 columns</p>\n",
       "</div>"
      ],
      "text/plain": [
       "       date_unixtime                                              reply  \\\n",
       "0         1618427406  First of all I'm a vet so understand OPSEC, th...   \n",
       "1         1618411555  Communism killed over 100 million Whites, dire...   \n",
       "2         1671209320  Not sure if you take video recommendations but...   \n",
       "3         1671229175  BioClandestineTo make it simple for those that...   \n",
       "4         1671323910  Buy silver and xrp just a opinion. Been diggin...   \n",
       "...              ...                                                ...   \n",
       "12151     1680919253  At what point are they going to encourage orgi...   \n",
       "12152     1680874508  I’m wondering why Trump would run again? Who e...   \n",
       "12153     1680911044  Maybe they shouldn't have allowed infiltration...   \n",
       "12154     1680907168  Your full of crap....mRNA will be injected int...   \n",
       "12155     1680924349  I FEEL LIKE I CAN SPEAK FOR MANY PEOPLE IN TEN...   \n",
       "\n",
       "         tfSent VADERSent AfinnSent TextBlobSent            channel  num_words  \n",
       "0      negative  negative  negative     negative   WhiteLivesMatter         67  \n",
       "1      negative  negative  negative     negative   WhiteLivesMatter         69  \n",
       "2      negative  negative  negative     negative  absoluteTruth1776         81  \n",
       "3      negative  negative  negative     negative  absoluteTruth1776         80  \n",
       "4      negative  negative  negative     negative  absoluteTruth1776         88  \n",
       "...         ...       ...       ...          ...                ...        ...  \n",
       "12151  negative  negative  negative     negative         WeTheMedia         51  \n",
       "12152  negative  negative  negative     negative         WeTheMedia         94  \n",
       "12153  negative  negative  negative     negative         WeTheMedia         64  \n",
       "12154  negative  negative  negative     negative         WeTheMedia         77  \n",
       "12155  negative  negative  negative     negative         WeTheMedia         68  \n",
       "\n",
       "[12156 rows x 8 columns]"
      ]
     },
     "execution_count": 2,
     "metadata": {},
     "output_type": "execute_result"
    }
   ],
   "source": [
    "df.rename(columns={\"subreddit\": \"channel\"})"
   ]
  },
  {
   "cell_type": "code",
   "execution_count": 5,
   "id": "08e34063-25cf-4303-a5df-9ac8f53a0fff",
   "metadata": {},
   "outputs": [],
   "source": [
    "df.to_json(\"/home/ravi/UCF Dropbox/KAMALAKKANNAN RAVI/guyonDesktop/DATA_AutomatedHarmDetection/negRepliesFilteredBy4Models/neg50words.json\", orient='records')"
   ]
  },
  {
   "cell_type": "code",
   "execution_count": 3,
   "id": "00e41ab4-f393-4183-a4fa-c12abee041ba",
   "metadata": {},
   "outputs": [
    {
     "data": {
      "text/html": [
       "<div>\n",
       "<style scoped>\n",
       "    .dataframe tbody tr th:only-of-type {\n",
       "        vertical-align: middle;\n",
       "    }\n",
       "\n",
       "    .dataframe tbody tr th {\n",
       "        vertical-align: top;\n",
       "    }\n",
       "\n",
       "    .dataframe thead th {\n",
       "        text-align: right;\n",
       "    }\n",
       "</style>\n",
       "<table border=\"1\" class=\"dataframe\">\n",
       "  <thead>\n",
       "    <tr style=\"text-align: right;\">\n",
       "      <th></th>\n",
       "      <th>date_unixtime</th>\n",
       "      <th>reply</th>\n",
       "      <th>tfSent</th>\n",
       "      <th>VADERSent</th>\n",
       "      <th>AfinnSent</th>\n",
       "      <th>TextBlobSent</th>\n",
       "      <th>subreddit</th>\n",
       "      <th>num_words</th>\n",
       "    </tr>\n",
       "  </thead>\n",
       "  <tbody>\n",
       "    <tr>\n",
       "      <th>0</th>\n",
       "      <td>1618427406</td>\n",
       "      <td>First of all I'm a vet so understand OPSEC, th...</td>\n",
       "      <td>negative</td>\n",
       "      <td>negative</td>\n",
       "      <td>negative</td>\n",
       "      <td>negative</td>\n",
       "      <td>WhiteLivesMatter</td>\n",
       "      <td>67</td>\n",
       "    </tr>\n",
       "  </tbody>\n",
       "</table>\n",
       "</div>"
      ],
      "text/plain": [
       "   date_unixtime                                              reply    tfSent  \\\n",
       "0     1618427406  First of all I'm a vet so understand OPSEC, th...  negative   \n",
       "\n",
       "  VADERSent AfinnSent TextBlobSent         subreddit  num_words  \n",
       "0  negative  negative     negative  WhiteLivesMatter         67  "
      ]
     },
     "execution_count": 3,
     "metadata": {},
     "output_type": "execute_result"
    }
   ],
   "source": [
    "df.head(1)"
   ]
  },
  {
   "cell_type": "code",
   "execution_count": 10,
   "id": "2b6261d3-5c45-40f8-b3b6-9c4e4f5a4eb7",
   "metadata": {},
   "outputs": [
    {
     "data": {
      "text/plain": [
       "(12156, 8)"
      ]
     },
     "execution_count": 10,
     "metadata": {},
     "output_type": "execute_result"
    }
   ],
   "source": [
    "df.shape"
   ]
  },
  {
   "cell_type": "code",
   "execution_count": 11,
   "id": "03f944f3-0905-460f-9a5f-b033b1669883",
   "metadata": {},
   "outputs": [
    {
     "data": {
      "text/plain": [
       "count    12156.000000\n",
       "mean        80.880141\n",
       "std         48.357465\n",
       "min         50.000000\n",
       "25%         56.000000\n",
       "50%         66.000000\n",
       "75%         87.000000\n",
       "max        744.000000\n",
       "Name: num_words, dtype: float64"
      ]
     },
     "execution_count": 11,
     "metadata": {},
     "output_type": "execute_result"
    }
   ],
   "source": [
    "df['num_words'].describe()"
   ]
  },
  {
   "cell_type": "code",
   "execution_count": 12,
   "id": "853a4ca7-6eba-4683-bc75-38d7f201523b",
   "metadata": {},
   "outputs": [
    {
     "data": {
      "text/plain": [
       "count    100.000000\n",
       "mean      77.390000\n",
       "std       43.517069\n",
       "min       51.000000\n",
       "25%       56.750000\n",
       "50%       65.000000\n",
       "75%       80.000000\n",
       "max      399.000000\n",
       "Name: num_words, dtype: float64"
      ]
     },
     "execution_count": 12,
     "metadata": {},
     "output_type": "execute_result"
    }
   ],
   "source": [
    "df['num_words'].sample(100).describe()"
   ]
  },
  {
   "cell_type": "markdown",
   "id": "514be2bd-4fea-4899-8c2f-e71da11562b0",
   "metadata": {},
   "source": [
    "## aLL sampleS"
   ]
  },
  {
   "cell_type": "code",
   "execution_count": 17,
   "id": "d0ec5849-8b5d-4f90-ae37-52efd01daa93",
   "metadata": {},
   "outputs": [],
   "source": [
    "ALLdf = pd.read_json(\"/home/ravi/UCF Dropbox/KAMALAKKANNAN RAVI/guyonDesktop/DATA_AutomatedHarmDetection/allChatsRepliesFilteredUrlNaN.json\", orient='records')"
   ]
  },
  {
   "cell_type": "code",
   "execution_count": 18,
   "id": "c93d9821-a289-4e0f-99c8-6cbfebbbcf98",
   "metadata": {},
   "outputs": [
    {
     "data": {
      "text/plain": [
       "(1355147, 5)"
      ]
     },
     "execution_count": 18,
     "metadata": {},
     "output_type": "execute_result"
    }
   ],
   "source": [
    "ALLdf.shape"
   ]
  },
  {
   "cell_type": "code",
   "execution_count": 19,
   "id": "1aff78c6-7f9e-4c1f-afc0-23ac590b444a",
   "metadata": {},
   "outputs": [
    {
     "data": {
      "text/html": [
       "<div>\n",
       "<style scoped>\n",
       "    .dataframe tbody tr th:only-of-type {\n",
       "        vertical-align: middle;\n",
       "    }\n",
       "\n",
       "    .dataframe tbody tr th {\n",
       "        vertical-align: top;\n",
       "    }\n",
       "\n",
       "    .dataframe thead th {\n",
       "        text-align: right;\n",
       "    }\n",
       "</style>\n",
       "<table border=\"1\" class=\"dataframe\">\n",
       "  <thead>\n",
       "    <tr style=\"text-align: right;\">\n",
       "      <th></th>\n",
       "      <th>msgDate</th>\n",
       "      <th>msg</th>\n",
       "      <th>replyDate</th>\n",
       "      <th>reply</th>\n",
       "      <th>telegramChannel</th>\n",
       "    </tr>\n",
       "  </thead>\n",
       "  <tbody>\n",
       "    <tr>\n",
       "      <th>0</th>\n",
       "      <td>1618359936</td>\n",
       "      <td>📌A while ago, in order to unify the movement a...</td>\n",
       "      <td>1618413012</td>\n",
       "      <td>Lets Roll🇺🇸👊⚓️🔱</td>\n",
       "      <td>WhiteLivesMatter</td>\n",
       "    </tr>\n",
       "  </tbody>\n",
       "</table>\n",
       "</div>"
      ],
      "text/plain": [
       "      msgDate                                                msg   replyDate  \\\n",
       "0  1618359936  📌A while ago, in order to unify the movement a...  1618413012   \n",
       "\n",
       "             reply   telegramChannel  \n",
       "0  Lets Roll🇺🇸👊⚓️🔱  WhiteLivesMatter  "
      ]
     },
     "execution_count": 19,
     "metadata": {},
     "output_type": "execute_result"
    }
   ],
   "source": [
    "ALLdf.head(1)"
   ]
  },
  {
   "cell_type": "code",
   "execution_count": null,
   "id": "ef743635-1a07-4b92-8bdb-c7a6f6fdf205",
   "metadata": {},
   "outputs": [],
   "source": [
    "df['num_words'].sample(100).describe()"
   ]
  }
 ],
 "metadata": {
  "kernelspec": {
   "display_name": "Python [conda env:redditJournal] *",
   "language": "python",
   "name": "conda-env-redditJournal-py"
  },
  "language_info": {
   "codemirror_mode": {
    "name": "ipython",
    "version": 3
   },
   "file_extension": ".py",
   "mimetype": "text/x-python",
   "name": "python",
   "nbconvert_exporter": "python",
   "pygments_lexer": "ipython3",
   "version": "3.10.4"
  }
 },
 "nbformat": 4,
 "nbformat_minor": 5
}
