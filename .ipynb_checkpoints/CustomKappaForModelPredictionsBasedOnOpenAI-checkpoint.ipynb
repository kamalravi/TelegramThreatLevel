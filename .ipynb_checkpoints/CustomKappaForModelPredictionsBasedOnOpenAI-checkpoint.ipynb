{
 "cells": [
  {
   "cell_type": "code",
   "execution_count": 1,
   "id": "3774d88c-3046-4898-9a30-f11b47bdf155",
   "metadata": {},
   "outputs": [],
   "source": [
    "import pandas as pd\n",
    "import glob\n",
    "import numpy as np\n",
    "import json\n",
    "import math\n",
    "import matplotlib.pyplot as plt\n",
    "import seaborn as sns\n",
    "from sklearn.metrics import confusion_matrix, f1_score"
   ]
  },
  {
   "cell_type": "markdown",
   "id": "86f4d250-bea6-4e35-8d17-e5de57c33300",
   "metadata": {
    "jp-MarkdownHeadingCollapsed": true,
    "tags": []
   },
   "source": [
    "# Sample 30 from each OpenAI Label"
   ]
  },
  {
   "cell_type": "code",
   "execution_count": 18,
   "id": "744939e9-d4ad-4844-a717-92406d76bcff",
   "metadata": {},
   "outputs": [],
   "source": [
    "TestDF=pd.read_json(\"/home/ravi/UCF Dropbox/KAMALAKKANNAN RAVI/guyonDesktop/DATA_AutomatedHarmDetection/Annotate/Sample_1326_For_Testing.json\", orient='records')"
   ]
  },
  {
   "cell_type": "code",
   "execution_count": 19,
   "id": "bec5d935-b7b5-48dc-b362-4c2db56da81a",
   "metadata": {},
   "outputs": [
    {
     "data": {
      "text/html": [
       "<div>\n",
       "<style scoped>\n",
       "    .dataframe tbody tr th:only-of-type {\n",
       "        vertical-align: middle;\n",
       "    }\n",
       "\n",
       "    .dataframe tbody tr th {\n",
       "        vertical-align: top;\n",
       "    }\n",
       "\n",
       "    .dataframe thead th {\n",
       "        text-align: right;\n",
       "    }\n",
       "</style>\n",
       "<table border=\"1\" class=\"dataframe\">\n",
       "  <thead>\n",
       "    <tr style=\"text-align: right;\">\n",
       "      <th></th>\n",
       "      <th>date_unixtime</th>\n",
       "      <th>reply</th>\n",
       "      <th>tfSent</th>\n",
       "      <th>VADERSent</th>\n",
       "      <th>AfinnSent</th>\n",
       "      <th>TextBlobSent</th>\n",
       "      <th>subreddit</th>\n",
       "      <th>num_words</th>\n",
       "      <th>openAI-classification</th>\n",
       "    </tr>\n",
       "  </thead>\n",
       "  <tbody>\n",
       "    <tr>\n",
       "      <th>0</th>\n",
       "      <td>1671323910</td>\n",
       "      <td>Buy silver and xrp just a opinion. Been diggin...</td>\n",
       "      <td>negative</td>\n",
       "      <td>negative</td>\n",
       "      <td>negative</td>\n",
       "      <td>negative</td>\n",
       "      <td>absoluteTruth1776</td>\n",
       "      <td>88</td>\n",
       "      <td>0</td>\n",
       "    </tr>\n",
       "  </tbody>\n",
       "</table>\n",
       "</div>"
      ],
      "text/plain": [
       "   date_unixtime                                              reply    tfSent  \\\n",
       "0     1671323910  Buy silver and xrp just a opinion. Been diggin...  negative   \n",
       "\n",
       "  VADERSent AfinnSent TextBlobSent          subreddit  num_words  \\\n",
       "0  negative  negative     negative  absoluteTruth1776         88   \n",
       "\n",
       "   openAI-classification  \n",
       "0                      0  "
      ]
     },
     "execution_count": 19,
     "metadata": {},
     "output_type": "execute_result"
    }
   ],
   "source": [
    "TestDF.head(1)"
   ]
  },
  {
   "cell_type": "code",
   "execution_count": 20,
   "id": "20d93e85-2ffe-405e-be57-7f76014aea57",
   "metadata": {},
   "outputs": [
    {
     "data": {
      "text/plain": [
       "0    719\n",
       "2    363\n",
       "3    119\n",
       "5     52\n",
       "4     38\n",
       "1     35\n",
       "Name: openAI-classification, dtype: int64"
      ]
     },
     "execution_count": 20,
     "metadata": {},
     "output_type": "execute_result"
    }
   ],
   "source": [
    "TestDF['openAI-classification'].value_counts()"
   ]
  },
  {
   "cell_type": "code",
   "execution_count": 21,
   "id": "b70a0355-3e22-4795-81f9-83912c75270f",
   "metadata": {},
   "outputs": [],
   "source": [
    "df = TestDF.copy()"
   ]
  },
  {
   "cell_type": "code",
   "execution_count": 22,
   "id": "6b469c36-65b5-4112-818c-31d3addec085",
   "metadata": {},
   "outputs": [],
   "source": [
    "sampled_df = pd.concat([\n",
    "    df[df['openAI-classification'] == i].sample(n=min(len(df[df['openAI-classification'] == i]), 30)) for i in range(0, 6)\n",
    "])"
   ]
  },
  {
   "cell_type": "code",
   "execution_count": 23,
   "id": "923b681d-b4a0-4b88-94d9-a33540e01073",
   "metadata": {},
   "outputs": [
    {
     "data": {
      "text/plain": [
       "(180, 9)"
      ]
     },
     "execution_count": 23,
     "metadata": {},
     "output_type": "execute_result"
    }
   ],
   "source": [
    "sampled_df.shape"
   ]
  },
  {
   "cell_type": "code",
   "execution_count": 24,
   "id": "d7f39283-e3bd-40c2-94ac-4b17d49a3135",
   "metadata": {},
   "outputs": [],
   "source": [
    "sampled_df = sampled_df.sample(frac=1)"
   ]
  },
  {
   "cell_type": "code",
   "execution_count": 25,
   "id": "7303d601-5add-435c-adc2-5592f3a29ca1",
   "metadata": {},
   "outputs": [
    {
     "data": {
      "text/html": [
       "<div>\n",
       "<style scoped>\n",
       "    .dataframe tbody tr th:only-of-type {\n",
       "        vertical-align: middle;\n",
       "    }\n",
       "\n",
       "    .dataframe tbody tr th {\n",
       "        vertical-align: top;\n",
       "    }\n",
       "\n",
       "    .dataframe thead th {\n",
       "        text-align: right;\n",
       "    }\n",
       "</style>\n",
       "<table border=\"1\" class=\"dataframe\">\n",
       "  <thead>\n",
       "    <tr style=\"text-align: right;\">\n",
       "      <th></th>\n",
       "      <th>date_unixtime</th>\n",
       "      <th>reply</th>\n",
       "      <th>tfSent</th>\n",
       "      <th>VADERSent</th>\n",
       "      <th>AfinnSent</th>\n",
       "      <th>TextBlobSent</th>\n",
       "      <th>subreddit</th>\n",
       "      <th>num_words</th>\n",
       "      <th>openAI-classification</th>\n",
       "    </tr>\n",
       "  </thead>\n",
       "  <tbody>\n",
       "    <tr>\n",
       "      <th>959</th>\n",
       "      <td>1667345713</td>\n",
       "      <td>Yeah, that person has been here under a name o...</td>\n",
       "      <td>negative</td>\n",
       "      <td>negative</td>\n",
       "      <td>negative</td>\n",
       "      <td>negative</td>\n",
       "      <td>DonaldTrumpJr</td>\n",
       "      <td>58</td>\n",
       "      <td>1</td>\n",
       "    </tr>\n",
       "    <tr>\n",
       "      <th>806</th>\n",
       "      <td>1650271665</td>\n",
       "      <td>The world is depopulating already . People dyi...</td>\n",
       "      <td>negative</td>\n",
       "      <td>negative</td>\n",
       "      <td>negative</td>\n",
       "      <td>negative</td>\n",
       "      <td>TrumpSupportersChannel</td>\n",
       "      <td>89</td>\n",
       "      <td>5</td>\n",
       "    </tr>\n",
       "    <tr>\n",
       "      <th>751</th>\n",
       "      <td>1640801441</td>\n",
       "      <td>time the floods started to flush out all dead ...</td>\n",
       "      <td>negative</td>\n",
       "      <td>negative</td>\n",
       "      <td>negative</td>\n",
       "      <td>negative</td>\n",
       "      <td>TrumpSupportersChannel</td>\n",
       "      <td>177</td>\n",
       "      <td>5</td>\n",
       "    </tr>\n",
       "    <tr>\n",
       "      <th>517</th>\n",
       "      <td>1668486576</td>\n",
       "      <td>Further more on the Clot Shot! If Trump had ev...</td>\n",
       "      <td>negative</td>\n",
       "      <td>negative</td>\n",
       "      <td>negative</td>\n",
       "      <td>negative</td>\n",
       "      <td>RTM</td>\n",
       "      <td>86</td>\n",
       "      <td>4</td>\n",
       "    </tr>\n",
       "    <tr>\n",
       "      <th>1306</th>\n",
       "      <td>1673065090</td>\n",
       "      <td>Let’s  acknowledge the day the uniparty coordi...</td>\n",
       "      <td>negative</td>\n",
       "      <td>negative</td>\n",
       "      <td>negative</td>\n",
       "      <td>negative</td>\n",
       "      <td>WeTheMedia</td>\n",
       "      <td>75</td>\n",
       "      <td>1</td>\n",
       "    </tr>\n",
       "    <tr>\n",
       "      <th>714</th>\n",
       "      <td>1678553997</td>\n",
       "      <td>No more secrets from WE THE PEOPLE  THIS IS TH...</td>\n",
       "      <td>negative</td>\n",
       "      <td>negative</td>\n",
       "      <td>negative</td>\n",
       "      <td>negative</td>\n",
       "      <td>RTM</td>\n",
       "      <td>56</td>\n",
       "      <td>5</td>\n",
       "    </tr>\n",
       "    <tr>\n",
       "      <th>554</th>\n",
       "      <td>1670445046</td>\n",
       "      <td>The Parents have been lied to and misinformed....</td>\n",
       "      <td>negative</td>\n",
       "      <td>negative</td>\n",
       "      <td>negative</td>\n",
       "      <td>negative</td>\n",
       "      <td>RTM</td>\n",
       "      <td>87</td>\n",
       "      <td>2</td>\n",
       "    </tr>\n",
       "    <tr>\n",
       "      <th>323</th>\n",
       "      <td>1658332253</td>\n",
       "      <td>If this is true, him and all his cronnies shou...</td>\n",
       "      <td>negative</td>\n",
       "      <td>negative</td>\n",
       "      <td>negative</td>\n",
       "      <td>negative</td>\n",
       "      <td>ThePatriotVoice</td>\n",
       "      <td>75</td>\n",
       "      <td>4</td>\n",
       "    </tr>\n",
       "    <tr>\n",
       "      <th>136</th>\n",
       "      <td>1657811265</td>\n",
       "      <td>This Jackal Is An Idiot and needs to be remove...</td>\n",
       "      <td>negative</td>\n",
       "      <td>negative</td>\n",
       "      <td>negative</td>\n",
       "      <td>negative</td>\n",
       "      <td>TheTrumpRepublicans</td>\n",
       "      <td>69</td>\n",
       "      <td>4</td>\n",
       "    </tr>\n",
       "    <tr>\n",
       "      <th>74</th>\n",
       "      <td>1634937564</td>\n",
       "      <td>Shame on any person that wants to hurt God’s l...</td>\n",
       "      <td>negative</td>\n",
       "      <td>negative</td>\n",
       "      <td>negative</td>\n",
       "      <td>negative</td>\n",
       "      <td>TheTrumpRepublicans</td>\n",
       "      <td>68</td>\n",
       "      <td>4</td>\n",
       "    </tr>\n",
       "  </tbody>\n",
       "</table>\n",
       "</div>"
      ],
      "text/plain": [
       "      date_unixtime                                              reply  \\\n",
       "959      1667345713  Yeah, that person has been here under a name o...   \n",
       "806      1650271665  The world is depopulating already . People dyi...   \n",
       "751      1640801441  time the floods started to flush out all dead ...   \n",
       "517      1668486576  Further more on the Clot Shot! If Trump had ev...   \n",
       "1306     1673065090  Let’s  acknowledge the day the uniparty coordi...   \n",
       "714      1678553997  No more secrets from WE THE PEOPLE  THIS IS TH...   \n",
       "554      1670445046  The Parents have been lied to and misinformed....   \n",
       "323      1658332253  If this is true, him and all his cronnies shou...   \n",
       "136      1657811265  This Jackal Is An Idiot and needs to be remove...   \n",
       "74       1634937564  Shame on any person that wants to hurt God’s l...   \n",
       "\n",
       "        tfSent VADERSent AfinnSent TextBlobSent               subreddit  \\\n",
       "959   negative  negative  negative     negative           DonaldTrumpJr   \n",
       "806   negative  negative  negative     negative  TrumpSupportersChannel   \n",
       "751   negative  negative  negative     negative  TrumpSupportersChannel   \n",
       "517   negative  negative  negative     negative                     RTM   \n",
       "1306  negative  negative  negative     negative              WeTheMedia   \n",
       "714   negative  negative  negative     negative                     RTM   \n",
       "554   negative  negative  negative     negative                     RTM   \n",
       "323   negative  negative  negative     negative         ThePatriotVoice   \n",
       "136   negative  negative  negative     negative     TheTrumpRepublicans   \n",
       "74    negative  negative  negative     negative     TheTrumpRepublicans   \n",
       "\n",
       "      num_words  openAI-classification  \n",
       "959          58                      1  \n",
       "806          89                      5  \n",
       "751         177                      5  \n",
       "517          86                      4  \n",
       "1306         75                      1  \n",
       "714          56                      5  \n",
       "554          87                      2  \n",
       "323          75                      4  \n",
       "136          69                      4  \n",
       "74           68                      4  "
      ]
     },
     "execution_count": 25,
     "metadata": {},
     "output_type": "execute_result"
    }
   ],
   "source": [
    "sampled_df.head(10)"
   ]
  },
  {
   "cell_type": "code",
   "execution_count": 26,
   "id": "7e182427-ea30-4752-a735-5b1d5c54d09a",
   "metadata": {},
   "outputs": [],
   "source": [
    "sampled_df['openAI-classification'] = sampled_df['openAI-classification'].replace([6], 0)"
   ]
  },
  {
   "cell_type": "code",
   "execution_count": 27,
   "id": "e156ec9b-90a8-4b5c-995f-d6c192724771",
   "metadata": {},
   "outputs": [],
   "source": [
    "sampled_df.to_csv(\"/home/ravi/UCF Dropbox/KAMALAKKANNAN RAVI/guyonDesktop/DATA_AutomatedHarmDetection/Annotate/TestSamples180BasedonOpenAIForAnnotation.csv\")"
   ]
  },
  {
   "cell_type": "markdown",
   "id": "58832c9c-278d-4548-956a-f46b7157201c",
   "metadata": {
    "tags": []
   },
   "source": [
    "# Predictions on 1136 test set sample"
   ]
  },
  {
   "cell_type": "code",
   "execution_count": 126,
   "id": "52a0574e-1115-4d03-a4b8-6941a9ea19ff",
   "metadata": {},
   "outputs": [],
   "source": [
    "test_data = pd.read_json(\"/home/ravi/UCF Dropbox/KAMALAKKANNAN RAVI/guyonDesktop/DATA_AutomatedHarmDetection/Annotate/Sample_1326_For_Testing.json\", orient='records')"
   ]
  },
  {
   "cell_type": "code",
   "execution_count": 127,
   "id": "31e4f834-a9dc-4d30-ae98-460640d8904f",
   "metadata": {},
   "outputs": [],
   "source": [
    "test_data = test_data.sort_values(by=['date_unixtime'], ascending=False)"
   ]
  },
  {
   "cell_type": "code",
   "execution_count": 128,
   "id": "4fff5b3d-f1d2-4481-b406-c4d0c60dffca",
   "metadata": {},
   "outputs": [],
   "source": [
    "test_data = test_data.reset_index(drop=True)"
   ]
  },
  {
   "cell_type": "code",
   "execution_count": 129,
   "id": "bf866b6a-a682-42bf-ba40-a92d3631e362",
   "metadata": {},
   "outputs": [
    {
     "data": {
      "text/html": [
       "<div>\n",
       "<style scoped>\n",
       "    .dataframe tbody tr th:only-of-type {\n",
       "        vertical-align: middle;\n",
       "    }\n",
       "\n",
       "    .dataframe tbody tr th {\n",
       "        vertical-align: top;\n",
       "    }\n",
       "\n",
       "    .dataframe thead th {\n",
       "        text-align: right;\n",
       "    }\n",
       "</style>\n",
       "<table border=\"1\" class=\"dataframe\">\n",
       "  <thead>\n",
       "    <tr style=\"text-align: right;\">\n",
       "      <th></th>\n",
       "      <th>date_unixtime</th>\n",
       "      <th>reply</th>\n",
       "      <th>tfSent</th>\n",
       "      <th>VADERSent</th>\n",
       "      <th>AfinnSent</th>\n",
       "      <th>TextBlobSent</th>\n",
       "      <th>subreddit</th>\n",
       "      <th>num_words</th>\n",
       "      <th>openAI-classification</th>\n",
       "    </tr>\n",
       "  </thead>\n",
       "  <tbody>\n",
       "    <tr>\n",
       "      <th>0</th>\n",
       "      <td>1680634712</td>\n",
       "      <td>I keep asking, how is it a local lowly NY DA f...</td>\n",
       "      <td>negative</td>\n",
       "      <td>negative</td>\n",
       "      <td>negative</td>\n",
       "      <td>negative</td>\n",
       "      <td>DonaldTrumpJr</td>\n",
       "      <td>64</td>\n",
       "      <td>1</td>\n",
       "    </tr>\n",
       "  </tbody>\n",
       "</table>\n",
       "</div>"
      ],
      "text/plain": [
       "   date_unixtime                                              reply    tfSent  \\\n",
       "0     1680634712  I keep asking, how is it a local lowly NY DA f...  negative   \n",
       "\n",
       "  VADERSent AfinnSent TextBlobSent      subreddit  num_words  \\\n",
       "0  negative  negative     negative  DonaldTrumpJr         64   \n",
       "\n",
       "   openAI-classification  \n",
       "0                      1  "
      ]
     },
     "execution_count": 129,
     "metadata": {},
     "output_type": "execute_result"
    }
   ],
   "source": [
    "test_data.head(1)"
   ]
  },
  {
   "cell_type": "code",
   "execution_count": 130,
   "id": "c48b8a2f-20fb-453d-905a-ae287bb896b5",
   "metadata": {},
   "outputs": [
    {
     "data": {
      "text/html": [
       "<div>\n",
       "<style scoped>\n",
       "    .dataframe tbody tr th:only-of-type {\n",
       "        vertical-align: middle;\n",
       "    }\n",
       "\n",
       "    .dataframe tbody tr th {\n",
       "        vertical-align: top;\n",
       "    }\n",
       "\n",
       "    .dataframe thead th {\n",
       "        text-align: right;\n",
       "    }\n",
       "</style>\n",
       "<table border=\"1\" class=\"dataframe\">\n",
       "  <thead>\n",
       "    <tr style=\"text-align: right;\">\n",
       "      <th></th>\n",
       "      <th>date_unixtime</th>\n",
       "      <th>reply</th>\n",
       "      <th>tfSent</th>\n",
       "      <th>VADERSent</th>\n",
       "      <th>AfinnSent</th>\n",
       "      <th>TextBlobSent</th>\n",
       "      <th>subreddit</th>\n",
       "      <th>num_words</th>\n",
       "      <th>openAI-classification</th>\n",
       "    </tr>\n",
       "  </thead>\n",
       "  <tbody>\n",
       "    <tr>\n",
       "      <th>1325</th>\n",
       "      <td>1611588698</td>\n",
       "      <td>Trump has surrounded himself and has chosen so...</td>\n",
       "      <td>negative</td>\n",
       "      <td>negative</td>\n",
       "      <td>negative</td>\n",
       "      <td>negative</td>\n",
       "      <td>InfoWars.com</td>\n",
       "      <td>50</td>\n",
       "      <td>0</td>\n",
       "    </tr>\n",
       "  </tbody>\n",
       "</table>\n",
       "</div>"
      ],
      "text/plain": [
       "      date_unixtime                                              reply  \\\n",
       "1325     1611588698  Trump has surrounded himself and has chosen so...   \n",
       "\n",
       "        tfSent VADERSent AfinnSent TextBlobSent     subreddit  num_words  \\\n",
       "1325  negative  negative  negative     negative  InfoWars.com         50   \n",
       "\n",
       "      openAI-classification  \n",
       "1325                      0  "
      ]
     },
     "execution_count": 130,
     "metadata": {},
     "output_type": "execute_result"
    }
   ],
   "source": [
    "test_data.tail(1)"
   ]
  },
  {
   "cell_type": "code",
   "execution_count": 131,
   "id": "58d1a0d2-d75f-4b80-bb90-7b4edfd6c9c0",
   "metadata": {},
   "outputs": [],
   "source": [
    "test_data.to_json(\"/home/ravi/UCF Dropbox/KAMALAKKANNAN RAVI/guyonDesktop/DATA_AutomatedHarmDetection/Annotate/Sample_1326_For_Testing.json\", orient='records')"
   ]
  },
  {
   "cell_type": "markdown",
   "id": "e8f1a394-8375-41c4-8053-8c8e07f737ba",
   "metadata": {},
   "source": [
    "## fastText predictions"
   ]
  },
  {
   "cell_type": "code",
   "execution_count": 132,
   "id": "40b30409-ea04-4a61-999c-0576126a53bb",
   "metadata": {},
   "outputs": [],
   "source": [
    "fTDF = pd.read_json('/home/ravi/UCF Dropbox/KAMALAKKANNAN RAVI/guyonDesktop/DATA_AutomatedHarmDetection/DataModelsResults/Results/fastText/test_data_yTrue_yPred.json', orient='records')"
   ]
  },
  {
   "cell_type": "code",
   "execution_count": 133,
   "id": "f37b8a04-5f03-4da2-bbd3-82face480211",
   "metadata": {},
   "outputs": [],
   "source": [
    "fTDF = fTDF.rename(columns={\"subreddit\": \"channel\", \"article\": \"reply\"})\n",
    "fTDF = fTDF.drop(columns=['tfSent', 'VADERSent', 'AfinnSent', 'TextBlobSent'])"
   ]
  },
  {
   "cell_type": "code",
   "execution_count": 134,
   "id": "1ee4e554-022c-4c76-b5a8-7e9177d38172",
   "metadata": {},
   "outputs": [
    {
     "data": {
      "text/html": [
       "<div>\n",
       "<style scoped>\n",
       "    .dataframe tbody tr th:only-of-type {\n",
       "        vertical-align: middle;\n",
       "    }\n",
       "\n",
       "    .dataframe tbody tr th {\n",
       "        vertical-align: top;\n",
       "    }\n",
       "\n",
       "    .dataframe thead th {\n",
       "        text-align: right;\n",
       "    }\n",
       "</style>\n",
       "<table border=\"1\" class=\"dataframe\">\n",
       "  <thead>\n",
       "    <tr style=\"text-align: right;\">\n",
       "      <th></th>\n",
       "      <th>date_unixtime</th>\n",
       "      <th>reply</th>\n",
       "      <th>channel</th>\n",
       "      <th>num_words</th>\n",
       "      <th>label</th>\n",
       "      <th>y_pred</th>\n",
       "    </tr>\n",
       "  </thead>\n",
       "  <tbody>\n",
       "    <tr>\n",
       "      <th>0</th>\n",
       "      <td>1671323910</td>\n",
       "      <td>Buy silver and xrp just a opinion. Been diggin...</td>\n",
       "      <td>absoluteTruth1776</td>\n",
       "      <td>88</td>\n",
       "      <td>0</td>\n",
       "      <td>2</td>\n",
       "    </tr>\n",
       "  </tbody>\n",
       "</table>\n",
       "</div>"
      ],
      "text/plain": [
       "   date_unixtime                                              reply  \\\n",
       "0     1671323910  Buy silver and xrp just a opinion. Been diggin...   \n",
       "\n",
       "             channel  num_words  label  y_pred  \n",
       "0  absoluteTruth1776         88      0       2  "
      ]
     },
     "execution_count": 134,
     "metadata": {},
     "output_type": "execute_result"
    }
   ],
   "source": [
    "fTDF.head(1)"
   ]
  },
  {
   "cell_type": "code",
   "execution_count": 135,
   "id": "ba626eeb-25ea-411d-a495-30b500187798",
   "metadata": {},
   "outputs": [
    {
     "data": {
      "text/plain": [
       "(1326, 6)"
      ]
     },
     "execution_count": 135,
     "metadata": {},
     "output_type": "execute_result"
    }
   ],
   "source": [
    "fTDF.shape"
   ]
  },
  {
   "cell_type": "markdown",
   "id": "bfe1422a-43c9-4528-acf7-768152446bb3",
   "metadata": {},
   "source": [
    "## LSTM predictions"
   ]
  },
  {
   "cell_type": "code",
   "execution_count": 136,
   "id": "5719dedd-2886-42d2-bc8f-c52a092e3f09",
   "metadata": {},
   "outputs": [],
   "source": [
    "lstmDF = pd.read_json('/home/ravi/UCF Dropbox/KAMALAKKANNAN RAVI/guyonDesktop/DATA_AutomatedHarmDetection/DataModelsResults/Results/LSTM/test_data_yTrue_yPred.json', orient='records')"
   ]
  },
  {
   "cell_type": "code",
   "execution_count": 137,
   "id": "738f1ecf-ccf8-4199-9b4b-0334ef3243dd",
   "metadata": {},
   "outputs": [],
   "source": [
    "lstmDF = lstmDF.rename(columns={\"subreddit\": \"channel\", \"article\": \"reply\"})\n",
    "lstmDF = lstmDF.drop(columns=['tfSent', 'VADERSent', 'AfinnSent', 'TextBlobSent'])"
   ]
  },
  {
   "cell_type": "code",
   "execution_count": 138,
   "id": "b863aca9-ebde-4e91-b497-0646e39052a0",
   "metadata": {},
   "outputs": [
    {
     "data": {
      "text/html": [
       "<div>\n",
       "<style scoped>\n",
       "    .dataframe tbody tr th:only-of-type {\n",
       "        vertical-align: middle;\n",
       "    }\n",
       "\n",
       "    .dataframe tbody tr th {\n",
       "        vertical-align: top;\n",
       "    }\n",
       "\n",
       "    .dataframe thead th {\n",
       "        text-align: right;\n",
       "    }\n",
       "</style>\n",
       "<table border=\"1\" class=\"dataframe\">\n",
       "  <thead>\n",
       "    <tr style=\"text-align: right;\">\n",
       "      <th></th>\n",
       "      <th>date_unixtime</th>\n",
       "      <th>reply</th>\n",
       "      <th>channel</th>\n",
       "      <th>num_words</th>\n",
       "      <th>label</th>\n",
       "      <th>y_pred</th>\n",
       "    </tr>\n",
       "  </thead>\n",
       "  <tbody>\n",
       "    <tr>\n",
       "      <th>0</th>\n",
       "      <td>1680634712</td>\n",
       "      <td>I keep asking, how is it a local lowly NY DA f...</td>\n",
       "      <td>DonaldTrumpJr</td>\n",
       "      <td>64</td>\n",
       "      <td>1</td>\n",
       "      <td>3</td>\n",
       "    </tr>\n",
       "  </tbody>\n",
       "</table>\n",
       "</div>"
      ],
      "text/plain": [
       "   date_unixtime                                              reply  \\\n",
       "0     1680634712  I keep asking, how is it a local lowly NY DA f...   \n",
       "\n",
       "         channel  num_words  label  y_pred  \n",
       "0  DonaldTrumpJr         64      1       3  "
      ]
     },
     "execution_count": 138,
     "metadata": {},
     "output_type": "execute_result"
    }
   ],
   "source": [
    "lstmDF.head(1)"
   ]
  },
  {
   "cell_type": "code",
   "execution_count": 139,
   "id": "1c1dddd6-dbcb-46c3-8d73-871e049c11ad",
   "metadata": {},
   "outputs": [
    {
     "data": {
      "text/plain": [
       "(1326, 6)"
      ]
     },
     "execution_count": 139,
     "metadata": {},
     "output_type": "execute_result"
    }
   ],
   "source": [
    "lstmDF.shape"
   ]
  },
  {
   "cell_type": "markdown",
   "id": "c0e04bb4-b71c-4db0-a9b2-12769d95339f",
   "metadata": {},
   "source": [
    "## GPT2 predictions"
   ]
  },
  {
   "cell_type": "code",
   "execution_count": 140,
   "id": "b8336058-1e84-4643-901b-0b6188bfeace",
   "metadata": {},
   "outputs": [],
   "source": [
    "GPT2DF = pd.read_json('/home/ravi/UCF Dropbox/KAMALAKKANNAN RAVI/guyonDesktop/DATA_AutomatedHarmDetection/DataModelsResults/Results/OpenAIGPT2/test_data_yTrue_yPred.json', orient='records')"
   ]
  },
  {
   "cell_type": "code",
   "execution_count": 141,
   "id": "e7ce7cd8-7ac9-4488-ae5d-727cc2c4bbf8",
   "metadata": {},
   "outputs": [],
   "source": [
    "GPT2DF = GPT2DF.rename(columns={\"subreddit\": \"channel\", \"text\": \"reply\"})\n",
    "GPT2DF = GPT2DF.drop(columns=['tfSent', 'VADERSent', 'AfinnSent', 'TextBlobSent'])"
   ]
  },
  {
   "cell_type": "code",
   "execution_count": 142,
   "id": "681a02b5-272f-4677-b895-39519e5edc32",
   "metadata": {},
   "outputs": [
    {
     "data": {
      "text/html": [
       "<div>\n",
       "<style scoped>\n",
       "    .dataframe tbody tr th:only-of-type {\n",
       "        vertical-align: middle;\n",
       "    }\n",
       "\n",
       "    .dataframe tbody tr th {\n",
       "        vertical-align: top;\n",
       "    }\n",
       "\n",
       "    .dataframe thead th {\n",
       "        text-align: right;\n",
       "    }\n",
       "</style>\n",
       "<table border=\"1\" class=\"dataframe\">\n",
       "  <thead>\n",
       "    <tr style=\"text-align: right;\">\n",
       "      <th></th>\n",
       "      <th>date_unixtime</th>\n",
       "      <th>reply</th>\n",
       "      <th>channel</th>\n",
       "      <th>num_words</th>\n",
       "      <th>label</th>\n",
       "      <th>y_pred</th>\n",
       "    </tr>\n",
       "  </thead>\n",
       "  <tbody>\n",
       "    <tr>\n",
       "      <th>0</th>\n",
       "      <td>1680634712</td>\n",
       "      <td>I keep asking, how is it a local lowly NY DA f...</td>\n",
       "      <td>DonaldTrumpJr</td>\n",
       "      <td>64</td>\n",
       "      <td>1</td>\n",
       "      <td>1</td>\n",
       "    </tr>\n",
       "  </tbody>\n",
       "</table>\n",
       "</div>"
      ],
      "text/plain": [
       "   date_unixtime                                              reply  \\\n",
       "0     1680634712  I keep asking, how is it a local lowly NY DA f...   \n",
       "\n",
       "         channel  num_words  label  y_pred  \n",
       "0  DonaldTrumpJr         64      1       1  "
      ]
     },
     "execution_count": 142,
     "metadata": {},
     "output_type": "execute_result"
    }
   ],
   "source": [
    "GPT2DF.head(1)"
   ]
  },
  {
   "cell_type": "code",
   "execution_count": 143,
   "id": "324f3a22-e70f-41c4-a646-7f031d5cbdea",
   "metadata": {},
   "outputs": [
    {
     "data": {
      "text/plain": [
       "(1326, 6)"
      ]
     },
     "execution_count": 143,
     "metadata": {},
     "output_type": "execute_result"
    }
   ],
   "source": [
    "GPT2DF.shape"
   ]
  },
  {
   "cell_type": "markdown",
   "id": "a44be913-857a-4516-87d1-cb2295449d18",
   "metadata": {},
   "source": [
    "## SVM predictions"
   ]
  },
  {
   "cell_type": "code",
   "execution_count": 144,
   "id": "a1482020-acc1-4143-a344-01359a116165",
   "metadata": {},
   "outputs": [],
   "source": [
    "SVMDF = pd.read_json('/home/ravi/UCF Dropbox/KAMALAKKANNAN RAVI/guyonDesktop/DATA_AutomatedHarmDetection/DataModelsResults/Results/SVM/test_data_yTrue_yPred.json', orient='records')"
   ]
  },
  {
   "cell_type": "code",
   "execution_count": 145,
   "id": "06a2c347-f191-418f-9cad-73b8e88b201e",
   "metadata": {},
   "outputs": [],
   "source": [
    "SVMDF = SVMDF.rename(columns={\"subreddit\": \"channel\", \"article\": \"reply\"})\n",
    "SVMDF = SVMDF.drop(columns=['tfSent', 'VADERSent', 'AfinnSent', 'TextBlobSent'])"
   ]
  },
  {
   "cell_type": "code",
   "execution_count": 146,
   "id": "3749a3d4-08de-41e7-9f3c-266c60354708",
   "metadata": {},
   "outputs": [
    {
     "data": {
      "text/html": [
       "<div>\n",
       "<style scoped>\n",
       "    .dataframe tbody tr th:only-of-type {\n",
       "        vertical-align: middle;\n",
       "    }\n",
       "\n",
       "    .dataframe tbody tr th {\n",
       "        vertical-align: top;\n",
       "    }\n",
       "\n",
       "    .dataframe thead th {\n",
       "        text-align: right;\n",
       "    }\n",
       "</style>\n",
       "<table border=\"1\" class=\"dataframe\">\n",
       "  <thead>\n",
       "    <tr style=\"text-align: right;\">\n",
       "      <th></th>\n",
       "      <th>date_unixtime</th>\n",
       "      <th>reply</th>\n",
       "      <th>channel</th>\n",
       "      <th>num_words</th>\n",
       "      <th>label</th>\n",
       "      <th>y_pred</th>\n",
       "    </tr>\n",
       "  </thead>\n",
       "  <tbody>\n",
       "    <tr>\n",
       "      <th>0</th>\n",
       "      <td>1671323910</td>\n",
       "      <td>Buy silver and xrp just a opinion. Been diggin...</td>\n",
       "      <td>absoluteTruth1776</td>\n",
       "      <td>88</td>\n",
       "      <td>0</td>\n",
       "      <td>0</td>\n",
       "    </tr>\n",
       "  </tbody>\n",
       "</table>\n",
       "</div>"
      ],
      "text/plain": [
       "   date_unixtime                                              reply  \\\n",
       "0     1671323910  Buy silver and xrp just a opinion. Been diggin...   \n",
       "\n",
       "             channel  num_words  label  y_pred  \n",
       "0  absoluteTruth1776         88      0       0  "
      ]
     },
     "execution_count": 146,
     "metadata": {},
     "output_type": "execute_result"
    }
   ],
   "source": [
    "SVMDF.head(1)"
   ]
  },
  {
   "cell_type": "code",
   "execution_count": 147,
   "id": "8f42666a-ecf3-4575-9ac1-c926bd9e9f6a",
   "metadata": {},
   "outputs": [
    {
     "data": {
      "text/plain": [
       "(1326, 6)"
      ]
     },
     "execution_count": 147,
     "metadata": {},
     "output_type": "execute_result"
    }
   ],
   "source": [
    "SVMDF.shape"
   ]
  },
  {
   "cell_type": "markdown",
   "id": "b0f958f3-9dd7-4a42-8760-6bc30f077504",
   "metadata": {},
   "source": [
    "# 180 samples"
   ]
  },
  {
   "cell_type": "code",
   "execution_count": 148,
   "id": "a5915034-a371-4c31-8686-af68d37d5bf3",
   "metadata": {},
   "outputs": [],
   "source": [
    "samples180 = pd.read_csv(\"/home/ravi/UCF Dropbox/KAMALAKKANNAN RAVI/guyonDesktop/DATA_AutomatedHarmDetection/Annotate/TestSamples180BasedonOpenAIForAnnotation.csv\")"
   ]
  },
  {
   "cell_type": "code",
   "execution_count": 149,
   "id": "3ab5be10-626e-4d25-b2b0-d66ddbf13a42",
   "metadata": {},
   "outputs": [],
   "source": [
    "samples180 = samples180.rename(columns={\"subreddit\": \"channel\"})\n",
    "samples180 = samples180.drop(columns=['tfSent', 'VADERSent', 'AfinnSent', 'TextBlobSent', 'Unnamed: 0'])"
   ]
  },
  {
   "cell_type": "code",
   "execution_count": 150,
   "id": "1c74ad10-a678-4aac-83fa-77e2aba9d368",
   "metadata": {},
   "outputs": [
    {
     "data": {
      "text/html": [
       "<div>\n",
       "<style scoped>\n",
       "    .dataframe tbody tr th:only-of-type {\n",
       "        vertical-align: middle;\n",
       "    }\n",
       "\n",
       "    .dataframe tbody tr th {\n",
       "        vertical-align: top;\n",
       "    }\n",
       "\n",
       "    .dataframe thead th {\n",
       "        text-align: right;\n",
       "    }\n",
       "</style>\n",
       "<table border=\"1\" class=\"dataframe\">\n",
       "  <thead>\n",
       "    <tr style=\"text-align: right;\">\n",
       "      <th></th>\n",
       "      <th>date_unixtime</th>\n",
       "      <th>reply</th>\n",
       "      <th>channel</th>\n",
       "      <th>num_words</th>\n",
       "      <th>openAI-classification</th>\n",
       "    </tr>\n",
       "  </thead>\n",
       "  <tbody>\n",
       "    <tr>\n",
       "      <th>0</th>\n",
       "      <td>1667345713</td>\n",
       "      <td>Yeah, that person has been here under a name o...</td>\n",
       "      <td>DonaldTrumpJr</td>\n",
       "      <td>58</td>\n",
       "      <td>1</td>\n",
       "    </tr>\n",
       "  </tbody>\n",
       "</table>\n",
       "</div>"
      ],
      "text/plain": [
       "   date_unixtime                                              reply  \\\n",
       "0     1667345713  Yeah, that person has been here under a name o...   \n",
       "\n",
       "         channel  num_words  openAI-classification  \n",
       "0  DonaldTrumpJr         58                      1  "
      ]
     },
     "execution_count": 150,
     "metadata": {},
     "output_type": "execute_result"
    }
   ],
   "source": [
    "samples180.head(1)"
   ]
  },
  {
   "cell_type": "code",
   "execution_count": 151,
   "id": "6fb0dfc8-33d9-4335-9daa-95ad10862c63",
   "metadata": {},
   "outputs": [
    {
     "data": {
      "text/plain": [
       "(180, 5)"
      ]
     },
     "execution_count": 151,
     "metadata": {},
     "output_type": "execute_result"
    }
   ],
   "source": [
    "samples180.shape"
   ]
  },
  {
   "cell_type": "code",
   "execution_count": 152,
   "id": "672ceec8-4256-4c81-9893-b4192b2951cc",
   "metadata": {},
   "outputs": [],
   "source": [
    "# fastText\n",
    "# Create a new column in LizTest174 to store the label values\n",
    "samples180['fastText'] = None\n",
    "\n",
    "# Iterate over each row in LizTest174\n",
    "for index, row in samples180.iterrows():\n",
    "    time = row['date_unixtime']\n",
    "    \n",
    "    # Check if the reply is in G5df['reply']\n",
    "    matching_row = fTDF[fTDF['date_unixtime'] == time]\n",
    "    \n",
    "    # If a match is found, retrieve the label value from G5df and fill it in LizTest174\n",
    "    if not matching_row.empty:\n",
    "        label = matching_row.iloc[0]['y_pred']\n",
    "        samples180.at[index, 'fastText'] = label"
   ]
  },
  {
   "cell_type": "code",
   "execution_count": 153,
   "id": "955e5161-a0e5-4dd2-9842-3bed9710d913",
   "metadata": {},
   "outputs": [],
   "source": [
    "# LSTM\n",
    "# Create a new column in LizTest174 to store the label values\n",
    "samples180['LSTM'] = None\n",
    "\n",
    "# Iterate over each row in LizTest174\n",
    "for index, row in samples180.iterrows():\n",
    "    time = row['date_unixtime']\n",
    "    \n",
    "    # Check if the reply is in G5df['reply']\n",
    "    matching_row = lstmDF[lstmDF['date_unixtime'] == time]\n",
    "    \n",
    "    # If a match is found, retrieve the label value from G5df and fill it in LizTest174\n",
    "    if not matching_row.empty:\n",
    "        label = matching_row.iloc[0]['y_pred']\n",
    "        samples180.at[index, 'LSTM'] = label"
   ]
  },
  {
   "cell_type": "code",
   "execution_count": 154,
   "id": "f7ccf630-646b-4085-88a1-7983355e0c7a",
   "metadata": {},
   "outputs": [],
   "source": [
    "# GPT2\n",
    "# Create a new column in LizTest174 to store the label values\n",
    "samples180['GPT2'] = None\n",
    "\n",
    "# Iterate over each row in LizTest174\n",
    "for index, row in samples180.iterrows():\n",
    "    time = row['date_unixtime']\n",
    "    \n",
    "    # Check if the reply is in G5df['reply']\n",
    "    matching_row = GPT2DF[GPT2DF['date_unixtime'] == time]\n",
    "    \n",
    "    # If a match is found, retrieve the label value from G5df and fill it in LizTest174\n",
    "    if not matching_row.empty:\n",
    "        label = matching_row.iloc[0]['y_pred']\n",
    "        samples180.at[index, 'GPT2'] = label"
   ]
  },
  {
   "cell_type": "code",
   "execution_count": 155,
   "id": "99ff1dc1-9f95-491d-bc78-48f0dabd499c",
   "metadata": {},
   "outputs": [],
   "source": [
    "# SVM\n",
    "# Create a new column in LizTest174 to store the label values\n",
    "samples180['SVM'] = None\n",
    "\n",
    "# Iterate over each row in LizTest174\n",
    "for index, row in samples180.iterrows():\n",
    "    time = row['date_unixtime']\n",
    "    \n",
    "    # Check if the reply is in G5df['reply']\n",
    "    matching_row = SVMDF[SVMDF['date_unixtime'] == time]\n",
    "    \n",
    "    # If a match is found, retrieve the label value from G5df and fill it in LizTest174\n",
    "    if not matching_row.empty:\n",
    "        label = matching_row.iloc[0]['y_pred']\n",
    "        samples180.at[index, 'SVM'] = label"
   ]
  },
  {
   "cell_type": "code",
   "execution_count": 156,
   "id": "ff51e803-8bf7-4b3e-b13a-074c393f2618",
   "metadata": {},
   "outputs": [
    {
     "data": {
      "text/plain": [
       "(180, 9)"
      ]
     },
     "execution_count": 156,
     "metadata": {},
     "output_type": "execute_result"
    }
   ],
   "source": [
    "samples180.shape"
   ]
  },
  {
   "cell_type": "code",
   "execution_count": 157,
   "id": "4fa780bd-7670-4792-b282-54d933f2404d",
   "metadata": {},
   "outputs": [
    {
     "data": {
      "text/html": [
       "<div>\n",
       "<style scoped>\n",
       "    .dataframe tbody tr th:only-of-type {\n",
       "        vertical-align: middle;\n",
       "    }\n",
       "\n",
       "    .dataframe tbody tr th {\n",
       "        vertical-align: top;\n",
       "    }\n",
       "\n",
       "    .dataframe thead th {\n",
       "        text-align: right;\n",
       "    }\n",
       "</style>\n",
       "<table border=\"1\" class=\"dataframe\">\n",
       "  <thead>\n",
       "    <tr style=\"text-align: right;\">\n",
       "      <th></th>\n",
       "      <th>date_unixtime</th>\n",
       "      <th>reply</th>\n",
       "      <th>channel</th>\n",
       "      <th>num_words</th>\n",
       "      <th>openAI-classification</th>\n",
       "      <th>fastText</th>\n",
       "      <th>LSTM</th>\n",
       "      <th>GPT2</th>\n",
       "      <th>SVM</th>\n",
       "    </tr>\n",
       "  </thead>\n",
       "  <tbody>\n",
       "    <tr>\n",
       "      <th>0</th>\n",
       "      <td>1667345713</td>\n",
       "      <td>Yeah, that person has been here under a name o...</td>\n",
       "      <td>DonaldTrumpJr</td>\n",
       "      <td>58</td>\n",
       "      <td>1</td>\n",
       "      <td>0</td>\n",
       "      <td>0</td>\n",
       "      <td>0</td>\n",
       "      <td>0</td>\n",
       "    </tr>\n",
       "    <tr>\n",
       "      <th>1</th>\n",
       "      <td>1650271665</td>\n",
       "      <td>The world is depopulating already . People dyi...</td>\n",
       "      <td>TrumpSupportersChannel</td>\n",
       "      <td>89</td>\n",
       "      <td>5</td>\n",
       "      <td>4</td>\n",
       "      <td>0</td>\n",
       "      <td>5</td>\n",
       "      <td>2</td>\n",
       "    </tr>\n",
       "    <tr>\n",
       "      <th>2</th>\n",
       "      <td>1640801441</td>\n",
       "      <td>time the floods started to flush out all dead ...</td>\n",
       "      <td>TrumpSupportersChannel</td>\n",
       "      <td>177</td>\n",
       "      <td>5</td>\n",
       "      <td>2</td>\n",
       "      <td>3</td>\n",
       "      <td>2</td>\n",
       "      <td>2</td>\n",
       "    </tr>\n",
       "    <tr>\n",
       "      <th>3</th>\n",
       "      <td>1668486576</td>\n",
       "      <td>Further more on the Clot Shot! If Trump had ev...</td>\n",
       "      <td>RTM</td>\n",
       "      <td>86</td>\n",
       "      <td>4</td>\n",
       "      <td>3</td>\n",
       "      <td>0</td>\n",
       "      <td>2</td>\n",
       "      <td>0</td>\n",
       "    </tr>\n",
       "    <tr>\n",
       "      <th>4</th>\n",
       "      <td>1673065090</td>\n",
       "      <td>Let’s  acknowledge the day the uniparty coordi...</td>\n",
       "      <td>WeTheMedia</td>\n",
       "      <td>75</td>\n",
       "      <td>1</td>\n",
       "      <td>1</td>\n",
       "      <td>0</td>\n",
       "      <td>0</td>\n",
       "      <td>1</td>\n",
       "    </tr>\n",
       "    <tr>\n",
       "      <th>5</th>\n",
       "      <td>1678553997</td>\n",
       "      <td>No more secrets from WE THE PEOPLE  THIS IS TH...</td>\n",
       "      <td>RTM</td>\n",
       "      <td>56</td>\n",
       "      <td>5</td>\n",
       "      <td>3</td>\n",
       "      <td>0</td>\n",
       "      <td>0</td>\n",
       "      <td>2</td>\n",
       "    </tr>\n",
       "    <tr>\n",
       "      <th>6</th>\n",
       "      <td>1670445046</td>\n",
       "      <td>The Parents have been lied to and misinformed....</td>\n",
       "      <td>RTM</td>\n",
       "      <td>87</td>\n",
       "      <td>2</td>\n",
       "      <td>2</td>\n",
       "      <td>2</td>\n",
       "      <td>2</td>\n",
       "      <td>2</td>\n",
       "    </tr>\n",
       "    <tr>\n",
       "      <th>7</th>\n",
       "      <td>1658332253</td>\n",
       "      <td>If this is true, him and all his cronnies shou...</td>\n",
       "      <td>ThePatriotVoice</td>\n",
       "      <td>75</td>\n",
       "      <td>4</td>\n",
       "      <td>5</td>\n",
       "      <td>4</td>\n",
       "      <td>5</td>\n",
       "      <td>5</td>\n",
       "    </tr>\n",
       "    <tr>\n",
       "      <th>8</th>\n",
       "      <td>1657811265</td>\n",
       "      <td>This Jackal Is An Idiot and needs to be remove...</td>\n",
       "      <td>TheTrumpRepublicans</td>\n",
       "      <td>69</td>\n",
       "      <td>4</td>\n",
       "      <td>4</td>\n",
       "      <td>0</td>\n",
       "      <td>4</td>\n",
       "      <td>4</td>\n",
       "    </tr>\n",
       "    <tr>\n",
       "      <th>9</th>\n",
       "      <td>1634937564</td>\n",
       "      <td>Shame on any person that wants to hurt God’s l...</td>\n",
       "      <td>TheTrumpRepublicans</td>\n",
       "      <td>68</td>\n",
       "      <td>4</td>\n",
       "      <td>2</td>\n",
       "      <td>2</td>\n",
       "      <td>0</td>\n",
       "      <td>2</td>\n",
       "    </tr>\n",
       "    <tr>\n",
       "      <th>10</th>\n",
       "      <td>1664299633</td>\n",
       "      <td>The only thing bill gates is concerned about i...</td>\n",
       "      <td>TheTrumpRepublicans</td>\n",
       "      <td>56</td>\n",
       "      <td>5</td>\n",
       "      <td>5</td>\n",
       "      <td>5</td>\n",
       "      <td>5</td>\n",
       "      <td>5</td>\n",
       "    </tr>\n",
       "    <tr>\n",
       "      <th>11</th>\n",
       "      <td>1635123061</td>\n",
       "      <td>Trump knows what to do to stop this he just ca...</td>\n",
       "      <td>FreedomFighters</td>\n",
       "      <td>67</td>\n",
       "      <td>3</td>\n",
       "      <td>0</td>\n",
       "      <td>0</td>\n",
       "      <td>0</td>\n",
       "      <td>0</td>\n",
       "    </tr>\n",
       "    <tr>\n",
       "      <th>12</th>\n",
       "      <td>1679611195</td>\n",
       "      <td>I would like to know your opinion if some of t...</td>\n",
       "      <td>TrumpSupportersChannel</td>\n",
       "      <td>74</td>\n",
       "      <td>3</td>\n",
       "      <td>3</td>\n",
       "      <td>2</td>\n",
       "      <td>5</td>\n",
       "      <td>2</td>\n",
       "    </tr>\n",
       "    <tr>\n",
       "      <th>13</th>\n",
       "      <td>1673059910</td>\n",
       "      <td>The whole process is disgusting!  They are usi...</td>\n",
       "      <td>WeTheMedia</td>\n",
       "      <td>74</td>\n",
       "      <td>0</td>\n",
       "      <td>4</td>\n",
       "      <td>2</td>\n",
       "      <td>0</td>\n",
       "      <td>2</td>\n",
       "    </tr>\n",
       "    <tr>\n",
       "      <th>14</th>\n",
       "      <td>1673835987</td>\n",
       "      <td>This guy is an idiot, bidan lost his “paint” y...</td>\n",
       "      <td>RTM</td>\n",
       "      <td>63</td>\n",
       "      <td>3</td>\n",
       "      <td>3</td>\n",
       "      <td>2</td>\n",
       "      <td>2</td>\n",
       "      <td>3</td>\n",
       "    </tr>\n",
       "  </tbody>\n",
       "</table>\n",
       "</div>"
      ],
      "text/plain": [
       "    date_unixtime                                              reply  \\\n",
       "0      1667345713  Yeah, that person has been here under a name o...   \n",
       "1      1650271665  The world is depopulating already . People dyi...   \n",
       "2      1640801441  time the floods started to flush out all dead ...   \n",
       "3      1668486576  Further more on the Clot Shot! If Trump had ev...   \n",
       "4      1673065090  Let’s  acknowledge the day the uniparty coordi...   \n",
       "5      1678553997  No more secrets from WE THE PEOPLE  THIS IS TH...   \n",
       "6      1670445046  The Parents have been lied to and misinformed....   \n",
       "7      1658332253  If this is true, him and all his cronnies shou...   \n",
       "8      1657811265  This Jackal Is An Idiot and needs to be remove...   \n",
       "9      1634937564  Shame on any person that wants to hurt God’s l...   \n",
       "10     1664299633  The only thing bill gates is concerned about i...   \n",
       "11     1635123061  Trump knows what to do to stop this he just ca...   \n",
       "12     1679611195  I would like to know your opinion if some of t...   \n",
       "13     1673059910  The whole process is disgusting!  They are usi...   \n",
       "14     1673835987  This guy is an idiot, bidan lost his “paint” y...   \n",
       "\n",
       "                   channel  num_words  openAI-classification fastText LSTM  \\\n",
       "0            DonaldTrumpJr         58                      1        0    0   \n",
       "1   TrumpSupportersChannel         89                      5        4    0   \n",
       "2   TrumpSupportersChannel        177                      5        2    3   \n",
       "3                      RTM         86                      4        3    0   \n",
       "4               WeTheMedia         75                      1        1    0   \n",
       "5                      RTM         56                      5        3    0   \n",
       "6                      RTM         87                      2        2    2   \n",
       "7          ThePatriotVoice         75                      4        5    4   \n",
       "8      TheTrumpRepublicans         69                      4        4    0   \n",
       "9      TheTrumpRepublicans         68                      4        2    2   \n",
       "10     TheTrumpRepublicans         56                      5        5    5   \n",
       "11         FreedomFighters         67                      3        0    0   \n",
       "12  TrumpSupportersChannel         74                      3        3    2   \n",
       "13              WeTheMedia         74                      0        4    2   \n",
       "14                     RTM         63                      3        3    2   \n",
       "\n",
       "   GPT2 SVM  \n",
       "0     0   0  \n",
       "1     5   2  \n",
       "2     2   2  \n",
       "3     2   0  \n",
       "4     0   1  \n",
       "5     0   2  \n",
       "6     2   2  \n",
       "7     5   5  \n",
       "8     4   4  \n",
       "9     0   2  \n",
       "10    5   5  \n",
       "11    0   0  \n",
       "12    5   2  \n",
       "13    0   2  \n",
       "14    2   3  "
      ]
     },
     "execution_count": 157,
     "metadata": {},
     "output_type": "execute_result"
    }
   ],
   "source": [
    "samples180.head(15)"
   ]
  },
  {
   "cell_type": "code",
   "execution_count": 174,
   "id": "33ac9f40-784e-4135-893c-6e5d6c7aa424",
   "metadata": {},
   "outputs": [
    {
     "data": {
      "text/plain": [
       "0    92\n",
       "2    52\n",
       "3    17\n",
       "5     8\n",
       "4     7\n",
       "1     4\n",
       "Name: LSTM, dtype: int64"
      ]
     },
     "execution_count": 174,
     "metadata": {},
     "output_type": "execute_result"
    }
   ],
   "source": [
    "samples180['LSTM'].value_counts()"
   ]
  },
  {
   "cell_type": "code",
   "execution_count": 175,
   "id": "e4c71dee-4b14-4925-9b3a-9361114c2f41",
   "metadata": {},
   "outputs": [],
   "source": [
    "samples180.to_json(\"/home/ravi/UCF Dropbox/KAMALAKKANNAN RAVI/guyonDesktop/DATA_AutomatedHarmDetection/Annotate/TestSamples180BasedonOpenAIForAnnotationwithPredictions.json\", orient='records')"
   ]
  },
  {
   "cell_type": "markdown",
   "id": "3e33b494-cf81-46e4-a7fe-e81b8bb6e634",
   "metadata": {},
   "source": [
    "# Annotation by Lizzy on 180"
   ]
  },
  {
   "cell_type": "code",
   "execution_count": 188,
   "id": "87e83ce3-e704-4ace-9dbd-13f35b0a7db4",
   "metadata": {},
   "outputs": [],
   "source": [
    "Liz180=pd.read_excel(\"/home/ravi/UCF Dropbox/KAMALAKKANNAN RAVI/guyonDesktop/DATA_AutomatedHarmDetection/Annotate/TestSamples180BasedonOpenAIForAnnotation_Lizzy_July18.xlsx\")"
   ]
  },
  {
   "cell_type": "code",
   "execution_count": 189,
   "id": "b3a55fc6-86e1-416f-a2cc-5dc0fa6057d5",
   "metadata": {},
   "outputs": [
    {
     "name": "stdout",
     "output_type": "stream",
     "text": [
      "   Unnamed: 0  date_unixtime  \\\n",
      "0         992     1680634712   \n",
      "\n",
      "                                               reply  Label  L1  L2  L3  \n",
      "0  I keep asking, how is it a local lowly NY DA f...      1 NaN NaN NaN  \n",
      "     Unnamed: 0  date_unixtime  \\\n",
      "179          25     1612468113   \n",
      "\n",
      "                                                 reply  Label  L1  L2  L3  \n",
      "179  She was promoting a very radical leftist in In...      6 NaN NaN NaN  \n",
      "6    68\n",
      "3    27\n",
      "5    27\n",
      "4    27\n",
      "1    18\n",
      "2    13\n",
      "Name: Label, dtype: int64\n"
     ]
    }
   ],
   "source": [
    "Liz180 = Liz180.sort_values(by=['date_unixtime'], ascending=False)\n",
    "Liz180 = Liz180.reset_index(drop=True)\n",
    "print(Liz180.head(1))\n",
    "print(Liz180.tail(1))\n",
    "print(Liz180['Label'].value_counts())"
   ]
  },
  {
   "cell_type": "code",
   "execution_count": 193,
   "id": "05e794cd-ddb5-4fbb-a764-56ed6d9af4bf",
   "metadata": {},
   "outputs": [],
   "source": [
    "samples180 = pd.read_json(\"/home/ravi/UCF Dropbox/KAMALAKKANNAN RAVI/guyonDesktop/DATA_AutomatedHarmDetection/Annotate/TestSamples180BasedonOpenAIForAnnotationwithPredictions.json\", orient='records')"
   ]
  },
  {
   "cell_type": "code",
   "execution_count": 194,
   "id": "0defab58-907a-4a6a-b6ba-fdde4101e647",
   "metadata": {},
   "outputs": [
    {
     "name": "stdout",
     "output_type": "stream",
     "text": [
      "   date_unixtime                                              reply  \\\n",
      "0     1680634712  I keep asking, how is it a local lowly NY DA f...   \n",
      "\n",
      "         channel  num_words  openAI-classification  fastText  LSTM  GPT2  SVM  \n",
      "0  DonaldTrumpJr         64                      1         3     3     1    1  \n",
      "     date_unixtime                                              reply  \\\n",
      "179     1612468113  She was promoting a very radical leftist in In...   \n",
      "\n",
      "          channel  num_words  openAI-classification  fastText  LSTM  GPT2  SVM  \n",
      "179  InfoWars.com         58                      0         0     1     2    0  \n",
      "0    74\n",
      "2    46\n",
      "3    30\n",
      "5    13\n",
      "4    10\n",
      "1     7\n",
      "Name: SVM, dtype: int64\n"
     ]
    }
   ],
   "source": [
    "samples180 = samples180.sort_values(by=['date_unixtime'], ascending=False)\n",
    "samples180 = samples180.reset_index(drop=True)\n",
    "print(samples180.head(1))\n",
    "print(samples180.tail(1))\n",
    "print(samples180['SVM'].value_counts())"
   ]
  },
  {
   "cell_type": "code",
   "execution_count": 196,
   "id": "75a334e5-d4e4-44b8-8f85-044bcd077c0e",
   "metadata": {},
   "outputs": [],
   "source": [
    "# MAtch\n",
    "# Create a new column in LizTest174 to store the label values\n",
    "samples180['Expert'] = None\n",
    "\n",
    "# Iterate over each row in LizTest174\n",
    "for index, row in samples180.iterrows():\n",
    "    time = row['date_unixtime']\n",
    "    \n",
    "    # Check if the reply is in G5df['reply']\n",
    "    matching_row = Liz180[Liz180['date_unixtime'] == time]\n",
    "    \n",
    "    # If a match is found, retrieve the label value from G5df and fill it in LizTest174\n",
    "    if not matching_row.empty:\n",
    "        label = matching_row.iloc[0]['Label']\n",
    "        samples180.at[index, 'Expert'] = label"
   ]
  },
  {
   "cell_type": "code",
   "execution_count": 198,
   "id": "b297a15e-be5a-4bed-9c38-8d8d690368cd",
   "metadata": {},
   "outputs": [
    {
     "name": "stdout",
     "output_type": "stream",
     "text": [
      "   date_unixtime                                              reply  \\\n",
      "0     1680634712  I keep asking, how is it a local lowly NY DA f...   \n",
      "\n",
      "         channel  num_words  openAI-classification  fastText  LSTM  GPT2  SVM  \\\n",
      "0  DonaldTrumpJr         64                      1         3     3     1    1   \n",
      "\n",
      "  Expert  \n",
      "0      1  \n",
      "     date_unixtime                                              reply  \\\n",
      "179     1612468113  She was promoting a very radical leftist in In...   \n",
      "\n",
      "          channel  num_words  openAI-classification  fastText  LSTM  GPT2  \\\n",
      "179  InfoWars.com         58                      0         0     1     2   \n",
      "\n",
      "     SVM Expert  \n",
      "179    0      6  \n",
      "6    68\n",
      "3    27\n",
      "5    27\n",
      "4    27\n",
      "1    18\n",
      "2    13\n",
      "Name: Expert, dtype: int64\n"
     ]
    }
   ],
   "source": [
    "print(samples180.head(1))\n",
    "print(samples180.tail(1))\n",
    "print(samples180['Expert'].value_counts())"
   ]
  },
  {
   "cell_type": "code",
   "execution_count": 201,
   "id": "abd725c3-44e4-437e-b9ea-b800a6f0af38",
   "metadata": {},
   "outputs": [],
   "source": [
    "samples180['Expert'] = samples180['Expert'].replace([6], 0)"
   ]
  },
  {
   "cell_type": "code",
   "execution_count": 202,
   "id": "a4f7b48f-8495-4194-b39f-6fd4991ef2e7",
   "metadata": {},
   "outputs": [],
   "source": [
    "samples180.to_json(\"/home/ravi/UCF Dropbox/KAMALAKKANNAN RAVI/guyonDesktop/DATA_AutomatedHarmDetection/Annotate/TestSamples180BasedonOpenAIForAnnotationwithPredictionsWithExpert.json\", orient='records')"
   ]
  },
  {
   "cell_type": "markdown",
   "id": "f99e661d-bea8-453b-9d70-cc5a0cba3d02",
   "metadata": {
    "tags": []
   },
   "source": [
    "## Custom Weighted Kappa"
   ]
  },
  {
   "cell_type": "code",
   "execution_count": 203,
   "id": "0d8b635c-4aad-47a3-9c1d-bdd9ac2e21d0",
   "metadata": {},
   "outputs": [],
   "source": [
    "samples180 = pd.read_json(\"/home/ravi/UCF Dropbox/KAMALAKKANNAN RAVI/guyonDesktop/DATA_AutomatedHarmDetection/Annotate/TestSamples180BasedonOpenAIForAnnotationwithPredictionsWithExpert.json\", orient='records')"
   ]
  },
  {
   "cell_type": "code",
   "execution_count": 204,
   "id": "560da8de-5005-43e8-ac72-328d6abec95f",
   "metadata": {},
   "outputs": [],
   "source": [
    "# Define the weight matrix\n",
    "weightsLR = np.array([\n",
    "    [0, 0.2, 0.2, 0.3, 0.5, 0.5],\n",
    "    [0.2, 0, 0.1, 0.2, 0.4, 0.4],\n",
    "    [0.2, 0.1, 0, 0.2, 0.4, 0.4],\n",
    "    [0.3, 0.2, 0.2, 0, 0.2, 0.1],\n",
    "    [0.5, 0.4, 0.4, 0.2, 0, 0.3],\n",
    "    [0.5, 0.4, 0.4, 0.2, 0.3, 0]\n",
    "])\n",
    "\n",
    "def customWeightedKappa(y1, y2, weights):\n",
    "    # Calculate the confusion matrix\n",
    "    confusion = confusion_matrix(y1, y2)\n",
    "\n",
    "    # Normalize the confusion matrix to represent probabilities\n",
    "    total_ratings = np.sum(confusion)\n",
    "    confusion = confusion / total_ratings\n",
    "\n",
    "    # Compute the expected probability matrix under the assumption of independence\n",
    "    ratings_probs = np.sum(confusion, axis=1)\n",
    "    expected = np.outer(ratings_probs, ratings_probs)\n",
    "\n",
    "    # Compute the weighted Kappa score\n",
    "    kappa = 1 - np.sum(weights * confusion) / np.sum(weights * expected)\n",
    "    \n",
    "    return kappa"
   ]
  },
  {
   "cell_type": "code",
   "execution_count": 207,
   "id": "b5a2cd5f-82be-44ea-b0db-428a0e957246",
   "metadata": {},
   "outputs": [
    {
     "name": "stdout",
     "output_type": "stream",
     "text": [
      "0.2591698550444763\n"
     ]
    }
   ],
   "source": [
    "print(customWeightedKappa(samples180['Expert'], samples180['LSTM'], weights=weightsLR))"
   ]
  },
  {
   "cell_type": "code",
   "execution_count": 210,
   "id": "9ef4cac2-494f-4469-90e2-70d9cdf97f88",
   "metadata": {},
   "outputs": [
    {
     "name": "stdout",
     "output_type": "stream",
     "text": [
      "0.3265180500404329\n"
     ]
    }
   ],
   "source": [
    "print(customWeightedKappa(samples180['Expert'], samples180['SVM'], weights=weightsLR))"
   ]
  },
  {
   "cell_type": "code",
   "execution_count": 205,
   "id": "ece48c87-c75f-4012-b4b0-9432524d7253",
   "metadata": {},
   "outputs": [
    {
     "name": "stdout",
     "output_type": "stream",
     "text": [
      "0.36127840874802364\n"
     ]
    }
   ],
   "source": [
    "print(customWeightedKappa(samples180['Expert'], samples180['fastText'], weights=weightsLR))"
   ]
  },
  {
   "cell_type": "code",
   "execution_count": 208,
   "id": "cbbc08b7-d21d-4cae-ab95-37ec952e694a",
   "metadata": {},
   "outputs": [
    {
     "name": "stdout",
     "output_type": "stream",
     "text": [
      "0.4329716485824291\n"
     ]
    }
   ],
   "source": [
    "print(customWeightedKappa(samples180['Expert'], samples180['GPT2'], weights=weightsLR))"
   ]
  },
  {
   "cell_type": "code",
   "execution_count": 211,
   "id": "6c95f040-e723-4389-ab6e-ed5790d88517",
   "metadata": {},
   "outputs": [
    {
     "name": "stdout",
     "output_type": "stream",
     "text": [
      "0.5146067415730338\n"
     ]
    }
   ],
   "source": [
    "print(customWeightedKappa(samples180['openAI-classification'], samples180['Expert'], weights=weightsLR))"
   ]
  },
  {
   "cell_type": "markdown",
   "id": "95025022-18a6-4cee-8db0-19a22f0a7b37",
   "metadata": {
    "tags": []
   },
   "source": [
    "# Choose examples"
   ]
  },
  {
   "cell_type": "code",
   "execution_count": 212,
   "id": "1e0fb4ab-8629-4459-baac-ec63947c9c2f",
   "metadata": {},
   "outputs": [],
   "source": [
    "samples180 = pd.read_json(\"/home/ravi/UCF Dropbox/KAMALAKKANNAN RAVI/guyonDesktop/DATA_AutomatedHarmDetection/Annotate/TestSamples180BasedonOpenAIForAnnotationwithPredictionsWithExpert.json\", orient='records')"
   ]
  },
  {
   "cell_type": "code",
   "execution_count": 213,
   "id": "6aed7b93-628b-480d-83d3-968b53feaa81",
   "metadata": {},
   "outputs": [
    {
     "data": {
      "text/html": [
       "<div>\n",
       "<style scoped>\n",
       "    .dataframe tbody tr th:only-of-type {\n",
       "        vertical-align: middle;\n",
       "    }\n",
       "\n",
       "    .dataframe tbody tr th {\n",
       "        vertical-align: top;\n",
       "    }\n",
       "\n",
       "    .dataframe thead th {\n",
       "        text-align: right;\n",
       "    }\n",
       "</style>\n",
       "<table border=\"1\" class=\"dataframe\">\n",
       "  <thead>\n",
       "    <tr style=\"text-align: right;\">\n",
       "      <th></th>\n",
       "      <th>date_unixtime</th>\n",
       "      <th>reply</th>\n",
       "      <th>channel</th>\n",
       "      <th>num_words</th>\n",
       "      <th>openAI-classification</th>\n",
       "      <th>fastText</th>\n",
       "      <th>LSTM</th>\n",
       "      <th>GPT2</th>\n",
       "      <th>SVM</th>\n",
       "      <th>Expert</th>\n",
       "    </tr>\n",
       "  </thead>\n",
       "  <tbody>\n",
       "    <tr>\n",
       "      <th>0</th>\n",
       "      <td>1680634712</td>\n",
       "      <td>I keep asking, how is it a local lowly NY DA f...</td>\n",
       "      <td>DonaldTrumpJr</td>\n",
       "      <td>64</td>\n",
       "      <td>1</td>\n",
       "      <td>3</td>\n",
       "      <td>3</td>\n",
       "      <td>1</td>\n",
       "      <td>1</td>\n",
       "      <td>1</td>\n",
       "    </tr>\n",
       "  </tbody>\n",
       "</table>\n",
       "</div>"
      ],
      "text/plain": [
       "   date_unixtime                                              reply  \\\n",
       "0     1680634712  I keep asking, how is it a local lowly NY DA f...   \n",
       "\n",
       "         channel  num_words  openAI-classification  fastText  LSTM  GPT2  SVM  \\\n",
       "0  DonaldTrumpJr         64                      1         3     3     1    1   \n",
       "\n",
       "   Expert  \n",
       "0       1  "
      ]
     },
     "execution_count": 213,
     "metadata": {},
     "output_type": "execute_result"
    }
   ],
   "source": [
    "samples180.head(1)"
   ]
  },
  {
   "cell_type": "code",
   "execution_count": 231,
   "id": "8d7ec90b-f63d-46a3-a3bb-e9165827668e",
   "metadata": {},
   "outputs": [],
   "source": [
    "df = samples180.copy()"
   ]
  },
  {
   "cell_type": "code",
   "execution_count": 232,
   "id": "c9455474-c2bb-45be-bf05-6b8b26bd2371",
   "metadata": {},
   "outputs": [],
   "source": [
    "mismatch = df[(df['openAI-classification'] != df['GPT2']) & (df['GPT2'] != df['Expert']) & (df['Expert'] != df['openAI-classification'])]"
   ]
  },
  {
   "cell_type": "code",
   "execution_count": 233,
   "id": "8d6f0d14-e867-4be7-8152-342155c262e6",
   "metadata": {},
   "outputs": [
    {
     "data": {
      "text/plain": [
       "(35, 10)"
      ]
     },
     "execution_count": 233,
     "metadata": {},
     "output_type": "execute_result"
    }
   ],
   "source": [
    "mismatch.shape"
   ]
  },
  {
   "cell_type": "code",
   "execution_count": 234,
   "id": "8eba726b-ba60-48db-9b34-8642f930d0f2",
   "metadata": {},
   "outputs": [],
   "source": [
    "mismatch = mismatch.sort_values(by=['num_words'], ascending=True)\n",
    "mismatch = mismatch.reset_index(drop=True)"
   ]
  },
  {
   "cell_type": "code",
   "execution_count": 235,
   "id": "c548eb1b-5e66-4451-84d9-0f249fb857de",
   "metadata": {},
   "outputs": [],
   "source": [
    "mismatch.to_json(\"/home/ravi/UCF Dropbox/KAMALAKKANNAN RAVI/guyonDesktop/DATA_AutomatedHarmDetection/Annotate/TestSamples180BasedonOpenAIForAnnotationwithPredictionsWithExpert_mismatch35.json\", orient='records')"
   ]
  },
  {
   "cell_type": "code",
   "execution_count": null,
   "id": "419759db-b085-4f36-8559-da4577ec7cd5",
   "metadata": {},
   "outputs": [],
   "source": []
  },
  {
   "cell_type": "code",
   "execution_count": 236,
   "id": "66727f2d-bb88-43b3-8168-08d5db702c1d",
   "metadata": {},
   "outputs": [],
   "source": [
    "agreed = df[(df['openAI-classification'] == df['fastText']) & \n",
    "            (df['fastText'] == df['LSTM']) &\n",
    "            (df['LSTM'] == df['GPT2']) &\n",
    "            (df['GPT2'] == df['SVM']) &\n",
    "            (df['SVM'] == df['Expert'])]"
   ]
  },
  {
   "cell_type": "code",
   "execution_count": 237,
   "id": "3df7f7f4-e05b-4e58-8fb2-8f793fdba2ff",
   "metadata": {},
   "outputs": [],
   "source": [
    "agreed = agreed.sort_values(by=['num_words'], ascending=True)\n",
    "agreed = agreed.reset_index(drop=True)"
   ]
  },
  {
   "cell_type": "code",
   "execution_count": 238,
   "id": "b01bdb10-0e1a-4ded-86c0-cd074f408d92",
   "metadata": {},
   "outputs": [
    {
     "data": {
      "text/plain": [
       "(16, 10)"
      ]
     },
     "execution_count": 238,
     "metadata": {},
     "output_type": "execute_result"
    }
   ],
   "source": [
    "agreed.shape"
   ]
  },
  {
   "cell_type": "code",
   "execution_count": 239,
   "id": "1cc9573a-5fb9-483a-9b44-7c955644a4fa",
   "metadata": {},
   "outputs": [],
   "source": [
    "agreed.to_json(\"/home/ravi/UCF Dropbox/KAMALAKKANNAN RAVI/guyonDesktop/DATA_AutomatedHarmDetection/Annotate/TestSamples180BasedonOpenAIForAnnotationwithPredictionsWithExpert_agreed4.json\", orient='records')"
   ]
  },
  {
   "cell_type": "code",
   "execution_count": null,
   "id": "d0b95840-ac4d-4f9c-a60f-eb99fc111a66",
   "metadata": {},
   "outputs": [],
   "source": []
  },
  {
   "cell_type": "code",
   "execution_count": 240,
   "id": "ddeeb20f-238c-4fc0-85a5-0fba5b99f7b1",
   "metadata": {},
   "outputs": [],
   "source": [
    "alldisagree = df[(df['openAI-classification'] != df['fastText']) & \n",
    "            (df['fastText'] != df['LSTM']) &\n",
    "            (df['LSTM'] != df['GPT2']) &\n",
    "            (df['GPT2'] != df['SVM']) &\n",
    "            (df['SVM'] != df['Expert'])]"
   ]
  },
  {
   "cell_type": "code",
   "execution_count": 242,
   "id": "cf5677b4-e848-46a0-877d-8981f76457e3",
   "metadata": {},
   "outputs": [],
   "source": [
    "alldisagree = alldisagree.sort_values(by=['num_words'], ascending=True)\n",
    "alldisagree = alldisagree.reset_index(drop=True)"
   ]
  },
  {
   "cell_type": "code",
   "execution_count": 243,
   "id": "a468d310-b632-4fce-9a95-8e9de8996809",
   "metadata": {},
   "outputs": [
    {
     "data": {
      "text/plain": [
       "(23, 10)"
      ]
     },
     "execution_count": 243,
     "metadata": {},
     "output_type": "execute_result"
    }
   ],
   "source": [
    "alldisagree.shape"
   ]
  },
  {
   "cell_type": "code",
   "execution_count": 244,
   "id": "ec94ef84-1712-4922-b107-566240e4bba1",
   "metadata": {},
   "outputs": [],
   "source": [
    "alldisagree.to_json(\"/home/ravi/UCF Dropbox/KAMALAKKANNAN RAVI/guyonDesktop/DATA_AutomatedHarmDetection/Annotate/TestSamples180BasedonOpenAIForAnnotationwithPredictionsWithExpert_alldisagree23.json\", orient='records')"
   ]
  },
  {
   "cell_type": "code",
   "execution_count": null,
   "id": "2fe043ac-8ebe-4399-b455-5bce348f787c",
   "metadata": {},
   "outputs": [],
   "source": []
  }
 ],
 "metadata": {
  "kernelspec": {
   "display_name": "Python [conda env:redditJournal] *",
   "language": "python",
   "name": "conda-env-redditJournal-py"
  },
  "language_info": {
   "codemirror_mode": {
    "name": "ipython",
    "version": 3
   },
   "file_extension": ".py",
   "mimetype": "text/x-python",
   "name": "python",
   "nbconvert_exporter": "python",
   "pygments_lexer": "ipython3",
   "version": "3.10.4"
  }
 },
 "nbformat": 4,
 "nbformat_minor": 5
}
