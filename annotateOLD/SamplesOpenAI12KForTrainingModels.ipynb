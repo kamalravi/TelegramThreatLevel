{
 "cells": [
  {
   "cell_type": "code",
   "execution_count": 1,
   "id": "4b295be7-c667-40bc-8f00-3aba590f0f3c",
   "metadata": {},
   "outputs": [],
   "source": [
    "import pandas as pd\n",
    "import glob\n",
    "import numpy as np\n",
    "import json\n",
    "import math"
   ]
  },
  {
   "cell_type": "code",
   "execution_count": 2,
   "id": "e877d204-43e5-4d28-b25e-d3bc409f4c7f",
   "metadata": {},
   "outputs": [],
   "source": [
    "file = '/home/ravi/UCF Dropbox/KAMALAKKANNAN RAVI/guyonDesktop/DATA_AutomatedHarmDetection/Annotate/annotated/neg50words_openAI-classification.ljson'"
   ]
  },
  {
   "cell_type": "code",
   "execution_count": 3,
   "id": "c8e9a451-cc5e-4894-bfe8-df02088c0ce1",
   "metadata": {},
   "outputs": [],
   "source": [
    "allJSONs=[]\n",
    "with open(file) as fin:\n",
    "    for cLine in fin:\n",
    "        cJSON=json.loads(cLine)\n",
    "        allJSONs.append(cJSON)"
   ]
  },
  {
   "cell_type": "code",
   "execution_count": 4,
   "id": "9f7c6f0a-2c31-4728-b953-ada156a53def",
   "metadata": {},
   "outputs": [],
   "source": [
    "allJSONs = pd.DataFrame(allJSONs)"
   ]
  },
  {
   "cell_type": "code",
   "execution_count": 5,
   "id": "047d8c9b-d998-4ef1-b4f1-4b8f2bd3a340",
   "metadata": {},
   "outputs": [
    {
     "data": {
      "text/html": [
       "<div>\n",
       "<style scoped>\n",
       "    .dataframe tbody tr th:only-of-type {\n",
       "        vertical-align: middle;\n",
       "    }\n",
       "\n",
       "    .dataframe tbody tr th {\n",
       "        vertical-align: top;\n",
       "    }\n",
       "\n",
       "    .dataframe thead th {\n",
       "        text-align: right;\n",
       "    }\n",
       "</style>\n",
       "<table border=\"1\" class=\"dataframe\">\n",
       "  <thead>\n",
       "    <tr style=\"text-align: right;\">\n",
       "      <th></th>\n",
       "      <th>date_unixtime</th>\n",
       "      <th>reply</th>\n",
       "      <th>tfSent</th>\n",
       "      <th>VADERSent</th>\n",
       "      <th>AfinnSent</th>\n",
       "      <th>TextBlobSent</th>\n",
       "      <th>subreddit</th>\n",
       "      <th>num_words</th>\n",
       "      <th>openAI-classification</th>\n",
       "    </tr>\n",
       "  </thead>\n",
       "  <tbody>\n",
       "    <tr>\n",
       "      <th>0</th>\n",
       "      <td>1618427406</td>\n",
       "      <td>First of all I'm a vet so understand OPSEC, th...</td>\n",
       "      <td>negative</td>\n",
       "      <td>negative</td>\n",
       "      <td>negative</td>\n",
       "      <td>negative</td>\n",
       "      <td>WhiteLivesMatter</td>\n",
       "      <td>67</td>\n",
       "      <td>6</td>\n",
       "    </tr>\n",
       "  </tbody>\n",
       "</table>\n",
       "</div>"
      ],
      "text/plain": [
       "   date_unixtime                                              reply    tfSent  \\\n",
       "0     1618427406  First of all I'm a vet so understand OPSEC, th...  negative   \n",
       "\n",
       "  VADERSent AfinnSent TextBlobSent         subreddit  num_words  \\\n",
       "0  negative  negative     negative  WhiteLivesMatter         67   \n",
       "\n",
       "  openAI-classification  \n",
       "0                     6  "
      ]
     },
     "execution_count": 5,
     "metadata": {},
     "output_type": "execute_result"
    }
   ],
   "source": [
    "allJSONs.head(1)"
   ]
  },
  {
   "cell_type": "code",
   "execution_count": 6,
   "id": "d405494d-a3a4-4f47-8abc-0043bc9c5e5c",
   "metadata": {},
   "outputs": [
    {
     "data": {
      "text/plain": [
       "(11326, 9)"
      ]
     },
     "execution_count": 6,
     "metadata": {},
     "output_type": "execute_result"
    }
   ],
   "source": [
    "allJSONs.shape"
   ]
  },
  {
   "cell_type": "code",
   "execution_count": 7,
   "id": "8fa7493c-eae8-4eca-814c-8bfc41d91670",
   "metadata": {},
   "outputs": [
    {
     "data": {
      "text/plain": [
       "6                       6109\n",
       "2                       3128\n",
       "3                        991\n",
       "5                        401\n",
       "1                        363\n",
       "4                        332\n",
       "6. None of the above       2\n",
       "Name: openAI-classification, dtype: int64"
      ]
     },
     "execution_count": 7,
     "metadata": {},
     "output_type": "execute_result"
    }
   ],
   "source": [
    "allJSONs['openAI-classification'].value_counts()"
   ]
  },
  {
   "cell_type": "code",
   "execution_count": 8,
   "id": "3ef3ada9-b874-4118-86d2-9007faf460a7",
   "metadata": {},
   "outputs": [],
   "source": [
    "allJSONs['openAI-classification'] = allJSONs['openAI-classification'].replace(['6. None of the above'], '6')"
   ]
  },
  {
   "cell_type": "code",
   "execution_count": 9,
   "id": "32f70d7c-01e8-4afe-aaa8-cc9dee90d85f",
   "metadata": {},
   "outputs": [
    {
     "data": {
      "text/plain": [
       "6    6111\n",
       "2    3128\n",
       "3     991\n",
       "5     401\n",
       "1     363\n",
       "4     332\n",
       "Name: openAI-classification, dtype: int64"
      ]
     },
     "execution_count": 9,
     "metadata": {},
     "output_type": "execute_result"
    }
   ],
   "source": [
    "allJSONs['openAI-classification'].value_counts()"
   ]
  },
  {
   "cell_type": "code",
   "execution_count": 19,
   "id": "e11f13bf-c2c8-4be9-bb73-c2e8479dfa7f",
   "metadata": {},
   "outputs": [],
   "source": [
    "allJSONs['openAI-classification'] = allJSONs['openAI-classification'].replace(['6'], '0')"
   ]
  },
  {
   "cell_type": "code",
   "execution_count": 21,
   "id": "ef91d8a3-fafd-49d9-a427-ca936d312760",
   "metadata": {},
   "outputs": [
    {
     "data": {
      "text/plain": [
       "0    6111\n",
       "2    3128\n",
       "3     991\n",
       "5     401\n",
       "1     363\n",
       "4     332\n",
       "Name: openAI-classification, dtype: int64"
      ]
     },
     "execution_count": 21,
     "metadata": {},
     "output_type": "execute_result"
    }
   ],
   "source": [
    "allJSONs['openAI-classification'].value_counts()"
   ]
  },
  {
   "cell_type": "markdown",
   "id": "ba99ba9a-7754-451a-945a-70964ef069c0",
   "metadata": {},
   "source": [
    "# Sample 10,000"
   ]
  },
  {
   "cell_type": "code",
   "execution_count": 22,
   "id": "d40ee88b-6ad6-451e-9837-785abcc89101",
   "metadata": {},
   "outputs": [],
   "source": [
    "df=allJSONs.copy()\n",
    "sampled_df = df.sample(10000, random_state=42)"
   ]
  },
  {
   "cell_type": "code",
   "execution_count": 23,
   "id": "1d3d6707-1ec6-4da5-9341-164b47ee7501",
   "metadata": {},
   "outputs": [
    {
     "name": "stdout",
     "output_type": "stream",
     "text": [
      "1326\n",
      "10000\n"
     ]
    }
   ],
   "source": [
    "# Drop the sampled rows from the DataFrame\n",
    "df = df.drop(sampled_df.index)\n",
    "print(len(df))\n",
    "print(len(sampled_df))"
   ]
  },
  {
   "cell_type": "code",
   "execution_count": 24,
   "id": "4f630782-422b-449c-8ad9-c963b21c86fc",
   "metadata": {},
   "outputs": [
    {
     "data": {
      "text/plain": [
       "0    719\n",
       "2    363\n",
       "3    119\n",
       "5     52\n",
       "4     38\n",
       "1     35\n",
       "Name: openAI-classification, dtype: int64"
      ]
     },
     "execution_count": 24,
     "metadata": {},
     "output_type": "execute_result"
    }
   ],
   "source": [
    "df['openAI-classification'].value_counts()"
   ]
  },
  {
   "cell_type": "code",
   "execution_count": 25,
   "id": "26ae46a4-d812-4514-959f-7c2a925bc096",
   "metadata": {},
   "outputs": [
    {
     "data": {
      "text/plain": [
       "0    5392\n",
       "2    2765\n",
       "3     872\n",
       "5     349\n",
       "1     328\n",
       "4     294\n",
       "Name: openAI-classification, dtype: int64"
      ]
     },
     "execution_count": 25,
     "metadata": {},
     "output_type": "execute_result"
    }
   ],
   "source": [
    "sampled_df['openAI-classification'].value_counts()"
   ]
  },
  {
   "cell_type": "code",
   "execution_count": 26,
   "id": "67539c64-4e00-4e0a-a79c-9acf6aed6646",
   "metadata": {},
   "outputs": [],
   "source": [
    "df.to_json(\"/home/ravi/UCF Dropbox/KAMALAKKANNAN RAVI/guyonDesktop/DATA_AutomatedHarmDetection/Annotate/Sample_1326_For_Testing.json\", orient='records')"
   ]
  },
  {
   "cell_type": "code",
   "execution_count": 27,
   "id": "0095405f-7df2-4ab2-b395-d6b7d6448b96",
   "metadata": {},
   "outputs": [],
   "source": [
    "sampled_df.to_json(\"/home/ravi/UCF Dropbox/KAMALAKKANNAN RAVI/guyonDesktop/DATA_AutomatedHarmDetection/Annotate/Sample_10000_For_Training.json\", orient='records')"
   ]
  },
  {
   "cell_type": "code",
   "execution_count": null,
   "id": "25d9ffe9-b72c-4883-8188-0dd7a938ef74",
   "metadata": {},
   "outputs": [],
   "source": []
  }
 ],
 "metadata": {
  "kernelspec": {
   "display_name": "Python [conda env:redditJournal] *",
   "language": "python",
   "name": "conda-env-redditJournal-py"
  },
  "language_info": {
   "codemirror_mode": {
    "name": "ipython",
    "version": 3
   },
   "file_extension": ".py",
   "mimetype": "text/x-python",
   "name": "python",
   "nbconvert_exporter": "python",
   "pygments_lexer": "ipython3",
   "version": "3.10.4"
  }
 },
 "nbformat": 4,
 "nbformat_minor": 5
}
