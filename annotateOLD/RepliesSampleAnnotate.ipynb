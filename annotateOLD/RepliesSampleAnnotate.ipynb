{
 "cells": [
  {
   "cell_type": "code",
   "execution_count": 14,
   "id": "3774d88c-3046-4898-9a30-f11b47bdf155",
   "metadata": {},
   "outputs": [],
   "source": [
    "import pandas as pd\n",
    "import glob\n",
    "import numpy as np\n",
    "import json\n",
    "import math\n",
    "import matplotlib.pyplot as plt\n",
    "import seaborn as sns"
   ]
  },
  {
   "cell_type": "markdown",
   "id": "514be2bd-4fea-4899-8c2f-e71da11562b0",
   "metadata": {
    "jp-MarkdownHeadingCollapsed": true,
    "tags": []
   },
   "source": [
    "## aLL sampleS"
   ]
  },
  {
   "cell_type": "code",
   "execution_count": 17,
   "id": "d0ec5849-8b5d-4f90-ae37-52efd01daa93",
   "metadata": {},
   "outputs": [],
   "source": [
    "ALLdf = pd.read_json(\"/home/ravi/UCF Dropbox/KAMALAKKANNAN RAVI/guyonDesktop/DATA_AutomatedHarmDetection/allChatsRepliesFilteredUrlNaN.json\", orient='records')"
   ]
  },
  {
   "cell_type": "code",
   "execution_count": 18,
   "id": "c93d9821-a289-4e0f-99c8-6cbfebbbcf98",
   "metadata": {},
   "outputs": [
    {
     "data": {
      "text/plain": [
       "(1355147, 5)"
      ]
     },
     "execution_count": 18,
     "metadata": {},
     "output_type": "execute_result"
    }
   ],
   "source": [
    "ALLdf.shape"
   ]
  },
  {
   "cell_type": "code",
   "execution_count": 19,
   "id": "1aff78c6-7f9e-4c1f-afc0-23ac590b444a",
   "metadata": {},
   "outputs": [
    {
     "data": {
      "text/html": [
       "<div>\n",
       "<style scoped>\n",
       "    .dataframe tbody tr th:only-of-type {\n",
       "        vertical-align: middle;\n",
       "    }\n",
       "\n",
       "    .dataframe tbody tr th {\n",
       "        vertical-align: top;\n",
       "    }\n",
       "\n",
       "    .dataframe thead th {\n",
       "        text-align: right;\n",
       "    }\n",
       "</style>\n",
       "<table border=\"1\" class=\"dataframe\">\n",
       "  <thead>\n",
       "    <tr style=\"text-align: right;\">\n",
       "      <th></th>\n",
       "      <th>msgDate</th>\n",
       "      <th>msg</th>\n",
       "      <th>replyDate</th>\n",
       "      <th>reply</th>\n",
       "      <th>telegramChannel</th>\n",
       "    </tr>\n",
       "  </thead>\n",
       "  <tbody>\n",
       "    <tr>\n",
       "      <th>0</th>\n",
       "      <td>1618359936</td>\n",
       "      <td>📌A while ago, in order to unify the movement a...</td>\n",
       "      <td>1618413012</td>\n",
       "      <td>Lets Roll🇺🇸👊⚓️🔱</td>\n",
       "      <td>WhiteLivesMatter</td>\n",
       "    </tr>\n",
       "  </tbody>\n",
       "</table>\n",
       "</div>"
      ],
      "text/plain": [
       "      msgDate                                                msg   replyDate  \\\n",
       "0  1618359936  📌A while ago, in order to unify the movement a...  1618413012   \n",
       "\n",
       "             reply   telegramChannel  \n",
       "0  Lets Roll🇺🇸👊⚓️🔱  WhiteLivesMatter  "
      ]
     },
     "execution_count": 19,
     "metadata": {},
     "output_type": "execute_result"
    }
   ],
   "source": [
    "ALLdf.head(1)"
   ]
  },
  {
   "cell_type": "code",
   "execution_count": null,
   "id": "ef743635-1a07-4b92-8bdb-c7a6f6fdf205",
   "metadata": {},
   "outputs": [],
   "source": [
    "df['num_words'].sample(100).describe()"
   ]
  },
  {
   "cell_type": "markdown",
   "id": "0142810f-b278-4719-b454-a7b05e9089d4",
   "metadata": {
    "jp-MarkdownHeadingCollapsed": true,
    "tags": []
   },
   "source": [
    "## Negative samples > 50 words"
   ]
  },
  {
   "cell_type": "code",
   "execution_count": 6,
   "id": "372fe3b1-3ecd-4016-9c12-447d38878f32",
   "metadata": {},
   "outputs": [],
   "source": [
    "import pandas as pd\n",
    "df = pd.read_json(\"/home/ravi/UCF Dropbox/KAMALAKKANNAN RAVI/guyonDesktop/DATA_AutomatedHarmDetection/negRepliesFilteredBy4Models/neg50words.json\", orient='records')"
   ]
  },
  {
   "cell_type": "code",
   "execution_count": 7,
   "id": "00e41ab4-f393-4183-a4fa-c12abee041ba",
   "metadata": {},
   "outputs": [
    {
     "data": {
      "text/html": [
       "<div>\n",
       "<style scoped>\n",
       "    .dataframe tbody tr th:only-of-type {\n",
       "        vertical-align: middle;\n",
       "    }\n",
       "\n",
       "    .dataframe tbody tr th {\n",
       "        vertical-align: top;\n",
       "    }\n",
       "\n",
       "    .dataframe thead th {\n",
       "        text-align: right;\n",
       "    }\n",
       "</style>\n",
       "<table border=\"1\" class=\"dataframe\">\n",
       "  <thead>\n",
       "    <tr style=\"text-align: right;\">\n",
       "      <th></th>\n",
       "      <th>date_unixtime</th>\n",
       "      <th>reply</th>\n",
       "      <th>tfSent</th>\n",
       "      <th>VADERSent</th>\n",
       "      <th>AfinnSent</th>\n",
       "      <th>TextBlobSent</th>\n",
       "      <th>subreddit</th>\n",
       "      <th>num_words</th>\n",
       "    </tr>\n",
       "  </thead>\n",
       "  <tbody>\n",
       "    <tr>\n",
       "      <th>0</th>\n",
       "      <td>1618427406</td>\n",
       "      <td>First of all I'm a vet so understand OPSEC, th...</td>\n",
       "      <td>negative</td>\n",
       "      <td>negative</td>\n",
       "      <td>negative</td>\n",
       "      <td>negative</td>\n",
       "      <td>WhiteLivesMatter</td>\n",
       "      <td>67</td>\n",
       "    </tr>\n",
       "  </tbody>\n",
       "</table>\n",
       "</div>"
      ],
      "text/plain": [
       "   date_unixtime                                              reply    tfSent  \\\n",
       "0     1618427406  First of all I'm a vet so understand OPSEC, th...  negative   \n",
       "\n",
       "  VADERSent AfinnSent TextBlobSent         subreddit  num_words  \n",
       "0  negative  negative     negative  WhiteLivesMatter         67  "
      ]
     },
     "execution_count": 7,
     "metadata": {},
     "output_type": "execute_result"
    }
   ],
   "source": [
    "df.head(1)"
   ]
  },
  {
   "cell_type": "code",
   "execution_count": 8,
   "id": "2b6261d3-5c45-40f8-b3b6-9c4e4f5a4eb7",
   "metadata": {},
   "outputs": [
    {
     "data": {
      "text/plain": [
       "(12156, 8)"
      ]
     },
     "execution_count": 8,
     "metadata": {},
     "output_type": "execute_result"
    }
   ],
   "source": [
    "df.shape"
   ]
  },
  {
   "cell_type": "markdown",
   "id": "e8f5d31b-95e2-47e8-9030-f54bf135d94a",
   "metadata": {
    "jp-MarkdownHeadingCollapsed": true,
    "tags": []
   },
   "source": [
    "# V1 200"
   ]
  },
  {
   "cell_type": "code",
   "execution_count": 10,
   "id": "c60a6392-9f0f-40d4-acf6-29a1ae22d96d",
   "metadata": {},
   "outputs": [
    {
     "name": "stdout",
     "output_type": "stream",
     "text": [
      "200\n",
      "11956\n"
     ]
    }
   ],
   "source": [
    "# Sample the DataFrame with replacement\n",
    "n=200\n",
    "sampled_df = df.sample(n=n, replace=False)\n",
    "\n",
    "print(len(sampled_df))\n",
    "\n",
    "# Drop the sampled rows from the DataFrame\n",
    "df = df.drop(sampled_df.index)\n",
    "print(len(df))"
   ]
  },
  {
   "cell_type": "code",
   "execution_count": 11,
   "id": "6db59de6-5179-417d-ad6e-397f7d5ad3b6",
   "metadata": {},
   "outputs": [],
   "source": [
    "df.to_json(\"/home/ravi/UCF Dropbox/KAMALAKKANNAN RAVI/guyonDesktop/DATA_AutomatedHarmDetection/Annotate/v1_11956.json\", orient='records')"
   ]
  },
  {
   "cell_type": "code",
   "execution_count": 14,
   "id": "f722438a-f066-4269-9c45-8dd4a8f9ccc4",
   "metadata": {},
   "outputs": [],
   "source": [
    "sampled_df.to_csv(\"/home/ravi/UCF Dropbox/KAMALAKKANNAN RAVI/guyonDesktop/DATA_AutomatedHarmDetection/Annotate/v1_200.csv\")"
   ]
  },
  {
   "cell_type": "markdown",
   "id": "27e27ad2-5c71-477a-b614-3c59e2176bd8",
   "metadata": {
    "tags": []
   },
   "source": [
    "## annotated"
   ]
  },
  {
   "cell_type": "code",
   "execution_count": 25,
   "id": "f9ae04e3-1f31-468e-8abf-87c903a4d844",
   "metadata": {},
   "outputs": [],
   "source": [
    "OA=pd.read_csv(\"/home/ravi/UCF Dropbox/KAMALAKKANNAN RAVI/guyonDesktop/DATA_AutomatedHarmDetection/Annotate/v1_200_OA.csv\")"
   ]
  },
  {
   "cell_type": "code",
   "execution_count": 26,
   "id": "8c881e25-a261-40ae-955e-e5b0eb5aa17a",
   "metadata": {},
   "outputs": [
    {
     "data": {
      "text/plain": [
       "(   date_unixtime                                              reply  ChatGPT\n",
       " 0     1676857269  We our war with the old criminal system.  They...        3,\n",
       " (200, 3))"
      ]
     },
     "execution_count": 26,
     "metadata": {},
     "output_type": "execute_result"
    }
   ],
   "source": [
    "OA.head(1), OA.shape"
   ]
  },
  {
   "cell_type": "code",
   "execution_count": 27,
   "id": "692e5f1f-6e23-4542-a4af-1489140f4fd2",
   "metadata": {},
   "outputs": [
    {
     "data": {
      "text/plain": [
       "6    90\n",
       "2    47\n",
       "5    21\n",
       "1    19\n",
       "3    14\n",
       "4     9\n",
       "Name: ChatGPT, dtype: int64"
      ]
     },
     "execution_count": 27,
     "metadata": {},
     "output_type": "execute_result"
    }
   ],
   "source": [
    "OA['ChatGPT'].value_counts()"
   ]
  },
  {
   "cell_type": "code",
   "execution_count": 28,
   "id": "305f478f-adc4-491b-a79a-c30b05cb853e",
   "metadata": {},
   "outputs": [
    {
     "data": {
      "text/plain": [
       "200"
      ]
     },
     "execution_count": 28,
     "metadata": {},
     "output_type": "execute_result"
    }
   ],
   "source": [
    "sum(OA['ChatGPT'].value_counts())"
   ]
  },
  {
   "cell_type": "markdown",
   "id": "68bd9ef3-3fc2-433c-87e4-710f5d22d018",
   "metadata": {
    "jp-MarkdownHeadingCollapsed": true,
    "tags": []
   },
   "source": [
    "# V1 500"
   ]
  },
  {
   "cell_type": "code",
   "execution_count": 29,
   "id": "120f9e00-ee15-485a-ac42-14f698ff31ee",
   "metadata": {},
   "outputs": [],
   "source": [
    "df=pd.read_json(\"/home/ravi/UCF Dropbox/KAMALAKKANNAN RAVI/guyonDesktop/DATA_AutomatedHarmDetection/Annotate/v1_11956.json\", orient='records')"
   ]
  },
  {
   "cell_type": "code",
   "execution_count": 30,
   "id": "dc1312df-1fdd-42fb-820d-806b40e2bd9b",
   "metadata": {},
   "outputs": [
    {
     "name": "stdout",
     "output_type": "stream",
     "text": [
      "500\n",
      "11456\n"
     ]
    }
   ],
   "source": [
    "# Sample the DataFrame with replacement\n",
    "n=500\n",
    "sampled_df = df.sample(n=n, replace=False)\n",
    "\n",
    "print(len(sampled_df))\n",
    "\n",
    "# Drop the sampled rows from the DataFrame\n",
    "df = df.drop(sampled_df.index)\n",
    "print(len(df))"
   ]
  },
  {
   "cell_type": "code",
   "execution_count": 31,
   "id": "807fe835-f0c4-45c8-b4fb-366bdd3c01f2",
   "metadata": {},
   "outputs": [],
   "source": [
    "df.to_json(\"/home/ravi/UCF Dropbox/KAMALAKKANNAN RAVI/guyonDesktop/DATA_AutomatedHarmDetection/Annotate/v1_11456.json\", orient='records')"
   ]
  },
  {
   "cell_type": "code",
   "execution_count": 32,
   "id": "b9b56002-4dbf-488d-9115-6383888f96e8",
   "metadata": {},
   "outputs": [],
   "source": [
    "sampled_df.to_csv(\"/home/ravi/UCF Dropbox/KAMALAKKANNAN RAVI/guyonDesktop/DATA_AutomatedHarmDetection/Annotate/v1_500.csv\")"
   ]
  },
  {
   "cell_type": "markdown",
   "id": "77176296-908c-4f7e-958b-c74fd75dd6a3",
   "metadata": {
    "tags": []
   },
   "source": [
    "## annotated"
   ]
  },
  {
   "cell_type": "code",
   "execution_count": 33,
   "id": "4ed06e79-5545-4ae4-89b9-bd88203f094a",
   "metadata": {},
   "outputs": [],
   "source": [
    "OA1=pd.read_csv(\"/home/ravi/UCF Dropbox/KAMALAKKANNAN RAVI/guyonDesktop/DATA_AutomatedHarmDetection/Annotate/v1_500_OA.csv\")"
   ]
  },
  {
   "cell_type": "code",
   "execution_count": 45,
   "id": "7a382442-53c5-47ea-bc8d-659d6deca5ce",
   "metadata": {},
   "outputs": [
    {
     "data": {
      "text/plain": [
       "(   Unnamed: 0  date_unixtime  \\\n",
       " 0        2973     1667258595   \n",
       " \n",
       "                                                reply  ChatGPT  \n",
       " 0  Hell no. My daughter was chased out of the onl...        5  ,\n",
       " (500, 4))"
      ]
     },
     "execution_count": 45,
     "metadata": {},
     "output_type": "execute_result"
    }
   ],
   "source": [
    "OA1.head(1), OA1.shape"
   ]
  },
  {
   "cell_type": "code",
   "execution_count": 46,
   "id": "e295e054-2553-4048-b4d5-192ad2435e21",
   "metadata": {},
   "outputs": [],
   "source": [
    "OA1.to_csv(\"/home/ravi/UCF Dropbox/KAMALAKKANNAN RAVI/guyonDesktop/DATA_AutomatedHarmDetection/Annotate/v1_500_OA.csv\")"
   ]
  },
  {
   "cell_type": "code",
   "execution_count": 34,
   "id": "8c67cc1e-91c6-4f8a-9a67-5b4181a60916",
   "metadata": {},
   "outputs": [
    {
     "data": {
      "text/plain": [
       "(   Unnamed: 0  date_unixtime  \\\n",
       " 0        2973     1667258595   \n",
       " \n",
       "                                                reply  ChatGPT  \n",
       " 0  Hell no. My daughter was chased out of the onl...        5  ,\n",
       " (500, 4))"
      ]
     },
     "execution_count": 34,
     "metadata": {},
     "output_type": "execute_result"
    }
   ],
   "source": [
    "OA1.head(1), OA1.shape"
   ]
  },
  {
   "cell_type": "code",
   "execution_count": 35,
   "id": "24198c19-681e-4b29-9a39-ebf99e4751d0",
   "metadata": {},
   "outputs": [
    {
     "data": {
      "text/plain": [
       "6    247\n",
       "2    135\n",
       "1     37\n",
       "5     32\n",
       "3     31\n",
       "4     18\n",
       "Name: ChatGPT, dtype: int64"
      ]
     },
     "execution_count": 35,
     "metadata": {},
     "output_type": "execute_result"
    }
   ],
   "source": [
    "OA1['ChatGPT'].value_counts()"
   ]
  },
  {
   "cell_type": "code",
   "execution_count": 36,
   "id": "491dde33-398f-4737-a766-38c67f3ff799",
   "metadata": {},
   "outputs": [
    {
     "data": {
      "text/plain": [
       "500"
      ]
     },
     "execution_count": 36,
     "metadata": {},
     "output_type": "execute_result"
    }
   ],
   "source": [
    "sum(OA1['ChatGPT'].value_counts())"
   ]
  },
  {
   "cell_type": "markdown",
   "id": "989c7334-ff15-443c-9e43-8761307f5ed3",
   "metadata": {
    "tags": []
   },
   "source": [
    "# V1 100"
   ]
  },
  {
   "cell_type": "code",
   "execution_count": 37,
   "id": "34c1d6e8-150d-436b-bc0b-2e7f16a6c0e7",
   "metadata": {},
   "outputs": [],
   "source": [
    "df = pd.read_json(\"/home/ravi/UCF Dropbox/KAMALAKKANNAN RAVI/guyonDesktop/DATA_AutomatedHarmDetection/Annotate/v1_11456.json\", orient='records')"
   ]
  },
  {
   "cell_type": "code",
   "execution_count": 38,
   "id": "0a80a4c0-2bdb-491d-a72c-1286f6e33353",
   "metadata": {},
   "outputs": [
    {
     "name": "stdout",
     "output_type": "stream",
     "text": [
      "100\n",
      "11356\n"
     ]
    }
   ],
   "source": [
    "# Sample the DataFrame with replacement\n",
    "n=100\n",
    "sampled_df = df.sample(n=n, replace=False)\n",
    "\n",
    "print(len(sampled_df))\n",
    "\n",
    "# Drop the sampled rows from the DataFrame\n",
    "df = df.drop(sampled_df.index)\n",
    "print(len(df))"
   ]
  },
  {
   "cell_type": "code",
   "execution_count": 39,
   "id": "a956cf00-e30b-434f-a53e-659450b3aefa",
   "metadata": {},
   "outputs": [],
   "source": [
    "df.to_json(\"/home/ravi/UCF Dropbox/KAMALAKKANNAN RAVI/guyonDesktop/DATA_AutomatedHarmDetection/Annotate/v1_11356.json\", orient='records')"
   ]
  },
  {
   "cell_type": "code",
   "execution_count": 40,
   "id": "8d3895da-1f7b-49a2-9117-a75da5d9f368",
   "metadata": {},
   "outputs": [],
   "source": [
    "sampled_df.to_csv(\"/home/ravi/UCF Dropbox/KAMALAKKANNAN RAVI/guyonDesktop/DATA_AutomatedHarmDetection/Annotate/v1_100.csv\")"
   ]
  },
  {
   "cell_type": "markdown",
   "id": "e573e686-b053-4517-b7cf-170b4aa4fe5e",
   "metadata": {
    "tags": []
   },
   "source": [
    "## annotated"
   ]
  },
  {
   "cell_type": "code",
   "execution_count": 41,
   "id": "99b122ca-96f0-4fcc-8994-b70ecde62cc9",
   "metadata": {},
   "outputs": [],
   "source": [
    "OA2=pd.read_csv(\"/home/ravi/UCF Dropbox/KAMALAKKANNAN RAVI/guyonDesktop/DATA_AutomatedHarmDetection/Annotate/v1_100_OA.csv\")"
   ]
  },
  {
   "cell_type": "code",
   "execution_count": 42,
   "id": "28bf58ee-96d7-40c0-92b2-19c53344e933",
   "metadata": {},
   "outputs": [
    {
     "data": {
      "text/plain": [
       "(   Unnamed: 0  date_unixtime  \\\n",
       " 0        8221     1672059834   \n",
       " \n",
       "                                                reply  ChatGPT  \n",
       " 0  I’m excited to share this! A year ago my mom w...        6  ,\n",
       " (100, 4))"
      ]
     },
     "execution_count": 42,
     "metadata": {},
     "output_type": "execute_result"
    }
   ],
   "source": [
    "OA2.head(1), OA2.shape"
   ]
  },
  {
   "cell_type": "code",
   "execution_count": 43,
   "id": "db7d46e6-8722-4941-b837-d0772acb907c",
   "metadata": {},
   "outputs": [
    {
     "data": {
      "text/plain": [
       "6    56\n",
       "2    21\n",
       "5     8\n",
       "4     8\n",
       "3     6\n",
       "1     1\n",
       "Name: ChatGPT, dtype: int64"
      ]
     },
     "execution_count": 43,
     "metadata": {},
     "output_type": "execute_result"
    }
   ],
   "source": [
    "OA2['ChatGPT'].value_counts()"
   ]
  },
  {
   "cell_type": "code",
   "execution_count": 44,
   "id": "ca6a1a5e-f281-4d89-8ca4-0e566aba8c56",
   "metadata": {},
   "outputs": [
    {
     "data": {
      "text/plain": [
       "100"
      ]
     },
     "execution_count": 44,
     "metadata": {},
     "output_type": "execute_result"
    }
   ],
   "source": [
    "sum(OA2['ChatGPT'].value_counts())"
   ]
  },
  {
   "cell_type": "markdown",
   "id": "86f4d250-bea6-4e35-8d17-e5de57c33300",
   "metadata": {},
   "source": [
    "# Sample 30 from each class"
   ]
  },
  {
   "cell_type": "code",
   "execution_count": 33,
   "id": "5ad75e89-5711-474b-b9c1-fafab30fe9ba",
   "metadata": {},
   "outputs": [
    {
     "name": "stdout",
     "output_type": "stream",
     "text": [
      "(100, 4)\n",
      "(200, 3)\n",
      "(500, 5)\n"
     ]
    }
   ],
   "source": [
    "df100=pd.read_csv(\"/home/ravi/UCF Dropbox/KAMALAKKANNAN RAVI/guyonDesktop/DATA_AutomatedHarmDetection/Annotate/v1_100_OA.csv\")\n",
    "print(df100.shape)\n",
    "df200=pd.read_csv(\"/home/ravi/UCF Dropbox/KAMALAKKANNAN RAVI/guyonDesktop/DATA_AutomatedHarmDetection/Annotate/v1_200_OA.csv\")\n",
    "print(df200.shape)\n",
    "df500=pd.read_csv(\"/home/ravi/UCF Dropbox/KAMALAKKANNAN RAVI/guyonDesktop/DATA_AutomatedHarmDetection/Annotate/v1_500_OA.csv\")\n",
    "print(df500.shape)"
   ]
  },
  {
   "cell_type": "code",
   "execution_count": 34,
   "id": "b70a0355-3e22-4795-81f9-83912c75270f",
   "metadata": {},
   "outputs": [],
   "source": [
    "df800 = pd.DataFrame()\n",
    "df800['date_unixtime'] = df100['date_unixtime'].append(df200['date_unixtime']).append(df500['date_unixtime'])\n",
    "df800['reply'] = df100['reply'].append(df200['reply']).append(df500['reply'])\n",
    "df800['ChatGPT'] = df100['ChatGPT'].append(df200['ChatGPT']).append(df500['ChatGPT'])"
   ]
  },
  {
   "cell_type": "code",
   "execution_count": 35,
   "id": "5bf09e9f-181f-4296-81bc-6025fa199afb",
   "metadata": {},
   "outputs": [
    {
     "data": {
      "text/plain": [
       "(800, 3)"
      ]
     },
     "execution_count": 35,
     "metadata": {},
     "output_type": "execute_result"
    }
   ],
   "source": [
    "df800.shape"
   ]
  },
  {
   "cell_type": "code",
   "execution_count": 36,
   "id": "4b792e61-fa34-469c-919b-57fc7a5bb24b",
   "metadata": {},
   "outputs": [
    {
     "data": {
      "text/html": [
       "<div>\n",
       "<style scoped>\n",
       "    .dataframe tbody tr th:only-of-type {\n",
       "        vertical-align: middle;\n",
       "    }\n",
       "\n",
       "    .dataframe tbody tr th {\n",
       "        vertical-align: top;\n",
       "    }\n",
       "\n",
       "    .dataframe thead th {\n",
       "        text-align: right;\n",
       "    }\n",
       "</style>\n",
       "<table border=\"1\" class=\"dataframe\">\n",
       "  <thead>\n",
       "    <tr style=\"text-align: right;\">\n",
       "      <th></th>\n",
       "      <th>date_unixtime</th>\n",
       "      <th>reply</th>\n",
       "      <th>ChatGPT</th>\n",
       "    </tr>\n",
       "  </thead>\n",
       "  <tbody>\n",
       "    <tr>\n",
       "      <th>0</th>\n",
       "      <td>1672059834</td>\n",
       "      <td>I’m excited to share this! A year ago my mom w...</td>\n",
       "      <td>6</td>\n",
       "    </tr>\n",
       "    <tr>\n",
       "      <th>1</th>\n",
       "      <td>1672210866</td>\n",
       "      <td>We are 2 years late &amp; a dollar short with our ...</td>\n",
       "      <td>3</td>\n",
       "    </tr>\n",
       "    <tr>\n",
       "      <th>2</th>\n",
       "      <td>1655480217</td>\n",
       "      <td>Just another attempt at fest tactics and contr...</td>\n",
       "      <td>2</td>\n",
       "    </tr>\n",
       "    <tr>\n",
       "      <th>3</th>\n",
       "      <td>1666953235</td>\n",
       "      <td>Bin telling people to wake up for 20 years, on...</td>\n",
       "      <td>5</td>\n",
       "    </tr>\n",
       "    <tr>\n",
       "      <th>4</th>\n",
       "      <td>1671807108</td>\n",
       "      <td>These people are SICK fuck's. Enticing young c...</td>\n",
       "      <td>5</td>\n",
       "    </tr>\n",
       "    <tr>\n",
       "      <th>5</th>\n",
       "      <td>1642557698</td>\n",
       "      <td>They Wana be commies then boycott flying . Why...</td>\n",
       "      <td>3</td>\n",
       "    </tr>\n",
       "    <tr>\n",
       "      <th>6</th>\n",
       "      <td>1678734657</td>\n",
       "      <td>Stacey Plaskett:  You're a dumba$$.  You're a ...</td>\n",
       "      <td>6</td>\n",
       "    </tr>\n",
       "    <tr>\n",
       "      <th>7</th>\n",
       "      <td>1679257167</td>\n",
       "      <td>Franco Tripepi you couldn’t be more incorrect....</td>\n",
       "      <td>6</td>\n",
       "    </tr>\n",
       "    <tr>\n",
       "      <th>8</th>\n",
       "      <td>1636418305</td>\n",
       "      <td>You Idiots knew how Corrupt and winded by Chin...</td>\n",
       "      <td>2</td>\n",
       "    </tr>\n",
       "    <tr>\n",
       "      <th>9</th>\n",
       "      <td>1675649728</td>\n",
       "      <td>They'll spin this as bad, however, they are mo...</td>\n",
       "      <td>6</td>\n",
       "    </tr>\n",
       "  </tbody>\n",
       "</table>\n",
       "</div>"
      ],
      "text/plain": [
       "   date_unixtime                                              reply  ChatGPT\n",
       "0     1672059834  I’m excited to share this! A year ago my mom w...        6\n",
       "1     1672210866  We are 2 years late & a dollar short with our ...        3\n",
       "2     1655480217  Just another attempt at fest tactics and contr...        2\n",
       "3     1666953235  Bin telling people to wake up for 20 years, on...        5\n",
       "4     1671807108  These people are SICK fuck's. Enticing young c...        5\n",
       "5     1642557698  They Wana be commies then boycott flying . Why...        3\n",
       "6     1678734657  Stacey Plaskett:  You're a dumba$$.  You're a ...        6\n",
       "7     1679257167  Franco Tripepi you couldn’t be more incorrect....        6\n",
       "8     1636418305  You Idiots knew how Corrupt and winded by Chin...        2\n",
       "9     1675649728  They'll spin this as bad, however, they are mo...        6"
      ]
     },
     "execution_count": 36,
     "metadata": {},
     "output_type": "execute_result"
    }
   ],
   "source": [
    "df800.head(10)"
   ]
  },
  {
   "cell_type": "code",
   "execution_count": 44,
   "id": "6b469c36-65b5-4112-818c-31d3addec085",
   "metadata": {},
   "outputs": [],
   "source": [
    "df=df800.copy()\n",
    "sampled_df = pd.concat([df[df['ChatGPT'] == 1].sample(n=30),\n",
    "                        df[df['ChatGPT'] == 2].sample(n=30),\n",
    "                        df[df['ChatGPT'] == 3].sample(n=30),\n",
    "                        df[df['ChatGPT'] == 4].sample(n=30),\n",
    "                        df[df['ChatGPT'] == 5].sample(n=30),\n",
    "                        df[df['ChatGPT'] == 6].sample(n=30)])"
   ]
  },
  {
   "cell_type": "code",
   "execution_count": 45,
   "id": "923b681d-b4a0-4b88-94d9-a33540e01073",
   "metadata": {},
   "outputs": [
    {
     "data": {
      "text/plain": [
       "(180, 3)"
      ]
     },
     "execution_count": 45,
     "metadata": {},
     "output_type": "execute_result"
    }
   ],
   "source": [
    "sampled_df.shape"
   ]
  },
  {
   "cell_type": "code",
   "execution_count": 46,
   "id": "7303d601-5add-435c-adc2-5592f3a29ca1",
   "metadata": {},
   "outputs": [
    {
     "data": {
      "text/html": [
       "<div>\n",
       "<style scoped>\n",
       "    .dataframe tbody tr th:only-of-type {\n",
       "        vertical-align: middle;\n",
       "    }\n",
       "\n",
       "    .dataframe tbody tr th {\n",
       "        vertical-align: top;\n",
       "    }\n",
       "\n",
       "    .dataframe thead th {\n",
       "        text-align: right;\n",
       "    }\n",
       "</style>\n",
       "<table border=\"1\" class=\"dataframe\">\n",
       "  <thead>\n",
       "    <tr style=\"text-align: right;\">\n",
       "      <th></th>\n",
       "      <th>date_unixtime</th>\n",
       "      <th>reply</th>\n",
       "      <th>ChatGPT</th>\n",
       "    </tr>\n",
       "  </thead>\n",
       "  <tbody>\n",
       "    <tr>\n",
       "      <th>141</th>\n",
       "      <td>1662508109</td>\n",
       "      <td>Well then why tf did you bleachfit your server...</td>\n",
       "      <td>1</td>\n",
       "    </tr>\n",
       "    <tr>\n",
       "      <th>183</th>\n",
       "      <td>1670890034</td>\n",
       "      <td>Of course it was STOLEN! The reason why the me...</td>\n",
       "      <td>1</td>\n",
       "    </tr>\n",
       "    <tr>\n",
       "      <th>79</th>\n",
       "      <td>1669774135</td>\n",
       "      <td>No.  We aren't doing commercial consumer Chris...</td>\n",
       "      <td>1</td>\n",
       "    </tr>\n",
       "    <tr>\n",
       "      <th>62</th>\n",
       "      <td>1650562558</td>\n",
       "      <td>'This bill would delete the requirement that a...</td>\n",
       "      <td>1</td>\n",
       "    </tr>\n",
       "    <tr>\n",
       "      <th>76</th>\n",
       "      <td>1678933695</td>\n",
       "      <td>Graham needs to put on his big girl pants and ...</td>\n",
       "      <td>1</td>\n",
       "    </tr>\n",
       "    <tr>\n",
       "      <th>175</th>\n",
       "      <td>1666561765</td>\n",
       "      <td>The military isn't the only once people are \"a...</td>\n",
       "      <td>1</td>\n",
       "    </tr>\n",
       "    <tr>\n",
       "      <th>109</th>\n",
       "      <td>1660253945</td>\n",
       "      <td>Yeah if Provable he’d be arrested and in jail....</td>\n",
       "      <td>1</td>\n",
       "    </tr>\n",
       "    <tr>\n",
       "      <th>91</th>\n",
       "      <td>1669269166</td>\n",
       "      <td>I wish they'd report the actual number of deat...</td>\n",
       "      <td>1</td>\n",
       "    </tr>\n",
       "    <tr>\n",
       "      <th>403</th>\n",
       "      <td>1658581903</td>\n",
       "      <td>Its worse than that Pelosi ordered the sham in...</td>\n",
       "      <td>1</td>\n",
       "    </tr>\n",
       "    <tr>\n",
       "      <th>140</th>\n",
       "      <td>1661576334</td>\n",
       "      <td>I’m guessing that this school loan forgiveness...</td>\n",
       "      <td>1</td>\n",
       "    </tr>\n",
       "  </tbody>\n",
       "</table>\n",
       "</div>"
      ],
      "text/plain": [
       "     date_unixtime                                              reply  ChatGPT\n",
       "141     1662508109  Well then why tf did you bleachfit your server...        1\n",
       "183     1670890034  Of course it was STOLEN! The reason why the me...        1\n",
       "79      1669774135  No.  We aren't doing commercial consumer Chris...        1\n",
       "62      1650562558  'This bill would delete the requirement that a...        1\n",
       "76      1678933695  Graham needs to put on his big girl pants and ...        1\n",
       "175     1666561765  The military isn't the only once people are \"a...        1\n",
       "109     1660253945  Yeah if Provable he’d be arrested and in jail....        1\n",
       "91      1669269166  I wish they'd report the actual number of deat...        1\n",
       "403     1658581903  Its worse than that Pelosi ordered the sham in...        1\n",
       "140     1661576334  I’m guessing that this school loan forgiveness...        1"
      ]
     },
     "execution_count": 46,
     "metadata": {},
     "output_type": "execute_result"
    }
   ],
   "source": [
    "sampled_df.head(10)"
   ]
  },
  {
   "cell_type": "code",
   "execution_count": 52,
   "id": "d7f39283-e3bd-40c2-94ac-4b17d49a3135",
   "metadata": {},
   "outputs": [],
   "source": [
    "sampled_df = sampled_df.sample(frac=1)"
   ]
  },
  {
   "cell_type": "code",
   "execution_count": 53,
   "id": "0ba1241f-731a-412c-9f92-8c88e7f4a133",
   "metadata": {},
   "outputs": [],
   "source": [
    "# prompt = \"Please classify the given satement into one the following threat levels. 1.Claims of illegal/criminal actions/behavior: Statements that allege or assert that a person, persons, group, or organization committed or is engaging in illegal or criminal activities without explicitly calling for arrest, prosecution, punishment, harm, or other action.  This category excludes particularly heinous crimes like child abuse, molestation, sexual assault/rape, sex trafficking, torture,  terrorism, murder, and mass murder/genocide. 2. Claims of immoral/evil behaviors: Statements that assert that a person, persons, group, or organization is immoral or evil, and statements that allege or assert that a person, persons, group, or organization are committing acts or engaged in behavior that is considered particularly immoral or evil.  Examples include grooming and pedophilia, in addition to particularly heinous crimes like child abuse, molestation, sexual assault/rape, sex trafficking, torture,  terrorism, murder, and mass murder/genocide. 3. Implied support/ambiguous call/threats for action/harm: Statements that suggest or imply support for arrest, prosecution, punishment, or other harmful or threatening actions, but without explicit instructions or clear intent.  Such implied or ambiguous statements are often in the form of rhetorical questions or make reference to violence or harmful action through double meanings. This category can include protest/political chants and battle cries (e.g., `1776!', `Live free or die!'). 4. Calls/threats for judicial action/harm: Statements that explicitly call for or threaten legal action against a person, persons, group, or organization in the form of civil action, arrest, or criminal prosecution.  May include calls for punishment within standard legal norms, including prison, while excluding excessive, or cruel and unusual punishments.  This category includes statements in the form of protest/political chants (e.g. `Lock her up'). 5. Calls/threats for non-judicial or extra-judicial action/harm: Statements that explicitly call for or threaten non-judicial or extra-judicial action or harm against a person, persons, groups, or organization, such as physical violence or vigilante justice. This includes actions or punishments considered outside of standard legal norms for being excessive, disproportionate, or cruel and unusual.  This category also includes battle cries (e.g. `Time to start a civil war!') and protest/political chants (e.g. `Hang Mike Pence!') that refer to non-judicial or extra-judicial action. 6. None of the above: No indication, suggestion, or desire of  physical harm, imprisonment, or threat towards another person, persons, group, or organization. Statement:\""
   ]
  },
  {
   "cell_type": "code",
   "execution_count": 54,
   "id": "e156ec9b-90a8-4b5c-995f-d6c192724771",
   "metadata": {},
   "outputs": [],
   "source": [
    "sampled_df.to_csv(\"/home/ravi/UCF Dropbox/KAMALAKKANNAN RAVI/guyonDesktop/DATA_AutomatedHarmDetection/Annotate/ToAnnotate180SamplesOG.csv\")"
   ]
  },
  {
   "cell_type": "markdown",
   "id": "3e33b494-cf81-46e4-a7fe-e81b8bb6e634",
   "metadata": {},
   "source": [
    "# compare results"
   ]
  },
  {
   "cell_type": "code",
   "execution_count": 63,
   "id": "90212734-26be-42b6-b355-888a92bf57d1",
   "metadata": {},
   "outputs": [],
   "source": [
    "import numpy as np\n",
    "from sklearn.metrics import f1_score\n",
    "from sklearn.metrics import confusion_matrix\n",
    "from sklearn.metrics import cohen_kappa_score"
   ]
  },
  {
   "cell_type": "code",
   "execution_count": 52,
   "id": "87e83ce3-e704-4ace-9dbd-13f35b0a7db4",
   "metadata": {},
   "outputs": [],
   "source": [
    "Liz=pd.read_excel(\"/home/ravi/UCF Dropbox/KAMALAKKANNAN RAVI/guyonDesktop/DATA_AutomatedHarmDetection/Annotate/Annotated180Samples_Lizzy.xlsx\")"
   ]
  },
  {
   "cell_type": "code",
   "execution_count": 53,
   "id": "ac94395a-ed75-49d7-9c66-72cd5d8d6e74",
   "metadata": {},
   "outputs": [
    {
     "data": {
      "text/html": [
       "<div>\n",
       "<style scoped>\n",
       "    .dataframe tbody tr th:only-of-type {\n",
       "        vertical-align: middle;\n",
       "    }\n",
       "\n",
       "    .dataframe tbody tr th {\n",
       "        vertical-align: top;\n",
       "    }\n",
       "\n",
       "    .dataframe thead th {\n",
       "        text-align: right;\n",
       "    }\n",
       "</style>\n",
       "<table border=\"1\" class=\"dataframe\">\n",
       "  <thead>\n",
       "    <tr style=\"text-align: right;\">\n",
       "      <th></th>\n",
       "      <th>date_unixtime</th>\n",
       "      <th>reply</th>\n",
       "      <th>Label</th>\n",
       "      <th>Label 2</th>\n",
       "      <th>Label 3</th>\n",
       "      <th>Label 4</th>\n",
       "    </tr>\n",
       "  </thead>\n",
       "  <tbody>\n",
       "    <tr>\n",
       "      <th>0</th>\n",
       "      <td>1679409924</td>\n",
       "      <td>I would ask him to explain why at the beginnin...</td>\n",
       "      <td>2</td>\n",
       "      <td>NaN</td>\n",
       "      <td>NaN</td>\n",
       "      <td>NaN</td>\n",
       "    </tr>\n",
       "  </tbody>\n",
       "</table>\n",
       "</div>"
      ],
      "text/plain": [
       "   date_unixtime                                              reply  Label  \\\n",
       "0     1679409924  I would ask him to explain why at the beginnin...      2   \n",
       "\n",
       "   Label 2  Label 3  Label 4  \n",
       "0      NaN      NaN      NaN  "
      ]
     },
     "execution_count": 53,
     "metadata": {},
     "output_type": "execute_result"
    }
   ],
   "source": [
    "Liz.head(1)"
   ]
  },
  {
   "cell_type": "code",
   "execution_count": 61,
   "id": "b19b5845-54be-4f08-b748-3bfd07b80f2f",
   "metadata": {},
   "outputs": [
    {
     "data": {
      "text/plain": [
       "6    50\n",
       "4    35\n",
       "1    29\n",
       "3    24\n",
       "5    22\n",
       "2    20\n",
       "Name: Label, dtype: int64"
      ]
     },
     "execution_count": 61,
     "metadata": {},
     "output_type": "execute_result"
    }
   ],
   "source": [
    "Liz['Label'].value_counts()"
   ]
  },
  {
   "cell_type": "code",
   "execution_count": 54,
   "id": "188e77dc-90c7-4614-8a1d-afe9276b9e97",
   "metadata": {},
   "outputs": [],
   "source": [
    "ravi=pd.read_csv(\"/home/ravi/UCF Dropbox/KAMALAKKANNAN RAVI/guyonDesktop/DATA_AutomatedHarmDetection/Annotate/ToAnnotate180Samples_Ravi.csv\")"
   ]
  },
  {
   "cell_type": "code",
   "execution_count": 55,
   "id": "1c4398c9-6881-4de2-90b2-f27dda938d77",
   "metadata": {},
   "outputs": [
    {
     "data": {
      "text/html": [
       "<div>\n",
       "<style scoped>\n",
       "    .dataframe tbody tr th:only-of-type {\n",
       "        vertical-align: middle;\n",
       "    }\n",
       "\n",
       "    .dataframe tbody tr th {\n",
       "        vertical-align: top;\n",
       "    }\n",
       "\n",
       "    .dataframe thead th {\n",
       "        text-align: right;\n",
       "    }\n",
       "</style>\n",
       "<table border=\"1\" class=\"dataframe\">\n",
       "  <thead>\n",
       "    <tr style=\"text-align: right;\">\n",
       "      <th></th>\n",
       "      <th>Unnamed: 0</th>\n",
       "      <th>date_unixtime</th>\n",
       "      <th>reply</th>\n",
       "      <th>L0</th>\n",
       "      <th>L1</th>\n",
       "      <th>L2</th>\n",
       "      <th>L3</th>\n",
       "    </tr>\n",
       "  </thead>\n",
       "  <tbody>\n",
       "    <tr>\n",
       "      <th>0</th>\n",
       "      <td>123</td>\n",
       "      <td>1679409924</td>\n",
       "      <td>I would ask him to explain why at the beginnin...</td>\n",
       "      <td>2</td>\n",
       "      <td>NaN</td>\n",
       "      <td>NaN</td>\n",
       "      <td>NaN</td>\n",
       "    </tr>\n",
       "  </tbody>\n",
       "</table>\n",
       "</div>"
      ],
      "text/plain": [
       "   Unnamed: 0  date_unixtime  \\\n",
       "0         123     1679409924   \n",
       "\n",
       "                                               reply  L0  L1  L2  L3  \n",
       "0  I would ask him to explain why at the beginnin...   2 NaN NaN NaN  "
      ]
     },
     "execution_count": 55,
     "metadata": {},
     "output_type": "execute_result"
    }
   ],
   "source": [
    "ravi.head(1)"
   ]
  },
  {
   "cell_type": "code",
   "execution_count": 62,
   "id": "be182cad-f2c8-41d9-a120-810207f5ba25",
   "metadata": {},
   "outputs": [
    {
     "data": {
      "text/plain": [
       "6    78\n",
       "5    31\n",
       "1    23\n",
       "3    19\n",
       "2    15\n",
       "4    14\n",
       "Name: L0, dtype: int64"
      ]
     },
     "execution_count": 62,
     "metadata": {},
     "output_type": "execute_result"
    }
   ],
   "source": [
    "ravi['L0'].value_counts()"
   ]
  },
  {
   "cell_type": "code",
   "execution_count": 56,
   "id": "eacbb36c-0daa-49c9-afc6-5f7540a7b5dd",
   "metadata": {},
   "outputs": [],
   "source": [
    "file = '/home/ravi/UCF Dropbox/KAMALAKKANNAN RAVI/guyonDesktop/DATA_AutomatedHarmDetection/Annotate/ToAnnotate180Samples_openAI-classification.ljson'"
   ]
  },
  {
   "cell_type": "code",
   "execution_count": 57,
   "id": "f09c97e5-e444-4bb5-9bc7-721a35228693",
   "metadata": {},
   "outputs": [],
   "source": [
    "allJSONs=[]\n",
    "with open(file) as fin:\n",
    "    for cLine in fin:\n",
    "        cJSON=json.loads(cLine)\n",
    "        allJSONs.append(cJSON)"
   ]
  },
  {
   "cell_type": "code",
   "execution_count": 58,
   "id": "8094f2f3-4a0e-40f2-b71b-3123893ce92f",
   "metadata": {},
   "outputs": [],
   "source": [
    "allJSONs = pd.DataFrame(allJSONs)"
   ]
  },
  {
   "cell_type": "code",
   "execution_count": 59,
   "id": "83accf74-2d91-40b6-b086-708f80df9785",
   "metadata": {},
   "outputs": [],
   "source": [
    "allJSONs.to_csv(\"/home/ravi/UCF Dropbox/KAMALAKKANNAN RAVI/guyonDesktop/DATA_AutomatedHarmDetection/Annotate/allJSONs180.csv\")"
   ]
  },
  {
   "cell_type": "code",
   "execution_count": 60,
   "id": "70767165-ca18-4560-add6-1072d7b1039f",
   "metadata": {},
   "outputs": [
    {
     "data": {
      "text/html": [
       "<div>\n",
       "<style scoped>\n",
       "    .dataframe tbody tr th:only-of-type {\n",
       "        vertical-align: middle;\n",
       "    }\n",
       "\n",
       "    .dataframe tbody tr th {\n",
       "        vertical-align: top;\n",
       "    }\n",
       "\n",
       "    .dataframe thead th {\n",
       "        text-align: right;\n",
       "    }\n",
       "</style>\n",
       "<table border=\"1\" class=\"dataframe\">\n",
       "  <thead>\n",
       "    <tr style=\"text-align: right;\">\n",
       "      <th></th>\n",
       "      <th>Unnamed: 0</th>\n",
       "      <th>date_unixtime</th>\n",
       "      <th>reply</th>\n",
       "      <th>openAI-classification</th>\n",
       "    </tr>\n",
       "  </thead>\n",
       "  <tbody>\n",
       "    <tr>\n",
       "      <th>0</th>\n",
       "      <td>123</td>\n",
       "      <td>1679409924</td>\n",
       "      <td>I would ask him to explain why at the beginnin...</td>\n",
       "      <td>2</td>\n",
       "    </tr>\n",
       "  </tbody>\n",
       "</table>\n",
       "</div>"
      ],
      "text/plain": [
       "   Unnamed: 0  date_unixtime  \\\n",
       "0         123     1679409924   \n",
       "\n",
       "                                               reply openAI-classification  \n",
       "0  I would ask him to explain why at the beginnin...                     2  "
      ]
     },
     "execution_count": 60,
     "metadata": {},
     "output_type": "execute_result"
    }
   ],
   "source": [
    "allJSONs.head(1)"
   ]
  },
  {
   "cell_type": "code",
   "execution_count": 34,
   "id": "7758c71a-890d-4067-ac7f-f0a612a60ca5",
   "metadata": {},
   "outputs": [
    {
     "data": {
      "text/plain": [
       "6    68\n",
       "3    31\n",
       "2    29\n",
       "4    24\n",
       "5    15\n",
       "1    13\n",
       "Name: openAI-classification, dtype: int64"
      ]
     },
     "execution_count": 34,
     "metadata": {},
     "output_type": "execute_result"
    }
   ],
   "source": [
    "allJSONs['openAI-classification'].value_counts()"
   ]
  },
  {
   "cell_type": "markdown",
   "id": "0e03f342-0baf-4849-b37c-ffcd928d34d1",
   "metadata": {},
   "source": [
    "### metrics"
   ]
  },
  {
   "cell_type": "code",
   "execution_count": 150,
   "id": "ef029f26-27c1-4150-83c1-1e6df7f53083",
   "metadata": {},
   "outputs": [],
   "source": [
    "allJSONs['openAI-classification'] = allJSONs['openAI-classification'].replace(['6'], '0')\n",
    "Liz['Label'] = Liz['Label'].replace([6], 0)\n",
    "ravi['L0'] = ravi['L0'].replace([6], 0)"
   ]
  },
  {
   "cell_type": "code",
   "execution_count": 152,
   "id": "ac0f5dfa-b194-49df-aa72-965f87c8b764",
   "metadata": {},
   "outputs": [
    {
     "data": {
      "text/plain": [
       "0.5552110082852851"
      ]
     },
     "execution_count": 152,
     "metadata": {},
     "output_type": "execute_result"
    }
   ],
   "source": [
    "cohen_kappa_score(Liz['Label'],allJSONs['openAI-classification'].astype('int64'), weights='quadratic')"
   ]
  },
  {
   "cell_type": "code",
   "execution_count": 153,
   "id": "f2ca9310-d18b-44e8-9659-4137c045f472",
   "metadata": {},
   "outputs": [
    {
     "data": {
      "text/plain": [
       "0.6392327574479663"
      ]
     },
     "execution_count": 153,
     "metadata": {},
     "output_type": "execute_result"
    }
   ],
   "source": [
    "cohen_kappa_score(ravi['L0'], allJSONs['openAI-classification'].astype('int64'), weights='quadratic')"
   ]
  },
  {
   "cell_type": "code",
   "execution_count": 154,
   "id": "a9e6f59d-22c3-4e56-96cf-db7d230585fb",
   "metadata": {},
   "outputs": [
    {
     "data": {
      "text/plain": [
       "0.5639512408834368"
      ]
     },
     "execution_count": 154,
     "metadata": {},
     "output_type": "execute_result"
    }
   ],
   "source": [
    "cohen_kappa_score(Liz['Label'], ravi['L0'], weights='quadratic')"
   ]
  },
  {
   "cell_type": "code",
   "execution_count": 171,
   "id": "07aa7e17-89b9-4d5b-970b-e5a8f90c5c99",
   "metadata": {},
   "outputs": [
    {
     "data": {
      "text/plain": [
       "(array([0.5, 1.5, 2.5, 3.5, 4.5, 5.5]),\n",
       " [Text(0.5, 0, '0'),\n",
       "  Text(1.5, 0, '1'),\n",
       "  Text(2.5, 0, '2'),\n",
       "  Text(3.5, 0, '3'),\n",
       "  Text(4.5, 0, '4'),\n",
       "  Text(5.5, 0, '5')])"
      ]
     },
     "execution_count": 171,
     "metadata": {},
     "output_type": "execute_result"
    },
    {
     "data": {
      "image/png": "[encoded data removed]",
      "text/plain": [
       "<Figure size 216x216 with 2 Axes>"
      ]
     },
     "metadata": {
      "needs_background": "light"
     },
     "output_type": "display_data"
    }
   ],
   "source": [
    "cm = confusion_matrix(Liz['Label'], allJSONs['openAI-classification'].astype('int64'))\n",
    "fig, ax = plt.subplots(figsize=(3,3))\n",
    "display_labels=[0,1,2,3,4,5]\n",
    "SVM_ConfusionMatrix = sns.heatmap(cm, annot=True, xticklabels=display_labels, yticklabels=display_labels, cmap='Blues', ax=ax, fmt='d')\n",
    "plt.yticks(va=\"center\")\n",
    "plt.xticks(va=\"center\")"
   ]
  },
  {
   "cell_type": "code",
   "execution_count": 170,
   "id": "336faa74-bfc8-46c5-94c2-feb0449d6c03",
   "metadata": {},
   "outputs": [
    {
     "data": {
      "text/plain": [
       "(array([0.5, 1.5, 2.5, 3.5, 4.5, 5.5]),\n",
       " [Text(0.5, 0, '0'),\n",
       "  Text(1.5, 0, '1'),\n",
       "  Text(2.5, 0, '2'),\n",
       "  Text(3.5, 0, '3'),\n",
       "  Text(4.5, 0, '4'),\n",
       "  Text(5.5, 0, '5')])"
      ]
     },
     "execution_count": 170,
     "metadata": {},
     "output_type": "execute_result"
    },
    {
     "data": {
      "image/png": "[encoded data removed]",
      "text/plain": [
       "<Figure size 216x216 with 2 Axes>"
      ]
     },
     "metadata": {
      "needs_background": "light"
     },
     "output_type": "display_data"
    }
   ],
   "source": [
    "cm = confusion_matrix(ravi['L0'], allJSONs['openAI-classification'].astype('int64'))\n",
    "fig, ax = plt.subplots(figsize=(3,3))\n",
    "display_labels=[0,1,2,3,4,5]\n",
    "SVM_ConfusionMatrix = sns.heatmap(cm, annot=True, xticklabels=display_labels, yticklabels=display_labels, cmap='Blues', ax=ax, fmt='d')\n",
    "plt.yticks(va=\"center\")\n",
    "plt.xticks(va=\"center\")"
   ]
  },
  {
   "cell_type": "markdown",
   "id": "d3e4ed63-3940-463f-aaca-ca68e31907a6",
   "metadata": {},
   "source": [
    "## new OA"
   ]
  },
  {
   "cell_type": "code",
   "execution_count": 81,
   "id": "9e5cc349-65bb-4b40-a181-e1abfd074c04",
   "metadata": {},
   "outputs": [],
   "source": [
    "file =  \"/home/ravi/UCF Dropbox/KAMALAKKANNAN RAVI/guyonDesktop/DATA_AutomatedHarmDetection/Annotate/ToAnnotate180Samples_openAI-classification-subject.ljson\""
   ]
  },
  {
   "cell_type": "code",
   "execution_count": 82,
   "id": "9812b5b7-c937-4d4e-9f7b-e6c7c7b36bdd",
   "metadata": {},
   "outputs": [],
   "source": [
    "newOA=[]\n",
    "with open(file) as fin:\n",
    "    for cLine in fin:\n",
    "        cJSON=json.loads(cLine)\n",
    "        newOA.append(cJSON)"
   ]
  },
  {
   "cell_type": "code",
   "execution_count": 84,
   "id": "26016fe1-032e-46fd-91af-563c619d5d44",
   "metadata": {},
   "outputs": [],
   "source": [
    "newOA = pd.DataFrame(newOA)"
   ]
  },
  {
   "cell_type": "code",
   "execution_count": 85,
   "id": "3a848831-89c7-490a-990f-ad6665adaf2a",
   "metadata": {},
   "outputs": [
    {
     "data": {
      "text/html": [
       "<div>\n",
       "<style scoped>\n",
       "    .dataframe tbody tr th:only-of-type {\n",
       "        vertical-align: middle;\n",
       "    }\n",
       "\n",
       "    .dataframe tbody tr th {\n",
       "        vertical-align: top;\n",
       "    }\n",
       "\n",
       "    .dataframe thead th {\n",
       "        text-align: right;\n",
       "    }\n",
       "</style>\n",
       "<table border=\"1\" class=\"dataframe\">\n",
       "  <thead>\n",
       "    <tr style=\"text-align: right;\">\n",
       "      <th></th>\n",
       "      <th>Unnamed: 0</th>\n",
       "      <th>date_unixtime</th>\n",
       "      <th>reply</th>\n",
       "      <th>openAI-classification</th>\n",
       "    </tr>\n",
       "  </thead>\n",
       "  <tbody>\n",
       "    <tr>\n",
       "      <th>0</th>\n",
       "      <td>123</td>\n",
       "      <td>1679409924</td>\n",
       "      <td>I would ask him to explain why at the beginnin...</td>\n",
       "      <td>2</td>\n",
       "    </tr>\n",
       "  </tbody>\n",
       "</table>\n",
       "</div>"
      ],
      "text/plain": [
       "   Unnamed: 0  date_unixtime  \\\n",
       "0         123     1679409924   \n",
       "\n",
       "                                               reply openAI-classification  \n",
       "0  I would ask him to explain why at the beginnin...                     2  "
      ]
     },
     "execution_count": 85,
     "metadata": {},
     "output_type": "execute_result"
    }
   ],
   "source": [
    "newOA.head(1)"
   ]
  },
  {
   "cell_type": "code",
   "execution_count": 86,
   "id": "616ba21c-5c35-4b22-b2e4-5ec6323cf34a",
   "metadata": {},
   "outputs": [
    {
     "data": {
      "text/plain": [
       "6                                                                                                                                                                                                                                                                           75\n",
       "3                                                                                                                                                                                                                                                                           35\n",
       "2                                                                                                                                                                                                                                                                           32\n",
       "5                                                                                                                                                                                                                                                                           16\n",
       "4                                                                                                                                                                                                                                                                           12\n",
       "1                                                                                                                                                                                                                                                                            8\n",
       "6. None of the above                                                                                                                                                                                                                                                         1\n",
       "2. Messages that say the subject of the message is evil, sinful or wicked, or that they are committing heinous crimes like grooming, child abuse, animal abuse, molestation, sexual assault/rape, sex trafficking, torture, terrorism, murder, and mass murder/genocide.     1\n",
       "Name: openAI-classification, dtype: int64"
      ]
     },
     "execution_count": 86,
     "metadata": {},
     "output_type": "execute_result"
    }
   ],
   "source": [
    "newOA['openAI-classification'].value_counts()"
   ]
  },
  {
   "cell_type": "code",
   "execution_count": 89,
   "id": "ebf1fb37-e1c0-451f-a9b5-50c672d0643c",
   "metadata": {},
   "outputs": [
    {
     "data": {
      "text/plain": [
       "array(['2', '6', '3', '5', '4', '1', '6. None of the above',\n",
       "       '2. Messages that say the subject of the message is evil, sinful or wicked, or that they are committing heinous crimes like grooming, child abuse, animal abuse, molestation, sexual assault/rape, sex trafficking, torture, terrorism, murder, and mass murder/genocide.'],\n",
       "      dtype=object)"
      ]
     },
     "execution_count": 89,
     "metadata": {},
     "output_type": "execute_result"
    }
   ],
   "source": [
    "newOA['openAI-classification'].unique()"
   ]
  },
  {
   "cell_type": "code",
   "execution_count": 92,
   "id": "8b1f4739-2e8d-4a2e-8714-cf0daaf25ee3",
   "metadata": {},
   "outputs": [],
   "source": [
    "newOA['openAI-classification'] = newOA['openAI-classification'].replace(['6. None of the above'], '6')\n",
    "newOA['openAI-classification'] = newOA['openAI-classification'].replace(['2. Messages that say the subject of the message is evil, sinful or wicked, or that they are committing heinous crimes like grooming, child abuse, animal abuse, molestation, sexual assault/rape, sex trafficking, torture, terrorism, murder, and mass murder/genocide.'], '2')"
   ]
  },
  {
   "cell_type": "code",
   "execution_count": 93,
   "id": "727a4a00-84de-4693-ab75-0bf22ad28b4a",
   "metadata": {},
   "outputs": [
    {
     "data": {
      "text/plain": [
       "array(['2', '6', '3', '5', '4', '1'], dtype=object)"
      ]
     },
     "execution_count": 93,
     "metadata": {},
     "output_type": "execute_result"
    }
   ],
   "source": [
    "newOA['openAI-classification'].unique()"
   ]
  },
  {
   "cell_type": "code",
   "execution_count": 94,
   "id": "43eef37a-9f9a-4abc-a217-96484e9b0fad",
   "metadata": {},
   "outputs": [
    {
     "data": {
      "text/plain": [
       "6    76\n",
       "3    35\n",
       "2    33\n",
       "5    16\n",
       "4    12\n",
       "1     8\n",
       "Name: openAI-classification, dtype: int64"
      ]
     },
     "execution_count": 94,
     "metadata": {},
     "output_type": "execute_result"
    }
   ],
   "source": [
    "newOA['openAI-classification'].value_counts()"
   ]
  },
  {
   "cell_type": "code",
   "execution_count": 156,
   "id": "9d8044c5-cffe-4fcb-9044-017a293c9cff",
   "metadata": {},
   "outputs": [],
   "source": [
    "newOA['openAI-classification'] = newOA['openAI-classification'].replace(['6'], '0')\n",
    "Liz['Label'] = Liz['Label'].replace([6], 0)\n",
    "ravi['L0'] = ravi['L0'].replace([6], 0)"
   ]
  },
  {
   "cell_type": "code",
   "execution_count": 158,
   "id": "3f4a65b1-6e20-454f-8ab5-2e81242e582b",
   "metadata": {},
   "outputs": [
    {
     "data": {
      "text/plain": [
       "0.555848001316006"
      ]
     },
     "execution_count": 158,
     "metadata": {},
     "output_type": "execute_result"
    }
   ],
   "source": [
    "cohen_kappa_score(Liz['Label'], newOA['openAI-classification'].astype('int64'), weights='quadratic')"
   ]
  },
  {
   "cell_type": "code",
   "execution_count": 160,
   "id": "2bdd2d73-cbf9-4f68-8af4-f574ca83095b",
   "metadata": {},
   "outputs": [
    {
     "data": {
      "text/plain": [
       "0.6498022184725181"
      ]
     },
     "execution_count": 160,
     "metadata": {},
     "output_type": "execute_result"
    }
   ],
   "source": [
    "cohen_kappa_score(ravi['L0'], newOA['openAI-classification'].astype('int64'), weights='quadratic')"
   ]
  },
  {
   "cell_type": "code",
   "execution_count": 162,
   "id": "e44aa001-a24c-423c-8453-557f3afa8d53",
   "metadata": {},
   "outputs": [
    {
     "data": {
      "text/plain": [
       "0.5639512408834368"
      ]
     },
     "execution_count": 162,
     "metadata": {},
     "output_type": "execute_result"
    }
   ],
   "source": [
    "cohen_kappa_score(ravi['L0'], Liz['Label'], weights='quadratic')"
   ]
  },
  {
   "cell_type": "code",
   "execution_count": 163,
   "id": "6b3e57b2-6810-4911-ba6d-cf73e0a6c6b2",
   "metadata": {},
   "outputs": [
    {
     "data": {
      "text/plain": [
       "(array([0.5, 1.5, 2.5, 3.5, 4.5, 5.5]),\n",
       " [Text(0.5, 0, '0'),\n",
       "  Text(1.5, 0, '1'),\n",
       "  Text(2.5, 0, '2'),\n",
       "  Text(3.5, 0, '3'),\n",
       "  Text(4.5, 0, '4'),\n",
       "  Text(5.5, 0, '5')])"
      ]
     },
     "execution_count": 163,
     "metadata": {},
     "output_type": "execute_result"
    },
    {
     "data": {
      "image/png": "[encoded data removed]",
      "text/plain": [
       "<Figure size 216x216 with 2 Axes>"
      ]
     },
     "metadata": {
      "needs_background": "light"
     },
     "output_type": "display_data"
    }
   ],
   "source": [
    "cm = confusion_matrix(Liz['Label'], newOA['openAI-classification'].astype('int64'))\n",
    "fig, ax = plt.subplots(figsize=(3,3))\n",
    "display_labels=[0,1,2,3,4,5]\n",
    "SVM_ConfusionMatrix = sns.heatmap(cm, annot=True, xticklabels=display_labels, yticklabels=display_labels, cmap='Blues', ax=ax, fmt='d')\n",
    "plt.yticks(va=\"center\")\n",
    "plt.xticks(va=\"center\")"
   ]
  },
  {
   "cell_type": "code",
   "execution_count": 172,
   "id": "c11e37e6-bcc1-4f63-aa77-090ef930f566",
   "metadata": {},
   "outputs": [
    {
     "data": {
      "text/plain": [
       "(array([0.5, 1.5, 2.5, 3.5, 4.5, 5.5]),\n",
       " [Text(0.5, 0, '0'),\n",
       "  Text(1.5, 0, '1'),\n",
       "  Text(2.5, 0, '2'),\n",
       "  Text(3.5, 0, '3'),\n",
       "  Text(4.5, 0, '4'),\n",
       "  Text(5.5, 0, '5')])"
      ]
     },
     "execution_count": 172,
     "metadata": {},
     "output_type": "execute_result"
    },
    {
     "data": {
      "image/png": "[encoded data removed]",
      "text/plain": [
       "<Figure size 216x216 with 2 Axes>"
      ]
     },
     "metadata": {
      "needs_background": "light"
     },
     "output_type": "display_data"
    }
   ],
   "source": [
    "cm = confusion_matrix(ravi['L0'], newOA['openAI-classification'].astype('int64'))\n",
    "fig, ax = plt.subplots(figsize=(3,3))\n",
    "display_labels=[0,1,2,3,4,5]\n",
    "SVM_ConfusionMatrix = sns.heatmap(cm, annot=True, xticklabels=display_labels, yticklabels=display_labels, cmap='Blues', ax=ax, fmt='d')\n",
    "plt.yticks(va=\"center\")\n",
    "plt.xticks(va=\"center\")"
   ]
  },
  {
   "cell_type": "markdown",
   "id": "4c83489c-431c-45d8-a164-dec224a58459",
   "metadata": {},
   "source": [
    "# v2"
   ]
  },
  {
   "cell_type": "code",
   "execution_count": 119,
   "id": "8cdfc01a-6d97-4b79-9bf6-70e47d5b676e",
   "metadata": {},
   "outputs": [],
   "source": [
    "file =  \"/home/ravi/UCF Dropbox/KAMALAKKANNAN RAVI/guyonDesktop/DATA_AutomatedHarmDetection/Annotate/ToAnnotate180Samples_openAI-classification_v2.ljson\"\n",
    "v2OA=[]\n",
    "with open(file) as fin:\n",
    "    for cLine in fin:\n",
    "        cJSON=json.loads(cLine)\n",
    "        v2OA.append(cJSON)\n",
    "v2OA = pd.DataFrame(v2OA)"
   ]
  },
  {
   "cell_type": "code",
   "execution_count": 122,
   "id": "2ebc8e1f-3cd1-445a-9d2c-ff1514a06186",
   "metadata": {},
   "outputs": [
    {
     "data": {
      "text/html": [
       "<div>\n",
       "<style scoped>\n",
       "    .dataframe tbody tr th:only-of-type {\n",
       "        vertical-align: middle;\n",
       "    }\n",
       "\n",
       "    .dataframe tbody tr th {\n",
       "        vertical-align: top;\n",
       "    }\n",
       "\n",
       "    .dataframe thead th {\n",
       "        text-align: right;\n",
       "    }\n",
       "</style>\n",
       "<table border=\"1\" class=\"dataframe\">\n",
       "  <thead>\n",
       "    <tr style=\"text-align: right;\">\n",
       "      <th></th>\n",
       "      <th>Unnamed: 0</th>\n",
       "      <th>date_unixtime</th>\n",
       "      <th>reply</th>\n",
       "      <th>openAI-classification</th>\n",
       "    </tr>\n",
       "  </thead>\n",
       "  <tbody>\n",
       "    <tr>\n",
       "      <th>0</th>\n",
       "      <td>123</td>\n",
       "      <td>1679409924</td>\n",
       "      <td>I would ask him to explain why at the beginnin...</td>\n",
       "      <td>2</td>\n",
       "    </tr>\n",
       "  </tbody>\n",
       "</table>\n",
       "</div>"
      ],
      "text/plain": [
       "   Unnamed: 0  date_unixtime  \\\n",
       "0         123     1679409924   \n",
       "\n",
       "                                               reply openAI-classification  \n",
       "0  I would ask him to explain why at the beginnin...                     2  "
      ]
     },
     "execution_count": 122,
     "metadata": {},
     "output_type": "execute_result"
    }
   ],
   "source": [
    "v2OA.head(1)"
   ]
  },
  {
   "cell_type": "code",
   "execution_count": 123,
   "id": "7142e036-2985-4290-9c5e-df24cc147214",
   "metadata": {},
   "outputs": [
    {
     "data": {
      "text/plain": [
       "1    65\n",
       "2    44\n",
       "5    25\n",
       "3    24\n",
       "6    18\n",
       "4     4\n",
       "Name: openAI-classification, dtype: int64"
      ]
     },
     "execution_count": 123,
     "metadata": {},
     "output_type": "execute_result"
    }
   ],
   "source": [
    "v2OA['openAI-classification'].value_counts()"
   ]
  },
  {
   "cell_type": "code",
   "execution_count": 164,
   "id": "75914dfb-7921-4331-a52e-a8706c02db34",
   "metadata": {},
   "outputs": [],
   "source": [
    "v2OA['openAI-classification'] = v2OA['openAI-classification'].replace(['6'], '0')"
   ]
  },
  {
   "cell_type": "code",
   "execution_count": 165,
   "id": "863dc6b1-8fa2-487d-b07a-e11b2b11f3ef",
   "metadata": {},
   "outputs": [
    {
     "data": {
      "text/plain": [
       "0.49037944025834224"
      ]
     },
     "execution_count": 165,
     "metadata": {},
     "output_type": "execute_result"
    }
   ],
   "source": [
    "cohen_kappa_score(Liz['Label'], v2OA['openAI-classification'].astype('int64'), weights='quadratic')"
   ]
  },
  {
   "cell_type": "code",
   "execution_count": 166,
   "id": "c93fb2f6-87f6-4cda-bb23-bc7b3739d36d",
   "metadata": {},
   "outputs": [
    {
     "data": {
      "text/plain": [
       "0.5126188734455012"
      ]
     },
     "execution_count": 166,
     "metadata": {},
     "output_type": "execute_result"
    }
   ],
   "source": [
    "cohen_kappa_score(ravi['L0'], v2OA['openAI-classification'].astype('int64'), weights='quadratic')"
   ]
  },
  {
   "cell_type": "code",
   "execution_count": 167,
   "id": "5213cc04-db2a-4de2-b1e6-09b31b8827b2",
   "metadata": {},
   "outputs": [
    {
     "data": {
      "text/plain": [
       "0.5639512408834368"
      ]
     },
     "execution_count": 167,
     "metadata": {},
     "output_type": "execute_result"
    }
   ],
   "source": [
    "cohen_kappa_score(ravi['L0'], Liz['Label'], weights='quadratic')"
   ]
  },
  {
   "cell_type": "code",
   "execution_count": 168,
   "id": "381d6fd7-f773-4ca0-bdc4-4e4a67bd2a48",
   "metadata": {},
   "outputs": [
    {
     "data": {
      "text/plain": [
       "(array([0.5, 1.5, 2.5, 3.5, 4.5, 5.5]),\n",
       " [Text(0.5, 0, '0'),\n",
       "  Text(1.5, 0, '1'),\n",
       "  Text(2.5, 0, '2'),\n",
       "  Text(3.5, 0, '3'),\n",
       "  Text(4.5, 0, '4'),\n",
       "  Text(5.5, 0, '5')])"
      ]
     },
     "execution_count": 168,
     "metadata": {},
     "output_type": "execute_result"
    },
    {
     "data": {
      "image/png": "[encoded data removed]",
      "text/plain": [
       "<Figure size 216x216 with 2 Axes>"
      ]
     },
     "metadata": {
      "needs_background": "light"
     },
     "output_type": "display_data"
    }
   ],
   "source": [
    "cm = confusion_matrix(Liz['Label'], v2OA['openAI-classification'].astype('int64'))\n",
    "fig, ax = plt.subplots(figsize=(3,3))\n",
    "display_labels=[0,1,2,3,4,5]\n",
    "SVM_ConfusionMatrix = sns.heatmap(cm, annot=True, xticklabels=display_labels, yticklabels=display_labels, cmap='Blues', ax=ax, fmt='d')\n",
    "plt.yticks(va=\"center\")\n",
    "plt.xticks(va=\"center\")"
   ]
  },
  {
   "cell_type": "code",
   "execution_count": 173,
   "id": "10492b0d-10fc-415c-bf7f-52ef242a12b9",
   "metadata": {},
   "outputs": [
    {
     "data": {
      "text/plain": [
       "(array([0.5, 1.5, 2.5, 3.5, 4.5, 5.5]),\n",
       " [Text(0.5, 0, '0'),\n",
       "  Text(1.5, 0, '1'),\n",
       "  Text(2.5, 0, '2'),\n",
       "  Text(3.5, 0, '3'),\n",
       "  Text(4.5, 0, '4'),\n",
       "  Text(5.5, 0, '5')])"
      ]
     },
     "execution_count": 173,
     "metadata": {},
     "output_type": "execute_result"
    },
    {
     "data": {
      "image/png": "[encoded data removed]",
      "text/plain": [
       "<Figure size 216x216 with 2 Axes>"
      ]
     },
     "metadata": {
      "needs_background": "light"
     },
     "output_type": "display_data"
    }
   ],
   "source": [
    "cm = confusion_matrix(ravi['L0'], v2OA['openAI-classification'].astype('int64'))\n",
    "fig, ax = plt.subplots(figsize=(3,3))\n",
    "display_labels=[0,1,2,3,4,5]\n",
    "SVM_ConfusionMatrix = sns.heatmap(cm, annot=True, xticklabels=display_labels, yticklabels=display_labels, cmap='Blues', ax=ax, fmt='d')\n",
    "plt.yticks(va=\"center\")\n",
    "plt.xticks(va=\"center\")"
   ]
  },
  {
   "cell_type": "code",
   "execution_count": 175,
   "id": "01b2caed-72d3-43ba-8df1-187d223bb2eb",
   "metadata": {},
   "outputs": [
    {
     "data": {
      "text/plain": [
       "(array([0.5, 1.5, 2.5, 3.5, 4.5, 5.5]),\n",
       " [Text(0.5, 0, '0'),\n",
       "  Text(1.5, 0, '1'),\n",
       "  Text(2.5, 0, '2'),\n",
       "  Text(3.5, 0, '3'),\n",
       "  Text(4.5, 0, '4'),\n",
       "  Text(5.5, 0, '5')])"
      ]
     },
     "execution_count": 175,
     "metadata": {},
     "output_type": "execute_result"
    },
    {
     "data": {
      "image/png": "[encoded data removed]",
      "text/plain": [
       "<Figure size 216x216 with 2 Axes>"
      ]
     },
     "metadata": {
      "needs_background": "light"
     },
     "output_type": "display_data"
    }
   ],
   "source": [
    "cm = confusion_matrix(Liz['Label'], ravi['L0'])\n",
    "fig, ax = plt.subplots(figsize=(3,3))\n",
    "display_labels=[0,1,2,3,4,5]\n",
    "SVM_ConfusionMatrix = sns.heatmap(cm, annot=True, xticklabels=display_labels, yticklabels=display_labels, cmap='Blues', ax=ax, fmt='d')\n",
    "plt.yticks(va=\"center\")\n",
    "plt.xticks(va=\"center\")"
   ]
  },
  {
   "cell_type": "markdown",
   "id": "ecdf4297-3b36-4cdc-91f5-46ddd7d27cba",
   "metadata": {},
   "source": [
    "# Trail 2 by Ravi"
   ]
  },
  {
   "cell_type": "code",
   "execution_count": 187,
   "id": "9031d794-cc6a-4de9-bb12-6ab3c6c653ba",
   "metadata": {},
   "outputs": [],
   "source": [
    "rav=pd.read_csv(\"/home/ravi/UCF Dropbox/KAMALAKKANNAN RAVI/guyonDesktop/DATA_AutomatedHarmDetection/Annotate/ToAnnotate180Samples_Ravi_Trial2.csv\")"
   ]
  },
  {
   "cell_type": "code",
   "execution_count": 188,
   "id": "4d21f7e7-6cd4-4897-8e7b-b46435cf2d37",
   "metadata": {},
   "outputs": [],
   "source": [
    "rav['L0'] = rav['L0'].replace([6], 0)"
   ]
  },
  {
   "cell_type": "code",
   "execution_count": 189,
   "id": "ce918080-278e-49c2-99ca-51255d6ab15e",
   "metadata": {},
   "outputs": [
    {
     "data": {
      "text/html": [
       "<div>\n",
       "<style scoped>\n",
       "    .dataframe tbody tr th:only-of-type {\n",
       "        vertical-align: middle;\n",
       "    }\n",
       "\n",
       "    .dataframe tbody tr th {\n",
       "        vertical-align: top;\n",
       "    }\n",
       "\n",
       "    .dataframe thead th {\n",
       "        text-align: right;\n",
       "    }\n",
       "</style>\n",
       "<table border=\"1\" class=\"dataframe\">\n",
       "  <thead>\n",
       "    <tr style=\"text-align: right;\">\n",
       "      <th></th>\n",
       "      <th>Unnamed: 0</th>\n",
       "      <th>date_unixtime</th>\n",
       "      <th>reply</th>\n",
       "      <th>L0</th>\n",
       "      <th>L1</th>\n",
       "      <th>L2</th>\n",
       "      <th>L3</th>\n",
       "    </tr>\n",
       "  </thead>\n",
       "  <tbody>\n",
       "    <tr>\n",
       "      <th>0</th>\n",
       "      <td>123</td>\n",
       "      <td>1679409924</td>\n",
       "      <td>I would ask him to explain why at the beginnin...</td>\n",
       "      <td>2</td>\n",
       "      <td>NaN</td>\n",
       "      <td>NaN</td>\n",
       "      <td>NaN</td>\n",
       "    </tr>\n",
       "  </tbody>\n",
       "</table>\n",
       "</div>"
      ],
      "text/plain": [
       "   Unnamed: 0  date_unixtime  \\\n",
       "0         123     1679409924   \n",
       "\n",
       "                                               reply  L0  L1  L2  L3  \n",
       "0  I would ask him to explain why at the beginnin...   2 NaN NaN NaN  "
      ]
     },
     "execution_count": 189,
     "metadata": {},
     "output_type": "execute_result"
    }
   ],
   "source": [
    "rav.head(1)"
   ]
  },
  {
   "cell_type": "code",
   "execution_count": 191,
   "id": "c3de38d5-226b-4c0d-913a-44d882a2a963",
   "metadata": {},
   "outputs": [
    {
     "data": {
      "text/plain": [
       "0    101\n",
       "3     22\n",
       "5     19\n",
       "4     15\n",
       "1     15\n",
       "2      8\n",
       "Name: L0, dtype: int64"
      ]
     },
     "execution_count": 191,
     "metadata": {},
     "output_type": "execute_result"
    }
   ],
   "source": [
    "rav['L0'].value_counts()"
   ]
  },
  {
   "cell_type": "code",
   "execution_count": 192,
   "id": "8f3e651d-e31b-43f1-9c34-d6fb1733f139",
   "metadata": {},
   "outputs": [
    {
     "data": {
      "text/plain": [
       "0.5500420521446593"
      ]
     },
     "execution_count": 192,
     "metadata": {},
     "output_type": "execute_result"
    }
   ],
   "source": [
    "cohen_kappa_score(rav['L0'], allJSONs['openAI-classification'].astype('int64'), weights='quadratic')"
   ]
  },
  {
   "cell_type": "code",
   "execution_count": 198,
   "id": "0aad8c04-a6cf-4c49-ad28-55030e677e11",
   "metadata": {},
   "outputs": [
    {
     "data": {
      "text/plain": [
       "(array([0.5, 1.5, 2.5, 3.5, 4.5, 5.5]),\n",
       " [Text(0.5, 0, '0'),\n",
       "  Text(1.5, 0, '1'),\n",
       "  Text(2.5, 0, '2'),\n",
       "  Text(3.5, 0, '3'),\n",
       "  Text(4.5, 0, '4'),\n",
       "  Text(5.5, 0, '5')])"
      ]
     },
     "execution_count": 198,
     "metadata": {},
     "output_type": "execute_result"
    },
    {
     "data": {
      "image/png": "[encoded data removed]",
      "text/plain": [
       "<Figure size 216x216 with 2 Axes>"
      ]
     },
     "metadata": {
      "needs_background": "light"
     },
     "output_type": "display_data"
    }
   ],
   "source": [
    "cm = confusion_matrix(rav['L0'], allJSONs['openAI-classification'].astype('int64'))\n",
    "fig, ax = plt.subplots(figsize=(3,3))\n",
    "display_labels=[0,1,2,3,4,5]\n",
    "SVM_ConfusionMatrix = sns.heatmap(cm, annot=True, xticklabels=display_labels, yticklabels=display_labels, cmap='Blues', ax=ax, fmt='d')\n",
    "plt.yticks(va=\"center\")\n",
    "plt.xticks(va=\"center\")"
   ]
  },
  {
   "cell_type": "code",
   "execution_count": 201,
   "id": "62e951bc-59d3-4bfe-952a-7f3a5fe8462c",
   "metadata": {},
   "outputs": [
    {
     "data": {
      "text/plain": [
       "0.5755621404915461"
      ]
     },
     "execution_count": 201,
     "metadata": {},
     "output_type": "execute_result"
    }
   ],
   "source": [
    "cohen_kappa_score(rav['L0'], newOA['openAI-classification'].astype('int64'), weights='quadratic')"
   ]
  },
  {
   "cell_type": "code",
   "execution_count": 196,
   "id": "34b01886-18a9-4aae-bb0c-5ef42c43d7f3",
   "metadata": {},
   "outputs": [
    {
     "data": {
      "text/plain": [
       "(array([0.5, 1.5, 2.5, 3.5, 4.5, 5.5]),\n",
       " [Text(0.5, 0, '0'),\n",
       "  Text(1.5, 0, '1'),\n",
       "  Text(2.5, 0, '2'),\n",
       "  Text(3.5, 0, '3'),\n",
       "  Text(4.5, 0, '4'),\n",
       "  Text(5.5, 0, '5')])"
      ]
     },
     "execution_count": 196,
     "metadata": {},
     "output_type": "execute_result"
    },
    {
     "data": {
      "image/png": "[encoded data removed]",
      "text/plain": [
       "<Figure size 216x216 with 2 Axes>"
      ]
     },
     "metadata": {
      "needs_background": "light"
     },
     "output_type": "display_data"
    }
   ],
   "source": [
    "cm = confusion_matrix(rav['L0'], newOA['openAI-classification'].astype('int64'))\n",
    "fig, ax = plt.subplots(figsize=(3,3))\n",
    "display_labels=[0,1,2,3,4,5]\n",
    "SVM_ConfusionMatrix = sns.heatmap(cm, annot=True, xticklabels=display_labels, yticklabels=display_labels, cmap='Blues', ax=ax, fmt='d')\n",
    "plt.yticks(va=\"center\")\n",
    "plt.xticks(va=\"center\")"
   ]
  },
  {
   "cell_type": "code",
   "execution_count": 194,
   "id": "bece0912-2039-4557-8342-132385dc24cd",
   "metadata": {},
   "outputs": [
    {
     "data": {
      "text/plain": [
       "0.44321124676285606"
      ]
     },
     "execution_count": 194,
     "metadata": {},
     "output_type": "execute_result"
    }
   ],
   "source": [
    "cohen_kappa_score(rav['L0'], v2OA['openAI-classification'].astype('int64'), weights='quadratic')"
   ]
  },
  {
   "cell_type": "code",
   "execution_count": 195,
   "id": "319410e9-303f-45e6-a16c-215150905704",
   "metadata": {},
   "outputs": [
    {
     "data": {
      "text/plain": [
       "(array([0.5, 1.5, 2.5, 3.5, 4.5, 5.5]),\n",
       " [Text(0.5, 0, '0'),\n",
       "  Text(1.5, 0, '1'),\n",
       "  Text(2.5, 0, '2'),\n",
       "  Text(3.5, 0, '3'),\n",
       "  Text(4.5, 0, '4'),\n",
       "  Text(5.5, 0, '5')])"
      ]
     },
     "execution_count": 195,
     "metadata": {},
     "output_type": "execute_result"
    },
    {
     "data": {
      "image/png": "[encoded data removed]",
      "text/plain": [
       "<Figure size 216x216 with 2 Axes>"
      ]
     },
     "metadata": {
      "needs_background": "light"
     },
     "output_type": "display_data"
    }
   ],
   "source": [
    "cm = confusion_matrix(rav['L0'], v2OA['openAI-classification'].astype('int64'))\n",
    "fig, ax = plt.subplots(figsize=(3,3))\n",
    "display_labels=[0,1,2,3,4,5]\n",
    "SVM_ConfusionMatrix = sns.heatmap(cm, annot=True, xticklabels=display_labels, yticklabels=display_labels, cmap='Blues', ax=ax, fmt='d')\n",
    "plt.yticks(va=\"center\")\n",
    "plt.xticks(va=\"center\")"
   ]
  },
  {
   "cell_type": "markdown",
   "id": "312d54eb-fce3-49df-a834-759c1dda5343",
   "metadata": {},
   "source": [
    "# Kappa with custom weights"
   ]
  },
  {
   "cell_type": "code",
   "execution_count": 209,
   "id": "6bf2b611-a2bf-4a31-8ab2-465bc9221f96",
   "metadata": {},
   "outputs": [
    {
     "data": {
      "text/plain": [
       "(array([0.5, 1.5, 2.5, 3.5, 4.5, 5.5]),\n",
       " [Text(0.5, 0, '0'),\n",
       "  Text(1.5, 0, '1'),\n",
       "  Text(2.5, 0, '2'),\n",
       "  Text(3.5, 0, '3'),\n",
       "  Text(4.5, 0, '4'),\n",
       "  Text(5.5, 0, '5')])"
      ]
     },
     "execution_count": 209,
     "metadata": {},
     "output_type": "execute_result"
    },
    {
     "data": {
      "image/png": "[encoded data removed]",
      "text/plain": [
       "<Figure size 216x216 with 2 Axes>"
      ]
     },
     "metadata": {
      "needs_background": "light"
     },
     "output_type": "display_data"
    }
   ],
   "source": [
    "cm = confusion_matrix(rav['L0'], newOA['openAI-classification'].astype('int64'))\n",
    "fig, ax = plt.subplots(figsize=(3,3))\n",
    "display_labels=[0,1,2,3,4,5]\n",
    "SVM_ConfusionMatrix = sns.heatmap(cm, annot=True, xticklabels=display_labels, yticklabels=display_labels, cmap='Blues', ax=ax, fmt='d')\n",
    "plt.yticks(va=\"center\")\n",
    "plt.xticks(va=\"center\")"
   ]
  },
  {
   "cell_type": "code",
   "execution_count": 314,
   "id": "c0640423-4809-4fea-aeb0-cae3fab30a6c",
   "metadata": {},
   "outputs": [],
   "source": [
    "from sklearn.metrics import confusion_matrix\n",
    "import numpy as np\n",
    "\n",
    "# Define the weight matrix\n",
    "weights = np.array([\n",
    "    [0, 0.1, 0, 0, 0.4, 0.3],\n",
    "    [0, 0, 0.3, 0, 0.1, 0.1],\n",
    "    [0.3, 0.3, 0, 0, 0.4, 0.1],\n",
    "    [0, 0.3, 0, 0, 0, 0],\n",
    "    [0.1, 0.4, 0.2, 0, 0, 0.4],\n",
    "    [0.1, 0.4, 0.1, 0, 0, 0]\n",
    "])\n",
    "\n",
    "def customWeightedKappa(y1, y2, weights):\n",
    "    # Calculate the confusion matrix\n",
    "    confusion = confusion_matrix(y1, y2)\n",
    "\n",
    "    # Normalize the confusion matrix to represent probabilities\n",
    "    total_ratings = np.sum(confusion)\n",
    "    confusion = confusion / total_ratings\n",
    "\n",
    "    # Compute the expected probability matrix under the assumption of independence\n",
    "    ratings_probs = np.sum(confusion, axis=1)\n",
    "    expected = np.outer(ratings_probs, ratings_probs)\n",
    "\n",
    "    # Compute the weighted Kappa score\n",
    "    kappa = 1 - np.sum(weights * confusion) / np.sum(weights * expected)\n",
    "    \n",
    "    return kappa"
   ]
  },
  {
   "cell_type": "code",
   "execution_count": 315,
   "id": "aa420469-ac85-4c4d-adce-071d9b0ae405",
   "metadata": {},
   "outputs": [
    {
     "data": {
      "text/plain": [
       "0.77512297962052"
      ]
     },
     "execution_count": 315,
     "metadata": {},
     "output_type": "execute_result"
    }
   ],
   "source": [
    "customWeightedKappa(rav['L0'], newOA['openAI-classification'].astype('int64'), weights=weights)"
   ]
  },
  {
   "cell_type": "code",
   "execution_count": 316,
   "id": "85bea9f1-3eec-4a27-ad68-11f18afb35e8",
   "metadata": {},
   "outputs": [
    {
     "data": {
      "text/plain": [
       "0.7363170257368727"
      ]
     },
     "execution_count": 316,
     "metadata": {},
     "output_type": "execute_result"
    }
   ],
   "source": [
    "customWeightedKappa(Liz['Label'], newOA['openAI-classification'].astype('int64'), weights=weights)"
   ]
  },
  {
   "cell_type": "markdown",
   "id": "070fd863-4c5d-4224-afb0-e6f821e6e94d",
   "metadata": {},
   "source": [
    "# AB"
   ]
  },
  {
   "cell_type": "code",
   "execution_count": 285,
   "id": "1e717cc6-cfd0-45cc-8026-85f8139c560f",
   "metadata": {},
   "outputs": [],
   "source": [
    "ab = pd.read_excel(\"/home/ravi/UCF Dropbox/KAMALAKKANNAN RAVI/guyonDesktop/DATA_AutomatedHarmDetection/Annotate/AB_Annotated180Samples.xlsx\")"
   ]
  },
  {
   "cell_type": "code",
   "execution_count": 286,
   "id": "d9583f9f-938c-45b0-93b5-da493eb5465e",
   "metadata": {},
   "outputs": [
    {
     "data": {
      "text/html": [
       "<div>\n",
       "<style scoped>\n",
       "    .dataframe tbody tr th:only-of-type {\n",
       "        vertical-align: middle;\n",
       "    }\n",
       "\n",
       "    .dataframe tbody tr th {\n",
       "        vertical-align: top;\n",
       "    }\n",
       "\n",
       "    .dataframe thead th {\n",
       "        text-align: right;\n",
       "    }\n",
       "</style>\n",
       "<table border=\"1\" class=\"dataframe\">\n",
       "  <thead>\n",
       "    <tr style=\"text-align: right;\">\n",
       "      <th></th>\n",
       "      <th>date_unixtime</th>\n",
       "      <th>reply</th>\n",
       "      <th>Label</th>\n",
       "      <th>Unnamed: 3</th>\n",
       "      <th>Unnamed: 4</th>\n",
       "      <th>rationale</th>\n",
       "      <th>notes</th>\n",
       "    </tr>\n",
       "  </thead>\n",
       "  <tbody>\n",
       "    <tr>\n",
       "      <th>0</th>\n",
       "      <td>1679409924</td>\n",
       "      <td>I would ask him to explain why at the beginnin...</td>\n",
       "      <td>2</td>\n",
       "      <td>NaN</td>\n",
       "      <td>NaN</td>\n",
       "      <td>\"killed a lot of people\" \"murdering liar\"</td>\n",
       "      <td>NaN</td>\n",
       "    </tr>\n",
       "  </tbody>\n",
       "</table>\n",
       "</div>"
      ],
      "text/plain": [
       "   date_unixtime                                              reply  Label  \\\n",
       "0     1679409924  I would ask him to explain why at the beginnin...      2   \n",
       "\n",
       "  Unnamed: 3  Unnamed: 4                                  rationale notes  \n",
       "0        NaN         NaN  \"killed a lot of people\" \"murdering liar\"   NaN  "
      ]
     },
     "execution_count": 286,
     "metadata": {},
     "output_type": "execute_result"
    }
   ],
   "source": [
    "ab.head(1)"
   ]
  },
  {
   "cell_type": "code",
   "execution_count": 287,
   "id": "50b19829-dbbe-43fb-aa84-c2cb265ca459",
   "metadata": {},
   "outputs": [
    {
     "data": {
      "text/plain": [
       "3      31\n",
       "4      31\n",
       "5      29\n",
       "6      27\n",
       "1      25\n",
       "2      22\n",
       "100    15\n",
       "Name: Label, dtype: int64"
      ]
     },
     "execution_count": 287,
     "metadata": {},
     "output_type": "execute_result"
    }
   ],
   "source": [
    "ab['Label'].value_counts()"
   ]
  },
  {
   "cell_type": "code",
   "execution_count": 288,
   "id": "bf529dc2-760a-46fa-a089-5347cde4cfd7",
   "metadata": {},
   "outputs": [],
   "source": [
    "ab['openAI']=newOA['openAI-classification'].astype('int64')\n",
    "ab['ravi']=rav['L0']\n",
    "ab['Liz']=Liz['Label']"
   ]
  },
  {
   "cell_type": "code",
   "execution_count": 289,
   "id": "5f9619a9-dbce-475c-b000-87d389758c65",
   "metadata": {},
   "outputs": [],
   "source": [
    "abN = ab.copy()\n",
    "abN = abN[abN.Label!=100]"
   ]
  },
  {
   "cell_type": "code",
   "execution_count": 292,
   "id": "94aa00ec-f333-4ddf-b3c4-c592c048d7e9",
   "metadata": {},
   "outputs": [
    {
     "data": {
      "text/plain": [
       "3    31\n",
       "4    31\n",
       "5    29\n",
       "0    27\n",
       "1    25\n",
       "2    22\n",
       "Name: Label, dtype: int64"
      ]
     },
     "execution_count": 292,
     "metadata": {},
     "output_type": "execute_result"
    }
   ],
   "source": [
    "abN['Label'].value_counts()"
   ]
  },
  {
   "cell_type": "code",
   "execution_count": 293,
   "id": "8df1949a-beda-405b-9481-66b30adb9065",
   "metadata": {},
   "outputs": [],
   "source": [
    "abN['Label'] = abN['Label'].replace([6], 0)"
   ]
  },
  {
   "cell_type": "code",
   "execution_count": 295,
   "id": "c318474c-337f-4fe6-86d1-46dc0420bcc2",
   "metadata": {},
   "outputs": [
    {
     "data": {
      "text/plain": [
       "0.6426890123340552"
      ]
     },
     "execution_count": 295,
     "metadata": {},
     "output_type": "execute_result"
    }
   ],
   "source": [
    "customWeightedKappa(abN['Label'], abN['openAI'], weights=weights)"
   ]
  },
  {
   "cell_type": "code",
   "execution_count": 297,
   "id": "1b8782fa-bd0d-4bef-bf95-418c4e4fe318",
   "metadata": {},
   "outputs": [
    {
     "data": {
      "text/plain": [
       "0.43555220789002913"
      ]
     },
     "execution_count": 297,
     "metadata": {},
     "output_type": "execute_result"
    }
   ],
   "source": [
    "customWeightedKappa(abN['Label'], abN['ravi'], weights=weights)"
   ]
  },
  {
   "cell_type": "code",
   "execution_count": 298,
   "id": "3de5aeda-5fef-47c9-8442-ba322fc7d959",
   "metadata": {},
   "outputs": [
    {
     "data": {
      "text/plain": [
       "0.5650127106675455"
      ]
     },
     "execution_count": 298,
     "metadata": {},
     "output_type": "execute_result"
    }
   ],
   "source": [
    "customWeightedKappa(abN['Label'], abN['Liz'], weights=weights)"
   ]
  },
  {
   "cell_type": "code",
   "execution_count": 299,
   "id": "99d89bbf-882a-4039-99ab-993c7df8ea83",
   "metadata": {},
   "outputs": [
    {
     "name": "stdout",
     "output_type": "stream",
     "text": [
      "[[21  3  3 10  0  4]\n",
      " [ 2 15  2  3  2  1]\n",
      " [ 2  2 13  2  0  1]\n",
      " [ 0  2  1 11  1  7]\n",
      " [ 1  2  2  3 24  3]\n",
      " [ 1  1  1  2  4 13]]\n"
     ]
    },
    {
     "data": {
      "text/plain": [
       "(array([0.5, 1.5, 2.5, 3.5, 4.5, 5.5]),\n",
       " [Text(0.5, 0, '0'),\n",
       "  Text(1.5, 0, '1'),\n",
       "  Text(2.5, 0, '2'),\n",
       "  Text(3.5, 0, '3'),\n",
       "  Text(4.5, 0, '4'),\n",
       "  Text(5.5, 0, '5')])"
      ]
     },
     "execution_count": 299,
     "metadata": {},
     "output_type": "execute_result"
    },
    {
     "data": {
      "image/png": "[encoded data removed]",
      "text/plain": [
       "<Figure size 216x216 with 2 Axes>"
      ]
     },
     "metadata": {
      "needs_background": "light"
     },
     "output_type": "display_data"
    }
   ],
   "source": [
    "cm = confusion_matrix(abN['Liz'], abN['Label'])\n",
    "print(cm)\n",
    "fig, ax = plt.subplots(figsize=(3,3))\n",
    "display_labels=[0,1,2,3,4,5]\n",
    "SVM_ConfusionMatrix = sns.heatmap(cm, annot=True, xticklabels=display_labels, yticklabels=display_labels, cmap='Blues', ax=ax, fmt='d')\n",
    "plt.yticks(va=\"center\")\n",
    "plt.xticks(va=\"center\")"
   ]
  },
  {
   "cell_type": "code",
   "execution_count": 313,
   "id": "f2b64834-9176-4bf9-80ee-42ef4eb100b7",
   "metadata": {},
   "outputs": [
    {
     "name": "stdout",
     "output_type": "stream",
     "text": [
      "0.5045920169551394\n",
      "0.5490817665063402\n",
      "0.5905611349111596\n",
      "--\n",
      "0.5513256288239294\n",
      "0.5513256288239294\n",
      "--\n",
      "0.6253985122210415\n",
      "0.6811918839371761\n",
      "0.5993978828785083\n"
     ]
    }
   ],
   "source": [
    "weightsLizAB = np.array([\n",
    "    [0, 0.1, 0.1, 0, 0.4, 0.1],\n",
    "    [0, 0, 0.3, 0, 0.1, 0.1],\n",
    "    [0.3, 0.3, 0, 0, 0.4, 0.1],\n",
    "    [0, 0.3, 0, 0, 0, 0],\n",
    "    [0.1, 0.4, 0.2, 0, 0, 0.4],\n",
    "    [0.1, 0.4, 0.1, 0, 0, 0]\n",
    "])\n",
    "\n",
    "print(cohen_kappa_score(abN['Label'], abN['Liz']))\n",
    "print(cohen_kappa_score(abN['Label'], abN['Liz'], weights='linear'))\n",
    "print(cohen_kappa_score(abN['Label'], abN['Liz'], weights='quadratic'))\n",
    "print('--')\n",
    "print(customWeightedKappa(abN['Label'], abN['Liz'], weights=weightsLizAB))\n",
    "print(customWeightedKappa(abN['Label'], abN['Liz'], weights=weightsLizAB))\n",
    "print('--')\n",
    "print(customWeightedKappa(rav['L0'], newOA['openAI-classification'].astype('int64'), weights=weightsLizAB))\n",
    "print(customWeightedKappa(Liz['Label'], newOA['openAI-classification'].astype('int64'), weights=weightsLizAB))\n",
    "print(customWeightedKappa(abN['Label'], abN['openAI'], weights=weightsLizAB))"
   ]
  },
  {
   "cell_type": "code",
   "execution_count": 307,
   "id": "3022e403-37c2-414a-8909-f6d31a8477f1",
   "metadata": {},
   "outputs": [
    {
     "name": "stdout",
     "output_type": "stream",
     "text": [
      "[[19  0  6  2  0  0]\n",
      " [16  2  4  2  0  1]\n",
      " [ 5  0 13  3  1  0]\n",
      " [12  2  6  9  0  2]\n",
      " [ 5  2  1 13  9  1]\n",
      " [ 6  1  2  6  2 12]]\n"
     ]
    },
    {
     "data": {
      "text/plain": [
       "(array([0.5, 1.5, 2.5, 3.5, 4.5, 5.5]),\n",
       " [Text(0.5, 0, '0'),\n",
       "  Text(1.5, 0, '1'),\n",
       "  Text(2.5, 0, '2'),\n",
       "  Text(3.5, 0, '3'),\n",
       "  Text(4.5, 0, '4'),\n",
       "  Text(5.5, 0, '5')])"
      ]
     },
     "execution_count": 307,
     "metadata": {},
     "output_type": "execute_result"
    },
    {
     "data": {
      "image/png": "[encoded data removed]",
      "text/plain": [
       "<Figure size 216x216 with 2 Axes>"
      ]
     },
     "metadata": {
      "needs_background": "light"
     },
     "output_type": "display_data"
    }
   ],
   "source": [
    "cm = confusion_matrix(abN['Label'], abN['openAI'])\n",
    "print(cm)\n",
    "fig, ax = plt.subplots(figsize=(3,3))\n",
    "display_labels=[0,1,2,3,4,5]\n",
    "SVM_ConfusionMatrix = sns.heatmap(cm, annot=True, xticklabels=display_labels, yticklabels=display_labels, cmap='Blues', ax=ax, fmt='d')\n",
    "plt.yticks(va=\"center\")\n",
    "plt.xticks(va=\"center\")"
   ]
  },
  {
   "cell_type": "markdown",
   "id": "0cb53c37-1595-4edf-b780-4ae22b0ff5da",
   "metadata": {},
   "source": [
    "# dev custom weightcm = confusion_matrix(rav['L0'], newOA['openAI-classification'].astype('int64'))"
   ]
  },
  {
   "cell_type": "code",
   "execution_count": 276,
   "id": "09db3ac2-6267-4f2b-956a-3df2a6399d5d",
   "metadata": {},
   "outputs": [
    {
     "name": "stdout",
     "output_type": "stream",
     "text": [
      "[[47 21 12 10  8  3]\n",
      " [ 0  6  1  2  6  0]\n",
      " [ 0  0  6  1  0  1]\n",
      " [ 3  0  1  8  4  6]\n",
      " [ 0  0  0  1 14  0]\n",
      " [ 0  2  0  2  3 12]]\n"
     ]
    },
    {
     "data": {
      "text/plain": [
       "(array([0.5, 1.5, 2.5, 3.5, 4.5, 5.5]),\n",
       " [Text(0.5, 0, '0'),\n",
       "  Text(1.5, 0, '1'),\n",
       "  Text(2.5, 0, '2'),\n",
       "  Text(3.5, 0, '3'),\n",
       "  Text(4.5, 0, '4'),\n",
       "  Text(5.5, 0, '5')])"
      ]
     },
     "execution_count": 276,
     "metadata": {},
     "output_type": "execute_result"
    },
    {
     "data": {
      "image/png": "[encoded data removed]",
      "text/plain": [
       "<Figure size 216x216 with 2 Axes>"
      ]
     },
     "metadata": {
      "needs_background": "light"
     },
     "output_type": "display_data"
    }
   ],
   "source": [
    "cm = confusion_matrix(rav['L0'], Liz['Label'])\n",
    "print(cm)\n",
    "fig, ax = plt.subplots(figsize=(3,3))\n",
    "display_labels=[0,1,2,3,4,5]\n",
    "SVM_ConfusionMatrix = sns.heatmap(cm, annot=True, xticklabels=display_labels, yticklabels=display_labels, cmap='Blues', ax=ax, fmt='d')\n",
    "plt.yticks(va=\"center\")\n",
    "plt.xticks(va=\"center\")"
   ]
  },
  {
   "cell_type": "code",
   "execution_count": 320,
   "id": "560da8de-5005-43e8-ac72-328d6abec95f",
   "metadata": {},
   "outputs": [
    {
     "name": "stdout",
     "output_type": "stream",
     "text": [
      "0.4504643962848298\n",
      "0.43366317609760785\n",
      "0.48554135843981183\n"
     ]
    }
   ],
   "source": [
    "from sklearn.metrics import confusion_matrix\n",
    "import numpy as np\n",
    "\n",
    "# # Define the weight matrix\n",
    "# weightsLR = np.array([\n",
    "#     [0, 0.1, 0, 0, 0.4, 0.3],\n",
    "#     [0, 0, 0.3, 0, 0.1, 0.1],\n",
    "#     [0.3, 0.3, 0, 0, 0.4, 0.1],\n",
    "#     [0, 0.3, 0, 0, 0, 0],\n",
    "#     [0.1, 0.4, 0.2, 0, 0, 0.4],\n",
    "#     [0.1, 0.4, 0.1, 0, 0, 0]\n",
    "# ])\n",
    "\n",
    "# Define the weight matrix\n",
    "weightsLR = np.array([\n",
    "    [0, 0.2, 0.2, 0.3, 0.5, 0.5],\n",
    "    [0.2, 0, 0.1, 0.2, 0.4, 0.4],\n",
    "    [0.2, 0.1, 0, 0.2, 0.4, 0.4],\n",
    "    [0.3, 0.2, 0.2, 0, 0.2, 0.1],\n",
    "    [0.5, 0.4, 0.4, 0.2, 0, 0.3],\n",
    "    [0.5, 0.4, 0.4, 0.2, 0.3, 0]\n",
    "])\n",
    "\n",
    "\n",
    "def customWeightedKappa(y1, y2, weights):\n",
    "    # Calculate the confusion matrix\n",
    "    confusion = confusion_matrix(y1, y2)\n",
    "\n",
    "    # Normalize the confusion matrix to represent probabilities\n",
    "    total_ratings = np.sum(confusion)\n",
    "    confusion = confusion / total_ratings\n",
    "\n",
    "    # Compute the expected probability matrix under the assumption of independence\n",
    "    ratings_probs = np.sum(confusion, axis=1)\n",
    "    expected = np.outer(ratings_probs, ratings_probs)\n",
    "\n",
    "    # Compute the weighted Kappa score\n",
    "    kappa = 1 - np.sum(weights * confusion) / np.sum(weights * expected)\n",
    "    \n",
    "    return kappa\n",
    "\n",
    "print(customWeightedKappa(rav['L0'], newOA['openAI-classification'].astype('int64'), weights=weightsLR))\n",
    "print(customWeightedKappa(Liz['Label'], newOA['openAI-classification'].astype('int64'), weights=weightsLR))\n",
    "print(customWeightedKappa(Liz['Label'], rav['L0'], weights=weightsLR))"
   ]
  },
  {
   "cell_type": "code",
   "execution_count": 277,
   "id": "3d58aa9b-9f2b-44b8-92c3-9399efbe926b",
   "metadata": {},
   "outputs": [
    {
     "name": "stdout",
     "output_type": "stream",
     "text": [
      "Normalized Matrix:\n",
      " [[0.         0.59090909 0.79545455 0.84090909 0.88636364 1.        ]\n",
      " [1.         0.         0.83333333 0.66666667 0.         1.        ]\n",
      " [1.         1.         0.         0.83333333 1.         0.83333333]\n",
      " [0.625      1.         0.875      0.         0.5        0.25      ]\n",
      " [1.         1.         1.         0.92857143 0.         1.        ]\n",
      " [1.         0.83333333 1.         0.83333333 0.75       0.        ]]\n"
     ]
    }
   ],
   "source": [
    "matrix = cm.copy()\n",
    "\n",
    "# Initialize a new matrix to store the normalized rows\n",
    "normalized_matrix = np.zeros(matrix.shape)\n",
    "\n",
    "# Normalize each row\n",
    "for i in range(matrix.shape[0]):\n",
    "    row = matrix[i, :]\n",
    "    normalized_matrix[i, :] = 1 - (row - np.min(row)) / (np.max(row) - np.min(row))\n",
    "\n",
    "print(\"Normalized Matrix:\\n\", normalized_matrix)\n"
   ]
  },
  {
   "cell_type": "code",
   "execution_count": 281,
   "id": "4a274d0f-4b4d-4819-b06e-d771f0e9f056",
   "metadata": {},
   "outputs": [
    {
     "data": {
      "text/plain": [
       "0.30735315173563693"
      ]
     },
     "execution_count": 281,
     "metadata": {},
     "output_type": "execute_result"
    }
   ],
   "source": [
    "customWeightedKappa(rav['L0'], newOA['openAI-classification'].astype('int64'), weights=normalized_matrix)"
   ]
  },
  {
   "cell_type": "code",
   "execution_count": 282,
   "id": "814a6072-5e0d-459c-8df4-4ac35a9fe093",
   "metadata": {},
   "outputs": [
    {
     "data": {
      "text/plain": [
       "0.249752604809639"
      ]
     },
     "execution_count": 282,
     "metadata": {},
     "output_type": "execute_result"
    }
   ],
   "source": [
    "customWeightedKappa(Liz['Label'], newOA['openAI-classification'].astype('int64'), weights=normalized_matrix)"
   ]
  },
  {
   "cell_type": "markdown",
   "id": "973868a6-2716-4223-8bd8-fff1dc439863",
   "metadata": {},
   "source": [
    "# krippendorff"
   ]
  },
  {
   "cell_type": "code",
   "execution_count": null,
   "id": "8088d41f-a9bf-4594-a84b-f2143be8b908",
   "metadata": {},
   "outputs": [],
   "source": []
  },
  {
   "cell_type": "code",
   "execution_count": 109,
   "id": "8337dcce-bd38-4b46-9507-8bad1289dfdd",
   "metadata": {},
   "outputs": [],
   "source": [
    "import krippendorff"
   ]
  },
  {
   "cell_type": "code",
   "execution_count": 113,
   "id": "5c339b35-dcba-4fab-8a7b-61b49c942733",
   "metadata": {},
   "outputs": [
    {
     "data": {
      "text/plain": [
       "0.06498627426254466"
      ]
     },
     "execution_count": 113,
     "metadata": {},
     "output_type": "execute_result"
    }
   ],
   "source": [
    "krippendorff.alpha([Liz['Label'], newOA['openAI-classification'].astype('int64')])"
   ]
  },
  {
   "cell_type": "code",
   "execution_count": 114,
   "id": "cf98fa06-147b-4a33-9f15-047af08bc5da",
   "metadata": {},
   "outputs": [
    {
     "data": {
      "text/plain": [
       "0.1992166422569952"
      ]
     },
     "execution_count": 114,
     "metadata": {},
     "output_type": "execute_result"
    }
   ],
   "source": [
    "krippendorff.alpha([ravi['L0'], newOA['openAI-classification'].astype('int64')])"
   ]
  },
  {
   "cell_type": "code",
   "execution_count": 115,
   "id": "b9a341f2-2d77-4ce2-9155-23993567700f",
   "metadata": {},
   "outputs": [
    {
     "data": {
      "text/plain": [
       "0.2888481291269258"
      ]
     },
     "execution_count": 115,
     "metadata": {},
     "output_type": "execute_result"
    }
   ],
   "source": [
    "krippendorff.alpha([ravi['L0'], Liz['Label']])"
   ]
  },
  {
   "cell_type": "code",
   "execution_count": null,
   "id": "c3113be9-4d01-4a1a-9251-e586274fcf77",
   "metadata": {},
   "outputs": [],
   "source": []
  },
  {
   "cell_type": "code",
   "execution_count": 116,
   "id": "93b6c976-e6f7-47e4-8ce6-7866968e1aba",
   "metadata": {},
   "outputs": [
    {
     "data": {
      "text/plain": [
       "0.19549169522805154"
      ]
     },
     "execution_count": 116,
     "metadata": {},
     "output_type": "execute_result"
    }
   ],
   "source": [
    "krippendorff.alpha([Liz['Label'],allJSONs['openAI-classification'].astype('int64')])"
   ]
  },
  {
   "cell_type": "code",
   "execution_count": 117,
   "id": "ede6b257-a8a6-4f91-838d-70d8a64986e6",
   "metadata": {},
   "outputs": [
    {
     "data": {
      "text/plain": [
       "0.1739316321432688"
      ]
     },
     "execution_count": 117,
     "metadata": {},
     "output_type": "execute_result"
    }
   ],
   "source": [
    "krippendorff.alpha([ravi['L0'], allJSONs['openAI-classification'].astype('int64')])"
   ]
  },
  {
   "cell_type": "code",
   "execution_count": 118,
   "id": "d97d863d-eab2-4bda-9e6d-d7c222ff5c7a",
   "metadata": {},
   "outputs": [
    {
     "data": {
      "text/plain": [
       "0.2888481291269258"
      ]
     },
     "execution_count": 118,
     "metadata": {},
     "output_type": "execute_result"
    }
   ],
   "source": [
    "krippendorff.alpha([ravi['L0'], Liz['Label']])"
   ]
  },
  {
   "cell_type": "code",
   "execution_count": null,
   "id": "e4d055b1-0fd7-4d52-b337-3e1a02627b05",
   "metadata": {},
   "outputs": [],
   "source": []
  }
 ],
 "metadata": {
  "kernelspec": {
   "display_name": "Python [conda env:redditJournal] *",
   "language": "python",
   "name": "conda-env-redditJournal-py"
  },
  "language_info": {
   "codemirror_mode": {
    "name": "ipython",
    "version": 3
   },
   "file_extension": ".py",
   "mimetype": "text/x-python",
   "name": "python",
   "nbconvert_exporter": "python",
   "pygments_lexer": "ipython3",
   "version": "3.10.4"
  }
 },
 "nbformat": 4,
 "nbformat_minor": 5
}
