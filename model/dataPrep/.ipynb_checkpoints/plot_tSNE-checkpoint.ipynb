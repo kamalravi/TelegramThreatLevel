{
 "cells": [
  {
   "cell_type": "code",
   "execution_count": 1,
   "id": "43327c3e-23f1-40c4-8c76-acf5ea772d05",
   "metadata": {},
   "outputs": [],
   "source": [
    "import pickle"
   ]
  },
  {
   "cell_type": "code",
   "execution_count": 2,
   "id": "b53d3289-800c-4e4c-b7e0-6f6d0e992399",
   "metadata": {},
   "outputs": [],
   "source": [
    "# Open the file in binary mode\n",
    "def read_pkl(fname):\n",
    "    with open(fname, 'rb') as file:\n",
    "        # Call load method to deserialze\n",
    "        return pickle.load(file)"
   ]
  },
  {
   "cell_type": "code",
   "execution_count": 3,
   "id": "cf0a3ef8-63f2-42c9-952d-7559f4112136",
   "metadata": {},
   "outputs": [],
   "source": [
    "features = read_pkl(\"/home/ravi/PROJECTS_DATA/DataModelsResults/Results/tSNE/features_KFold_1.pkl\")\n",
    "labels = read_pkl(\"/home/ravi/PROJECTS_DATA/DataModelsResults/Results/tSNE/labels_KFold_1.pkl\")"
   ]
  },
  {
   "cell_type": "code",
   "execution_count": 4,
   "id": "6d5a4c33-63c7-4470-a272-4f2e805730d5",
   "metadata": {},
   "outputs": [
    {
     "data": {
      "text/plain": [
       "(325406, 7523484)"
      ]
     },
     "execution_count": 4,
     "metadata": {},
     "output_type": "execute_result"
    }
   ],
   "source": [
    "features.shape"
   ]
  },
  {
   "cell_type": "code",
   "execution_count": 5,
   "id": "027099f8-cda9-44b7-8d3d-9428f825332d",
   "metadata": {},
   "outputs": [
    {
     "data": {
      "text/plain": [
       "(325406,)"
      ]
     },
     "execution_count": 5,
     "metadata": {},
     "output_type": "execute_result"
    }
   ],
   "source": [
    "labels.shape"
   ]
  },
  {
   "cell_type": "code",
   "execution_count": 6,
   "id": "d770f137-0c53-496d-9f0f-3a55783aab6d",
   "metadata": {},
   "outputs": [],
   "source": [
    "from tsne import tsne"
   ]
  },
  {
   "cell_type": "code",
   "execution_count": 7,
   "id": "f2342bdb-bd29-4ba6-8770-9ed4427b73e3",
   "metadata": {},
   "outputs": [],
   "source": [
    "from sklearn.manifold import TSNE\n",
    "from numpy import reshape\n",
    "import seaborn as sns\n",
    "import pandas as pd  "
   ]
  },
  {
   "cell_type": "code",
   "execution_count": 8,
   "id": "76bdd8d5-aa53-4850-85b3-2897a87fa761",
   "metadata": {},
   "outputs": [],
   "source": [
    "x = features\n",
    "y = labels"
   ]
  },
  {
   "cell_type": "code",
   "execution_count": null,
   "id": "c43462d1-c9fe-4ea1-b889-16c2be654682",
   "metadata": {},
   "outputs": [
    {
     "name": "stderr",
     "output_type": "stream",
     "text": [
      "/home/ravi/miniconda3/envs/redditJournal/lib/python3.10/site-packages/sklearn/manifold/_t_sne.py:780: FutureWarning: The default initialization in TSNE will change from 'random' to 'pca' in 1.2.\n",
      "  warnings.warn(\n",
      "/home/ravi/miniconda3/envs/redditJournal/lib/python3.10/site-packages/sklearn/manifold/_t_sne.py:790: FutureWarning: The default learning rate in TSNE will change from 200.0 to 'auto' in 1.2.\n",
      "  warnings.warn(\n"
     ]
    },
    {
     "name": "stdout",
     "output_type": "stream",
     "text": [
      "[t-SNE] Computing 91 nearest neighbors...\n",
      "[t-SNE] Indexed 325406 samples in 1.469s...\n"
     ]
    }
   ],
   "source": [
    "tsne = TSNE(n_components=2, verbose=1, random_state=42)\n",
    "z = tsne.fit_transform(x)"
   ]
  },
  {
   "cell_type": "code",
   "execution_count": null,
   "id": "0986ef5a-6a29-4bf3-87e6-3926c1125ce4",
   "metadata": {},
   "outputs": [],
   "source": [
    "df = pd.DataFrame()\n",
    "df[\"y\"] = y\n",
    "df[\"comp-1\"] = z[:,0]\n",
    "df[\"comp-2\"] = z[:,1]"
   ]
  },
  {
   "cell_type": "code",
   "execution_count": null,
   "id": "10c1bee7-733f-4de1-b7b5-1b5a627ec1a2",
   "metadata": {},
   "outputs": [],
   "source": [
    "sns.scatterplot(x=\"comp-1\", y=\"comp-2\", hue=df.y.tolist(),\n",
    "                palette=sns.color_palette(\"hls\", 3),\n",
    "                data=df).set(title=\"325406 Articles t-SNE projection\") "
   ]
  },
  {
   "cell_type": "code",
   "execution_count": null,
   "id": "3c30600b-73f7-4899-848d-451d1c1a7aa3",
   "metadata": {},
   "outputs": [],
   "source": []
  }
 ],
 "metadata": {
  "kernelspec": {
   "display_name": "Python 3 (ipykernel)",
   "language": "python",
   "name": "python3"
  },
  "language_info": {
   "codemirror_mode": {
    "name": "ipython",
    "version": 3
   },
   "file_extension": ".py",
   "mimetype": "text/x-python",
   "name": "python",
   "nbconvert_exporter": "python",
   "pygments_lexer": "ipython3",
   "version": "3.10.4"
  }
 },
 "nbformat": 4,
 "nbformat_minor": 5
}
