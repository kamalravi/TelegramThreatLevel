{
 "cells": [
  {
   "cell_type": "code",
   "execution_count": 16,
   "id": "65972772-97e2-4930-92cd-7e014ef58836",
   "metadata": {},
   "outputs": [],
   "source": [
    "import pandas as pd\n",
    "import numpy as np\n",
    "import math"
   ]
  },
  {
   "cell_type": "code",
   "execution_count": 20,
   "id": "3f539043-819b-4223-b74c-f6b1d07cce7c",
   "metadata": {},
   "outputs": [],
   "source": [
    "df=pd.read_json(\"/home/ravi/PROJECTS_DATA/DataModelsResults/HoldOutData/subreddit_news.json\", \n",
    "                orient='records')"
   ]
  },
  {
   "cell_type": "code",
   "execution_count": 21,
   "id": "55c8dcdc-bc03-4e7c-943d-efb6560cc2a3",
   "metadata": {},
   "outputs": [],
   "source": [
    "# split the DataFrame into smaller DataFrames of size 15,000\n",
    "split_dfs = [df.iloc[i:i+15000] for i in range(0, len(df), 15000)]\n",
    "\n",
    "# save each split DataFrame as a JSON file\n",
    "for i, split_df in enumerate(split_dfs):\n",
    "    split_df.to_json(\"/home/ravi/PROJECTS_DATA/DataModelsResults/HoldOutData/subreddit_news_\"+\n",
    "        f'split_{i}.json', orient='records')"
   ]
  },
  {
   "cell_type": "code",
   "execution_count": null,
   "id": "8d29fb19-ffe6-46ca-a9e6-64d911f4312d",
   "metadata": {},
   "outputs": [],
   "source": []
  }
 ],
 "metadata": {
  "kernelspec": {
   "display_name": "Python [conda env:scrapereddit]",
   "language": "python",
   "name": "conda-env-scrapereddit-py"
  },
  "language_info": {
   "codemirror_mode": {
    "name": "ipython",
    "version": 3
   },
   "file_extension": ".py",
   "mimetype": "text/x-python",
   "name": "python",
   "nbconvert_exporter": "python",
   "pygments_lexer": "ipython3",
   "version": "3.9.5"
  }
 },
 "nbformat": 4,
 "nbformat_minor": 5
}
