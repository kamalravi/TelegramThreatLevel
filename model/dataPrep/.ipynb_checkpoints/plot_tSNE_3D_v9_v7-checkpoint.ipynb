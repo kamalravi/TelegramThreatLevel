{
 "cells": [
  {
   "cell_type": "code",
   "execution_count": 1,
   "id": "43327c3e-23f1-40c4-8c76-acf5ea772d05",
   "metadata": {},
   "outputs": [],
   "source": [
    "import pickle"
   ]
  },
  {
   "cell_type": "code",
   "execution_count": 2,
   "id": "b53d3289-800c-4e4c-b7e0-6f6d0e992399",
   "metadata": {},
   "outputs": [],
   "source": [
    "# Open the file in binary mode\n",
    "def read_pkl(fname):\n",
    "    with open(fname, 'rb') as file:\n",
    "        # Call load method to deserialze\n",
    "        return pickle.load(file)"
   ]
  },
  {
   "cell_type": "code",
   "execution_count": 3,
   "id": "cf0a3ef8-63f2-42c9-952d-7559f4112136",
   "metadata": {},
   "outputs": [],
   "source": [
    "features = read_pkl(\"/home/ravi/PROJECTS_DATA/DataModelsResults/Results/tSNE/features_KFold_1.pkl\")\n",
    "labels = read_pkl(\"/home/ravi/PROJECTS_DATA/DataModelsResults/Results/tSNE/labels_KFold_1.pkl\")"
   ]
  },
  {
   "cell_type": "code",
   "execution_count": 4,
   "id": "6d5a4c33-63c7-4470-a272-4f2e805730d5",
   "metadata": {},
   "outputs": [
    {
     "data": {
      "text/plain": [
       "(325406, 7523484)"
      ]
     },
     "execution_count": 4,
     "metadata": {},
     "output_type": "execute_result"
    }
   ],
   "source": [
    "features.shape"
   ]
  },
  {
   "cell_type": "code",
   "execution_count": 5,
   "id": "027099f8-cda9-44b7-8d3d-9428f825332d",
   "metadata": {},
   "outputs": [
    {
     "data": {
      "text/plain": [
       "(325406,)"
      ]
     },
     "execution_count": 5,
     "metadata": {},
     "output_type": "execute_result"
    }
   ],
   "source": [
    "labels.shape"
   ]
  },
  {
   "cell_type": "code",
   "execution_count": 5,
   "id": "f2342bdb-bd29-4ba6-8770-9ed4427b73e3",
   "metadata": {},
   "outputs": [],
   "source": [
    "from sklearn.manifold import TSNE\n",
    "from numpy import reshape\n",
    "import seaborn as sns\n",
    "import pandas as pd  "
   ]
  },
  {
   "cell_type": "code",
   "execution_count": 28,
   "id": "437a38a0-d465-4534-9fc3-693ca7153132",
   "metadata": {},
   "outputs": [
    {
     "name": "stdout",
     "output_type": "stream",
     "text": [
      "(325406, 7523484) <class 'scipy.sparse.csr.csr_matrix'>\n"
     ]
    }
   ],
   "source": [
    "x = features.copy()\n",
    "print(x.shape, type(x))"
   ]
  },
  {
   "cell_type": "code",
   "execution_count": 29,
   "id": "76bdd8d5-aa53-4850-85b3-2897a87fa761",
   "metadata": {},
   "outputs": [
    {
     "name": "stdout",
     "output_type": "stream",
     "text": [
      "(325406, 1000)\n"
     ]
    }
   ],
   "source": [
    "x = x[0:,0:1000]\n",
    "print(x.shape)\n",
    "y = labels"
   ]
  },
  {
   "cell_type": "code",
   "execution_count": null,
   "id": "c43462d1-c9fe-4ea1-b889-16c2be654682",
   "metadata": {},
   "outputs": [
    {
     "name": "stderr",
     "output_type": "stream",
     "text": [
      "/home/ravi/miniconda3/envs/redditJournal/lib/python3.10/site-packages/sklearn/manifold/_t_sne.py:780: FutureWarning: The default initialization in TSNE will change from 'random' to 'pca' in 1.2.\n",
      "  warnings.warn(\n"
     ]
    },
    {
     "name": "stdout",
     "output_type": "stream",
     "text": [
      "[t-SNE] Computing 4 nearest neighbors...\n",
      "[t-SNE] Indexed 325406 samples in 0.002s...\n"
     ]
    }
   ],
   "source": [
    "tsne = TSNE(n_components=3,\n",
    "            verbose=1, \n",
    "            random_state=42,\n",
    "            learning_rate='auto',\n",
    "            perplexity=1,\n",
    "            n_jobs=48\n",
    "           )\n",
    "z = tsne.fit_transform(x)"
   ]
  },
  {
   "cell_type": "code",
   "execution_count": null,
   "id": "0986ef5a-6a29-4bf3-87e6-3926c1125ce4",
   "metadata": {},
   "outputs": [],
   "source": [
    "df = pd.DataFrame()\n",
    "df[\"y\"] = y\n",
    "df[\"comp-1\"] = z[:,0]\n",
    "df[\"comp-2\"] = z[:,1]\n",
    "df[\"comp-3\"] = z[:,2]"
   ]
  },
  {
   "cell_type": "code",
   "execution_count": null,
   "id": "005e98e2-4ff7-489e-8aeb-12dc6d76a239",
   "metadata": {},
   "outputs": [],
   "source": [
    "df0 = df[df[\"y\"]==0]\n",
    "print(df0.shape)\n",
    "df1 = df[df[\"y\"]==1]\n",
    "print(df1.shape)\n",
    "df2 = df[df[\"y\"]==2]\n",
    "print(df2.shape)"
   ]
  },
  {
   "cell_type": "code",
   "execution_count": null,
   "id": "f834279c-b54e-4be0-8a94-dba0cc5c3cf0",
   "metadata": {},
   "outputs": [],
   "source": [
    "df0"
   ]
  },
  {
   "cell_type": "code",
   "execution_count": null,
   "id": "38617c2d-ceba-40c0-8c3d-45166191d9d5",
   "metadata": {},
   "outputs": [],
   "source": [
    "import matplotlib.pyplot as plt\n",
    "import pandas as pd\n",
    "import seaborn as sns\n",
    "from matplotlib.colors import ListedColormap\n",
    "\n",
    "# df = pd.read_csv('2016.csv')\n",
    "sns.set(style = \"darkgrid\")\n",
    "\n",
    "fig = plt.figure(figsize=(8,8))\n",
    "ax = fig.add_subplot(111, projection = '3d')\n",
    "\n",
    "ax.set_xlabel('comp-1')\n",
    "ax.set_ylabel('comp-2')\n",
    "ax.set_zlabel('comp-3')\n",
    "\n",
    "sc = ax.scatter(df0['comp-1'], df0['comp-2'], df0['comp-3'], color='blue')\n",
    "sc = ax.scatter(df1['comp-1'], df1['comp-2'], df1['comp-3'], color='red')\n",
    "sc = ax.scatter(df2['comp-1'], df2['comp-2'], df2['comp-3'], color='green')\n",
    "\n",
    "plt.show()"
   ]
  },
  {
   "cell_type": "code",
   "execution_count": null,
   "id": "3c30600b-73f7-4899-848d-451d1c1a7aa3",
   "metadata": {},
   "outputs": [],
   "source": [
    "import matplotlib.pyplot as plt\n",
    "import pandas as pd\n",
    "import seaborn as sns\n",
    "from matplotlib.colors import ListedColormap\n",
    "\n",
    "# df = pd.read_csv('2016.csv')\n",
    "sns.set(style = \"darkgrid\")\n",
    "\n",
    "fig = plt.figure(figsize=(8,8))\n",
    "ax = fig.add_subplot(111, projection = '3d')\n",
    "\n",
    "ax.set_xlabel('comp-1')\n",
    "ax.set_ylabel('comp-2')\n",
    "ax.set_zlabel('comp-3')\n",
    "\n",
    "sc = ax.scatter(df0['comp-1'], df0['comp-2'], df0['comp-3'], color='blue', alpha=0.9)\n",
    "sc = ax.scatter(df1['comp-1'], df1['comp-2'], df1['comp-3'], color='red', alpha=0.9)\n",
    "sc = ax.scatter(df2['comp-1'], df2['comp-2'], df2['comp-3'], color='green', alpha=0.1)\n",
    "\n",
    "ax.view_init(15, 60)\n",
    "\n",
    "plt.show()"
   ]
  },
  {
   "cell_type": "code",
   "execution_count": null,
   "id": "6ae94535-05a2-4ce8-8c8c-b6bc08cc7359",
   "metadata": {},
   "outputs": [],
   "source": []
  },
  {
   "cell_type": "code",
   "execution_count": null,
   "id": "b1b02cde-3aab-4605-b98e-c12c81a708c1",
   "metadata": {},
   "outputs": [],
   "source": []
  }
 ],
 "metadata": {
  "kernelspec": {
   "display_name": "Python 3 (ipykernel)",
   "language": "python",
   "name": "python3"
  },
  "language_info": {
   "codemirror_mode": {
    "name": "ipython",
    "version": 3
   },
   "file_extension": ".py",
   "mimetype": "text/x-python",
   "name": "python",
   "nbconvert_exporter": "python",
   "pygments_lexer": "ipython3",
   "version": "3.10.4"
  }
 },
 "nbformat": 4,
 "nbformat_minor": 5
}
