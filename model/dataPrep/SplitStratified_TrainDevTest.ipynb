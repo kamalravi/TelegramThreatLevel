{
 "cells": [
  {
   "cell_type": "code",
   "execution_count": 47,
   "id": "b97f896d-3d0c-49b8-8825-19b88c9d8b46",
   "metadata": {},
   "outputs": [],
   "source": [
    "# import libraries needed\n",
    "import pandas as pd\n",
    "from collections import OrderedDict\n",
    "from sklearn.model_selection import train_test_split\n",
    "import datetime\n",
    "\n",
    "import random\n",
    "random.seed(42)"
   ]
  },
  {
   "cell_type": "code",
   "execution_count": 48,
   "id": "da3e8780-de8c-435e-be31-e6bb16a24cd0",
   "metadata": {},
   "outputs": [],
   "source": [
    "AllClassesDF = pd.read_json(\"/home/ravi/PROJECTS_DATA/DataModelsResults/Data/AllClassesDF.json\", orient=\"records\")"
   ]
  },
  {
   "cell_type": "code",
   "execution_count": 49,
   "id": "4a45d43c-86df-4807-ae6a-6adc5d73b496",
   "metadata": {},
   "outputs": [
    {
     "data": {
      "text/html": [
       "<div>\n",
       "<style scoped>\n",
       "    .dataframe tbody tr th:only-of-type {\n",
       "        vertical-align: middle;\n",
       "    }\n",
       "\n",
       "    .dataframe tbody tr th {\n",
       "        vertical-align: top;\n",
       "    }\n",
       "\n",
       "    .dataframe thead th {\n",
       "        text-align: right;\n",
       "    }\n",
       "</style>\n",
       "<table border=\"1\" class=\"dataframe\">\n",
       "  <thead>\n",
       "    <tr style=\"text-align: right;\">\n",
       "      <th></th>\n",
       "      <th>WordCount</th>\n",
       "      <th>_id</th>\n",
       "      <th>article</th>\n",
       "      <th>author</th>\n",
       "      <th>author_flair_text</th>\n",
       "      <th>created_utc</th>\n",
       "      <th>domain</th>\n",
       "      <th>id</th>\n",
       "      <th>num_comments</th>\n",
       "      <th>score</th>\n",
       "      <th>url</th>\n",
       "      <th>url_domain</th>\n",
       "      <th>label</th>\n",
       "    </tr>\n",
       "  </thead>\n",
       "  <tbody>\n",
       "    <tr>\n",
       "      <th>0</th>\n",
       "      <td>791</td>\n",
       "      <td>6216ad0f24cdf35c1086adb4</td>\n",
       "      <td>News anchor George Thomas interviewed Dan Gai...</td>\n",
       "      <td>z89101</td>\n",
       "      <td>SUPER ELITE</td>\n",
       "      <td>1551397487</td>\n",
       "      <td>cbn.com</td>\n",
       "      <td>avxsg7</td>\n",
       "      <td>2</td>\n",
       "      <td>32</td>\n",
       "      <td>https://www1.cbn.com/cbnnews/us/2019/february/...</td>\n",
       "      <td>cbn</td>\n",
       "      <td>2</td>\n",
       "    </tr>\n",
       "  </tbody>\n",
       "</table>\n",
       "</div>"
      ],
      "text/plain": [
       "   WordCount                       _id  \\\n",
       "0        791  6216ad0f24cdf35c1086adb4   \n",
       "\n",
       "                                             article  author  \\\n",
       "0   News anchor George Thomas interviewed Dan Gai...  z89101   \n",
       "\n",
       "  author_flair_text  created_utc   domain      id  num_comments  score  \\\n",
       "0       SUPER ELITE   1551397487  cbn.com  avxsg7             2     32   \n",
       "\n",
       "                                                 url url_domain  label  \n",
       "0  https://www1.cbn.com/cbnnews/us/2019/february/...        cbn      2  "
      ]
     },
     "execution_count": 49,
     "metadata": {},
     "output_type": "execute_result"
    }
   ],
   "source": [
    "AllClassesDF.head(1)"
   ]
  },
  {
   "cell_type": "code",
   "execution_count": 50,
   "id": "0fffdeca-2116-4c8c-8517-6c02242632f2",
   "metadata": {},
   "outputs": [],
   "source": [
    "AllClassesDF['date']=pd.to_datetime(AllClassesDF['created_utc'], unit='s')\n",
    "AllClassesDF['date']=pd.to_datetime(AllClassesDF['date']).dt.date"
   ]
  },
  {
   "cell_type": "code",
   "execution_count": 51,
   "id": "076a5b51-8c0a-47a3-a67d-f3a4e7e570b9",
   "metadata": {},
   "outputs": [
    {
     "data": {
      "text/plain": [
       "<AxesSubplot:>"
      ]
     },
     "execution_count": 51,
     "metadata": {},
     "output_type": "execute_result"
    },
    {
     "data": {
      "image/png": "[encoded data removed]",
      "text/plain": [
       "<Figure size 432x288 with 1 Axes>"
      ]
     },
     "metadata": {
      "needs_background": "light"
     },
     "output_type": "display_data"
    }
   ],
   "source": [
    "AllClassesDF.date.value_counts().sort_values().plot(kind = 'line')"
   ]
  },
  {
   "cell_type": "code",
   "execution_count": 58,
   "id": "b106d49d-2818-4466-8b61-7a810a0b6fbd",
   "metadata": {},
   "outputs": [],
   "source": [
    "alltrain, test = train_test_split(AllClassesDF, test_size=0.2, random_state=42, stratify=AllClassesDF[['label']])"
   ]
  },
  {
   "cell_type": "code",
   "execution_count": 61,
   "id": "19ae919a-fe9a-409a-a45e-d566054a8100",
   "metadata": {},
   "outputs": [],
   "source": [
    "train, dev = train_test_split(alltrain, test_size=0.2, random_state=42, stratify=alltrain[['label']])"
   ]
  },
  {
   "cell_type": "code",
   "execution_count": 62,
   "id": "752a6079-1d51-466e-a9da-83631bd6361d",
   "metadata": {},
   "outputs": [
    {
     "name": "stdout",
     "output_type": "stream",
     "text": [
      "(377144, 14)\n",
      "(301715, 14)\n",
      "(241372, 14)\n",
      "(60343, 14)\n",
      "(75429, 14)\n"
     ]
    }
   ],
   "source": [
    "print(AllClassesDF.shape)\n",
    "print(alltrain.shape)\n",
    "print(train.shape)\n",
    "print(dev.shape)\n",
    "print(test.shape)"
   ]
  },
  {
   "cell_type": "code",
   "execution_count": 64,
   "id": "dcb885e6-f3b3-4533-bb3b-4c177f8c3c40",
   "metadata": {},
   "outputs": [
    {
     "data": {
      "text/plain": [
       "<AxesSubplot:>"
      ]
     },
     "execution_count": 64,
     "metadata": {},
     "output_type": "execute_result"
    },
    {
     "data": {
      "image/png": "[encoded data removed]",
      "text/plain": [
       "<Figure size 432x288 with 1 Axes>"
      ]
     },
     "metadata": {
      "needs_background": "light"
     },
     "output_type": "display_data"
    }
   ],
   "source": [
    "AllClassesDF.date.value_counts().sort_values().plot(kind = 'line')"
   ]
  },
  {
   "cell_type": "code",
   "execution_count": 65,
   "id": "e7f34c32-e182-493a-8a24-46b7efc2fdc5",
   "metadata": {},
   "outputs": [
    {
     "data": {
      "text/plain": [
       "<AxesSubplot:>"
      ]
     },
     "execution_count": 65,
     "metadata": {},
     "output_type": "execute_result"
    },
    {
     "data": {
      "image/png": "[encoded data removed]",
      "text/plain": [
       "<Figure size 432x288 with 1 Axes>"
      ]
     },
     "metadata": {
      "needs_background": "light"
     },
     "output_type": "display_data"
    }
   ],
   "source": [
    "alltrain.date.value_counts().sort_values().plot(kind = 'line')"
   ]
  },
  {
   "cell_type": "code",
   "execution_count": 67,
   "id": "e59e67a5-f60f-4dcb-9a18-66fe2bf30bdd",
   "metadata": {},
   "outputs": [
    {
     "data": {
      "text/plain": [
       "<AxesSubplot:>"
      ]
     },
     "execution_count": 67,
     "metadata": {},
     "output_type": "execute_result"
    },
    {
     "data": {
      "image/png": "[encoded data removed]",
      "text/plain": [
       "<Figure size 432x288 with 1 Axes>"
      ]
     },
     "metadata": {
      "needs_background": "light"
     },
     "output_type": "display_data"
    }
   ],
   "source": [
    "train.date.value_counts().sort_values().plot(kind = 'line')"
   ]
  },
  {
   "cell_type": "code",
   "execution_count": 68,
   "id": "edbe74f7-371a-446f-b5b1-ffc1b2b7decc",
   "metadata": {},
   "outputs": [
    {
     "data": {
      "text/plain": [
       "<AxesSubplot:>"
      ]
     },
     "execution_count": 68,
     "metadata": {},
     "output_type": "execute_result"
    },
    {
     "data": {
      "image/png": "[encoded data removed]",
      "text/plain": [
       "<Figure size 432x288 with 1 Axes>"
      ]
     },
     "metadata": {
      "needs_background": "light"
     },
     "output_type": "display_data"
    }
   ],
   "source": [
    "dev.date.value_counts().sort_values().plot(kind = 'line')"
   ]
  },
  {
   "cell_type": "code",
   "execution_count": 66,
   "id": "aec972cc-3742-490c-8375-4ba530bb8d1b",
   "metadata": {},
   "outputs": [
    {
     "data": {
      "text/plain": [
       "<AxesSubplot:>"
      ]
     },
     "execution_count": 66,
     "metadata": {},
     "output_type": "execute_result"
    },
    {
     "data": {
      "image/png": "[encoded data removed]",
      "text/plain": [
       "<Figure size 432x288 with 1 Axes>"
      ]
     },
     "metadata": {
      "needs_background": "light"
     },
     "output_type": "display_data"
    }
   ],
   "source": [
    "test.date.value_counts().sort_values().plot(kind = 'line')"
   ]
  },
  {
   "cell_type": "code",
   "execution_count": 69,
   "id": "cb7f096d-1bff-4525-bba0-98fe3f1fa380",
   "metadata": {},
   "outputs": [],
   "source": [
    "AllClassesDF.to_json(\"/home/ravi/PROJECTS_DATA/DataModelsResults/Data/AllClassesDF.json\", orient=\"records\")"
   ]
  },
  {
   "cell_type": "code",
   "execution_count": 70,
   "id": "053725df-1b63-4ee9-bb25-9a0f2a3197be",
   "metadata": {},
   "outputs": [
    {
     "name": "stdout",
     "output_type": "stream",
     "text": [
      "writing to json\n"
     ]
    }
   ],
   "source": [
    "# alltrain\n",
    "print(\"writing to json\")\n",
    "alltrain.to_json(\"/home/ravi/PROJECTS_DATA/DataModelsResults/Data/alltrainDF.json\", orient=\"records\", default_handler = str)"
   ]
  },
  {
   "cell_type": "code",
   "execution_count": 71,
   "id": "04b0b889-4782-45c3-9c38-913106ab211f",
   "metadata": {},
   "outputs": [
    {
     "name": "stdout",
     "output_type": "stream",
     "text": [
      "writing to json\n"
     ]
    }
   ],
   "source": [
    "# train\n",
    "print(\"writing to json\")\n",
    "train.to_json(\"/home/ravi/PROJECTS_DATA/DataModelsResults/Data/trainDF.json\", orient=\"records\", default_handler = str)"
   ]
  },
  {
   "cell_type": "code",
   "execution_count": 72,
   "id": "fcf69a30-58fc-4e35-9d90-4fb7f7e69097",
   "metadata": {},
   "outputs": [
    {
     "name": "stdout",
     "output_type": "stream",
     "text": [
      "writing to json\n"
     ]
    }
   ],
   "source": [
    "# dev\n",
    "print(\"writing to json\")\n",
    "dev.to_json(\"/home/ravi/PROJECTS_DATA/DataModelsResults/Data/devDF.json\", orient=\"records\", default_handler = str)"
   ]
  },
  {
   "cell_type": "code",
   "execution_count": 73,
   "id": "75d203fb-b9f0-4dc7-ac4b-445a4295a7e1",
   "metadata": {},
   "outputs": [
    {
     "name": "stdout",
     "output_type": "stream",
     "text": [
      "writing to json\n"
     ]
    }
   ],
   "source": [
    "# test\n",
    "print(\"writing to json\")\n",
    "test.to_json(\"/home/ravi/PROJECTS_DATA/DataModelsResults/Data/testDF.json\", orient=\"records\", default_handler = str)"
   ]
  },
  {
   "cell_type": "code",
   "execution_count": 76,
   "id": "ee0e4cbc-f49a-46c6-bb36-ca56d5c72e41",
   "metadata": {},
   "outputs": [
    {
     "data": {
      "text/plain": [
       "0     72488\n",
       "1     79573\n",
       "2    225083\n",
       "Name: label, dtype: int64"
      ]
     },
     "execution_count": 76,
     "metadata": {},
     "output_type": "execute_result"
    }
   ],
   "source": [
    "AllClassesDF.label.value_counts().sort_values()"
   ]
  },
  {
   "cell_type": "code",
   "execution_count": 80,
   "id": "7026d6af-1eb9-4e08-b1a7-960fe6aebbea",
   "metadata": {},
   "outputs": [
    {
     "data": {
      "text/plain": [
       "0     57991\n",
       "1     63658\n",
       "2    180066\n",
       "Name: label, dtype: int64"
      ]
     },
     "execution_count": 80,
     "metadata": {},
     "output_type": "execute_result"
    }
   ],
   "source": [
    "alltrain.label.value_counts().sort_values()"
   ]
  },
  {
   "cell_type": "code",
   "execution_count": 81,
   "id": "f49df70d-7cb9-4ba2-8282-8d50812df192",
   "metadata": {},
   "outputs": [
    {
     "data": {
      "text/plain": [
       "0     46393\n",
       "1     50926\n",
       "2    144053\n",
       "Name: label, dtype: int64"
      ]
     },
     "execution_count": 81,
     "metadata": {},
     "output_type": "execute_result"
    }
   ],
   "source": [
    "train.label.value_counts().sort_values()"
   ]
  },
  {
   "cell_type": "code",
   "execution_count": 82,
   "id": "11418d25-92cf-4eb2-ae21-00bc0b343a7b",
   "metadata": {},
   "outputs": [
    {
     "data": {
      "text/plain": [
       "0    11598\n",
       "1    12732\n",
       "2    36013\n",
       "Name: label, dtype: int64"
      ]
     },
     "execution_count": 82,
     "metadata": {},
     "output_type": "execute_result"
    }
   ],
   "source": [
    "dev.label.value_counts().sort_values()"
   ]
  },
  {
   "cell_type": "code",
   "execution_count": 83,
   "id": "b87a4a8a-54ef-49b1-8d26-591ba809a3f1",
   "metadata": {},
   "outputs": [
    {
     "data": {
      "text/plain": [
       "0    14497\n",
       "1    15915\n",
       "2    45017\n",
       "Name: label, dtype: int64"
      ]
     },
     "execution_count": 83,
     "metadata": {},
     "output_type": "execute_result"
    }
   ],
   "source": [
    "test.label.value_counts().sort_values()"
   ]
  },
  {
   "cell_type": "code",
   "execution_count": null,
   "id": "245535f2-7096-464b-8bdc-48b4d7d04dce",
   "metadata": {},
   "outputs": [],
   "source": []
  }
 ],
 "metadata": {
  "kernelspec": {
   "display_name": "Python 3 (ipykernel)",
   "language": "python",
   "name": "python3"
  },
  "language_info": {
   "codemirror_mode": {
    "name": "ipython",
    "version": 3
   },
   "file_extension": ".py",
   "mimetype": "text/x-python",
   "name": "python",
   "nbconvert_exporter": "python",
   "pygments_lexer": "ipython3",
   "version": "3.10.4"
  }
 },
 "nbformat": 4,
 "nbformat_minor": 5
}
