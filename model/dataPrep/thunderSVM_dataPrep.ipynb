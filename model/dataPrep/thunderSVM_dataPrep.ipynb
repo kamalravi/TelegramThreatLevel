{
 "cells": [
  {
   "cell_type": "code",
   "execution_count": 1,
   "id": "cca37c5f-9207-4404-9097-0914fbc614e8",
   "metadata": {},
   "outputs": [],
   "source": [
    "# import libraries\n",
    "import time\n",
    "import pandas as pd\n",
    "import pickle\n",
    "\n",
    "from sklearn.feature_extraction.text import TfidfVectorizer\n",
    "import joblib"
   ]
  },
  {
   "cell_type": "code",
   "execution_count": 2,
   "id": "ad1692da-0aa9-408d-8866-22e150c0162b",
   "metadata": {},
   "outputs": [],
   "source": [
    "alltrainDF = pd.read_json('/home/ravi/PROJECTS_DATA/DataModelsResults/Data/alltrainDF.json', orient = 'records')\n",
    "trainDF = pd.read_json('/home/ravi/PROJECTS_DATA/DataModelsResults/Data/trainDF.json', orient = 'records')\n",
    "devDF = pd.read_json('/home/ravi/PROJECTS_DATA/DataModelsResults/Data/devDF.json', orient = 'records')\n",
    "testDF = pd.read_json('/home/ravi/PROJECTS_DATA/DataModelsResults/Data/testDF.json', orient = 'records')"
   ]
  },
  {
   "cell_type": "code",
   "execution_count": 3,
   "id": "39e62264-beb3-4fae-9730-d6b86b092ad9",
   "metadata": {},
   "outputs": [],
   "source": [
    "vectorizer = TfidfVectorizer(encoding='utf-8', lowercase=False, min_df=5,\n",
    "                                ngram_range=(1, 2), stop_words='english',\n",
    "                                sublinear_tf=True)"
   ]
  },
  {
   "cell_type": "code",
   "execution_count": 4,
   "id": "914b810a-ca75-4cec-9019-6fcc0c3e80cc",
   "metadata": {},
   "outputs": [
    {
     "data": {
      "text/plain": [
       "TfidfVectorizer(lowercase=False, min_df=5, ngram_range=(1, 2),\n",
       "                stop_words='english', sublinear_tf=True)"
      ]
     },
     "execution_count": 4,
     "metadata": {},
     "output_type": "execute_result"
    }
   ],
   "source": [
    "vectorizer.fit(alltrainDF.article)"
   ]
  },
  {
   "cell_type": "code",
   "execution_count": 5,
   "id": "f6234b37-082f-4e7f-8784-f82df91baba3",
   "metadata": {},
   "outputs": [],
   "source": [
    "pickle.dump(vectorizer.vocabulary_, open(\"feature.pkl\", \"wb\"))"
   ]
  },
  {
   "cell_type": "markdown",
   "id": "f7ef3568-d687-447e-b3d2-6ebfc178f3c8",
   "metadata": {},
   "source": [
    "\n",
    "\n",
    "\n",
    "### alltrain encode"
   ]
  },
  {
   "cell_type": "code",
   "execution_count": 6,
   "id": "e98ba09f-0a81-4db8-bb0a-3779eddc0b4b",
   "metadata": {},
   "outputs": [],
   "source": [
    "adca saved_vocabulary = pickle.load(open(\"feature.pkl\", 'rb'))\n",
    "loaded_vectorizer = TfidfVectorizer(encoding='utf-8', lowercase=False, min_df=5,\n",
    "                                ngram_range=(1, 2), stop_words='english',\n",
    "                                sublinear_tf=True, vocabulary=saved_vocabulary)"
   ]
  },
  {
   "cell_type": "code",
   "execution_count": 10,
   "id": "f685e743-9519-4c4b-80e4-f0ae92673adf",
   "metadata": {},
   "outputs": [],
   "source": [
    "trainVec = loaded_vectorizer.fit_transform(alltrainDF.article)"
   ]
  },
  {
   "cell_type": "code",
   "execution_count": 11,
   "id": "7911c5ed-3562-4e08-9157-f0b9eabb34ac",
   "metadata": {},
   "outputs": [
    {
     "data": {
      "text/plain": [
       "(301715, 6130462)"
      ]
     },
     "execution_count": 11,
     "metadata": {},
     "output_type": "execute_result"
    }
   ],
   "source": [
    "trainVec.shape"
   ]
  },
  {
   "cell_type": "code",
   "execution_count": 12,
   "id": "7ba68453-639a-4201-bf81-abdf7be62056",
   "metadata": {},
   "outputs": [
    {
     "data": {
      "text/plain": [
       "scipy.sparse.csr.csr_matrix"
      ]
     },
     "execution_count": 12,
     "metadata": {},
     "output_type": "execute_result"
    }
   ],
   "source": [
    "type(trainVec)"
   ]
  },
  {
   "cell_type": "code",
   "execution_count": 13,
   "id": "22bb23be-6741-4323-8569-5ddae2b8e9bd",
   "metadata": {},
   "outputs": [],
   "source": [
    "pickle.dump(trainVec, open(\"alltrainVec.pkl\",\"wb\"))"
   ]
  },
  {
   "cell_type": "code",
   "execution_count": 35,
   "id": "0913ffab-cec7-45c5-910a-97eb6cef1f11",
   "metadata": {},
   "outputs": [],
   "source": [
    "alltrainDF['label'].to_json('alltrainLabelDF.json', orient = 'records')"
   ]
  },
  {
   "cell_type": "markdown",
   "id": "70f7bb53-2cc5-46c4-ad7a-dbb1b3215306",
   "metadata": {},
   "source": [
    "### test encode"
   ]
  },
  {
   "cell_type": "code",
   "execution_count": 18,
   "id": "cbecd0c7-382b-420a-9a29-d383dd724036",
   "metadata": {},
   "outputs": [],
   "source": [
    "testVec = loaded_vectorizer.fit_transform(testDF.article)"
   ]
  },
  {
   "cell_type": "code",
   "execution_count": 19,
   "id": "3c4a28bc-4d5e-4cdc-910b-8516fe1f8bfb",
   "metadata": {},
   "outputs": [
    {
     "data": {
      "text/plain": [
       "(75429, 6130462)"
      ]
     },
     "execution_count": 19,
     "metadata": {},
     "output_type": "execute_result"
    }
   ],
   "source": [
    "testVec.shape"
   ]
  },
  {
   "cell_type": "code",
   "execution_count": 20,
   "id": "34aea3ca-c864-4863-a03d-c0311fe38d09",
   "metadata": {},
   "outputs": [
    {
     "data": {
      "text/plain": [
       "scipy.sparse.csr.csr_matrix"
      ]
     },
     "execution_count": 20,
     "metadata": {},
     "output_type": "execute_result"
    }
   ],
   "source": [
    "type(testVec)"
   ]
  },
  {
   "cell_type": "code",
   "execution_count": 21,
   "id": "9fe53550-4aa0-4f88-875d-f42e58909d69",
   "metadata": {},
   "outputs": [],
   "source": [
    "pickle.dump(testVec, open(\"testVec.pkl\",\"wb\"))"
   ]
  },
  {
   "cell_type": "code",
   "execution_count": 34,
   "id": "85ebb0c0-8fde-4191-84db-da0cd046a60e",
   "metadata": {},
   "outputs": [],
   "source": [
    "testDF['label'].to_json('testLabelDF.json', orient = 'records')"
   ]
  },
  {
   "cell_type": "markdown",
   "id": "99c21aca-75b9-4c2e-870f-b8e14e6ac576",
   "metadata": {},
   "source": [
    "### train encode"
   ]
  },
  {
   "cell_type": "code",
   "execution_count": 22,
   "id": "76a64bc8-446f-4e21-9787-595f220428ea",
   "metadata": {},
   "outputs": [],
   "source": [
    "trainVec = loaded_vectorizer.fit_transform(trainDF.article)"
   ]
  },
  {
   "cell_type": "code",
   "execution_count": 23,
   "id": "242b6b04-142c-49ff-a3f6-37d78cba25f9",
   "metadata": {},
   "outputs": [
    {
     "data": {
      "text/plain": [
       "(241372, 6130462)"
      ]
     },
     "execution_count": 23,
     "metadata": {},
     "output_type": "execute_result"
    }
   ],
   "source": [
    "trainVec.shape"
   ]
  },
  {
   "cell_type": "code",
   "execution_count": 24,
   "id": "948f6e79-7fae-4526-b5c6-5867a88693e8",
   "metadata": {},
   "outputs": [],
   "source": [
    "pickle.dump(trainVec, open(\"trainVec.pkl\",\"wb\"))"
   ]
  },
  {
   "cell_type": "code",
   "execution_count": 33,
   "id": "3444a7b8-36a5-4ea7-8bf9-051f6e7941e6",
   "metadata": {},
   "outputs": [],
   "source": [
    "trainDF['label'].to_json('trainLabelDF.json', orient = 'records')"
   ]
  },
  {
   "cell_type": "markdown",
   "id": "b318083c-30a5-40db-9b2a-754d920218da",
   "metadata": {},
   "source": [
    "### dev encode"
   ]
  },
  {
   "cell_type": "code",
   "execution_count": 25,
   "id": "a505b63e-6a94-48a3-af22-10de8aed7561",
   "metadata": {},
   "outputs": [],
   "source": [
    "devVec = loaded_vectorizer.fit_transform(devDF.article)"
   ]
  },
  {
   "cell_type": "code",
   "execution_count": 26,
   "id": "4b230332-7e30-44d1-9c4a-938827e6a18f",
   "metadata": {},
   "outputs": [
    {
     "data": {
      "text/plain": [
       "(60343, 6130462)"
      ]
     },
     "execution_count": 26,
     "metadata": {},
     "output_type": "execute_result"
    }
   ],
   "source": [
    "devVec.shape"
   ]
  },
  {
   "cell_type": "code",
   "execution_count": 27,
   "id": "15bbaf59-4dfa-4118-9364-7e3715d7cf11",
   "metadata": {},
   "outputs": [],
   "source": [
    "pickle.dump(devVec, open(\"devVec.pkl\",\"wb\"))"
   ]
  },
  {
   "cell_type": "code",
   "execution_count": 32,
   "id": "3a0dc599-fcf4-40f2-b18e-b47da23569e5",
   "metadata": {},
   "outputs": [],
   "source": [
    "devDF['label'].to_json('devLabelDF.json', orient = 'records')"
   ]
  },
  {
   "cell_type": "markdown",
   "id": "a2ac986f-efbc-449e-a385-5a5a43bd6abe",
   "metadata": {},
   "source": [
    "# TEST"
   ]
  },
  {
   "cell_type": "code",
   "execution_count": 15,
   "id": "be2b0482-1d59-41be-a65b-c6dd06c618cc",
   "metadata": {},
   "outputs": [],
   "source": [
    "import time\n",
    "import pickle\n",
    "import pandas as pd\n",
    "from thundersvm import SVC\n",
    "import joblib\n",
    "from sklearn.metrics import classification_report, confusion_matrix, f1_score\n",
    "import matplotlib.pyplot as plt\n",
    "import seaborn as sns"
   ]
  },
  {
   "cell_type": "code",
   "execution_count": 2,
   "id": "66056a84-9fd3-4a70-8a67-50e916b30265",
   "metadata": {},
   "outputs": [],
   "source": [
    "loaded_SVMmodel = SVC(C=10, gamma=0.1, kernel='rbf', class_weight = 'balanced', random_state = 42)\n",
    "loaded_SVMmodel.load_from_file('/home/ravi/PROJECTS_DATA/DataModelsResults/Results/SVM/thunderSVMmodel')"
   ]
  },
  {
   "cell_type": "code",
   "execution_count": 3,
   "id": "a758e761-747f-48e2-8c29-4dc34b3b76e6",
   "metadata": {},
   "outputs": [],
   "source": [
    "testVec = pickle.load(open(\"/home/ravi/PROJECTS_DATA/DataModelsResults/Data/testVec.pkl\", 'rb'))[0:10]\n",
    "testLabel = pd.read_json('/home/ravi/PROJECTS_DATA/DataModelsResults/Data/testLabelDF.json', orient = 'records').head(10)"
   ]
  },
  {
   "cell_type": "code",
   "execution_count": 5,
   "id": "6fb9240b-3799-4740-a9ab-838898d977ed",
   "metadata": {},
   "outputs": [
    {
     "name": "stdout",
     "output_type": "stream",
     "text": [
      "<class 'numpy.ndarray'> [1 2 2 0 2 1 2 0 1 2]\n",
      "<class 'numpy.ndarray'> [0. 0. 0. 0. 0. 0. 0. 0. 0. 0.]\n"
     ]
    }
   ],
   "source": [
    "y_pred = loaded_SVMmodel.predict(testVec)\n",
    "print(type(testLabel.values.ravel()), testLabel.values.ravel())\n",
    "print(type(y_pred), y_pred)"
   ]
  },
  {
   "cell_type": "code",
   "execution_count": 6,
   "id": "838e7d0e-8914-4654-8e17-2c64003003f7",
   "metadata": {},
   "outputs": [],
   "source": [
    "# # save y_pred\n",
    "test_yTrue_yPred = testLabel.copy()\n",
    "test_yTrue_yPred[\"y_pred\"]=y_pred\n",
    "test_yTrue_yPred.to_json('/home/ravi/PROJECTS_DATA/DataModelsResults/Results/SVM/thunderSVM_test_yTrue_yPred.json', orient = 'records')"
   ]
  },
  {
   "cell_type": "code",
   "execution_count": 10,
   "id": "9730dd4d-6c2d-48e2-89d0-6c948cb8d5e5",
   "metadata": {},
   "outputs": [
    {
     "name": "stdout",
     "output_type": "stream",
     "text": [
      "classi_report:\n",
      "              precision    recall  f1-score   support\n",
      "\n",
      "     Liberal     0.2000    1.0000    0.3333         2\n",
      "Conservative     0.0000    0.0000    0.0000         3\n",
      "  Restricted     0.0000    0.0000    0.0000         5\n",
      "\n",
      "    accuracy                         0.2000        10\n",
      "   macro avg     0.0667    0.3333    0.1111        10\n",
      "weighted avg     0.0400    0.2000    0.0667        10\n",
      "\n",
      "Testing f1_weighted score: 0.06666666666666668\n"
     ]
    }
   ],
   "source": [
    "# # metrics\n",
    "target_names = ['Liberal', 'Conservative', 'Restricted']\n",
    "classi_report = classification_report(testLabel.values.ravel(), y_pred, target_names=target_names, digits=4, zero_division=0)\n",
    "print(\"classi_report:\\n{}\".format(classi_report))\n",
    "print(\"Testing f1_weighted score: {}\".format(f1_score(testLabel.values.ravel(), y_pred, average='weighted')))"
   ]
  },
  {
   "cell_type": "code",
   "execution_count": 16,
   "id": "058af211-6154-4747-9111-4e19715614c0",
   "metadata": {},
   "outputs": [
    {
     "name": "stdout",
     "output_type": "stream",
     "text": [
      "Plot ConfusionMatrix\n"
     ]
    },
    {
     "data": {
      "image/png": "[encoded data removed]",
      "text/plain": [
       "<Figure size 216x216 with 2 Axes>"
      ]
     },
     "metadata": {
      "needs_background": "light"
     },
     "output_type": "display_data"
    }
   ],
   "source": [
    "print(\"Plot ConfusionMatrix\")\n",
    "cm = confusion_matrix(testLabel.values.ravel(), y_pred)\n",
    "fig, ax = plt.subplots(figsize=(3,3))\n",
    "display_labels=['Liberal', 'Conservative', 'Restricted']\n",
    "SVM_ConfusionMatrix = sns.heatmap(cm, annot=True, xticklabels=display_labels, yticklabels=display_labels, cmap='Blues', ax=ax, fmt='d')\n",
    "plt.yticks(va=\"center\")\n",
    "plt.xticks(va=\"center\")\n",
    "fig.savefig('/home/ravi/PROJECTS_DATA/DataModelsResults/Results/SVM/thunderSVM_ConfusionMatrix.png', format='png', dpi=1200, bbox_inches='tight')"
   ]
  },
  {
   "cell_type": "code",
   "execution_count": null,
   "id": "7a4a2a34-fa36-4ca0-b573-b5d1dfce9680",
   "metadata": {},
   "outputs": [],
   "source": []
  }
 ],
 "metadata": {
  "kernelspec": {
   "display_name": "Python [conda env:redditJournal] *",
   "language": "python",
   "name": "conda-env-redditJournal-py"
  },
  "language_info": {
   "codemirror_mode": {
    "name": "ipython",
    "version": 3
   },
   "file_extension": ".py",
   "mimetype": "text/x-python",
   "name": "python",
   "nbconvert_exporter": "python",
   "pygments_lexer": "ipython3",
   "version": "3.10.4"
  }
 },
 "nbformat": 4,
 "nbformat_minor": 5
}
