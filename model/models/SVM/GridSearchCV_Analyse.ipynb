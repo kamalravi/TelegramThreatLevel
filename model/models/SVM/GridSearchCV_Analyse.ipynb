{
 "cells": [
  {
   "cell_type": "code",
   "execution_count": 15,
   "id": "4a87e3c5-2b75-4baa-ad7c-989cfb553974",
   "metadata": {},
   "outputs": [],
   "source": [
    "import joblib\n",
    "import pandas as pd"
   ]
  },
  {
   "cell_type": "code",
   "execution_count": 4,
   "id": "aee927b9-0779-4ce1-9544-7e8758b3d710",
   "metadata": {},
   "outputs": [
    {
     "name": "stderr",
     "output_type": "stream",
     "text": [
      "/home/ravi/.local/lib/python3.9/site-packages/sklearn/base.py:324: UserWarning: Trying to unpickle estimator GridSearchCV from version 0.24.2 when using version 1.0. This might lead to breaking code or invalid results. Use at your own risk. For more info please refer to:\n",
      "https://scikit-learn.org/stable/modules/model_persistence.html#security-maintainability-limitations\n",
      "  warnings.warn(\n"
     ]
    }
   ],
   "source": [
    "pipeline = joblib.load('../../data_clean/gs_pipeline_object.pkl')"
   ]
  },
  {
   "cell_type": "code",
   "execution_count": 7,
   "id": "23612352-d6e4-4f23-bb55-3c8ff1ad177e",
   "metadata": {},
   "outputs": [
    {
     "data": {
      "text/plain": [
       "Pipeline(steps=[('tfidfvect',\n",
       "                 TfidfVectorizer(encoding='latin-1', min_df=5,\n",
       "                                 ngram_range=(1, 2), stop_words='english',\n",
       "                                 sublinear_tf=True)),\n",
       "                ('clf', SVC(C=10, gamma=1))])"
      ]
     },
     "execution_count": 7,
     "metadata": {},
     "output_type": "execute_result"
    }
   ],
   "source": [
    "pipeline.best_estimator_"
   ]
  },
  {
   "cell_type": "code",
   "execution_count": 9,
   "id": "68e4200f-c871-4658-af5c-f2ac9f9951f6",
   "metadata": {},
   "outputs": [
    {
     "data": {
      "text/plain": [
       "0.8543755348438596"
      ]
     },
     "execution_count": 9,
     "metadata": {},
     "output_type": "execute_result"
    }
   ],
   "source": [
    "pipeline.best_score_"
   ]
  },
  {
   "cell_type": "code",
   "execution_count": 11,
   "id": "a86d5aac-8c76-4011-a19d-01060c9ca1d5",
   "metadata": {},
   "outputs": [
    {
     "data": {
      "text/plain": [
       "{'clf__C': 10, 'clf__gamma': 1, 'clf__kernel': 'rbf'}"
      ]
     },
     "execution_count": 11,
     "metadata": {},
     "output_type": "execute_result"
    }
   ],
   "source": [
    "pipeline.best_params_"
   ]
  },
  {
   "cell_type": "code",
   "execution_count": 12,
   "id": "d7cbbb6b-5bb8-49dc-bf2c-385c9c0c9298",
   "metadata": {},
   "outputs": [
    {
     "data": {
      "text/plain": [
       "55"
      ]
     },
     "execution_count": 12,
     "metadata": {},
     "output_type": "execute_result"
    }
   ],
   "source": [
    "pipeline.best_index_"
   ]
  },
  {
   "cell_type": "code",
   "execution_count": 18,
   "id": "993e02f8-2124-4a3c-87ef-d644907acf93",
   "metadata": {},
   "outputs": [
    {
     "name": "stdout",
     "output_type": "stream",
     "text": [
      "   mean_fit_time  std_fit_time  mean_score_time  std_score_time param_clf__C  \\\n",
      "0    2808.303098      6.365990        627.81581        1.688780          0.1   \n",
      "1    3532.435157      8.067532        734.09003        2.216217          0.1   \n",
      "\n",
      "  param_clf__gamma param_clf__kernel  \\\n",
      "0            0.001            linear   \n",
      "1            0.001               rbf   \n",
      "\n",
      "                                              params  split0_test_score  \\\n",
      "0  {'clf__C': 0.1, 'clf__gamma': 0.001, 'clf__ker...           0.830562   \n",
      "1  {'clf__C': 0.1, 'clf__gamma': 0.001, 'clf__ker...           0.663203   \n",
      "\n",
      "   split1_test_score  ...  mean_test_score  std_test_score  rank_test_score  \\\n",
      "0           0.830816  ...         0.826664        0.004210               31   \n",
      "1           0.499931  ...         0.532585        0.065309               55   \n",
      "\n",
      "   split0_train_score  split1_train_score  split2_train_score  \\\n",
      "0            0.861785            0.861928            0.861408   \n",
      "1            0.663399            0.500017            0.500017   \n",
      "\n",
      "   split3_train_score  split4_train_score  mean_train_score  std_train_score  \n",
      "0            0.864006            0.862067          0.862239         0.000911  \n",
      "1            0.500017            0.500017          0.532694         0.065353  \n",
      "\n",
      "[2 rows x 23 columns]\n",
      "    mean_fit_time  std_fit_time  mean_score_time  std_score_time param_clf__C  \\\n",
      "55    8933.364759     32.238861       596.632793        0.895003           10   \n",
      "70    8930.323014     26.078316       594.953125        1.381573          100   \n",
      "\n",
      "   param_clf__gamma param_clf__kernel  \\\n",
      "55                1               rbf   \n",
      "70                1               rbf   \n",
      "\n",
      "                                               params  split0_test_score  \\\n",
      "55  {'clf__C': 10, 'clf__gamma': 1, 'clf__kernel':...           0.858825   \n",
      "70  {'clf__C': 100, 'clf__gamma': 1, 'clf__kernel'...           0.858687   \n",
      "\n",
      "    split1_test_score  ...  mean_test_score  std_test_score  rank_test_score  \\\n",
      "55           0.855064  ...         0.854376        0.003823                1   \n",
      "70           0.854510  ...         0.854043        0.004020                2   \n",
      "\n",
      "    split0_train_score  split1_train_score  split2_train_score  \\\n",
      "55            0.996397            0.996813            0.996744   \n",
      "70            0.996605            0.997021            0.996882   \n",
      "\n",
      "    split3_train_score  split4_train_score  mean_train_score  std_train_score  \n",
      "55            0.996675            0.996813          0.996688         0.000154  \n",
      "70            0.996848            0.996882          0.996848         0.000135  \n",
      "\n",
      "[2 rows x 23 columns]\n"
     ]
    }
   ],
   "source": [
    "cv_results_df = pd.DataFrame(pipeline.cv_results_)\n",
    "print(cv_results_df.head(2))\n",
    "cv_results_df_sortedMeanTestScore=cv_results_df.sort_values(by='mean_test_score', ascending=False)\n",
    "print(cv_results_df_sortedMeanTestScore.head(2))"
   ]
  },
  {
   "cell_type": "code",
   "execution_count": null,
   "id": "d680e2d6-e022-476b-b3b8-401b953db16a",
   "metadata": {},
   "outputs": [],
   "source": []
  }
 ],
 "metadata": {
  "kernelspec": {
   "display_name": "Python 3 (ipykernel)",
   "language": "python",
   "name": "python3"
  },
  "language_info": {
   "codemirror_mode": {
    "name": "ipython",
    "version": 3
   },
   "file_extension": ".py",
   "mimetype": "text/x-python",
   "name": "python",
   "nbconvert_exporter": "python",
   "pygments_lexer": "ipython3",
   "version": "3.9.5"
  }
 },
 "nbformat": 4,
 "nbformat_minor": 5
}
