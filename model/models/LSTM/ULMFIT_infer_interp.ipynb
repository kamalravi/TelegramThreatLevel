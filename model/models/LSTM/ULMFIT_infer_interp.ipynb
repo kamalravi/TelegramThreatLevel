{
 "cells": [
  {
   "cell_type": "markdown",
   "metadata": {
    "id": "7BLx69FmLXkO",
    "tags": []
   },
   "source": [
    "# Installing torch_nightly and fastai\n",
    "!pip install torch_nightly -f https://download.pytorch.org/whl/nightly/cu92/torch_nightly.html  gwpy &> /dev/null\n",
    "!pip install fastai  gwpy &> /dev/null"
   ]
  },
  {
   "cell_type": "code",
   "execution_count": 1,
   "metadata": {
    "id": "07Ay4WkPLaG3"
   },
   "outputs": [
    {
     "name": "stderr",
     "output_type": "stream",
     "text": [
      "/home/ravi/miniconda3/envs/ulmfitTest/lib/python3.10/site-packages/tqdm/auto.py:22: TqdmWarning: IProgress not found. Please update jupyter and ipywidgets. See https://ipywidgets.readthedocs.io/en/stable/user_install.html\n",
      "  from .autonotebook import tqdm as notebook_tqdm\n"
     ]
    }
   ],
   "source": [
    "# import libraries\n",
    "from fastai.text.all import *\n",
    "import pandas as pd\n",
    "import numpy as np\n",
    "from functools import partial\n",
    "import io\n",
    "import os\n",
    "from utils.utils import set_seed\n",
    "\n",
    "# import libraries\n",
    "set_seed(42)\n",
    "import time"
   ]
  },
  {
   "cell_type": "code",
   "execution_count": 2,
   "metadata": {},
   "outputs": [
    {
     "data": {
      "text/plain": [
       "'2.6.3'"
      ]
     },
     "execution_count": 2,
     "metadata": {},
     "output_type": "execute_result"
    }
   ],
   "source": [
    "import fastai\n",
    "fastai.__version__"
   ]
  },
  {
   "cell_type": "code",
   "execution_count": 3,
   "metadata": {},
   "outputs": [],
   "source": [
    "learn = load_learner(\"export.pkl\")"
   ]
  },
  {
   "cell_type": "code",
   "execution_count": 4,
   "metadata": {},
   "outputs": [
    {
     "data": {
      "text/html": [
       "\n",
       "<style>\n",
       "    /* Turns off some styling */\n",
       "    progress {\n",
       "        /* gets rid of default border in Firefox and Opera. */\n",
       "        border: none;\n",
       "        /* Needs to be in here for Safari polyfill so background images work as expected. */\n",
       "        background-size: auto;\n",
       "    }\n",
       "    .progress-bar-interrupted, .progress-bar-interrupted::-webkit-progress-bar {\n",
       "        background: #F44336;\n",
       "    }\n",
       "</style>\n"
      ],
      "text/plain": [
       "<IPython.core.display.HTML object>"
      ]
     },
     "metadata": {},
     "output_type": "display_data"
    },
    {
     "data": {
      "text/html": [],
      "text/plain": [
       "<IPython.core.display.HTML object>"
      ]
     },
     "metadata": {},
     "output_type": "display_data"
    },
    {
     "data": {
      "text/plain": [
       "('real', TensorText(1), TensorText([0.0531, 0.9469]))"
      ]
     },
     "execution_count": 4,
     "metadata": {},
     "output_type": "execute_result"
    }
   ],
   "source": [
    "learn.predict(\"Last note: Washington DC's total test count fell by ~22% presumably pulling out antibody tests.\")"
   ]
  },
  {
   "cell_type": "code",
   "execution_count": 5,
   "metadata": {},
   "outputs": [],
   "source": [
    "content = \"Last note: Washington DC's total test count fell by ~22% presumably pulling out antibody tests.\""
   ]
  },
  {
   "cell_type": "code",
   "execution_count": 6,
   "metadata": {},
   "outputs": [],
   "source": [
    "from fastinference.inference import *"
   ]
  },
  {
   "cell_type": "code",
   "execution_count": 7,
   "metadata": {},
   "outputs": [
    {
     "data": {
      "text/html": [
       "<span style=\"font-family: monospace;\"><span title=\"0.362\" style=\"background-color: rgba(253, 204, 122, 0.5);\">xxbos</span> <span title=\"0.231\" style=\"background-color: rgba(246, 129, 76, 0.5);\">xxmaj</span> <span title=\"0.675\" style=\"background-color: rgba(179, 222, 114, 0.5);\">last</span> <span title=\"0.855\" style=\"background-color: rgba(60, 168, 88, 0.5);\">note</span> <span title=\"0.351\" style=\"background-color: rgba(253, 198, 117, 0.5);\">:</span> <span title=\"0.177\" style=\"background-color: rgba(237, 94, 60, 0.5);\">xxmaj</span> <span title=\"1.000\" style=\"background-color: rgba(0, 104, 55, 0.5);\">washington</span> <span title=\"0.593\" style=\"background-color: rgba(219, 240, 143, 0.5);\">dc</span> <span title=\"0.197\" style=\"background-color: rgba(242, 106, 65, 0.5);\">&#x27;s</span> <span title=\"0.385\" style=\"background-color: rgba(253, 216, 132, 0.5);\">total</span> <span title=\"0.417\" style=\"background-color: rgba(254, 228, 147, 0.5);\">test</span> <span title=\"0.325\" style=\"background-color: rgba(253, 186, 107, 0.5);\">count</span> <span title=\"0.347\" style=\"background-color: rgba(253, 196, 115, 0.5);\">fell</span> <span title=\"0.181\" style=\"background-color: rgba(238, 97, 61, 0.5);\">by</span> <span title=\"0.164\" style=\"background-color: rgba(232, 85, 56, 0.5);\">xxunk</span> <span title=\"0.177\" style=\"background-color: rgba(237, 94, 60, 0.5);\">%</span> <span title=\"0.238\" style=\"background-color: rgba(247, 131, 77, 0.5);\">xxunk</span> <span title=\"0.284\" style=\"background-color: rgba(251, 162, 91, 0.5);\">xxunk</span> <span title=\"0.307\" style=\"background-color: rgba(253, 176, 99, 0.5);\">out</span> <span title=\"0.512\" style=\"background-color: rgba(249, 252, 183, 0.5);\">antibody</span> <span title=\"0.190\" style=\"background-color: rgba(240, 101, 63, 0.5);\">tests</span> <span title=\"0.163\" style=\"background-color: rgba(232, 85, 56, 0.5);\">.</span></span>"
      ],
      "text/plain": [
       "<IPython.core.display.HTML object>"
      ]
     },
     "metadata": {},
     "output_type": "display_data"
    }
   ],
   "source": [
    "TextLearner.intrinsic_attention(learn, text=content, class_id=1)"
   ]
  },
  {
   "cell_type": "code",
   "execution_count": 15,
   "metadata": {},
   "outputs": [
    {
     "data": {
      "text/plain": [
       "(['xxbos',\n",
       "  'xxmaj',\n",
       "  'last',\n",
       "  'note',\n",
       "  ':',\n",
       "  'xxmaj',\n",
       "  'washington',\n",
       "  'dc',\n",
       "  \"'s\",\n",
       "  'total',\n",
       "  'test',\n",
       "  'count',\n",
       "  'fell',\n",
       "  'by',\n",
       "  'xxunk',\n",
       "  '%',\n",
       "  'xxunk',\n",
       "  'xxunk',\n",
       "  'out',\n",
       "  'antibody',\n",
       "  'tests',\n",
       "  '.'],\n",
       " array([0.3622098 , 0.23136364, 0.67542654, 0.85542256, 0.35059598,\n",
       "        0.17708938, 1.        , 0.5931076 , 0.1971532 , 0.3845023 ,\n",
       "        0.4173534 , 0.3254205 , 0.3472575 , 0.18141446, 0.16377397,\n",
       "        0.17653967, 0.2377801 , 0.2840181 , 0.30709073, 0.51204854,\n",
       "        0.19003858, 0.16259025], dtype=float32))"
      ]
     },
     "execution_count": 15,
     "metadata": {},
     "output_type": "execute_result"
    }
   ],
   "source": [
    "TextLearner.intrinsic_attentionNEW(learn, text=content)"
   ]
  },
  {
   "cell_type": "code",
   "execution_count": 8,
   "metadata": {},
   "outputs": [
    {
     "ename": "ZeroDivisionError",
     "evalue": "integer division or modulo by zero",
     "output_type": "error",
     "traceback": [
      "\u001b[0;31m---------------------------------------------------------------------------\u001b[0m",
      "\u001b[0;31mZeroDivisionError\u001b[0m                         Traceback (most recent call last)",
      "Input \u001b[0;32mIn [8]\u001b[0m, in \u001b[0;36m<cell line: 1>\u001b[0;34m()\u001b[0m\n\u001b[0;32m----> 1\u001b[0m \u001b[43mlearn\u001b[49m\u001b[38;5;241;43m.\u001b[39;49m\u001b[43mlr_find\u001b[49m\u001b[43m(\u001b[49m\u001b[43m)\u001b[49m\n\u001b[1;32m      2\u001b[0m learn\u001b[38;5;241m.\u001b[39mrecorder\u001b[38;5;241m.\u001b[39mplot(suggestion\u001b[38;5;241m=\u001b[39m\u001b[38;5;28;01mTrue\u001b[39;00m)\n",
      "File \u001b[0;32m~/miniconda3/envs/ulmfitTest/lib/python3.10/site-packages/fastai/callback/schedule.py:287\u001b[0m, in \u001b[0;36mlr_find\u001b[0;34m(self, start_lr, end_lr, num_it, stop_div, show_plot, suggest_funcs)\u001b[0m\n\u001b[1;32m    284\u001b[0m \u001b[38;5;129m@patch\u001b[39m\n\u001b[1;32m    285\u001b[0m \u001b[38;5;28;01mdef\u001b[39;00m \u001b[38;5;21mlr_find\u001b[39m(\u001b[38;5;28mself\u001b[39m:Learner, start_lr\u001b[38;5;241m=\u001b[39m\u001b[38;5;241m1e-7\u001b[39m, end_lr\u001b[38;5;241m=\u001b[39m\u001b[38;5;241m10\u001b[39m, num_it\u001b[38;5;241m=\u001b[39m\u001b[38;5;241m100\u001b[39m, stop_div\u001b[38;5;241m=\u001b[39m\u001b[38;5;28;01mTrue\u001b[39;00m, show_plot\u001b[38;5;241m=\u001b[39m\u001b[38;5;28;01mTrue\u001b[39;00m, suggest_funcs\u001b[38;5;241m=\u001b[39m(SuggestionMethod\u001b[38;5;241m.\u001b[39mValley)):\n\u001b[1;32m    286\u001b[0m     \u001b[38;5;124m\"\u001b[39m\u001b[38;5;124mLaunch a mock training to find a good learning rate and return suggestions based on `suggest_funcs` as a named tuple\u001b[39m\u001b[38;5;124m\"\u001b[39m\n\u001b[0;32m--> 287\u001b[0m     n_epoch \u001b[38;5;241m=\u001b[39m \u001b[43mnum_it\u001b[49m\u001b[38;5;241;43m/\u001b[39;49m\u001b[38;5;241;43m/\u001b[39;49m\u001b[38;5;28;43mlen\u001b[39;49m\u001b[43m(\u001b[49m\u001b[38;5;28;43mself\u001b[39;49m\u001b[38;5;241;43m.\u001b[39;49m\u001b[43mdls\u001b[49m\u001b[38;5;241;43m.\u001b[39;49m\u001b[43mtrain\u001b[49m\u001b[43m)\u001b[49m \u001b[38;5;241m+\u001b[39m \u001b[38;5;241m1\u001b[39m\n\u001b[1;32m    288\u001b[0m     cb\u001b[38;5;241m=\u001b[39mLRFinder(start_lr\u001b[38;5;241m=\u001b[39mstart_lr, end_lr\u001b[38;5;241m=\u001b[39mend_lr, num_it\u001b[38;5;241m=\u001b[39mnum_it, stop_div\u001b[38;5;241m=\u001b[39mstop_div)\n\u001b[1;32m    289\u001b[0m     \u001b[38;5;28;01mwith\u001b[39;00m \u001b[38;5;28mself\u001b[39m\u001b[38;5;241m.\u001b[39mno_logging(): \u001b[38;5;28mself\u001b[39m\u001b[38;5;241m.\u001b[39mfit(n_epoch, cbs\u001b[38;5;241m=\u001b[39mcb)\n",
      "\u001b[0;31mZeroDivisionError\u001b[0m: integer division or modulo by zero"
     ]
    }
   ],
   "source": [
    "learn.lr_find()\n",
    "learn.recorder.plot(suggestion=True)\n",
    "# min_grad_lr = learn.recorder.min_grad_lr"
   ]
  },
  {
   "cell_type": "code",
   "execution_count": null,
   "metadata": {},
   "outputs": [],
   "source": []
  }
 ],
 "metadata": {
  "colab": {
   "collapsed_sections": [],
   "name": "ULMFITTrainer.ipynb",
   "provenance": []
  },
  "kernelspec": {
   "display_name": "Python 3 (ipykernel)",
   "language": "python",
   "name": "python3"
  },
  "language_info": {
   "codemirror_mode": {
    "name": "ipython",
    "version": 3
   },
   "file_extension": ".py",
   "mimetype": "text/x-python",
   "name": "python",
   "nbconvert_exporter": "python",
   "pygments_lexer": "ipython3",
   "version": "3.11.3"
  }
 },
 "nbformat": 4,
 "nbformat_minor": 4
}
