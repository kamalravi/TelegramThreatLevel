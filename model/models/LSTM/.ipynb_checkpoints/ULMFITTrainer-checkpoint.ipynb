{
 "cells": [
  {
   "cell_type": "markdown",
   "metadata": {
    "id": "7BLx69FmLXkO",
    "tags": []
   },
   "source": [
    "# ULMFit"
   ]
  },
  {
   "cell_type": "code",
   "execution_count": 3,
   "metadata": {},
   "outputs": [
    {
     "ename": "ModuleNotFoundError",
     "evalue": "No module named 'logs'",
     "output_type": "error",
     "traceback": [
      "\u001b[0;31m---------------------------------------------------------------------------\u001b[0m",
      "\u001b[0;31mModuleNotFoundError\u001b[0m                       Traceback (most recent call last)",
      "Input \u001b[0;32mIn [3]\u001b[0m, in \u001b[0;36m<cell line: 12>\u001b[0;34m()\u001b[0m\n\u001b[1;32m      9\u001b[0m \u001b[38;5;28;01mimport\u001b[39;00m \u001b[38;5;21;01mtime\u001b[39;00m\n\u001b[1;32m     11\u001b[0m \u001b[38;5;66;03m# custom built functions\u001b[39;00m\n\u001b[0;32m---> 12\u001b[0m \u001b[38;5;28;01mfrom\u001b[39;00m \u001b[38;5;21;01mlogs\u001b[39;00m\u001b[38;5;21;01m.\u001b[39;00m\u001b[38;5;21;01mget_logs\u001b[39;00m \u001b[38;5;28;01mimport\u001b[39;00m logger\n\u001b[1;32m     13\u001b[0m \u001b[38;5;28;01mfrom\u001b[39;00m \u001b[38;5;21;01mdataPrep\u001b[39;00m\u001b[38;5;21;01m.\u001b[39;00m\u001b[38;5;21;01mget_data_fold\u001b[39;00m \u001b[38;5;28;01mimport\u001b[39;00m data_module\n",
      "\u001b[0;31mModuleNotFoundError\u001b[0m: No module named 'logs'"
     ]
    }
   ],
   "source": [
    "# warnings\n",
    "from warnings import simplefilter\n",
    "simplefilter(\"ignore\", category=FutureWarning)\n",
    "simplefilter(\"ignore\", category=DeprecationWarning)\n",
    "\n",
    "# import libraries\n",
    "import random\n",
    "random.seed(42)\n",
    "import time\n",
    "\n",
    "# custom built functions\n",
    "from logs.get_logs import logger\n",
    "from dataPrep.get_data_fold import data_module"
   ]
  },
  {
   "cell_type": "code",
   "execution_count": 2,
   "metadata": {
    "id": "07Ay4WkPLaG3"
   },
   "outputs": [
    {
     "name": "stderr",
     "output_type": "stream",
     "text": [
      "/home/ravi/miniconda3/envs/ulmfitTest/lib/python3.10/site-packages/tqdm/auto.py:22: TqdmWarning: IProgress not found. Please update jupyter and ipywidgets. See https://ipywidgets.readthedocs.io/en/stable/user_install.html\n",
      "  from .autonotebook import tqdm as notebook_tqdm\n"
     ]
    }
   ],
   "source": [
    "# import libraries\n",
    "from fastai.text.all import *\n",
    "import pandas as pd\n",
    "import numpy as np\n",
    "from functools import partial\n",
    "import io\n",
    "import os"
   ]
  },
  {
   "cell_type": "code",
   "execution_count": 2,
   "metadata": {},
   "outputs": [
    {
     "data": {
      "text/plain": [
       "'2.6.3'"
      ]
     },
     "execution_count": 2,
     "metadata": {},
     "output_type": "execute_result"
    }
   ],
   "source": [
    "import fastai\n",
    "fastai.__version__"
   ]
  },
  {
   "cell_type": "markdown",
   "metadata": {},
   "source": [
    "# KFold and Data"
   ]
  },
  {
   "cell_type": "code",
   "execution_count": null,
   "metadata": {},
   "outputs": [],
   "source": [
    "# Choose model\n",
    "model_select = \"ULMFit\" # Options: \"SVM_MODEL\", \"LSTM_MODEL\", \"TRANSFORMER_MODEL\"\n",
    "\n",
    "# Choose K in KFold\n",
    "KFold = 1 # Options: 1, 2, 3, 4, 5\n",
    "\n",
    "# logger\n",
    "task = \"ULMFit_GridSearchCV\"\n",
    "taskName = model_select + task + \"_KFold\" + str(KFold)\n",
    "logger = logger(taskName=taskName)\n",
    "logger.info(\"=============== New execution ====================\")\n",
    "execution_st = time.time()\n",
    "\n",
    "# inputs\n",
    "logger.info(\"Get inputs values\")\n",
    "root_dir = '/home/ravi/PROJECTS_DATA/DataModelsResults/'\n",
    "data_file = 'lib_con_22554articles_n_label_shuffled.json'\n",
    "\n",
    "## Load data. Get K-Fold data. Save 5 fold indices (80% train, 20% test)\n",
    "all_train_data, test_data = data_module(logger, data_file, KFold, root_dir)\n",
    "\n",
    "### ULMFit\n",
    "logger.info(\"=========== Data loading ===========\")"
   ]
  },
  {
   "cell_type": "code",
   "execution_count": 3,
   "metadata": {
    "id": "oyDS7FdYLyLG"
   },
   "outputs": [],
   "source": [
    "path = root_dir+'/Results/ULMFit/'\n",
    "dfTrain = all_train_data.copy()\n",
    "dfValidation = dfTrain.sample(frac=0.2, random_state=42)"
   ]
  },
  {
   "cell_type": "code",
   "execution_count": 4,
   "metadata": {
    "colab": {
     "base_uri": "https://localhost:8080/",
     "height": 194
    },
    "id": "64ssbgZZMFzR",
    "outputId": "85119e54-c209-4573-8aa9-a7e9ec7068c5"
   },
   "outputs": [
    {
     "data": {
      "text/html": [
       "<div>\n",
       "<style scoped>\n",
       "    .dataframe tbody tr th:only-of-type {\n",
       "        vertical-align: middle;\n",
       "    }\n",
       "\n",
       "    .dataframe tbody tr th {\n",
       "        vertical-align: top;\n",
       "    }\n",
       "\n",
       "    .dataframe thead th {\n",
       "        text-align: right;\n",
       "    }\n",
       "</style>\n",
       "<table border=\"1\" class=\"dataframe\">\n",
       "  <thead>\n",
       "    <tr style=\"text-align: right;\">\n",
       "      <th></th>\n",
       "      <th>label</th>\n",
       "      <th>tweet</th>\n",
       "    </tr>\n",
       "  </thead>\n",
       "  <tbody>\n",
       "    <tr>\n",
       "      <th>0</th>\n",
       "      <td>real</td>\n",
       "      <td>The CDC currently reports 99031 deaths. In general the discrepancies in death counts between different sources are small and explicable. The death toll stands at roughly 100000 people today.</td>\n",
       "    </tr>\n",
       "    <tr>\n",
       "      <th>1</th>\n",
       "      <td>real</td>\n",
       "      <td>States reported 1121 deaths a small rise from last Tuesday. Southern states reported 640 of those deaths. https://t.co/YASGRTT4ux</td>\n",
       "    </tr>\n",
       "    <tr>\n",
       "      <th>2</th>\n",
       "      <td>fake</td>\n",
       "      <td>Politically Correct Woman (Almost) Uses Pandemic as Excuse Not to Reuse Plastic Bag https://t.co/thF8GuNFPe #coronavirus #nashville</td>\n",
       "    </tr>\n",
       "    <tr>\n",
       "      <th>3</th>\n",
       "      <td>real</td>\n",
       "      <td>#IndiaFightsCorona: We have 1524 #COVID testing laboratories in India and as on 25th August 2020 36827520 tests have been done : @ProfBhargava DG @ICMRDELHI #StaySafe #IndiaWillWin https://t.co/Yh3ZxknnhZ</td>\n",
       "    </tr>\n",
       "    <tr>\n",
       "      <th>4</th>\n",
       "      <td>real</td>\n",
       "      <td>Populous states can generate large case counts but if you look at the new cases per million today 9 smaller states are showing more cases per million than California or Texas: AL AR ID KS KY LA MS NV and SC. https://t.co/1pYW6cWRaS</td>\n",
       "    </tr>\n",
       "  </tbody>\n",
       "</table>\n",
       "</div>"
      ],
      "text/plain": [
       "  label  \\\n",
       "0  real   \n",
       "1  real   \n",
       "2  fake   \n",
       "3  real   \n",
       "4  real   \n",
       "\n",
       "                                                                                                                                                                                                                                     tweet  \n",
       "0                                           The CDC currently reports 99031 deaths. In general the discrepancies in death counts between different sources are small and explicable. The death toll stands at roughly 100000 people today.  \n",
       "1                                                                                                        States reported 1121 deaths a small rise from last Tuesday. Southern states reported 640 of those deaths. https://t.co/YASGRTT4ux  \n",
       "2                                                                                                      Politically Correct Woman (Almost) Uses Pandemic as Excuse Not to Reuse Plastic Bag https://t.co/thF8GuNFPe #coronavirus #nashville  \n",
       "3                             #IndiaFightsCorona: We have 1524 #COVID testing laboratories in India and as on 25th August 2020 36827520 tests have been done : @ProfBhargava DG @ICMRDELHI #StaySafe #IndiaWillWin https://t.co/Yh3ZxknnhZ  \n",
       "4  Populous states can generate large case counts but if you look at the new cases per million today 9 smaller states are showing more cases per million than California or Texas: AL AR ID KS KY LA MS NV and SC. https://t.co/1pYW6cWRaS  "
      ]
     },
     "execution_count": 4,
     "metadata": {},
     "output_type": "execute_result"
    }
   ],
   "source": [
    "dfTrain = dfTrain.drop(columns=['id'])\n",
    "dfTrain = dfTrain[[\"label\", \"tweet\"]]\n",
    "dfTrain.head()"
   ]
  },
  {
   "cell_type": "code",
   "execution_count": 5,
   "metadata": {
    "colab": {
     "base_uri": "https://localhost:8080/",
     "height": 194
    },
    "id": "dAXXXUrmMIQP",
    "outputId": "6f0ca920-950d-4021-cedf-2add5a151418"
   },
   "outputs": [
    {
     "data": {
      "text/html": [
       "<div>\n",
       "<style scoped>\n",
       "    .dataframe tbody tr th:only-of-type {\n",
       "        vertical-align: middle;\n",
       "    }\n",
       "\n",
       "    .dataframe tbody tr th {\n",
       "        vertical-align: top;\n",
       "    }\n",
       "\n",
       "    .dataframe thead th {\n",
       "        text-align: right;\n",
       "    }\n",
       "</style>\n",
       "<table border=\"1\" class=\"dataframe\">\n",
       "  <thead>\n",
       "    <tr style=\"text-align: right;\">\n",
       "      <th></th>\n",
       "      <th>label</th>\n",
       "      <th>tweet</th>\n",
       "    </tr>\n",
       "  </thead>\n",
       "  <tbody>\n",
       "    <tr>\n",
       "      <th>324</th>\n",
       "      <td>fake</td>\n",
       "      <td>Canada’s top BDSM doctor says wear a mask, leash, tight leather to prevent spread of COVID-19 #cdnpoli #COVID19 https://t.co/1E7yDlIGBD https://t.co/bffEps28Iy</td>\n",
       "    </tr>\n",
       "    <tr>\n",
       "      <th>1340</th>\n",
       "      <td>real</td>\n",
       "      <td>There are 3 cases considered to have recovered from COVID-19 so our total number of active cases is 23 – all remain in quarantine facilities.​ ​ Our total number of confirmed cases remains at 1192 which is the number we report to the World Health Organization.</td>\n",
       "    </tr>\n",
       "    <tr>\n",
       "      <th>6025</th>\n",
       "      <td>real</td>\n",
       "      <td>Heard about contact tracing but not sure what it is? It’s used by health departments to prevent the spread of #COVID19. Learn more: https://t.co/J3Txu3riWr. #SlowtheSpread https://t.co/3f8aEQCTuI</td>\n",
       "    </tr>\n",
       "    <tr>\n",
       "      <th>2077</th>\n",
       "      <td>fake</td>\n",
       "      <td>India records its highest single-day increase of over 16000 new infections. Only patients who do not have adequate home isolation facility will be transferred to COVID-19 care centres said Delhi Lieutenant Governor Anil Baijal. #COVID19 #CoronavirusFacts https://t.co/9YuXZrePLF</td>\n",
       "    </tr>\n",
       "    <tr>\n",
       "      <th>381</th>\n",
       "      <td>real</td>\n",
       "      <td>Researchers warned of a ticking coronavirus time bomb in 2007. 💣 https://t.co/8V4flWNSKr via @undark</td>\n",
       "    </tr>\n",
       "  </tbody>\n",
       "</table>\n",
       "</div>"
      ],
      "text/plain": [
       "     label  \\\n",
       "324   fake   \n",
       "1340  real   \n",
       "6025  real   \n",
       "2077  fake   \n",
       "381   real   \n",
       "\n",
       "                                                                                                                                                                                                                                                                                       tweet  \n",
       "324                                                                                                                          Canada’s top BDSM doctor says wear a mask, leash, tight leather to prevent spread of COVID-19 #cdnpoli #COVID19 https://t.co/1E7yDlIGBD https://t.co/bffEps28Iy  \n",
       "1340                    There are 3 cases considered to have recovered from COVID-19 so our total number of active cases is 23 – all remain in quarantine facilities.​ ​ Our total number of confirmed cases remains at 1192 which is the number we report to the World Health Organization.  \n",
       "6025                                                                                     Heard about contact tracing but not sure what it is? It’s used by health departments to prevent the spread of #COVID19. Learn more: https://t.co/J3Txu3riWr. #SlowtheSpread https://t.co/3f8aEQCTuI  \n",
       "2077  India records its highest single-day increase of over 16000 new infections. Only patients who do not have adequate home isolation facility will be transferred to COVID-19 care centres said Delhi Lieutenant Governor Anil Baijal. #COVID19 #CoronavirusFacts https://t.co/9YuXZrePLF  \n",
       "381                                                                                                                                                                                     Researchers warned of a ticking coronavirus time bomb in 2007. 💣 https://t.co/8V4flWNSKr via @undark  "
      ]
     },
     "execution_count": 5,
     "metadata": {},
     "output_type": "execute_result"
    }
   ],
   "source": [
    "dfValidation = dfValidation.drop(columns=['id'])\n",
    "dfValidation = dfValidation[[\"label\", \"tweet\"]]\n",
    "dfValidation.head()"
   ]
  },
  {
   "cell_type": "code",
   "execution_count": 6,
   "metadata": {},
   "outputs": [
    {
     "name": "stdout",
     "output_type": "stream",
     "text": [
      "6420 7420\n"
     ]
    },
    {
     "name": "stderr",
     "output_type": "stream",
     "text": [
      "/tmp/ipykernel_379588/3045231588.py:3: FutureWarning: The frame.append method is deprecated and will be removed from pandas in a future version. Use pandas.concat instead.\n",
      "  data_df = dfTrain.append(dfValidation, ignore_index=True)\n"
     ]
    }
   ],
   "source": [
    "dfTrain[\"is_valid\"]=0\n",
    "dfValidation[\"is_valid\"]=1\n",
    "data_df = dfTrain.append(dfValidation, ignore_index=True)\n",
    "print(len(dfTrain),len(data_df))"
   ]
  },
  {
   "cell_type": "code",
   "execution_count": 7,
   "metadata": {},
   "outputs": [
    {
     "data": {
      "text/html": [
       "\n",
       "<style>\n",
       "    /* Turns off some styling */\n",
       "    progress {\n",
       "        /* gets rid of default border in Firefox and Opera. */\n",
       "        border: none;\n",
       "        /* Needs to be in here for Safari polyfill so background images work as expected. */\n",
       "        background-size: auto;\n",
       "    }\n",
       "    .progress-bar-interrupted, .progress-bar-interrupted::-webkit-progress-bar {\n",
       "        background: #F44336;\n",
       "    }\n",
       "</style>\n"
      ],
      "text/plain": [
       "<IPython.core.display.HTML object>"
      ]
     },
     "metadata": {},
     "output_type": "display_data"
    },
    {
     "data": {
      "text/html": [],
      "text/plain": [
       "<IPython.core.display.HTML object>"
      ]
     },
     "metadata": {},
     "output_type": "display_data"
    }
   ],
   "source": [
    "data_lm = TextDataLoaders.from_df(data_df, text_col='tweet', label_col='label', \n",
    "                                  valid_col='is_valid', is_lm=True, path=path, bs=1)"
   ]
  },
  {
   "cell_type": "code",
   "execution_count": 8,
   "metadata": {},
   "outputs": [
    {
     "name": "stderr",
     "output_type": "stream",
     "text": [
      "/home/ravi/miniconda3/envs/ulmfitTest/lib/python3.10/site-packages/fastai/torch_core.py:476: FutureWarning: The series.append method is deprecated and will be removed from pandas in a future version. Use pandas.concat instead.\n",
      "  ax = ax.append(pd.Series({label: o}))\n",
      "/home/ravi/miniconda3/envs/ulmfitTest/lib/python3.10/site-packages/fastai/torch_core.py:476: FutureWarning: The series.append method is deprecated and will be removed from pandas in a future version. Use pandas.concat instead.\n",
      "  ax = ax.append(pd.Series({label: o}))\n"
     ]
    },
    {
     "data": {
      "text/html": [
       "<table border=\"1\" class=\"dataframe\">\n",
       "  <thead>\n",
       "    <tr style=\"text-align: right;\">\n",
       "      <th></th>\n",
       "      <th>text</th>\n",
       "      <th>text_</th>\n",
       "    </tr>\n",
       "  </thead>\n",
       "  <tbody>\n",
       "    <tr>\n",
       "      <th>0</th>\n",
       "      <td>xxbos xxmaj delhi recovery rate on the xxunk of touching 90 % … this xxunk a xxunk picture with respect to where we stood at the beginning of last month xxrep 3 ! xxmaj xxunk sight for every xxmaj xxunk # coronavirus # xxup covid__19 @arvindkejriwal @aamaadmiparty xxbos xxmaj as a result and as per protocols for testing of close contacts within the managed facilities this woman was retested on day 6</td>\n",
       "      <td>xxmaj delhi recovery rate on the xxunk of touching 90 % … this xxunk a xxunk picture with respect to where we stood at the beginning of last month xxrep 3 ! xxmaj xxunk sight for every xxmaj xxunk # coronavirus # xxup covid__19 @arvindkejriwal @aamaadmiparty xxbos xxmaj as a result and as per protocols for testing of close contacts within the managed facilities this woman was retested on day 6 and</td>\n",
       "    </tr>\n",
       "  </tbody>\n",
       "</table>"
      ],
      "text/plain": [
       "<IPython.core.display.HTML object>"
      ]
     },
     "metadata": {},
     "output_type": "display_data"
    }
   ],
   "source": [
    "data_lm.show_batch()"
   ]
  },
  {
   "cell_type": "code",
   "execution_count": 9,
   "metadata": {},
   "outputs": [
    {
     "data": {
      "text/html": [
       "\n",
       "<style>\n",
       "    /* Turns off some styling */\n",
       "    progress {\n",
       "        /* gets rid of default border in Firefox and Opera. */\n",
       "        border: none;\n",
       "        /* Needs to be in here for Safari polyfill so background images work as expected. */\n",
       "        background-size: auto;\n",
       "    }\n",
       "    .progress-bar-interrupted, .progress-bar-interrupted::-webkit-progress-bar {\n",
       "        background: #F44336;\n",
       "    }\n",
       "</style>\n"
      ],
      "text/plain": [
       "<IPython.core.display.HTML object>"
      ]
     },
     "metadata": {},
     "output_type": "display_data"
    },
    {
     "data": {
      "text/html": [],
      "text/plain": [
       "<IPython.core.display.HTML object>"
      ]
     },
     "metadata": {},
     "output_type": "display_data"
    }
   ],
   "source": [
    "data_clas = TextDataLoaders.from_df(data_df, text_col='tweet', \n",
    "                                    label_col='label', valid_col='is_valid', \n",
    "                                    text_vocab=data_lm.train_ds.vocab, bs=32,\n",
    "                                   path=path)"
   ]
  },
  {
   "cell_type": "code",
   "execution_count": 10,
   "metadata": {
    "colab": {
     "base_uri": "https://localhost:8080/",
     "height": 278
    },
    "id": "nPvir7L1LyEH",
    "outputId": "15ed619b-0419-4aa9-c835-2ba6530cbca8"
   },
   "outputs": [
    {
     "name": "stderr",
     "output_type": "stream",
     "text": [
      "/home/ravi/miniconda3/envs/ulmfitTest/lib/python3.10/site-packages/fastai/torch_core.py:476: FutureWarning: The series.append method is deprecated and will be removed from pandas in a future version. Use pandas.concat instead.\n",
      "  ax = ax.append(pd.Series({label: o}))\n",
      "/home/ravi/miniconda3/envs/ulmfitTest/lib/python3.10/site-packages/fastai/torch_core.py:476: FutureWarning: The series.append method is deprecated and will be removed from pandas in a future version. Use pandas.concat instead.\n",
      "  ax = ax.append(pd.Series({label: o}))\n",
      "/home/ravi/miniconda3/envs/ulmfitTest/lib/python3.10/site-packages/fastai/torch_core.py:476: FutureWarning: The series.append method is deprecated and will be removed from pandas in a future version. Use pandas.concat instead.\n",
      "  ax = ax.append(pd.Series({label: o}))\n",
      "/home/ravi/miniconda3/envs/ulmfitTest/lib/python3.10/site-packages/fastai/torch_core.py:476: FutureWarning: The series.append method is deprecated and will be removed from pandas in a future version. Use pandas.concat instead.\n",
      "  ax = ax.append(pd.Series({label: o}))\n",
      "/home/ravi/miniconda3/envs/ulmfitTest/lib/python3.10/site-packages/fastai/torch_core.py:476: FutureWarning: The series.append method is deprecated and will be removed from pandas in a future version. Use pandas.concat instead.\n",
      "  ax = ax.append(pd.Series({label: o}))\n",
      "/home/ravi/miniconda3/envs/ulmfitTest/lib/python3.10/site-packages/fastai/torch_core.py:476: FutureWarning: The series.append method is deprecated and will be removed from pandas in a future version. Use pandas.concat instead.\n",
      "  ax = ax.append(pd.Series({label: o}))\n",
      "/home/ravi/miniconda3/envs/ulmfitTest/lib/python3.10/site-packages/fastai/torch_core.py:476: FutureWarning: The series.append method is deprecated and will be removed from pandas in a future version. Use pandas.concat instead.\n",
      "  ax = ax.append(pd.Series({label: o}))\n",
      "/home/ravi/miniconda3/envs/ulmfitTest/lib/python3.10/site-packages/fastai/torch_core.py:476: FutureWarning: The series.append method is deprecated and will be removed from pandas in a future version. Use pandas.concat instead.\n",
      "  ax = ax.append(pd.Series({label: o}))\n",
      "/home/ravi/miniconda3/envs/ulmfitTest/lib/python3.10/site-packages/fastai/torch_core.py:476: FutureWarning: The series.append method is deprecated and will be removed from pandas in a future version. Use pandas.concat instead.\n",
      "  ax = ax.append(pd.Series({label: o}))\n",
      "/home/ravi/miniconda3/envs/ulmfitTest/lib/python3.10/site-packages/fastai/torch_core.py:476: FutureWarning: The series.append method is deprecated and will be removed from pandas in a future version. Use pandas.concat instead.\n",
      "  ax = ax.append(pd.Series({label: o}))\n",
      "/home/ravi/miniconda3/envs/ulmfitTest/lib/python3.10/site-packages/fastai/torch_core.py:476: FutureWarning: The series.append method is deprecated and will be removed from pandas in a future version. Use pandas.concat instead.\n",
      "  ax = ax.append(pd.Series({label: o}))\n",
      "/home/ravi/miniconda3/envs/ulmfitTest/lib/python3.10/site-packages/fastai/torch_core.py:476: FutureWarning: The series.append method is deprecated and will be removed from pandas in a future version. Use pandas.concat instead.\n",
      "  ax = ax.append(pd.Series({label: o}))\n",
      "/home/ravi/miniconda3/envs/ulmfitTest/lib/python3.10/site-packages/fastai/torch_core.py:476: FutureWarning: The series.append method is deprecated and will be removed from pandas in a future version. Use pandas.concat instead.\n",
      "  ax = ax.append(pd.Series({label: o}))\n",
      "/home/ravi/miniconda3/envs/ulmfitTest/lib/python3.10/site-packages/fastai/torch_core.py:476: FutureWarning: The series.append method is deprecated and will be removed from pandas in a future version. Use pandas.concat instead.\n",
      "  ax = ax.append(pd.Series({label: o}))\n",
      "/home/ravi/miniconda3/envs/ulmfitTest/lib/python3.10/site-packages/fastai/torch_core.py:476: FutureWarning: The series.append method is deprecated and will be removed from pandas in a future version. Use pandas.concat instead.\n",
      "  ax = ax.append(pd.Series({label: o}))\n",
      "/home/ravi/miniconda3/envs/ulmfitTest/lib/python3.10/site-packages/fastai/torch_core.py:476: FutureWarning: The series.append method is deprecated and will be removed from pandas in a future version. Use pandas.concat instead.\n",
      "  ax = ax.append(pd.Series({label: o}))\n",
      "/home/ravi/miniconda3/envs/ulmfitTest/lib/python3.10/site-packages/fastai/torch_core.py:476: FutureWarning: The series.append method is deprecated and will be removed from pandas in a future version. Use pandas.concat instead.\n",
      "  ax = ax.append(pd.Series({label: o}))\n",
      "/home/ravi/miniconda3/envs/ulmfitTest/lib/python3.10/site-packages/fastai/torch_core.py:476: FutureWarning: The series.append method is deprecated and will be removed from pandas in a future version. Use pandas.concat instead.\n",
      "  ax = ax.append(pd.Series({label: o}))\n"
     ]
    },
    {
     "data": {
      "text/html": [
       "<table border=\"1\" class=\"dataframe\">\n",
       "  <thead>\n",
       "    <tr style=\"text-align: right;\">\n",
       "      <th></th>\n",
       "      <th>text</th>\n",
       "      <th>category</th>\n",
       "    </tr>\n",
       "  </thead>\n",
       "  <tbody>\n",
       "    <tr>\n",
       "      <th>0</th>\n",
       "      <td>xxbos xxmaj xxunk \" xxmaj xxunk made in xxup us is the only medicine that can completely cure xxup covid-19 . \\n xxmaj egyptian xxmaj health xxmaj minister arrive in xxmaj italy with secret coronavirus cure . \\n▁ xxmaj dr xxmaj charles xxmaj lieber a xxmaj harvard professor has been arrested in the xxup usa for manufacturing the coronavirus and selling it to xxmaj china . a video news report from xxup xxunk a xxup tv station in xxmaj xxunk xxmaj massachusetts is shared with the xxmaj facebook post . \\n xxmaj mountain xxmaj xxunk in xxmaj xxunk was xxunk in three xxunk of xxmaj indian flag as a xxunk of gratitude to xxmaj india for sending xxmaj hydroxychloroquine . \\n al - xxunk xxmaj xxunk said he is considering xxunk on xxmaj xxunk fasting as the research says that the mouth must be kept wet to prevent xxup covid-19</td>\n",
       "      <td>fake</td>\n",
       "    </tr>\n",
       "    <tr>\n",
       "      <th>1</th>\n",
       "      <td>xxbos xxup covid-19 , xxmaj take one minute and read . xxmaj be understanding xxrep 3 ! a xxmaj japanese doctor offers xxunk advise on preventing xxup covid-19 . xxmaj new coronavirus may not show symptoms for several days ( 14 - 27 days ) . xxmaj how can one know if the person is infected ? xxmaj by the time he has a fever and / or a cough and goes to the lung hospital , the patient may have 50 % fibrosis , and then it is too late . xxmaj xxunk experts provide simple self - monitoring that we can do every morning : xxmaj take a deep breath and hold your breath for more than 10 seconds . xxmaj if you can do this successfully without coughing and without difficulty , without anxiety or xxunk xxunk , it shows you do not have fibrosis and generally</td>\n",
       "      <td>fake</td>\n",
       "    </tr>\n",
       "    <tr>\n",
       "      <th>2</th>\n",
       "      <td>xxbos xxmaj mumbai &amp; xxmaj pune .. \\n xxmaj please xxmaj note .. \\n xxmaj entire xxmaj mumbai and xxmaj pune might be xxmaj under xxmaj strict xxmaj military xxmaj lockdown for 10 xxmaj days starts from xxmaj sunday from 31st xxmaj may immediately xxunk xxmaj lockdown 4 . \\n xxmaj so xxmaj please xxmaj stock everything especially xxmaj groceries &amp; xxmaj vegetables . \\n xxmaj cities can be xxmaj xxunk over to xxmaj military . xxmaj only xxmaj milk and xxmaj medicines will be allowed . \\n xxmaj please xxmaj inform all your xxmaj mumbai xxmaj pune xxmaj friends . \\n xxmaj central xxmaj govt . xxmaj meetings are going on and xxmaj total xxmaj shut down of xxmaj mumbai is xxmaj expected to be xxmaj announced xxmaj xxunk .</td>\n",
       "      <td>fake</td>\n",
       "    </tr>\n",
       "    <tr>\n",
       "      <th>3</th>\n",
       "      <td>xxbos xxunk xxunk xxunk xxunk xxunk xxunk xxunk xxrep 3 0 xxunk xxunk xxunk xxunk xxunk xxunk xxunk xxunk xxrep 3 g x xxunk xxunk xxunk xxunk xxunk xxunk xxunk xxunk xxunk xxunk xxunk xxunk xxunk xxunk xxunk xxunk xxunk xxrep 3 3 6 xxunk xxunk xxunk xxunk xxunk xxunk xxunk xxunk xxunk xxunk xxunk xxunk xxunk xxunk xxunk xxunk xxunk xxunk xxmaj covid depends on severity as does flu both can kill , xxunk is n't going to kill you \\n xxmaj i 've had xxunk very bad before when younger not so xxunk though , i do take basic tablets / antihistamines when xxunk is high so it xxunk cause xxunk really .</td>\n",
       "      <td>fake</td>\n",
       "    </tr>\n",
       "    <tr>\n",
       "      <th>4</th>\n",
       "      <td>xxbos xxmaj says xxmaj sarah xxmaj xxunk xxmaj sanders tweeted , xxrep 3 ? xxmaj it xxrep 3 ? s xxrep 3 ? odd xxrep 3 ? that the xxup xxunk xxunk happened just as xxup covid-19 loses steam xxmaj it xxrep 3 ? s xxrep 3 ? odd xxrep 3 ? that xxup covid-19 happened the moment impeachment failed . xxmaj it xxrep 3 ? s xxrep 3 ? odd xxrep 3 ? that impeachment happened the moment xxmaj russian hoax failed . xxmaj the xxmaj russian hoax happened because xxmaj hillary lost ? xxmaj notice the pattern xxrep 3 ? �</td>\n",
       "      <td>fake</td>\n",
       "    </tr>\n",
       "    <tr>\n",
       "      <th>5</th>\n",
       "      <td>xxbos 238 new cases of # xxup covid19 ; 92 - kano 36 - fct 30 - lagos 16 - gombe 10 - bauchi 8 - delta 6 - oyo 5 - zamfara 5 - sokoto 4 - ondo 4 - nasarawa 3 - kwara 3 - edo 3 - ekiti 3 - borno 3 - yobe 2 - adamawa 1 - niger 1 - imo 1 - ebonyi 1 - rivers 1 - enugu xxunk confirmed cases of # xxup covid19 in xxmaj nigeria xxmaj discharged : xxunk xxmaj deaths : 68 https : / / t.co / xxunk</td>\n",
       "      <td>real</td>\n",
       "    </tr>\n",
       "    <tr>\n",
       "      <th>6</th>\n",
       "      <td>xxbos xxup first xxup city xxup in xxup the xxup world xxup xxunk xxup covid-19 xxup with xxup chlorine xxup dioxide . xxup mayor xxup of xxup xxunk xxup city xxup san xxup xxunk , xxup bolivia xxup takes xxup brave xxup step xxup in xxup using xxup chlorine xxup dioxide xxup first xxup on xxup himself xxup to xxup cure xxup and xxup then xxup the xxup whole xxup city - xxup mayor xxup xxunk - a xxup xxunk ! \\n https : / / t.co / xxunk https : / / t.co / xxunk</td>\n",
       "      <td>fake</td>\n",
       "    </tr>\n",
       "    <tr>\n",
       "      <th>7</th>\n",
       "      <td>xxbos 204 new cases of # xxup covid19 reported ; 80 - kano 45 - lagos 12 - gombe 9 - bauchi 9 - sokoto 7 - borno 7 - edo 6 - rivers 6 - ogun 4 - fct 4 - akwa xxmaj ibom 4 - bayelsa 3 - kaduna 2 - oyo 2 - delta 2 - nasarawa 1 - ondo 1 - kebbi 11:50pm 30th xxmaj april- 1932 confirmed cases of # xxup covid19 in xxmaj nigeria xxmaj discharged : xxunk xxmaj deaths : 58 https : / / t.co / xxunk</td>\n",
       "      <td>real</td>\n",
       "    </tr>\n",
       "    <tr>\n",
       "      <th>8</th>\n",
       "      <td>xxbos xxmaj not only xxmaj daily xxmaj corona cases has been d xxmaj highest in d world xxmaj since xxmaj august 4 xxmaj today xxmaj our xxmaj govt \" xxunk \" xxmaj corona .. ! xxmaj india recorded another \" xxunk milestone \" by xxmaj xxunk brazil .. xxunk .. now xxmaj indian xxmaj tax xxunk xxmaj urge \" performance xxmaj expert \" xxmaj ministers xxup only xxmaj carry out us xxunk xxunk .. 2 https : / / t.co / xxunk https : / / t.co / xxunk</td>\n",
       "      <td>fake</td>\n",
       "    </tr>\n",
       "  </tbody>\n",
       "</table>"
      ],
      "text/plain": [
       "<IPython.core.display.HTML object>"
      ]
     },
     "metadata": {},
     "output_type": "display_data"
    }
   ],
   "source": [
    "data_clas.show_batch()"
   ]
  },
  {
   "cell_type": "markdown",
   "metadata": {},
   "source": [
    "# Fine-tune the pretrained language model (AWD_LSTM) to this corpus"
   ]
  },
  {
   "cell_type": "code",
   "execution_count": 11,
   "metadata": {},
   "outputs": [],
   "source": [
    "learner = language_model_learner(data_lm, AWD_LSTM, metrics=[accuracy_multi, F1ScoreMulti(average='weighted')], path=path)"
   ]
  },
  {
   "cell_type": "code",
   "execution_count": null,
   "metadata": {},
   "outputs": [],
   "source": [
    "learner.lr_find()\n",
    "learner.recorder.plot(suggestion=True)"
   ]
  },
  {
   "cell_type": "code",
   "execution_count": 12,
   "metadata": {
    "colab": {
     "base_uri": "https://localhost:8080/",
     "height": 106
    },
    "id": "tg9PjawcM1MI",
    "outputId": "c1d65470-67b5-4482-f5f2-6b43cb1dcae1"
   },
   "outputs": [
    {
     "data": {
      "text/html": [
       "\n",
       "<style>\n",
       "    /* Turns off some styling */\n",
       "    progress {\n",
       "        /* gets rid of default border in Firefox and Opera. */\n",
       "        border: none;\n",
       "        /* Needs to be in here for Safari polyfill so background images work as expected. */\n",
       "        background-size: auto;\n",
       "    }\n",
       "    .progress-bar-interrupted, .progress-bar-interrupted::-webkit-progress-bar {\n",
       "        background: #F44336;\n",
       "    }\n",
       "</style>\n"
      ],
      "text/plain": [
       "<IPython.core.display.HTML object>"
      ]
     },
     "metadata": {},
     "output_type": "display_data"
    },
    {
     "data": {
      "text/html": [
       "<table border=\"1\" class=\"dataframe\">\n",
       "  <thead>\n",
       "    <tr style=\"text-align: left;\">\n",
       "      <th>epoch</th>\n",
       "      <th>train_loss</th>\n",
       "      <th>valid_loss</th>\n",
       "      <th>accuracy</th>\n",
       "      <th>perplexity</th>\n",
       "      <th>time</th>\n",
       "    </tr>\n",
       "  </thead>\n",
       "  <tbody>\n",
       "    <tr>\n",
       "      <td>0</td>\n",
       "      <td>3.812347</td>\n",
       "      <td>3.210879</td>\n",
       "      <td>0.431851</td>\n",
       "      <td>24.800873</td>\n",
       "      <td>01:33</td>\n",
       "    </tr>\n",
       "  </tbody>\n",
       "</table>"
      ],
      "text/plain": [
       "<IPython.core.display.HTML object>"
      ]
     },
     "metadata": {},
     "output_type": "display_data"
    }
   ],
   "source": [
    "learner.fit_one_cycle(1, 1e-2, moms=(0.8,0.7,0.8))"
   ]
  },
  {
   "cell_type": "code",
   "execution_count": 13,
   "metadata": {
    "colab": {
     "base_uri": "https://localhost:8080/",
     "height": 106
    },
    "id": "mcy55Pf0M1SP",
    "outputId": "9537be43-9868-494e-fafd-5ec5d35bbe54"
   },
   "outputs": [
    {
     "data": {
      "text/html": [
       "\n",
       "<style>\n",
       "    /* Turns off some styling */\n",
       "    progress {\n",
       "        /* gets rid of default border in Firefox and Opera. */\n",
       "        border: none;\n",
       "        /* Needs to be in here for Safari polyfill so background images work as expected. */\n",
       "        background-size: auto;\n",
       "    }\n",
       "    .progress-bar-interrupted, .progress-bar-interrupted::-webkit-progress-bar {\n",
       "        background: #F44336;\n",
       "    }\n",
       "</style>\n"
      ],
      "text/plain": [
       "<IPython.core.display.HTML object>"
      ]
     },
     "metadata": {},
     "output_type": "display_data"
    },
    {
     "data": {
      "text/html": [
       "<table border=\"1\" class=\"dataframe\">\n",
       "  <thead>\n",
       "    <tr style=\"text-align: left;\">\n",
       "      <th>epoch</th>\n",
       "      <th>train_loss</th>\n",
       "      <th>valid_loss</th>\n",
       "      <th>accuracy</th>\n",
       "      <th>perplexity</th>\n",
       "      <th>time</th>\n",
       "    </tr>\n",
       "  </thead>\n",
       "  <tbody>\n",
       "    <tr>\n",
       "      <td>0</td>\n",
       "      <td>3.500568</td>\n",
       "      <td>3.109001</td>\n",
       "      <td>0.441926</td>\n",
       "      <td>22.398649</td>\n",
       "      <td>01:47</td>\n",
       "    </tr>\n",
       "    <tr>\n",
       "      <td>1</td>\n",
       "      <td>3.567413</td>\n",
       "      <td>3.087008</td>\n",
       "      <td>0.444991</td>\n",
       "      <td>21.911415</td>\n",
       "      <td>01:47</td>\n",
       "    </tr>\n",
       "  </tbody>\n",
       "</table>"
      ],
      "text/plain": [
       "<IPython.core.display.HTML object>"
      ]
     },
     "metadata": {},
     "output_type": "display_data"
    }
   ],
   "source": [
    "# unfreezing weights and training the rest of the NN\n",
    "learner.unfreeze()\n",
    "learner.fit_one_cycle(2, 1e-5)"
   ]
  },
  {
   "cell_type": "code",
   "execution_count": 14,
   "metadata": {
    "id": "1p88Jem2M1Wq"
   },
   "outputs": [],
   "source": [
    "learner.save_encoder(taskName+'finetuned_encoder')"
   ]
  },
  {
   "cell_type": "markdown",
   "metadata": {},
   "source": [
    "# Use finetuned LM to Train a classifer"
   ]
  },
  {
   "cell_type": "code",
   "execution_count": 15,
   "metadata": {
    "colab": {
     "base_uri": "https://localhost:8080/"
    },
    "id": "l_jxcRDLM1Zi",
    "outputId": "625ac1cd-8fdc-4bc7-b8b6-7ac21acf1171"
   },
   "outputs": [
    {
     "data": {
      "text/plain": [
       "<fastai.text.learner.TextLearner at 0x7f75b9fdf400>"
      ]
     },
     "execution_count": 15,
     "metadata": {},
     "output_type": "execute_result"
    }
   ],
   "source": [
    "learner = text_classifier_learner(data_clas, AWD_LSTM,  metrics=[accuracy_multi, F1ScoreMulti(average='weighted')], drop_mult=0.5)\n",
    "learner.load_encoder(taskName+'finetuned_encoder')"
   ]
  },
  {
   "cell_type": "code",
   "execution_count": 16,
   "metadata": {
    "colab": {
     "base_uri": "https://localhost:8080/",
     "height": 106
    },
    "id": "jcPzNzvUM1PQ",
    "outputId": "063734e7-d11d-4a9d-e5e5-9b462be7dacb"
   },
   "outputs": [
    {
     "data": {
      "text/html": [
       "\n",
       "<style>\n",
       "    /* Turns off some styling */\n",
       "    progress {\n",
       "        /* gets rid of default border in Firefox and Opera. */\n",
       "        border: none;\n",
       "        /* Needs to be in here for Safari polyfill so background images work as expected. */\n",
       "        background-size: auto;\n",
       "    }\n",
       "    .progress-bar-interrupted, .progress-bar-interrupted::-webkit-progress-bar {\n",
       "        background: #F44336;\n",
       "    }\n",
       "</style>\n"
      ],
      "text/plain": [
       "<IPython.core.display.HTML object>"
      ]
     },
     "metadata": {},
     "output_type": "display_data"
    },
    {
     "data": {
      "text/html": [
       "<table border=\"1\" class=\"dataframe\">\n",
       "  <thead>\n",
       "    <tr style=\"text-align: left;\">\n",
       "      <th>epoch</th>\n",
       "      <th>train_loss</th>\n",
       "      <th>valid_loss</th>\n",
       "      <th>accuracy</th>\n",
       "      <th>time</th>\n",
       "    </tr>\n",
       "  </thead>\n",
       "  <tbody>\n",
       "    <tr>\n",
       "      <td>0</td>\n",
       "      <td>0.482141</td>\n",
       "      <td>0.247246</td>\n",
       "      <td>0.898000</td>\n",
       "      <td>00:06</td>\n",
       "    </tr>\n",
       "    <tr>\n",
       "      <td>1</td>\n",
       "      <td>0.431627</td>\n",
       "      <td>0.210314</td>\n",
       "      <td>0.920000</td>\n",
       "      <td>00:05</td>\n",
       "    </tr>\n",
       "  </tbody>\n",
       "</table>"
      ],
      "text/plain": [
       "<IPython.core.display.HTML object>"
      ]
     },
     "metadata": {},
     "output_type": "display_data"
    }
   ],
   "source": [
    "learner.fit_one_cycle(2, 1e-2)"
   ]
  },
  {
   "cell_type": "code",
   "execution_count": 17,
   "metadata": {
    "colab": {
     "base_uri": "https://localhost:8080/",
     "height": 164
    },
    "id": "x3eRIgsQM1CJ",
    "outputId": "7cd04055-82d0-4924-bcfc-0c65332dc94d"
   },
   "outputs": [
    {
     "data": {
      "text/html": [
       "\n",
       "<style>\n",
       "    /* Turns off some styling */\n",
       "    progress {\n",
       "        /* gets rid of default border in Firefox and Opera. */\n",
       "        border: none;\n",
       "        /* Needs to be in here for Safari polyfill so background images work as expected. */\n",
       "        background-size: auto;\n",
       "    }\n",
       "    .progress-bar-interrupted, .progress-bar-interrupted::-webkit-progress-bar {\n",
       "        background: #F44336;\n",
       "    }\n",
       "</style>\n"
      ],
      "text/plain": [
       "<IPython.core.display.HTML object>"
      ]
     },
     "metadata": {},
     "output_type": "display_data"
    },
    {
     "data": {
      "text/html": [
       "<table border=\"1\" class=\"dataframe\">\n",
       "  <thead>\n",
       "    <tr style=\"text-align: left;\">\n",
       "      <th>epoch</th>\n",
       "      <th>train_loss</th>\n",
       "      <th>valid_loss</th>\n",
       "      <th>accuracy</th>\n",
       "      <th>time</th>\n",
       "    </tr>\n",
       "  </thead>\n",
       "  <tbody>\n",
       "    <tr>\n",
       "      <td>0</td>\n",
       "      <td>0.419837</td>\n",
       "      <td>0.183460</td>\n",
       "      <td>0.935000</td>\n",
       "      <td>00:06</td>\n",
       "    </tr>\n",
       "  </tbody>\n",
       "</table>"
      ],
      "text/plain": [
       "<IPython.core.display.HTML object>"
      ]
     },
     "metadata": {},
     "output_type": "display_data"
    }
   ],
   "source": [
    "lr = 1e-2\n",
    "learner.freeze_to(-2)\n",
    "lr /= 2\n",
    "learner.fit_one_cycle(1, slice(lr/(2.6**4),lr), moms=(0.8,0.7,0.8), wd=0.1)"
   ]
  },
  {
   "cell_type": "code",
   "execution_count": 18,
   "metadata": {
    "colab": {
     "base_uri": "https://localhost:8080/",
     "height": 280
    },
    "id": "i5N_ux4SscNM",
    "outputId": "c5c341e2-2eb3-4abf-dbbd-751ee26ddcc5"
   },
   "outputs": [
    {
     "data": {
      "text/html": [
       "\n",
       "<style>\n",
       "    /* Turns off some styling */\n",
       "    progress {\n",
       "        /* gets rid of default border in Firefox and Opera. */\n",
       "        border: none;\n",
       "        /* Needs to be in here for Safari polyfill so background images work as expected. */\n",
       "        background-size: auto;\n",
       "    }\n",
       "    .progress-bar-interrupted, .progress-bar-interrupted::-webkit-progress-bar {\n",
       "        background: #F44336;\n",
       "    }\n",
       "</style>\n"
      ],
      "text/plain": [
       "<IPython.core.display.HTML object>"
      ]
     },
     "metadata": {},
     "output_type": "display_data"
    },
    {
     "data": {
      "text/html": [
       "<table border=\"1\" class=\"dataframe\">\n",
       "  <thead>\n",
       "    <tr style=\"text-align: left;\">\n",
       "      <th>epoch</th>\n",
       "      <th>train_loss</th>\n",
       "      <th>valid_loss</th>\n",
       "      <th>accuracy</th>\n",
       "      <th>time</th>\n",
       "    </tr>\n",
       "  </thead>\n",
       "  <tbody>\n",
       "    <tr>\n",
       "      <td>0</td>\n",
       "      <td>0.342677</td>\n",
       "      <td>0.121899</td>\n",
       "      <td>0.955000</td>\n",
       "      <td>00:08</td>\n",
       "    </tr>\n",
       "  </tbody>\n",
       "</table>"
      ],
      "text/plain": [
       "<IPython.core.display.HTML object>"
      ]
     },
     "metadata": {},
     "output_type": "display_data"
    }
   ],
   "source": [
    "learner.freeze_to(-3)\n",
    "lr /= 2\n",
    "learner.fit_one_cycle(1, slice(lr/(2.6**4),lr), moms=(0.8,0.7,0.8), wd=0.1)"
   ]
  },
  {
   "cell_type": "code",
   "execution_count": 19,
   "metadata": {
    "colab": {
     "base_uri": "https://localhost:8080/",
     "height": 164
    },
    "id": "4fZGd2Q02YUR",
    "outputId": "f0a9a6db-8f33-4c0a-c851-55718a6a899e"
   },
   "outputs": [
    {
     "data": {
      "text/html": [
       "\n",
       "<style>\n",
       "    /* Turns off some styling */\n",
       "    progress {\n",
       "        /* gets rid of default border in Firefox and Opera. */\n",
       "        border: none;\n",
       "        /* Needs to be in here for Safari polyfill so background images work as expected. */\n",
       "        background-size: auto;\n",
       "    }\n",
       "    .progress-bar-interrupted, .progress-bar-interrupted::-webkit-progress-bar {\n",
       "        background: #F44336;\n",
       "    }\n",
       "</style>\n"
      ],
      "text/plain": [
       "<IPython.core.display.HTML object>"
      ]
     },
     "metadata": {},
     "output_type": "display_data"
    },
    {
     "data": {
      "text/html": [
       "<table border=\"1\" class=\"dataframe\">\n",
       "  <thead>\n",
       "    <tr style=\"text-align: left;\">\n",
       "      <th>epoch</th>\n",
       "      <th>train_loss</th>\n",
       "      <th>valid_loss</th>\n",
       "      <th>accuracy</th>\n",
       "      <th>time</th>\n",
       "    </tr>\n",
       "  </thead>\n",
       "  <tbody>\n",
       "    <tr>\n",
       "      <td>0</td>\n",
       "      <td>0.329546</td>\n",
       "      <td>0.102050</td>\n",
       "      <td>0.967000</td>\n",
       "      <td>00:09</td>\n",
       "    </tr>\n",
       "    <tr>\n",
       "      <td>1</td>\n",
       "      <td>0.263557</td>\n",
       "      <td>0.090796</td>\n",
       "      <td>0.970000</td>\n",
       "      <td>00:09</td>\n",
       "    </tr>\n",
       "  </tbody>\n",
       "</table>"
      ],
      "text/plain": [
       "<IPython.core.display.HTML object>"
      ]
     },
     "metadata": {},
     "output_type": "display_data"
    }
   ],
   "source": [
    "learner.unfreeze()\n",
    "lr /= 5\n",
    "learner.fit_one_cycle(2, slice(lr/(2.6**4),lr), moms=(0.8,0.7,0.8), wd=0.1)"
   ]
  },
  {
   "cell_type": "code",
   "execution_count": 20,
   "metadata": {
    "colab": {
     "base_uri": "https://localhost:8080/",
     "height": 311
    },
    "id": "gY8Rf-LK1l8f",
    "outputId": "571295d1-685f-4f4e-de8e-be4a99997a58"
   },
   "outputs": [
    {
     "data": {
      "text/html": [
       "\n",
       "<style>\n",
       "    /* Turns off some styling */\n",
       "    progress {\n",
       "        /* gets rid of default border in Firefox and Opera. */\n",
       "        border: none;\n",
       "        /* Needs to be in here for Safari polyfill so background images work as expected. */\n",
       "        background-size: auto;\n",
       "    }\n",
       "    .progress-bar-interrupted, .progress-bar-interrupted::-webkit-progress-bar {\n",
       "        background: #F44336;\n",
       "    }\n",
       "</style>\n"
      ],
      "text/plain": [
       "<IPython.core.display.HTML object>"
      ]
     },
     "metadata": {},
     "output_type": "display_data"
    },
    {
     "data": {
      "text/html": [],
      "text/plain": [
       "<IPython.core.display.HTML object>"
      ]
     },
     "metadata": {},
     "output_type": "display_data"
    },
    {
     "data": {
      "text/html": [
       "\n",
       "<style>\n",
       "    /* Turns off some styling */\n",
       "    progress {\n",
       "        /* gets rid of default border in Firefox and Opera. */\n",
       "        border: none;\n",
       "        /* Needs to be in here for Safari polyfill so background images work as expected. */\n",
       "        background-size: auto;\n",
       "    }\n",
       "    .progress-bar-interrupted, .progress-bar-interrupted::-webkit-progress-bar {\n",
       "        background: #F44336;\n",
       "    }\n",
       "</style>\n"
      ],
      "text/plain": [
       "<IPython.core.display.HTML object>"
      ]
     },
     "metadata": {},
     "output_type": "display_data"
    },
    {
     "data": {
      "text/html": [],
      "text/plain": [
       "<IPython.core.display.HTML object>"
      ]
     },
     "metadata": {},
     "output_type": "display_data"
    },
    {
     "data": {
      "text/html": [
       "\n",
       "<style>\n",
       "    /* Turns off some styling */\n",
       "    progress {\n",
       "        /* gets rid of default border in Firefox and Opera. */\n",
       "        border: none;\n",
       "        /* Needs to be in here for Safari polyfill so background images work as expected. */\n",
       "        background-size: auto;\n",
       "    }\n",
       "    .progress-bar-interrupted, .progress-bar-interrupted::-webkit-progress-bar {\n",
       "        background: #F44336;\n",
       "    }\n",
       "</style>\n"
      ],
      "text/plain": [
       "<IPython.core.display.HTML object>"
      ]
     },
     "metadata": {},
     "output_type": "display_data"
    },
    {
     "data": {
      "text/html": [],
      "text/plain": [
       "<IPython.core.display.HTML object>"
      ]
     },
     "metadata": {},
     "output_type": "display_data"
    },
    {
     "data": {
      "image/png": "[encoded data removed]",
      "text/plain": [
       "<Figure size 432x288 with 1 Axes>"
      ]
     },
     "metadata": {
      "needs_background": "light"
     },
     "output_type": "display_data"
    }
   ],
   "source": [
    "preds,y,losses = learn.get_preds(with_loss=True)\n",
    "interp = ClassificationInterpretation.from_learner(learner) \n",
    "interp.plot_confusion_matrix()"
   ]
  },
  {
   "cell_type": "code",
   "execution_count": 21,
   "metadata": {},
   "outputs": [
    {
     "data": {
      "text/html": [
       "\n",
       "<style>\n",
       "    /* Turns off some styling */\n",
       "    progress {\n",
       "        /* gets rid of default border in Firefox and Opera. */\n",
       "        border: none;\n",
       "        /* Needs to be in here for Safari polyfill so background images work as expected. */\n",
       "        background-size: auto;\n",
       "    }\n",
       "    .progress-bar-interrupted, .progress-bar-interrupted::-webkit-progress-bar {\n",
       "        background: #F44336;\n",
       "    }\n",
       "</style>\n"
      ],
      "text/plain": [
       "<IPython.core.display.HTML object>"
      ]
     },
     "metadata": {},
     "output_type": "display_data"
    },
    {
     "data": {
      "text/html": [],
      "text/plain": [
       "<IPython.core.display.HTML object>"
      ]
     },
     "metadata": {},
     "output_type": "display_data"
    },
    {
     "data": {
      "text/html": [
       "\n",
       "<style>\n",
       "    /* Turns off some styling */\n",
       "    progress {\n",
       "        /* gets rid of default border in Firefox and Opera. */\n",
       "        border: none;\n",
       "        /* Needs to be in here for Safari polyfill so background images work as expected. */\n",
       "        background-size: auto;\n",
       "    }\n",
       "    .progress-bar-interrupted, .progress-bar-interrupted::-webkit-progress-bar {\n",
       "        background: #F44336;\n",
       "    }\n",
       "</style>\n"
      ],
      "text/plain": [
       "<IPython.core.display.HTML object>"
      ]
     },
     "metadata": {},
     "output_type": "display_data"
    },
    {
     "data": {
      "text/html": [],
      "text/plain": [
       "<IPython.core.display.HTML object>"
      ]
     },
     "metadata": {},
     "output_type": "display_data"
    },
    {
     "name": "stderr",
     "output_type": "stream",
     "text": [
      "/home/ravi/miniconda3/envs/ulmfitTest/lib/python3.10/site-packages/fastai/torch_core.py:476: FutureWarning: The series.append method is deprecated and will be removed from pandas in a future version. Use pandas.concat instead.\n",
      "  ax = ax.append(pd.Series({label: o}))\n",
      "/home/ravi/miniconda3/envs/ulmfitTest/lib/python3.10/site-packages/fastai/torch_core.py:476: FutureWarning: The series.append method is deprecated and will be removed from pandas in a future version. Use pandas.concat instead.\n",
      "  ax = ax.append(pd.Series({label: o}))\n",
      "/home/ravi/miniconda3/envs/ulmfitTest/lib/python3.10/site-packages/fastai/torch_core.py:476: FutureWarning: The series.append method is deprecated and will be removed from pandas in a future version. Use pandas.concat instead.\n",
      "  ax = ax.append(pd.Series({label: o}))\n",
      "/home/ravi/miniconda3/envs/ulmfitTest/lib/python3.10/site-packages/fastai/torch_core.py:476: FutureWarning: The series.append method is deprecated and will be removed from pandas in a future version. Use pandas.concat instead.\n",
      "  ax = ax.append(pd.Series({label: o}))\n",
      "/home/ravi/miniconda3/envs/ulmfitTest/lib/python3.10/site-packages/fastai/torch_core.py:476: FutureWarning: The series.append method is deprecated and will be removed from pandas in a future version. Use pandas.concat instead.\n",
      "  ax = ax.append(pd.Series({label: o}))\n",
      "/home/ravi/miniconda3/envs/ulmfitTest/lib/python3.10/site-packages/fastai/torch_core.py:476: FutureWarning: The series.append method is deprecated and will be removed from pandas in a future version. Use pandas.concat instead.\n",
      "  ax = ax.append(pd.Series({label: o}))\n",
      "/home/ravi/miniconda3/envs/ulmfitTest/lib/python3.10/site-packages/fastai/torch_core.py:476: FutureWarning: The series.append method is deprecated and will be removed from pandas in a future version. Use pandas.concat instead.\n",
      "  ax = ax.append(pd.Series({label: o}))\n",
      "/home/ravi/miniconda3/envs/ulmfitTest/lib/python3.10/site-packages/fastai/torch_core.py:476: FutureWarning: The series.append method is deprecated and will be removed from pandas in a future version. Use pandas.concat instead.\n",
      "  ax = ax.append(pd.Series({label: o}))\n",
      "/home/ravi/miniconda3/envs/ulmfitTest/lib/python3.10/site-packages/fastai/torch_core.py:476: FutureWarning: The series.append method is deprecated and will be removed from pandas in a future version. Use pandas.concat instead.\n",
      "  ax = ax.append(pd.Series({label: o}))\n",
      "/home/ravi/miniconda3/envs/ulmfitTest/lib/python3.10/site-packages/fastai/torch_core.py:476: FutureWarning: The series.append method is deprecated and will be removed from pandas in a future version. Use pandas.concat instead.\n",
      "  ax = ax.append(pd.Series({label: o}))\n"
     ]
    },
    {
     "data": {
      "text/html": [
       "<table border=\"1\" class=\"dataframe\">\n",
       "  <thead>\n",
       "    <tr style=\"text-align: right;\">\n",
       "      <th></th>\n",
       "      <th>input</th>\n",
       "      <th>target</th>\n",
       "      <th>predicted</th>\n",
       "      <th>probability</th>\n",
       "      <th>loss</th>\n",
       "    </tr>\n",
       "  </thead>\n",
       "  <tbody>\n",
       "    <tr>\n",
       "      <th>0</th>\n",
       "      <td>xxbos xxmaj from the article : “ this virus is here to stay ” said xxmaj sarah xxmaj xxunk an epidemiologist and xxunk xxunk at the xxmaj university of xxmaj chicago . “ the question is how do we live with it safely ? ”</td>\n",
       "      <td>real</td>\n",
       "      <td>fake</td>\n",
       "      <td>0.9443155527114868</td>\n",
       "      <td>2.888150453567505</td>\n",
       "    </tr>\n",
       "    <tr>\n",
       "      <th>1</th>\n",
       "      <td>xxbos xxup usa crossed 5 xxrep 4 0 deaths in 23 days xxmaj brazil in 95 days and xxmaj mexico in 141 days . xxmaj india took 156 days .</td>\n",
       "      <td>real</td>\n",
       "      <td>fake</td>\n",
       "      <td>0.9174924492835999</td>\n",
       "      <td>2.494915008544922</td>\n",
       "    </tr>\n",
       "  </tbody>\n",
       "</table>"
      ],
      "text/plain": [
       "<IPython.core.display.HTML object>"
      ]
     },
     "metadata": {},
     "output_type": "display_data"
    }
   ],
   "source": [
    "interp1 = Interpretation.from_learner(learner)\n",
    "interp1.plot_top_losses(2)"
   ]
  },
  {
   "cell_type": "code",
   "execution_count": 23,
   "metadata": {
    "id": "_3cCxoktD6wT"
   },
   "outputs": [],
   "source": [
    "learner.export(taskName+'finetuned_classifer')"
   ]
  },
  {
   "cell_type": "markdown",
   "metadata": {
    "colab": {
     "base_uri": "https://localhost:8080/"
    },
    "id": "nEf_CpOo8Ms_",
    "outputId": "791d5c2c-c0c8-4b83-d2f5-98ddedf98021"
   },
   "source": [
    "# Predict on Test data"
   ]
  },
  {
   "cell_type": "code",
   "execution_count": 24,
   "metadata": {},
   "outputs": [],
   "source": [
    "predictions = []\n",
    "for tweet in testdata['articles']:\n",
    "  yTrue, yPred, ySftMx = learn.predict(tweet)\n",
    "  predictions.append(yPred)\n",
    "test_data_yTrue_yPred[\"y_pred\"]=predictions"
   ]
  },
  {
   "cell_type": "code",
   "execution_count": null,
   "metadata": {},
   "outputs": [],
   "source": [
    "test_data_yTrue_yPred.to_json(root_dir+'/Results/LSTM/test_data_yTrue_yPred_' + str(KFold) + 'json', orient = 'records')"
   ]
  },
  {
   "cell_type": "code",
   "execution_count": null,
   "metadata": {},
   "outputs": [],
   "source": [
    "# metrics\n",
    "target_names = ['Liberal', 'Conservative']\n",
    "classi_report = classification_report(test_data.label, y_pred, target_names=target_names, digits=4)\n",
    "logger.info(\"classi_report:\\n{}\".format(classi_report))\n",
    "tn, fp, fn, tp = confusion_matrix(test_data.label, y_pred).ravel()\n",
    "logger.info(\"tn:{}, fp:{}, fn:{}, tp: {}\".format(tn, fp, fn, tp ))\n",
    "logger.info(\"Testing f1_weighted score: {}\".format(f1_score(test_data.label, y_pred)))\n",
    "logger.info(\"Plot ConfusionMatrix\")\n",
    "cm = confusion_matrix(test_data.label, y_pred, labels=loaded_SVMmodel.classes_)\n",
    "fig, ax = plt.subplots(figsize=(3,3))\n",
    "display_labels=['Liberal', 'Conservative']\n",
    "SVM_ConfusionMatrix = sns.heatmap(cm, annot=True, xticklabels=display_labels, yticklabels=display_labels, cmap='Blues', ax=ax, fmt='d')\n",
    "plt.yticks(va=\"center\")\n",
    "plt.xticks(va=\"center\")\n",
    "fig.savefig(root_dir+'/Results/LSTM/SVM_ConfusionMatrix_' + str(KFold) + 'svg', format='svg', dpi=1200, bbox_inches='tight')\n",
    "logger.info(\"ULMFitmodel prediction time {} seconds\".format(time.time()-SVMmodel__predict_st))"
   ]
  },
  {
   "cell_type": "code",
   "execution_count": null,
   "metadata": {},
   "outputs": [],
   "source": []
  }
 ],
 "metadata": {
  "colab": {
   "collapsed_sections": [],
   "name": "ULMFITTrainer.ipynb",
   "provenance": []
  },
  "kernelspec": {
   "display_name": "Python 3 (ipykernel)",
   "language": "python",
   "name": "python3"
  },
  "language_info": {
   "codemirror_mode": {
    "name": "ipython",
    "version": 3
   },
   "file_extension": ".py",
   "mimetype": "text/x-python",
   "name": "python",
   "nbconvert_exporter": "python",
   "pygments_lexer": "ipython3",
   "version": "3.10.4"
  }
 },
 "nbformat": 4,
 "nbformat_minor": 4
}
