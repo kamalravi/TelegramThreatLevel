{
 "cells": [
  {
   "cell_type": "markdown",
   "metadata": {
    "id": "7BLx69FmLXkO",
    "tags": []
   },
   "source": [
    "# ULMFit"
   ]
  },
  {
   "cell_type": "code",
   "execution_count": 1,
   "metadata": {},
   "outputs": [],
   "source": [
    "# warnings\n",
    "from warnings import simplefilter\n",
    "simplefilter(\"ignore\", category=FutureWarning)\n",
    "simplefilter(\"ignore\", category=DeprecationWarning)\n",
    "\n",
    "# custom built functions\n",
    "from logs.get_logs import logger\n",
    "from dataPrep.get_data_fold import data_read\n",
    "from utils.utils import set_seed\n",
    "\n",
    "# import libraries\n",
    "# import libraries\n",
    "seed=42\n",
    "import os\n",
    "os.environ['PYTHONHASHSEED'] = str(seed)\n",
    "import random\n",
    "random.seed(seed)\n",
    "import numpy as np\n",
    "np.random.seed(seed)\n",
    "import time\n",
    "import pandas as pd\n",
    "\n",
    "# NLP Preprocessing\n",
    "from gensim.utils import simple_preprocess\n",
    "\n",
    "import csv\n",
    "import fasttext\n",
    "\n",
    "from sklearn.metrics import classification_report, confusion_matrix, f1_score\n",
    "import seaborn as sns\n",
    "import matplotlib.pyplot as plt"
   ]
  },
  {
   "cell_type": "markdown",
   "metadata": {},
   "source": [
    "# Data"
   ]
  },
  {
   "cell_type": "code",
   "execution_count": 2,
   "metadata": {},
   "outputs": [
    {
     "name": "stdout",
     "output_type": "stream",
     "text": [
      "log_dir_fname: /home/ravi/PROJECTS_DATA/DataModelsResults/Results/fastText/fastText_Train_Test.log\n"
     ]
    }
   ],
   "source": [
    "## inputs\n",
    "# Choose model\n",
    "model_select = \"fastText\" # Options: SVM, RoBERTa, LSTM, Longformer, OpenAIGPT2\n",
    "\n",
    "# Choose\n",
    "model_tokenize=0\n",
    "TokenizeCombine=0\n",
    "model_train = 1\n",
    "model_predict = 0\n",
    "\n",
    "# logger\n",
    "task = \"_Train_Test\" # Train Test\n",
    "taskName = model_select + task\n",
    "root_dir = '/home/ravi/PROJECTS_DATA/DataModelsResults'\n",
    "model_folder = root_dir + \"/Results/\" + model_select + \"/\"\n",
    "log_dir_fname = model_folder + taskName +\".log\"\n",
    "print(\"log_dir_fname: {}\".format(log_dir_fname))\n",
    "logger = logger(log_dir_fname=log_dir_fname)"
   ]
  },
  {
   "cell_type": "code",
   "execution_count": 3,
   "metadata": {},
   "outputs": [
    {
     "name": "stderr",
     "output_type": "stream",
     "text": [
      "2023-04-30 17:45:25,487 | get_data_fold.py: 11: data_read() |  INFO: all_train_data.shape (301715, 14)\n",
      "2023-04-30 17:45:25,489 | get_data_fold.py: 12: data_read() |  INFO: train_data.shape (241372, 14)\n",
      "2023-04-30 17:45:25,490 | get_data_fold.py: 13: data_read() |  INFO: dev_data.shape (60343, 14)\n",
      "2023-04-30 17:45:25,491 | get_data_fold.py: 14: data_read() |  INFO: test_data.shape (75429, 14)\n"
     ]
    }
   ],
   "source": [
    "## Load data. Get K-Fold data. Save 5 fold indices (80% train, 20% test)\n",
    "all_train_data, train_data, val_data, test_data = data_read(logger, root_dir)\n",
    "del train_data, val_data\n",
    "\n",
    "# # For Trial run\n",
    "# frac = 0.01\n",
    "# # for id-ying the threshold of compute to run models\n",
    "# all_train_data = all_train_data.sample(frac=frac, replace=True, random_state=42)\n",
    "# test_data = test_data.sample(frac=frac, replace=True, random_state=42)\n",
    "# logger.info(\"all_train_data {}, all_train_data.shape {}\".format(frac, all_train_data.shape))\n",
    "# logger.info(\"frac {}, test_data.shape {}\".format(frac, test_data.shape))"
   ]
  },
  {
   "cell_type": "code",
   "execution_count": 4,
   "metadata": {},
   "outputs": [],
   "source": [
    "all_train_data = all_train_data[[\"label\", \"article\"]]\n",
    "test_data = test_data[[\"label\", \"article\"]]"
   ]
  },
  {
   "cell_type": "code",
   "execution_count": 5,
   "metadata": {
    "colab": {
     "base_uri": "https://localhost:8080/",
     "height": 194
    },
    "id": "64ssbgZZMFzR",
    "outputId": "85119e54-c209-4573-8aa9-a7e9ec7068c5"
   },
   "outputs": [
    {
     "data": {
      "text/html": [
       "<div>\n",
       "<style scoped>\n",
       "    .dataframe tbody tr th:only-of-type {\n",
       "        vertical-align: middle;\n",
       "    }\n",
       "\n",
       "    .dataframe tbody tr th {\n",
       "        vertical-align: top;\n",
       "    }\n",
       "\n",
       "    .dataframe thead th {\n",
       "        text-align: right;\n",
       "    }\n",
       "</style>\n",
       "<table border=\"1\" class=\"dataframe\">\n",
       "  <thead>\n",
       "    <tr style=\"text-align: right;\">\n",
       "      <th></th>\n",
       "      <th>label</th>\n",
       "      <th>article</th>\n",
       "    </tr>\n",
       "  </thead>\n",
       "  <tbody>\n",
       "    <tr>\n",
       "      <th>0</th>\n",
       "      <td>2</td>\n",
       "      <td>Discord, a Slack-like chat app originally desi...</td>\n",
       "    </tr>\n",
       "    <tr>\n",
       "      <th>1</th>\n",
       "      <td>2</td>\n",
       "      <td>It all started in May, when a paper titled \"Th...</td>\n",
       "    </tr>\n",
       "    <tr>\n",
       "      <th>2</th>\n",
       "      <td>0</td>\n",
       "      <td>Campaigning in Kentucky over the weekend, Bern...</td>\n",
       "    </tr>\n",
       "    <tr>\n",
       "      <th>3</th>\n",
       "      <td>1</td>\n",
       "      <td>Two nights ago, I watched a video that made me...</td>\n",
       "    </tr>\n",
       "    <tr>\n",
       "      <th>4</th>\n",
       "      <td>2</td>\n",
       "      <td>0 Jim Grant has always offered a good balance ...</td>\n",
       "    </tr>\n",
       "  </tbody>\n",
       "</table>\n",
       "</div>"
      ],
      "text/plain": [
       "   label                                            article\n",
       "0      2  Discord, a Slack-like chat app originally desi...\n",
       "1      2  It all started in May, when a paper titled \"Th...\n",
       "2      0  Campaigning in Kentucky over the weekend, Bern...\n",
       "3      1  Two nights ago, I watched a video that made me...\n",
       "4      2  0 Jim Grant has always offered a good balance ..."
      ]
     },
     "execution_count": 5,
     "metadata": {},
     "output_type": "execute_result"
    }
   ],
   "source": [
    "all_train_data.head()"
   ]
  },
  {
   "cell_type": "code",
   "execution_count": 6,
   "metadata": {},
   "outputs": [],
   "source": [
    "# Prefixing each row of the category column with '__label__'\n",
    "all_train_data.iloc[:, 0] = all_train_data.iloc[:, 0].apply(lambda x: '__label__' + str(x))\n",
    "test_data_yTrue_yPred=test_data.copy()\n",
    "test_data.iloc[:, 0] = test_data.iloc[:, 0].apply(lambda x: '__label__' + str(x))"
   ]
  },
  {
   "cell_type": "code",
   "execution_count": 7,
   "metadata": {},
   "outputs": [
    {
     "data": {
      "text/html": [
       "<div>\n",
       "<style scoped>\n",
       "    .dataframe tbody tr th:only-of-type {\n",
       "        vertical-align: middle;\n",
       "    }\n",
       "\n",
       "    .dataframe tbody tr th {\n",
       "        vertical-align: top;\n",
       "    }\n",
       "\n",
       "    .dataframe thead th {\n",
       "        text-align: right;\n",
       "    }\n",
       "</style>\n",
       "<table border=\"1\" class=\"dataframe\">\n",
       "  <thead>\n",
       "    <tr style=\"text-align: right;\">\n",
       "      <th></th>\n",
       "      <th>label</th>\n",
       "      <th>article</th>\n",
       "    </tr>\n",
       "  </thead>\n",
       "  <tbody>\n",
       "    <tr>\n",
       "      <th>0</th>\n",
       "      <td>__label__2</td>\n",
       "      <td>Discord, a Slack-like chat app originally desi...</td>\n",
       "    </tr>\n",
       "    <tr>\n",
       "      <th>1</th>\n",
       "      <td>__label__2</td>\n",
       "      <td>It all started in May, when a paper titled \"Th...</td>\n",
       "    </tr>\n",
       "    <tr>\n",
       "      <th>2</th>\n",
       "      <td>__label__0</td>\n",
       "      <td>Campaigning in Kentucky over the weekend, Bern...</td>\n",
       "    </tr>\n",
       "    <tr>\n",
       "      <th>3</th>\n",
       "      <td>__label__1</td>\n",
       "      <td>Two nights ago, I watched a video that made me...</td>\n",
       "    </tr>\n",
       "    <tr>\n",
       "      <th>4</th>\n",
       "      <td>__label__2</td>\n",
       "      <td>0 Jim Grant has always offered a good balance ...</td>\n",
       "    </tr>\n",
       "  </tbody>\n",
       "</table>\n",
       "</div>"
      ],
      "text/plain": [
       "        label                                            article\n",
       "0  __label__2  Discord, a Slack-like chat app originally desi...\n",
       "1  __label__2  It all started in May, when a paper titled \"Th...\n",
       "2  __label__0  Campaigning in Kentucky over the weekend, Bern...\n",
       "3  __label__1  Two nights ago, I watched a video that made me...\n",
       "4  __label__2  0 Jim Grant has always offered a good balance ..."
      ]
     },
     "execution_count": 7,
     "metadata": {},
     "output_type": "execute_result"
    }
   ],
   "source": [
    "all_train_data.head()"
   ]
  },
  {
   "cell_type": "code",
   "execution_count": 8,
   "metadata": {},
   "outputs": [
    {
     "name": "stdout",
     "output_type": "stream",
     "text": [
      "301715 75429\n"
     ]
    }
   ],
   "source": [
    "print(len(all_train_data), len(test_data))"
   ]
  },
  {
   "cell_type": "code",
   "execution_count": 9,
   "metadata": {},
   "outputs": [],
   "source": [
    "# Saving the CSV file as a text file to train/test the classifier\n",
    "all_train_data[['label', 'article']].to_csv(model_folder+'train.txt', \n",
    "                                          index = False, \n",
    "                                          sep = ' ',\n",
    "                                          header = None, \n",
    "                                          quoting = csv.QUOTE_NONE, \n",
    "                                          quotechar = \"\", \n",
    "                                          escapechar = \" \")"
   ]
  },
  {
   "cell_type": "code",
   "execution_count": 10,
   "metadata": {},
   "outputs": [],
   "source": [
    "test_data[['label', 'article']].to_csv(model_folder+'test.txt', \n",
    "                                     index = False, \n",
    "                                     sep = ' ',\n",
    "                                     header = None, \n",
    "                                     quoting = csv.QUOTE_NONE, \n",
    "                                     quotechar = \"\", \n",
    "                                     escapechar = \" \")"
   ]
  },
  {
   "cell_type": "code",
   "execution_count": null,
   "metadata": {},
   "outputs": [
    {
     "name": "stderr",
     "output_type": "stream",
     "text": [
      "Read 647M words\n",
      "Number of words:  11904981\n",
      "Number of labels: 3\n",
      "Progress:  26.6% words/sec/thread:  949364 lr:  0.073377 avg.loss:  0.119560 ETA:   2h57m26s41s 16.0% words/sec/thread:  952359 lr:  0.084010 avg.loss:  0.152571 ETA:   3h22m31s 18.8% words/sec/thread:  951345 lr:  0.081167 avg.loss:  0.141427 ETA:   3h15m52s 19.4% words/sec/thread:  951876 lr:  0.080645 avg.loss:  0.139897 ETA:   3h14m30s avg.loss:  0.138084 ETA:   3h13m45s ETA:   3h11m52s 20.6% words/sec/thread:  950409 lr:  0.079412 avg.loss:  0.135228 ETA:   3h11m49s 20.8% words/sec/thread:  950431 lr:  0.079200 avg.loss:  0.134641 ETA:   3h11m18s 20.8% words/sec/thread:  950049 lr:  0.079165 avg.loss:  0.134571 ETA:   3h11m18s 21.1% words/sec/thread:  951119 lr:  0.078947 avg.loss:  0.134029 ETA:   3h10m34s 21.2% words/sec/thread:  950965 lr:  0.078831 avg.loss:  0.133972 ETA:   3h10m19s 23.8% words/sec/thread:  950568 lr:  0.076162 avg.loss:  0.126165 ETA:   3h 3m57s 25.1% words/sec/thread:  950544 lr:  0.074881 avg.loss:  0.122233 ETA:   3h 0m51s"
     ]
    }
   ],
   "source": [
    "# Training the fastText classifier\n",
    "model = fasttext.train_supervised(model_folder+'train.txt', lr=0.1, epoch=1000, wordNgrams=2, bucket=200000, dim=50, loss='hs')"
   ]
  },
  {
   "cell_type": "code",
   "execution_count": null,
   "metadata": {
    "colab": {
     "base_uri": "https://localhost:8080/",
     "height": 278
    },
    "id": "nPvir7L1LyEH",
    "outputId": "15ed619b-0419-4aa9-c835-2ba6530cbca8"
   },
   "outputs": [],
   "source": [
    "# Evaluating performance on the entire test file\n",
    "model.test(model_folder+'test.txt')                      "
   ]
  },
  {
   "cell_type": "code",
   "execution_count": null,
   "metadata": {},
   "outputs": [],
   "source": [
    "# Predicting on a single input\n",
    "model.predict(test_data.iloc[2, 1])"
   ]
  },
  {
   "cell_type": "code",
   "execution_count": null,
   "metadata": {},
   "outputs": [],
   "source": [
    "# Save the trained model\n",
    "model.save_model(model_folder+'model.bin')"
   ]
  },
  {
   "cell_type": "markdown",
   "metadata": {},
   "source": [
    "# Predict on Test data"
   ]
  },
  {
   "cell_type": "code",
   "execution_count": null,
   "metadata": {},
   "outputs": [],
   "source": [
    "predictions = []\n",
    "for tweet in test_data['article']:\n",
    "    yPred=model.predict(tweet)[0][0]\n",
    "    # print()\n",
    "    predictions.append(int(yPred.split('_')[-1]))\n",
    "    # break"
   ]
  },
  {
   "cell_type": "code",
   "execution_count": null,
   "metadata": {},
   "outputs": [],
   "source": [
    "test_data_yTrue_yPred[\"y_pred\"]=np.array(predictions)"
   ]
  },
  {
   "cell_type": "code",
   "execution_count": null,
   "metadata": {},
   "outputs": [],
   "source": [
    "test_data_yTrue_yPred.head(1)"
   ]
  },
  {
   "cell_type": "code",
   "execution_count": null,
   "metadata": {},
   "outputs": [],
   "source": [
    "test_data_yTrue_yPred.to_json(model_folder+'/test_data_yTrue_yPred.json', orient = 'records')"
   ]
  },
  {
   "cell_type": "code",
   "execution_count": null,
   "metadata": {},
   "outputs": [],
   "source": [
    "# metrics\n",
    "target_names = ['Liberal', 'Conservative', 'Restricted']\n",
    "classi_report = classification_report(test_data_yTrue_yPred.label, test_data_yTrue_yPred.y_pred, target_names=target_names, digits=4)\n",
    "logger.info(\"classi_report:\\n{}\".format(classi_report))\n",
    "logger.info(\"Testing f1_weighted score: {}\".format(f1_score(test_data_yTrue_yPred.label, test_data_yTrue_yPred.y_pred, average='weighted')))\n",
    "logger.info(\"Plot ConfusionMatrix\")\n",
    "cm = confusion_matrix(test_data_yTrue_yPred.label, test_data_yTrue_yPred.y_pred)\n",
    "fig, ax = plt.subplots(figsize=(3,3))\n",
    "display_labels=['Liberal', 'Conservative', 'Restricted']\n",
    "SVM_ConfusionMatrix = sns.heatmap(cm, annot=True, xticklabels=display_labels, yticklabels=display_labels, cmap='Blues', ax=ax, fmt='d')\n",
    "plt.yticks(va=\"center\")\n",
    "plt.xticks(va=\"center\")\n",
    "fig.savefig(model_folder+'fasText_ConfusionMatrix.png', format='png', dpi=1200, bbox_inches='tight')\n",
    "# logger.info(\"ULMFitmodel prediction time {} seconds\".format(time.time()-SVMmodel__predict_st))"
   ]
  },
  {
   "cell_type": "code",
   "execution_count": null,
   "metadata": {},
   "outputs": [],
   "source": []
  },
  {
   "cell_type": "code",
   "execution_count": null,
   "metadata": {},
   "outputs": [],
   "source": []
  }
 ],
 "metadata": {
  "colab": {
   "collapsed_sections": [],
   "name": "ULMFITTrainer.ipynb",
   "provenance": []
  },
  "kernelspec": {
   "display_name": "Python [conda env:fastText] *",
   "language": "python",
   "name": "conda-env-fastText-py"
  },
  "language_info": {
   "codemirror_mode": {
    "name": "ipython",
    "version": 3
   },
   "file_extension": ".py",
   "mimetype": "text/x-python",
   "name": "python",
   "nbconvert_exporter": "python",
   "pygments_lexer": "ipython3",
   "version": "3.11.3"
  },
  "vscode": {
   "interpreter": {
    "hash": "916dbcbb3f70747c44a77c7bcd40155683ae19c65e1c03b4aa3499c5328201f1"
   }
  }
 },
 "nbformat": 4,
 "nbformat_minor": 4
}
