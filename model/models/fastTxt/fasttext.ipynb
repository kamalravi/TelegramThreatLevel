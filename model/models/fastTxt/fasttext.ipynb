{
 "cells": [
  {
   "cell_type": "code",
   "execution_count": 18,
   "id": "79d40445-17fb-4253-a6c2-5f87cdb5ecc9",
   "metadata": {},
   "outputs": [],
   "source": [
    "# Text Classification with fastText\n",
    "# Importing libraries\n",
    "import numpy as np, pandas as pd\n",
    "\n",
    "# NLP Preprocessing\n",
    "from gensim.utils import simple_preprocess\n",
    "\n",
    "import csv\n",
    "import fasttext"
   ]
  },
  {
   "cell_type": "code",
   "execution_count": 4,
   "id": "af1a14da-2a39-4682-9c3a-7266ef8e2a74",
   "metadata": {},
   "outputs": [],
   "source": [
    "# Importing the dataset\n",
    "dataset = pd.read_csv('train.csv')[['Body', 'Y']].rename(columns = {'Body': 'questions', 'Y': 'category'})\n",
    "ds = pd.read_csv('valid.csv')[['Body', 'Y']].rename(columns = {'Body': 'questions', 'Y': 'category'})"
   ]
  },
  {
   "cell_type": "code",
   "execution_count": 6,
   "id": "c55ad92a-6854-4c58-9d4d-350841642228",
   "metadata": {},
   "outputs": [
    {
     "data": {
      "text/html": [
       "<div>\n",
       "<style scoped>\n",
       "    .dataframe tbody tr th:only-of-type {\n",
       "        vertical-align: middle;\n",
       "    }\n",
       "\n",
       "    .dataframe tbody tr th {\n",
       "        vertical-align: top;\n",
       "    }\n",
       "\n",
       "    .dataframe thead th {\n",
       "        text-align: right;\n",
       "    }\n",
       "</style>\n",
       "<table border=\"1\" class=\"dataframe\">\n",
       "  <thead>\n",
       "    <tr style=\"text-align: right;\">\n",
       "      <th></th>\n",
       "      <th>questions</th>\n",
       "      <th>category</th>\n",
       "    </tr>\n",
       "  </thead>\n",
       "  <tbody>\n",
       "    <tr>\n",
       "      <th>0</th>\n",
       "      <td>I am having 4 different tables like \\r\\nselect...</td>\n",
       "      <td>LQ_EDIT</td>\n",
       "    </tr>\n",
       "    <tr>\n",
       "      <th>1</th>\n",
       "      <td>I have two table m_master and tbl_appointment\\...</td>\n",
       "      <td>LQ_EDIT</td>\n",
       "    </tr>\n",
       "    <tr>\n",
       "      <th>2</th>\n",
       "      <td>&lt;p&gt;I'm trying to extract US states from wiki U...</td>\n",
       "      <td>HQ</td>\n",
       "    </tr>\n",
       "    <tr>\n",
       "      <th>3</th>\n",
       "      <td>I'm so new to C#, I wanna make an application ...</td>\n",
       "      <td>LQ_EDIT</td>\n",
       "    </tr>\n",
       "    <tr>\n",
       "      <th>4</th>\n",
       "      <td>basically i have this array:\\r\\n\\r\\n    array(...</td>\n",
       "      <td>LQ_EDIT</td>\n",
       "    </tr>\n",
       "  </tbody>\n",
       "</table>\n",
       "</div>"
      ],
      "text/plain": [
       "                                           questions category\n",
       "0  I am having 4 different tables like \\r\\nselect...  LQ_EDIT\n",
       "1  I have two table m_master and tbl_appointment\\...  LQ_EDIT\n",
       "2  <p>I'm trying to extract US states from wiki U...       HQ\n",
       "3  I'm so new to C#, I wanna make an application ...  LQ_EDIT\n",
       "4  basically i have this array:\\r\\n\\r\\n    array(...  LQ_EDIT"
      ]
     },
     "execution_count": 6,
     "metadata": {},
     "output_type": "execute_result"
    }
   ],
   "source": [
    "ds.head()"
   ]
  },
  {
   "cell_type": "code",
   "execution_count": 7,
   "id": "9b0f8536-e8a3-41c9-8978-be52f2ba9a7a",
   "metadata": {},
   "outputs": [],
   "source": [
    "# NLP Preprocess\n",
    "dataset.iloc[:, 0] = dataset.iloc[:, 0].apply(lambda x: ' '.join(simple_preprocess(x)))\n",
    "ds.iloc[:, 0] = ds.iloc[:, 0].apply(lambda x: ' '.join(simple_preprocess(x)))"
   ]
  },
  {
   "cell_type": "code",
   "execution_count": 8,
   "id": "fb4ea421-7f38-4595-9b63-53bf4a020227",
   "metadata": {},
   "outputs": [
    {
     "data": {
      "text/html": [
       "<div>\n",
       "<style scoped>\n",
       "    .dataframe tbody tr th:only-of-type {\n",
       "        vertical-align: middle;\n",
       "    }\n",
       "\n",
       "    .dataframe tbody tr th {\n",
       "        vertical-align: top;\n",
       "    }\n",
       "\n",
       "    .dataframe thead th {\n",
       "        text-align: right;\n",
       "    }\n",
       "</style>\n",
       "<table border=\"1\" class=\"dataframe\">\n",
       "  <thead>\n",
       "    <tr style=\"text-align: right;\">\n",
       "      <th></th>\n",
       "      <th>questions</th>\n",
       "      <th>category</th>\n",
       "    </tr>\n",
       "  </thead>\n",
       "  <tbody>\n",
       "    <tr>\n",
       "      <th>0</th>\n",
       "      <td>am having different tables like select from sy...</td>\n",
       "      <td>LQ_EDIT</td>\n",
       "    </tr>\n",
       "    <tr>\n",
       "      <th>1</th>\n",
       "      <td>have two table m_master and tbl_appointment th...</td>\n",
       "      <td>LQ_EDIT</td>\n",
       "    </tr>\n",
       "    <tr>\n",
       "      <th>2</th>\n",
       "      <td>trying to extract us states from wiki url and ...</td>\n",
       "      <td>HQ</td>\n",
       "    </tr>\n",
       "    <tr>\n",
       "      <th>3</th>\n",
       "      <td>so new to wanna make an application that can e...</td>\n",
       "      <td>LQ_EDIT</td>\n",
       "    </tr>\n",
       "    <tr>\n",
       "      <th>4</th>\n",
       "      <td>basically have this array array array sub comp...</td>\n",
       "      <td>LQ_EDIT</td>\n",
       "    </tr>\n",
       "  </tbody>\n",
       "</table>\n",
       "</div>"
      ],
      "text/plain": [
       "                                           questions category\n",
       "0  am having different tables like select from sy...  LQ_EDIT\n",
       "1  have two table m_master and tbl_appointment th...  LQ_EDIT\n",
       "2  trying to extract us states from wiki url and ...       HQ\n",
       "3  so new to wanna make an application that can e...  LQ_EDIT\n",
       "4  basically have this array array array sub comp...  LQ_EDIT"
      ]
     },
     "execution_count": 8,
     "metadata": {},
     "output_type": "execute_result"
    }
   ],
   "source": [
    "ds.head()"
   ]
  },
  {
   "cell_type": "code",
   "execution_count": 9,
   "id": "1c61d44f-8f92-4ed0-a24c-3a7b73ece841",
   "metadata": {},
   "outputs": [],
   "source": [
    "# Prefixing each row of the category column with '__label__'\n",
    "dataset.iloc[:, 1] = dataset.iloc[:, 1].apply(lambda x: '__label__' + x)\n",
    "ds.iloc[:, 1] = ds.iloc[:, 1].apply(lambda x: '__label__' + x)"
   ]
  },
  {
   "cell_type": "code",
   "execution_count": 10,
   "id": "86971f98-c96b-4558-8bb8-af2271399cc7",
   "metadata": {},
   "outputs": [
    {
     "data": {
      "text/html": [
       "<div>\n",
       "<style scoped>\n",
       "    .dataframe tbody tr th:only-of-type {\n",
       "        vertical-align: middle;\n",
       "    }\n",
       "\n",
       "    .dataframe tbody tr th {\n",
       "        vertical-align: top;\n",
       "    }\n",
       "\n",
       "    .dataframe thead th {\n",
       "        text-align: right;\n",
       "    }\n",
       "</style>\n",
       "<table border=\"1\" class=\"dataframe\">\n",
       "  <thead>\n",
       "    <tr style=\"text-align: right;\">\n",
       "      <th></th>\n",
       "      <th>questions</th>\n",
       "      <th>category</th>\n",
       "    </tr>\n",
       "  </thead>\n",
       "  <tbody>\n",
       "    <tr>\n",
       "      <th>0</th>\n",
       "      <td>am having different tables like select from sy...</td>\n",
       "      <td>__label__LQ_EDIT</td>\n",
       "    </tr>\n",
       "    <tr>\n",
       "      <th>1</th>\n",
       "      <td>have two table m_master and tbl_appointment th...</td>\n",
       "      <td>__label__LQ_EDIT</td>\n",
       "    </tr>\n",
       "    <tr>\n",
       "      <th>2</th>\n",
       "      <td>trying to extract us states from wiki url and ...</td>\n",
       "      <td>__label__HQ</td>\n",
       "    </tr>\n",
       "    <tr>\n",
       "      <th>3</th>\n",
       "      <td>so new to wanna make an application that can e...</td>\n",
       "      <td>__label__LQ_EDIT</td>\n",
       "    </tr>\n",
       "    <tr>\n",
       "      <th>4</th>\n",
       "      <td>basically have this array array array sub comp...</td>\n",
       "      <td>__label__LQ_EDIT</td>\n",
       "    </tr>\n",
       "  </tbody>\n",
       "</table>\n",
       "</div>"
      ],
      "text/plain": [
       "                                           questions          category\n",
       "0  am having different tables like select from sy...  __label__LQ_EDIT\n",
       "1  have two table m_master and tbl_appointment th...  __label__LQ_EDIT\n",
       "2  trying to extract us states from wiki url and ...       __label__HQ\n",
       "3  so new to wanna make an application that can e...  __label__LQ_EDIT\n",
       "4  basically have this array array array sub comp...  __label__LQ_EDIT"
      ]
     },
     "execution_count": 10,
     "metadata": {},
     "output_type": "execute_result"
    }
   ],
   "source": [
    "ds.head()"
   ]
  },
  {
   "cell_type": "code",
   "execution_count": 15,
   "id": "6b2df49f-2d2a-4bb7-a621-862feb628d2a",
   "metadata": {},
   "outputs": [],
   "source": [
    "# Saving the CSV file as a text file to train/test the classifier\n",
    "dataset[['category', 'questions']].to_csv('train.txt', \n",
    "                                          index = False, \n",
    "                                          sep = ' ',\n",
    "                                          header = None, \n",
    "                                          quoting = csv.QUOTE_NONE, \n",
    "                                          quotechar = \"\", \n",
    "                                          escapechar = \" \")"
   ]
  },
  {
   "cell_type": "code",
   "execution_count": 14,
   "id": "b4c85000-c387-4e48-ba38-0a6b816eb111",
   "metadata": {},
   "outputs": [],
   "source": [
    "ds[['category', 'questions']].to_csv('test.txt', \n",
    "                                     index = False, \n",
    "                                     sep = ' ',\n",
    "                                     header = None, \n",
    "                                     quoting = csv.QUOTE_NONE, \n",
    "                                     quotechar = \"\", \n",
    "                                     escapechar = \" \")"
   ]
  },
  {
   "cell_type": "code",
   "execution_count": 19,
   "id": "298107e7-3323-42d1-9760-37adb3c623ef",
   "metadata": {},
   "outputs": [
    {
     "name": "stderr",
     "output_type": "stream",
     "text": [
      "Read 5M words\n",
      "Number of words:  136076\n",
      "Number of labels: 3\n",
      "Progress: 100.0% words/sec/thread:  618342 lr:  0.000000 avg.loss:  0.433807 ETA:   0h 0m 0s\n"
     ]
    }
   ],
   "source": [
    "# Training the fastText classifier\n",
    "model = fasttext.train_supervised('train.txt', wordNgrams = 2)"
   ]
  },
  {
   "cell_type": "code",
   "execution_count": 20,
   "id": "9e1fe2bd-f23d-4a94-b0c5-6d2deedb2145",
   "metadata": {},
   "outputs": [
    {
     "data": {
      "text/plain": [
       "(15000, 0.8379333333333333, 0.8379333333333333)"
      ]
     },
     "execution_count": 20,
     "metadata": {},
     "output_type": "execute_result"
    }
   ],
   "source": [
    "# Evaluating performance on the entire test file\n",
    "model.test('test.txt')                      "
   ]
  },
  {
   "cell_type": "code",
   "execution_count": 21,
   "id": "7b4b489c-f8c6-43b9-8afb-7a8c7b9d9ac0",
   "metadata": {},
   "outputs": [
    {
     "data": {
      "text/plain": [
       "(('__label__HQ',), array([0.94950062]))"
      ]
     },
     "execution_count": 21,
     "metadata": {},
     "output_type": "execute_result"
    }
   ],
   "source": [
    "# Predicting on a single input\n",
    "model.predict(ds.iloc[2, 0])"
   ]
  },
  {
   "cell_type": "code",
   "execution_count": 22,
   "id": "f14bebed-9455-493c-81d6-8b01191e730c",
   "metadata": {},
   "outputs": [],
   "source": [
    "# Save the trained model\n",
    "model.save_model('model.bin')"
   ]
  },
  {
   "cell_type": "code",
   "execution_count": null,
   "id": "7a10f3f3-89ba-438f-8afd-1b5511f0fe91",
   "metadata": {},
   "outputs": [],
   "source": []
  }
 ],
 "metadata": {
  "kernelspec": {
   "display_name": "Python [conda env:fastText] *",
   "language": "python",
   "name": "conda-env-fastText-py"
  },
  "language_info": {
   "codemirror_mode": {
    "name": "ipython",
    "version": 3
   },
   "file_extension": ".py",
   "mimetype": "text/x-python",
   "name": "python",
   "nbconvert_exporter": "python",
   "pygments_lexer": "ipython3",
   "version": "3.11.3"
  }
 },
 "nbformat": 4,
 "nbformat_minor": 5
}
