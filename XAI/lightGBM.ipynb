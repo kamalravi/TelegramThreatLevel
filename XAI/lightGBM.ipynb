{
 "cells": [
  {
   "cell_type": "code",
   "execution_count": 2,
   "id": "4b295be7-c667-40bc-8f00-3aba590f0f3c",
   "metadata": {},
   "outputs": [],
   "source": [
    "import pandas as pd\n",
    "import glob\n",
    "import numpy as np\n",
    "import json\n",
    "import math\n",
    "from natsort import natsorted\n",
    "from sklearn.metrics import cohen_kappa_score\n",
    "from sklearn.metrics import classification_report, f1_score, accuracy_score, recall_score, precision_score\n",
    "from sklearn.metrics import confusion_matrix\n",
    "import matplotlib.pyplot as plt\n",
    "import seaborn as sns"
   ]
  },
  {
   "cell_type": "markdown",
   "id": "555739eb",
   "metadata": {},
   "source": [
    "# model predictions"
   ]
  },
  {
   "cell_type": "code",
   "execution_count": 3,
   "id": "39229413",
   "metadata": {},
   "outputs": [],
   "source": [
    "df60k = pd.read_json('/home/ravi/raviProject/DataModelsResults/Results/GBM/Labeled_2261_test_yPred_lightGBM.json', orient='records')"
   ]
  },
  {
   "cell_type": "code",
   "execution_count": 4,
   "id": "0c371161",
   "metadata": {},
   "outputs": [],
   "source": [
    "df60k = df60k.rename(columns={\"label\": \"Label\", \"text\": \"reply\"})"
   ]
  },
  {
   "cell_type": "code",
   "execution_count": 5,
   "id": "1c490599",
   "metadata": {},
   "outputs": [
    {
     "data": {
      "text/html": [
       "<div>\n",
       "<style scoped>\n",
       "    .dataframe tbody tr th:only-of-type {\n",
       "        vertical-align: middle;\n",
       "    }\n",
       "\n",
       "    .dataframe tbody tr th {\n",
       "        vertical-align: top;\n",
       "    }\n",
       "\n",
       "    .dataframe thead th {\n",
       "        text-align: right;\n",
       "    }\n",
       "</style>\n",
       "<table border=\"1\" class=\"dataframe\">\n",
       "  <thead>\n",
       "    <tr style=\"text-align: right;\">\n",
       "      <th></th>\n",
       "      <th>replyDate</th>\n",
       "      <th>reply</th>\n",
       "      <th>telegramChannel</th>\n",
       "      <th>Label</th>\n",
       "      <th>y_pred</th>\n",
       "    </tr>\n",
       "  </thead>\n",
       "  <tbody>\n",
       "    <tr>\n",
       "      <th>0</th>\n",
       "      <td>1671051885</td>\n",
       "      <td>We need the return of Jesus Christ !!!!!</td>\n",
       "      <td>TrumpSupportersChannel.json</td>\n",
       "      <td>0</td>\n",
       "      <td>0</td>\n",
       "    </tr>\n",
       "  </tbody>\n",
       "</table>\n",
       "</div>"
      ],
      "text/plain": [
       "    replyDate                                     reply  \\\n",
       "0  1671051885  We need the return of Jesus Christ !!!!!   \n",
       "\n",
       "               telegramChannel  Label  y_pred  \n",
       "0  TrumpSupportersChannel.json      0       0  "
      ]
     },
     "execution_count": 5,
     "metadata": {},
     "output_type": "execute_result"
    }
   ],
   "source": [
    "df60k.head(1)"
   ]
  },
  {
   "cell_type": "code",
   "execution_count": 6,
   "id": "b8295750",
   "metadata": {},
   "outputs": [
    {
     "data": {
      "text/plain": [
       "0    948\n",
       "2    665\n",
       "1    648\n",
       "Name: y_pred, dtype: int64"
      ]
     },
     "execution_count": 6,
     "metadata": {},
     "output_type": "execute_result"
    }
   ],
   "source": [
    "df60k['y_pred'].value_counts()"
   ]
  },
  {
   "cell_type": "code",
   "execution_count": 7,
   "id": "45a7ae55",
   "metadata": {},
   "outputs": [
    {
     "data": {
      "text/html": [
       "<div>\n",
       "<style scoped>\n",
       "    .dataframe tbody tr th:only-of-type {\n",
       "        vertical-align: middle;\n",
       "    }\n",
       "\n",
       "    .dataframe tbody tr th {\n",
       "        vertical-align: top;\n",
       "    }\n",
       "\n",
       "    .dataframe thead th {\n",
       "        text-align: right;\n",
       "    }\n",
       "</style>\n",
       "<table border=\"1\" class=\"dataframe\">\n",
       "  <thead>\n",
       "    <tr style=\"text-align: right;\">\n",
       "      <th></th>\n",
       "      <th>replyDate</th>\n",
       "      <th>reply</th>\n",
       "      <th>telegramChannel</th>\n",
       "      <th>Label</th>\n",
       "      <th>y_pred</th>\n",
       "    </tr>\n",
       "  </thead>\n",
       "  <tbody>\n",
       "    <tr>\n",
       "      <th>0</th>\n",
       "      <td>1671051885</td>\n",
       "      <td>We need the return of Jesus Christ !!!!!</td>\n",
       "      <td>TrumpSupportersChannel.json</td>\n",
       "      <td>0</td>\n",
       "      <td>0</td>\n",
       "    </tr>\n",
       "    <tr>\n",
       "      <th>1</th>\n",
       "      <td>1640990640</td>\n",
       "      <td>I don’t care about him retiring! I want to kno...</td>\n",
       "      <td>AnalyzingAmerica.json</td>\n",
       "      <td>1</td>\n",
       "      <td>0</td>\n",
       "    </tr>\n",
       "    <tr>\n",
       "      <th>2</th>\n",
       "      <td>1655419773</td>\n",
       "      <td>The gallows have claimed him already</td>\n",
       "      <td>TrumpSupportersChannel.json</td>\n",
       "      <td>2</td>\n",
       "      <td>0</td>\n",
       "    </tr>\n",
       "    <tr>\n",
       "      <th>3</th>\n",
       "      <td>1668105585</td>\n",
       "      <td>We The People need to see EBS and military SOO...</td>\n",
       "      <td>ThePatriotVoice.json</td>\n",
       "      <td>0</td>\n",
       "      <td>2</td>\n",
       "    </tr>\n",
       "    <tr>\n",
       "      <th>4</th>\n",
       "      <td>1692627228</td>\n",
       "      <td>DEWs shot down to murder the locals in the way...</td>\n",
       "      <td>ResisttheMainstream.json</td>\n",
       "      <td>0</td>\n",
       "      <td>2</td>\n",
       "    </tr>\n",
       "  </tbody>\n",
       "</table>\n",
       "</div>"
      ],
      "text/plain": [
       "    replyDate                                              reply  \\\n",
       "0  1671051885           We need the return of Jesus Christ !!!!!   \n",
       "1  1640990640  I don’t care about him retiring! I want to kno...   \n",
       "2  1655419773               The gallows have claimed him already   \n",
       "3  1668105585  We The People need to see EBS and military SOO...   \n",
       "4  1692627228  DEWs shot down to murder the locals in the way...   \n",
       "\n",
       "               telegramChannel  Label  y_pred  \n",
       "0  TrumpSupportersChannel.json      0       0  \n",
       "1        AnalyzingAmerica.json      1       0  \n",
       "2  TrumpSupportersChannel.json      2       0  \n",
       "3         ThePatriotVoice.json      0       2  \n",
       "4     ResisttheMainstream.json      0       2  "
      ]
     },
     "execution_count": 7,
     "metadata": {},
     "output_type": "execute_result"
    }
   ],
   "source": [
    "# Print the first few rows to verify\n",
    "df60k.head()"
   ]
  },
  {
   "cell_type": "code",
   "execution_count": 8,
   "id": "23accea3",
   "metadata": {},
   "outputs": [
    {
     "data": {
      "text/plain": [
       "0.7557090847528433"
      ]
     },
     "execution_count": 8,
     "metadata": {},
     "output_type": "execute_result"
    }
   ],
   "source": [
    "precision_score(df60k['Label'], df60k['y_pred'], average='weighted')"
   ]
  },
  {
   "cell_type": "code",
   "execution_count": 9,
   "id": "52b7d88d",
   "metadata": {},
   "outputs": [
    {
     "data": {
      "text/plain": [
       "0.7390535161432994"
      ]
     },
     "execution_count": 9,
     "metadata": {},
     "output_type": "execute_result"
    }
   ],
   "source": [
    "recall_score(df60k['Label'], df60k['y_pred'], average='weighted')"
   ]
  },
  {
   "cell_type": "code",
   "execution_count": 10,
   "id": "0256f5f0",
   "metadata": {},
   "outputs": [
    {
     "data": {
      "text/plain": [
       "0.741320650132949"
      ]
     },
     "execution_count": 10,
     "metadata": {},
     "output_type": "execute_result"
    }
   ],
   "source": [
    "f1_score(df60k['Label'], df60k['y_pred'], average='weighted')"
   ]
  },
  {
   "cell_type": "code",
   "execution_count": 11,
   "id": "c9ff6868",
   "metadata": {},
   "outputs": [
    {
     "data": {
      "text/plain": [
       "0.7390535161432994"
      ]
     },
     "execution_count": 11,
     "metadata": {},
     "output_type": "execute_result"
    }
   ],
   "source": [
    "accuracy_score(df60k['Label'], df60k['y_pred'])"
   ]
  },
  {
   "cell_type": "code",
   "execution_count": 12,
   "id": "ec78116d",
   "metadata": {},
   "outputs": [],
   "source": [
    "# Generate classification report\n",
    "class_report = classification_report(df60k['Label'], df60k['y_pred'])"
   ]
  },
  {
   "cell_type": "code",
   "execution_count": 13,
   "id": "c6e976a7",
   "metadata": {},
   "outputs": [
    {
     "name": "stdout",
     "output_type": "stream",
     "text": [
      "Classification Report:\n",
      "               precision    recall  f1-score   support\n",
      "\n",
      "           0       0.63      0.80      0.70       753\n",
      "           1       0.80      0.74      0.77       699\n",
      "           2       0.83      0.69      0.75       809\n",
      "\n",
      "    accuracy                           0.74      2261\n",
      "   macro avg       0.75      0.74      0.74      2261\n",
      "weighted avg       0.76      0.74      0.74      2261\n",
      "\n"
     ]
    }
   ],
   "source": [
    "print(\"Classification Report:\\n\", class_report)"
   ]
  },
  {
   "cell_type": "code",
   "execution_count": 14,
   "id": "4c30c245",
   "metadata": {},
   "outputs": [
    {
     "data": {
      "image/png": "[encoded data removed]",
      "text/plain": [
       "<Figure size 432x288 with 2 Axes>"
      ]
     },
     "metadata": {
      "needs_background": "light"
     },
     "output_type": "display_data"
    }
   ],
   "source": [
    "import matplotlib.pyplot as plt\n",
    "from sklearn.metrics import ConfusionMatrixDisplay, confusion_matrix\n",
    "import pandas as pd\n",
    "\n",
    "# Assuming 'df60k' DataFrame with 'Label' and 'y_pred' columns exists\n",
    "\n",
    "# Calculate the confusion matrix\n",
    "conf_matrix = confusion_matrix(df60k['Label'], df60k['y_pred'])\n",
    "\n",
    "# Create a ConfusionMatrixDisplay instance\n",
    "cm_display = ConfusionMatrixDisplay(confusion_matrix=conf_matrix, display_labels=[0, 1, 2])\n",
    "\n",
    "# Plot the confusion matrix\n",
    "cm_display.plot(cmap='Blues', values_format='d')\n",
    "\n",
    "# Show the plot\n",
    "plt.show()"
   ]
  },
  {
   "cell_type": "code",
   "execution_count": 15,
   "id": "c63ac7ed",
   "metadata": {},
   "outputs": [
    {
     "data": {
      "text/plain": [
       "array([[599,  77,  77],\n",
       "       [149, 517,  33],\n",
       "       [200,  54, 555]])"
      ]
     },
     "execution_count": 15,
     "metadata": {},
     "output_type": "execute_result"
    }
   ],
   "source": [
    "conf_matrix"
   ]
  },
  {
   "cell_type": "code",
   "execution_count": null,
   "id": "1b9e64b3",
   "metadata": {},
   "outputs": [],
   "source": []
  }
 ],
 "metadata": {
  "kernelspec": {
   "display_name": "base",
   "language": "python",
   "name": "python3"
  },
  "language_info": {
   "codemirror_mode": {
    "name": "ipython",
    "version": 3
   },
   "file_extension": ".py",
   "mimetype": "text/x-python",
   "name": "python",
   "nbconvert_exporter": "python",
   "pygments_lexer": "ipython3",
   "version": "3.10.4"
  }
 },
 "nbformat": 4,
 "nbformat_minor": 5
}
