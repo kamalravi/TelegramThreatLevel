{
 "cells": [
  {
   "cell_type": "code",
   "execution_count": 207,
   "id": "4b295be7-c667-40bc-8f00-3aba590f0f3c",
   "metadata": {},
   "outputs": [],
   "source": [
    "import numpy as np\n",
    "import pandas as pd\n",
    "import glob\n",
    "import json\n",
    "import math\n",
    "from natsort import natsorted\n",
    "from sklearn.metrics import cohen_kappa_score\n",
    "from sklearn.metrics import classification_report, f1_score, accuracy_score, recall_score, precision_score\n",
    "from sklearn.metrics import confusion_matrix\n",
    "import matplotlib.pyplot as plt\n",
    "import seaborn as sns"
   ]
  },
  {
   "cell_type": "markdown",
   "id": "555739eb",
   "metadata": {},
   "source": [
    "# model predictions"
   ]
  },
  {
   "cell_type": "code",
   "execution_count": 208,
   "id": "39229413",
   "metadata": {},
   "outputs": [],
   "source": [
    "df60k = pd.read_json('/home/ravi/raviProject/DataModelsResults/Results/PreTrainAgain_FineTune_RoBERTa_400/preTrainedModel/CustomPreTrainedClassifier/Labeled_2261_test_yPred_preTrainFT_RoBERTa_60kSteps.json', orient='records')"
   ]
  },
  {
   "cell_type": "code",
   "execution_count": 209,
   "id": "1c490599",
   "metadata": {},
   "outputs": [
    {
     "data": {
      "text/html": [
       "<div>\n",
       "<style scoped>\n",
       "    .dataframe tbody tr th:only-of-type {\n",
       "        vertical-align: middle;\n",
       "    }\n",
       "\n",
       "    .dataframe tbody tr th {\n",
       "        vertical-align: top;\n",
       "    }\n",
       "\n",
       "    .dataframe thead th {\n",
       "        text-align: right;\n",
       "    }\n",
       "</style>\n",
       "<table border=\"1\" class=\"dataframe\">\n",
       "  <thead>\n",
       "    <tr style=\"text-align: right;\">\n",
       "      <th></th>\n",
       "      <th>replyDate</th>\n",
       "      <th>text</th>\n",
       "      <th>telegramChannel</th>\n",
       "      <th>Label</th>\n",
       "      <th>y_pred</th>\n",
       "    </tr>\n",
       "  </thead>\n",
       "  <tbody>\n",
       "    <tr>\n",
       "      <th>0</th>\n",
       "      <td>1671051885</td>\n",
       "      <td>We need the return of Jesus Christ !!!!!</td>\n",
       "      <td>TrumpSupportersChannel.json</td>\n",
       "      <td>0</td>\n",
       "      <td>0</td>\n",
       "    </tr>\n",
       "  </tbody>\n",
       "</table>\n",
       "</div>"
      ],
      "text/plain": [
       "    replyDate                                      text  \\\n",
       "0  1671051885  We need the return of Jesus Christ !!!!!   \n",
       "\n",
       "               telegramChannel  Label  y_pred  \n",
       "0  TrumpSupportersChannel.json      0       0  "
      ]
     },
     "execution_count": 209,
     "metadata": {},
     "output_type": "execute_result"
    }
   ],
   "source": [
    "df60k.head(1)"
   ]
  },
  {
   "cell_type": "code",
   "execution_count": 210,
   "id": "b8295750",
   "metadata": {},
   "outputs": [
    {
     "data": {
      "text/plain": [
       "2    803\n",
       "0    757\n",
       "1    701\n",
       "Name: y_pred, dtype: int64"
      ]
     },
     "execution_count": 210,
     "metadata": {},
     "output_type": "execute_result"
    }
   ],
   "source": [
    "df60k['y_pred'].value_counts()"
   ]
  },
  {
   "cell_type": "code",
   "execution_count": 211,
   "id": "45a7ae55",
   "metadata": {},
   "outputs": [
    {
     "data": {
      "text/html": [
       "<div>\n",
       "<style scoped>\n",
       "    .dataframe tbody tr th:only-of-type {\n",
       "        vertical-align: middle;\n",
       "    }\n",
       "\n",
       "    .dataframe tbody tr th {\n",
       "        vertical-align: top;\n",
       "    }\n",
       "\n",
       "    .dataframe thead th {\n",
       "        text-align: right;\n",
       "    }\n",
       "</style>\n",
       "<table border=\"1\" class=\"dataframe\">\n",
       "  <thead>\n",
       "    <tr style=\"text-align: right;\">\n",
       "      <th></th>\n",
       "      <th>replyDate</th>\n",
       "      <th>text</th>\n",
       "      <th>telegramChannel</th>\n",
       "      <th>Label</th>\n",
       "      <th>y_pred</th>\n",
       "    </tr>\n",
       "  </thead>\n",
       "  <tbody>\n",
       "    <tr>\n",
       "      <th>0</th>\n",
       "      <td>1671051885</td>\n",
       "      <td>We need the return of Jesus Christ !!!!!</td>\n",
       "      <td>TrumpSupportersChannel.json</td>\n",
       "      <td>0</td>\n",
       "      <td>0</td>\n",
       "    </tr>\n",
       "    <tr>\n",
       "      <th>1</th>\n",
       "      <td>1640990640</td>\n",
       "      <td>I don’t care about him retiring! I want to kno...</td>\n",
       "      <td>AnalyzingAmerica.json</td>\n",
       "      <td>1</td>\n",
       "      <td>1</td>\n",
       "    </tr>\n",
       "    <tr>\n",
       "      <th>2</th>\n",
       "      <td>1655419773</td>\n",
       "      <td>The gallows have claimed him already</td>\n",
       "      <td>TrumpSupportersChannel.json</td>\n",
       "      <td>2</td>\n",
       "      <td>2</td>\n",
       "    </tr>\n",
       "    <tr>\n",
       "      <th>3</th>\n",
       "      <td>1668105585</td>\n",
       "      <td>We The People need to see EBS and military SOO...</td>\n",
       "      <td>ThePatriotVoice.json</td>\n",
       "      <td>0</td>\n",
       "      <td>2</td>\n",
       "    </tr>\n",
       "    <tr>\n",
       "      <th>4</th>\n",
       "      <td>1692627228</td>\n",
       "      <td>DEWs shot down to murder the locals in the way...</td>\n",
       "      <td>ResisttheMainstream.json</td>\n",
       "      <td>0</td>\n",
       "      <td>2</td>\n",
       "    </tr>\n",
       "  </tbody>\n",
       "</table>\n",
       "</div>"
      ],
      "text/plain": [
       "    replyDate                                               text  \\\n",
       "0  1671051885           We need the return of Jesus Christ !!!!!   \n",
       "1  1640990640  I don’t care about him retiring! I want to kno...   \n",
       "2  1655419773               The gallows have claimed him already   \n",
       "3  1668105585  We The People need to see EBS and military SOO...   \n",
       "4  1692627228  DEWs shot down to murder the locals in the way...   \n",
       "\n",
       "               telegramChannel  Label  y_pred  \n",
       "0  TrumpSupportersChannel.json      0       0  \n",
       "1        AnalyzingAmerica.json      1       1  \n",
       "2  TrumpSupportersChannel.json      2       2  \n",
       "3         ThePatriotVoice.json      0       2  \n",
       "4     ResisttheMainstream.json      0       2  "
      ]
     },
     "execution_count": 211,
     "metadata": {},
     "output_type": "execute_result"
    }
   ],
   "source": [
    "# Print the first few rows to verify\n",
    "df60k.head()"
   ]
  },
  {
   "cell_type": "code",
   "execution_count": 212,
   "id": "23accea3",
   "metadata": {},
   "outputs": [
    {
     "data": {
      "text/plain": [
       "0.9027897105998469"
      ]
     },
     "execution_count": 212,
     "metadata": {},
     "output_type": "execute_result"
    }
   ],
   "source": [
    "precision_score(df60k['Label'], df60k['y_pred'], average='weighted')"
   ]
  },
  {
   "cell_type": "code",
   "execution_count": 213,
   "id": "52b7d88d",
   "metadata": {},
   "outputs": [
    {
     "data": {
      "text/plain": [
       "0.9026979212737727"
      ]
     },
     "execution_count": 213,
     "metadata": {},
     "output_type": "execute_result"
    }
   ],
   "source": [
    "recall_score(df60k['Label'], df60k['y_pred'], average='weighted')"
   ]
  },
  {
   "cell_type": "code",
   "execution_count": 214,
   "id": "0256f5f0",
   "metadata": {},
   "outputs": [
    {
     "data": {
      "text/plain": [
       "0.9027366536885355"
      ]
     },
     "execution_count": 214,
     "metadata": {},
     "output_type": "execute_result"
    }
   ],
   "source": [
    "f1_score(df60k['Label'], df60k['y_pred'], average='weighted')"
   ]
  },
  {
   "cell_type": "code",
   "execution_count": 215,
   "id": "c9ff6868",
   "metadata": {},
   "outputs": [
    {
     "data": {
      "text/plain": [
       "0.9026979212737727"
      ]
     },
     "execution_count": 215,
     "metadata": {},
     "output_type": "execute_result"
    }
   ],
   "source": [
    "accuracy_score(df60k['Label'], df60k['y_pred'])"
   ]
  },
  {
   "cell_type": "code",
   "execution_count": 216,
   "id": "ec78116d",
   "metadata": {},
   "outputs": [],
   "source": [
    "# Generate classification report\n",
    "class_report = classification_report(df60k['Label'], df60k['y_pred'])"
   ]
  },
  {
   "cell_type": "code",
   "execution_count": 217,
   "id": "c6e976a7",
   "metadata": {},
   "outputs": [
    {
     "name": "stdout",
     "output_type": "stream",
     "text": [
      "Classification Report:\n",
      "               precision    recall  f1-score   support\n",
      "\n",
      "           0       0.87      0.87      0.87       753\n",
      "           1       0.92      0.92      0.92       699\n",
      "           2       0.92      0.91      0.92       809\n",
      "\n",
      "    accuracy                           0.90      2261\n",
      "   macro avg       0.90      0.90      0.90      2261\n",
      "weighted avg       0.90      0.90      0.90      2261\n",
      "\n"
     ]
    }
   ],
   "source": [
    "print(\"Classification Report:\\n\", class_report)"
   ]
  },
  {
   "cell_type": "code",
   "execution_count": 311,
   "id": "e0ed2efa",
   "metadata": {},
   "outputs": [
    {
     "data": {
      "image/png": "[encoded data removed]",
      "text/plain": [
       "<Figure size 250x250 with 1 Axes>"
      ]
     },
     "metadata": {},
     "output_type": "display_data"
    },
    {
     "name": "stdout",
     "output_type": "stream",
     "text": [
      "[[658.          44.          51.          87.38379814]\n",
      " [ 42.         644.          13.          92.1316166 ]\n",
      " [ 57.          13.         739.          91.3473424 ]\n",
      " [ 86.92206077  91.86875892  92.02988792   0.        ]]\n"
     ]
    }
   ],
   "source": [
    "import matplotlib.pyplot as plt\n",
    "import numpy as np\n",
    "from sklearn.metrics import confusion_matrix\n",
    "import pandas as pd\n",
    "\n",
    "df = df60k.copy()\n",
    "\n",
    "# Calculate the confusion matrix\n",
    "conf_matrix = confusion_matrix(df['Label'], df['y_pred'])\n",
    "# Calculate sums for each column and row\n",
    "row_sums = conf_matrix.sum(axis=1)\n",
    "col_sums = conf_matrix.sum(axis=0)\n",
    "# Calculate required percentages for columns\n",
    "col_percent = [\n",
    "    [\n",
    "        conf_matrix[i, i] / row_sums[i] * 100 if row_sums[i] > 0 else 0,  # TP percentage\n",
    "        (row_sums[i] - conf_matrix[i, i]) / row_sums[i] * 100 if row_sums[i] > 0 else 0  # FP percentage\n",
    "    ] for i in range(conf_matrix.shape[0])\n",
    "]\n",
    "# Calculate required percentages for rows\n",
    "row_percent = [\n",
    "    [\n",
    "        conf_matrix[i, i] / col_sums[i] * 100 if col_sums[i] > 0 else 0,  # TP percentage\n",
    "        (col_sums[i] - conf_matrix[i, i]) / col_sums[i] * 100 if col_sums[i] > 0 else 0  # FP percentage\n",
    "    ] for i in range(conf_matrix.shape[0])\n",
    "]\n",
    "# Create a 4x4 matrix for the confusion matrix and the calculated percentages\n",
    "sum_matrix = np.zeros((4, 4))  # Create a 4x4 matrix\n",
    "# print(conf_matrix)\n",
    "sum_matrix[:-1, :-1] = conf_matrix  # Top-left 3x3 for the confusion matrix\n",
    "# print(sum_matrix)\n",
    "# Fill last row and column with calculated percentages\n",
    "for i in range(3):\n",
    "    sum_matrix[i, -1] = col_percent[i][0]  # TP % in last column\n",
    "    sum_matrix[i, -2] = col_percent[i][1]  # FP % in last column\n",
    "    sum_matrix[-1, i] = row_percent[i][0]  # TP % in last row\n",
    "    sum_matrix[-2, i] = row_percent[i][1]  # FP % in last row\n",
    "# Calculate the sum for the entire confusion matrix\n",
    "total_sum = conf_matrix.sum()\n",
    "# Calculate the sum of the diagonal values (0,0), (1,1), (2,2)\n",
    "diagonal_sum = conf_matrix[0, 0] + conf_matrix[1, 1] + conf_matrix[2, 2]\n",
    "# Calculate the sum of all values except for the diagonal ones\n",
    "off_diagonal_sum = total_sum - diagonal_sum\n",
    "# Calculate the desired values for the bottom right cell\n",
    "bottom_right_value_1 = diagonal_sum / total_sum\n",
    "bottom_right_value_2 = off_diagonal_sum / total_sum\n",
    "# print(sum_matrix)\n",
    "# Create a figure with a specified width and height\n",
    "# plt.figure(figsize=(3.5, 3.5))\n",
    "plt.figure(figsize=(2.5, 2.5))\n",
    "# Create a color array for the confusion matrix (4x4, each cell has 3 values for RGB)\n",
    "colors = np.ones((4, 4, 3))  # Initialize all cells to white [1, 1, 1]\n",
    "# Create the colormap from the colors array\n",
    "cmap = plt.cm.colors.ListedColormap(colors.reshape(-1, 3))\n",
    "# print(sum_matrix)\n",
    "sum_matrix[:-1, :-1] = conf_matrix  # Top-left 3x3 for the confusion matrix\n",
    "# print(\"afeter change\")\n",
    "# print(sum_matrix)\n",
    "# Display the confusion matrix with percentages\n",
    "plt.imshow(sum_matrix, cmap=cmap, aspect='auto')\n",
    "\n",
    "# Add text for the confusion matrix and metrics\n",
    "for i in range(4):\n",
    "    for j in range(4):\n",
    "        # Only display numeric values for the confusion matrix cells\n",
    "        if i < 3 and j < 3:  # Confusion matrix cells\n",
    "            color = 'green' if i == j else 'red'  # Set diagonal color to green\n",
    "            plt.text(j, i, f\"{sum_matrix[i, j]:.0f}\", ha='center', va='center', color=color, fontsize=8)\n",
    "        \n",
    "        # True Positives (green) and False Positives (red) in last row (TP/FP for columns)\n",
    "        elif i == 3 and j < 3:  # TP percentages in the last row\n",
    "            plt.text(j, i-0.1, f\"{row_percent[j][0]:.1f}%\", ha='center', va='center', color='green', fontsize=8)\n",
    "            plt.text(j, i + 0.15, f\"{row_percent[j][1]:.1f}%\", ha='center', va='center', color='red', fontsize=8)\n",
    "        \n",
    "        # True Positives (green) and False Positives (red) in the last column (TP/FP for rows)\n",
    "        elif j == 3 and i < 3:  # Percentages in the last column (for rows)\n",
    "            plt.text(j, i, f\"{col_percent[i][0]:.1f}%\", ha='center', va='bottom', color='green', fontsize=8)  # TP (upper line)\n",
    "            plt.text(j, i+ 0.06, f\"{col_percent[i][1]:.1f}%\", ha='center', va='top', color='red', fontsize=8)  # FP (lower line)\n",
    "\n",
    "        # True Positives (green) and False Positives (red) in the last cell (TP/FP for rows)\n",
    "        elif j == 3 and i == 3:  # Percentages in the last column (for rows)\n",
    "            plt.text(j, i, f\"{bottom_right_value_1:.1f}%\", ha='center', va='bottom', color='green', fontsize=8)  # TP (upper line)\n",
    "            plt.text(j, i+ 0.06, f\"{bottom_right_value_2:.1f}%\", ha='center', va='top', color='red', fontsize=8)  # FP (lower line)\n",
    "\n",
    "# Set ticks and labels\n",
    "plt.xticks(ticks=np.arange(4), labels=['NT', 'JT', 'NJT', 'TP/FP'], fontsize=8)\n",
    "plt.yticks(ticks=np.arange(4), labels=['NT', 'JT', 'NJT', 'TP/FP'], fontsize=8)\n",
    "# Add borders\n",
    "for i in range(4):\n",
    "    for j in range(4):\n",
    "        plt.gca().add_patch(plt.Rectangle((j - 0.5, i - 0.5), 1, 1, edgecolor='black', facecolor='none', lw=0.5))\n",
    "# Aesthetic customizations\n",
    "# plt.gca().set_facecolor('#ffffff')  # White background for better contrast\n",
    "plt.grid(False)  # Disable grid for a clean look\n",
    "# Add labels\n",
    "plt.xlabel('Predicted Label')\n",
    "plt.ylabel('True Label')\n",
    "# Show the plot\n",
    "plt.tight_layout()\n",
    "\n",
    "plt.savefig('/home/ravi/raviProject/DataModelsResults/Results/PreTrainAgain_FineTune_RoBERTa_400/preTrainedModel/CustomPreTrainedClassifier/ConfusionMatrixDisplay.png', format='png', dpi=1200)\n",
    "\n",
    "\n",
    "plt.show()\n",
    "\n",
    "print(sum_matrix)"
   ]
  },
  {
   "cell_type": "markdown",
   "id": "db476bc8",
   "metadata": {},
   "source": [
    "# Prediction and Label bias comparison"
   ]
  },
  {
   "cell_type": "code",
   "execution_count": 314,
   "id": "b81fc257",
   "metadata": {},
   "outputs": [
    {
     "name": "stdout",
     "output_type": "stream",
     "text": [
      "             telegramChannel  Sample count  No Threat (Pred %)  \\\n",
      "3          BlackCrimesMatter             1                0.00   \n",
      "0                  AlexJones            14               28.57   \n",
      "8            LacansWhreHouse            14               92.86   \n",
      "7                   InfoWars            16               37.50   \n",
      "6            FreedomFighters            19               26.32   \n",
      "4        COVIDVACCINEVICTIMS            21               57.14   \n",
      "16          UnitedAnarchists            24               54.17   \n",
      "2   AnticapitalistSurrealism            27               70.37   \n",
      "10              PrayingMedic            30               53.33   \n",
      "12                  RiotDogs            30               76.67   \n",
      "9       PatriotStreetfighter            60               63.33   \n",
      "5              DonaldTrumpJr            70               45.71   \n",
      "13           ThePatriotVoice           126               45.24   \n",
      "15    TrumpSupportersChannel           213               35.68   \n",
      "14       TheTrumpRepublicans           264               26.52   \n",
      "11       ResisttheMainstream           664               35.54   \n",
      "1           AnalyzingAmerica           668               20.51   \n",
      "\n",
      "    Judicial Threat (Pred %)  Non-Judicial Threat (Pred %)  \\\n",
      "3                       0.00                        100.00   \n",
      "0                      42.86                         28.57   \n",
      "8                       0.00                          7.14   \n",
      "7                       6.25                         56.25   \n",
      "6                      21.05                         52.63   \n",
      "4                      33.33                          9.52   \n",
      "16                      4.17                         41.67   \n",
      "2                       0.00                         29.63   \n",
      "10                     26.67                         20.00   \n",
      "12                      0.00                         23.33   \n",
      "9                      20.00                         16.67   \n",
      "5                      28.57                         25.71   \n",
      "13                     24.60                         30.16   \n",
      "15                     30.99                         33.33   \n",
      "14                     37.50                         35.98   \n",
      "11                     25.00                         39.46   \n",
      "1                      41.92                         37.57   \n",
      "\n",
      "    No Threat (Actual %)  Judicial Threat (Actual %)  \\\n",
      "3                   0.00                        0.00   \n",
      "0                  21.43                       50.00   \n",
      "8                  92.86                        0.00   \n",
      "7                  37.50                       12.50   \n",
      "6                  36.84                       21.05   \n",
      "4                  61.90                       28.57   \n",
      "16                 41.67                        8.33   \n",
      "2                  66.67                        0.00   \n",
      "10                 56.67                       23.33   \n",
      "12                 63.33                        0.00   \n",
      "9                  60.00                       20.00   \n",
      "5                  45.71                       28.57   \n",
      "13                 45.24                       24.60   \n",
      "15                 32.86                       33.33   \n",
      "14                 26.52                       36.74   \n",
      "11                 35.24                       25.30   \n",
      "1                  22.16                       40.72   \n",
      "\n",
      "    Non-Judicial Threat (Actual %)  \n",
      "3                           100.00  \n",
      "0                            28.57  \n",
      "8                             7.14  \n",
      "7                            50.00  \n",
      "6                            42.11  \n",
      "4                             9.52  \n",
      "16                           50.00  \n",
      "2                            33.33  \n",
      "10                           20.00  \n",
      "12                           36.67  \n",
      "9                            20.00  \n",
      "5                            25.71  \n",
      "13                           30.16  \n",
      "15                           33.80  \n",
      "14                           36.74  \n",
      "11                           39.46  \n",
      "1                            37.13  \n"
     ]
    }
   ],
   "source": [
    "# Grouping by 'telegramChannel'\n",
    "df = df60k.copy()\n",
    "result_df = df.groupby('telegramChannel').agg(\n",
    "    no_of_unique_telegramChannel=('telegramChannel', 'size'),\n",
    "    \n",
    "    # Counts for y_pred (predictions)\n",
    "    label_0_pred_count=('y_pred', lambda x: (x == 0).sum()),\n",
    "    label_1_pred_count=('y_pred', lambda x: (x == 1).sum()),\n",
    "    label_2_pred_count=('y_pred', lambda x: (x == 2).sum()),\n",
    "    \n",
    "    # Counts for Label (actual)\n",
    "    label_0_actual_count=('Label', lambda x: (x == 0).sum()),\n",
    "    label_1_actual_count=('Label', lambda x: (x == 1).sum()),\n",
    "    label_2_actual_count=('Label', lambda x: (x == 2).sum())\n",
    ").reset_index()\n",
    "\n",
    "# Renaming columns to make it more readable\n",
    "result_df.columns = ['telegramChannel', 'Sample count', 'No Threat (Pred)', 'Judicial Threat (Pred)', 'Non-Judicial Threat (Pred)',\n",
    "                    'No Threat (Actual)', 'Judicial Threat (Actual)', 'Non-Judicial Threat (Actual)']\n",
    "\n",
    "# Step 1: Remove '.json' from 'telegramChannel'\n",
    "result_df['telegramChannel'] = result_df['telegramChannel'].str.replace('.json', '', regex=False)\n",
    "\n",
    "# Step 2: Calculate percentages for 'No Threat', 'Judicial Threat', and 'Non-Judicial Threat' (Predictions)\n",
    "result_df['No Threat (Pred %)'] = (result_df['No Threat (Pred)'] / result_df['Sample count'] * 100).round(2)\n",
    "result_df['Judicial Threat (Pred %)'] = (result_df['Judicial Threat (Pred)'] / result_df['Sample count'] * 100).round(2)\n",
    "result_df['Non-Judicial Threat (Pred %)'] = (result_df['Non-Judicial Threat (Pred)'] / result_df['Sample count'] * 100).round(2)\n",
    "\n",
    "# Step 3: Calculate percentages for 'No Threat', 'Judicial Threat', and 'Non-Judicial Threat' (Actual labels)\n",
    "result_df['No Threat (Actual %)'] = (result_df['No Threat (Actual)'] / result_df['Sample count'] * 100).round(2)\n",
    "result_df['Judicial Threat (Actual %)'] = (result_df['Judicial Threat (Actual)'] / result_df['Sample count'] * 100).round(2)\n",
    "result_df['Non-Judicial Threat (Actual %)'] = (result_df['Non-Judicial Threat (Actual)'] / result_df['Sample count'] * 100).round(2)\n",
    "\n",
    "# Step 4: Create new columns for combined threat (Judicial + Non-Judicial) for both Pred and Actual\n",
    "result_df['Combined Threat (Pred %)'] = result_df['Judicial Threat (Pred %)'] + result_df['Non-Judicial Threat (Pred %)']\n",
    "result_df['Combined Threat (Actual %)'] = result_df['Judicial Threat (Actual %)'] + result_df['Non-Judicial Threat (Actual %)']\n",
    "\n",
    "# Step 5: Sort by 'Combined Threat (Pred %)' in ascending order\n",
    "result_df = result_df.sort_values(by='Sample count', ascending=True)\n",
    "\n",
    "# Step 6: Keep only the relevant columns\n",
    "result_df = result_df[['telegramChannel', 'Sample count', \n",
    "                       'No Threat (Pred %)', 'Judicial Threat (Pred %)', 'Non-Judicial Threat (Pred %)', \n",
    "                       'No Threat (Actual %)', 'Judicial Threat (Actual %)', 'Non-Judicial Threat (Actual %)']]\n",
    "\n",
    "# Display the result\n",
    "print(result_df)\n"
   ]
  },
  {
   "cell_type": "markdown",
   "id": "944861f2",
   "metadata": {},
   "source": [
    "# Precision-Recall Curve"
   ]
  },
  {
   "cell_type": "code",
   "execution_count": 306,
   "id": "4f8d39a6",
   "metadata": {},
   "outputs": [
    {
     "name": "stdout",
     "output_type": "stream",
     "text": [
      "{0: 0.9153131055550937, 1: 0.9400221721248608, 2: 0.9532742723363736}\n"
     ]
    },
    {
     "data": {
      "image/png": "[encoded data removed]",
      "text/plain": [
       "<Figure size 350x250 with 1 Axes>"
      ]
     },
     "metadata": {},
     "output_type": "display_data"
    }
   ],
   "source": [
    "from sklearn.metrics import precision_recall_curve, average_precision_score\n",
    "from sklearn.preprocessing import label_binarize\n",
    "from itertools import cycle\n",
    "import matplotlib.pyplot as plt\n",
    "import numpy as np\n",
    "import pandas as pd\n",
    "\n",
    "# Assuming df \n",
    "df = pd.read_json('/home/ravi/raviProject/DataModelsResults/Results/PreTrainAgain_FineTune_RoBERTa_400/preTrainedModel/CustomPreTrainedClassifier/Labeled_2261_test_yPred_preTrainFT_RoBERTa_withProbScores.json', orient='records')\n",
    "y_true = df['Label']\n",
    "y_probs = np.array(df['prob_scores'].tolist())  # Probabilities for each class (3 columns for 3 classes)\n",
    "\n",
    "# Binarize the labels for multi-class Precision-Recall (One-vs-Rest strategy)\n",
    "n_classes = 3\n",
    "y_bin = label_binarize(y_true, classes=[0, 1, 2])\n",
    "\n",
    "# Class names corresponding to the labels\n",
    "class_names = {0: 'No Threat', 1: 'Judicial Threat', 2: 'Non-Judicial Threat'}\n",
    "\n",
    "# Compute Precision-Recall and Average Precision for each class\n",
    "precision = dict()\n",
    "recall = dict()\n",
    "average_precision = dict()\n",
    "\n",
    "for i in range(n_classes):\n",
    "    precision[i], recall[i], _ = precision_recall_curve(y_bin[:, i], y_probs[:, i])\n",
    "    average_precision[i] = average_precision_score(y_bin[:, i], y_probs[:, i])\n",
    "\n",
    "# Set global font size to 8\n",
    "plt.rcParams.update({'font.size': 8})\n",
    "\n",
    "# Define line styles\n",
    "line_styles = ['-', '--', ':']  # Solid, dashed, and dotted lines\n",
    "\n",
    "# Plotting the Precision-Recall curves\n",
    "plt.figure(figsize=(3.5, 2.5))\n",
    "colors = cycle(['green', 'darkorange', 'red'])\n",
    "\n",
    "for i, (color, line_style) in zip(range(n_classes), zip(colors, line_styles)):\n",
    "    plt.plot(recall[i], precision[i], color=color, lw=2, linestyle=line_style,\n",
    "             label='{} (AP = {:.2f})'.format(class_names[i], average_precision[i]))\n",
    "\n",
    "\n",
    "print(average_precision)\n",
    "\n",
    "plt.xlabel('Recall')\n",
    "plt.ylabel('Precision')\n",
    "plt.legend(loc='lower left')\n",
    "plt.xlim([0.0, 1.03])\n",
    "plt.ylim([0.28, 1.03])\n",
    "plt.tight_layout()\n",
    "\n",
    "plt.savefig('/home/ravi/raviProject/DataModelsResults/Results/PreTrainAgain_FineTune_RoBERTa_400/preTrainedModel/CustomPreTrainedClassifier/PrecisionRecallCurve.png', format='png', dpi=1200)\n",
    "\n",
    "plt.show()"
   ]
  },
  {
   "cell_type": "markdown",
   "id": "ae681560",
   "metadata": {},
   "source": [
    "# Temporal robustness"
   ]
  },
  {
   "cell_type": "code",
   "execution_count": 96,
   "id": "1b9e64b3",
   "metadata": {},
   "outputs": [
    {
     "data": {
      "image/png": "[encoded data removed]",
      "text/plain": [
       "<Figure size 500x300 with 2 Axes>"
      ]
     },
     "metadata": {},
     "output_type": "display_data"
    }
   ],
   "source": [
    "import pandas as pd\n",
    "import matplotlib.pyplot as plt\n",
    "from sklearn.metrics import f1_score\n",
    "from scipy.signal import savgol_filter\n",
    "\n",
    "# Sample DataFrame (replace with your actual data)\n",
    "df = df60k.copy()\n",
    "\n",
    "# 1. Convert 'replyDate' from Unix timestamp to datetime\n",
    "df['replyDate'] = pd.to_datetime(df['replyDate'], unit='s')\n",
    "\n",
    "# 2. Extract month and year from 'replyDate'\n",
    "df['month'] = df['replyDate'].dt.to_period('M')\n",
    "\n",
    "# 3. Calculate F1 score (weighted) and count texts per month\n",
    "monthly_f1_scores = []\n",
    "monthly_counts = []\n",
    "sorted_months = []\n",
    "\n",
    "for month, group in df.groupby('month'):\n",
    "    f1 = f1_score(group['Label'], group['y_pred'], average='weighted')\n",
    "    monthly_f1_scores.append(f1)\n",
    "    monthly_counts.append(len(group))\n",
    "    sorted_months.append(month)\n",
    "\n",
    "# 4. Sort the data by month in ascending order\n",
    "sorted_indices = sorted(range(len(sorted_months)), key=lambda i: sorted_months[i])\n",
    "sorted_months = [sorted_months[i] for i in sorted_indices]\n",
    "monthly_f1_scores = [monthly_f1_scores[i] for i in sorted_indices]\n",
    "monthly_counts = [monthly_counts[i] for i in sorted_indices]\n",
    "\n",
    "# Convert sorted months to datetime for plotting\n",
    "months = pd.to_datetime([str(m) for m in sorted_months])\n",
    "\n",
    "# 5. Adjust the window size for Savitzky-Golay filter\n",
    "# Apply Savitzky-Golay filter to smooth the F1 score\n",
    "smoothed_f1_scores = savgol_filter(monthly_f1_scores, 5, 1)  # Window size, polynomial order\n",
    "# smoothed_f1_scores = monthly_f1_scores\n",
    "\n",
    "# 6. Plotting\n",
    "fig, ax1 = plt.subplots(figsize=(5, 3))\n",
    "\n",
    "# Plot the number of texts (left y-axis)\n",
    "ax1.plot(months, monthly_counts, linestyle='--', color='#DC7633', label='# of Replies')\n",
    "ax1.set_xlabel('Timeline')\n",
    "ax1.set_ylabel('# of Replies', color='#DC7633')\n",
    "ax1.tick_params(axis='y', labelcolor='#DC7633')\n",
    "\n",
    "# 7. Create the second y-axis for F1 score\n",
    "ax2 = ax1.twinx()\n",
    "ax2.plot(months, smoothed_f1_scores, color='#558B2F', label='F1 Score')\n",
    "ax2.set_ylabel('F1 Score', color='#558B2F')\n",
    "ax2.tick_params(axis='y', colors='#558B2F')\n",
    "\n",
    "# Ensure F1 score axis starts at 0 and does not show negative values\n",
    "ax2.set_ylim(bottom=0)\n",
    "\n",
    "# Add legends for both plots\n",
    "ax1.legend(loc='lower right', fontsize=8)\n",
    "ax2.legend(loc='upper right', fontsize=8)\n",
    "\n",
    "# Add grid lines\n",
    "ax1.grid(True, which='both', linestyle=':', linewidth=0.5)\n",
    "ax2.grid(True, which='both', linestyle=':', linewidth=0.5)\n",
    "\n",
    "# 8. Final formatting\n",
    "# fig.suptitle('Monthly Number of Texts and Weighted F1 Scores (Smoothed and Original)')\n",
    "fig.tight_layout()\n",
    "\n",
    "plt.savefig('/home/ravi/raviProject/DataModelsResults/Results/PreTrainAgain_FineTune_RoBERTa_400/preTrainedModel/CustomPreTrainedClassifier/Temporal_F1_preTrainFT_RoBERTa_60kSteps.png', format='png', dpi=1200)\n",
    "\n",
    "plt.show()"
   ]
  },
  {
   "cell_type": "markdown",
   "id": "b572121c",
   "metadata": {},
   "source": [
    "# External case study (OOD)"
   ]
  },
  {
   "cell_type": "code",
   "execution_count": 5,
   "id": "35881f11",
   "metadata": {},
   "outputs": [],
   "source": [
    "dfEX = pd.read_json('/home/ravi/raviProject/DataModelsResults/Results/PreTrainAgain_FineTune_RoBERTa_400/preTrainedModel/CustomPreTrainedClassifier/remaining_V7_1M_NotUsed_yPred_preTrainFT_RoBERTa.json', orient='records')"
   ]
  },
  {
   "cell_type": "code",
   "execution_count": 6,
   "id": "f6e0d06d",
   "metadata": {},
   "outputs": [
    {
     "data": {
      "text/plain": [
       "(1000000, 6)"
      ]
     },
     "execution_count": 6,
     "metadata": {},
     "output_type": "execute_result"
    }
   ],
   "source": [
    "dfEX.shape"
   ]
  },
  {
   "cell_type": "code",
   "execution_count": 7,
   "id": "b23affb7",
   "metadata": {},
   "outputs": [
    {
     "data": {
      "text/html": [
       "<div>\n",
       "<style scoped>\n",
       "    .dataframe tbody tr th:only-of-type {\n",
       "        vertical-align: middle;\n",
       "    }\n",
       "\n",
       "    .dataframe tbody tr th {\n",
       "        vertical-align: top;\n",
       "    }\n",
       "\n",
       "    .dataframe thead th {\n",
       "        text-align: right;\n",
       "    }\n",
       "</style>\n",
       "<table border=\"1\" class=\"dataframe\">\n",
       "  <thead>\n",
       "    <tr style=\"text-align: right;\">\n",
       "      <th></th>\n",
       "      <th>msgDate</th>\n",
       "      <th>msg</th>\n",
       "      <th>replyDate</th>\n",
       "      <th>text</th>\n",
       "      <th>telegramChannel</th>\n",
       "      <th>y_pred</th>\n",
       "    </tr>\n",
       "  </thead>\n",
       "  <tbody>\n",
       "    <tr>\n",
       "      <th>0</th>\n",
       "      <td>1617742775</td>\n",
       "      <td>RINO senator gets bad news!\\n\\n</td>\n",
       "      <td>1617831302</td>\n",
       "      <td>First of many that need to go.</td>\n",
       "      <td>AnalyzingAmerica.json</td>\n",
       "      <td>0</td>\n",
       "    </tr>\n",
       "    <tr>\n",
       "      <th>1</th>\n",
       "      <td>1621080177</td>\n",
       "      <td>Pavel B  why dont you get one of these     and...</td>\n",
       "      <td>1621080261</td>\n",
       "      <td>geez Captain that seems a bit extreme is it not?</td>\n",
       "      <td>PatriotStreetfighter.json</td>\n",
       "      <td>0</td>\n",
       "    </tr>\n",
       "    <tr>\n",
       "      <th>2</th>\n",
       "      <td>1674622933</td>\n",
       "      <td>🔴  35-Year-Old Middle School Teacher Collapses...</td>\n",
       "      <td>1674715049</td>\n",
       "      <td>Jab</td>\n",
       "      <td>ResisttheMainstream.json</td>\n",
       "      <td>0</td>\n",
       "    </tr>\n",
       "    <tr>\n",
       "      <th>3</th>\n",
       "      <td>1665931205</td>\n",
       "      <td>🔴  New York Times Hit With Online Backlash Ove...</td>\n",
       "      <td>1665950107</td>\n",
       "      <td>Ron Johnson is getting brutally attacked from ...</td>\n",
       "      <td>ResisttheMainstream.json</td>\n",
       "      <td>0</td>\n",
       "    </tr>\n",
       "    <tr>\n",
       "      <th>4</th>\n",
       "      <td>1664148018</td>\n",
       "      <td>🔴  Disturbing Video: 23-Year-Old Former Intern...</td>\n",
       "      <td>1664148223</td>\n",
       "      <td>Why would someone put a 😁 on this post? \\n\\nSi...</td>\n",
       "      <td>ResisttheMainstream.json</td>\n",
       "      <td>0</td>\n",
       "    </tr>\n",
       "  </tbody>\n",
       "</table>\n",
       "</div>"
      ],
      "text/plain": [
       "      msgDate                                                msg   replyDate  \\\n",
       "0  1617742775                   RINO senator gets bad news!\\n\\n   1617831302   \n",
       "1  1621080177  Pavel B  why dont you get one of these     and...  1621080261   \n",
       "2  1674622933  🔴  35-Year-Old Middle School Teacher Collapses...  1674715049   \n",
       "3  1665931205  🔴  New York Times Hit With Online Backlash Ove...  1665950107   \n",
       "4  1664148018  🔴  Disturbing Video: 23-Year-Old Former Intern...  1664148223   \n",
       "\n",
       "                                                text  \\\n",
       "0                     First of many that need to go.   \n",
       "1   geez Captain that seems a bit extreme is it not?   \n",
       "2                                                Jab   \n",
       "3  Ron Johnson is getting brutally attacked from ...   \n",
       "4  Why would someone put a 😁 on this post? \\n\\nSi...   \n",
       "\n",
       "             telegramChannel  y_pred  \n",
       "0      AnalyzingAmerica.json       0  \n",
       "1  PatriotStreetfighter.json       0  \n",
       "2   ResisttheMainstream.json       0  \n",
       "3   ResisttheMainstream.json       0  \n",
       "4   ResisttheMainstream.json       0  "
      ]
     },
     "execution_count": 7,
     "metadata": {},
     "output_type": "execute_result"
    }
   ],
   "source": [
    "dfEX.head()"
   ]
  },
  {
   "cell_type": "code",
   "execution_count": 14,
   "id": "02a2fc10",
   "metadata": {},
   "outputs": [
    {
     "name": "stdout",
     "output_type": "stream",
     "text": [
      "             telegramChannel  Sample count  No Threat (%)  \\\n",
      "8            LacansWhreHouse         41399          99.28   \n",
      "12                  RiotDogs         41479          98.98   \n",
      "10              PrayingMedic         36625          98.92   \n",
      "2   AnticapitalistSurrealism         42042          98.89   \n",
      "16          UnitedAnarchists         29993          98.87   \n",
      "4        COVIDVACCINEVICTIMS         24709          98.26   \n",
      "9       PatriotStreetfighter         58240          97.90   \n",
      "3          BlackCrimesMatter           600          97.83   \n",
      "5              DonaldTrumpJr         73258          97.54   \n",
      "13           ThePatriotVoice         83482          96.43   \n",
      "6            FreedomFighters          7607          96.08   \n",
      "0                  AlexJones          5509          95.63   \n",
      "15    TrumpSupportersChannel         74522          93.78   \n",
      "11       ResisttheMainstream        241033          93.76   \n",
      "7                   InfoWars          8774          93.62   \n",
      "14       TheTrumpRepublicans         80297          92.71   \n",
      "1           AnalyzingAmerica        150431          90.07   \n",
      "\n",
      "    Judicial Threat (%)  Non-Judicial Threat (%)  Combined Threat (%)  \n",
      "8                  0.10                     0.62                 0.72  \n",
      "12                 0.12                     0.90                 1.02  \n",
      "10                 0.50                     0.58                 1.08  \n",
      "2                  0.14                     0.97                 1.11  \n",
      "16                 0.16                     0.97                 1.13  \n",
      "4                  0.92                     0.81                 1.73  \n",
      "9                  0.74                     1.36                 2.10  \n",
      "3                  0.33                     1.83                 2.16  \n",
      "5                  1.27                     1.19                 2.46  \n",
      "13                 1.48                     2.09                 3.57  \n",
      "6                  0.78                     3.14                 3.92  \n",
      "0                  1.76                     2.61                 4.37  \n",
      "15                 2.91                     3.30                 6.21  \n",
      "11                 2.46                     3.78                 6.24  \n",
      "7                  2.01                     4.38                 6.39  \n",
      "14                 3.58                     3.70                 7.28  \n",
      "1                  4.87                     5.06                 9.93  \n"
     ]
    }
   ],
   "source": [
    "# Grouping by 'telegramChannel'\n",
    "df = dfEX.copy()\n",
    "result_df = df.groupby('telegramChannel').agg(\n",
    "    no_of_unique_telegramChannel=('telegramChannel', 'size'),\n",
    "    label_0_count=('y_pred', lambda x: (x == 0).sum()),\n",
    "    label_1_count=('y_pred', lambda x: (x == 1).sum()),\n",
    "    label_2_count=('y_pred', lambda x: (x == 2).sum())\n",
    ").reset_index()\n",
    "\n",
    "# Renaming columns to make it more readable\n",
    "result_df.columns = ['telegramChannel', 'Sample count', 'No Threat', 'Judicial Threat', 'Non-Judicial Threat']\n",
    "\n",
    "# Step 1: Remove '.json' from 'telegramChannel'\n",
    "result_df['telegramChannel'] = result_df['telegramChannel'].str.replace('.json', '', regex=False)\n",
    "\n",
    "# Step 2: Calculate percentages for 'No Threat', 'Judicial Threat', and 'Non-Judicial Threat'\n",
    "result_df['No Threat (%)'] = (result_df['No Threat'] / result_df['Sample count'] * 100).round(2)\n",
    "result_df['Judicial Threat (%)'] = (result_df['Judicial Threat'] / result_df['Sample count'] * 100).round(2)\n",
    "result_df['Non-Judicial Threat (%)'] = (result_df['Non-Judicial Threat'] / result_df['Sample count'] * 100).round(2)\n",
    "\n",
    "# Step 3: Create a new column for combined threat (Judicial + Non-Judicial)\n",
    "result_df['Combined Threat (%)'] = result_df['Judicial Threat (%)'] + result_df['Non-Judicial Threat (%)']\n",
    "\n",
    "# Step 4: Sort by 'Non-Judicial Threat (%)' in ascending order\n",
    "result_df = result_df.sort_values(by='Combined Threat (%)', ascending=True)\n",
    "\n",
    "# Step 5: Keep only the relevant columns\n",
    "result_df = result_df[['telegramChannel', 'Sample count', 'No Threat (%)', 'Judicial Threat (%)', 'Non-Judicial Threat (%)', 'Combined Threat (%)']]\n",
    "\n",
    "# Display the result\n",
    "print(result_df)"
   ]
  },
  {
   "cell_type": "code",
   "execution_count": null,
   "id": "6c338d48",
   "metadata": {},
   "outputs": [],
   "source": []
  }
 ],
 "metadata": {
  "kernelspec": {
   "display_name": "base",
   "language": "python",
   "name": "python3"
  },
  "language_info": {
   "codemirror_mode": {
    "name": "ipython",
    "version": 3
   },
   "file_extension": ".py",
   "mimetype": "text/x-python",
   "name": "python",
   "nbconvert_exporter": "python",
   "pygments_lexer": "ipython3",
   "version": "3.8.12"
  }
 },
 "nbformat": 4,
 "nbformat_minor": 5
}
