{
 "cells": [
  {
   "cell_type": "code",
   "execution_count": 1,
   "id": "3774d88c-3046-4898-9a30-f11b47bdf155",
   "metadata": {},
   "outputs": [],
   "source": [
    "import pandas as pd\n",
    "import glob\n",
    "import numpy as np\n",
    "import json\n",
    "import math\n",
    "from natsort import natsorted"
   ]
  },
  {
   "cell_type": "markdown",
   "id": "2870335d-ea55-462d-9b5a-6a2359f6acd0",
   "metadata": {},
   "source": [
    "# split unlabeled"
   ]
  },
  {
   "cell_type": "code",
   "execution_count": 6,
   "id": "5cadbc94-1e3d-40c6-8256-369099c8a113",
   "metadata": {},
   "outputs": [],
   "source": [
    "df=pd.read_json('/home/ravi/raviProject/DATA/Annotate/remaining_V7_2M.json', orient='records')"
   ]
  },
  {
   "cell_type": "code",
   "execution_count": 7,
   "id": "6cece0fe",
   "metadata": {},
   "outputs": [
    {
     "data": {
      "text/plain": [
       "(2000000, 5)"
      ]
     },
     "execution_count": 7,
     "metadata": {},
     "output_type": "execute_result"
    }
   ],
   "source": [
    "df.shape"
   ]
  },
  {
   "cell_type": "code",
   "execution_count": 9,
   "id": "7836a173",
   "metadata": {},
   "outputs": [
    {
     "data": {
      "text/html": [
       "<div>\n",
       "<style scoped>\n",
       "    .dataframe tbody tr th:only-of-type {\n",
       "        vertical-align: middle;\n",
       "    }\n",
       "\n",
       "    .dataframe tbody tr th {\n",
       "        vertical-align: top;\n",
       "    }\n",
       "\n",
       "    .dataframe thead th {\n",
       "        text-align: right;\n",
       "    }\n",
       "</style>\n",
       "<table border=\"1\" class=\"dataframe\">\n",
       "  <thead>\n",
       "    <tr style=\"text-align: right;\">\n",
       "      <th></th>\n",
       "      <th>msgDate</th>\n",
       "      <th>msg</th>\n",
       "      <th>replyDate</th>\n",
       "      <th>reply</th>\n",
       "      <th>telegramChannel</th>\n",
       "    </tr>\n",
       "  </thead>\n",
       "  <tbody>\n",
       "    <tr>\n",
       "      <th>0</th>\n",
       "      <td>1619101097</td>\n",
       "      <td>Trump was right!\\n\\n</td>\n",
       "      <td>1619101357</td>\n",
       "      <td>👍🏼</td>\n",
       "      <td>AnalyzingAmerica.json</td>\n",
       "    </tr>\n",
       "    <tr>\n",
       "      <th>1</th>\n",
       "      <td>1694793681</td>\n",
       "      <td>☀️ Watch: Hundreds Baptized in Pond at Auburn ...</td>\n",
       "      <td>1694795420</td>\n",
       "      <td>Proud to see this come from my home state. ❤️❤️❤️</td>\n",
       "      <td>ResisttheMainstream.json</td>\n",
       "    </tr>\n",
       "    <tr>\n",
       "      <th>2</th>\n",
       "      <td>1691129131</td>\n",
       "      <td>Yes or no?</td>\n",
       "      <td>1691135245</td>\n",
       "      <td>Bearing false witness. Where have I heard that...</td>\n",
       "      <td>ResisttheMainstream.json</td>\n",
       "    </tr>\n",
       "    <tr>\n",
       "      <th>3</th>\n",
       "      <td>1669335266</td>\n",
       "      <td>A d h d   m o m e n t</td>\n",
       "      <td>1669335694</td>\n",
       "      <td>when will you get addy, btw? high time you did</td>\n",
       "      <td>LacansWhreHouse.json</td>\n",
       "    </tr>\n",
       "    <tr>\n",
       "      <th>4</th>\n",
       "      <td>1696197725</td>\n",
       "      <td></td>\n",
       "      <td>1696198531</td>\n",
       "      <td>If you workin' dat ass, that still counts as w...</td>\n",
       "      <td>AnticapitalistSurrealism.json</td>\n",
       "    </tr>\n",
       "  </tbody>\n",
       "</table>\n",
       "</div>"
      ],
      "text/plain": [
       "      msgDate                                                msg   replyDate  \\\n",
       "0  1619101097                              Trump was right!\\n\\n   1619101357   \n",
       "1  1694793681  ☀️ Watch: Hundreds Baptized in Pond at Auburn ...  1694795420   \n",
       "2  1691129131                                         Yes or no?  1691135245   \n",
       "3  1669335266                              A d h d   m o m e n t  1669335694   \n",
       "4  1696197725                                                     1696198531   \n",
       "\n",
       "                                               reply  \\\n",
       "0                                                 👍🏼   \n",
       "1  Proud to see this come from my home state. ❤️❤️❤️   \n",
       "2  Bearing false witness. Where have I heard that...   \n",
       "3     when will you get addy, btw? high time you did   \n",
       "4  If you workin' dat ass, that still counts as w...   \n",
       "\n",
       "                 telegramChannel  \n",
       "0          AnalyzingAmerica.json  \n",
       "1       ResisttheMainstream.json  \n",
       "2       ResisttheMainstream.json  \n",
       "3           LacansWhreHouse.json  \n",
       "4  AnticapitalistSurrealism.json  "
      ]
     },
     "execution_count": 9,
     "metadata": {},
     "output_type": "execute_result"
    }
   ],
   "source": [
    "df.head()"
   ]
  },
  {
   "cell_type": "code",
   "execution_count": 10,
   "id": "275e8709",
   "metadata": {},
   "outputs": [],
   "source": [
    "# Shuffle the DataFrame\n",
    "df_shuffled = df.sample(frac=1, random_state=42).reset_index(drop=True)\n",
    "\n",
    "# Split the DataFrame into two equal parts\n",
    "split_index = len(df_shuffled) // 2\n",
    "df_part1 = df_shuffled.iloc[:split_index]\n",
    "df_part2 = df_shuffled.iloc[split_index:]\n"
   ]
  },
  {
   "cell_type": "code",
   "execution_count": 12,
   "id": "7d3125fb",
   "metadata": {},
   "outputs": [
    {
     "data": {
      "text/plain": [
       "(1000000, 5)"
      ]
     },
     "execution_count": 12,
     "metadata": {},
     "output_type": "execute_result"
    }
   ],
   "source": [
    "df_part2.shape"
   ]
  },
  {
   "cell_type": "code",
   "execution_count": 11,
   "id": "a04505b7",
   "metadata": {},
   "outputs": [
    {
     "data": {
      "text/plain": [
       "(1000000, 5)"
      ]
     },
     "execution_count": 11,
     "metadata": {},
     "output_type": "execute_result"
    }
   ],
   "source": [
    "df_part1.shape"
   ]
  },
  {
   "cell_type": "code",
   "execution_count": 13,
   "id": "0a202932-8a4d-4946-888d-a8d435275d21",
   "metadata": {},
   "outputs": [],
   "source": [
    "df_part1.to_json('/home/ravi/raviProject/DATA/Annotate/remaining_V7_1M_used_for_preTrain.json', orient='records')\n",
    "df_part2.to_json('/home/ravi/raviProject/DATA/Annotate/remaining_V7_1M_NotUsed.json', orient='records')"
   ]
  },
  {
   "cell_type": "code",
   "execution_count": null,
   "id": "d8b0b282",
   "metadata": {},
   "outputs": [],
   "source": []
  }
 ],
 "metadata": {
  "kernelspec": {
   "display_name": "redditJournal",
   "language": "python",
   "name": "python3"
  },
  "language_info": {
   "codemirror_mode": {
    "name": "ipython",
    "version": 3
   },
   "file_extension": ".py",
   "mimetype": "text/x-python",
   "name": "python",
   "nbconvert_exporter": "python",
   "pygments_lexer": "ipython3",
   "version": "3.10.4"
  }
 },
 "nbformat": 4,
 "nbformat_minor": 5
}
