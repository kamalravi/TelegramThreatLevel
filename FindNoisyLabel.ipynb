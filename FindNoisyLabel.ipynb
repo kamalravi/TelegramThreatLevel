{
 "cells": [
  {
   "cell_type": "code",
   "execution_count": 2,
   "id": "3774d88c-3046-4898-9a30-f11b47bdf155",
   "metadata": {},
   "outputs": [],
   "source": [
    "import pandas as pd\n",
    "import glob\n",
    "import numpy as np\n",
    "import json\n",
    "import math\n",
    "from natsort import natsorted"
   ]
  },
  {
   "cell_type": "markdown",
   "id": "2870335d-ea55-462d-9b5a-6a2359f6acd0",
   "metadata": {},
   "source": [
    "# split unlabeled"
   ]
  },
  {
   "cell_type": "code",
   "execution_count": 2,
   "id": "5cadbc94-1e3d-40c6-8256-369099c8a113",
   "metadata": {},
   "outputs": [],
   "source": [
    "df=pd.read_json('/home/ravi/raviProject/DATA/Annotate/iterData/iter7_Labeled_15076_sampled_forNextIter_yPred_preTrainFT_RoBERTa.json', orient='records')"
   ]
  },
  {
   "cell_type": "code",
   "execution_count": 3,
   "id": "6cece0fe",
   "metadata": {},
   "outputs": [
    {
     "data": {
      "text/plain": [
       "(15076, 8)"
      ]
     },
     "execution_count": 3,
     "metadata": {},
     "output_type": "execute_result"
    }
   ],
   "source": [
    "df.shape"
   ]
  },
  {
   "cell_type": "code",
   "execution_count": 4,
   "id": "7836a173",
   "metadata": {},
   "outputs": [
    {
     "data": {
      "text/html": [
       "<div>\n",
       "<style scoped>\n",
       "    .dataframe tbody tr th:only-of-type {\n",
       "        vertical-align: middle;\n",
       "    }\n",
       "\n",
       "    .dataframe tbody tr th {\n",
       "        vertical-align: top;\n",
       "    }\n",
       "\n",
       "    .dataframe thead th {\n",
       "        text-align: right;\n",
       "    }\n",
       "</style>\n",
       "<table border=\"1\" class=\"dataframe\">\n",
       "  <thead>\n",
       "    <tr style=\"text-align: right;\">\n",
       "      <th></th>\n",
       "      <th>msgDate</th>\n",
       "      <th>msg</th>\n",
       "      <th>replyDate</th>\n",
       "      <th>text</th>\n",
       "      <th>telegramChannel</th>\n",
       "      <th>FinalLabel</th>\n",
       "      <th>y_pred</th>\n",
       "      <th>prob_scores</th>\n",
       "    </tr>\n",
       "  </thead>\n",
       "  <tbody>\n",
       "    <tr>\n",
       "      <th>0</th>\n",
       "      <td>1687098334</td>\n",
       "      <td>Raskin is in the top 5 Dem scum bags in DC. He...</td>\n",
       "      <td>1687098753</td>\n",
       "      <td>And HANG  SCHIFF AND NADLER PELOSI AND ALL THE...</td>\n",
       "      <td>TrumpSupportersChannel.json</td>\n",
       "      <td>2</td>\n",
       "      <td>2</td>\n",
       "      <td>[0.0022521282, 0.0054680523, 0.9922798872]</td>\n",
       "    </tr>\n",
       "    <tr>\n",
       "      <th>1</th>\n",
       "      <td>1698079227</td>\n",
       "      <td>🔴  CDC Issues Warning About ‘Potentially Disfi...</td>\n",
       "      <td>1698117741</td>\n",
       "      <td>Can we please get to the EXECUTIONS ALREADY 🖕🏽💀💩</td>\n",
       "      <td>ResisttheMainstream.json</td>\n",
       "      <td>2</td>\n",
       "      <td>2</td>\n",
       "      <td>[0.0025896798, 0.004622546, 0.9927877784]</td>\n",
       "    </tr>\n",
       "    <tr>\n",
       "      <th>2</th>\n",
       "      <td>1683948022</td>\n",
       "      <td>Do you approve? 💬</td>\n",
       "      <td>1684179732</td>\n",
       "      <td>Can't trust Musk as far u can shoot that fucki...</td>\n",
       "      <td>ResisttheMainstream.json</td>\n",
       "      <td>2</td>\n",
       "      <td>2</td>\n",
       "      <td>[0.0035747157000000002, 0.0033823512, 0.993042...</td>\n",
       "    </tr>\n",
       "    <tr>\n",
       "      <th>3</th>\n",
       "      <td>1623338789</td>\n",
       "      <td>Donald Trump Jr. Rips Hunter Biden For Using t...</td>\n",
       "      <td>1623339801</td>\n",
       "      <td>There are so many criminals in America dishone...</td>\n",
       "      <td>TheTrumpRepublicans.json</td>\n",
       "      <td>2</td>\n",
       "      <td>2</td>\n",
       "      <td>[0.0023489154, 0.0054259761, 0.9922250509]</td>\n",
       "    </tr>\n",
       "    <tr>\n",
       "      <th>4</th>\n",
       "      <td>1685904022</td>\n",
       "      <td>🔴  Here Are The 17 GOP Senators Who Voted For ...</td>\n",
       "      <td>1685904529</td>\n",
       "      <td>Traitors all, hang ‘em high</td>\n",
       "      <td>ResisttheMainstream.json</td>\n",
       "      <td>2</td>\n",
       "      <td>2</td>\n",
       "      <td>[0.0022668596, 0.0049147913000000005, 0.992818...</td>\n",
       "    </tr>\n",
       "  </tbody>\n",
       "</table>\n",
       "</div>"
      ],
      "text/plain": [
       "      msgDate                                                msg   replyDate  \\\n",
       "0  1687098334  Raskin is in the top 5 Dem scum bags in DC. He...  1687098753   \n",
       "1  1698079227  🔴  CDC Issues Warning About ‘Potentially Disfi...  1698117741   \n",
       "2  1683948022                                 Do you approve? 💬   1684179732   \n",
       "3  1623338789  Donald Trump Jr. Rips Hunter Biden For Using t...  1623339801   \n",
       "4  1685904022  🔴  Here Are The 17 GOP Senators Who Voted For ...  1685904529   \n",
       "\n",
       "                                                text  \\\n",
       "0  And HANG  SCHIFF AND NADLER PELOSI AND ALL THE...   \n",
       "1   Can we please get to the EXECUTIONS ALREADY 🖕🏽💀💩   \n",
       "2  Can't trust Musk as far u can shoot that fucki...   \n",
       "3  There are so many criminals in America dishone...   \n",
       "4                        Traitors all, hang ‘em high   \n",
       "\n",
       "               telegramChannel  FinalLabel  y_pred  \\\n",
       "0  TrumpSupportersChannel.json           2       2   \n",
       "1     ResisttheMainstream.json           2       2   \n",
       "2     ResisttheMainstream.json           2       2   \n",
       "3     TheTrumpRepublicans.json           2       2   \n",
       "4     ResisttheMainstream.json           2       2   \n",
       "\n",
       "                                         prob_scores  \n",
       "0         [0.0022521282, 0.0054680523, 0.9922798872]  \n",
       "1          [0.0025896798, 0.004622546, 0.9927877784]  \n",
       "2  [0.0035747157000000002, 0.0033823512, 0.993042...  \n",
       "3         [0.0023489154, 0.0054259761, 0.9922250509]  \n",
       "4  [0.0022668596, 0.0049147913000000005, 0.992818...  "
      ]
     },
     "execution_count": 4,
     "metadata": {},
     "output_type": "execute_result"
    }
   ],
   "source": [
    "df.head()"
   ]
  },
  {
   "cell_type": "code",
   "execution_count": 5,
   "id": "5d78720e",
   "metadata": {},
   "outputs": [],
   "source": [
    "# Split into two DataFrames\n",
    "df1 = df[df[\"FinalLabel\"] == df[\"y_pred\"]]  # Rows where labels agree\n",
    "df2 = df[df[\"FinalLabel\"] != df[\"y_pred\"]]  # Rows where labels disagree"
   ]
  },
  {
   "cell_type": "code",
   "execution_count": 6,
   "id": "0665f7d5",
   "metadata": {},
   "outputs": [
    {
     "data": {
      "text/plain": [
       "(14277, 8)"
      ]
     },
     "execution_count": 6,
     "metadata": {},
     "output_type": "execute_result"
    }
   ],
   "source": [
    "df1.shape"
   ]
  },
  {
   "cell_type": "code",
   "execution_count": null,
   "id": "19912cb0",
   "metadata": {},
   "outputs": [],
   "source": []
  },
  {
   "cell_type": "code",
   "execution_count": 7,
   "id": "c17b317c",
   "metadata": {},
   "outputs": [
    {
     "data": {
      "text/plain": [
       "(799, 8)"
      ]
     },
     "execution_count": 7,
     "metadata": {},
     "output_type": "execute_result"
    }
   ],
   "source": [
    "df2.shape"
   ]
  },
  {
   "cell_type": "code",
   "execution_count": 9,
   "id": "9edc0125",
   "metadata": {},
   "outputs": [],
   "source": [
    "df3=pd.read_csv(\"labels_disagree_relabeled.csv\")"
   ]
  },
  {
   "cell_type": "code",
   "execution_count": 10,
   "id": "0c30e376",
   "metadata": {},
   "outputs": [
    {
     "data": {
      "text/plain": [
       "(799, 8)"
      ]
     },
     "execution_count": 10,
     "metadata": {},
     "output_type": "execute_result"
    }
   ],
   "source": [
    "df3.shape"
   ]
  },
  {
   "cell_type": "code",
   "execution_count": 11,
   "id": "ac240d26",
   "metadata": {},
   "outputs": [],
   "source": [
    "# Concatenate vertically\n",
    "result = pd.concat([df1, df3], axis=0)\n",
    "\n",
    "# Randomize the rows\n",
    "result = result.sample(frac=1, random_state=42).reset_index(drop=True)"
   ]
  },
  {
   "cell_type": "code",
   "execution_count": 12,
   "id": "78c5810d",
   "metadata": {},
   "outputs": [
    {
     "data": {
      "text/plain": [
       "(15076, 8)"
      ]
     },
     "execution_count": 12,
     "metadata": {},
     "output_type": "execute_result"
    }
   ],
   "source": [
    "result.shape"
   ]
  },
  {
   "cell_type": "code",
   "execution_count": 13,
   "id": "58b5a1c2",
   "metadata": {},
   "outputs": [],
   "source": [
    "result.to_json('/home/ravi/raviProject/DATA/Annotate/iterData/iter7_Labeled_15076_sampled_forNextIter_yPred_preTrainFT_RoBERTa_NoisyLabelsRelabeled.json', orient='records')"
   ]
  },
  {
   "cell_type": "code",
   "execution_count": 3,
   "id": "d8b0b282",
   "metadata": {},
   "outputs": [],
   "source": [
    "NDF = pd.read_json('/home/ravi/raviProject/DATA/Annotate/iterData/iter7_Labeled_15076_sampled_forNextIter_yPred_preTrainFT_RoBERTa_NoisyLabelsRelabeled.json', orient='records')"
   ]
  },
  {
   "cell_type": "code",
   "execution_count": 4,
   "id": "40b7d2c4",
   "metadata": {},
   "outputs": [],
   "source": [
    "NDF.to_csv('/home/ravi/raviProject/DATA/Annotate/iterData/iter7_Labeled_15076_sampled_forNextIter_yPred_preTrainFT_RoBERTa_NoisyLabelsRelabeled.csv')"
   ]
  },
  {
   "cell_type": "markdown",
   "id": "df0821be",
   "metadata": {},
   "source": [
    "# remov empty rep[lies]"
   ]
  },
  {
   "cell_type": "code",
   "execution_count": 5,
   "id": "e6ce2633",
   "metadata": {},
   "outputs": [],
   "source": [
    "import pandas as pd\n",
    "\n",
    "# Load the dataset\n",
    "NDF = pd.read_json('/home/ravi/raviProject/DATA/Annotate/iterData/iter7_Labeled_15076_sampled_forNextIter_yPred_preTrainFT_RoBERTa_NoisyLabelsRelabeled.json', orient='records')"
   ]
  },
  {
   "cell_type": "code",
   "execution_count": 6,
   "id": "c80ecbd0",
   "metadata": {},
   "outputs": [
    {
     "data": {
      "text/plain": [
       "(15076, 8)"
      ]
     },
     "execution_count": 6,
     "metadata": {},
     "output_type": "execute_result"
    }
   ],
   "source": [
    "NDF.shape"
   ]
  },
  {
   "cell_type": "code",
   "execution_count": 7,
   "id": "d9b11b26",
   "metadata": {},
   "outputs": [],
   "source": [
    "# Remove rows where 'text' is empty or contains only whitespace\n",
    "NDF = NDF[NDF['text'].str.strip().astype(bool)]"
   ]
  },
  {
   "cell_type": "code",
   "execution_count": 8,
   "id": "3a5bf883",
   "metadata": {},
   "outputs": [
    {
     "data": {
      "text/plain": [
       "(15063, 8)"
      ]
     },
     "execution_count": 8,
     "metadata": {},
     "output_type": "execute_result"
    }
   ],
   "source": [
    "NDF.shape"
   ]
  },
  {
   "cell_type": "code",
   "execution_count": 9,
   "id": "e6e52820",
   "metadata": {},
   "outputs": [],
   "source": [
    "# Save the cleaned dataset (optional)\n",
    "NDF.to_json('/home/ravi/raviProject/DATA/Annotate/iterData/iter7_Labeled_15063_sampled_forNextIter_yPred_preTrainFT_RoBERTa_NoisyLabelsRelabeled.json', orient='records', indent=4)"
   ]
  },
  {
   "cell_type": "code",
   "execution_count": null,
   "id": "b1d75940",
   "metadata": {},
   "outputs": [],
   "source": []
  }
 ],
 "metadata": {
  "kernelspec": {
   "display_name": "redditJournal",
   "language": "python",
   "name": "python3"
  },
  "language_info": {
   "codemirror_mode": {
    "name": "ipython",
    "version": 3
   },
   "file_extension": ".py",
   "mimetype": "text/x-python",
   "name": "python",
   "nbconvert_exporter": "python",
   "pygments_lexer": "ipython3",
   "version": "3.8.12"
  }
 },
 "nbformat": 4,
 "nbformat_minor": 5
}
