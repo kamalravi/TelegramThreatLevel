{
 "cells": [
  {
   "cell_type": "code",
   "execution_count": 2,
   "id": "4b295be7-c667-40bc-8f00-3aba590f0f3c",
   "metadata": {},
   "outputs": [],
   "source": [
    "import pandas as pd\n",
    "import glob\n",
    "import numpy as np\n",
    "import json\n",
    "import math\n",
    "from natsort import natsorted"
   ]
  },
  {
   "cell_type": "code",
   "execution_count": 3,
   "id": "e877d204-43e5-4d28-b25e-d3bc409f4c7f",
   "metadata": {},
   "outputs": [],
   "source": [
    "data = pd.read_json(\"/home/ravi/raviProject/DATA/Annotate/remaining_V2.json\", orient='records')"
   ]
  },
  {
   "cell_type": "code",
   "execution_count": 4,
   "id": "acbc1ad5",
   "metadata": {},
   "outputs": [
    {
     "data": {
      "text/plain": [
       "(2281110, 5)"
      ]
     },
     "execution_count": 4,
     "metadata": {},
     "output_type": "execute_result"
    }
   ],
   "source": [
    "data.shape"
   ]
  },
  {
   "cell_type": "code",
   "execution_count": 5,
   "id": "84b0cd44",
   "metadata": {},
   "outputs": [
    {
     "data": {
      "text/html": [
       "<div>\n",
       "<style scoped>\n",
       "    .dataframe tbody tr th:only-of-type {\n",
       "        vertical-align: middle;\n",
       "    }\n",
       "\n",
       "    .dataframe tbody tr th {\n",
       "        vertical-align: top;\n",
       "    }\n",
       "\n",
       "    .dataframe thead th {\n",
       "        text-align: right;\n",
       "    }\n",
       "</style>\n",
       "<table border=\"1\" class=\"dataframe\">\n",
       "  <thead>\n",
       "    <tr style=\"text-align: right;\">\n",
       "      <th></th>\n",
       "      <th>msgDate</th>\n",
       "      <th>msg</th>\n",
       "      <th>replyDate</th>\n",
       "      <th>reply</th>\n",
       "      <th>telegramChannel</th>\n",
       "    </tr>\n",
       "  </thead>\n",
       "  <tbody>\n",
       "    <tr>\n",
       "      <th>0</th>\n",
       "      <td>1611529552</td>\n",
       "      <td>Leftist Eviro. Plan For Total Planetary Serfdo...</td>\n",
       "      <td>1611532985</td>\n",
       "      <td>Keep on keepin’ on. May the Trinity, the Fathe...</td>\n",
       "      <td>AlexJones.json</td>\n",
       "    </tr>\n",
       "    <tr>\n",
       "      <th>1</th>\n",
       "      <td>1611529552</td>\n",
       "      <td>Leftist Eviro. Plan For Total Planetary Serfdo...</td>\n",
       "      <td>1611538372</td>\n",
       "      <td>They are really messing with the signal right ...</td>\n",
       "      <td>AlexJones.json</td>\n",
       "    </tr>\n",
       "    <tr>\n",
       "      <th>2</th>\n",
       "      <td>1611529552</td>\n",
       "      <td>Leftist Eviro. Plan For Total Planetary Serfdo...</td>\n",
       "      <td>1611540892</td>\n",
       "      <td></td>\n",
       "      <td>AlexJones.json</td>\n",
       "    </tr>\n",
       "    <tr>\n",
       "      <th>3</th>\n",
       "      <td>1611529552</td>\n",
       "      <td>Leftist Eviro. Plan For Total Planetary Serfdo...</td>\n",
       "      <td>1611541436</td>\n",
       "      <td>Wow comments are on.</td>\n",
       "      <td>AlexJones.json</td>\n",
       "    </tr>\n",
       "    <tr>\n",
       "      <th>4</th>\n",
       "      <td>1611529552</td>\n",
       "      <td>Leftist Eviro. Plan For Total Planetary Serfdo...</td>\n",
       "      <td>1611542543</td>\n",
       "      <td>The other day when I called in and spoke with ...</td>\n",
       "      <td>AlexJones.json</td>\n",
       "    </tr>\n",
       "  </tbody>\n",
       "</table>\n",
       "</div>"
      ],
      "text/plain": [
       "      msgDate                                                msg   replyDate  \\\n",
       "0  1611529552  Leftist Eviro. Plan For Total Planetary Serfdo...  1611532985   \n",
       "1  1611529552  Leftist Eviro. Plan For Total Planetary Serfdo...  1611538372   \n",
       "2  1611529552  Leftist Eviro. Plan For Total Planetary Serfdo...  1611540892   \n",
       "3  1611529552  Leftist Eviro. Plan For Total Planetary Serfdo...  1611541436   \n",
       "4  1611529552  Leftist Eviro. Plan For Total Planetary Serfdo...  1611542543   \n",
       "\n",
       "                                               reply telegramChannel  \n",
       "0  Keep on keepin’ on. May the Trinity, the Fathe...  AlexJones.json  \n",
       "1  They are really messing with the signal right ...  AlexJones.json  \n",
       "2                                                     AlexJones.json  \n",
       "3                               Wow comments are on.  AlexJones.json  \n",
       "4  The other day when I called in and spoke with ...  AlexJones.json  "
      ]
     },
     "execution_count": 5,
     "metadata": {},
     "output_type": "execute_result"
    }
   ],
   "source": [
    "data.head(5)"
   ]
  },
  {
   "cell_type": "code",
   "execution_count": 6,
   "id": "5e20590b",
   "metadata": {},
   "outputs": [],
   "source": [
    "df = data.copy()"
   ]
  },
  {
   "cell_type": "code",
   "execution_count": 7,
   "id": "17221fbf",
   "metadata": {},
   "outputs": [],
   "source": [
    "sampled_df = df.sample(n=10000, replace=False, random_state=42)"
   ]
  },
  {
   "cell_type": "code",
   "execution_count": 8,
   "id": "167ce426",
   "metadata": {},
   "outputs": [
    {
     "data": {
      "text/plain": [
       "(10000, 5)"
      ]
     },
     "execution_count": 8,
     "metadata": {},
     "output_type": "execute_result"
    }
   ],
   "source": [
    "sampled_df.shape"
   ]
  },
  {
   "cell_type": "code",
   "execution_count": 9,
   "id": "72cb2bc3",
   "metadata": {},
   "outputs": [
    {
     "data": {
      "text/html": [
       "<div>\n",
       "<style scoped>\n",
       "    .dataframe tbody tr th:only-of-type {\n",
       "        vertical-align: middle;\n",
       "    }\n",
       "\n",
       "    .dataframe tbody tr th {\n",
       "        vertical-align: top;\n",
       "    }\n",
       "\n",
       "    .dataframe thead th {\n",
       "        text-align: right;\n",
       "    }\n",
       "</style>\n",
       "<table border=\"1\" class=\"dataframe\">\n",
       "  <thead>\n",
       "    <tr style=\"text-align: right;\">\n",
       "      <th></th>\n",
       "      <th>msgDate</th>\n",
       "      <th>msg</th>\n",
       "      <th>replyDate</th>\n",
       "      <th>reply</th>\n",
       "      <th>telegramChannel</th>\n",
       "    </tr>\n",
       "  </thead>\n",
       "  <tbody>\n",
       "    <tr>\n",
       "      <th>698078</th>\n",
       "      <td>1614470806</td>\n",
       "      <td>#AlexJonesShow  LIVE: Special Saturday Broadca...</td>\n",
       "      <td>1614475550</td>\n",
       "      <td></td>\n",
       "      <td>InfoWars.json</td>\n",
       "    </tr>\n",
       "    <tr>\n",
       "      <th>118184</th>\n",
       "      <td>1621982338</td>\n",
       "      <td>This could send Trump to prison.\\n</td>\n",
       "      <td>1621982775</td>\n",
       "      <td>Its a bunch of Bullshit,  the DemonRats  will ...</td>\n",
       "      <td>AnalyzingAmerica.json</td>\n",
       "    </tr>\n",
       "    <tr>\n",
       "      <th>621127</th>\n",
       "      <td>1686775907</td>\n",
       "      <td>Help  @prageru  fight the insanity. Answer thi...</td>\n",
       "      <td>1686804007</td>\n",
       "      <td>I don’t think they should but we are suppose t...</td>\n",
       "      <td>DonaldTrumpJr.json</td>\n",
       "    </tr>\n",
       "    <tr>\n",
       "      <th>1654911</th>\n",
       "      <td>1687465098</td>\n",
       "      <td>b u t   n e v e r   s e e i n g   t h e   s u ...</td>\n",
       "      <td>1687465158</td>\n",
       "      <td>night shift means your “evening” is mid-day</td>\n",
       "      <td>RiotDogs.json</td>\n",
       "    </tr>\n",
       "    <tr>\n",
       "      <th>1724688</th>\n",
       "      <td>1645392413</td>\n",
       "      <td>B R E A K I N G !   🚨   T h e   s i s t e r   ...</td>\n",
       "      <td>1645398444</td>\n",
       "      <td>Calls to mind Barry and Honey Sherman… I’m pre...</td>\n",
       "      <td>ThePatriotVoice.json</td>\n",
       "    </tr>\n",
       "  </tbody>\n",
       "</table>\n",
       "</div>"
      ],
      "text/plain": [
       "            msgDate                                                msg  \\\n",
       "698078   1614470806  #AlexJonesShow  LIVE: Special Saturday Broadca...   \n",
       "118184   1621982338                This could send Trump to prison.\\n    \n",
       "621127   1686775907  Help  @prageru  fight the insanity. Answer thi...   \n",
       "1654911  1687465098  b u t   n e v e r   s e e i n g   t h e   s u ...   \n",
       "1724688  1645392413  B R E A K I N G !   🚨   T h e   s i s t e r   ...   \n",
       "\n",
       "          replyDate                                              reply  \\\n",
       "698078   1614475550                                                      \n",
       "118184   1621982775  Its a bunch of Bullshit,  the DemonRats  will ...   \n",
       "621127   1686804007  I don’t think they should but we are suppose t...   \n",
       "1654911  1687465158        night shift means your “evening” is mid-day   \n",
       "1724688  1645398444  Calls to mind Barry and Honey Sherman… I’m pre...   \n",
       "\n",
       "               telegramChannel  \n",
       "698078           InfoWars.json  \n",
       "118184   AnalyzingAmerica.json  \n",
       "621127      DonaldTrumpJr.json  \n",
       "1654911          RiotDogs.json  \n",
       "1724688   ThePatriotVoice.json  "
      ]
     },
     "execution_count": 9,
     "metadata": {},
     "output_type": "execute_result"
    }
   ],
   "source": [
    "sampled_df.head(5)"
   ]
  },
  {
   "cell_type": "code",
   "execution_count": 10,
   "id": "25d9ffe9-b72c-4883-8188-0dd7a938ef74",
   "metadata": {},
   "outputs": [],
   "source": [
    "sampled_df.to_json('/home/ravi/raviProject/DATA/Annotate/sampled_V3_10K.json', orient='records')"
   ]
  },
  {
   "cell_type": "code",
   "execution_count": 11,
   "id": "7c9abc8b",
   "metadata": {},
   "outputs": [],
   "source": [
    "# sampled_df=pd.read_json('/home/ravi/raviProject/DATA/Annotate/sampled_V1.json', orient='records')\n",
    "# # Save DataFrame as JSONL (JSON Lines)\n",
    "# with open('/home/ravi/raviProject/DATA/Annotate/sampled_V1.jsonl', 'w') as f:\n",
    "#     sampled_df.to_json(f, orient='records', lines=True)"
   ]
  },
  {
   "cell_type": "code",
   "execution_count": 11,
   "id": "074700db",
   "metadata": {},
   "outputs": [],
   "source": [
    "remaining_df = df.drop(sampled_df.index)"
   ]
  },
  {
   "cell_type": "code",
   "execution_count": 12,
   "id": "092d9595",
   "metadata": {},
   "outputs": [
    {
     "data": {
      "text/plain": [
       "(2271110, 5)"
      ]
     },
     "execution_count": 12,
     "metadata": {},
     "output_type": "execute_result"
    }
   ],
   "source": [
    "remaining_df.shape"
   ]
  },
  {
   "cell_type": "code",
   "execution_count": 13,
   "id": "08a118db",
   "metadata": {},
   "outputs": [],
   "source": [
    "remaining_df.to_json('/home/ravi/raviProject/DATA/Annotate/remaining_V3.json', orient='records')"
   ]
  },
  {
   "cell_type": "code",
   "execution_count": 14,
   "id": "a82917f7",
   "metadata": {},
   "outputs": [
    {
     "data": {
      "text/html": [
       "<div>\n",
       "<style scoped>\n",
       "    .dataframe tbody tr th:only-of-type {\n",
       "        vertical-align: middle;\n",
       "    }\n",
       "\n",
       "    .dataframe tbody tr th {\n",
       "        vertical-align: top;\n",
       "    }\n",
       "\n",
       "    .dataframe thead th {\n",
       "        text-align: right;\n",
       "    }\n",
       "</style>\n",
       "<table border=\"1\" class=\"dataframe\">\n",
       "  <thead>\n",
       "    <tr style=\"text-align: right;\">\n",
       "      <th></th>\n",
       "      <th>msgDate</th>\n",
       "      <th>msg</th>\n",
       "      <th>replyDate</th>\n",
       "      <th>reply</th>\n",
       "      <th>telegramChannel</th>\n",
       "    </tr>\n",
       "  </thead>\n",
       "  <tbody>\n",
       "    <tr>\n",
       "      <th>0</th>\n",
       "      <td>1611529552</td>\n",
       "      <td>Leftist Eviro. Plan For Total Planetary Serfdo...</td>\n",
       "      <td>1611532985</td>\n",
       "      <td>Keep on keepin’ on. May the Trinity, the Fathe...</td>\n",
       "      <td>AlexJones.json</td>\n",
       "    </tr>\n",
       "    <tr>\n",
       "      <th>1</th>\n",
       "      <td>1611529552</td>\n",
       "      <td>Leftist Eviro. Plan For Total Planetary Serfdo...</td>\n",
       "      <td>1611538372</td>\n",
       "      <td>They are really messing with the signal right ...</td>\n",
       "      <td>AlexJones.json</td>\n",
       "    </tr>\n",
       "    <tr>\n",
       "      <th>2</th>\n",
       "      <td>1611529552</td>\n",
       "      <td>Leftist Eviro. Plan For Total Planetary Serfdo...</td>\n",
       "      <td>1611540892</td>\n",
       "      <td></td>\n",
       "      <td>AlexJones.json</td>\n",
       "    </tr>\n",
       "    <tr>\n",
       "      <th>3</th>\n",
       "      <td>1611529552</td>\n",
       "      <td>Leftist Eviro. Plan For Total Planetary Serfdo...</td>\n",
       "      <td>1611541436</td>\n",
       "      <td>Wow comments are on.</td>\n",
       "      <td>AlexJones.json</td>\n",
       "    </tr>\n",
       "    <tr>\n",
       "      <th>4</th>\n",
       "      <td>1611529552</td>\n",
       "      <td>Leftist Eviro. Plan For Total Planetary Serfdo...</td>\n",
       "      <td>1611542543</td>\n",
       "      <td>The other day when I called in and spoke with ...</td>\n",
       "      <td>AlexJones.json</td>\n",
       "    </tr>\n",
       "  </tbody>\n",
       "</table>\n",
       "</div>"
      ],
      "text/plain": [
       "      msgDate                                                msg   replyDate  \\\n",
       "0  1611529552  Leftist Eviro. Plan For Total Planetary Serfdo...  1611532985   \n",
       "1  1611529552  Leftist Eviro. Plan For Total Planetary Serfdo...  1611538372   \n",
       "2  1611529552  Leftist Eviro. Plan For Total Planetary Serfdo...  1611540892   \n",
       "3  1611529552  Leftist Eviro. Plan For Total Planetary Serfdo...  1611541436   \n",
       "4  1611529552  Leftist Eviro. Plan For Total Planetary Serfdo...  1611542543   \n",
       "\n",
       "                                               reply telegramChannel  \n",
       "0  Keep on keepin’ on. May the Trinity, the Fathe...  AlexJones.json  \n",
       "1  They are really messing with the signal right ...  AlexJones.json  \n",
       "2                                                     AlexJones.json  \n",
       "3                               Wow comments are on.  AlexJones.json  \n",
       "4  The other day when I called in and spoke with ...  AlexJones.json  "
      ]
     },
     "execution_count": 14,
     "metadata": {},
     "output_type": "execute_result"
    }
   ],
   "source": [
    "remaining_df.head(5)"
   ]
  },
  {
   "cell_type": "markdown",
   "id": "555739eb",
   "metadata": {},
   "source": [
    "# sample ~100 per class wrt model predictions"
   ]
  },
  {
   "cell_type": "code",
   "execution_count": 15,
   "id": "39229413",
   "metadata": {},
   "outputs": [],
   "source": [
    "df = pd.read_json('/home/ravi/raviProject/DATA/Annotate/sampled_V3_10K_yPred_RoBERTa.json', orient='records')"
   ]
  },
  {
   "cell_type": "code",
   "execution_count": 16,
   "id": "b8295750",
   "metadata": {},
   "outputs": [
    {
     "data": {
      "text/plain": [
       "0    8888\n",
       "2     814\n",
       "1     298\n",
       "Name: y_pred, dtype: int64"
      ]
     },
     "execution_count": 16,
     "metadata": {},
     "output_type": "execute_result"
    }
   ],
   "source": [
    "df['y_pred'].value_counts()"
   ]
  },
  {
   "cell_type": "code",
   "execution_count": 17,
   "id": "65db281a",
   "metadata": {},
   "outputs": [
    {
     "data": {
      "text/html": [
       "<div>\n",
       "<style scoped>\n",
       "    .dataframe tbody tr th:only-of-type {\n",
       "        vertical-align: middle;\n",
       "    }\n",
       "\n",
       "    .dataframe tbody tr th {\n",
       "        vertical-align: top;\n",
       "    }\n",
       "\n",
       "    .dataframe thead th {\n",
       "        text-align: right;\n",
       "    }\n",
       "</style>\n",
       "<table border=\"1\" class=\"dataframe\">\n",
       "  <thead>\n",
       "    <tr style=\"text-align: right;\">\n",
       "      <th></th>\n",
       "      <th>msgDate</th>\n",
       "      <th>msg</th>\n",
       "      <th>replyDate</th>\n",
       "      <th>text</th>\n",
       "      <th>telegramChannel</th>\n",
       "      <th>y_pred</th>\n",
       "    </tr>\n",
       "  </thead>\n",
       "  <tbody>\n",
       "    <tr>\n",
       "      <th>0</th>\n",
       "      <td>1614470806</td>\n",
       "      <td>#AlexJonesShow  LIVE: Special Saturday Broadca...</td>\n",
       "      <td>1614475550</td>\n",
       "      <td></td>\n",
       "      <td>InfoWars.json</td>\n",
       "      <td>0</td>\n",
       "    </tr>\n",
       "    <tr>\n",
       "      <th>1</th>\n",
       "      <td>1621982338</td>\n",
       "      <td>This could send Trump to prison.\\n</td>\n",
       "      <td>1621982775</td>\n",
       "      <td>Its a bunch of Bullshit,  the DemonRats  will ...</td>\n",
       "      <td>AnalyzingAmerica.json</td>\n",
       "      <td>1</td>\n",
       "    </tr>\n",
       "    <tr>\n",
       "      <th>2</th>\n",
       "      <td>1686775907</td>\n",
       "      <td>Help  @prageru  fight the insanity. Answer thi...</td>\n",
       "      <td>1686804007</td>\n",
       "      <td>I don’t think they should but we are suppose t...</td>\n",
       "      <td>DonaldTrumpJr.json</td>\n",
       "      <td>0</td>\n",
       "    </tr>\n",
       "    <tr>\n",
       "      <th>3</th>\n",
       "      <td>1687465098</td>\n",
       "      <td>b u t   n e v e r   s e e i n g   t h e   s u ...</td>\n",
       "      <td>1687465158</td>\n",
       "      <td>night shift means your “evening” is mid-day</td>\n",
       "      <td>RiotDogs.json</td>\n",
       "      <td>0</td>\n",
       "    </tr>\n",
       "    <tr>\n",
       "      <th>4</th>\n",
       "      <td>1645392413</td>\n",
       "      <td>B R E A K I N G !   🚨   T h e   s i s t e r   ...</td>\n",
       "      <td>1645398444</td>\n",
       "      <td>Calls to mind Barry and Honey Sherman… I’m pre...</td>\n",
       "      <td>ThePatriotVoice.json</td>\n",
       "      <td>0</td>\n",
       "    </tr>\n",
       "  </tbody>\n",
       "</table>\n",
       "</div>"
      ],
      "text/plain": [
       "      msgDate                                                msg   replyDate  \\\n",
       "0  1614470806  #AlexJonesShow  LIVE: Special Saturday Broadca...  1614475550   \n",
       "1  1621982338                This could send Trump to prison.\\n   1621982775   \n",
       "2  1686775907  Help  @prageru  fight the insanity. Answer thi...  1686804007   \n",
       "3  1687465098  b u t   n e v e r   s e e i n g   t h e   s u ...  1687465158   \n",
       "4  1645392413  B R E A K I N G !   🚨   T h e   s i s t e r   ...  1645398444   \n",
       "\n",
       "                                                text        telegramChannel  \\\n",
       "0                                                             InfoWars.json   \n",
       "1  Its a bunch of Bullshit,  the DemonRats  will ...  AnalyzingAmerica.json   \n",
       "2  I don’t think they should but we are suppose t...     DonaldTrumpJr.json   \n",
       "3        night shift means your “evening” is mid-day          RiotDogs.json   \n",
       "4  Calls to mind Barry and Honey Sherman… I’m pre...   ThePatriotVoice.json   \n",
       "\n",
       "   y_pred  \n",
       "0       0  \n",
       "1       1  \n",
       "2       0  \n",
       "3       0  \n",
       "4       0  "
      ]
     },
     "execution_count": 17,
     "metadata": {},
     "output_type": "execute_result"
    }
   ],
   "source": [
    "df.head()"
   ]
  },
  {
   "cell_type": "code",
   "execution_count": 20,
   "id": "ed9b858c",
   "metadata": {},
   "outputs": [],
   "source": [
    "# Sample 100 rows with class 1\n",
    "sample_class_1 = df[df['y_pred'] == 0].sample(n=300, random_state=42)\n",
    "\n",
    "# Sample 200 rows with class 2\n",
    "sample_class_2 = df[df['y_pred'] == 1].sample(n=298, random_state=42)\n",
    "\n",
    "# Sample 400 rows with class 3\n",
    "sample_class_3 = df[df['y_pred'] == 2].sample(n=814, random_state=42)\n",
    "\n",
    "# Concatenate the sampled dataframes\n",
    "sampled_df = pd.concat([sample_class_1, sample_class_2, sample_class_3])\n",
    "\n",
    "# Shuffle the dataframe\n",
    "sampled_df = sampled_df.sample(frac=1, random_state=42)\n",
    "\n",
    "# Drop the sampled rows from the original DataFrame to get the remaining rows\n",
    "remaining_data = df.drop(sampled_df.index)"
   ]
  },
  {
   "cell_type": "code",
   "execution_count": 22,
   "id": "45a7ae55",
   "metadata": {},
   "outputs": [
    {
     "data": {
      "text/html": [
       "<div>\n",
       "<style scoped>\n",
       "    .dataframe tbody tr th:only-of-type {\n",
       "        vertical-align: middle;\n",
       "    }\n",
       "\n",
       "    .dataframe tbody tr th {\n",
       "        vertical-align: top;\n",
       "    }\n",
       "\n",
       "    .dataframe thead th {\n",
       "        text-align: right;\n",
       "    }\n",
       "</style>\n",
       "<table border=\"1\" class=\"dataframe\">\n",
       "  <thead>\n",
       "    <tr style=\"text-align: right;\">\n",
       "      <th></th>\n",
       "      <th>msgDate</th>\n",
       "      <th>msg</th>\n",
       "      <th>replyDate</th>\n",
       "      <th>text</th>\n",
       "      <th>telegramChannel</th>\n",
       "      <th>y_pred</th>\n",
       "    </tr>\n",
       "  </thead>\n",
       "  <tbody>\n",
       "    <tr>\n",
       "      <th>2224</th>\n",
       "      <td>1663953628</td>\n",
       "      <td></td>\n",
       "      <td>1663954508</td>\n",
       "      <td>More than likely,  I would put that sick fuck ...</td>\n",
       "      <td>ResisttheMainstream.json</td>\n",
       "      <td>2</td>\n",
       "    </tr>\n",
       "    <tr>\n",
       "      <th>4181</th>\n",
       "      <td>1663675293</td>\n",
       "      <td>🔴  Ron DeSantis Responds to Gavin Newsom’s Deb...</td>\n",
       "      <td>1663712946</td>\n",
       "      <td>Desantis will chew him up and spit him out int...</td>\n",
       "      <td>ResisttheMainstream.json</td>\n",
       "      <td>2</td>\n",
       "    </tr>\n",
       "    <tr>\n",
       "      <th>2982</th>\n",
       "      <td>1626275658</td>\n",
       "      <td>Saturday, JULY 24 at 1PM\\n\\nNEW YORK CITY\\n\\nW...</td>\n",
       "      <td>1626316312</td>\n",
       "      <td>Have banners that says ?\" Arrest Fauci\" Arrest...</td>\n",
       "      <td>COVIDVACCINEVICTIMS.json</td>\n",
       "      <td>1</td>\n",
       "    </tr>\n",
       "    <tr>\n",
       "      <th>6361</th>\n",
       "      <td>1631991779</td>\n",
       "      <td>Tucker Carlson Eviscerates Joe Biden for Droni...</td>\n",
       "      <td>1632001527</td>\n",
       "      <td>Patriots are out fighting across the country. ...</td>\n",
       "      <td>TheTrumpRepublicans.json</td>\n",
       "      <td>0</td>\n",
       "    </tr>\n",
       "    <tr>\n",
       "      <th>4369</th>\n",
       "      <td>1629302323</td>\n",
       "      <td>C o n c e r n i n g   1 0 7 . . . \\n \\n I ’ v ...</td>\n",
       "      <td>1629318839</td>\n",
       "      <td></td>\n",
       "      <td>PatriotStreetfighter.json</td>\n",
       "      <td>0</td>\n",
       "    </tr>\n",
       "  </tbody>\n",
       "</table>\n",
       "</div>"
      ],
      "text/plain": [
       "         msgDate                                                msg  \\\n",
       "2224  1663953628                                                      \n",
       "4181  1663675293  🔴  Ron DeSantis Responds to Gavin Newsom’s Deb...   \n",
       "2982  1626275658  Saturday, JULY 24 at 1PM\\n\\nNEW YORK CITY\\n\\nW...   \n",
       "6361  1631991779  Tucker Carlson Eviscerates Joe Biden for Droni...   \n",
       "4369  1629302323  C o n c e r n i n g   1 0 7 . . . \\n \\n I ’ v ...   \n",
       "\n",
       "       replyDate                                               text  \\\n",
       "2224  1663954508  More than likely,  I would put that sick fuck ...   \n",
       "4181  1663712946  Desantis will chew him up and spit him out int...   \n",
       "2982  1626316312  Have banners that says ?\" Arrest Fauci\" Arrest...   \n",
       "6361  1632001527  Patriots are out fighting across the country. ...   \n",
       "4369  1629318839                                                      \n",
       "\n",
       "                telegramChannel  y_pred  \n",
       "2224   ResisttheMainstream.json       2  \n",
       "4181   ResisttheMainstream.json       2  \n",
       "2982   COVIDVACCINEVICTIMS.json       1  \n",
       "6361   TheTrumpRepublicans.json       0  \n",
       "4369  PatriotStreetfighter.json       0  "
      ]
     },
     "execution_count": 22,
     "metadata": {},
     "output_type": "execute_result"
    }
   ],
   "source": [
    "# Print the first few rows to verify\n",
    "sampled_df.head()"
   ]
  },
  {
   "cell_type": "code",
   "execution_count": 23,
   "id": "38b97c60",
   "metadata": {},
   "outputs": [
    {
     "data": {
      "text/plain": [
       "(1412, 8588)"
      ]
     },
     "execution_count": 23,
     "metadata": {},
     "output_type": "execute_result"
    }
   ],
   "source": [
    "len(sampled_df), len(remaining_data)"
   ]
  },
  {
   "cell_type": "code",
   "execution_count": 24,
   "id": "aca48b31",
   "metadata": {},
   "outputs": [],
   "source": [
    "remaining_data.to_json('/home/ravi/raviProject/DATA/Annotate/sampled_V3_10K_yPred_RoBERTa_remaining8588.json', orient='records')\n",
    "sampled_df.to_json('/home/ravi/raviProject/DATA/Annotate/sampled_V3_10K_yPred_RoBERTa_Sampled1412WithYpred.json', orient='records')\n",
    "sampled_df = sampled_df.drop(columns=['y_pred'])\n",
    "sampled_df.to_csv('/home/ravi/raviProject/DATA/Annotate/sampled_V3_10K_yPred_RoBERTa_Sampled1412WithoutYpred.csv')"
   ]
  },
  {
   "cell_type": "markdown",
   "id": "d0fd106d",
   "metadata": {},
   "source": [
    "# Compare Labels"
   ]
  },
  {
   "cell_type": "code",
   "execution_count": 52,
   "id": "07815797",
   "metadata": {},
   "outputs": [],
   "source": [
    "V3GPT=pd.read_json('/home/ravi/raviProject/DATA/Annotate/LabelV3/sampled_V3_10K_yPred_RoBERTa_Sampled1412WithYpred.json', orient='records')"
   ]
  },
  {
   "cell_type": "code",
   "execution_count": 67,
   "id": "c00dda9b",
   "metadata": {},
   "outputs": [
    {
     "data": {
      "text/plain": [
       "(1412, 6)"
      ]
     },
     "execution_count": 67,
     "metadata": {},
     "output_type": "execute_result"
    }
   ],
   "source": [
    "V3GPT.shape"
   ]
  },
  {
   "cell_type": "code",
   "execution_count": 60,
   "id": "fc3b73a4",
   "metadata": {},
   "outputs": [
    {
     "data": {
      "text/html": [
       "<div>\n",
       "<style scoped>\n",
       "    .dataframe tbody tr th:only-of-type {\n",
       "        vertical-align: middle;\n",
       "    }\n",
       "\n",
       "    .dataframe tbody tr th {\n",
       "        vertical-align: top;\n",
       "    }\n",
       "\n",
       "    .dataframe thead th {\n",
       "        text-align: right;\n",
       "    }\n",
       "</style>\n",
       "<table border=\"1\" class=\"dataframe\">\n",
       "  <thead>\n",
       "    <tr style=\"text-align: right;\">\n",
       "      <th></th>\n",
       "      <th>msgDate</th>\n",
       "      <th>msg</th>\n",
       "      <th>replyDate</th>\n",
       "      <th>text</th>\n",
       "      <th>telegramChannel</th>\n",
       "      <th>y_pred</th>\n",
       "    </tr>\n",
       "  </thead>\n",
       "  <tbody>\n",
       "    <tr>\n",
       "      <th>0</th>\n",
       "      <td>1663953628</td>\n",
       "      <td></td>\n",
       "      <td>1663954508</td>\n",
       "      <td>More than likely,  I would put that sick fuck ...</td>\n",
       "      <td>ResisttheMainstream.json</td>\n",
       "      <td>3</td>\n",
       "    </tr>\n",
       "  </tbody>\n",
       "</table>\n",
       "</div>"
      ],
      "text/plain": [
       "      msgDate msg   replyDate  \\\n",
       "0  1663953628      1663954508   \n",
       "\n",
       "                                                text  \\\n",
       "0  More than likely,  I would put that sick fuck ...   \n",
       "\n",
       "            telegramChannel  y_pred  \n",
       "0  ResisttheMainstream.json       3  "
      ]
     },
     "execution_count": 60,
     "metadata": {},
     "output_type": "execute_result"
    }
   ],
   "source": [
    "V3GPT.head(1)"
   ]
  },
  {
   "cell_type": "code",
   "execution_count": 61,
   "id": "f86a3446",
   "metadata": {},
   "outputs": [
    {
     "data": {
      "text/html": [
       "<div>\n",
       "<style scoped>\n",
       "    .dataframe tbody tr th:only-of-type {\n",
       "        vertical-align: middle;\n",
       "    }\n",
       "\n",
       "    .dataframe tbody tr th {\n",
       "        vertical-align: top;\n",
       "    }\n",
       "\n",
       "    .dataframe thead th {\n",
       "        text-align: right;\n",
       "    }\n",
       "</style>\n",
       "<table border=\"1\" class=\"dataframe\">\n",
       "  <thead>\n",
       "    <tr style=\"text-align: right;\">\n",
       "      <th></th>\n",
       "      <th>msgDate</th>\n",
       "      <th>msg</th>\n",
       "      <th>replyDate</th>\n",
       "      <th>text</th>\n",
       "      <th>telegramChannel</th>\n",
       "      <th>y_pred</th>\n",
       "    </tr>\n",
       "  </thead>\n",
       "  <tbody>\n",
       "    <tr>\n",
       "      <th>1411</th>\n",
       "      <td>1698292459</td>\n",
       "      <td>S e n .   K e n n e d y   e x p o s e s   t h ...</td>\n",
       "      <td>1698297951</td>\n",
       "      <td>This is treason. Treason is a hanging crime.</td>\n",
       "      <td>TrumpSupportersChannel.json</td>\n",
       "      <td>3</td>\n",
       "    </tr>\n",
       "  </tbody>\n",
       "</table>\n",
       "</div>"
      ],
      "text/plain": [
       "         msgDate                                                msg  \\\n",
       "1411  1698292459  S e n .   K e n n e d y   e x p o s e s   t h ...   \n",
       "\n",
       "       replyDate                                          text  \\\n",
       "1411  1698297951  This is treason. Treason is a hanging crime.   \n",
       "\n",
       "                  telegramChannel  y_pred  \n",
       "1411  TrumpSupportersChannel.json       3  "
      ]
     },
     "execution_count": 61,
     "metadata": {},
     "output_type": "execute_result"
    }
   ],
   "source": [
    "V3GPT.tail(1)"
   ]
  },
  {
   "cell_type": "code",
   "execution_count": 53,
   "id": "9a136fca",
   "metadata": {},
   "outputs": [
    {
     "data": {
      "text/plain": [
       "2    814\n",
       "0    300\n",
       "1    298\n",
       "Name: y_pred, dtype: int64"
      ]
     },
     "execution_count": 53,
     "metadata": {},
     "output_type": "execute_result"
    }
   ],
   "source": [
    "V3GPT['y_pred'].value_counts()"
   ]
  },
  {
   "cell_type": "code",
   "execution_count": 54,
   "id": "6ca808fe",
   "metadata": {},
   "outputs": [],
   "source": [
    "# Replace values in column 'FinalLabel'\n",
    "replacement_dict = {0 : 1, 1 : 2, 2 : 3}\n",
    "V3GPT['y_pred'] = V3GPT['y_pred'].replace(replacement_dict)"
   ]
  },
  {
   "cell_type": "code",
   "execution_count": 55,
   "id": "6822c518",
   "metadata": {},
   "outputs": [],
   "source": [
    "V3Ravi=pd.read_csv('/home/ravi/raviProject/DATA/Annotate/LabelV3/sampled_V3_10K_yPred_RoBERTa_Sampled1412WithoutYpred_RaviLabel.csv')"
   ]
  },
  {
   "cell_type": "code",
   "execution_count": 68,
   "id": "e6dfd657",
   "metadata": {},
   "outputs": [
    {
     "data": {
      "text/plain": [
       "(1412, 7)"
      ]
     },
     "execution_count": 68,
     "metadata": {},
     "output_type": "execute_result"
    }
   ],
   "source": [
    "V3Ravi.shape"
   ]
  },
  {
   "cell_type": "code",
   "execution_count": 62,
   "id": "dc7e9a46",
   "metadata": {},
   "outputs": [
    {
     "data": {
      "text/html": [
       "<div>\n",
       "<style scoped>\n",
       "    .dataframe tbody tr th:only-of-type {\n",
       "        vertical-align: middle;\n",
       "    }\n",
       "\n",
       "    .dataframe tbody tr th {\n",
       "        vertical-align: top;\n",
       "    }\n",
       "\n",
       "    .dataframe thead th {\n",
       "        text-align: right;\n",
       "    }\n",
       "</style>\n",
       "<table border=\"1\" class=\"dataframe\">\n",
       "  <thead>\n",
       "    <tr style=\"text-align: right;\">\n",
       "      <th></th>\n",
       "      <th>Unnamed: 0</th>\n",
       "      <th>msgDate</th>\n",
       "      <th>msg</th>\n",
       "      <th>replyDate</th>\n",
       "      <th>text</th>\n",
       "      <th>telegramChannel</th>\n",
       "      <th>LabelRavi</th>\n",
       "    </tr>\n",
       "  </thead>\n",
       "  <tbody>\n",
       "    <tr>\n",
       "      <th>0</th>\n",
       "      <td>2224</td>\n",
       "      <td>1663953628</td>\n",
       "      <td>NaN</td>\n",
       "      <td>1663954508</td>\n",
       "      <td>More than likely,  I would put that sick fuck ...</td>\n",
       "      <td>ResisttheMainstream.json</td>\n",
       "      <td>3.0</td>\n",
       "    </tr>\n",
       "  </tbody>\n",
       "</table>\n",
       "</div>"
      ],
      "text/plain": [
       "   Unnamed: 0     msgDate  msg   replyDate  \\\n",
       "0        2224  1663953628  NaN  1663954508   \n",
       "\n",
       "                                                text  \\\n",
       "0  More than likely,  I would put that sick fuck ...   \n",
       "\n",
       "            telegramChannel  LabelRavi  \n",
       "0  ResisttheMainstream.json        3.0  "
      ]
     },
     "execution_count": 62,
     "metadata": {},
     "output_type": "execute_result"
    }
   ],
   "source": [
    "V3Ravi.head(1)"
   ]
  },
  {
   "cell_type": "code",
   "execution_count": 63,
   "id": "bf9951a0",
   "metadata": {},
   "outputs": [
    {
     "data": {
      "text/html": [
       "<div>\n",
       "<style scoped>\n",
       "    .dataframe tbody tr th:only-of-type {\n",
       "        vertical-align: middle;\n",
       "    }\n",
       "\n",
       "    .dataframe tbody tr th {\n",
       "        vertical-align: top;\n",
       "    }\n",
       "\n",
       "    .dataframe thead th {\n",
       "        text-align: right;\n",
       "    }\n",
       "</style>\n",
       "<table border=\"1\" class=\"dataframe\">\n",
       "  <thead>\n",
       "    <tr style=\"text-align: right;\">\n",
       "      <th></th>\n",
       "      <th>Unnamed: 0</th>\n",
       "      <th>msgDate</th>\n",
       "      <th>msg</th>\n",
       "      <th>replyDate</th>\n",
       "      <th>text</th>\n",
       "      <th>telegramChannel</th>\n",
       "      <th>LabelRavi</th>\n",
       "    </tr>\n",
       "  </thead>\n",
       "  <tbody>\n",
       "    <tr>\n",
       "      <th>1411</th>\n",
       "      <td>5140</td>\n",
       "      <td>1698292459</td>\n",
       "      <td>S e n .   K e n n e d y   e x p o s e s   t h ...</td>\n",
       "      <td>1698297951</td>\n",
       "      <td>This is treason. Treason is a hanging crime.</td>\n",
       "      <td>TrumpSupportersChannel.json</td>\n",
       "      <td>3.0</td>\n",
       "    </tr>\n",
       "  </tbody>\n",
       "</table>\n",
       "</div>"
      ],
      "text/plain": [
       "      Unnamed: 0     msgDate  \\\n",
       "1411        5140  1698292459   \n",
       "\n",
       "                                                    msg   replyDate  \\\n",
       "1411  S e n .   K e n n e d y   e x p o s e s   t h ...  1698297951   \n",
       "\n",
       "                                              text  \\\n",
       "1411  This is treason. Treason is a hanging crime.   \n",
       "\n",
       "                  telegramChannel  LabelRavi  \n",
       "1411  TrumpSupportersChannel.json        3.0  "
      ]
     },
     "execution_count": 63,
     "metadata": {},
     "output_type": "execute_result"
    }
   ],
   "source": [
    "V3Ravi.tail(1)"
   ]
  },
  {
   "cell_type": "code",
   "execution_count": 64,
   "id": "b4c8c5a0",
   "metadata": {},
   "outputs": [
    {
     "data": {
      "text/plain": [
       "1.0    1094\n",
       "3.0     176\n",
       "2.0     134\n",
       "Name: LabelRavi, dtype: int64"
      ]
     },
     "execution_count": 64,
     "metadata": {},
     "output_type": "execute_result"
    }
   ],
   "source": [
    "V3Ravi['LabelRavi'].value_counts()"
   ]
  },
  {
   "cell_type": "code",
   "execution_count": 71,
   "id": "1cbf7fda",
   "metadata": {},
   "outputs": [],
   "source": [
    "V3Labels=V3GPT.copy()\n",
    "V3Labels['RLabel']=V3Ravi['LabelRavi']\n",
    "V3Labels = V3Labels.dropna(subset=['RLabel'], axis=0)\n",
    "V3Labels['RLabel']=V3Labels['RLabel'].astype('int64')"
   ]
  },
  {
   "cell_type": "code",
   "execution_count": 104,
   "id": "f3df5d98",
   "metadata": {},
   "outputs": [
    {
     "data": {
      "text/plain": [
       "(1404, 7)"
      ]
     },
     "execution_count": 104,
     "metadata": {},
     "output_type": "execute_result"
    }
   ],
   "source": [
    "V3Labels.shape"
   ]
  },
  {
   "cell_type": "code",
   "execution_count": 105,
   "id": "f013c492",
   "metadata": {},
   "outputs": [
    {
     "data": {
      "text/plain": [
       "1    1094\n",
       "3     176\n",
       "2     134\n",
       "Name: RLabel, dtype: int64"
      ]
     },
     "execution_count": 105,
     "metadata": {},
     "output_type": "execute_result"
    }
   ],
   "source": [
    "V3Labels['RLabel'].value_counts()"
   ]
  },
  {
   "cell_type": "code",
   "execution_count": 106,
   "id": "ed08fef6",
   "metadata": {},
   "outputs": [
    {
     "data": {
      "text/html": [
       "<div>\n",
       "<style scoped>\n",
       "    .dataframe tbody tr th:only-of-type {\n",
       "        vertical-align: middle;\n",
       "    }\n",
       "\n",
       "    .dataframe tbody tr th {\n",
       "        vertical-align: top;\n",
       "    }\n",
       "\n",
       "    .dataframe thead th {\n",
       "        text-align: right;\n",
       "    }\n",
       "</style>\n",
       "<table border=\"1\" class=\"dataframe\">\n",
       "  <thead>\n",
       "    <tr style=\"text-align: right;\">\n",
       "      <th></th>\n",
       "      <th>msgDate</th>\n",
       "      <th>msg</th>\n",
       "      <th>replyDate</th>\n",
       "      <th>text</th>\n",
       "      <th>telegramChannel</th>\n",
       "      <th>y_pred</th>\n",
       "      <th>RLabel</th>\n",
       "    </tr>\n",
       "  </thead>\n",
       "  <tbody>\n",
       "    <tr>\n",
       "      <th>0</th>\n",
       "      <td>1663953628</td>\n",
       "      <td></td>\n",
       "      <td>1663954508</td>\n",
       "      <td>More than likely,  I would put that sick fuck ...</td>\n",
       "      <td>ResisttheMainstream.json</td>\n",
       "      <td>3</td>\n",
       "      <td>3</td>\n",
       "    </tr>\n",
       "  </tbody>\n",
       "</table>\n",
       "</div>"
      ],
      "text/plain": [
       "      msgDate msg   replyDate  \\\n",
       "0  1663953628      1663954508   \n",
       "\n",
       "                                                text  \\\n",
       "0  More than likely,  I would put that sick fuck ...   \n",
       "\n",
       "            telegramChannel  y_pred  RLabel  \n",
       "0  ResisttheMainstream.json       3       3  "
      ]
     },
     "execution_count": 106,
     "metadata": {},
     "output_type": "execute_result"
    }
   ],
   "source": [
    "V3Labels.head(1)"
   ]
  },
  {
   "cell_type": "code",
   "execution_count": 121,
   "id": "29a7d1fc",
   "metadata": {},
   "outputs": [],
   "source": [
    "V3Labels.to_csv('/home/ravi/raviProject/DATA/Annotate/LabelV3/sampled_V3_10K_yPred_RoBERTa_Sampled1404WithYpred_RaviLabel.csv')"
   ]
  },
  {
   "cell_type": "markdown",
   "id": "3d3256a5",
   "metadata": {},
   "source": [
    "## score"
   ]
  },
  {
   "cell_type": "code",
   "execution_count": 74,
   "id": "627f2a99",
   "metadata": {},
   "outputs": [],
   "source": [
    "from sklearn.metrics import cohen_kappa_score\n",
    "from sklearn.metrics import classification_report, f1_score, accuracy_score\n"
   ]
  },
  {
   "cell_type": "code",
   "execution_count": 161,
   "id": "ed774ff2",
   "metadata": {},
   "outputs": [],
   "source": [
    "def sample_per_class(df, sample_count):\n",
    "    sampled_df = pd.DataFrame()\n",
    "    remaining_df = df.copy()\n",
    "\n",
    "    # Iterate over unique classes\n",
    "    for class_label in df['RLabel'].unique():\n",
    "        # Extract 100 rows where the column value is the current class label\n",
    "        sampled_class_df = remaining_df[remaining_df['RLabel'] == class_label]\n",
    "        sampled_class_df = sampled_class_df.sample(frac=1, random_state=42)\n",
    "        sampled_class_df = sampled_class_df.head(sample_count)\n",
    "\n",
    "        # Append sampled rows to the sampled_df DataFrame\n",
    "        sampled_df = pd.concat([sampled_df, sampled_class_df], ignore_index=True)\n",
    "\n",
    "        # Remove the sampled rows from the remaining_df\n",
    "        remaining_df = remaining_df.drop(sampled_class_df.index)\n",
    "\n",
    "    return sampled_df, remaining_df"
   ]
  },
  {
   "cell_type": "code",
   "execution_count": 178,
   "id": "cd27971c",
   "metadata": {},
   "outputs": [],
   "source": [
    "df = V3Labels.copy()\n",
    "sampled_df, remaining_df = sample_per_class(df, 100)"
   ]
  },
  {
   "cell_type": "code",
   "execution_count": 179,
   "id": "4aac5559",
   "metadata": {},
   "outputs": [
    {
     "data": {
      "text/plain": [
       "(1404, 300, 1104)"
      ]
     },
     "execution_count": 179,
     "metadata": {},
     "output_type": "execute_result"
    }
   ],
   "source": [
    "len(df), len(sampled_df), len(remaining_df)"
   ]
  },
  {
   "cell_type": "code",
   "execution_count": 180,
   "id": "cea93929",
   "metadata": {},
   "outputs": [
    {
     "data": {
      "text/plain": [
       "3    100\n",
       "1    100\n",
       "2    100\n",
       "Name: RLabel, dtype: int64"
      ]
     },
     "execution_count": 180,
     "metadata": {},
     "output_type": "execute_result"
    }
   ],
   "source": [
    "sampled_df['RLabel'].value_counts()"
   ]
  },
  {
   "cell_type": "code",
   "execution_count": 181,
   "id": "f9dae3b8",
   "metadata": {},
   "outputs": [
    {
     "data": {
      "text/plain": [
       "1    994\n",
       "3     76\n",
       "2     34\n",
       "Name: RLabel, dtype: int64"
      ]
     },
     "execution_count": 181,
     "metadata": {},
     "output_type": "execute_result"
    }
   ],
   "source": [
    "remaining_df['RLabel'].value_counts()"
   ]
  },
  {
   "cell_type": "code",
   "execution_count": 182,
   "id": "351982cc",
   "metadata": {},
   "outputs": [
    {
     "data": {
      "text/plain": [
       "1104"
      ]
     },
     "execution_count": 182,
     "metadata": {},
     "output_type": "execute_result"
    }
   ],
   "source": [
    "remaining_df.shape[0]"
   ]
  },
  {
   "cell_type": "code",
   "execution_count": 183,
   "id": "d3af2c5c",
   "metadata": {},
   "outputs": [
    {
     "data": {
      "text/html": [
       "<div>\n",
       "<style scoped>\n",
       "    .dataframe tbody tr th:only-of-type {\n",
       "        vertical-align: middle;\n",
       "    }\n",
       "\n",
       "    .dataframe tbody tr th {\n",
       "        vertical-align: top;\n",
       "    }\n",
       "\n",
       "    .dataframe thead th {\n",
       "        text-align: right;\n",
       "    }\n",
       "</style>\n",
       "<table border=\"1\" class=\"dataframe\">\n",
       "  <thead>\n",
       "    <tr style=\"text-align: right;\">\n",
       "      <th></th>\n",
       "      <th>msgDate</th>\n",
       "      <th>msg</th>\n",
       "      <th>replyDate</th>\n",
       "      <th>text</th>\n",
       "      <th>telegramChannel</th>\n",
       "      <th>y_pred</th>\n",
       "      <th>RLabel</th>\n",
       "    </tr>\n",
       "  </thead>\n",
       "  <tbody>\n",
       "    <tr>\n",
       "      <th>0</th>\n",
       "      <td>1631806658</td>\n",
       "      <td></td>\n",
       "      <td>1631806805</td>\n",
       "      <td>Fuck admin top down ! Let professors teach . B...</td>\n",
       "      <td>TheTrumpRepublicans.json</td>\n",
       "      <td>3</td>\n",
       "      <td>3</td>\n",
       "    </tr>\n",
       "  </tbody>\n",
       "</table>\n",
       "</div>"
      ],
      "text/plain": [
       "      msgDate msg   replyDate  \\\n",
       "0  1631806658      1631806805   \n",
       "\n",
       "                                                text  \\\n",
       "0  Fuck admin top down ! Let professors teach . B...   \n",
       "\n",
       "            telegramChannel  y_pred  RLabel  \n",
       "0  TheTrumpRepublicans.json       3       3  "
      ]
     },
     "execution_count": 183,
     "metadata": {},
     "output_type": "execute_result"
    }
   ],
   "source": [
    "sampled_df.head(1)"
   ]
  },
  {
   "cell_type": "code",
   "execution_count": 184,
   "id": "23accea3",
   "metadata": {},
   "outputs": [],
   "source": [
    "kappa = cohen_kappa_score(sampled_df['RLabel'], sampled_df['y_pred'])"
   ]
  },
  {
   "cell_type": "code",
   "execution_count": 185,
   "id": "e4a696ab",
   "metadata": {},
   "outputs": [
    {
     "data": {
      "text/plain": [
       "0.605"
      ]
     },
     "execution_count": 185,
     "metadata": {},
     "output_type": "execute_result"
    }
   ],
   "source": [
    "kappa"
   ]
  },
  {
   "cell_type": "code",
   "execution_count": 186,
   "id": "0256f5f0",
   "metadata": {},
   "outputs": [],
   "source": [
    "weighted_f1 = f1_score(sampled_df['RLabel'], sampled_df['y_pred'], average='weighted')"
   ]
  },
  {
   "cell_type": "code",
   "execution_count": 187,
   "id": "924e8525",
   "metadata": {},
   "outputs": [
    {
     "data": {
      "text/plain": [
       "0.6958575229801646"
      ]
     },
     "execution_count": 187,
     "metadata": {},
     "output_type": "execute_result"
    }
   ],
   "source": [
    "weighted_f1"
   ]
  },
  {
   "cell_type": "code",
   "execution_count": 188,
   "id": "c9ff6868",
   "metadata": {},
   "outputs": [],
   "source": [
    "acc = accuracy_score(sampled_df['RLabel'], sampled_df['y_pred'])"
   ]
  },
  {
   "cell_type": "code",
   "execution_count": 189,
   "id": "8429ca36",
   "metadata": {},
   "outputs": [
    {
     "data": {
      "text/plain": [
       "0.7366666666666667"
      ]
     },
     "execution_count": 189,
     "metadata": {},
     "output_type": "execute_result"
    }
   ],
   "source": [
    "acc"
   ]
  },
  {
   "cell_type": "code",
   "execution_count": 190,
   "id": "ec78116d",
   "metadata": {},
   "outputs": [],
   "source": [
    "# Generate classification report\n",
    "class_report = classification_report(sampled_df['RLabel'], sampled_df['y_pred'])"
   ]
  },
  {
   "cell_type": "code",
   "execution_count": 191,
   "id": "c6e976a7",
   "metadata": {},
   "outputs": [
    {
     "name": "stdout",
     "output_type": "stream",
     "text": [
      "Classification Report:\n",
      "               precision    recall  f1-score   support\n",
      "\n",
      "           1       1.00      0.28      0.44       100\n",
      "           2       0.85      0.95      0.90       100\n",
      "           3       0.61      0.98      0.75       100\n",
      "\n",
      "    accuracy                           0.74       300\n",
      "   macro avg       0.82      0.74      0.70       300\n",
      "weighted avg       0.82      0.74      0.70       300\n",
      "\n"
     ]
    }
   ],
   "source": [
    "print(\"Classification Report:\\n\", class_report)"
   ]
  },
  {
   "cell_type": "code",
   "execution_count": 192,
   "id": "6c5bf903",
   "metadata": {},
   "outputs": [],
   "source": [
    "from sklearn.metrics import confusion_matrix\n",
    "import matplotlib.pyplot as plt\n",
    "import seaborn as sns"
   ]
  },
  {
   "cell_type": "code",
   "execution_count": 193,
   "id": "4c30c245",
   "metadata": {},
   "outputs": [
    {
     "data": {
      "image/png": "[encoded data removed]",
      "text/plain": [
       "<Figure size 576x432 with 1 Axes>"
      ]
     },
     "metadata": {
      "needs_background": "light"
     },
     "output_type": "display_data"
    }
   ],
   "source": [
    "conf_matrix=confusion_matrix(sampled_df['RLabel'], sampled_df['y_pred'])\n",
    "# Plot the confusion matrix as a heatmap\n",
    "plt.figure(figsize=(8, 6))\n",
    "sns.heatmap(conf_matrix, annot=True, fmt='d', cmap='Blues', cbar=False)\n",
    "plt.title('Confusion Matrix')\n",
    "plt.xlabel('Predicted Labels')\n",
    "plt.ylabel('True Labels')\n",
    "\n",
    "# Set the tick labels to match your class labels (1, 2, 3)\n",
    "plt.xticks(ticks=[0.5, 1.5, 2.5], labels=[1, 2, 3])\n",
    "plt.yticks(ticks=[0.5, 1.5, 2.5], labels=[1, 2, 3])\n",
    "\n",
    "plt.show()"
   ]
  },
  {
   "cell_type": "code",
   "execution_count": 195,
   "id": "a41da400",
   "metadata": {},
   "outputs": [],
   "source": [
    "sampled_df.to_json('/home/ravi/raviProject/DATA/Annotate/LabelV3/V3_Labeled_300_sampled.json', orient='records')\n",
    "remaining_df.to_json('/home/ravi/raviProject/DATA/Annotate/LabelV3/V3_Labeled_1104_remaining.json', orient='records')"
   ]
  },
  {
   "cell_type": "markdown",
   "id": "c142c27c",
   "metadata": {},
   "source": [
    "# MERGE with previous labeled set"
   ]
  },
  {
   "cell_type": "code",
   "execution_count": 196,
   "id": "21758b6a",
   "metadata": {},
   "outputs": [],
   "source": [
    "iter2=pd.read_json('/home/ravi/raviProject/DATA/Annotate/iterData/iter2_Labeled_600_sampled.json', orient='records')"
   ]
  },
  {
   "cell_type": "code",
   "execution_count": 197,
   "id": "8d4b37aa",
   "metadata": {},
   "outputs": [
    {
     "data": {
      "text/html": [
       "<div>\n",
       "<style scoped>\n",
       "    .dataframe tbody tr th:only-of-type {\n",
       "        vertical-align: middle;\n",
       "    }\n",
       "\n",
       "    .dataframe tbody tr th {\n",
       "        vertical-align: top;\n",
       "    }\n",
       "\n",
       "    .dataframe thead th {\n",
       "        text-align: right;\n",
       "    }\n",
       "</style>\n",
       "<table border=\"1\" class=\"dataframe\">\n",
       "  <thead>\n",
       "    <tr style=\"text-align: right;\">\n",
       "      <th></th>\n",
       "      <th>msgDate</th>\n",
       "      <th>msg</th>\n",
       "      <th>replyDate</th>\n",
       "      <th>text</th>\n",
       "      <th>telegramChannel</th>\n",
       "      <th>FinalLabel</th>\n",
       "    </tr>\n",
       "  </thead>\n",
       "  <tbody>\n",
       "    <tr>\n",
       "      <th>0</th>\n",
       "      <td>1641745947</td>\n",
       "      <td>This is so wrong.\\n</td>\n",
       "      <td>1641755795</td>\n",
       "      <td>Sounds like their trying to kill off the other...</td>\n",
       "      <td>AnalyzingAmerica.json</td>\n",
       "      <td>0</td>\n",
       "    </tr>\n",
       "  </tbody>\n",
       "</table>\n",
       "</div>"
      ],
      "text/plain": [
       "      msgDate                   msg   replyDate  \\\n",
       "0  1641745947  This is so wrong.\\n   1641755795   \n",
       "\n",
       "                                                text        telegramChannel  \\\n",
       "0  Sounds like their trying to kill off the other...  AnalyzingAmerica.json   \n",
       "\n",
       "   FinalLabel  \n",
       "0           0  "
      ]
     },
     "execution_count": 197,
     "metadata": {},
     "output_type": "execute_result"
    }
   ],
   "source": [
    "iter2.head(1)"
   ]
  },
  {
   "cell_type": "code",
   "execution_count": 198,
   "id": "d2d59df4",
   "metadata": {},
   "outputs": [
    {
     "data": {
      "text/plain": [
       "0    200\n",
       "1    200\n",
       "2    200\n",
       "Name: FinalLabel, dtype: int64"
      ]
     },
     "execution_count": 198,
     "metadata": {},
     "output_type": "execute_result"
    }
   ],
   "source": [
    "iter2['FinalLabel'].value_counts()"
   ]
  },
  {
   "cell_type": "code",
   "execution_count": 206,
   "id": "9efc0b2d",
   "metadata": {},
   "outputs": [],
   "source": [
    "v3df = pd.read_json('/home/ravi/raviProject/DATA/Annotate/LabelV3/V3_Labeled_300_sampled.json', orient='records')\n",
    "v3df['FinalLabel']=v3df['RLabel']"
   ]
  },
  {
   "cell_type": "code",
   "execution_count": 207,
   "id": "f2f6d068",
   "metadata": {},
   "outputs": [
    {
     "data": {
      "text/html": [
       "<div>\n",
       "<style scoped>\n",
       "    .dataframe tbody tr th:only-of-type {\n",
       "        vertical-align: middle;\n",
       "    }\n",
       "\n",
       "    .dataframe tbody tr th {\n",
       "        vertical-align: top;\n",
       "    }\n",
       "\n",
       "    .dataframe thead th {\n",
       "        text-align: right;\n",
       "    }\n",
       "</style>\n",
       "<table border=\"1\" class=\"dataframe\">\n",
       "  <thead>\n",
       "    <tr style=\"text-align: right;\">\n",
       "      <th></th>\n",
       "      <th>msgDate</th>\n",
       "      <th>msg</th>\n",
       "      <th>replyDate</th>\n",
       "      <th>text</th>\n",
       "      <th>telegramChannel</th>\n",
       "      <th>y_pred</th>\n",
       "      <th>RLabel</th>\n",
       "      <th>FinalLabel</th>\n",
       "    </tr>\n",
       "  </thead>\n",
       "  <tbody>\n",
       "    <tr>\n",
       "      <th>0</th>\n",
       "      <td>1631806658</td>\n",
       "      <td></td>\n",
       "      <td>1631806805</td>\n",
       "      <td>Fuck admin top down ! Let professors teach . B...</td>\n",
       "      <td>TheTrumpRepublicans.json</td>\n",
       "      <td>3</td>\n",
       "      <td>3</td>\n",
       "      <td>3</td>\n",
       "    </tr>\n",
       "  </tbody>\n",
       "</table>\n",
       "</div>"
      ],
      "text/plain": [
       "      msgDate msg   replyDate  \\\n",
       "0  1631806658      1631806805   \n",
       "\n",
       "                                                text  \\\n",
       "0  Fuck admin top down ! Let professors teach . B...   \n",
       "\n",
       "            telegramChannel  y_pred  RLabel  FinalLabel  \n",
       "0  TheTrumpRepublicans.json       3       3           3  "
      ]
     },
     "execution_count": 207,
     "metadata": {},
     "output_type": "execute_result"
    }
   ],
   "source": [
    "v3df.head(1)"
   ]
  },
  {
   "cell_type": "code",
   "execution_count": 208,
   "id": "881b4477",
   "metadata": {},
   "outputs": [],
   "source": [
    "# Replace values in column 'FinalLabel'\n",
    "replacement_dict = {1 : 0, 2 : 1, 3 : 2}\n",
    "v3df['FinalLabel'] = v3df['FinalLabel'].replace(replacement_dict)"
   ]
  },
  {
   "cell_type": "code",
   "execution_count": 209,
   "id": "300d102c",
   "metadata": {},
   "outputs": [
    {
     "data": {
      "text/plain": [
       "2    100\n",
       "0    100\n",
       "1    100\n",
       "Name: FinalLabel, dtype: int64"
      ]
     },
     "execution_count": 209,
     "metadata": {},
     "output_type": "execute_result"
    }
   ],
   "source": [
    "v3df['FinalLabel'].value_counts()"
   ]
  },
  {
   "cell_type": "code",
   "execution_count": 210,
   "id": "8a248c23",
   "metadata": {},
   "outputs": [],
   "source": [
    "selected_cols =['msgDate', 'msg', 'replyDate', 'text', 'telegramChannel', 'FinalLabel']\n",
    "merged_df = pd.concat([iter2[selected_cols], v3df[selected_cols]], ignore_index=True)"
   ]
  },
  {
   "cell_type": "code",
   "execution_count": 211,
   "id": "057caa42",
   "metadata": {},
   "outputs": [
    {
     "data": {
      "text/html": [
       "<div>\n",
       "<style scoped>\n",
       "    .dataframe tbody tr th:only-of-type {\n",
       "        vertical-align: middle;\n",
       "    }\n",
       "\n",
       "    .dataframe tbody tr th {\n",
       "        vertical-align: top;\n",
       "    }\n",
       "\n",
       "    .dataframe thead th {\n",
       "        text-align: right;\n",
       "    }\n",
       "</style>\n",
       "<table border=\"1\" class=\"dataframe\">\n",
       "  <thead>\n",
       "    <tr style=\"text-align: right;\">\n",
       "      <th></th>\n",
       "      <th>msgDate</th>\n",
       "      <th>msg</th>\n",
       "      <th>replyDate</th>\n",
       "      <th>text</th>\n",
       "      <th>telegramChannel</th>\n",
       "      <th>FinalLabel</th>\n",
       "    </tr>\n",
       "  </thead>\n",
       "  <tbody>\n",
       "    <tr>\n",
       "      <th>0</th>\n",
       "      <td>1641745947</td>\n",
       "      <td>This is so wrong.\\n</td>\n",
       "      <td>1641755795</td>\n",
       "      <td>Sounds like their trying to kill off the other...</td>\n",
       "      <td>AnalyzingAmerica.json</td>\n",
       "      <td>0</td>\n",
       "    </tr>\n",
       "  </tbody>\n",
       "</table>\n",
       "</div>"
      ],
      "text/plain": [
       "      msgDate                   msg   replyDate  \\\n",
       "0  1641745947  This is so wrong.\\n   1641755795   \n",
       "\n",
       "                                                text        telegramChannel  \\\n",
       "0  Sounds like their trying to kill off the other...  AnalyzingAmerica.json   \n",
       "\n",
       "   FinalLabel  \n",
       "0           0  "
      ]
     },
     "execution_count": 211,
     "metadata": {},
     "output_type": "execute_result"
    }
   ],
   "source": [
    "merged_df.head(1)"
   ]
  },
  {
   "cell_type": "code",
   "execution_count": 212,
   "id": "1b71b124",
   "metadata": {},
   "outputs": [
    {
     "data": {
      "text/plain": [
       "0    300\n",
       "1    300\n",
       "2    300\n",
       "Name: FinalLabel, dtype: int64"
      ]
     },
     "execution_count": 212,
     "metadata": {},
     "output_type": "execute_result"
    }
   ],
   "source": [
    "merged_df['FinalLabel'].value_counts()"
   ]
  },
  {
   "cell_type": "code",
   "execution_count": 213,
   "id": "ae5cea29",
   "metadata": {},
   "outputs": [],
   "source": [
    "merged_df.to_json('/home/ravi/raviProject/DATA/Annotate/iterData/iter3_Labeled_900_sampled.json', orient='records')"
   ]
  },
  {
   "cell_type": "code",
   "execution_count": null,
   "id": "1bd6cf08",
   "metadata": {},
   "outputs": [],
   "source": []
  }
 ],
 "metadata": {
  "kernelspec": {
   "display_name": "base",
   "language": "python",
   "name": "python3"
  },
  "language_info": {
   "codemirror_mode": {
    "name": "ipython",
    "version": 3
   },
   "file_extension": ".py",
   "mimetype": "text/x-python",
   "name": "python",
   "nbconvert_exporter": "python",
   "pygments_lexer": "ipython3",
   "version": "3.10.4"
  }
 },
 "nbformat": 4,
 "nbformat_minor": 5
}
