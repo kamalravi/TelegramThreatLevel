{
 "cells": [
  {
   "cell_type": "code",
   "execution_count": 2,
   "id": "4b295be7-c667-40bc-8f00-3aba590f0f3c",
   "metadata": {},
   "outputs": [],
   "source": [
    "import pandas as pd\n",
    "import glob\n",
    "import numpy as np\n",
    "import json\n",
    "import math\n",
    "from natsort import natsorted"
   ]
  },
  {
   "cell_type": "code",
   "execution_count": 3,
   "id": "e877d204-43e5-4d28-b25e-d3bc409f4c7f",
   "metadata": {},
   "outputs": [],
   "source": [
    "data = pd.read_json(\"/home/ravi/raviProject/DATA/Annotate/remaining_V1.json\", orient='records')"
   ]
  },
  {
   "cell_type": "code",
   "execution_count": 4,
   "id": "acbc1ad5",
   "metadata": {},
   "outputs": [
    {
     "data": {
      "text/plain": [
       "(2291110, 5)"
      ]
     },
     "execution_count": 4,
     "metadata": {},
     "output_type": "execute_result"
    }
   ],
   "source": [
    "data.shape"
   ]
  },
  {
   "cell_type": "code",
   "execution_count": 5,
   "id": "84b0cd44",
   "metadata": {},
   "outputs": [
    {
     "data": {
      "text/html": [
       "<div>\n",
       "<style scoped>\n",
       "    .dataframe tbody tr th:only-of-type {\n",
       "        vertical-align: middle;\n",
       "    }\n",
       "\n",
       "    .dataframe tbody tr th {\n",
       "        vertical-align: top;\n",
       "    }\n",
       "\n",
       "    .dataframe thead th {\n",
       "        text-align: right;\n",
       "    }\n",
       "</style>\n",
       "<table border=\"1\" class=\"dataframe\">\n",
       "  <thead>\n",
       "    <tr style=\"text-align: right;\">\n",
       "      <th></th>\n",
       "      <th>msgDate</th>\n",
       "      <th>msg</th>\n",
       "      <th>replyDate</th>\n",
       "      <th>reply</th>\n",
       "      <th>telegramChannel</th>\n",
       "    </tr>\n",
       "  </thead>\n",
       "  <tbody>\n",
       "    <tr>\n",
       "      <th>0</th>\n",
       "      <td>1611529552</td>\n",
       "      <td>Leftist Eviro. Plan For Total Planetary Serfdo...</td>\n",
       "      <td>1611532985</td>\n",
       "      <td>Keep on keepin’ on. May the Trinity, the Fathe...</td>\n",
       "      <td>AlexJones.json</td>\n",
       "    </tr>\n",
       "    <tr>\n",
       "      <th>1</th>\n",
       "      <td>1611529552</td>\n",
       "      <td>Leftist Eviro. Plan For Total Planetary Serfdo...</td>\n",
       "      <td>1611538372</td>\n",
       "      <td>They are really messing with the signal right ...</td>\n",
       "      <td>AlexJones.json</td>\n",
       "    </tr>\n",
       "    <tr>\n",
       "      <th>2</th>\n",
       "      <td>1611529552</td>\n",
       "      <td>Leftist Eviro. Plan For Total Planetary Serfdo...</td>\n",
       "      <td>1611540892</td>\n",
       "      <td></td>\n",
       "      <td>AlexJones.json</td>\n",
       "    </tr>\n",
       "    <tr>\n",
       "      <th>3</th>\n",
       "      <td>1611529552</td>\n",
       "      <td>Leftist Eviro. Plan For Total Planetary Serfdo...</td>\n",
       "      <td>1611541436</td>\n",
       "      <td>Wow comments are on.</td>\n",
       "      <td>AlexJones.json</td>\n",
       "    </tr>\n",
       "    <tr>\n",
       "      <th>4</th>\n",
       "      <td>1611529552</td>\n",
       "      <td>Leftist Eviro. Plan For Total Planetary Serfdo...</td>\n",
       "      <td>1611542543</td>\n",
       "      <td>The other day when I called in and spoke with ...</td>\n",
       "      <td>AlexJones.json</td>\n",
       "    </tr>\n",
       "  </tbody>\n",
       "</table>\n",
       "</div>"
      ],
      "text/plain": [
       "      msgDate                                                msg   replyDate  \\\n",
       "0  1611529552  Leftist Eviro. Plan For Total Planetary Serfdo...  1611532985   \n",
       "1  1611529552  Leftist Eviro. Plan For Total Planetary Serfdo...  1611538372   \n",
       "2  1611529552  Leftist Eviro. Plan For Total Planetary Serfdo...  1611540892   \n",
       "3  1611529552  Leftist Eviro. Plan For Total Planetary Serfdo...  1611541436   \n",
       "4  1611529552  Leftist Eviro. Plan For Total Planetary Serfdo...  1611542543   \n",
       "\n",
       "                                               reply telegramChannel  \n",
       "0  Keep on keepin’ on. May the Trinity, the Fathe...  AlexJones.json  \n",
       "1  They are really messing with the signal right ...  AlexJones.json  \n",
       "2                                                     AlexJones.json  \n",
       "3                               Wow comments are on.  AlexJones.json  \n",
       "4  The other day when I called in and spoke with ...  AlexJones.json  "
      ]
     },
     "execution_count": 5,
     "metadata": {},
     "output_type": "execute_result"
    }
   ],
   "source": [
    "data.head(5)"
   ]
  },
  {
   "cell_type": "code",
   "execution_count": 6,
   "id": "5e20590b",
   "metadata": {},
   "outputs": [],
   "source": [
    "df = data.copy()"
   ]
  },
  {
   "cell_type": "code",
   "execution_count": 7,
   "id": "17221fbf",
   "metadata": {},
   "outputs": [],
   "source": [
    "sampled_df = df.sample(n=10000, replace=False, random_state=42)"
   ]
  },
  {
   "cell_type": "code",
   "execution_count": 8,
   "id": "167ce426",
   "metadata": {},
   "outputs": [
    {
     "data": {
      "text/plain": [
       "(10000, 5)"
      ]
     },
     "execution_count": 8,
     "metadata": {},
     "output_type": "execute_result"
    }
   ],
   "source": [
    "sampled_df.shape"
   ]
  },
  {
   "cell_type": "code",
   "execution_count": 9,
   "id": "72cb2bc3",
   "metadata": {},
   "outputs": [
    {
     "data": {
      "text/html": [
       "<div>\n",
       "<style scoped>\n",
       "    .dataframe tbody tr th:only-of-type {\n",
       "        vertical-align: middle;\n",
       "    }\n",
       "\n",
       "    .dataframe tbody tr th {\n",
       "        vertical-align: top;\n",
       "    }\n",
       "\n",
       "    .dataframe thead th {\n",
       "        text-align: right;\n",
       "    }\n",
       "</style>\n",
       "<table border=\"1\" class=\"dataframe\">\n",
       "  <thead>\n",
       "    <tr style=\"text-align: right;\">\n",
       "      <th></th>\n",
       "      <th>msgDate</th>\n",
       "      <th>msg</th>\n",
       "      <th>replyDate</th>\n",
       "      <th>reply</th>\n",
       "      <th>telegramChannel</th>\n",
       "    </tr>\n",
       "  </thead>\n",
       "  <tbody>\n",
       "    <tr>\n",
       "      <th>1050863</th>\n",
       "      <td>1662532819</td>\n",
       "      <td>What are your thoughts on this?  🤔</td>\n",
       "      <td>1662534399</td>\n",
       "      <td>Psychopath.</td>\n",
       "      <td>ResisttheMainstream.json</td>\n",
       "    </tr>\n",
       "    <tr>\n",
       "      <th>983114</th>\n",
       "      <td>1666491599</td>\n",
       "      <td>At 9pm eastern, each night, those in jail for ...</td>\n",
       "      <td>1666492338</td>\n",
       "      <td>I can understand why Trump wouldn’t sing into ...</td>\n",
       "      <td>PrayingMedic.json</td>\n",
       "    </tr>\n",
       "    <tr>\n",
       "      <th>1416730</th>\n",
       "      <td>1684960820</td>\n",
       "      <td>🔴 Kayleigh McEnany Reveals How She Thinks DeSa...</td>\n",
       "      <td>1685043545</td>\n",
       "      <td></td>\n",
       "      <td>ResisttheMainstream.json</td>\n",
       "    </tr>\n",
       "    <tr>\n",
       "      <th>1263950</th>\n",
       "      <td>1674411617</td>\n",
       "      <td></td>\n",
       "      <td>1674415001</td>\n",
       "      <td>Is this an IQ test?</td>\n",
       "      <td>ResisttheMainstream.json</td>\n",
       "    </tr>\n",
       "    <tr>\n",
       "      <th>800675</th>\n",
       "      <td>1693834316</td>\n",
       "      <td>t h i s   m u s t   b e   h o w   o p p e n h ...</td>\n",
       "      <td>1693834929</td>\n",
       "      <td>lol</td>\n",
       "      <td>LacansWhreHouse.json</td>\n",
       "    </tr>\n",
       "  </tbody>\n",
       "</table>\n",
       "</div>"
      ],
      "text/plain": [
       "            msgDate                                                msg  \\\n",
       "1050863  1662532819                 What are your thoughts on this?  🤔   \n",
       "983114   1666491599  At 9pm eastern, each night, those in jail for ...   \n",
       "1416730  1684960820  🔴 Kayleigh McEnany Reveals How She Thinks DeSa...   \n",
       "1263950  1674411617                                                      \n",
       "800675   1693834316  t h i s   m u s t   b e   h o w   o p p e n h ...   \n",
       "\n",
       "          replyDate                                              reply  \\\n",
       "1050863  1662534399                                        Psychopath.   \n",
       "983114   1666492338  I can understand why Trump wouldn’t sing into ...   \n",
       "1416730  1685043545                                                      \n",
       "1263950  1674415001                                Is this an IQ test?   \n",
       "800675   1693834929                                                lol   \n",
       "\n",
       "                  telegramChannel  \n",
       "1050863  ResisttheMainstream.json  \n",
       "983114          PrayingMedic.json  \n",
       "1416730  ResisttheMainstream.json  \n",
       "1263950  ResisttheMainstream.json  \n",
       "800675       LacansWhreHouse.json  "
      ]
     },
     "execution_count": 9,
     "metadata": {},
     "output_type": "execute_result"
    }
   ],
   "source": [
    "sampled_df.head(5)"
   ]
  },
  {
   "cell_type": "code",
   "execution_count": 10,
   "id": "25d9ffe9-b72c-4883-8188-0dd7a938ef74",
   "metadata": {},
   "outputs": [],
   "source": [
    "sampled_df.to_json('/home/ravi/raviProject/DATA/Annotate/sampled_V2_10K.json', orient='records')"
   ]
  },
  {
   "cell_type": "code",
   "execution_count": 11,
   "id": "7c9abc8b",
   "metadata": {},
   "outputs": [],
   "source": [
    "# sampled_df=pd.read_json('/home/ravi/raviProject/DATA/Annotate/sampled_V1.json', orient='records')\n",
    "# # Save DataFrame as JSONL (JSON Lines)\n",
    "# with open('/home/ravi/raviProject/DATA/Annotate/sampled_V1.jsonl', 'w') as f:\n",
    "#     sampled_df.to_json(f, orient='records', lines=True)"
   ]
  },
  {
   "cell_type": "code",
   "execution_count": 12,
   "id": "074700db",
   "metadata": {},
   "outputs": [],
   "source": [
    "remaining_df = df.drop(sampled_df.index)"
   ]
  },
  {
   "cell_type": "code",
   "execution_count": 13,
   "id": "092d9595",
   "metadata": {},
   "outputs": [
    {
     "data": {
      "text/plain": [
       "(2281110, 5)"
      ]
     },
     "execution_count": 13,
     "metadata": {},
     "output_type": "execute_result"
    }
   ],
   "source": [
    "remaining_df.shape"
   ]
  },
  {
   "cell_type": "code",
   "execution_count": 14,
   "id": "08a118db",
   "metadata": {},
   "outputs": [],
   "source": [
    "remaining_df.to_json('/home/ravi/raviProject/DATA/Annotate/remaining_V2.json', orient='records')"
   ]
  },
  {
   "cell_type": "code",
   "execution_count": 15,
   "id": "a82917f7",
   "metadata": {},
   "outputs": [
    {
     "data": {
      "text/html": [
       "<div>\n",
       "<style scoped>\n",
       "    .dataframe tbody tr th:only-of-type {\n",
       "        vertical-align: middle;\n",
       "    }\n",
       "\n",
       "    .dataframe tbody tr th {\n",
       "        vertical-align: top;\n",
       "    }\n",
       "\n",
       "    .dataframe thead th {\n",
       "        text-align: right;\n",
       "    }\n",
       "</style>\n",
       "<table border=\"1\" class=\"dataframe\">\n",
       "  <thead>\n",
       "    <tr style=\"text-align: right;\">\n",
       "      <th></th>\n",
       "      <th>msgDate</th>\n",
       "      <th>msg</th>\n",
       "      <th>replyDate</th>\n",
       "      <th>reply</th>\n",
       "      <th>telegramChannel</th>\n",
       "    </tr>\n",
       "  </thead>\n",
       "  <tbody>\n",
       "    <tr>\n",
       "      <th>0</th>\n",
       "      <td>1611529552</td>\n",
       "      <td>Leftist Eviro. Plan For Total Planetary Serfdo...</td>\n",
       "      <td>1611532985</td>\n",
       "      <td>Keep on keepin’ on. May the Trinity, the Fathe...</td>\n",
       "      <td>AlexJones.json</td>\n",
       "    </tr>\n",
       "    <tr>\n",
       "      <th>1</th>\n",
       "      <td>1611529552</td>\n",
       "      <td>Leftist Eviro. Plan For Total Planetary Serfdo...</td>\n",
       "      <td>1611538372</td>\n",
       "      <td>They are really messing with the signal right ...</td>\n",
       "      <td>AlexJones.json</td>\n",
       "    </tr>\n",
       "    <tr>\n",
       "      <th>2</th>\n",
       "      <td>1611529552</td>\n",
       "      <td>Leftist Eviro. Plan For Total Planetary Serfdo...</td>\n",
       "      <td>1611540892</td>\n",
       "      <td></td>\n",
       "      <td>AlexJones.json</td>\n",
       "    </tr>\n",
       "    <tr>\n",
       "      <th>3</th>\n",
       "      <td>1611529552</td>\n",
       "      <td>Leftist Eviro. Plan For Total Planetary Serfdo...</td>\n",
       "      <td>1611541436</td>\n",
       "      <td>Wow comments are on.</td>\n",
       "      <td>AlexJones.json</td>\n",
       "    </tr>\n",
       "    <tr>\n",
       "      <th>4</th>\n",
       "      <td>1611529552</td>\n",
       "      <td>Leftist Eviro. Plan For Total Planetary Serfdo...</td>\n",
       "      <td>1611542543</td>\n",
       "      <td>The other day when I called in and spoke with ...</td>\n",
       "      <td>AlexJones.json</td>\n",
       "    </tr>\n",
       "  </tbody>\n",
       "</table>\n",
       "</div>"
      ],
      "text/plain": [
       "      msgDate                                                msg   replyDate  \\\n",
       "0  1611529552  Leftist Eviro. Plan For Total Planetary Serfdo...  1611532985   \n",
       "1  1611529552  Leftist Eviro. Plan For Total Planetary Serfdo...  1611538372   \n",
       "2  1611529552  Leftist Eviro. Plan For Total Planetary Serfdo...  1611540892   \n",
       "3  1611529552  Leftist Eviro. Plan For Total Planetary Serfdo...  1611541436   \n",
       "4  1611529552  Leftist Eviro. Plan For Total Planetary Serfdo...  1611542543   \n",
       "\n",
       "                                               reply telegramChannel  \n",
       "0  Keep on keepin’ on. May the Trinity, the Fathe...  AlexJones.json  \n",
       "1  They are really messing with the signal right ...  AlexJones.json  \n",
       "2                                                     AlexJones.json  \n",
       "3                               Wow comments are on.  AlexJones.json  \n",
       "4  The other day when I called in and spoke with ...  AlexJones.json  "
      ]
     },
     "execution_count": 15,
     "metadata": {},
     "output_type": "execute_result"
    }
   ],
   "source": [
    "remaining_df.head(5)"
   ]
  },
  {
   "cell_type": "markdown",
   "id": "555739eb",
   "metadata": {},
   "source": [
    "# sample ~100 per class wrt model predictions"
   ]
  },
  {
   "cell_type": "code",
   "execution_count": 3,
   "id": "39229413",
   "metadata": {},
   "outputs": [],
   "source": [
    "df = pd.read_json('/home/ravi/raviProject/DATA/Annotate/sampled_V2_10K_yPred_RoBERTa.json', orient='records')"
   ]
  },
  {
   "cell_type": "code",
   "execution_count": 13,
   "id": "b8295750",
   "metadata": {},
   "outputs": [
    {
     "data": {
      "text/plain": [
       "0    8725\n",
       "2     766\n",
       "1     509\n",
       "Name: y_pred, dtype: int64"
      ]
     },
     "execution_count": 13,
     "metadata": {},
     "output_type": "execute_result"
    }
   ],
   "source": [
    "df['y_pred'].value_counts()"
   ]
  },
  {
   "cell_type": "code",
   "execution_count": 4,
   "id": "65db281a",
   "metadata": {},
   "outputs": [
    {
     "data": {
      "text/html": [
       "<div>\n",
       "<style scoped>\n",
       "    .dataframe tbody tr th:only-of-type {\n",
       "        vertical-align: middle;\n",
       "    }\n",
       "\n",
       "    .dataframe tbody tr th {\n",
       "        vertical-align: top;\n",
       "    }\n",
       "\n",
       "    .dataframe thead th {\n",
       "        text-align: right;\n",
       "    }\n",
       "</style>\n",
       "<table border=\"1\" class=\"dataframe\">\n",
       "  <thead>\n",
       "    <tr style=\"text-align: right;\">\n",
       "      <th></th>\n",
       "      <th>msgDate</th>\n",
       "      <th>msg</th>\n",
       "      <th>replyDate</th>\n",
       "      <th>text</th>\n",
       "      <th>telegramChannel</th>\n",
       "      <th>y_pred</th>\n",
       "    </tr>\n",
       "  </thead>\n",
       "  <tbody>\n",
       "    <tr>\n",
       "      <th>0</th>\n",
       "      <td>1662532819</td>\n",
       "      <td>What are your thoughts on this?  🤔</td>\n",
       "      <td>1662534399</td>\n",
       "      <td>Psychopath.</td>\n",
       "      <td>ResisttheMainstream.json</td>\n",
       "      <td>0</td>\n",
       "    </tr>\n",
       "    <tr>\n",
       "      <th>1</th>\n",
       "      <td>1666491599</td>\n",
       "      <td>At 9pm eastern, each night, those in jail for ...</td>\n",
       "      <td>1666492338</td>\n",
       "      <td>I can understand why Trump wouldn’t sing into ...</td>\n",
       "      <td>PrayingMedic.json</td>\n",
       "      <td>0</td>\n",
       "    </tr>\n",
       "    <tr>\n",
       "      <th>2</th>\n",
       "      <td>1684960820</td>\n",
       "      <td>🔴 Kayleigh McEnany Reveals How She Thinks DeSa...</td>\n",
       "      <td>1685043545</td>\n",
       "      <td></td>\n",
       "      <td>ResisttheMainstream.json</td>\n",
       "      <td>0</td>\n",
       "    </tr>\n",
       "    <tr>\n",
       "      <th>3</th>\n",
       "      <td>1674411617</td>\n",
       "      <td></td>\n",
       "      <td>1674415001</td>\n",
       "      <td>Is this an IQ test?</td>\n",
       "      <td>ResisttheMainstream.json</td>\n",
       "      <td>0</td>\n",
       "    </tr>\n",
       "    <tr>\n",
       "      <th>4</th>\n",
       "      <td>1693834316</td>\n",
       "      <td>t h i s   m u s t   b e   h o w   o p p e n h ...</td>\n",
       "      <td>1693834929</td>\n",
       "      <td>lol</td>\n",
       "      <td>LacansWhreHouse.json</td>\n",
       "      <td>0</td>\n",
       "    </tr>\n",
       "  </tbody>\n",
       "</table>\n",
       "</div>"
      ],
      "text/plain": [
       "      msgDate                                                msg   replyDate  \\\n",
       "0  1662532819                 What are your thoughts on this?  🤔  1662534399   \n",
       "1  1666491599  At 9pm eastern, each night, those in jail for ...  1666492338   \n",
       "2  1684960820  🔴 Kayleigh McEnany Reveals How She Thinks DeSa...  1685043545   \n",
       "3  1674411617                                                     1674415001   \n",
       "4  1693834316  t h i s   m u s t   b e   h o w   o p p e n h ...  1693834929   \n",
       "\n",
       "                                                text  \\\n",
       "0                                        Psychopath.   \n",
       "1  I can understand why Trump wouldn’t sing into ...   \n",
       "2                                                      \n",
       "3                                Is this an IQ test?   \n",
       "4                                                lol   \n",
       "\n",
       "            telegramChannel  y_pred  \n",
       "0  ResisttheMainstream.json       0  \n",
       "1         PrayingMedic.json       0  \n",
       "2  ResisttheMainstream.json       0  \n",
       "3  ResisttheMainstream.json       0  \n",
       "4      LacansWhreHouse.json       0  "
      ]
     },
     "execution_count": 4,
     "metadata": {},
     "output_type": "execute_result"
    }
   ],
   "source": [
    "df.head()"
   ]
  },
  {
   "cell_type": "code",
   "execution_count": 6,
   "id": "ed9b858c",
   "metadata": {},
   "outputs": [],
   "source": [
    "# sample 100 per class\n",
    "sampled_data_200 = df.groupby('y_pred').apply(lambda x: x.sample(n=200, random_state=42)).reset_index(drop=True)\n",
    "# Drop the sampled rows from the original DataFrame to get the remaining rows\n",
    "remaining_data = df.drop(sampled_data_200.index)"
   ]
  },
  {
   "cell_type": "code",
   "execution_count": 7,
   "id": "6bd0a825",
   "metadata": {},
   "outputs": [],
   "source": [
    "remaining_data.to_json('/home/ravi/raviProject/DATA/Annotate/sampled_V2_10K_yPred_RoBERTa_remaining9400.json', orient='records')\n",
    "sampled_data_200.to_json('/home/ravi/raviProject/DATA/Annotate/sampled_V2_10K_yPred_RoBERTa_Sampled600WithYpred.json', orient='records')\n",
    "sampled_data_200 = sampled_data_200.drop(columns=['y_pred'])\n",
    "sampled_data_200.to_csv('/home/ravi/raviProject/DATA/Annotate/sampled_V2_10K_yPred_RoBERTa_Sampled600WithoutYpred.csv')"
   ]
  },
  {
   "cell_type": "code",
   "execution_count": 14,
   "id": "1e554c3d",
   "metadata": {},
   "outputs": [],
   "source": [
    "# sample 100 per class\n",
    "sampled_data_500 = df.groupby('y_pred').apply(lambda x: x.sample(n=500, random_state=42)).reset_index(drop=True)\n",
    "# Drop the sampled rows from the original DataFrame to get the remaining rows\n",
    "remaining_data_500 = df.drop(sampled_data_500.index)"
   ]
  },
  {
   "cell_type": "code",
   "execution_count": 15,
   "id": "aca48b31",
   "metadata": {},
   "outputs": [],
   "source": [
    "remaining_data_500.to_json('/home/ravi/raviProject/DATA/Annotate/sampled_V2_10K_yPred_RoBERTa_remaining8500.json', orient='records')\n",
    "sampled_data_500.to_json('/home/ravi/raviProject/DATA/Annotate/sampled_V2_10K_yPred_RoBERTa_Sampled1500WithYpred.json', orient='records')\n",
    "sampled_data_500 = sampled_data_500.drop(columns=['y_pred'])\n",
    "sampled_data_500.to_csv('/home/ravi/raviProject/DATA/Annotate/sampled_V2_10K_yPred_RoBERTa_Sampled1500WithoutYpred.csv')"
   ]
  },
  {
   "cell_type": "markdown",
   "id": "d0fd106d",
   "metadata": {},
   "source": [
    "# Compare Labels"
   ]
  },
  {
   "cell_type": "code",
   "execution_count": 49,
   "id": "07815797",
   "metadata": {},
   "outputs": [],
   "source": [
    "V2GPT=pd.read_json('/home/ravi/raviProject/DATA/Annotate/sampled_V2_10K_yPred_RoBERTa_Sampled1500WithYpred.json', orient='records')"
   ]
  },
  {
   "cell_type": "code",
   "execution_count": 50,
   "id": "6ca808fe",
   "metadata": {},
   "outputs": [],
   "source": [
    "# Replace values in column 'FinalLabel'\n",
    "replacement_dict = {0 : 1, 1 : 2, 2 : 3}\n",
    "V2GPT['y_pred'] = V2GPT['y_pred'].replace(replacement_dict)"
   ]
  },
  {
   "cell_type": "code",
   "execution_count": 51,
   "id": "fe9fe699",
   "metadata": {},
   "outputs": [
    {
     "data": {
      "text/html": [
       "<div>\n",
       "<style scoped>\n",
       "    .dataframe tbody tr th:only-of-type {\n",
       "        vertical-align: middle;\n",
       "    }\n",
       "\n",
       "    .dataframe tbody tr th {\n",
       "        vertical-align: top;\n",
       "    }\n",
       "\n",
       "    .dataframe thead th {\n",
       "        text-align: right;\n",
       "    }\n",
       "</style>\n",
       "<table border=\"1\" class=\"dataframe\">\n",
       "  <thead>\n",
       "    <tr style=\"text-align: right;\">\n",
       "      <th></th>\n",
       "      <th>msgDate</th>\n",
       "      <th>msg</th>\n",
       "      <th>replyDate</th>\n",
       "      <th>text</th>\n",
       "      <th>telegramChannel</th>\n",
       "      <th>y_pred</th>\n",
       "    </tr>\n",
       "  </thead>\n",
       "  <tbody>\n",
       "    <tr>\n",
       "      <th>0</th>\n",
       "      <td>1649122203</td>\n",
       "      <td>​ Obama's White House Now At The Center Of The...</td>\n",
       "      <td>1649122460</td>\n",
       "      <td>Dirty dogs</td>\n",
       "      <td>TrumpSupportersChannel.json</td>\n",
       "      <td>1</td>\n",
       "    </tr>\n",
       "    <tr>\n",
       "      <th>1</th>\n",
       "      <td>1650201789</td>\n",
       "      <td>President Trump embraces a 100 year old WWII V...</td>\n",
       "      <td>1650213734</td>\n",
       "      <td>Beautiful heart 💞</td>\n",
       "      <td>TrumpSupportersChannel.json</td>\n",
       "      <td>1</td>\n",
       "    </tr>\n",
       "    <tr>\n",
       "      <th>2</th>\n",
       "      <td>1662489071</td>\n",
       "      <td>Unearthed Clip Completely Exposes Top January ...</td>\n",
       "      <td>1662505438</td>\n",
       "      <td>I was talking with you about crypto and for so...</td>\n",
       "      <td>TheTrumpRepublicans.json</td>\n",
       "      <td>1</td>\n",
       "    </tr>\n",
       "    <tr>\n",
       "      <th>3</th>\n",
       "      <td>1656271817</td>\n",
       "      <td>This is spot on.\\n\\n @TrumpChannel</td>\n",
       "      <td>1656441649</td>\n",
       "      <td>Hooray - one good minded citizen!!! God bless ...</td>\n",
       "      <td>TrumpSupportersChannel.json</td>\n",
       "      <td>1</td>\n",
       "    </tr>\n",
       "    <tr>\n",
       "      <th>4</th>\n",
       "      <td>1635459366</td>\n",
       "      <td></td>\n",
       "      <td>1635459451</td>\n",
       "      <td>Good one 😆</td>\n",
       "      <td>PatriotStreetfighter.json</td>\n",
       "      <td>1</td>\n",
       "    </tr>\n",
       "  </tbody>\n",
       "</table>\n",
       "</div>"
      ],
      "text/plain": [
       "      msgDate                                                msg   replyDate  \\\n",
       "0  1649122203  ​ Obama's White House Now At The Center Of The...  1649122460   \n",
       "1  1650201789  President Trump embraces a 100 year old WWII V...  1650213734   \n",
       "2  1662489071  Unearthed Clip Completely Exposes Top January ...  1662505438   \n",
       "3  1656271817                 This is spot on.\\n\\n @TrumpChannel  1656441649   \n",
       "4  1635459366                                                     1635459451   \n",
       "\n",
       "                                                text  \\\n",
       "0                                         Dirty dogs   \n",
       "1                                  Beautiful heart 💞   \n",
       "2  I was talking with you about crypto and for so...   \n",
       "3  Hooray - one good minded citizen!!! God bless ...   \n",
       "4                                         Good one 😆   \n",
       "\n",
       "               telegramChannel  y_pred  \n",
       "0  TrumpSupportersChannel.json       1  \n",
       "1  TrumpSupportersChannel.json       1  \n",
       "2     TheTrumpRepublicans.json       1  \n",
       "3  TrumpSupportersChannel.json       1  \n",
       "4    PatriotStreetfighter.json       1  "
      ]
     },
     "execution_count": 51,
     "metadata": {},
     "output_type": "execute_result"
    }
   ],
   "source": [
    "V2GPT.head()"
   ]
  },
  {
   "cell_type": "code",
   "execution_count": 52,
   "id": "6822c518",
   "metadata": {},
   "outputs": [],
   "source": [
    "V2Ravi=pd.read_csv('/home/ravi/raviProject/DATA/Annotate/LabelV2/sampled_V2_10K_yPred_RoBERTa_Sampled1500WithoutYpred_RaviLabel.csv')"
   ]
  },
  {
   "cell_type": "code",
   "execution_count": 53,
   "id": "b4c8c5a0",
   "metadata": {},
   "outputs": [
    {
     "data": {
      "text/html": [
       "<div>\n",
       "<style scoped>\n",
       "    .dataframe tbody tr th:only-of-type {\n",
       "        vertical-align: middle;\n",
       "    }\n",
       "\n",
       "    .dataframe tbody tr th {\n",
       "        vertical-align: top;\n",
       "    }\n",
       "\n",
       "    .dataframe thead th {\n",
       "        text-align: right;\n",
       "    }\n",
       "</style>\n",
       "<table border=\"1\" class=\"dataframe\">\n",
       "  <thead>\n",
       "    <tr style=\"text-align: right;\">\n",
       "      <th></th>\n",
       "      <th>Unnamed: 0</th>\n",
       "      <th>msgDate</th>\n",
       "      <th>msg</th>\n",
       "      <th>replyDate</th>\n",
       "      <th>text</th>\n",
       "      <th>telegramChannel</th>\n",
       "      <th>Rlabel</th>\n",
       "    </tr>\n",
       "  </thead>\n",
       "  <tbody>\n",
       "    <tr>\n",
       "      <th>0</th>\n",
       "      <td>0</td>\n",
       "      <td>1649122203</td>\n",
       "      <td>​ Obama's White House Now At The Center Of The...</td>\n",
       "      <td>1649122460</td>\n",
       "      <td>Dirty dogs</td>\n",
       "      <td>TrumpSupportersChannel.json</td>\n",
       "      <td>1.0</td>\n",
       "    </tr>\n",
       "    <tr>\n",
       "      <th>1</th>\n",
       "      <td>1</td>\n",
       "      <td>1650201789</td>\n",
       "      <td>President Trump embraces a 100 year old WWII V...</td>\n",
       "      <td>1650213734</td>\n",
       "      <td>Beautiful heart 💞</td>\n",
       "      <td>TrumpSupportersChannel.json</td>\n",
       "      <td>1.0</td>\n",
       "    </tr>\n",
       "    <tr>\n",
       "      <th>2</th>\n",
       "      <td>2</td>\n",
       "      <td>1662489071</td>\n",
       "      <td>Unearthed Clip Completely Exposes Top January ...</td>\n",
       "      <td>1662505438</td>\n",
       "      <td>I was talking with you about crypto and for so...</td>\n",
       "      <td>TheTrumpRepublicans.json</td>\n",
       "      <td>1.0</td>\n",
       "    </tr>\n",
       "    <tr>\n",
       "      <th>3</th>\n",
       "      <td>3</td>\n",
       "      <td>1656271817</td>\n",
       "      <td>This is spot on.\\n\\n @TrumpChannel</td>\n",
       "      <td>1656441649</td>\n",
       "      <td>Hooray - one good minded citizen!!! God bless ...</td>\n",
       "      <td>TrumpSupportersChannel.json</td>\n",
       "      <td>1.0</td>\n",
       "    </tr>\n",
       "    <tr>\n",
       "      <th>4</th>\n",
       "      <td>4</td>\n",
       "      <td>1635459366</td>\n",
       "      <td>NaN</td>\n",
       "      <td>1635459451</td>\n",
       "      <td>Good one 😆</td>\n",
       "      <td>PatriotStreetfighter.json</td>\n",
       "      <td>1.0</td>\n",
       "    </tr>\n",
       "  </tbody>\n",
       "</table>\n",
       "</div>"
      ],
      "text/plain": [
       "   Unnamed: 0     msgDate                                                msg  \\\n",
       "0           0  1649122203  ​ Obama's White House Now At The Center Of The...   \n",
       "1           1  1650201789  President Trump embraces a 100 year old WWII V...   \n",
       "2           2  1662489071  Unearthed Clip Completely Exposes Top January ...   \n",
       "3           3  1656271817                 This is spot on.\\n\\n @TrumpChannel   \n",
       "4           4  1635459366                                                NaN   \n",
       "\n",
       "    replyDate                                               text  \\\n",
       "0  1649122460                                         Dirty dogs   \n",
       "1  1650213734                                  Beautiful heart 💞   \n",
       "2  1662505438  I was talking with you about crypto and for so...   \n",
       "3  1656441649  Hooray - one good minded citizen!!! God bless ...   \n",
       "4  1635459451                                         Good one 😆   \n",
       "\n",
       "               telegramChannel  Rlabel  \n",
       "0  TrumpSupportersChannel.json     1.0  \n",
       "1  TrumpSupportersChannel.json     1.0  \n",
       "2     TheTrumpRepublicans.json     1.0  \n",
       "3  TrumpSupportersChannel.json     1.0  \n",
       "4    PatriotStreetfighter.json     1.0  "
      ]
     },
     "execution_count": 53,
     "metadata": {},
     "output_type": "execute_result"
    }
   ],
   "source": [
    "V2Ravi.head()"
   ]
  },
  {
   "cell_type": "code",
   "execution_count": 74,
   "id": "1cbf7fda",
   "metadata": {},
   "outputs": [],
   "source": [
    "V2Labels=V2GPT.copy()\n",
    "V2Labels['RLabel']=V2Ravi['Rlabel']\n",
    "V2Labels = V2Labels.dropna(subset=['RLabel'], axis=0)\n",
    "V2Labels['RLabel']=V2Labels['RLabel'].astype('int64')"
   ]
  },
  {
   "cell_type": "code",
   "execution_count": 75,
   "id": "f013c492",
   "metadata": {},
   "outputs": [
    {
     "data": {
      "text/plain": [
       "1    1185\n",
       "2     152\n",
       "3     120\n",
       "Name: RLabel, dtype: int64"
      ]
     },
     "execution_count": 75,
     "metadata": {},
     "output_type": "execute_result"
    }
   ],
   "source": [
    "V2Labels['RLabel'].value_counts()"
   ]
  },
  {
   "cell_type": "code",
   "execution_count": 79,
   "id": "12b8e7f9",
   "metadata": {},
   "outputs": [
    {
     "data": {
      "text/plain": [
       "3    500\n",
       "2    495\n",
       "1    462\n",
       "Name: y_pred, dtype: int64"
      ]
     },
     "execution_count": 79,
     "metadata": {},
     "output_type": "execute_result"
    }
   ],
   "source": [
    "V2Labels['y_pred'].value_counts()"
   ]
  },
  {
   "cell_type": "code",
   "execution_count": null,
   "id": "db4c09af",
   "metadata": {},
   "outputs": [],
   "source": []
  },
  {
   "cell_type": "markdown",
   "id": "3d3256a5",
   "metadata": {},
   "source": [
    "## score"
   ]
  },
  {
   "cell_type": "code",
   "execution_count": 54,
   "id": "627f2a99",
   "metadata": {},
   "outputs": [],
   "source": [
    "from sklearn.metrics import cohen_kappa_score\n",
    "from sklearn.metrics import classification_report, f1_score, accuracy_score\n"
   ]
  },
  {
   "cell_type": "code",
   "execution_count": 18,
   "id": "b844cfca",
   "metadata": {},
   "outputs": [
    {
     "ename": "NameError",
     "evalue": "name 'V2Labels' is not defined",
     "output_type": "error",
     "traceback": [
      "\u001b[0;31m---------------------------------------------------------------------------\u001b[0m",
      "\u001b[0;31mNameError\u001b[0m                                 Traceback (most recent call last)",
      "Input \u001b[0;32mIn [18]\u001b[0m, in \u001b[0;36m<cell line: 2>\u001b[0;34m()\u001b[0m\n\u001b[1;32m      1\u001b[0m \u001b[38;5;66;03m# Sample 100 rows per class\u001b[39;00m\n\u001b[0;32m----> 2\u001b[0m sampled_df \u001b[38;5;241m=\u001b[39m \u001b[43mV2Labels\u001b[49m\u001b[38;5;241m.\u001b[39mgroupby(\u001b[38;5;124m'\u001b[39m\u001b[38;5;124mRLabel\u001b[39m\u001b[38;5;124m'\u001b[39m)\u001b[38;5;241m.\u001b[39mapply(\u001b[38;5;28;01mlambda\u001b[39;00m x: x\u001b[38;5;241m.\u001b[39msample(n\u001b[38;5;241m=\u001b[39m\u001b[38;5;241m100\u001b[39m, random_state\u001b[38;5;241m=\u001b[39m\u001b[38;5;241m42\u001b[39m))\u001b[38;5;241m.\u001b[39mreset_index(drop\u001b[38;5;241m=\u001b[39m\u001b[38;5;28;01mTrue\u001b[39;00m)\n\u001b[1;32m      3\u001b[0m \u001b[38;5;66;03m# Save remaining rows to another DataFrame\u001b[39;00m\n\u001b[1;32m      4\u001b[0m remaining_df \u001b[38;5;241m=\u001b[39m V2Labels[\u001b[38;5;241m~\u001b[39mV2Labels\u001b[38;5;241m.\u001b[39mindex\u001b[38;5;241m.\u001b[39misin(sampled_df\u001b[38;5;241m.\u001b[39mindex)]\n",
      "\u001b[0;31mNameError\u001b[0m: name 'V2Labels' is not defined"
     ]
    }
   ],
   "source": [
    "# Sample 100 rows per class\n",
    "sampled_df = V2Labels.groupby('RLabel').apply(lambda x: x.sample(n=100, random_state=42)).reset_index(drop=True)\n",
    "# Save remaining rows to another DataFrame\n",
    "remaining_df = V2Labels[~V2Labels.index.isin(sampled_df.index)]"
   ]
  },
  {
   "cell_type": "code",
   "execution_count": 95,
   "id": "4aac5559",
   "metadata": {},
   "outputs": [
    {
     "data": {
      "text/plain": [
       "(300, 1174)"
      ]
     },
     "execution_count": 95,
     "metadata": {},
     "output_type": "execute_result"
    }
   ],
   "source": [
    "len(sampled_df), len(remaining_df)"
   ]
  },
  {
   "cell_type": "code",
   "execution_count": 97,
   "id": "63793990",
   "metadata": {},
   "outputs": [
    {
     "data": {
      "text/plain": [
       "1    906\n",
       "2    149\n",
       "3    119\n",
       "Name: RLabel, dtype: int64"
      ]
     },
     "execution_count": 97,
     "metadata": {},
     "output_type": "execute_result"
    }
   ],
   "source": [
    "remaining_df['RLabel'].value_counts()"
   ]
  },
  {
   "cell_type": "code",
   "execution_count": 40,
   "id": "d2e129ef",
   "metadata": {},
   "outputs": [],
   "source": [
    "sampled_df=pd.read_json('/home/ravi/raviProject/DATA/Annotate/LabelV2/V2_Labeled_300_sampled.json', orient='records')"
   ]
  },
  {
   "cell_type": "code",
   "execution_count": 42,
   "id": "d3af2c5c",
   "metadata": {},
   "outputs": [
    {
     "data": {
      "text/html": [
       "<div>\n",
       "<style scoped>\n",
       "    .dataframe tbody tr th:only-of-type {\n",
       "        vertical-align: middle;\n",
       "    }\n",
       "\n",
       "    .dataframe tbody tr th {\n",
       "        vertical-align: top;\n",
       "    }\n",
       "\n",
       "    .dataframe thead th {\n",
       "        text-align: right;\n",
       "    }\n",
       "</style>\n",
       "<table border=\"1\" class=\"dataframe\">\n",
       "  <thead>\n",
       "    <tr style=\"text-align: right;\">\n",
       "      <th></th>\n",
       "      <th>msgDate</th>\n",
       "      <th>msg</th>\n",
       "      <th>replyDate</th>\n",
       "      <th>text</th>\n",
       "      <th>telegramChannel</th>\n",
       "      <th>y_pred</th>\n",
       "      <th>RLabel</th>\n",
       "    </tr>\n",
       "  </thead>\n",
       "  <tbody>\n",
       "    <tr>\n",
       "      <th>0</th>\n",
       "      <td>1622155600</td>\n",
       "      <td>This man needs serious help.\\n</td>\n",
       "      <td>1622168885</td>\n",
       "      <td>Whatta LOSER</td>\n",
       "      <td>AnalyzingAmerica.json</td>\n",
       "      <td>1</td>\n",
       "      <td>1</td>\n",
       "    </tr>\n",
       "  </tbody>\n",
       "</table>\n",
       "</div>"
      ],
      "text/plain": [
       "      msgDate                              msg   replyDate          text  \\\n",
       "0  1622155600  This man needs serious help.\\n   1622168885  Whatta LOSER   \n",
       "\n",
       "         telegramChannel  y_pred  RLabel  \n",
       "0  AnalyzingAmerica.json       1       1  "
      ]
     },
     "execution_count": 42,
     "metadata": {},
     "output_type": "execute_result"
    }
   ],
   "source": [
    "sampled_df.head(1)"
   ]
  },
  {
   "cell_type": "code",
   "execution_count": 43,
   "id": "23accea3",
   "metadata": {},
   "outputs": [],
   "source": [
    "kappa = cohen_kappa_score(sampled_df['RLabel'], sampled_df['y_pred'])"
   ]
  },
  {
   "cell_type": "code",
   "execution_count": 44,
   "id": "e4a696ab",
   "metadata": {},
   "outputs": [
    {
     "data": {
      "text/plain": [
       "0.645"
      ]
     },
     "execution_count": 44,
     "metadata": {},
     "output_type": "execute_result"
    }
   ],
   "source": [
    "kappa"
   ]
  },
  {
   "cell_type": "code",
   "execution_count": 45,
   "id": "0256f5f0",
   "metadata": {},
   "outputs": [],
   "source": [
    "weighted_f1 = f1_score(sampled_df['RLabel'], sampled_df['y_pred'], average='weighted')"
   ]
  },
  {
   "cell_type": "code",
   "execution_count": 46,
   "id": "924e8525",
   "metadata": {},
   "outputs": [
    {
     "data": {
      "text/plain": [
       "0.7406976107811848"
      ]
     },
     "execution_count": 46,
     "metadata": {},
     "output_type": "execute_result"
    }
   ],
   "source": [
    "weighted_f1"
   ]
  },
  {
   "cell_type": "code",
   "execution_count": 56,
   "id": "c9ff6868",
   "metadata": {},
   "outputs": [],
   "source": [
    "acc = accuracy_score(sampled_df['RLabel'], sampled_df['y_pred'])"
   ]
  },
  {
   "cell_type": "code",
   "execution_count": 57,
   "id": "8429ca36",
   "metadata": {},
   "outputs": [
    {
     "data": {
      "text/plain": [
       "0.7633333333333333"
      ]
     },
     "execution_count": 57,
     "metadata": {},
     "output_type": "execute_result"
    }
   ],
   "source": [
    "acc"
   ]
  },
  {
   "cell_type": "code",
   "execution_count": 51,
   "id": "ec78116d",
   "metadata": {},
   "outputs": [],
   "source": [
    "# Generate classification report\n",
    "class_report = classification_report(sampled_df['RLabel'], sampled_df['y_pred'])"
   ]
  },
  {
   "cell_type": "code",
   "execution_count": 53,
   "id": "c6e976a7",
   "metadata": {},
   "outputs": [
    {
     "name": "stdout",
     "output_type": "stream",
     "text": [
      "Classification Report:\n",
      "               precision    recall  f1-score   support\n",
      "\n",
      "           1       0.93      0.42      0.58       100\n",
      "           2       0.72      0.99      0.84       100\n",
      "           3       0.75      0.88      0.81       100\n",
      "\n",
      "    accuracy                           0.76       300\n",
      "   macro avg       0.80      0.76      0.74       300\n",
      "weighted avg       0.80      0.76      0.74       300\n",
      "\n"
     ]
    }
   ],
   "source": [
    "print(\"Classification Report:\\n\", class_report)"
   ]
  },
  {
   "cell_type": "code",
   "execution_count": 16,
   "id": "6c5bf903",
   "metadata": {},
   "outputs": [],
   "source": [
    "from sklearn.metrics import confusion_matrix\n",
    "import matplotlib.pyplot as plt\n",
    "import seaborn as sns"
   ]
  },
  {
   "cell_type": "code",
   "execution_count": 94,
   "id": "4c30c245",
   "metadata": {},
   "outputs": [
    {
     "data": {
      "image/png": "[encoded data removed]",
      "text/plain": [
       "<Figure size 576x432 with 1 Axes>"
      ]
     },
     "metadata": {
      "needs_background": "light"
     },
     "output_type": "display_data"
    }
   ],
   "source": [
    "conf_matrix=confusion_matrix(sampled_df['RLabel'], sampled_df['y_pred'])\n",
    "# Plot the confusion matrix as a heatmap\n",
    "plt.figure(figsize=(8, 6))\n",
    "sns.heatmap(conf_matrix, annot=True, fmt='d', cmap='Blues', cbar=False)\n",
    "plt.title('Confusion Matrix')\n",
    "plt.xlabel('Predicted Labels')\n",
    "plt.ylabel('True Labels')\n",
    "\n",
    "# Set the tick labels to match your class labels (1, 2, 3)\n",
    "plt.xticks(ticks=[0.5, 1.5, 2.5], labels=[1, 2, 3])\n",
    "plt.yticks(ticks=[0.5, 1.5, 2.5], labels=[1, 2, 3])\n",
    "\n",
    "plt.show()"
   ]
  },
  {
   "cell_type": "code",
   "execution_count": 96,
   "id": "a41da400",
   "metadata": {},
   "outputs": [],
   "source": [
    "sampled_df.to_json('/home/ravi/raviProject/DATA/Annotate/LabelV2/V2_Labeled_300_sampled.json', orient='records')\n",
    "remaining_df.to_json('/home/ravi/raviProject/DATA/Annotate/LabelV2/V2_Labeled_1174_remaining.json', orient='records')"
   ]
  },
  {
   "cell_type": "markdown",
   "id": "c142c27c",
   "metadata": {},
   "source": [
    "# MERGE with previous labeled set"
   ]
  },
  {
   "cell_type": "code",
   "execution_count": 3,
   "id": "21758b6a",
   "metadata": {},
   "outputs": [],
   "source": [
    "v1df=pd.read_json('/home/ravi/raviProject/DATA/Annotate/LabelV1/V1_Labeled_300_sampled.json', orient='records')"
   ]
  },
  {
   "cell_type": "code",
   "execution_count": 4,
   "id": "16e23792",
   "metadata": {},
   "outputs": [],
   "source": [
    "# Replace values in column 'FinalLabel'\n",
    "replacement_dict = {0 : 1, 1 : 2, 2 : 3}\n",
    "v1df['FinalLabel'] = v1df['FinalLabel'].replace(replacement_dict)"
   ]
  },
  {
   "cell_type": "code",
   "execution_count": 5,
   "id": "d2d59df4",
   "metadata": {},
   "outputs": [
    {
     "data": {
      "text/plain": [
       "1    100\n",
       "2    100\n",
       "3    100\n",
       "Name: FinalLabel, dtype: int64"
      ]
     },
     "execution_count": 5,
     "metadata": {},
     "output_type": "execute_result"
    }
   ],
   "source": [
    "v1df['FinalLabel'].value_counts()"
   ]
  },
  {
   "cell_type": "code",
   "execution_count": 6,
   "id": "8d4b37aa",
   "metadata": {},
   "outputs": [
    {
     "data": {
      "text/html": [
       "<div>\n",
       "<style scoped>\n",
       "    .dataframe tbody tr th:only-of-type {\n",
       "        vertical-align: middle;\n",
       "    }\n",
       "\n",
       "    .dataframe tbody tr th {\n",
       "        vertical-align: top;\n",
       "    }\n",
       "\n",
       "    .dataframe thead th {\n",
       "        text-align: right;\n",
       "    }\n",
       "</style>\n",
       "<table border=\"1\" class=\"dataframe\">\n",
       "  <thead>\n",
       "    <tr style=\"text-align: right;\">\n",
       "      <th></th>\n",
       "      <th>Unnamed: 0</th>\n",
       "      <th>id</th>\n",
       "      <th>text</th>\n",
       "      <th>msg</th>\n",
       "      <th>msgDate</th>\n",
       "      <th>replyDate</th>\n",
       "      <th>comparison_MJ</th>\n",
       "      <th>telegramChannel</th>\n",
       "      <th>LabelName</th>\n",
       "      <th>LabelM</th>\n",
       "      <th>LabelR</th>\n",
       "      <th>Agree?</th>\n",
       "      <th>FinalLabel</th>\n",
       "    </tr>\n",
       "  </thead>\n",
       "  <tbody>\n",
       "    <tr>\n",
       "      <th>0</th>\n",
       "      <td>436</td>\n",
       "      <td>8632</td>\n",
       "      <td>Sounds like their trying to kill off the other...</td>\n",
       "      <td>This is so wrong.\\n</td>\n",
       "      <td>1641745947</td>\n",
       "      <td>1641755795</td>\n",
       "      <td>True</td>\n",
       "      <td>AnalyzingAmerica.json</td>\n",
       "      <td>['No threat / Ambiguous']</td>\n",
       "      <td>1</td>\n",
       "      <td>1</td>\n",
       "      <td>Equal</td>\n",
       "      <td>1</td>\n",
       "    </tr>\n",
       "  </tbody>\n",
       "</table>\n",
       "</div>"
      ],
      "text/plain": [
       "   Unnamed: 0    id                                               text  \\\n",
       "0         436  8632  Sounds like their trying to kill off the other...   \n",
       "\n",
       "                    msg     msgDate   replyDate comparison_MJ  \\\n",
       "0  This is so wrong.\\n   1641745947  1641755795          True   \n",
       "\n",
       "         telegramChannel                  LabelName  LabelM  LabelR Agree?  \\\n",
       "0  AnalyzingAmerica.json  ['No threat / Ambiguous']       1       1  Equal   \n",
       "\n",
       "   FinalLabel  \n",
       "0           1  "
      ]
     },
     "execution_count": 6,
     "metadata": {},
     "output_type": "execute_result"
    }
   ],
   "source": [
    "v1df.head(1)"
   ]
  },
  {
   "cell_type": "code",
   "execution_count": 7,
   "id": "9efc0b2d",
   "metadata": {},
   "outputs": [],
   "source": [
    "v2df = pd.read_json('/home/ravi/raviProject/DATA/Annotate/LabelV2/V2_Labeled_300_sampled.json', orient='records')\n",
    "v2df['FinalLabel']=v2df['RLabel']"
   ]
  },
  {
   "cell_type": "code",
   "execution_count": 8,
   "id": "300d102c",
   "metadata": {},
   "outputs": [
    {
     "data": {
      "text/plain": [
       "1    100\n",
       "2    100\n",
       "3    100\n",
       "Name: FinalLabel, dtype: int64"
      ]
     },
     "execution_count": 8,
     "metadata": {},
     "output_type": "execute_result"
    }
   ],
   "source": [
    "v2df['FinalLabel'].value_counts()"
   ]
  },
  {
   "cell_type": "code",
   "execution_count": 9,
   "id": "f2f6d068",
   "metadata": {},
   "outputs": [
    {
     "data": {
      "text/html": [
       "<div>\n",
       "<style scoped>\n",
       "    .dataframe tbody tr th:only-of-type {\n",
       "        vertical-align: middle;\n",
       "    }\n",
       "\n",
       "    .dataframe tbody tr th {\n",
       "        vertical-align: top;\n",
       "    }\n",
       "\n",
       "    .dataframe thead th {\n",
       "        text-align: right;\n",
       "    }\n",
       "</style>\n",
       "<table border=\"1\" class=\"dataframe\">\n",
       "  <thead>\n",
       "    <tr style=\"text-align: right;\">\n",
       "      <th></th>\n",
       "      <th>msgDate</th>\n",
       "      <th>msg</th>\n",
       "      <th>replyDate</th>\n",
       "      <th>text</th>\n",
       "      <th>telegramChannel</th>\n",
       "      <th>y_pred</th>\n",
       "      <th>RLabel</th>\n",
       "      <th>FinalLabel</th>\n",
       "    </tr>\n",
       "  </thead>\n",
       "  <tbody>\n",
       "    <tr>\n",
       "      <th>0</th>\n",
       "      <td>1622155600</td>\n",
       "      <td>This man needs serious help.\\n</td>\n",
       "      <td>1622168885</td>\n",
       "      <td>Whatta LOSER</td>\n",
       "      <td>AnalyzingAmerica.json</td>\n",
       "      <td>1</td>\n",
       "      <td>1</td>\n",
       "      <td>1</td>\n",
       "    </tr>\n",
       "  </tbody>\n",
       "</table>\n",
       "</div>"
      ],
      "text/plain": [
       "      msgDate                              msg   replyDate          text  \\\n",
       "0  1622155600  This man needs serious help.\\n   1622168885  Whatta LOSER   \n",
       "\n",
       "         telegramChannel  y_pred  RLabel  FinalLabel  \n",
       "0  AnalyzingAmerica.json       1       1           1  "
      ]
     },
     "execution_count": 9,
     "metadata": {},
     "output_type": "execute_result"
    }
   ],
   "source": [
    "v2df.head(1)"
   ]
  },
  {
   "cell_type": "code",
   "execution_count": 10,
   "id": "8a248c23",
   "metadata": {},
   "outputs": [],
   "source": [
    "selected_cols =['msgDate', 'msg', 'replyDate', 'text', 'telegramChannel', 'FinalLabel']\n",
    "merged_df = pd.concat([v1df[selected_cols], v2df[selected_cols]], ignore_index=True)"
   ]
  },
  {
   "cell_type": "code",
   "execution_count": 11,
   "id": "057caa42",
   "metadata": {},
   "outputs": [
    {
     "data": {
      "text/html": [
       "<div>\n",
       "<style scoped>\n",
       "    .dataframe tbody tr th:only-of-type {\n",
       "        vertical-align: middle;\n",
       "    }\n",
       "\n",
       "    .dataframe tbody tr th {\n",
       "        vertical-align: top;\n",
       "    }\n",
       "\n",
       "    .dataframe thead th {\n",
       "        text-align: right;\n",
       "    }\n",
       "</style>\n",
       "<table border=\"1\" class=\"dataframe\">\n",
       "  <thead>\n",
       "    <tr style=\"text-align: right;\">\n",
       "      <th></th>\n",
       "      <th>msgDate</th>\n",
       "      <th>msg</th>\n",
       "      <th>replyDate</th>\n",
       "      <th>text</th>\n",
       "      <th>telegramChannel</th>\n",
       "      <th>FinalLabel</th>\n",
       "    </tr>\n",
       "  </thead>\n",
       "  <tbody>\n",
       "    <tr>\n",
       "      <th>0</th>\n",
       "      <td>1641745947</td>\n",
       "      <td>This is so wrong.\\n</td>\n",
       "      <td>1641755795</td>\n",
       "      <td>Sounds like their trying to kill off the other...</td>\n",
       "      <td>AnalyzingAmerica.json</td>\n",
       "      <td>1</td>\n",
       "    </tr>\n",
       "  </tbody>\n",
       "</table>\n",
       "</div>"
      ],
      "text/plain": [
       "      msgDate                   msg   replyDate  \\\n",
       "0  1641745947  This is so wrong.\\n   1641755795   \n",
       "\n",
       "                                                text        telegramChannel  \\\n",
       "0  Sounds like their trying to kill off the other...  AnalyzingAmerica.json   \n",
       "\n",
       "   FinalLabel  \n",
       "0           1  "
      ]
     },
     "execution_count": 11,
     "metadata": {},
     "output_type": "execute_result"
    }
   ],
   "source": [
    "merged_df.head(1)"
   ]
  },
  {
   "cell_type": "code",
   "execution_count": 12,
   "id": "1b71b124",
   "metadata": {},
   "outputs": [
    {
     "data": {
      "text/plain": [
       "1    200\n",
       "2    200\n",
       "3    200\n",
       "Name: FinalLabel, dtype: int64"
      ]
     },
     "execution_count": 12,
     "metadata": {},
     "output_type": "execute_result"
    }
   ],
   "source": [
    "merged_df['FinalLabel'].value_counts()"
   ]
  },
  {
   "cell_type": "code",
   "execution_count": 13,
   "id": "2d93b364",
   "metadata": {},
   "outputs": [],
   "source": [
    "# Replace values in column 'FinalLabel'\n",
    "replacement_dict = {1 : 0, 2 : 1, 3 : 2}\n",
    "merged_df['FinalLabel'] = merged_df['FinalLabel'].replace(replacement_dict)"
   ]
  },
  {
   "cell_type": "code",
   "execution_count": 15,
   "id": "42903b0a",
   "metadata": {},
   "outputs": [
    {
     "data": {
      "text/plain": [
       "0    200\n",
       "1    200\n",
       "2    200\n",
       "Name: FinalLabel, dtype: int64"
      ]
     },
     "execution_count": 15,
     "metadata": {},
     "output_type": "execute_result"
    }
   ],
   "source": [
    "merged_df['FinalLabel'].value_counts()"
   ]
  },
  {
   "cell_type": "code",
   "execution_count": 14,
   "id": "ae5cea29",
   "metadata": {},
   "outputs": [],
   "source": [
    "merged_df.to_json('/home/ravi/raviProject/DATA/Annotate/iterData/iter2_Labeled_600_sampled.json', orient='records')"
   ]
  },
  {
   "cell_type": "code",
   "execution_count": null,
   "id": "1bd6cf08",
   "metadata": {},
   "outputs": [],
   "source": []
  }
 ],
 "metadata": {
  "kernelspec": {
   "display_name": "base",
   "language": "python",
   "name": "python3"
  },
  "language_info": {
   "codemirror_mode": {
    "name": "ipython",
    "version": 3
   },
   "file_extension": ".py",
   "mimetype": "text/x-python",
   "name": "python",
   "nbconvert_exporter": "python",
   "pygments_lexer": "ipython3",
   "version": "3.10.4"
  }
 },
 "nbformat": 4,
 "nbformat_minor": 5
}
