{
 "cells": [
  {
   "cell_type": "code",
   "execution_count": 1,
   "id": "4b295be7-c667-40bc-8f00-3aba590f0f3c",
   "metadata": {},
   "outputs": [],
   "source": [
    "import pandas as pd\n",
    "import glob\n",
    "import numpy as np\n",
    "import json\n",
    "import math\n",
    "from natsort import natsorted"
   ]
  },
  {
   "cell_type": "code",
   "execution_count": 2,
   "id": "e877d204-43e5-4d28-b25e-d3bc409f4c7f",
   "metadata": {},
   "outputs": [],
   "source": [
    "data = pd.read_json(\"/home/ravi/raviProject/DATA/Annotate/remaining_V5.json\", orient='records')"
   ]
  },
  {
   "cell_type": "code",
   "execution_count": 3,
   "id": "acbc1ad5",
   "metadata": {},
   "outputs": [
    {
     "data": {
      "text/plain": [
       "(2251110, 5)"
      ]
     },
     "execution_count": 3,
     "metadata": {},
     "output_type": "execute_result"
    }
   ],
   "source": [
    "data.shape"
   ]
  },
  {
   "cell_type": "code",
   "execution_count": 5,
   "id": "84b0cd44",
   "metadata": {},
   "outputs": [
    {
     "data": {
      "text/html": [
       "<div>\n",
       "<style scoped>\n",
       "    .dataframe tbody tr th:only-of-type {\n",
       "        vertical-align: middle;\n",
       "    }\n",
       "\n",
       "    .dataframe tbody tr th {\n",
       "        vertical-align: top;\n",
       "    }\n",
       "\n",
       "    .dataframe thead th {\n",
       "        text-align: right;\n",
       "    }\n",
       "</style>\n",
       "<table border=\"1\" class=\"dataframe\">\n",
       "  <thead>\n",
       "    <tr style=\"text-align: right;\">\n",
       "      <th></th>\n",
       "      <th>msgDate</th>\n",
       "      <th>msg</th>\n",
       "      <th>replyDate</th>\n",
       "      <th>reply</th>\n",
       "      <th>telegramChannel</th>\n",
       "    </tr>\n",
       "  </thead>\n",
       "  <tbody>\n",
       "    <tr>\n",
       "      <th>0</th>\n",
       "      <td>1625601315</td>\n",
       "      <td>Jen Psaki Warns Americans: ‘We Will Be Going D...</td>\n",
       "      <td>1625604365</td>\n",
       "      <td>FK off commie</td>\n",
       "      <td>TheTrumpRepublicans.json</td>\n",
       "    </tr>\n",
       "    <tr>\n",
       "      <th>1</th>\n",
       "      <td>1677992459</td>\n",
       "      <td>Because being mayor wasn't.</td>\n",
       "      <td>1677995455</td>\n",
       "      <td>Good server at a homeless shelter</td>\n",
       "      <td>ResisttheMainstream.json</td>\n",
       "    </tr>\n",
       "    <tr>\n",
       "      <th>2</th>\n",
       "      <td>1681423089</td>\n",
       "      <td>Going live now with  @catturd2  tune in and ch...</td>\n",
       "      <td>1681485068</td>\n",
       "      <td>good day to all.</td>\n",
       "      <td>DonaldTrumpJr.json</td>\n",
       "    </tr>\n",
       "    <tr>\n",
       "      <th>3</th>\n",
       "      <td>1702760024</td>\n",
       "      <td>S a d l y   T r u m p   i s   e i t h e r   u ...</td>\n",
       "      <td>1702773525</td>\n",
       "      <td>Sorry buddy, but religious \"fanatics\" of ANY r...</td>\n",
       "      <td>ThePatriotVoice.json</td>\n",
       "    </tr>\n",
       "    <tr>\n",
       "      <th>4</th>\n",
       "      <td>1641020167</td>\n",
       "      <td>I   l i k e   c o f f e e   i n   c o n c e p t</td>\n",
       "      <td>1641020222</td>\n",
       "      <td>kek</td>\n",
       "      <td>LacansWhreHouse.json</td>\n",
       "    </tr>\n",
       "  </tbody>\n",
       "</table>\n",
       "</div>"
      ],
      "text/plain": [
       "      msgDate                                                msg   replyDate  \\\n",
       "0  1625601315  Jen Psaki Warns Americans: ‘We Will Be Going D...  1625604365   \n",
       "1  1677992459                        Because being mayor wasn't.  1677995455   \n",
       "2  1681423089  Going live now with  @catturd2  tune in and ch...  1681485068   \n",
       "3  1702760024  S a d l y   T r u m p   i s   e i t h e r   u ...  1702773525   \n",
       "4  1641020167    I   l i k e   c o f f e e   i n   c o n c e p t  1641020222   \n",
       "\n",
       "                                               reply           telegramChannel  \n",
       "0                                      FK off commie  TheTrumpRepublicans.json  \n",
       "1                  Good server at a homeless shelter  ResisttheMainstream.json  \n",
       "2                                   good day to all.        DonaldTrumpJr.json  \n",
       "3  Sorry buddy, but religious \"fanatics\" of ANY r...      ThePatriotVoice.json  \n",
       "4                                                kek      LacansWhreHouse.json  "
      ]
     },
     "execution_count": 5,
     "metadata": {},
     "output_type": "execute_result"
    }
   ],
   "source": [
    "data.head(5)"
   ]
  },
  {
   "cell_type": "code",
   "execution_count": 6,
   "id": "5e20590b",
   "metadata": {},
   "outputs": [],
   "source": [
    "df = data.copy()"
   ]
  },
  {
   "cell_type": "code",
   "execution_count": 7,
   "id": "17221fbf",
   "metadata": {},
   "outputs": [],
   "source": [
    "# Assuming df is your DataFrame\n",
    "shuffled_df = df.sample(frac=1, random_state=42)  # Shuffle the DataFrame\n",
    "\n",
    "# Sample a fraction of the DataFrame\n",
    "sampled_df = shuffled_df.sample(n=100000, replace=False, random_state=42)"
   ]
  },
  {
   "cell_type": "code",
   "execution_count": 8,
   "id": "167ce426",
   "metadata": {},
   "outputs": [
    {
     "data": {
      "text/plain": [
       "(100000, 5)"
      ]
     },
     "execution_count": 8,
     "metadata": {},
     "output_type": "execute_result"
    }
   ],
   "source": [
    "sampled_df.shape"
   ]
  },
  {
   "cell_type": "code",
   "execution_count": 9,
   "id": "72cb2bc3",
   "metadata": {},
   "outputs": [
    {
     "data": {
      "text/html": [
       "<div>\n",
       "<style scoped>\n",
       "    .dataframe tbody tr th:only-of-type {\n",
       "        vertical-align: middle;\n",
       "    }\n",
       "\n",
       "    .dataframe tbody tr th {\n",
       "        vertical-align: top;\n",
       "    }\n",
       "\n",
       "    .dataframe thead th {\n",
       "        text-align: right;\n",
       "    }\n",
       "</style>\n",
       "<table border=\"1\" class=\"dataframe\">\n",
       "  <thead>\n",
       "    <tr style=\"text-align: right;\">\n",
       "      <th></th>\n",
       "      <th>msgDate</th>\n",
       "      <th>msg</th>\n",
       "      <th>replyDate</th>\n",
       "      <th>reply</th>\n",
       "      <th>telegramChannel</th>\n",
       "    </tr>\n",
       "  </thead>\n",
       "  <tbody>\n",
       "    <tr>\n",
       "      <th>616027</th>\n",
       "      <td>1677869084</td>\n",
       "      <td></td>\n",
       "      <td>1677869167</td>\n",
       "      <td>But CIVIL WAR will happen 1st</td>\n",
       "      <td>ResisttheMainstream.json</td>\n",
       "    </tr>\n",
       "    <tr>\n",
       "      <th>1410665</th>\n",
       "      <td>1652417709</td>\n",
       "      <td>​ With Baby Formula Shortage, Pete Buttigieg F...</td>\n",
       "      <td>1652904626</td>\n",
       "      <td>His kids are at least a yr old now.</td>\n",
       "      <td>TrumpSupportersChannel.json</td>\n",
       "    </tr>\n",
       "    <tr>\n",
       "      <th>828345</th>\n",
       "      <td>1680718485</td>\n",
       "      <td>You don’t have to choose between what you buy ...</td>\n",
       "      <td>1680720428</td>\n",
       "      <td>Good post</td>\n",
       "      <td>DonaldTrumpJr.json</td>\n",
       "    </tr>\n",
       "    <tr>\n",
       "      <th>1303664</th>\n",
       "      <td>1658959141</td>\n",
       "      <td>I s   i t   j u s t   m e ,   o r   d o e s   ...</td>\n",
       "      <td>1658959618</td>\n",
       "      <td>🤣</td>\n",
       "      <td>ThePatriotVoice.json</td>\n",
       "    </tr>\n",
       "    <tr>\n",
       "      <th>797643</th>\n",
       "      <td>1694116233</td>\n",
       "      <td>Greg Gutfeld Predicts Ex-Dem Tulsi Gabbard Wil...</td>\n",
       "      <td>1694179761</td>\n",
       "      <td>No no no</td>\n",
       "      <td>TheTrumpRepublicans.json</td>\n",
       "    </tr>\n",
       "  </tbody>\n",
       "</table>\n",
       "</div>"
      ],
      "text/plain": [
       "            msgDate                                                msg  \\\n",
       "616027   1677869084                                                      \n",
       "1410665  1652417709  ​ With Baby Formula Shortage, Pete Buttigieg F...   \n",
       "828345   1680718485  You don’t have to choose between what you buy ...   \n",
       "1303664  1658959141  I s   i t   j u s t   m e ,   o r   d o e s   ...   \n",
       "797643   1694116233  Greg Gutfeld Predicts Ex-Dem Tulsi Gabbard Wil...   \n",
       "\n",
       "          replyDate                                reply  \\\n",
       "616027   1677869167        But CIVIL WAR will happen 1st   \n",
       "1410665  1652904626  His kids are at least a yr old now.   \n",
       "828345   1680720428                            Good post   \n",
       "1303664  1658959618                                    🤣   \n",
       "797643   1694179761                             No no no   \n",
       "\n",
       "                     telegramChannel  \n",
       "616027      ResisttheMainstream.json  \n",
       "1410665  TrumpSupportersChannel.json  \n",
       "828345            DonaldTrumpJr.json  \n",
       "1303664         ThePatriotVoice.json  \n",
       "797643      TheTrumpRepublicans.json  "
      ]
     },
     "execution_count": 9,
     "metadata": {},
     "output_type": "execute_result"
    }
   ],
   "source": [
    "sampled_df.head(5)"
   ]
  },
  {
   "cell_type": "code",
   "execution_count": 10,
   "id": "25d9ffe9-b72c-4883-8188-0dd7a938ef74",
   "metadata": {},
   "outputs": [],
   "source": [
    "sampled_df.to_json('/home/ravi/raviProject/DATA/Annotate/sampled_V6_100K.json', orient='records')"
   ]
  },
  {
   "cell_type": "code",
   "execution_count": 11,
   "id": "7c9abc8b",
   "metadata": {},
   "outputs": [],
   "source": [
    "# sampled_df=pd.read_json('/home/ravi/raviProject/DATA/Annotate/sampled_V1.json', orient='records')\n",
    "# # Save DataFrame as JSONL (JSON Lines)\n",
    "# with open('/home/ravi/raviProject/DATA/Annotate/sampled_V1.jsonl', 'w') as f:\n",
    "#     sampled_df.to_json(f, orient='records', lines=True)"
   ]
  },
  {
   "cell_type": "code",
   "execution_count": 12,
   "id": "074700db",
   "metadata": {},
   "outputs": [],
   "source": [
    "remaining_df = shuffled_df.drop(sampled_df.index)"
   ]
  },
  {
   "cell_type": "code",
   "execution_count": 13,
   "id": "092d9595",
   "metadata": {},
   "outputs": [
    {
     "data": {
      "text/plain": [
       "(2151110, 5)"
      ]
     },
     "execution_count": 13,
     "metadata": {},
     "output_type": "execute_result"
    }
   ],
   "source": [
    "remaining_df.shape"
   ]
  },
  {
   "cell_type": "code",
   "execution_count": 14,
   "id": "08a118db",
   "metadata": {},
   "outputs": [],
   "source": [
    "remaining_df.to_json('/home/ravi/raviProject/DATA/Annotate/remaining_V6.json', orient='records')"
   ]
  },
  {
   "cell_type": "code",
   "execution_count": 15,
   "id": "a82917f7",
   "metadata": {},
   "outputs": [
    {
     "data": {
      "text/html": [
       "<div>\n",
       "<style scoped>\n",
       "    .dataframe tbody tr th:only-of-type {\n",
       "        vertical-align: middle;\n",
       "    }\n",
       "\n",
       "    .dataframe tbody tr th {\n",
       "        vertical-align: top;\n",
       "    }\n",
       "\n",
       "    .dataframe thead th {\n",
       "        text-align: right;\n",
       "    }\n",
       "</style>\n",
       "<table border=\"1\" class=\"dataframe\">\n",
       "  <thead>\n",
       "    <tr style=\"text-align: right;\">\n",
       "      <th></th>\n",
       "      <th>msgDate</th>\n",
       "      <th>msg</th>\n",
       "      <th>replyDate</th>\n",
       "      <th>reply</th>\n",
       "      <th>telegramChannel</th>\n",
       "    </tr>\n",
       "  </thead>\n",
       "  <tbody>\n",
       "    <tr>\n",
       "      <th>2144695</th>\n",
       "      <td>1621531185</td>\n",
       "      <td>Coming to your city!! Pay attention. \\n</td>\n",
       "      <td>1621532425</td>\n",
       "      <td>We Trump back right now</td>\n",
       "      <td>AnalyzingAmerica.json</td>\n",
       "    </tr>\n",
       "    <tr>\n",
       "      <th>664545</th>\n",
       "      <td>1666120220</td>\n",
       "      <td></td>\n",
       "      <td>1666121082</td>\n",
       "      <td>cool 😀</td>\n",
       "      <td>DonaldTrumpJr.json</td>\n",
       "    </tr>\n",
       "    <tr>\n",
       "      <th>494190</th>\n",
       "      <td>1685195242</td>\n",
       "      <td>Major US Retailers Warn the Shoplifting Epidem...</td>\n",
       "      <td>1685199145</td>\n",
       "      <td>We in uk are encountering shoplifting on a gro...</td>\n",
       "      <td>TheTrumpRepublicans.json</td>\n",
       "    </tr>\n",
       "    <tr>\n",
       "      <th>2001645</th>\n",
       "      <td>1620231265</td>\n",
       "      <td>#AlexJonesShow  LIVE: UN Announces Criminal Pl...</td>\n",
       "      <td>1620232443</td>\n",
       "      <td>Whoever talks about Covid-19 as a deadly disea...</td>\n",
       "      <td>InfoWars.json</td>\n",
       "    </tr>\n",
       "    <tr>\n",
       "      <th>69970</th>\n",
       "      <td>1650756035</td>\n",
       "      <td>W o u l d   y o u ?</td>\n",
       "      <td>1650807458</td>\n",
       "      <td>Hello guys</td>\n",
       "      <td>AnalyzingAmerica.json</td>\n",
       "    </tr>\n",
       "  </tbody>\n",
       "</table>\n",
       "</div>"
      ],
      "text/plain": [
       "            msgDate                                                msg  \\\n",
       "2144695  1621531185           Coming to your city!! Pay attention. \\n    \n",
       "664545   1666120220                                                      \n",
       "494190   1685195242  Major US Retailers Warn the Shoplifting Epidem...   \n",
       "2001645  1620231265  #AlexJonesShow  LIVE: UN Announces Criminal Pl...   \n",
       "69970    1650756035                                W o u l d   y o u ?   \n",
       "\n",
       "          replyDate                                              reply  \\\n",
       "2144695  1621532425                            We Trump back right now   \n",
       "664545   1666121082                                             cool 😀   \n",
       "494190   1685199145  We in uk are encountering shoplifting on a gro...   \n",
       "2001645  1620232443  Whoever talks about Covid-19 as a deadly disea...   \n",
       "69970    1650807458                                         Hello guys   \n",
       "\n",
       "                  telegramChannel  \n",
       "2144695     AnalyzingAmerica.json  \n",
       "664545         DonaldTrumpJr.json  \n",
       "494190   TheTrumpRepublicans.json  \n",
       "2001645             InfoWars.json  \n",
       "69970       AnalyzingAmerica.json  "
      ]
     },
     "execution_count": 15,
     "metadata": {},
     "output_type": "execute_result"
    }
   ],
   "source": [
    "remaining_df.head(5)"
   ]
  },
  {
   "cell_type": "markdown",
   "id": "555739eb",
   "metadata": {},
   "source": [
    "# sample ~100 per class wrt model predictions"
   ]
  },
  {
   "cell_type": "code",
   "execution_count": 22,
   "id": "39229413",
   "metadata": {},
   "outputs": [],
   "source": [
    "df = pd.read_json('/home/ravi/raviProject/DATA/Annotate/sampled_V4_10K_yPred_RoBERTa.json', orient='records')"
   ]
  },
  {
   "cell_type": "code",
   "execution_count": 23,
   "id": "b8295750",
   "metadata": {},
   "outputs": [
    {
     "data": {
      "text/plain": [
       "0    9141\n",
       "2     447\n",
       "1     412\n",
       "Name: y_pred, dtype: int64"
      ]
     },
     "execution_count": 23,
     "metadata": {},
     "output_type": "execute_result"
    }
   ],
   "source": [
    "df['y_pred'].value_counts()"
   ]
  },
  {
   "cell_type": "code",
   "execution_count": 24,
   "id": "65db281a",
   "metadata": {},
   "outputs": [
    {
     "data": {
      "text/html": [
       "<div>\n",
       "<style scoped>\n",
       "    .dataframe tbody tr th:only-of-type {\n",
       "        vertical-align: middle;\n",
       "    }\n",
       "\n",
       "    .dataframe tbody tr th {\n",
       "        vertical-align: top;\n",
       "    }\n",
       "\n",
       "    .dataframe thead th {\n",
       "        text-align: right;\n",
       "    }\n",
       "</style>\n",
       "<table border=\"1\" class=\"dataframe\">\n",
       "  <thead>\n",
       "    <tr style=\"text-align: right;\">\n",
       "      <th></th>\n",
       "      <th>msgDate</th>\n",
       "      <th>msg</th>\n",
       "      <th>replyDate</th>\n",
       "      <th>text</th>\n",
       "      <th>telegramChannel</th>\n",
       "      <th>y_pred</th>\n",
       "    </tr>\n",
       "  </thead>\n",
       "  <tbody>\n",
       "    <tr>\n",
       "      <th>0</th>\n",
       "      <td>1680358500</td>\n",
       "      <td>Fetterman Does First Post-Depression Interview...</td>\n",
       "      <td>1680359913</td>\n",
       "      <td>He should not be paid for the time he was in t...</td>\n",
       "      <td>TheTrumpRepublicans.json</td>\n",
       "      <td>0</td>\n",
       "    </tr>\n",
       "    <tr>\n",
       "      <th>1</th>\n",
       "      <td>1628525284</td>\n",
       "      <td>Imagine that!\\n</td>\n",
       "      <td>1628723143</td>\n",
       "      <td>I love 💗 you trump you will be come back 😘😘😘😘😘...</td>\n",
       "      <td>AnalyzingAmerica.json</td>\n",
       "      <td>0</td>\n",
       "    </tr>\n",
       "    <tr>\n",
       "      <th>2</th>\n",
       "      <td>1631810764</td>\n",
       "      <td>The Left Discovers It Loves Evictions as Flori...</td>\n",
       "      <td>1632184529</td>\n",
       "      <td>🖕🏽</td>\n",
       "      <td>TheTrumpRepublicans.json</td>\n",
       "      <td>0</td>\n",
       "    </tr>\n",
       "    <tr>\n",
       "      <th>3</th>\n",
       "      <td>1650828645</td>\n",
       "      <td>Clinton stuck her foot in her mouth.\\n</td>\n",
       "      <td>1650828832</td>\n",
       "      <td>Open mouth and insert foot</td>\n",
       "      <td>AnalyzingAmerica.json</td>\n",
       "      <td>0</td>\n",
       "    </tr>\n",
       "    <tr>\n",
       "      <th>4</th>\n",
       "      <td>1679148015</td>\n",
       "      <td>🔴 Resurfaced Clip of Trans HHS Official Circul...</td>\n",
       "      <td>1679323732</td>\n",
       "      <td>This guy is disgusting 🤮</td>\n",
       "      <td>ResisttheMainstream.json</td>\n",
       "      <td>0</td>\n",
       "    </tr>\n",
       "  </tbody>\n",
       "</table>\n",
       "</div>"
      ],
      "text/plain": [
       "      msgDate                                                msg   replyDate  \\\n",
       "0  1680358500  Fetterman Does First Post-Depression Interview...  1680359913   \n",
       "1  1628525284                                   Imagine that!\\n   1628723143   \n",
       "2  1631810764  The Left Discovers It Loves Evictions as Flori...  1632184529   \n",
       "3  1650828645            Clinton stuck her foot in her mouth.\\n   1650828832   \n",
       "4  1679148015  🔴 Resurfaced Clip of Trans HHS Official Circul...  1679323732   \n",
       "\n",
       "                                                text  \\\n",
       "0  He should not be paid for the time he was in t...   \n",
       "1  I love 💗 you trump you will be come back 😘😘😘😘😘...   \n",
       "2                                                 🖕🏽   \n",
       "3                         Open mouth and insert foot   \n",
       "4                           This guy is disgusting 🤮   \n",
       "\n",
       "            telegramChannel  y_pred  \n",
       "0  TheTrumpRepublicans.json       0  \n",
       "1     AnalyzingAmerica.json       0  \n",
       "2  TheTrumpRepublicans.json       0  \n",
       "3     AnalyzingAmerica.json       0  \n",
       "4  ResisttheMainstream.json       0  "
      ]
     },
     "execution_count": 24,
     "metadata": {},
     "output_type": "execute_result"
    }
   ],
   "source": [
    "df.head()"
   ]
  },
  {
   "cell_type": "code",
   "execution_count": 25,
   "id": "ed9b858c",
   "metadata": {},
   "outputs": [],
   "source": [
    "# Sample 100 rows with class 1\n",
    "sample_class_1 = df[df['y_pred'] == 0].sample(n=447, random_state=42)\n",
    "\n",
    "# Sample 200 rows with class 2\n",
    "sample_class_2 = df[df['y_pred'] == 1].sample(n=412, random_state=42)\n",
    "\n",
    "# Sample 400 rows with class 3\n",
    "sample_class_3 = df[df['y_pred'] == 2].sample(n=447, random_state=42)\n",
    "\n",
    "# Concatenate the sampled dataframes\n",
    "sampled_df = pd.concat([sample_class_1, sample_class_2, sample_class_3])\n",
    "\n",
    "# Shuffle the dataframe\n",
    "sampled_df = sampled_df.sample(frac=1, random_state=42)\n",
    "\n",
    "# Drop the sampled rows from the original DataFrame to get the remaining rows\n",
    "remaining_data = df.drop(sampled_df.index)"
   ]
  },
  {
   "cell_type": "code",
   "execution_count": 26,
   "id": "45a7ae55",
   "metadata": {},
   "outputs": [
    {
     "data": {
      "text/html": [
       "<div>\n",
       "<style scoped>\n",
       "    .dataframe tbody tr th:only-of-type {\n",
       "        vertical-align: middle;\n",
       "    }\n",
       "\n",
       "    .dataframe tbody tr th {\n",
       "        vertical-align: top;\n",
       "    }\n",
       "\n",
       "    .dataframe thead th {\n",
       "        text-align: right;\n",
       "    }\n",
       "</style>\n",
       "<table border=\"1\" class=\"dataframe\">\n",
       "  <thead>\n",
       "    <tr style=\"text-align: right;\">\n",
       "      <th></th>\n",
       "      <th>msgDate</th>\n",
       "      <th>msg</th>\n",
       "      <th>replyDate</th>\n",
       "      <th>text</th>\n",
       "      <th>telegramChannel</th>\n",
       "      <th>y_pred</th>\n",
       "    </tr>\n",
       "  </thead>\n",
       "  <tbody>\n",
       "    <tr>\n",
       "      <th>5923</th>\n",
       "      <td>1630019898</td>\n",
       "      <td>She needs to go.\\n</td>\n",
       "      <td>1630021203</td>\n",
       "      <td>She needs to go to Gitmo with Biden!!!!!!!!</td>\n",
       "      <td>AnalyzingAmerica.json</td>\n",
       "      <td>2</td>\n",
       "    </tr>\n",
       "    <tr>\n",
       "      <th>8153</th>\n",
       "      <td>1620397685</td>\n",
       "      <td>What are they trying to hide?!?\\n</td>\n",
       "      <td>1620408162</td>\n",
       "      <td>Dems will only allow this investigation to go ...</td>\n",
       "      <td>AnalyzingAmerica.json</td>\n",
       "      <td>1</td>\n",
       "    </tr>\n",
       "    <tr>\n",
       "      <th>8904</th>\n",
       "      <td>1642862829</td>\n",
       "      <td>“Trump Supporters Swarm Pennsylvania GOP Senat...</td>\n",
       "      <td>1643056103</td>\n",
       "      <td>I’m ready for all the corrupt politicians to g...</td>\n",
       "      <td>TrumpSupportersChannel.json</td>\n",
       "      <td>1</td>\n",
       "    </tr>\n",
       "    <tr>\n",
       "      <th>2540</th>\n",
       "      <td>1630632291</td>\n",
       "      <td>Good riddance!\\n</td>\n",
       "      <td>1630689220</td>\n",
       "      <td>When it’s announced on MSM my husband will tel...</td>\n",
       "      <td>AnalyzingAmerica.json</td>\n",
       "      <td>1</td>\n",
       "    </tr>\n",
       "    <tr>\n",
       "      <th>2910</th>\n",
       "      <td>1620785399</td>\n",
       "      <td></td>\n",
       "      <td>1620785535</td>\n",
       "      <td>I wish we could just totally wipe China off th...</td>\n",
       "      <td>PatriotStreetfighter.json</td>\n",
       "      <td>2</td>\n",
       "    </tr>\n",
       "  </tbody>\n",
       "</table>\n",
       "</div>"
      ],
      "text/plain": [
       "         msgDate                                                msg  \\\n",
       "5923  1630019898                                She needs to go.\\n    \n",
       "8153  1620397685                 What are they trying to hide?!?\\n    \n",
       "8904  1642862829  “Trump Supporters Swarm Pennsylvania GOP Senat...   \n",
       "2540  1630632291                                  Good riddance!\\n    \n",
       "2910  1620785399                                                      \n",
       "\n",
       "       replyDate                                               text  \\\n",
       "5923  1630021203        She needs to go to Gitmo with Biden!!!!!!!!   \n",
       "8153  1620408162  Dems will only allow this investigation to go ...   \n",
       "8904  1643056103  I’m ready for all the corrupt politicians to g...   \n",
       "2540  1630689220  When it’s announced on MSM my husband will tel...   \n",
       "2910  1620785535  I wish we could just totally wipe China off th...   \n",
       "\n",
       "                  telegramChannel  y_pred  \n",
       "5923        AnalyzingAmerica.json       2  \n",
       "8153        AnalyzingAmerica.json       1  \n",
       "8904  TrumpSupportersChannel.json       1  \n",
       "2540        AnalyzingAmerica.json       1  \n",
       "2910    PatriotStreetfighter.json       2  "
      ]
     },
     "execution_count": 26,
     "metadata": {},
     "output_type": "execute_result"
    }
   ],
   "source": [
    "# Print the first few rows to verify\n",
    "sampled_df.head()"
   ]
  },
  {
   "cell_type": "code",
   "execution_count": 27,
   "id": "38b97c60",
   "metadata": {},
   "outputs": [
    {
     "data": {
      "text/plain": [
       "(1306, 8694)"
      ]
     },
     "execution_count": 27,
     "metadata": {},
     "output_type": "execute_result"
    }
   ],
   "source": [
    "len(sampled_df), len(remaining_data)"
   ]
  },
  {
   "cell_type": "code",
   "execution_count": 28,
   "id": "aca48b31",
   "metadata": {},
   "outputs": [],
   "source": [
    "remaining_data.to_json('/home/ravi/raviProject/DATA/Annotate/sampled_V4_10K_yPred_RoBERTa_remaining8694.json', orient='records')\n",
    "sampled_df.to_json('/home/ravi/raviProject/DATA/Annotate/sampled_V4_10K_yPred_RoBERTa_Sampled1306WithYpred.json', orient='records')\n",
    "sampled_df = sampled_df.drop(columns=['y_pred'])\n",
    "sampled_df.to_csv('/home/ravi/raviProject/DATA/Annotate/sampled_V4_10K_yPred_RoBERTa_Sampled1306WithoutYpred.csv')"
   ]
  },
  {
   "cell_type": "markdown",
   "id": "d0fd106d",
   "metadata": {},
   "source": [
    "# Compare Labels"
   ]
  },
  {
   "cell_type": "code",
   "execution_count": 30,
   "id": "07815797",
   "metadata": {},
   "outputs": [],
   "source": [
    "V4GPT=pd.read_json('/home/ravi/raviProject/DATA/Annotate/LabelV4/sampled_V4_10K_yPred_RoBERTa_Sampled1306WithYpred.json', orient='records')"
   ]
  },
  {
   "cell_type": "code",
   "execution_count": 31,
   "id": "c00dda9b",
   "metadata": {},
   "outputs": [
    {
     "data": {
      "text/plain": [
       "(1306, 6)"
      ]
     },
     "execution_count": 31,
     "metadata": {},
     "output_type": "execute_result"
    }
   ],
   "source": [
    "V4GPT.shape"
   ]
  },
  {
   "cell_type": "code",
   "execution_count": 32,
   "id": "fc3b73a4",
   "metadata": {},
   "outputs": [
    {
     "data": {
      "text/html": [
       "<div>\n",
       "<style scoped>\n",
       "    .dataframe tbody tr th:only-of-type {\n",
       "        vertical-align: middle;\n",
       "    }\n",
       "\n",
       "    .dataframe tbody tr th {\n",
       "        vertical-align: top;\n",
       "    }\n",
       "\n",
       "    .dataframe thead th {\n",
       "        text-align: right;\n",
       "    }\n",
       "</style>\n",
       "<table border=\"1\" class=\"dataframe\">\n",
       "  <thead>\n",
       "    <tr style=\"text-align: right;\">\n",
       "      <th></th>\n",
       "      <th>msgDate</th>\n",
       "      <th>msg</th>\n",
       "      <th>replyDate</th>\n",
       "      <th>text</th>\n",
       "      <th>telegramChannel</th>\n",
       "      <th>y_pred</th>\n",
       "    </tr>\n",
       "  </thead>\n",
       "  <tbody>\n",
       "    <tr>\n",
       "      <th>0</th>\n",
       "      <td>1630019898</td>\n",
       "      <td>She needs to go.\\n</td>\n",
       "      <td>1630021203</td>\n",
       "      <td>She needs to go to Gitmo with Biden!!!!!!!!</td>\n",
       "      <td>AnalyzingAmerica.json</td>\n",
       "      <td>2</td>\n",
       "    </tr>\n",
       "  </tbody>\n",
       "</table>\n",
       "</div>"
      ],
      "text/plain": [
       "      msgDate                  msg   replyDate  \\\n",
       "0  1630019898  She needs to go.\\n   1630021203   \n",
       "\n",
       "                                          text        telegramChannel  y_pred  \n",
       "0  She needs to go to Gitmo with Biden!!!!!!!!  AnalyzingAmerica.json       2  "
      ]
     },
     "execution_count": 32,
     "metadata": {},
     "output_type": "execute_result"
    }
   ],
   "source": [
    "V4GPT.head(1)"
   ]
  },
  {
   "cell_type": "code",
   "execution_count": 33,
   "id": "f86a3446",
   "metadata": {},
   "outputs": [
    {
     "data": {
      "text/html": [
       "<div>\n",
       "<style scoped>\n",
       "    .dataframe tbody tr th:only-of-type {\n",
       "        vertical-align: middle;\n",
       "    }\n",
       "\n",
       "    .dataframe tbody tr th {\n",
       "        vertical-align: top;\n",
       "    }\n",
       "\n",
       "    .dataframe thead th {\n",
       "        text-align: right;\n",
       "    }\n",
       "</style>\n",
       "<table border=\"1\" class=\"dataframe\">\n",
       "  <thead>\n",
       "    <tr style=\"text-align: right;\">\n",
       "      <th></th>\n",
       "      <th>msgDate</th>\n",
       "      <th>msg</th>\n",
       "      <th>replyDate</th>\n",
       "      <th>text</th>\n",
       "      <th>telegramChannel</th>\n",
       "      <th>y_pred</th>\n",
       "    </tr>\n",
       "  </thead>\n",
       "  <tbody>\n",
       "    <tr>\n",
       "      <th>1305</th>\n",
       "      <td>1636645043</td>\n",
       "      <td>Yep!\\n</td>\n",
       "      <td>1636658425</td>\n",
       "      <td>GITMO</td>\n",
       "      <td>AnalyzingAmerica.json</td>\n",
       "      <td>2</td>\n",
       "    </tr>\n",
       "  </tbody>\n",
       "</table>\n",
       "</div>"
      ],
      "text/plain": [
       "         msgDate      msg   replyDate   text        telegramChannel  y_pred\n",
       "1305  1636645043  Yep!\\n   1636658425  GITMO  AnalyzingAmerica.json       2"
      ]
     },
     "execution_count": 33,
     "metadata": {},
     "output_type": "execute_result"
    }
   ],
   "source": [
    "V4GPT.tail(1)"
   ]
  },
  {
   "cell_type": "code",
   "execution_count": 34,
   "id": "9a136fca",
   "metadata": {},
   "outputs": [
    {
     "data": {
      "text/plain": [
       "2    447\n",
       "0    447\n",
       "1    412\n",
       "Name: y_pred, dtype: int64"
      ]
     },
     "execution_count": 34,
     "metadata": {},
     "output_type": "execute_result"
    }
   ],
   "source": [
    "V4GPT['y_pred'].value_counts()"
   ]
  },
  {
   "cell_type": "code",
   "execution_count": 35,
   "id": "6ca808fe",
   "metadata": {},
   "outputs": [],
   "source": [
    "# Replace values in column 'FinalLabel'\n",
    "replacement_dict = {0 : 1, 1 : 2, 2 : 3}\n",
    "V4GPT['y_pred'] = V4GPT['y_pred'].replace(replacement_dict)"
   ]
  },
  {
   "cell_type": "code",
   "execution_count": 37,
   "id": "6822c518",
   "metadata": {},
   "outputs": [],
   "source": [
    "V4Ravi=pd.read_csv('/home/ravi/raviProject/DATA/Annotate/LabelV4/sampled_V4_10K_yPred_RoBERTa_Sampled1306WithRaviLabel.csv')"
   ]
  },
  {
   "cell_type": "code",
   "execution_count": 38,
   "id": "e6dfd657",
   "metadata": {},
   "outputs": [
    {
     "data": {
      "text/plain": [
       "(1306, 7)"
      ]
     },
     "execution_count": 38,
     "metadata": {},
     "output_type": "execute_result"
    }
   ],
   "source": [
    "V4Ravi.shape"
   ]
  },
  {
   "cell_type": "code",
   "execution_count": 39,
   "id": "dc7e9a46",
   "metadata": {},
   "outputs": [
    {
     "data": {
      "text/html": [
       "<div>\n",
       "<style scoped>\n",
       "    .dataframe tbody tr th:only-of-type {\n",
       "        vertical-align: middle;\n",
       "    }\n",
       "\n",
       "    .dataframe tbody tr th {\n",
       "        vertical-align: top;\n",
       "    }\n",
       "\n",
       "    .dataframe thead th {\n",
       "        text-align: right;\n",
       "    }\n",
       "</style>\n",
       "<table border=\"1\" class=\"dataframe\">\n",
       "  <thead>\n",
       "    <tr style=\"text-align: right;\">\n",
       "      <th></th>\n",
       "      <th>Unnamed: 0</th>\n",
       "      <th>msgDate</th>\n",
       "      <th>msg</th>\n",
       "      <th>replyDate</th>\n",
       "      <th>text</th>\n",
       "      <th>telegramChannel</th>\n",
       "      <th>LabelRavi</th>\n",
       "    </tr>\n",
       "  </thead>\n",
       "  <tbody>\n",
       "    <tr>\n",
       "      <th>0</th>\n",
       "      <td>5923</td>\n",
       "      <td>1630019898</td>\n",
       "      <td>She needs to go.\\n</td>\n",
       "      <td>1630021203</td>\n",
       "      <td>She needs to go to Gitmo with Biden!!!!!!!!</td>\n",
       "      <td>AnalyzingAmerica.json</td>\n",
       "      <td>3.0</td>\n",
       "    </tr>\n",
       "  </tbody>\n",
       "</table>\n",
       "</div>"
      ],
      "text/plain": [
       "   Unnamed: 0     msgDate                  msg   replyDate  \\\n",
       "0        5923  1630019898  She needs to go.\\n   1630021203   \n",
       "\n",
       "                                          text        telegramChannel  \\\n",
       "0  She needs to go to Gitmo with Biden!!!!!!!!  AnalyzingAmerica.json   \n",
       "\n",
       "   LabelRavi  \n",
       "0        3.0  "
      ]
     },
     "execution_count": 39,
     "metadata": {},
     "output_type": "execute_result"
    }
   ],
   "source": [
    "V4Ravi.head(1)"
   ]
  },
  {
   "cell_type": "code",
   "execution_count": 40,
   "id": "bf9951a0",
   "metadata": {},
   "outputs": [
    {
     "data": {
      "text/html": [
       "<div>\n",
       "<style scoped>\n",
       "    .dataframe tbody tr th:only-of-type {\n",
       "        vertical-align: middle;\n",
       "    }\n",
       "\n",
       "    .dataframe tbody tr th {\n",
       "        vertical-align: top;\n",
       "    }\n",
       "\n",
       "    .dataframe thead th {\n",
       "        text-align: right;\n",
       "    }\n",
       "</style>\n",
       "<table border=\"1\" class=\"dataframe\">\n",
       "  <thead>\n",
       "    <tr style=\"text-align: right;\">\n",
       "      <th></th>\n",
       "      <th>Unnamed: 0</th>\n",
       "      <th>msgDate</th>\n",
       "      <th>msg</th>\n",
       "      <th>replyDate</th>\n",
       "      <th>text</th>\n",
       "      <th>telegramChannel</th>\n",
       "      <th>LabelRavi</th>\n",
       "    </tr>\n",
       "  </thead>\n",
       "  <tbody>\n",
       "    <tr>\n",
       "      <th>1305</th>\n",
       "      <td>5549</td>\n",
       "      <td>1636645043</td>\n",
       "      <td>Yep!\\n</td>\n",
       "      <td>1636658425</td>\n",
       "      <td>GITMO</td>\n",
       "      <td>AnalyzingAmerica.json</td>\n",
       "      <td>NaN</td>\n",
       "    </tr>\n",
       "  </tbody>\n",
       "</table>\n",
       "</div>"
      ],
      "text/plain": [
       "      Unnamed: 0     msgDate      msg   replyDate   text  \\\n",
       "1305        5549  1636645043  Yep!\\n   1636658425  GITMO   \n",
       "\n",
       "            telegramChannel  LabelRavi  \n",
       "1305  AnalyzingAmerica.json        NaN  "
      ]
     },
     "execution_count": 40,
     "metadata": {},
     "output_type": "execute_result"
    }
   ],
   "source": [
    "V4Ravi.tail(1)"
   ]
  },
  {
   "cell_type": "code",
   "execution_count": 41,
   "id": "b4c8c5a0",
   "metadata": {},
   "outputs": [
    {
     "data": {
      "text/plain": [
       "1.0    746\n",
       "3.0    162\n",
       "2.0    136\n",
       "Name: LabelRavi, dtype: int64"
      ]
     },
     "execution_count": 41,
     "metadata": {},
     "output_type": "execute_result"
    }
   ],
   "source": [
    "V4Ravi['LabelRavi'].value_counts()"
   ]
  },
  {
   "cell_type": "code",
   "execution_count": 42,
   "id": "1cbf7fda",
   "metadata": {},
   "outputs": [],
   "source": [
    "V4Labels=V4GPT.copy()\n",
    "V4Labels['RLabel']=V4Ravi['LabelRavi']\n",
    "V4Labels = V4Labels.dropna(subset=['RLabel'], axis=0)\n",
    "V4Labels['RLabel']=V4Labels['RLabel'].astype('int64')"
   ]
  },
  {
   "cell_type": "code",
   "execution_count": 43,
   "id": "f3df5d98",
   "metadata": {},
   "outputs": [
    {
     "data": {
      "text/plain": [
       "(1044, 7)"
      ]
     },
     "execution_count": 43,
     "metadata": {},
     "output_type": "execute_result"
    }
   ],
   "source": [
    "V4Labels.shape"
   ]
  },
  {
   "cell_type": "code",
   "execution_count": 44,
   "id": "f013c492",
   "metadata": {},
   "outputs": [
    {
     "data": {
      "text/plain": [
       "1    746\n",
       "3    162\n",
       "2    136\n",
       "Name: RLabel, dtype: int64"
      ]
     },
     "execution_count": 44,
     "metadata": {},
     "output_type": "execute_result"
    }
   ],
   "source": [
    "V4Labels['RLabel'].value_counts()"
   ]
  },
  {
   "cell_type": "code",
   "execution_count": 45,
   "id": "ed08fef6",
   "metadata": {},
   "outputs": [
    {
     "data": {
      "text/html": [
       "<div>\n",
       "<style scoped>\n",
       "    .dataframe tbody tr th:only-of-type {\n",
       "        vertical-align: middle;\n",
       "    }\n",
       "\n",
       "    .dataframe tbody tr th {\n",
       "        vertical-align: top;\n",
       "    }\n",
       "\n",
       "    .dataframe thead th {\n",
       "        text-align: right;\n",
       "    }\n",
       "</style>\n",
       "<table border=\"1\" class=\"dataframe\">\n",
       "  <thead>\n",
       "    <tr style=\"text-align: right;\">\n",
       "      <th></th>\n",
       "      <th>msgDate</th>\n",
       "      <th>msg</th>\n",
       "      <th>replyDate</th>\n",
       "      <th>text</th>\n",
       "      <th>telegramChannel</th>\n",
       "      <th>y_pred</th>\n",
       "      <th>RLabel</th>\n",
       "    </tr>\n",
       "  </thead>\n",
       "  <tbody>\n",
       "    <tr>\n",
       "      <th>0</th>\n",
       "      <td>1630019898</td>\n",
       "      <td>She needs to go.\\n</td>\n",
       "      <td>1630021203</td>\n",
       "      <td>She needs to go to Gitmo with Biden!!!!!!!!</td>\n",
       "      <td>AnalyzingAmerica.json</td>\n",
       "      <td>3</td>\n",
       "      <td>3</td>\n",
       "    </tr>\n",
       "  </tbody>\n",
       "</table>\n",
       "</div>"
      ],
      "text/plain": [
       "      msgDate                  msg   replyDate  \\\n",
       "0  1630019898  She needs to go.\\n   1630021203   \n",
       "\n",
       "                                          text        telegramChannel  y_pred  \\\n",
       "0  She needs to go to Gitmo with Biden!!!!!!!!  AnalyzingAmerica.json       3   \n",
       "\n",
       "   RLabel  \n",
       "0       3  "
      ]
     },
     "execution_count": 45,
     "metadata": {},
     "output_type": "execute_result"
    }
   ],
   "source": [
    "V4Labels.head(1)"
   ]
  },
  {
   "cell_type": "code",
   "execution_count": 46,
   "id": "29a7d1fc",
   "metadata": {},
   "outputs": [],
   "source": [
    "V4Labels.to_csv('/home/ravi/raviProject/DATA/Annotate/LabelV4/sampled_V4_10K_yPred_RoBERTa_Sampled1044WithYpred_RaviLabel.csv')"
   ]
  },
  {
   "cell_type": "code",
   "execution_count": 66,
   "id": "a4f3e99a",
   "metadata": {},
   "outputs": [],
   "source": [
    "V4Labels.to_json('/home/ravi/raviProject/DATA/Annotate/sampled_V4_10K_yPred_RoBERTa_Sampled1044WithYprednRavi.json', orient='records')"
   ]
  },
  {
   "cell_type": "markdown",
   "id": "3d3256a5",
   "metadata": {},
   "source": [
    "## score"
   ]
  },
  {
   "cell_type": "code",
   "execution_count": 47,
   "id": "627f2a99",
   "metadata": {},
   "outputs": [],
   "source": [
    "from sklearn.metrics import cohen_kappa_score\n",
    "from sklearn.metrics import classification_report, f1_score, accuracy_score\n"
   ]
  },
  {
   "cell_type": "code",
   "execution_count": 48,
   "id": "ed774ff2",
   "metadata": {},
   "outputs": [],
   "source": [
    "def sample_per_class(df, sample_count):\n",
    "    sampled_df = pd.DataFrame()\n",
    "    remaining_df = df.copy()\n",
    "\n",
    "    # Iterate over unique classes\n",
    "    for class_label in df['RLabel'].unique():\n",
    "        # Extract 100 rows where the column value is the current class label\n",
    "        sampled_class_df = remaining_df[remaining_df['RLabel'] == class_label]\n",
    "        sampled_class_df = sampled_class_df.sample(frac=1, random_state=42)\n",
    "        sampled_class_df = sampled_class_df.head(sample_count)\n",
    "\n",
    "        # Append sampled rows to the sampled_df DataFrame\n",
    "        sampled_df = pd.concat([sampled_df, sampled_class_df], ignore_index=True)\n",
    "\n",
    "        # Remove the sampled rows from the remaining_df\n",
    "        remaining_df = remaining_df.drop(sampled_class_df.index)\n",
    "\n",
    "    return sampled_df, remaining_df"
   ]
  },
  {
   "cell_type": "code",
   "execution_count": 49,
   "id": "cd27971c",
   "metadata": {},
   "outputs": [],
   "source": [
    "df = V4Labels.copy()\n",
    "sampled_df, remaining_df = sample_per_class(df, 100)"
   ]
  },
  {
   "cell_type": "code",
   "execution_count": 50,
   "id": "4aac5559",
   "metadata": {},
   "outputs": [
    {
     "data": {
      "text/plain": [
       "(1044, 300, 744)"
      ]
     },
     "execution_count": 50,
     "metadata": {},
     "output_type": "execute_result"
    }
   ],
   "source": [
    "len(df), len(sampled_df), len(remaining_df)"
   ]
  },
  {
   "cell_type": "code",
   "execution_count": 51,
   "id": "cea93929",
   "metadata": {},
   "outputs": [
    {
     "data": {
      "text/plain": [
       "3    100\n",
       "1    100\n",
       "2    100\n",
       "Name: RLabel, dtype: int64"
      ]
     },
     "execution_count": 51,
     "metadata": {},
     "output_type": "execute_result"
    }
   ],
   "source": [
    "sampled_df['RLabel'].value_counts()"
   ]
  },
  {
   "cell_type": "code",
   "execution_count": 52,
   "id": "f9dae3b8",
   "metadata": {},
   "outputs": [
    {
     "data": {
      "text/plain": [
       "1    646\n",
       "3     62\n",
       "2     36\n",
       "Name: RLabel, dtype: int64"
      ]
     },
     "execution_count": 52,
     "metadata": {},
     "output_type": "execute_result"
    }
   ],
   "source": [
    "remaining_df['RLabel'].value_counts()"
   ]
  },
  {
   "cell_type": "code",
   "execution_count": 53,
   "id": "351982cc",
   "metadata": {},
   "outputs": [
    {
     "data": {
      "text/plain": [
       "744"
      ]
     },
     "execution_count": 53,
     "metadata": {},
     "output_type": "execute_result"
    }
   ],
   "source": [
    "remaining_df.shape[0]"
   ]
  },
  {
   "cell_type": "code",
   "execution_count": 54,
   "id": "d3af2c5c",
   "metadata": {},
   "outputs": [
    {
     "data": {
      "text/html": [
       "<div>\n",
       "<style scoped>\n",
       "    .dataframe tbody tr th:only-of-type {\n",
       "        vertical-align: middle;\n",
       "    }\n",
       "\n",
       "    .dataframe tbody tr th {\n",
       "        vertical-align: top;\n",
       "    }\n",
       "\n",
       "    .dataframe thead th {\n",
       "        text-align: right;\n",
       "    }\n",
       "</style>\n",
       "<table border=\"1\" class=\"dataframe\">\n",
       "  <thead>\n",
       "    <tr style=\"text-align: right;\">\n",
       "      <th></th>\n",
       "      <th>msgDate</th>\n",
       "      <th>msg</th>\n",
       "      <th>replyDate</th>\n",
       "      <th>text</th>\n",
       "      <th>telegramChannel</th>\n",
       "      <th>y_pred</th>\n",
       "      <th>RLabel</th>\n",
       "    </tr>\n",
       "  </thead>\n",
       "  <tbody>\n",
       "    <tr>\n",
       "      <th>0</th>\n",
       "      <td>1689360218</td>\n",
       "      <td>1-Question PragerU Poll: Do you have faith in ...</td>\n",
       "      <td>1689445248</td>\n",
       "      <td>He should be strung up.</td>\n",
       "      <td>DonaldTrumpJr.json</td>\n",
       "      <td>3</td>\n",
       "      <td>3</td>\n",
       "    </tr>\n",
       "  </tbody>\n",
       "</table>\n",
       "</div>"
      ],
      "text/plain": [
       "      msgDate                                                msg   replyDate  \\\n",
       "0  1689360218  1-Question PragerU Poll: Do you have faith in ...  1689445248   \n",
       "\n",
       "                      text     telegramChannel  y_pred  RLabel  \n",
       "0  He should be strung up.  DonaldTrumpJr.json       3       3  "
      ]
     },
     "execution_count": 54,
     "metadata": {},
     "output_type": "execute_result"
    }
   ],
   "source": [
    "sampled_df.head(1)"
   ]
  },
  {
   "cell_type": "code",
   "execution_count": 55,
   "id": "23accea3",
   "metadata": {},
   "outputs": [],
   "source": [
    "kappa = cohen_kappa_score(sampled_df['RLabel'], sampled_df['y_pred'])"
   ]
  },
  {
   "cell_type": "code",
   "execution_count": 56,
   "id": "e4a696ab",
   "metadata": {},
   "outputs": [
    {
     "data": {
      "text/plain": [
       "0.64"
      ]
     },
     "execution_count": 56,
     "metadata": {},
     "output_type": "execute_result"
    }
   ],
   "source": [
    "kappa"
   ]
  },
  {
   "cell_type": "code",
   "execution_count": 57,
   "id": "0256f5f0",
   "metadata": {},
   "outputs": [],
   "source": [
    "weighted_f1 = f1_score(sampled_df['RLabel'], sampled_df['y_pred'], average='weighted')"
   ]
  },
  {
   "cell_type": "code",
   "execution_count": 58,
   "id": "924e8525",
   "metadata": {},
   "outputs": [
    {
     "data": {
      "text/plain": [
       "0.7333885793392835"
      ]
     },
     "execution_count": 58,
     "metadata": {},
     "output_type": "execute_result"
    }
   ],
   "source": [
    "weighted_f1"
   ]
  },
  {
   "cell_type": "code",
   "execution_count": 59,
   "id": "c9ff6868",
   "metadata": {},
   "outputs": [],
   "source": [
    "acc = accuracy_score(sampled_df['RLabel'], sampled_df['y_pred'])"
   ]
  },
  {
   "cell_type": "code",
   "execution_count": 60,
   "id": "8429ca36",
   "metadata": {},
   "outputs": [
    {
     "data": {
      "text/plain": [
       "0.76"
      ]
     },
     "execution_count": 60,
     "metadata": {},
     "output_type": "execute_result"
    }
   ],
   "source": [
    "acc"
   ]
  },
  {
   "cell_type": "code",
   "execution_count": 61,
   "id": "ec78116d",
   "metadata": {},
   "outputs": [],
   "source": [
    "# Generate classification report\n",
    "class_report = classification_report(sampled_df['RLabel'], sampled_df['y_pred'])"
   ]
  },
  {
   "cell_type": "code",
   "execution_count": 62,
   "id": "c6e976a7",
   "metadata": {},
   "outputs": [
    {
     "name": "stdout",
     "output_type": "stream",
     "text": [
      "Classification Report:\n",
      "               precision    recall  f1-score   support\n",
      "\n",
      "           1       0.93      0.39      0.55       100\n",
      "           2       0.72      0.96      0.82       100\n",
      "           3       0.75      0.93      0.83       100\n",
      "\n",
      "    accuracy                           0.76       300\n",
      "   macro avg       0.80      0.76      0.73       300\n",
      "weighted avg       0.80      0.76      0.73       300\n",
      "\n"
     ]
    }
   ],
   "source": [
    "print(\"Classification Report:\\n\", class_report)"
   ]
  },
  {
   "cell_type": "code",
   "execution_count": 63,
   "id": "6c5bf903",
   "metadata": {},
   "outputs": [],
   "source": [
    "from sklearn.metrics import confusion_matrix\n",
    "import matplotlib.pyplot as plt\n",
    "import seaborn as sns"
   ]
  },
  {
   "cell_type": "code",
   "execution_count": 64,
   "id": "4c30c245",
   "metadata": {},
   "outputs": [
    {
     "data": {
      "image/png": "[encoded data removed]",
      "text/plain": [
       "<Figure size 576x432 with 1 Axes>"
      ]
     },
     "metadata": {
      "needs_background": "light"
     },
     "output_type": "display_data"
    }
   ],
   "source": [
    "conf_matrix=confusion_matrix(sampled_df['RLabel'], sampled_df['y_pred'])\n",
    "# Plot the confusion matrix as a heatmap\n",
    "plt.figure(figsize=(8, 6))\n",
    "sns.heatmap(conf_matrix, annot=True, fmt='d', cmap='Blues', cbar=False)\n",
    "plt.title('Confusion Matrix')\n",
    "plt.xlabel('Predicted Labels')\n",
    "plt.ylabel('True Labels')\n",
    "\n",
    "# Set the tick labels to match your class labels (1, 2, 3)\n",
    "plt.xticks(ticks=[0.5, 1.5, 2.5], labels=[1, 2, 3])\n",
    "plt.yticks(ticks=[0.5, 1.5, 2.5], labels=[1, 2, 3])\n",
    "\n",
    "plt.show()"
   ]
  },
  {
   "cell_type": "code",
   "execution_count": 65,
   "id": "a41da400",
   "metadata": {},
   "outputs": [],
   "source": [
    "sampled_df.to_json('/home/ravi/raviProject/DATA/Annotate/LabelV4/V4_Labeled_300_sampled.json', orient='records')\n",
    "remaining_df.to_json('/home/ravi/raviProject/DATA/Annotate/LabelV4/V4_Labeled_744_remaining.json', orient='records')"
   ]
  },
  {
   "cell_type": "markdown",
   "id": "c142c27c",
   "metadata": {},
   "source": [
    "# MERGE with previous labeled set"
   ]
  },
  {
   "cell_type": "code",
   "execution_count": 21,
   "id": "4c348e27",
   "metadata": {},
   "outputs": [
    {
     "name": "stdout",
     "output_type": "stream",
     "text": [
      "1    207\n",
      "3    171\n",
      "2    109\n",
      "Name: FinalLabel, dtype: int64 487\n"
     ]
    }
   ],
   "source": [
    "V1Labels = pd.read_csv('/home/ravi/raviProject/DATA/Annotate/LabelV1/v1labeldf_V1_with_external_Labels.csv')\n",
    "print(V1Labels['FinalLabel'].value_counts(), len(V1Labels))\n",
    "V1Labels.to_json('/home/ravi/raviProject/DATA/Annotate/sampled_V1_10K_Experts_Sampled487WithMattnRavi.json', orient='records')\n"
   ]
  },
  {
   "cell_type": "code",
   "execution_count": 16,
   "id": "b7d4af8f",
   "metadata": {},
   "outputs": [
    {
     "name": "stdout",
     "output_type": "stream",
     "text": [
      "1    1185\n",
      "2     152\n",
      "3     120\n",
      "Name: RLabel, dtype: int64 1457\n"
     ]
    }
   ],
   "source": [
    "V2GPT=pd.read_json('/home/ravi/raviProject/DATA/Annotate/sampled_V2_10K_yPred_RoBERTa_Sampled1500WithYpred.json', orient='records')\n",
    "# Replace values in column 'FinalLabel'\n",
    "replacement_dict = {0 : 1, 1 : 2, 2 : 3}\n",
    "V2GPT['y_pred'] = V2GPT['y_pred'].replace(replacement_dict)\n",
    "V2Ravi=pd.read_csv('/home/ravi/raviProject/DATA/Annotate/LabelV2/sampled_V2_10K_yPred_RoBERTa_Sampled1500WithoutYpred_RaviLabel.csv')\n",
    "V2Labels=V2GPT.copy()\n",
    "V2Labels['RLabel']=V2Ravi['Rlabel']\n",
    "V2Labels = V2Labels.dropna(subset=['RLabel'], axis=0)\n",
    "V2Labels['RLabel']=V2Labels['RLabel'].astype('int64')\n",
    "print(V2Labels['RLabel'].value_counts(), len(V2Labels))\n",
    "V2Labels.to_json('/home/ravi/raviProject/DATA/Annotate/sampled_V2_10K_yPred_RoBERTa_Sampled1457WithYprednRavi.json', orient='records')\n"
   ]
  },
  {
   "cell_type": "code",
   "execution_count": 18,
   "id": "492fb3a4",
   "metadata": {},
   "outputs": [
    {
     "name": "stdout",
     "output_type": "stream",
     "text": [
      "1    1094\n",
      "3     176\n",
      "2     134\n",
      "Name: RLabel, dtype: int64 1404\n"
     ]
    }
   ],
   "source": [
    "V3GPT=pd.read_json('/home/ravi/raviProject/DATA/Annotate/LabelV3/sampled_V3_10K_yPred_RoBERTa_Sampled1412WithYpred.json', orient='records')\n",
    "# Replace values in column 'FinalLabel'\n",
    "replacement_dict = {0 : 1, 1 : 2, 2 : 3}\n",
    "V3GPT['y_pred'] = V3GPT['y_pred'].replace(replacement_dict)\n",
    "V3Ravi=pd.read_csv('/home/ravi/raviProject/DATA/Annotate/LabelV3/sampled_V3_10K_yPred_RoBERTa_Sampled1412WithoutYpred_RaviLabel.csv')\n",
    "V3Labels=V3GPT.copy()\n",
    "V3Labels['RLabel']=V3Ravi['LabelRavi']\n",
    "V3Labels = V3Labels.dropna(subset=['RLabel'], axis=0)\n",
    "V3Labels['RLabel']=V3Labels['RLabel'].astype('int64')\n",
    "print(V3Labels['RLabel'].value_counts(), len(V3Labels))\n",
    "V3Labels.to_json('/home/ravi/raviProject/DATA/Annotate/sampled_V3_10K_yPred_RoBERTa_Sampled1404WithYprednRavi.json', orient='records')"
   ]
  },
  {
   "cell_type": "markdown",
   "id": "61441be9",
   "metadata": {},
   "source": [
    "### combine all - full labeled set"
   ]
  },
  {
   "cell_type": "code",
   "execution_count": 3,
   "id": "fa8fdb64",
   "metadata": {},
   "outputs": [],
   "source": [
    "V1Labels = pd.read_json('/home/ravi/raviProject/DATA/Annotate/LabelV1/sampled_V1_10K_Experts_Sampled487WithMattnRavi.json', orient='records')\n",
    "V2Labels = pd.read_json('/home/ravi/raviProject/DATA/Annotate/LabelV2/sampled_V2_10K_yPred_RoBERTa_Sampled1457WithYprednRavi.json', orient='records')\n",
    "V3Labels = pd.read_json('/home/ravi/raviProject/DATA/Annotate/LabelV3/sampled_V3_10K_yPred_RoBERTa_Sampled1404WithYprednRavi.json', orient='records')\n",
    "V4Labels = pd.read_json('/home/ravi/raviProject/DATA/Annotate/LabelV4/sampled_V4_10K_yPred_RoBERTa_Sampled1044WithYprednRavi.json', orient='records')"
   ]
  },
  {
   "cell_type": "code",
   "execution_count": 4,
   "id": "7161dce9",
   "metadata": {},
   "outputs": [],
   "source": [
    "V2Labels.rename(columns={'RLabel': 'FinalLabel'}, inplace=True)\n",
    "V3Labels.rename(columns={'RLabel': 'FinalLabel'}, inplace=True)\n",
    "V4Labels.rename(columns={'RLabel': 'FinalLabel'}, inplace=True)"
   ]
  },
  {
   "cell_type": "code",
   "execution_count": 5,
   "id": "ae5cea29",
   "metadata": {},
   "outputs": [
    {
     "name": "stdout",
     "output_type": "stream",
     "text": [
      "(487, 13) \n",
      " 1    207\n",
      "3    171\n",
      "2    109\n",
      "Name: FinalLabel, dtype: int64\n",
      "(1457, 7) \n",
      " 1    1185\n",
      "2     152\n",
      "3     120\n",
      "Name: FinalLabel, dtype: int64\n",
      "(1404, 7) \n",
      " 1    1094\n",
      "3     176\n",
      "2     134\n",
      "Name: FinalLabel, dtype: int64\n",
      "(1044, 7) \n",
      " 1    746\n",
      "3    162\n",
      "2    136\n",
      "Name: FinalLabel, dtype: int64\n"
     ]
    }
   ],
   "source": [
    "print(V1Labels.shape, '\\n', V1Labels['FinalLabel'].value_counts())\n",
    "print(V2Labels.shape, '\\n', V2Labels['FinalLabel'].value_counts())\n",
    "print(V3Labels.shape, '\\n', V3Labels['FinalLabel'].value_counts())\n",
    "print(V4Labels.shape, '\\n', V4Labels['FinalLabel'].value_counts())"
   ]
  },
  {
   "cell_type": "code",
   "execution_count": 6,
   "id": "1bd6cf08",
   "metadata": {},
   "outputs": [],
   "source": [
    "selected_cols =['msgDate', 'msg', 'replyDate', 'text', 'telegramChannel', 'FinalLabel']\n",
    "merged_df = pd.concat([V1Labels[selected_cols], V2Labels[selected_cols], \n",
    "                       V3Labels[selected_cols], V4Labels[selected_cols]], ignore_index=True)"
   ]
  },
  {
   "cell_type": "code",
   "execution_count": 7,
   "id": "ca8ae9ab",
   "metadata": {},
   "outputs": [],
   "source": [
    "# Replace values in column 'FinalLabel'\n",
    "replacement_dict = {1 : 0, 2 : 1, 3 : 2}\n",
    "merged_df['FinalLabel'] = merged_df['FinalLabel'].replace(replacement_dict)"
   ]
  },
  {
   "cell_type": "code",
   "execution_count": 8,
   "id": "599c333e",
   "metadata": {},
   "outputs": [
    {
     "data": {
      "text/plain": [
       "(4392, 6)"
      ]
     },
     "execution_count": 8,
     "metadata": {},
     "output_type": "execute_result"
    }
   ],
   "source": [
    "merged_df.shape"
   ]
  },
  {
   "cell_type": "code",
   "execution_count": 9,
   "id": "94c423f4",
   "metadata": {},
   "outputs": [
    {
     "data": {
      "text/plain": [
       "0    3232\n",
       "2     629\n",
       "1     531\n",
       "Name: FinalLabel, dtype: int64"
      ]
     },
     "execution_count": 9,
     "metadata": {},
     "output_type": "execute_result"
    }
   ],
   "source": [
    "merged_df['FinalLabel'].value_counts()"
   ]
  },
  {
   "cell_type": "code",
   "execution_count": 10,
   "id": "035ee244",
   "metadata": {},
   "outputs": [],
   "source": [
    "shuffled_df = merged_df.sample(frac=1, random_state=42)  # Shuffle the DataFrame"
   ]
  },
  {
   "cell_type": "code",
   "execution_count": 11,
   "id": "ff090e06",
   "metadata": {},
   "outputs": [
    {
     "data": {
      "text/html": [
       "<div>\n",
       "<style scoped>\n",
       "    .dataframe tbody tr th:only-of-type {\n",
       "        vertical-align: middle;\n",
       "    }\n",
       "\n",
       "    .dataframe tbody tr th {\n",
       "        vertical-align: top;\n",
       "    }\n",
       "\n",
       "    .dataframe thead th {\n",
       "        text-align: right;\n",
       "    }\n",
       "</style>\n",
       "<table border=\"1\" class=\"dataframe\">\n",
       "  <thead>\n",
       "    <tr style=\"text-align: right;\">\n",
       "      <th></th>\n",
       "      <th>msgDate</th>\n",
       "      <th>msg</th>\n",
       "      <th>replyDate</th>\n",
       "      <th>text</th>\n",
       "      <th>telegramChannel</th>\n",
       "      <th>FinalLabel</th>\n",
       "    </tr>\n",
       "  </thead>\n",
       "  <tbody>\n",
       "    <tr>\n",
       "      <th>4159</th>\n",
       "      <td>1619540214</td>\n",
       "      <td>Hunter Biden laptop update is bad news for Joe...</td>\n",
       "      <td>1619541628</td>\n",
       "      <td>Who is going to hold him accountable? Just lik...</td>\n",
       "      <td>AnalyzingAmerica.json</td>\n",
       "      <td>0</td>\n",
       "    </tr>\n",
       "    <tr>\n",
       "      <th>3610</th>\n",
       "      <td>1670879296</td>\n",
       "      <td></td>\n",
       "      <td>1671021689</td>\n",
       "      <td>Bari Weiss, another dirty conniving Jew, needs...</td>\n",
       "      <td>DonaldTrumpJr.json</td>\n",
       "      <td>1</td>\n",
       "    </tr>\n",
       "    <tr>\n",
       "      <th>1769</th>\n",
       "      <td>1647208396</td>\n",
       "      <td>W h o   c a r e s   t h a t   R e n e g a d e ...</td>\n",
       "      <td>1647215334</td>\n",
       "      <td>Covid pos = Gitmo</td>\n",
       "      <td>ThePatriotVoice.json</td>\n",
       "      <td>0</td>\n",
       "    </tr>\n",
       "    <tr>\n",
       "      <th>414</th>\n",
       "      <td>1667325765</td>\n",
       "      <td>🔴  18-Year-Old Cheerleader Dies Suddenly; Caus...</td>\n",
       "      <td>1667325928</td>\n",
       "      <td>Hmmmm jabbed up???  What a sin.</td>\n",
       "      <td>ResisttheMainstream.json</td>\n",
       "      <td>0</td>\n",
       "    </tr>\n",
       "    <tr>\n",
       "      <th>3855</th>\n",
       "      <td>1670790004</td>\n",
       "      <td>🔴  State House Race Flips to Democrat By One V...</td>\n",
       "      <td>1670790151</td>\n",
       "      <td>Give it up, America. They have their claws in ...</td>\n",
       "      <td>ResisttheMainstream.json</td>\n",
       "      <td>0</td>\n",
       "    </tr>\n",
       "  </tbody>\n",
       "</table>\n",
       "</div>"
      ],
      "text/plain": [
       "         msgDate                                                msg  \\\n",
       "4159  1619540214  Hunter Biden laptop update is bad news for Joe...   \n",
       "3610  1670879296                                                      \n",
       "1769  1647208396  W h o   c a r e s   t h a t   R e n e g a d e ...   \n",
       "414   1667325765  🔴  18-Year-Old Cheerleader Dies Suddenly; Caus...   \n",
       "3855  1670790004  🔴  State House Race Flips to Democrat By One V...   \n",
       "\n",
       "       replyDate                                               text  \\\n",
       "4159  1619541628  Who is going to hold him accountable? Just lik...   \n",
       "3610  1671021689  Bari Weiss, another dirty conniving Jew, needs...   \n",
       "1769  1647215334                                  Covid pos = Gitmo   \n",
       "414   1667325928                    Hmmmm jabbed up???  What a sin.   \n",
       "3855  1670790151  Give it up, America. They have their claws in ...   \n",
       "\n",
       "               telegramChannel  FinalLabel  \n",
       "4159     AnalyzingAmerica.json           0  \n",
       "3610        DonaldTrumpJr.json           1  \n",
       "1769      ThePatriotVoice.json           0  \n",
       "414   ResisttheMainstream.json           0  \n",
       "3855  ResisttheMainstream.json           0  "
      ]
     },
     "execution_count": 11,
     "metadata": {},
     "output_type": "execute_result"
    }
   ],
   "source": [
    "shuffled_df.head()"
   ]
  },
  {
   "cell_type": "code",
   "execution_count": 13,
   "id": "7b3fb09a",
   "metadata": {},
   "outputs": [],
   "source": [
    "shuffled_df.to_json('/home/ravi/raviProject/DATA/Annotate/iterData/iter4_Labeled_4392_sampled.json', orient='records')"
   ]
  },
  {
   "cell_type": "markdown",
   "id": "68e712c5",
   "metadata": {},
   "source": [
    "## make new iter4 labeled data"
   ]
  },
  {
   "cell_type": "code",
   "execution_count": 3,
   "id": "760420cd",
   "metadata": {},
   "outputs": [],
   "source": [
    "df5 = pd.read_json('/home/ravi/raviProject/DATA/Annotate/iterData/iter_Labeled_4392_sampled.json', orient='records')"
   ]
  },
  {
   "cell_type": "code",
   "execution_count": 4,
   "id": "da785c3f",
   "metadata": {},
   "outputs": [
    {
     "data": {
      "text/plain": [
       "0    3232\n",
       "2     629\n",
       "1     531\n",
       "Name: FinalLabel, dtype: int64"
      ]
     },
     "execution_count": 4,
     "metadata": {},
     "output_type": "execute_result"
    }
   ],
   "source": [
    "df5['FinalLabel'].value_counts()"
   ]
  },
  {
   "cell_type": "code",
   "execution_count": 6,
   "id": "de168ac4",
   "metadata": {},
   "outputs": [],
   "source": [
    "# Sample 100 rows with class 1\n",
    "sample_class_1 = df5[df5['FinalLabel'] == 0].sample(n=629, random_state=42)\n",
    "\n",
    "# Sample 200 rows with class 2\n",
    "sample_class_2 = df5[df5['FinalLabel'] == 1].sample(n=531, random_state=42)\n",
    "\n",
    "# Sample 400 rows with class 3\n",
    "sample_class_3 = df5[df5['FinalLabel'] == 2].sample(n=629, random_state=42)\n",
    "\n",
    "# Concatenate the sampled dataframes\n",
    "sampled_df = pd.concat([sample_class_1, sample_class_2, sample_class_3])\n",
    "\n",
    "# Shuffle the dataframe\n",
    "sampled_df = sampled_df.sample(frac=1, random_state=42)\n",
    "\n",
    "# Drop the sampled rows from the original DataFrame to get the remaining rows\n",
    "remaining_data = df5.drop(sampled_df.index)"
   ]
  },
  {
   "cell_type": "code",
   "execution_count": 7,
   "id": "e21e556c",
   "metadata": {},
   "outputs": [
    {
     "data": {
      "text/plain": [
       "(1789, 2603)"
      ]
     },
     "execution_count": 7,
     "metadata": {},
     "output_type": "execute_result"
    }
   ],
   "source": [
    "len(sampled_df), len(remaining_data)"
   ]
  },
  {
   "cell_type": "code",
   "execution_count": 9,
   "id": "3c4fc865",
   "metadata": {},
   "outputs": [],
   "source": [
    "sampled_df.to_json('/home/ravi/raviProject/DATA/Annotate/LabelV4/V4_Labeled_1789_sampled.json', orient='records')\n",
    "remaining_data.to_json('/home/ravi/raviProject/DATA/Annotate/LabelV4/V4_Labeled_2603_remaining.json', orient='records')"
   ]
  },
  {
   "cell_type": "code",
   "execution_count": 10,
   "id": "762f8e68",
   "metadata": {},
   "outputs": [],
   "source": [
    "sampled_df.to_json('/home/ravi/raviProject/DATA/Annotate/iterData/iter4_Labeled_1789_sampled.json', orient='records')"
   ]
  },
  {
   "cell_type": "code",
   "execution_count": null,
   "id": "59247030",
   "metadata": {},
   "outputs": [],
   "source": []
  }
 ],
 "metadata": {
  "kernelspec": {
   "display_name": "base",
   "language": "python",
   "name": "python3"
  },
  "language_info": {
   "codemirror_mode": {
    "name": "ipython",
    "version": 3
   },
   "file_extension": ".py",
   "mimetype": "text/x-python",
   "name": "python",
   "nbconvert_exporter": "python",
   "pygments_lexer": "ipython3",
   "version": "3.10.4"
  }
 },
 "nbformat": 4,
 "nbformat_minor": 5
}
