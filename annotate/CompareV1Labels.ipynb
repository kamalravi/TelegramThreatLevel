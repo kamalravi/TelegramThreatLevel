{
 "cells": [
  {
   "cell_type": "code",
   "execution_count": 1,
   "id": "4b295be7-c667-40bc-8f00-3aba590f0f3c",
   "metadata": {},
   "outputs": [],
   "source": [
    "import pandas as pd\n",
    "import glob\n",
    "import numpy as np\n",
    "import json\n",
    "import math\n",
    "from natsort import natsorted"
   ]
  },
  {
   "cell_type": "code",
   "execution_count": 3,
   "id": "e877d204-43e5-4d28-b25e-d3bc409f4c7f",
   "metadata": {},
   "outputs": [],
   "source": [
    "dataJ = pd.read_json(\"/home/ravi/raviProject/DATA/Annotate/LabelV1/jessica.json\", orient='records')\n",
    "dataM = pd.read_json(\"/home/ravi/raviProject/DATA/Annotate/LabelV1/matthew.json\", orient='records')"
   ]
  },
  {
   "cell_type": "code",
   "execution_count": 5,
   "id": "acbc1ad5",
   "metadata": {},
   "outputs": [
    {
     "data": {
      "text/plain": [
       "((9388, 8), (9388, 8))"
      ]
     },
     "execution_count": 5,
     "metadata": {},
     "output_type": "execute_result"
    }
   ],
   "source": [
    "dataJ.shape, dataM.shape"
   ]
  },
  {
   "cell_type": "code",
   "execution_count": 6,
   "id": "84b0cd44",
   "metadata": {},
   "outputs": [
    {
     "data": {
      "text/html": [
       "<div>\n",
       "<style scoped>\n",
       "    .dataframe tbody tr th:only-of-type {\n",
       "        vertical-align: middle;\n",
       "    }\n",
       "\n",
       "    .dataframe tbody tr th {\n",
       "        vertical-align: top;\n",
       "    }\n",
       "\n",
       "    .dataframe thead th {\n",
       "        text-align: right;\n",
       "    }\n",
       "</style>\n",
       "<table border=\"1\" class=\"dataframe\">\n",
       "  <thead>\n",
       "    <tr style=\"text-align: right;\">\n",
       "      <th></th>\n",
       "      <th>id</th>\n",
       "      <th>text</th>\n",
       "      <th>msg</th>\n",
       "      <th>msgDate</th>\n",
       "      <th>replyDate</th>\n",
       "      <th>telegramChannel</th>\n",
       "      <th>label</th>\n",
       "      <th>Comments</th>\n",
       "    </tr>\n",
       "  </thead>\n",
       "  <tbody>\n",
       "    <tr>\n",
       "      <th>0</th>\n",
       "      <td>1</td>\n",
       "      <td>Kari is an amazing woman and fearless Patriot....</td>\n",
       "      <td>Now we know that Katie Hobbs is not only a rac...</td>\n",
       "      <td>1662174218</td>\n",
       "      <td>1662179098</td>\n",
       "      <td>ThePatriotVoice.json</td>\n",
       "      <td>[No threat]</td>\n",
       "      <td>[]</td>\n",
       "    </tr>\n",
       "    <tr>\n",
       "      <th>1</th>\n",
       "      <td>2</td>\n",
       "      <td>I already know all I need to know. He’s a murd...</td>\n",
       "      <td>🔴  Everything You Need to Know About Louisvill...</td>\n",
       "      <td>1681322431</td>\n",
       "      <td>1681331762</td>\n",
       "      <td>ResisttheMainstream.json</td>\n",
       "      <td>[Non-judicial threat]</td>\n",
       "      <td>[]</td>\n",
       "    </tr>\n",
       "    <tr>\n",
       "      <th>2</th>\n",
       "      <td>3</td>\n",
       "      <td>More unique than rare</td>\n",
       "      <td>W t f   B a s e d   M o s s a d   😳 😳 😳 😳</td>\n",
       "      <td>1665680944</td>\n",
       "      <td>1665681041</td>\n",
       "      <td>AnticapitalistSurrealism.json</td>\n",
       "      <td>[No threat]</td>\n",
       "      <td>[]</td>\n",
       "    </tr>\n",
       "    <tr>\n",
       "      <th>3</th>\n",
       "      <td>4</td>\n",
       "      <td>Glad they got justice 2 years after the electi...</td>\n",
       "      <td>🔴  Democrat Sentenced After Sabotaging Ballot ...</td>\n",
       "      <td>1682656816</td>\n",
       "      <td>1682688911</td>\n",
       "      <td>ResisttheMainstream.json</td>\n",
       "      <td>[Non-judicial threat]</td>\n",
       "      <td>[]</td>\n",
       "    </tr>\n",
       "    <tr>\n",
       "      <th>4</th>\n",
       "      <td>5</td>\n",
       "      <td>No, my problem is that for an Anarch you reek ...</td>\n",
       "      <td>T h e   p r o b l e m   i s   y o u   a s s u ...</td>\n",
       "      <td>1574727208</td>\n",
       "      <td>1574727239</td>\n",
       "      <td>UnitedAnarchists.json</td>\n",
       "      <td>[No threat]</td>\n",
       "      <td>[]</td>\n",
       "    </tr>\n",
       "  </tbody>\n",
       "</table>\n",
       "</div>"
      ],
      "text/plain": [
       "   id                                               text  \\\n",
       "0   1  Kari is an amazing woman and fearless Patriot....   \n",
       "1   2  I already know all I need to know. He’s a murd...   \n",
       "2   3                              More unique than rare   \n",
       "3   4  Glad they got justice 2 years after the electi...   \n",
       "4   5  No, my problem is that for an Anarch you reek ...   \n",
       "\n",
       "                                                 msg     msgDate   replyDate  \\\n",
       "0  Now we know that Katie Hobbs is not only a rac...  1662174218  1662179098   \n",
       "1  🔴  Everything You Need to Know About Louisvill...  1681322431  1681331762   \n",
       "2          W t f   B a s e d   M o s s a d   😳 😳 😳 😳  1665680944  1665681041   \n",
       "3  🔴  Democrat Sentenced After Sabotaging Ballot ...  1682656816  1682688911   \n",
       "4  T h e   p r o b l e m   i s   y o u   a s s u ...  1574727208  1574727239   \n",
       "\n",
       "                 telegramChannel                  label Comments  \n",
       "0           ThePatriotVoice.json            [No threat]       []  \n",
       "1       ResisttheMainstream.json  [Non-judicial threat]       []  \n",
       "2  AnticapitalistSurrealism.json            [No threat]       []  \n",
       "3       ResisttheMainstream.json  [Non-judicial threat]       []  \n",
       "4          UnitedAnarchists.json            [No threat]       []  "
      ]
     },
     "execution_count": 6,
     "metadata": {},
     "output_type": "execute_result"
    }
   ],
   "source": [
    "dataJ.head(5)"
   ]
  },
  {
   "cell_type": "code",
   "execution_count": 7,
   "id": "3e0685f8",
   "metadata": {},
   "outputs": [
    {
     "data": {
      "text/html": [
       "<div>\n",
       "<style scoped>\n",
       "    .dataframe tbody tr th:only-of-type {\n",
       "        vertical-align: middle;\n",
       "    }\n",
       "\n",
       "    .dataframe tbody tr th {\n",
       "        vertical-align: top;\n",
       "    }\n",
       "\n",
       "    .dataframe thead th {\n",
       "        text-align: right;\n",
       "    }\n",
       "</style>\n",
       "<table border=\"1\" class=\"dataframe\">\n",
       "  <thead>\n",
       "    <tr style=\"text-align: right;\">\n",
       "      <th></th>\n",
       "      <th>id</th>\n",
       "      <th>text</th>\n",
       "      <th>msg</th>\n",
       "      <th>msgDate</th>\n",
       "      <th>replyDate</th>\n",
       "      <th>telegramChannel</th>\n",
       "      <th>label</th>\n",
       "      <th>Comments</th>\n",
       "    </tr>\n",
       "  </thead>\n",
       "  <tbody>\n",
       "    <tr>\n",
       "      <th>0</th>\n",
       "      <td>1</td>\n",
       "      <td>Kari is an amazing woman and fearless Patriot....</td>\n",
       "      <td>Now we know that Katie Hobbs is not only a rac...</td>\n",
       "      <td>1662174218</td>\n",
       "      <td>1662179098</td>\n",
       "      <td>ThePatriotVoice.json</td>\n",
       "      <td>[No threat]</td>\n",
       "      <td>[]</td>\n",
       "    </tr>\n",
       "    <tr>\n",
       "      <th>1</th>\n",
       "      <td>2</td>\n",
       "      <td>I already know all I need to know. He’s a murd...</td>\n",
       "      <td>🔴  Everything You Need to Know About Louisvill...</td>\n",
       "      <td>1681322431</td>\n",
       "      <td>1681331762</td>\n",
       "      <td>ResisttheMainstream.json</td>\n",
       "      <td>[Ambiguous]</td>\n",
       "      <td>[]</td>\n",
       "    </tr>\n",
       "    <tr>\n",
       "      <th>2</th>\n",
       "      <td>3</td>\n",
       "      <td>More unique than rare</td>\n",
       "      <td>W t f   B a s e d   M o s s a d   😳 😳 😳 😳</td>\n",
       "      <td>1665680944</td>\n",
       "      <td>1665681041</td>\n",
       "      <td>AnticapitalistSurrealism.json</td>\n",
       "      <td>[No threat]</td>\n",
       "      <td>[]</td>\n",
       "    </tr>\n",
       "    <tr>\n",
       "      <th>3</th>\n",
       "      <td>4</td>\n",
       "      <td>Glad they got justice 2 years after the electi...</td>\n",
       "      <td>🔴  Democrat Sentenced After Sabotaging Ballot ...</td>\n",
       "      <td>1682656816</td>\n",
       "      <td>1682688911</td>\n",
       "      <td>ResisttheMainstream.json</td>\n",
       "      <td>[Non-judicial threat]</td>\n",
       "      <td>[]</td>\n",
       "    </tr>\n",
       "    <tr>\n",
       "      <th>4</th>\n",
       "      <td>5</td>\n",
       "      <td>No, my problem is that for an Anarch you reek ...</td>\n",
       "      <td>T h e   p r o b l e m   i s   y o u   a s s u ...</td>\n",
       "      <td>1574727208</td>\n",
       "      <td>1574727239</td>\n",
       "      <td>UnitedAnarchists.json</td>\n",
       "      <td>[Ambiguous]</td>\n",
       "      <td>[]</td>\n",
       "    </tr>\n",
       "  </tbody>\n",
       "</table>\n",
       "</div>"
      ],
      "text/plain": [
       "   id                                               text  \\\n",
       "0   1  Kari is an amazing woman and fearless Patriot....   \n",
       "1   2  I already know all I need to know. He’s a murd...   \n",
       "2   3                              More unique than rare   \n",
       "3   4  Glad they got justice 2 years after the electi...   \n",
       "4   5  No, my problem is that for an Anarch you reek ...   \n",
       "\n",
       "                                                 msg     msgDate   replyDate  \\\n",
       "0  Now we know that Katie Hobbs is not only a rac...  1662174218  1662179098   \n",
       "1  🔴  Everything You Need to Know About Louisvill...  1681322431  1681331762   \n",
       "2          W t f   B a s e d   M o s s a d   😳 😳 😳 😳  1665680944  1665681041   \n",
       "3  🔴  Democrat Sentenced After Sabotaging Ballot ...  1682656816  1682688911   \n",
       "4  T h e   p r o b l e m   i s   y o u   a s s u ...  1574727208  1574727239   \n",
       "\n",
       "                 telegramChannel                  label Comments  \n",
       "0           ThePatriotVoice.json            [No threat]       []  \n",
       "1       ResisttheMainstream.json            [Ambiguous]       []  \n",
       "2  AnticapitalistSurrealism.json            [No threat]       []  \n",
       "3       ResisttheMainstream.json  [Non-judicial threat]       []  \n",
       "4          UnitedAnarchists.json            [Ambiguous]       []  "
      ]
     },
     "execution_count": 7,
     "metadata": {},
     "output_type": "execute_result"
    }
   ],
   "source": [
    "dataM.head(5)"
   ]
  },
  {
   "cell_type": "code",
   "execution_count": 8,
   "id": "35602412",
   "metadata": {},
   "outputs": [
    {
     "data": {
      "text/html": [
       "<div>\n",
       "<style scoped>\n",
       "    .dataframe tbody tr th:only-of-type {\n",
       "        vertical-align: middle;\n",
       "    }\n",
       "\n",
       "    .dataframe tbody tr th {\n",
       "        vertical-align: top;\n",
       "    }\n",
       "\n",
       "    .dataframe thead th {\n",
       "        text-align: right;\n",
       "    }\n",
       "</style>\n",
       "<table border=\"1\" class=\"dataframe\">\n",
       "  <thead>\n",
       "    <tr style=\"text-align: right;\">\n",
       "      <th></th>\n",
       "      <th>id</th>\n",
       "      <th>text</th>\n",
       "      <th>msg</th>\n",
       "      <th>msgDate</th>\n",
       "      <th>replyDate</th>\n",
       "      <th>telegramChannel</th>\n",
       "      <th>label</th>\n",
       "      <th>Comments</th>\n",
       "    </tr>\n",
       "  </thead>\n",
       "  <tbody>\n",
       "    <tr>\n",
       "      <th>9383</th>\n",
       "      <td>9384</td>\n",
       "      <td>Sotomeyer and Kagan, in the mold of RBG, who i...</td>\n",
       "      <td>🔴  Justice Neil Gorsuch Goes Off After Colleag...</td>\n",
       "      <td>1688165865</td>\n",
       "      <td>1688224412</td>\n",
       "      <td>ResisttheMainstream.json</td>\n",
       "      <td>[No threat]</td>\n",
       "      <td>[]</td>\n",
       "    </tr>\n",
       "    <tr>\n",
       "      <th>9384</th>\n",
       "      <td>9385</td>\n",
       "      <td>They are misleading us. Read the article. Ther...</td>\n",
       "      <td>🔴 Pentagon Brings Decision on Vaccine Mandate ...</td>\n",
       "      <td>1673406427</td>\n",
       "      <td>1673439522</td>\n",
       "      <td>ResisttheMainstream.json</td>\n",
       "      <td>[No threat]</td>\n",
       "      <td>[]</td>\n",
       "    </tr>\n",
       "    <tr>\n",
       "      <th>9385</th>\n",
       "      <td>9386</td>\n",
       "      <td>HUNTER??? WTH.....</td>\n",
       "      <td>JUST IN: Biden Makes BIZARRE Comment About ‘Na...</td>\n",
       "      <td>1647476086</td>\n",
       "      <td>1647530716</td>\n",
       "      <td>TheTrumpRepublicans.json</td>\n",
       "      <td>[No threat]</td>\n",
       "      <td>[]</td>\n",
       "    </tr>\n",
       "    <tr>\n",
       "      <th>9386</th>\n",
       "      <td>9387</td>\n",
       "      <td>Has anyone heard of the antibody infusion ?</td>\n",
       "      <td>S e e   y o u   a l l   T O D A Y ! ! !   \\n \\...</td>\n",
       "      <td>1630768631</td>\n",
       "      <td>1630794396</td>\n",
       "      <td>COVIDVACCINEVICTIMS.json</td>\n",
       "      <td>[No threat]</td>\n",
       "      <td>[]</td>\n",
       "    </tr>\n",
       "    <tr>\n",
       "      <th>9387</th>\n",
       "      <td>9388</td>\n",
       "      <td>He fell 3xs just on the plane steps alone</td>\n",
       "      <td>It's not even funny anymore.</td>\n",
       "      <td>1685755278</td>\n",
       "      <td>1685764406</td>\n",
       "      <td>ResisttheMainstream.json</td>\n",
       "      <td>[No threat]</td>\n",
       "      <td>[]</td>\n",
       "    </tr>\n",
       "  </tbody>\n",
       "</table>\n",
       "</div>"
      ],
      "text/plain": [
       "        id                                               text  \\\n",
       "9383  9384  Sotomeyer and Kagan, in the mold of RBG, who i...   \n",
       "9384  9385  They are misleading us. Read the article. Ther...   \n",
       "9385  9386                                 HUNTER??? WTH.....   \n",
       "9386  9387        Has anyone heard of the antibody infusion ?   \n",
       "9387  9388          He fell 3xs just on the plane steps alone   \n",
       "\n",
       "                                                    msg     msgDate  \\\n",
       "9383  🔴  Justice Neil Gorsuch Goes Off After Colleag...  1688165865   \n",
       "9384  🔴 Pentagon Brings Decision on Vaccine Mandate ...  1673406427   \n",
       "9385  JUST IN: Biden Makes BIZARRE Comment About ‘Na...  1647476086   \n",
       "9386  S e e   y o u   a l l   T O D A Y ! ! !   \\n \\...  1630768631   \n",
       "9387                       It's not even funny anymore.  1685755278   \n",
       "\n",
       "       replyDate           telegramChannel        label Comments  \n",
       "9383  1688224412  ResisttheMainstream.json  [No threat]       []  \n",
       "9384  1673439522  ResisttheMainstream.json  [No threat]       []  \n",
       "9385  1647530716  TheTrumpRepublicans.json  [No threat]       []  \n",
       "9386  1630794396  COVIDVACCINEVICTIMS.json  [No threat]       []  \n",
       "9387  1685764406  ResisttheMainstream.json  [No threat]       []  "
      ]
     },
     "execution_count": 8,
     "metadata": {},
     "output_type": "execute_result"
    }
   ],
   "source": [
    "dataJ.tail(5)"
   ]
  },
  {
   "cell_type": "code",
   "execution_count": 9,
   "id": "9ecaac43",
   "metadata": {},
   "outputs": [
    {
     "data": {
      "text/html": [
       "<div>\n",
       "<style scoped>\n",
       "    .dataframe tbody tr th:only-of-type {\n",
       "        vertical-align: middle;\n",
       "    }\n",
       "\n",
       "    .dataframe tbody tr th {\n",
       "        vertical-align: top;\n",
       "    }\n",
       "\n",
       "    .dataframe thead th {\n",
       "        text-align: right;\n",
       "    }\n",
       "</style>\n",
       "<table border=\"1\" class=\"dataframe\">\n",
       "  <thead>\n",
       "    <tr style=\"text-align: right;\">\n",
       "      <th></th>\n",
       "      <th>id</th>\n",
       "      <th>text</th>\n",
       "      <th>msg</th>\n",
       "      <th>msgDate</th>\n",
       "      <th>replyDate</th>\n",
       "      <th>telegramChannel</th>\n",
       "      <th>label</th>\n",
       "      <th>Comments</th>\n",
       "    </tr>\n",
       "  </thead>\n",
       "  <tbody>\n",
       "    <tr>\n",
       "      <th>9383</th>\n",
       "      <td>9384</td>\n",
       "      <td>Sotomeyer and Kagan, in the mold of RBG, who i...</td>\n",
       "      <td>🔴  Justice Neil Gorsuch Goes Off After Colleag...</td>\n",
       "      <td>1688165865</td>\n",
       "      <td>1688224412</td>\n",
       "      <td>ResisttheMainstream.json</td>\n",
       "      <td>[No threat]</td>\n",
       "      <td>[]</td>\n",
       "    </tr>\n",
       "    <tr>\n",
       "      <th>9384</th>\n",
       "      <td>9385</td>\n",
       "      <td>They are misleading us. Read the article. Ther...</td>\n",
       "      <td>🔴 Pentagon Brings Decision on Vaccine Mandate ...</td>\n",
       "      <td>1673406427</td>\n",
       "      <td>1673439522</td>\n",
       "      <td>ResisttheMainstream.json</td>\n",
       "      <td>[No threat]</td>\n",
       "      <td>[]</td>\n",
       "    </tr>\n",
       "    <tr>\n",
       "      <th>9385</th>\n",
       "      <td>9386</td>\n",
       "      <td>HUNTER??? WTH.....</td>\n",
       "      <td>JUST IN: Biden Makes BIZARRE Comment About ‘Na...</td>\n",
       "      <td>1647476086</td>\n",
       "      <td>1647530716</td>\n",
       "      <td>TheTrumpRepublicans.json</td>\n",
       "      <td>[No threat]</td>\n",
       "      <td>[]</td>\n",
       "    </tr>\n",
       "    <tr>\n",
       "      <th>9386</th>\n",
       "      <td>9387</td>\n",
       "      <td>Has anyone heard of the antibody infusion ?</td>\n",
       "      <td>S e e   y o u   a l l   T O D A Y ! ! !   \\n \\...</td>\n",
       "      <td>1630768631</td>\n",
       "      <td>1630794396</td>\n",
       "      <td>COVIDVACCINEVICTIMS.json</td>\n",
       "      <td>[No threat]</td>\n",
       "      <td>[]</td>\n",
       "    </tr>\n",
       "    <tr>\n",
       "      <th>9387</th>\n",
       "      <td>9388</td>\n",
       "      <td>He fell 3xs just on the plane steps alone</td>\n",
       "      <td>It's not even funny anymore.</td>\n",
       "      <td>1685755278</td>\n",
       "      <td>1685764406</td>\n",
       "      <td>ResisttheMainstream.json</td>\n",
       "      <td>[No threat]</td>\n",
       "      <td>[]</td>\n",
       "    </tr>\n",
       "  </tbody>\n",
       "</table>\n",
       "</div>"
      ],
      "text/plain": [
       "        id                                               text  \\\n",
       "9383  9384  Sotomeyer and Kagan, in the mold of RBG, who i...   \n",
       "9384  9385  They are misleading us. Read the article. Ther...   \n",
       "9385  9386                                 HUNTER??? WTH.....   \n",
       "9386  9387        Has anyone heard of the antibody infusion ?   \n",
       "9387  9388          He fell 3xs just on the plane steps alone   \n",
       "\n",
       "                                                    msg     msgDate  \\\n",
       "9383  🔴  Justice Neil Gorsuch Goes Off After Colleag...  1688165865   \n",
       "9384  🔴 Pentagon Brings Decision on Vaccine Mandate ...  1673406427   \n",
       "9385  JUST IN: Biden Makes BIZARRE Comment About ‘Na...  1647476086   \n",
       "9386  S e e   y o u   a l l   T O D A Y ! ! !   \\n \\...  1630768631   \n",
       "9387                       It's not even funny anymore.  1685755278   \n",
       "\n",
       "       replyDate           telegramChannel        label Comments  \n",
       "9383  1688224412  ResisttheMainstream.json  [No threat]       []  \n",
       "9384  1673439522  ResisttheMainstream.json  [No threat]       []  \n",
       "9385  1647530716  TheTrumpRepublicans.json  [No threat]       []  \n",
       "9386  1630794396  COVIDVACCINEVICTIMS.json  [No threat]       []  \n",
       "9387  1685764406  ResisttheMainstream.json  [No threat]       []  "
      ]
     },
     "execution_count": 9,
     "metadata": {},
     "output_type": "execute_result"
    }
   ],
   "source": [
    "dataM.tail(5)"
   ]
  },
  {
   "cell_type": "code",
   "execution_count": 47,
   "id": "5e20590b",
   "metadata": {},
   "outputs": [],
   "source": [
    "df = dataM.copy()\n",
    "df = df.drop(columns=['label'])\n",
    "df = df.drop(columns=['Comments'])\n",
    "df['LabelM'] = dataM['label']\n",
    "df['LabelM'] = dataM['label'].astype(str)\n",
    "df['LabelJ'] = dataJ['label'].astype(str)"
   ]
  },
  {
   "cell_type": "code",
   "execution_count": 48,
   "id": "64ec34ba",
   "metadata": {},
   "outputs": [],
   "source": [
    "df['LabelM'] = df['LabelM'].replace(\"['No threat']\", 1)\n",
    "df['LabelM'] = df['LabelM'].replace(\"['Ambiguous']\", 2)\n",
    "df['LabelM'] = df['LabelM'].replace(\"['Judicial threat']\", 3)\n",
    "df['LabelM'] = df['LabelM'].replace(\"['Non-judicial threat']\", 4)\n",
    "\n",
    "df['LabelJ'] = df['LabelJ'].replace(\"['No threat']\", 1)\n",
    "df['LabelJ'] = df['LabelJ'].replace(\"['Ambiguous']\", 2)\n",
    "df['LabelJ'] = df['LabelJ'].replace(\"['Judicial threat']\", 3)\n",
    "df['LabelJ'] = df['LabelJ'].replace(\"['Non-judicial threat']\", 4)"
   ]
  },
  {
   "cell_type": "code",
   "execution_count": 49,
   "id": "4ba2603a",
   "metadata": {},
   "outputs": [
    {
     "data": {
      "text/html": [
       "<div>\n",
       "<style scoped>\n",
       "    .dataframe tbody tr th:only-of-type {\n",
       "        vertical-align: middle;\n",
       "    }\n",
       "\n",
       "    .dataframe tbody tr th {\n",
       "        vertical-align: top;\n",
       "    }\n",
       "\n",
       "    .dataframe thead th {\n",
       "        text-align: right;\n",
       "    }\n",
       "</style>\n",
       "<table border=\"1\" class=\"dataframe\">\n",
       "  <thead>\n",
       "    <tr style=\"text-align: right;\">\n",
       "      <th></th>\n",
       "      <th>id</th>\n",
       "      <th>text</th>\n",
       "      <th>msg</th>\n",
       "      <th>msgDate</th>\n",
       "      <th>replyDate</th>\n",
       "      <th>telegramChannel</th>\n",
       "      <th>LabelM</th>\n",
       "      <th>LabelJ</th>\n",
       "    </tr>\n",
       "  </thead>\n",
       "  <tbody>\n",
       "    <tr>\n",
       "      <th>0</th>\n",
       "      <td>1</td>\n",
       "      <td>Kari is an amazing woman and fearless Patriot....</td>\n",
       "      <td>Now we know that Katie Hobbs is not only a rac...</td>\n",
       "      <td>1662174218</td>\n",
       "      <td>1662179098</td>\n",
       "      <td>ThePatriotVoice.json</td>\n",
       "      <td>1</td>\n",
       "      <td>1</td>\n",
       "    </tr>\n",
       "    <tr>\n",
       "      <th>1</th>\n",
       "      <td>2</td>\n",
       "      <td>I already know all I need to know. He’s a murd...</td>\n",
       "      <td>🔴  Everything You Need to Know About Louisvill...</td>\n",
       "      <td>1681322431</td>\n",
       "      <td>1681331762</td>\n",
       "      <td>ResisttheMainstream.json</td>\n",
       "      <td>2</td>\n",
       "      <td>4</td>\n",
       "    </tr>\n",
       "    <tr>\n",
       "      <th>2</th>\n",
       "      <td>3</td>\n",
       "      <td>More unique than rare</td>\n",
       "      <td>W t f   B a s e d   M o s s a d   😳 😳 😳 😳</td>\n",
       "      <td>1665680944</td>\n",
       "      <td>1665681041</td>\n",
       "      <td>AnticapitalistSurrealism.json</td>\n",
       "      <td>1</td>\n",
       "      <td>1</td>\n",
       "    </tr>\n",
       "    <tr>\n",
       "      <th>3</th>\n",
       "      <td>4</td>\n",
       "      <td>Glad they got justice 2 years after the electi...</td>\n",
       "      <td>🔴  Democrat Sentenced After Sabotaging Ballot ...</td>\n",
       "      <td>1682656816</td>\n",
       "      <td>1682688911</td>\n",
       "      <td>ResisttheMainstream.json</td>\n",
       "      <td>4</td>\n",
       "      <td>4</td>\n",
       "    </tr>\n",
       "    <tr>\n",
       "      <th>4</th>\n",
       "      <td>5</td>\n",
       "      <td>No, my problem is that for an Anarch you reek ...</td>\n",
       "      <td>T h e   p r o b l e m   i s   y o u   a s s u ...</td>\n",
       "      <td>1574727208</td>\n",
       "      <td>1574727239</td>\n",
       "      <td>UnitedAnarchists.json</td>\n",
       "      <td>2</td>\n",
       "      <td>1</td>\n",
       "    </tr>\n",
       "  </tbody>\n",
       "</table>\n",
       "</div>"
      ],
      "text/plain": [
       "   id                                               text  \\\n",
       "0   1  Kari is an amazing woman and fearless Patriot....   \n",
       "1   2  I already know all I need to know. He’s a murd...   \n",
       "2   3                              More unique than rare   \n",
       "3   4  Glad they got justice 2 years after the electi...   \n",
       "4   5  No, my problem is that for an Anarch you reek ...   \n",
       "\n",
       "                                                 msg     msgDate   replyDate  \\\n",
       "0  Now we know that Katie Hobbs is not only a rac...  1662174218  1662179098   \n",
       "1  🔴  Everything You Need to Know About Louisvill...  1681322431  1681331762   \n",
       "2          W t f   B a s e d   M o s s a d   😳 😳 😳 😳  1665680944  1665681041   \n",
       "3  🔴  Democrat Sentenced After Sabotaging Ballot ...  1682656816  1682688911   \n",
       "4  T h e   p r o b l e m   i s   y o u   a s s u ...  1574727208  1574727239   \n",
       "\n",
       "                 telegramChannel LabelM LabelJ  \n",
       "0           ThePatriotVoice.json      1      1  \n",
       "1       ResisttheMainstream.json      2      4  \n",
       "2  AnticapitalistSurrealism.json      1      1  \n",
       "3       ResisttheMainstream.json      4      4  \n",
       "4          UnitedAnarchists.json      2      1  "
      ]
     },
     "execution_count": 49,
     "metadata": {},
     "output_type": "execute_result"
    }
   ],
   "source": [
    "df.head(5)"
   ]
  },
  {
   "cell_type": "code",
   "execution_count": 50,
   "id": "43b0d77c",
   "metadata": {},
   "outputs": [],
   "source": [
    "df = df[pd.to_numeric(df['LabelM'], errors='coerce').notna()]\n",
    "df = df[pd.to_numeric(df['LabelJ'], errors='coerce').notna()]\n"
   ]
  },
  {
   "cell_type": "code",
   "execution_count": 51,
   "id": "727b6850",
   "metadata": {},
   "outputs": [
    {
     "data": {
      "text/plain": [
       "array([1, 2, 4, 3], dtype=object)"
      ]
     },
     "execution_count": 51,
     "metadata": {},
     "output_type": "execute_result"
    }
   ],
   "source": [
    "df['LabelM'].unique()"
   ]
  },
  {
   "cell_type": "code",
   "execution_count": 52,
   "id": "c857aff9",
   "metadata": {},
   "outputs": [
    {
     "data": {
      "text/plain": [
       "array([1, 4, 2, 3], dtype=object)"
      ]
     },
     "execution_count": 52,
     "metadata": {},
     "output_type": "execute_result"
    }
   ],
   "source": [
    "df['LabelJ'].unique()"
   ]
  },
  {
   "cell_type": "code",
   "execution_count": 54,
   "id": "9336a278",
   "metadata": {},
   "outputs": [],
   "source": [
    "df['comparison_MJ'] = df['LabelM'].eq(df['LabelJ'])"
   ]
  },
  {
   "cell_type": "code",
   "execution_count": 55,
   "id": "efecd5fe",
   "metadata": {},
   "outputs": [
    {
     "data": {
      "text/plain": [
       "(9073, 9)"
      ]
     },
     "execution_count": 55,
     "metadata": {},
     "output_type": "execute_result"
    }
   ],
   "source": [
    "df.shape"
   ]
  },
  {
   "cell_type": "code",
   "execution_count": 56,
   "id": "a5d120e6",
   "metadata": {},
   "outputs": [
    {
     "data": {
      "text/html": [
       "<div>\n",
       "<style scoped>\n",
       "    .dataframe tbody tr th:only-of-type {\n",
       "        vertical-align: middle;\n",
       "    }\n",
       "\n",
       "    .dataframe tbody tr th {\n",
       "        vertical-align: top;\n",
       "    }\n",
       "\n",
       "    .dataframe thead th {\n",
       "        text-align: right;\n",
       "    }\n",
       "</style>\n",
       "<table border=\"1\" class=\"dataframe\">\n",
       "  <thead>\n",
       "    <tr style=\"text-align: right;\">\n",
       "      <th></th>\n",
       "      <th>id</th>\n",
       "      <th>text</th>\n",
       "      <th>msg</th>\n",
       "      <th>msgDate</th>\n",
       "      <th>replyDate</th>\n",
       "      <th>telegramChannel</th>\n",
       "      <th>LabelM</th>\n",
       "      <th>LabelJ</th>\n",
       "      <th>comparison_MJ</th>\n",
       "    </tr>\n",
       "  </thead>\n",
       "  <tbody>\n",
       "    <tr>\n",
       "      <th>0</th>\n",
       "      <td>1</td>\n",
       "      <td>Kari is an amazing woman and fearless Patriot....</td>\n",
       "      <td>Now we know that Katie Hobbs is not only a rac...</td>\n",
       "      <td>1662174218</td>\n",
       "      <td>1662179098</td>\n",
       "      <td>ThePatriotVoice.json</td>\n",
       "      <td>1</td>\n",
       "      <td>1</td>\n",
       "      <td>True</td>\n",
       "    </tr>\n",
       "    <tr>\n",
       "      <th>1</th>\n",
       "      <td>2</td>\n",
       "      <td>I already know all I need to know. He’s a murd...</td>\n",
       "      <td>🔴  Everything You Need to Know About Louisvill...</td>\n",
       "      <td>1681322431</td>\n",
       "      <td>1681331762</td>\n",
       "      <td>ResisttheMainstream.json</td>\n",
       "      <td>2</td>\n",
       "      <td>4</td>\n",
       "      <td>False</td>\n",
       "    </tr>\n",
       "    <tr>\n",
       "      <th>2</th>\n",
       "      <td>3</td>\n",
       "      <td>More unique than rare</td>\n",
       "      <td>W t f   B a s e d   M o s s a d   😳 😳 😳 😳</td>\n",
       "      <td>1665680944</td>\n",
       "      <td>1665681041</td>\n",
       "      <td>AnticapitalistSurrealism.json</td>\n",
       "      <td>1</td>\n",
       "      <td>1</td>\n",
       "      <td>True</td>\n",
       "    </tr>\n",
       "    <tr>\n",
       "      <th>3</th>\n",
       "      <td>4</td>\n",
       "      <td>Glad they got justice 2 years after the electi...</td>\n",
       "      <td>🔴  Democrat Sentenced After Sabotaging Ballot ...</td>\n",
       "      <td>1682656816</td>\n",
       "      <td>1682688911</td>\n",
       "      <td>ResisttheMainstream.json</td>\n",
       "      <td>4</td>\n",
       "      <td>4</td>\n",
       "      <td>True</td>\n",
       "    </tr>\n",
       "    <tr>\n",
       "      <th>4</th>\n",
       "      <td>5</td>\n",
       "      <td>No, my problem is that for an Anarch you reek ...</td>\n",
       "      <td>T h e   p r o b l e m   i s   y o u   a s s u ...</td>\n",
       "      <td>1574727208</td>\n",
       "      <td>1574727239</td>\n",
       "      <td>UnitedAnarchists.json</td>\n",
       "      <td>2</td>\n",
       "      <td>1</td>\n",
       "      <td>False</td>\n",
       "    </tr>\n",
       "  </tbody>\n",
       "</table>\n",
       "</div>"
      ],
      "text/plain": [
       "   id                                               text  \\\n",
       "0   1  Kari is an amazing woman and fearless Patriot....   \n",
       "1   2  I already know all I need to know. He’s a murd...   \n",
       "2   3                              More unique than rare   \n",
       "3   4  Glad they got justice 2 years after the electi...   \n",
       "4   5  No, my problem is that for an Anarch you reek ...   \n",
       "\n",
       "                                                 msg     msgDate   replyDate  \\\n",
       "0  Now we know that Katie Hobbs is not only a rac...  1662174218  1662179098   \n",
       "1  🔴  Everything You Need to Know About Louisvill...  1681322431  1681331762   \n",
       "2          W t f   B a s e d   M o s s a d   😳 😳 😳 😳  1665680944  1665681041   \n",
       "3  🔴  Democrat Sentenced After Sabotaging Ballot ...  1682656816  1682688911   \n",
       "4  T h e   p r o b l e m   i s   y o u   a s s u ...  1574727208  1574727239   \n",
       "\n",
       "                 telegramChannel LabelM LabelJ  comparison_MJ  \n",
       "0           ThePatriotVoice.json      1      1           True  \n",
       "1       ResisttheMainstream.json      2      4          False  \n",
       "2  AnticapitalistSurrealism.json      1      1           True  \n",
       "3       ResisttheMainstream.json      4      4           True  \n",
       "4          UnitedAnarchists.json      2      1          False  "
      ]
     },
     "execution_count": 56,
     "metadata": {},
     "output_type": "execute_result"
    }
   ],
   "source": [
    "df.head(5)"
   ]
  },
  {
   "cell_type": "code",
   "execution_count": 57,
   "id": "c381a89b",
   "metadata": {},
   "outputs": [],
   "source": [
    "dfNotEqual=df[df['comparison_MJ']==False]"
   ]
  },
  {
   "cell_type": "code",
   "execution_count": 58,
   "id": "9b0eba2f",
   "metadata": {},
   "outputs": [
    {
     "data": {
      "text/plain": [
       "(907, 9)"
      ]
     },
     "execution_count": 58,
     "metadata": {},
     "output_type": "execute_result"
    }
   ],
   "source": [
    "dfNotEqual.shape"
   ]
  },
  {
   "cell_type": "code",
   "execution_count": 59,
   "id": "b39d27c5",
   "metadata": {},
   "outputs": [
    {
     "data": {
      "text/html": [
       "<div>\n",
       "<style scoped>\n",
       "    .dataframe tbody tr th:only-of-type {\n",
       "        vertical-align: middle;\n",
       "    }\n",
       "\n",
       "    .dataframe tbody tr th {\n",
       "        vertical-align: top;\n",
       "    }\n",
       "\n",
       "    .dataframe thead th {\n",
       "        text-align: right;\n",
       "    }\n",
       "</style>\n",
       "<table border=\"1\" class=\"dataframe\">\n",
       "  <thead>\n",
       "    <tr style=\"text-align: right;\">\n",
       "      <th></th>\n",
       "      <th>id</th>\n",
       "      <th>text</th>\n",
       "      <th>msg</th>\n",
       "      <th>msgDate</th>\n",
       "      <th>replyDate</th>\n",
       "      <th>telegramChannel</th>\n",
       "      <th>LabelM</th>\n",
       "      <th>LabelJ</th>\n",
       "      <th>comparison_MJ</th>\n",
       "    </tr>\n",
       "  </thead>\n",
       "  <tbody>\n",
       "    <tr>\n",
       "      <th>1</th>\n",
       "      <td>2</td>\n",
       "      <td>I already know all I need to know. He’s a murd...</td>\n",
       "      <td>🔴  Everything You Need to Know About Louisvill...</td>\n",
       "      <td>1681322431</td>\n",
       "      <td>1681331762</td>\n",
       "      <td>ResisttheMainstream.json</td>\n",
       "      <td>2</td>\n",
       "      <td>4</td>\n",
       "      <td>False</td>\n",
       "    </tr>\n",
       "    <tr>\n",
       "      <th>4</th>\n",
       "      <td>5</td>\n",
       "      <td>No, my problem is that for an Anarch you reek ...</td>\n",
       "      <td>T h e   p r o b l e m   i s   y o u   a s s u ...</td>\n",
       "      <td>1574727208</td>\n",
       "      <td>1574727239</td>\n",
       "      <td>UnitedAnarchists.json</td>\n",
       "      <td>2</td>\n",
       "      <td>1</td>\n",
       "      <td>False</td>\n",
       "    </tr>\n",
       "    <tr>\n",
       "      <th>6</th>\n",
       "      <td>7</td>\n",
       "      <td>We have,  it's called generational welfare.</td>\n",
       "      <td>🔴  Councilwoman Says White-Owned Businesses Sh...</td>\n",
       "      <td>1683400821</td>\n",
       "      <td>1683500694</td>\n",
       "      <td>ResisttheMainstream.json</td>\n",
       "      <td>1</td>\n",
       "      <td>2</td>\n",
       "      <td>False</td>\n",
       "    </tr>\n",
       "    <tr>\n",
       "      <th>22</th>\n",
       "      <td>23</td>\n",
       "      <td>If that was any other regular citizen their as...</td>\n",
       "      <td>Cuomo sexually harassed multiple women in viol...</td>\n",
       "      <td>1628014815</td>\n",
       "      <td>1628022183</td>\n",
       "      <td>TheTrumpRepublicans.json</td>\n",
       "      <td>3</td>\n",
       "      <td>4</td>\n",
       "      <td>False</td>\n",
       "    </tr>\n",
       "    <tr>\n",
       "      <th>26</th>\n",
       "      <td>27</td>\n",
       "      <td>ive done this</td>\n",
       "      <td>J u s t   s n a p p i n g   i t   i n   h a l ...</td>\n",
       "      <td>1671754364</td>\n",
       "      <td>1671754417</td>\n",
       "      <td>RiotDogs.json</td>\n",
       "      <td>1</td>\n",
       "      <td>2</td>\n",
       "      <td>False</td>\n",
       "    </tr>\n",
       "  </tbody>\n",
       "</table>\n",
       "</div>"
      ],
      "text/plain": [
       "    id                                               text  \\\n",
       "1    2  I already know all I need to know. He’s a murd...   \n",
       "4    5  No, my problem is that for an Anarch you reek ...   \n",
       "6    7        We have,  it's called generational welfare.   \n",
       "22  23  If that was any other regular citizen their as...   \n",
       "26  27                                      ive done this   \n",
       "\n",
       "                                                  msg     msgDate   replyDate  \\\n",
       "1   🔴  Everything You Need to Know About Louisvill...  1681322431  1681331762   \n",
       "4   T h e   p r o b l e m   i s   y o u   a s s u ...  1574727208  1574727239   \n",
       "6   🔴  Councilwoman Says White-Owned Businesses Sh...  1683400821  1683500694   \n",
       "22  Cuomo sexually harassed multiple women in viol...  1628014815  1628022183   \n",
       "26  J u s t   s n a p p i n g   i t   i n   h a l ...  1671754364  1671754417   \n",
       "\n",
       "             telegramChannel LabelM LabelJ  comparison_MJ  \n",
       "1   ResisttheMainstream.json      2      4          False  \n",
       "4      UnitedAnarchists.json      2      1          False  \n",
       "6   ResisttheMainstream.json      1      2          False  \n",
       "22  TheTrumpRepublicans.json      3      4          False  \n",
       "26             RiotDogs.json      1      2          False  "
      ]
     },
     "execution_count": 59,
     "metadata": {},
     "output_type": "execute_result"
    }
   ],
   "source": [
    "dfNotEqual.head(5)"
   ]
  },
  {
   "cell_type": "code",
   "execution_count": 67,
   "id": "94e1908d",
   "metadata": {},
   "outputs": [],
   "source": [
    "dfNotEqual34=dfNotEqual.copy()\n",
    "\n",
    "# Define the values to check for\n",
    "value1 = 3\n",
    "value2 = 4\n",
    "\n",
    "# Create a boolean mask based on the conditions\n",
    "mask = ((dfNotEqual34['LabelM'] == value1) | (dfNotEqual34['LabelM'] == value2)) & ~((dfNotEqual34['LabelJ'] == value1) | (dfNotEqual34['LabelJ'] == value2))\n",
    "\n",
    "# Filter the DataFrame using the mask\n",
    "dfNotEqual34 = dfNotEqual34[mask]"
   ]
  },
  {
   "cell_type": "code",
   "execution_count": 68,
   "id": "7ac0b69c",
   "metadata": {},
   "outputs": [
    {
     "data": {
      "text/plain": [
       "(98, 9)"
      ]
     },
     "execution_count": 68,
     "metadata": {},
     "output_type": "execute_result"
    }
   ],
   "source": [
    "dfNotEqual34.shape"
   ]
  },
  {
   "cell_type": "code",
   "execution_count": 69,
   "id": "44638430",
   "metadata": {},
   "outputs": [
    {
     "data": {
      "text/html": [
       "<div>\n",
       "<style scoped>\n",
       "    .dataframe tbody tr th:only-of-type {\n",
       "        vertical-align: middle;\n",
       "    }\n",
       "\n",
       "    .dataframe tbody tr th {\n",
       "        vertical-align: top;\n",
       "    }\n",
       "\n",
       "    .dataframe thead th {\n",
       "        text-align: right;\n",
       "    }\n",
       "</style>\n",
       "<table border=\"1\" class=\"dataframe\">\n",
       "  <thead>\n",
       "    <tr style=\"text-align: right;\">\n",
       "      <th></th>\n",
       "      <th>id</th>\n",
       "      <th>text</th>\n",
       "      <th>msg</th>\n",
       "      <th>msgDate</th>\n",
       "      <th>replyDate</th>\n",
       "      <th>telegramChannel</th>\n",
       "      <th>LabelM</th>\n",
       "      <th>LabelJ</th>\n",
       "      <th>comparison_MJ</th>\n",
       "    </tr>\n",
       "  </thead>\n",
       "  <tbody>\n",
       "    <tr>\n",
       "      <th>238</th>\n",
       "      <td>239</td>\n",
       "      <td>No actually Biden is just plugging along. Noti...</td>\n",
       "      <td></td>\n",
       "      <td>1690230030</td>\n",
       "      <td>1690230166</td>\n",
       "      <td>DonaldTrumpJr.json</td>\n",
       "      <td>3</td>\n",
       "      <td>2</td>\n",
       "      <td>False</td>\n",
       "    </tr>\n",
       "    <tr>\n",
       "      <th>280</th>\n",
       "      <td>281</td>\n",
       "      <td>More of the same.  I can’t believe that there’...</td>\n",
       "      <td>🔴  Arizona Supreme Court Issues Order on Kari ...</td>\n",
       "      <td>1683327729</td>\n",
       "      <td>1683328694</td>\n",
       "      <td>ResisttheMainstream.json</td>\n",
       "      <td>4</td>\n",
       "      <td>2</td>\n",
       "      <td>False</td>\n",
       "    </tr>\n",
       "    <tr>\n",
       "      <th>381</th>\n",
       "      <td>382</td>\n",
       "      <td>Prison time</td>\n",
       "      <td>Did you see this?\\n</td>\n",
       "      <td>1639775966</td>\n",
       "      <td>1639776452</td>\n",
       "      <td>AnalyzingAmerica.json</td>\n",
       "      <td>3</td>\n",
       "      <td>1</td>\n",
       "      <td>False</td>\n",
       "    </tr>\n",
       "    <tr>\n",
       "      <th>416</th>\n",
       "      <td>417</td>\n",
       "      <td>We no longer have a govt by the people for the...</td>\n",
       "      <td>🔴  John Fetterman Baffles Social Media Users W...</td>\n",
       "      <td>1695268921</td>\n",
       "      <td>1695295636</td>\n",
       "      <td>ResisttheMainstream.json</td>\n",
       "      <td>4</td>\n",
       "      <td>2</td>\n",
       "      <td>False</td>\n",
       "    </tr>\n",
       "    <tr>\n",
       "      <th>937</th>\n",
       "      <td>938</td>\n",
       "      <td>No deals! They should all hang. 👿👹</td>\n",
       "      <td>🔴  Socialite Mom Arrested in Child Porn Sting ...</td>\n",
       "      <td>1682359329</td>\n",
       "      <td>1682504732</td>\n",
       "      <td>ResisttheMainstream.json</td>\n",
       "      <td>4</td>\n",
       "      <td>1</td>\n",
       "      <td>False</td>\n",
       "    </tr>\n",
       "  </tbody>\n",
       "</table>\n",
       "</div>"
      ],
      "text/plain": [
       "      id                                               text  \\\n",
       "238  239  No actually Biden is just plugging along. Noti...   \n",
       "280  281  More of the same.  I can’t believe that there’...   \n",
       "381  382                                        Prison time   \n",
       "416  417  We no longer have a govt by the people for the...   \n",
       "937  938                 No deals! They should all hang. 👿👹   \n",
       "\n",
       "                                                   msg     msgDate  \\\n",
       "238                                                     1690230030   \n",
       "280  🔴  Arizona Supreme Court Issues Order on Kari ...  1683327729   \n",
       "381                               Did you see this?\\n   1639775966   \n",
       "416  🔴  John Fetterman Baffles Social Media Users W...  1695268921   \n",
       "937  🔴  Socialite Mom Arrested in Child Porn Sting ...  1682359329   \n",
       "\n",
       "      replyDate           telegramChannel LabelM LabelJ  comparison_MJ  \n",
       "238  1690230166        DonaldTrumpJr.json      3      2          False  \n",
       "280  1683328694  ResisttheMainstream.json      4      2          False  \n",
       "381  1639776452     AnalyzingAmerica.json      3      1          False  \n",
       "416  1695295636  ResisttheMainstream.json      4      2          False  \n",
       "937  1682504732  ResisttheMainstream.json      4      1          False  "
      ]
     },
     "execution_count": 69,
     "metadata": {},
     "output_type": "execute_result"
    }
   ],
   "source": [
    "dfNotEqual34.head(5)"
   ]
  },
  {
   "cell_type": "code",
   "execution_count": 75,
   "id": "369f9da5",
   "metadata": {},
   "outputs": [],
   "source": [
    "df3Label=df.copy()\n",
    "\n",
    "df3Label['LabelM'] = df3Label['LabelM'].replace(2, 1)\n",
    "df3Label['LabelM'] = df3Label['LabelM'].replace(3, 2)\n",
    "df3Label['LabelM'] = df3Label['LabelM'].replace(4, 3)\n",
    "\n",
    "df3Label['LabelJ'] = df3Label['LabelJ'].replace(2, 1)\n",
    "df3Label['LabelJ'] = df3Label['LabelJ'].replace(3, 2)\n",
    "df3Label['LabelJ'] = df3Label['LabelJ'].replace(4, 3)"
   ]
  },
  {
   "cell_type": "code",
   "execution_count": 84,
   "id": "3c5d0316",
   "metadata": {},
   "outputs": [],
   "source": [
    "df3LabelM = df3Label.copy()\n",
    "# Filter rows with values 2 and 3 in column 'A'\n",
    "filtered_df = df3LabelM[df3LabelM['LabelM'].isin([2, 3])]\n",
    "# Sample 200 rows where column 'A' has value 1\n",
    "sampled_rows = df3LabelM[df3LabelM['LabelM'] == 1].sample(n=200, replace=True)\n",
    "# Concatenate the filtered rows and sampled rows\n",
    "df3LabelMSampled = pd.concat([filtered_df, sampled_rows])"
   ]
  },
  {
   "cell_type": "code",
   "execution_count": 93,
   "id": "0da95577",
   "metadata": {},
   "outputs": [
    {
     "data": {
      "text/plain": [
       "((487, 9),\n",
       " LabelM\n",
       " 1    200\n",
       " 3    172\n",
       " 2    115\n",
       " Name: count, dtype: int64)"
      ]
     },
     "execution_count": 93,
     "metadata": {},
     "output_type": "execute_result"
    }
   ],
   "source": [
    "df3LabelMSampled.shape, df3LabelMSampled['LabelM'].value_counts()"
   ]
  },
  {
   "cell_type": "code",
   "execution_count": 82,
   "id": "be6e37e5",
   "metadata": {},
   "outputs": [
    {
     "name": "stdout",
     "output_type": "stream",
     "text": [
      "8673\n"
     ]
    }
   ],
   "source": [
    "# Define the values to check for in each column\n",
    "value1_col_A = 1\n",
    "value2_col_B = 1\n",
    "\n",
    "# Create a boolean mask based on conditions\n",
    "mask = (df3Label['LabelM'] == value1_col_A) & (df3Label['LabelJ'] == value2_col_B)\n",
    "\n",
    "# Count the number of rows satisfying the conditions\n",
    "count = mask.sum()\n",
    "print(count)"
   ]
  },
  {
   "cell_type": "code",
   "execution_count": 94,
   "id": "b2980a42",
   "metadata": {},
   "outputs": [],
   "source": [
    "df3LabelMSampled.to_json('/home/ravi/raviProject/DATA/Annotate/LabelV1/df3LabelMSampled_V1.json', orient='records')"
   ]
  },
  {
   "cell_type": "code",
   "execution_count": 77,
   "id": "2df68389",
   "metadata": {},
   "outputs": [],
   "source": [
    "df3Label.to_json('/home/ravi/raviProject/DATA/Annotate/LabelV1/df3Label_V1.json', orient='records')"
   ]
  },
  {
   "cell_type": "code",
   "execution_count": 70,
   "id": "ebe94377",
   "metadata": {},
   "outputs": [],
   "source": [
    "dfNotEqual34.to_csv('/home/ravi/raviProject/DATA/Annotate/LabelV1/dfNotEqual34_V1.csv')"
   ]
  },
  {
   "cell_type": "code",
   "execution_count": null,
   "id": "977a480c",
   "metadata": {},
   "outputs": [],
   "source": [
    "dfNotEqual.to_json('/home/ravi/raviProject/DATA/Annotate/LabelV1/dfNotEqual_V1.json', orient='records')"
   ]
  },
  {
   "cell_type": "code",
   "execution_count": 62,
   "id": "a5a135b2",
   "metadata": {},
   "outputs": [],
   "source": [
    "dfNotEqual.to_json('/home/ravi/raviProject/DATA/Annotate/LabelV1/dfNotEqual_V1.json', orient='records')"
   ]
  },
  {
   "cell_type": "code",
   "execution_count": 61,
   "id": "1e996b28",
   "metadata": {},
   "outputs": [],
   "source": [
    "df.to_csv('/home/ravi/raviProject/DATA/Annotate/LabelV1/Labeled_V1.csv')"
   ]
  },
  {
   "cell_type": "code",
   "execution_count": 6,
   "id": "17221fbf",
   "metadata": {},
   "outputs": [],
   "source": [
    "sampled_df = df.sample(n=10000, replace=False, random_state=42)"
   ]
  },
  {
   "cell_type": "code",
   "execution_count": 7,
   "id": "167ce426",
   "metadata": {},
   "outputs": [
    {
     "data": {
      "text/plain": [
       "(10000, 5)"
      ]
     },
     "execution_count": 7,
     "metadata": {},
     "output_type": "execute_result"
    }
   ],
   "source": [
    "sampled_df.shape"
   ]
  },
  {
   "cell_type": "code",
   "execution_count": 1,
   "id": "72cb2bc3",
   "metadata": {},
   "outputs": [
    {
     "ename": "NameError",
     "evalue": "name 'sampled_df' is not defined",
     "output_type": "error",
     "traceback": [
      "\u001b[0;31m---------------------------------------------------------------------------\u001b[0m",
      "\u001b[0;31mNameError\u001b[0m                                 Traceback (most recent call last)",
      "Cell \u001b[0;32mIn[1], line 1\u001b[0m\n\u001b[0;32m----> 1\u001b[0m sampled_df\u001b[38;5;241m.\u001b[39mhead(\u001b[38;5;241m5\u001b[39m)\n",
      "\u001b[0;31mNameError\u001b[0m: name 'sampled_df' is not defined"
     ]
    }
   ],
   "source": [
    "sampled_df.head(5)"
   ]
  },
  {
   "cell_type": "code",
   "execution_count": 8,
   "id": "25d9ffe9-b72c-4883-8188-0dd7a938ef74",
   "metadata": {},
   "outputs": [],
   "source": [
    "sampled_df.to_json('/home/ravi/raviProject/DATA/Annotate/sampled_V1.json', orient='records')"
   ]
  },
  {
   "cell_type": "code",
   "execution_count": 4,
   "id": "7c9abc8b",
   "metadata": {},
   "outputs": [],
   "source": [
    "# sampled_df=pd.read_json('/home/ravi/raviProject/DATA/Annotate/sampled_V1.json', orient='records')\n",
    "# # Save DataFrame as JSONL (JSON Lines)\n",
    "# with open('/home/ravi/raviProject/DATA/Annotate/sampled_V1.jsonl', 'w') as f:\n",
    "#     sampled_df.to_json(f, orient='records', lines=True)"
   ]
  },
  {
   "cell_type": "code",
   "execution_count": 10,
   "id": "074700db",
   "metadata": {},
   "outputs": [],
   "source": [
    "remaining_df = df.drop(sampled_df.index)"
   ]
  },
  {
   "cell_type": "code",
   "execution_count": 11,
   "id": "092d9595",
   "metadata": {},
   "outputs": [
    {
     "data": {
      "text/plain": [
       "(2291110, 5)"
      ]
     },
     "execution_count": 11,
     "metadata": {},
     "output_type": "execute_result"
    }
   ],
   "source": [
    "remaining_df.shape"
   ]
  },
  {
   "cell_type": "code",
   "execution_count": 12,
   "id": "08a118db",
   "metadata": {},
   "outputs": [],
   "source": [
    "remaining_df.to_json('/home/ravi/raviProject/DATA/Annotate/remaining_V1.json', orient='records')"
   ]
  },
  {
   "cell_type": "code",
   "execution_count": 14,
   "id": "a82917f7",
   "metadata": {},
   "outputs": [
    {
     "data": {
      "text/html": [
       "<div>\n",
       "<style scoped>\n",
       "    .dataframe tbody tr th:only-of-type {\n",
       "        vertical-align: middle;\n",
       "    }\n",
       "\n",
       "    .dataframe tbody tr th {\n",
       "        vertical-align: top;\n",
       "    }\n",
       "\n",
       "    .dataframe thead th {\n",
       "        text-align: right;\n",
       "    }\n",
       "</style>\n",
       "<table border=\"1\" class=\"dataframe\">\n",
       "  <thead>\n",
       "    <tr style=\"text-align: right;\">\n",
       "      <th></th>\n",
       "      <th>msgDate</th>\n",
       "      <th>msg</th>\n",
       "      <th>replyDate</th>\n",
       "      <th>reply</th>\n",
       "      <th>telegramChannel</th>\n",
       "    </tr>\n",
       "  </thead>\n",
       "  <tbody>\n",
       "    <tr>\n",
       "      <th>0</th>\n",
       "      <td>1611529552</td>\n",
       "      <td>Leftist Eviro. Plan For Total Planetary Serfdo...</td>\n",
       "      <td>1611532985</td>\n",
       "      <td>Keep on keepin’ on. May the Trinity, the Fathe...</td>\n",
       "      <td>AlexJones.json</td>\n",
       "    </tr>\n",
       "    <tr>\n",
       "      <th>1</th>\n",
       "      <td>1611529552</td>\n",
       "      <td>Leftist Eviro. Plan For Total Planetary Serfdo...</td>\n",
       "      <td>1611538372</td>\n",
       "      <td>They are really messing with the signal right ...</td>\n",
       "      <td>AlexJones.json</td>\n",
       "    </tr>\n",
       "    <tr>\n",
       "      <th>2</th>\n",
       "      <td>1611529552</td>\n",
       "      <td>Leftist Eviro. Plan For Total Planetary Serfdo...</td>\n",
       "      <td>1611540892</td>\n",
       "      <td></td>\n",
       "      <td>AlexJones.json</td>\n",
       "    </tr>\n",
       "    <tr>\n",
       "      <th>3</th>\n",
       "      <td>1611529552</td>\n",
       "      <td>Leftist Eviro. Plan For Total Planetary Serfdo...</td>\n",
       "      <td>1611541436</td>\n",
       "      <td>Wow comments are on.</td>\n",
       "      <td>AlexJones.json</td>\n",
       "    </tr>\n",
       "    <tr>\n",
       "      <th>4</th>\n",
       "      <td>1611529552</td>\n",
       "      <td>Leftist Eviro. Plan For Total Planetary Serfdo...</td>\n",
       "      <td>1611542543</td>\n",
       "      <td>The other day when I called in and spoke with ...</td>\n",
       "      <td>AlexJones.json</td>\n",
       "    </tr>\n",
       "  </tbody>\n",
       "</table>\n",
       "</div>"
      ],
      "text/plain": [
       "      msgDate                                                msg   replyDate  \\\n",
       "0  1611529552  Leftist Eviro. Plan For Total Planetary Serfdo...  1611532985   \n",
       "1  1611529552  Leftist Eviro. Plan For Total Planetary Serfdo...  1611538372   \n",
       "2  1611529552  Leftist Eviro. Plan For Total Planetary Serfdo...  1611540892   \n",
       "3  1611529552  Leftist Eviro. Plan For Total Planetary Serfdo...  1611541436   \n",
       "4  1611529552  Leftist Eviro. Plan For Total Planetary Serfdo...  1611542543   \n",
       "\n",
       "                                               reply telegramChannel  \n",
       "0  Keep on keepin’ on. May the Trinity, the Fathe...  AlexJones.json  \n",
       "1  They are really messing with the signal right ...  AlexJones.json  \n",
       "2                                                     AlexJones.json  \n",
       "3                               Wow comments are on.  AlexJones.json  \n",
       "4  The other day when I called in and spoke with ...  AlexJones.json  "
      ]
     },
     "execution_count": 14,
     "metadata": {},
     "output_type": "execute_result"
    }
   ],
   "source": [
    "remaining_df.head(5)"
   ]
  },
  {
   "cell_type": "code",
   "execution_count": null,
   "id": "555739eb",
   "metadata": {},
   "outputs": [],
   "source": []
  },
  {
   "cell_type": "markdown",
   "id": "07bcc6ba",
   "metadata": {},
   "source": [
    "## IAA for V1 label"
   ]
  },
  {
   "cell_type": "code",
   "execution_count": 105,
   "id": "cb2423c1",
   "metadata": {},
   "outputs": [],
   "source": [
    "v1labeldf=pd.read_json('/home/ravi/raviProject/DATA/Annotate/LabelV1/ravi3label.json', orient='records')"
   ]
  },
  {
   "cell_type": "code",
   "execution_count": 106,
   "id": "c66482ee",
   "metadata": {},
   "outputs": [
    {
     "data": {
      "text/html": [
       "<div>\n",
       "<style scoped>\n",
       "    .dataframe tbody tr th:only-of-type {\n",
       "        vertical-align: middle;\n",
       "    }\n",
       "\n",
       "    .dataframe tbody tr th {\n",
       "        vertical-align: top;\n",
       "    }\n",
       "\n",
       "    .dataframe thead th {\n",
       "        text-align: right;\n",
       "    }\n",
       "</style>\n",
       "<table border=\"1\" class=\"dataframe\">\n",
       "  <thead>\n",
       "    <tr style=\"text-align: right;\">\n",
       "      <th></th>\n",
       "      <th>id</th>\n",
       "      <th>text</th>\n",
       "      <th>msg</th>\n",
       "      <th>LabelJ</th>\n",
       "      <th>LabelM</th>\n",
       "      <th>msgDate</th>\n",
       "      <th>replyDate</th>\n",
       "      <th>comparison_MJ</th>\n",
       "      <th>telegramChannel</th>\n",
       "      <th>label</th>\n",
       "      <th>Comments</th>\n",
       "    </tr>\n",
       "  </thead>\n",
       "  <tbody>\n",
       "    <tr>\n",
       "      <th>0</th>\n",
       "      <td>4</td>\n",
       "      <td>Glad they got justice 2 years after the electi...</td>\n",
       "      <td>🔴  Democrat Sentenced After Sabotaging Ballot ...</td>\n",
       "      <td>3</td>\n",
       "      <td>3</td>\n",
       "      <td>1682656816</td>\n",
       "      <td>1682688911</td>\n",
       "      <td>True</td>\n",
       "      <td>ResisttheMainstream.json</td>\n",
       "      <td>[Non-judicial threat]</td>\n",
       "      <td>[]</td>\n",
       "    </tr>\n",
       "    <tr>\n",
       "      <th>1</th>\n",
       "      <td>8</td>\n",
       "      <td>Horrible!!!! I would beat their asses!!</td>\n",
       "      <td>🔴  Day Care Workers Who Scared Children With T...</td>\n",
       "      <td>3</td>\n",
       "      <td>3</td>\n",
       "      <td>1666317730</td>\n",
       "      <td>1666319270</td>\n",
       "      <td>True</td>\n",
       "      <td>ResisttheMainstream.json</td>\n",
       "      <td>[Non-judicial threat]</td>\n",
       "      <td>[]</td>\n",
       "    </tr>\n",
       "    <tr>\n",
       "      <th>2</th>\n",
       "      <td>23</td>\n",
       "      <td>If that was any other regular citizen their as...</td>\n",
       "      <td>Cuomo sexually harassed multiple women in viol...</td>\n",
       "      <td>3</td>\n",
       "      <td>2</td>\n",
       "      <td>1628014815</td>\n",
       "      <td>1628022183</td>\n",
       "      <td>False</td>\n",
       "      <td>TheTrumpRepublicans.json</td>\n",
       "      <td>[Judicial threat]</td>\n",
       "      <td>[]</td>\n",
       "    </tr>\n",
       "    <tr>\n",
       "      <th>3</th>\n",
       "      <td>41</td>\n",
       "      <td>She needs to strike that big fat mouth</td>\n",
       "      <td>This would be another win for Republicans.\\n</td>\n",
       "      <td>3</td>\n",
       "      <td>3</td>\n",
       "      <td>1651779040</td>\n",
       "      <td>1651806800</td>\n",
       "      <td>True</td>\n",
       "      <td>AnalyzingAmerica.json</td>\n",
       "      <td>[No threat / Ambiguous]</td>\n",
       "      <td>[]</td>\n",
       "    </tr>\n",
       "    <tr>\n",
       "      <th>4</th>\n",
       "      <td>42</td>\n",
       "      <td>Try pel-ass-ki for treasonous actions against ...</td>\n",
       "      <td>Indeed!\\n</td>\n",
       "      <td>3</td>\n",
       "      <td>3</td>\n",
       "      <td>1628072553</td>\n",
       "      <td>1628083309</td>\n",
       "      <td>True</td>\n",
       "      <td>AnalyzingAmerica.json</td>\n",
       "      <td>[Non-judicial threat]</td>\n",
       "      <td>[]</td>\n",
       "    </tr>\n",
       "  </tbody>\n",
       "</table>\n",
       "</div>"
      ],
      "text/plain": [
       "   id                                               text  \\\n",
       "0   4  Glad they got justice 2 years after the electi...   \n",
       "1   8            Horrible!!!! I would beat their asses!!   \n",
       "2  23  If that was any other regular citizen their as...   \n",
       "3  41             She needs to strike that big fat mouth   \n",
       "4  42  Try pel-ass-ki for treasonous actions against ...   \n",
       "\n",
       "                                                 msg  LabelJ  LabelM  \\\n",
       "0  🔴  Democrat Sentenced After Sabotaging Ballot ...       3       3   \n",
       "1  🔴  Day Care Workers Who Scared Children With T...       3       3   \n",
       "2  Cuomo sexually harassed multiple women in viol...       3       2   \n",
       "3      This would be another win for Republicans.\\n        3       3   \n",
       "4                                         Indeed!\\n        3       3   \n",
       "\n",
       "      msgDate   replyDate  comparison_MJ           telegramChannel  \\\n",
       "0  1682656816  1682688911           True  ResisttheMainstream.json   \n",
       "1  1666317730  1666319270           True  ResisttheMainstream.json   \n",
       "2  1628014815  1628022183          False  TheTrumpRepublicans.json   \n",
       "3  1651779040  1651806800           True     AnalyzingAmerica.json   \n",
       "4  1628072553  1628083309           True     AnalyzingAmerica.json   \n",
       "\n",
       "                     label Comments  \n",
       "0    [Non-judicial threat]       []  \n",
       "1    [Non-judicial threat]       []  \n",
       "2        [Judicial threat]       []  \n",
       "3  [No threat / Ambiguous]       []  \n",
       "4    [Non-judicial threat]       []  "
      ]
     },
     "execution_count": 106,
     "metadata": {},
     "output_type": "execute_result"
    }
   ],
   "source": [
    "v1labeldf.head(5)"
   ]
  },
  {
   "cell_type": "code",
   "execution_count": 107,
   "id": "17c5c18c",
   "metadata": {},
   "outputs": [],
   "source": [
    "v1labeldf['LabelR'] = v1labeldf['label'].astype(str)"
   ]
  },
  {
   "cell_type": "code",
   "execution_count": 108,
   "id": "c6363a1c",
   "metadata": {},
   "outputs": [],
   "source": [
    "v1labeldf['LabelR'] = v1labeldf['LabelR'].replace(\"['No threat / Ambiguous']\", 1)\n",
    "v1labeldf['LabelR'] = v1labeldf['LabelR'].replace(\"['Judicial threat']\", 2)\n",
    "v1labeldf['LabelR'] = v1labeldf['LabelR'].replace(\"['Non-judicial threat']\", 3)"
   ]
  },
  {
   "cell_type": "code",
   "execution_count": 109,
   "id": "0bd6eb94",
   "metadata": {},
   "outputs": [
    {
     "data": {
      "text/html": [
       "<div>\n",
       "<style scoped>\n",
       "    .dataframe tbody tr th:only-of-type {\n",
       "        vertical-align: middle;\n",
       "    }\n",
       "\n",
       "    .dataframe tbody tr th {\n",
       "        vertical-align: top;\n",
       "    }\n",
       "\n",
       "    .dataframe thead th {\n",
       "        text-align: right;\n",
       "    }\n",
       "</style>\n",
       "<table border=\"1\" class=\"dataframe\">\n",
       "  <thead>\n",
       "    <tr style=\"text-align: right;\">\n",
       "      <th></th>\n",
       "      <th>id</th>\n",
       "      <th>text</th>\n",
       "      <th>msg</th>\n",
       "      <th>LabelJ</th>\n",
       "      <th>LabelM</th>\n",
       "      <th>msgDate</th>\n",
       "      <th>replyDate</th>\n",
       "      <th>comparison_MJ</th>\n",
       "      <th>telegramChannel</th>\n",
       "      <th>label</th>\n",
       "      <th>Comments</th>\n",
       "      <th>LabelR</th>\n",
       "    </tr>\n",
       "  </thead>\n",
       "  <tbody>\n",
       "    <tr>\n",
       "      <th>0</th>\n",
       "      <td>4</td>\n",
       "      <td>Glad they got justice 2 years after the electi...</td>\n",
       "      <td>🔴  Democrat Sentenced After Sabotaging Ballot ...</td>\n",
       "      <td>3</td>\n",
       "      <td>3</td>\n",
       "      <td>1682656816</td>\n",
       "      <td>1682688911</td>\n",
       "      <td>True</td>\n",
       "      <td>ResisttheMainstream.json</td>\n",
       "      <td>[Non-judicial threat]</td>\n",
       "      <td>[]</td>\n",
       "      <td>3</td>\n",
       "    </tr>\n",
       "    <tr>\n",
       "      <th>1</th>\n",
       "      <td>8</td>\n",
       "      <td>Horrible!!!! I would beat their asses!!</td>\n",
       "      <td>🔴  Day Care Workers Who Scared Children With T...</td>\n",
       "      <td>3</td>\n",
       "      <td>3</td>\n",
       "      <td>1666317730</td>\n",
       "      <td>1666319270</td>\n",
       "      <td>True</td>\n",
       "      <td>ResisttheMainstream.json</td>\n",
       "      <td>[Non-judicial threat]</td>\n",
       "      <td>[]</td>\n",
       "      <td>3</td>\n",
       "    </tr>\n",
       "    <tr>\n",
       "      <th>2</th>\n",
       "      <td>23</td>\n",
       "      <td>If that was any other regular citizen their as...</td>\n",
       "      <td>Cuomo sexually harassed multiple women in viol...</td>\n",
       "      <td>3</td>\n",
       "      <td>2</td>\n",
       "      <td>1628014815</td>\n",
       "      <td>1628022183</td>\n",
       "      <td>False</td>\n",
       "      <td>TheTrumpRepublicans.json</td>\n",
       "      <td>[Judicial threat]</td>\n",
       "      <td>[]</td>\n",
       "      <td>2</td>\n",
       "    </tr>\n",
       "    <tr>\n",
       "      <th>3</th>\n",
       "      <td>41</td>\n",
       "      <td>She needs to strike that big fat mouth</td>\n",
       "      <td>This would be another win for Republicans.\\n</td>\n",
       "      <td>3</td>\n",
       "      <td>3</td>\n",
       "      <td>1651779040</td>\n",
       "      <td>1651806800</td>\n",
       "      <td>True</td>\n",
       "      <td>AnalyzingAmerica.json</td>\n",
       "      <td>[No threat / Ambiguous]</td>\n",
       "      <td>[]</td>\n",
       "      <td>1</td>\n",
       "    </tr>\n",
       "    <tr>\n",
       "      <th>4</th>\n",
       "      <td>42</td>\n",
       "      <td>Try pel-ass-ki for treasonous actions against ...</td>\n",
       "      <td>Indeed!\\n</td>\n",
       "      <td>3</td>\n",
       "      <td>3</td>\n",
       "      <td>1628072553</td>\n",
       "      <td>1628083309</td>\n",
       "      <td>True</td>\n",
       "      <td>AnalyzingAmerica.json</td>\n",
       "      <td>[Non-judicial threat]</td>\n",
       "      <td>[]</td>\n",
       "      <td>3</td>\n",
       "    </tr>\n",
       "  </tbody>\n",
       "</table>\n",
       "</div>"
      ],
      "text/plain": [
       "   id                                               text  \\\n",
       "0   4  Glad they got justice 2 years after the electi...   \n",
       "1   8            Horrible!!!! I would beat their asses!!   \n",
       "2  23  If that was any other regular citizen their as...   \n",
       "3  41             She needs to strike that big fat mouth   \n",
       "4  42  Try pel-ass-ki for treasonous actions against ...   \n",
       "\n",
       "                                                 msg  LabelJ  LabelM  \\\n",
       "0  🔴  Democrat Sentenced After Sabotaging Ballot ...       3       3   \n",
       "1  🔴  Day Care Workers Who Scared Children With T...       3       3   \n",
       "2  Cuomo sexually harassed multiple women in viol...       3       2   \n",
       "3      This would be another win for Republicans.\\n        3       3   \n",
       "4                                         Indeed!\\n        3       3   \n",
       "\n",
       "      msgDate   replyDate  comparison_MJ           telegramChannel  \\\n",
       "0  1682656816  1682688911           True  ResisttheMainstream.json   \n",
       "1  1666317730  1666319270           True  ResisttheMainstream.json   \n",
       "2  1628014815  1628022183          False  TheTrumpRepublicans.json   \n",
       "3  1651779040  1651806800           True     AnalyzingAmerica.json   \n",
       "4  1628072553  1628083309           True     AnalyzingAmerica.json   \n",
       "\n",
       "                     label Comments  LabelR  \n",
       "0    [Non-judicial threat]       []       3  \n",
       "1    [Non-judicial threat]       []       3  \n",
       "2        [Judicial threat]       []       2  \n",
       "3  [No threat / Ambiguous]       []       1  \n",
       "4    [Non-judicial threat]       []       3  "
      ]
     },
     "execution_count": 109,
     "metadata": {},
     "output_type": "execute_result"
    }
   ],
   "source": [
    "v1labeldf.head(5)"
   ]
  },
  {
   "cell_type": "code",
   "execution_count": 111,
   "id": "c5981697",
   "metadata": {},
   "outputs": [],
   "source": [
    "from sklearn.metrics import cohen_kappa_score"
   ]
  },
  {
   "cell_type": "code",
   "execution_count": 112,
   "id": "71238163",
   "metadata": {},
   "outputs": [],
   "source": [
    "kappa = cohen_kappa_score(v1labeldf['LabelR'], v1labeldf['LabelM'])"
   ]
  },
  {
   "cell_type": "code",
   "execution_count": 113,
   "id": "29744204",
   "metadata": {},
   "outputs": [
    {
     "data": {
      "text/plain": [
       "0.8890898798175465"
      ]
     },
     "execution_count": 113,
     "metadata": {},
     "output_type": "execute_result"
    }
   ],
   "source": [
    "kappa"
   ]
  },
  {
   "cell_type": "code",
   "execution_count": 114,
   "id": "1b3969c6",
   "metadata": {},
   "outputs": [],
   "source": [
    "v1labeldf.to_csv('/home/ravi/raviProject/DATA/Annotate/LabelV1/v1labeldf_V1.csv')"
   ]
  },
  {
   "cell_type": "code",
   "execution_count": 115,
   "id": "e79418dd",
   "metadata": {},
   "outputs": [],
   "source": [
    "subsetAgreeV1 = v1labeldf[v1labeldf['LabelR'] == v1labeldf['LabelM']]\n"
   ]
  },
  {
   "cell_type": "code",
   "execution_count": 116,
   "id": "874a5119",
   "metadata": {},
   "outputs": [
    {
     "data": {
      "text/plain": [
       "LabelR\n",
       "1    191\n",
       "3    153\n",
       "2    108\n",
       "Name: count, dtype: int64"
      ]
     },
     "execution_count": 116,
     "metadata": {},
     "output_type": "execute_result"
    }
   ],
   "source": [
    "subsetAgreeV1['LabelR'].value_counts()"
   ]
  },
  {
   "cell_type": "code",
   "execution_count": null,
   "id": "54bb8641",
   "metadata": {},
   "outputs": [],
   "source": []
  }
 ],
 "metadata": {
  "kernelspec": {
   "display_name": "base",
   "language": "python",
   "name": "python3"
  },
  "language_info": {
   "codemirror_mode": {
    "name": "ipython",
    "version": 3
   },
   "file_extension": ".py",
   "mimetype": "text/x-python",
   "name": "python",
   "nbconvert_exporter": "python",
   "pygments_lexer": "ipython3",
   "version": "3.11.5"
  }
 },
 "nbformat": 4,
 "nbformat_minor": 5
}
