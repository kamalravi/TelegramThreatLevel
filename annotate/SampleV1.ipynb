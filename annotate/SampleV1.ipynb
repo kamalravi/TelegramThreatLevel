{
 "cells": [
  {
   "cell_type": "code",
   "execution_count": 1,
   "id": "4b295be7-c667-40bc-8f00-3aba590f0f3c",
   "metadata": {},
   "outputs": [],
   "source": [
    "import pandas as pd\n",
    "import glob\n",
    "import numpy as np\n",
    "import json\n",
    "import math\n",
    "from natsort import natsorted"
   ]
  },
  {
   "cell_type": "code",
   "execution_count": 2,
   "id": "e877d204-43e5-4d28-b25e-d3bc409f4c7f",
   "metadata": {},
   "outputs": [],
   "source": [
    "data = pd.read_json(\"/home/ravi/raviProject/DATA/allChatsRepliesCombinedFilteredUrlNaN.json\", orient='records')"
   ]
  },
  {
   "cell_type": "code",
   "execution_count": 3,
   "id": "acbc1ad5",
   "metadata": {},
   "outputs": [
    {
     "data": {
      "text/plain": [
       "(2301110, 5)"
      ]
     },
     "execution_count": 3,
     "metadata": {},
     "output_type": "execute_result"
    }
   ],
   "source": [
    "data.shape"
   ]
  },
  {
   "cell_type": "code",
   "execution_count": 4,
   "id": "84b0cd44",
   "metadata": {},
   "outputs": [
    {
     "data": {
      "text/html": [
       "<div>\n",
       "<style scoped>\n",
       "    .dataframe tbody tr th:only-of-type {\n",
       "        vertical-align: middle;\n",
       "    }\n",
       "\n",
       "    .dataframe tbody tr th {\n",
       "        vertical-align: top;\n",
       "    }\n",
       "\n",
       "    .dataframe thead th {\n",
       "        text-align: right;\n",
       "    }\n",
       "</style>\n",
       "<table border=\"1\" class=\"dataframe\">\n",
       "  <thead>\n",
       "    <tr style=\"text-align: right;\">\n",
       "      <th></th>\n",
       "      <th>msgDate</th>\n",
       "      <th>msg</th>\n",
       "      <th>replyDate</th>\n",
       "      <th>reply</th>\n",
       "      <th>telegramChannel</th>\n",
       "    </tr>\n",
       "  </thead>\n",
       "  <tbody>\n",
       "    <tr>\n",
       "      <th>0</th>\n",
       "      <td>1611529552</td>\n",
       "      <td>Leftist Eviro. Plan For Total Planetary Serfdo...</td>\n",
       "      <td>1611532985</td>\n",
       "      <td>Keep on keepin’ on. May the Trinity, the Fathe...</td>\n",
       "      <td>AlexJones.json</td>\n",
       "    </tr>\n",
       "    <tr>\n",
       "      <th>1</th>\n",
       "      <td>1611529552</td>\n",
       "      <td>Leftist Eviro. Plan For Total Planetary Serfdo...</td>\n",
       "      <td>1611538372</td>\n",
       "      <td>They are really messing with the signal right ...</td>\n",
       "      <td>AlexJones.json</td>\n",
       "    </tr>\n",
       "    <tr>\n",
       "      <th>2</th>\n",
       "      <td>1611529552</td>\n",
       "      <td>Leftist Eviro. Plan For Total Planetary Serfdo...</td>\n",
       "      <td>1611540892</td>\n",
       "      <td></td>\n",
       "      <td>AlexJones.json</td>\n",
       "    </tr>\n",
       "    <tr>\n",
       "      <th>3</th>\n",
       "      <td>1611529552</td>\n",
       "      <td>Leftist Eviro. Plan For Total Planetary Serfdo...</td>\n",
       "      <td>1611541436</td>\n",
       "      <td>Wow comments are on.</td>\n",
       "      <td>AlexJones.json</td>\n",
       "    </tr>\n",
       "    <tr>\n",
       "      <th>4</th>\n",
       "      <td>1611529552</td>\n",
       "      <td>Leftist Eviro. Plan For Total Planetary Serfdo...</td>\n",
       "      <td>1611542543</td>\n",
       "      <td>The other day when I called in and spoke with ...</td>\n",
       "      <td>AlexJones.json</td>\n",
       "    </tr>\n",
       "  </tbody>\n",
       "</table>\n",
       "</div>"
      ],
      "text/plain": [
       "      msgDate                                                msg   replyDate  \\\n",
       "0  1611529552  Leftist Eviro. Plan For Total Planetary Serfdo...  1611532985   \n",
       "1  1611529552  Leftist Eviro. Plan For Total Planetary Serfdo...  1611538372   \n",
       "2  1611529552  Leftist Eviro. Plan For Total Planetary Serfdo...  1611540892   \n",
       "3  1611529552  Leftist Eviro. Plan For Total Planetary Serfdo...  1611541436   \n",
       "4  1611529552  Leftist Eviro. Plan For Total Planetary Serfdo...  1611542543   \n",
       "\n",
       "                                               reply telegramChannel  \n",
       "0  Keep on keepin’ on. May the Trinity, the Fathe...  AlexJones.json  \n",
       "1  They are really messing with the signal right ...  AlexJones.json  \n",
       "2                                                     AlexJones.json  \n",
       "3                               Wow comments are on.  AlexJones.json  \n",
       "4  The other day when I called in and spoke with ...  AlexJones.json  "
      ]
     },
     "execution_count": 4,
     "metadata": {},
     "output_type": "execute_result"
    }
   ],
   "source": [
    "data.head(5)"
   ]
  },
  {
   "cell_type": "code",
   "execution_count": 5,
   "id": "5e20590b",
   "metadata": {},
   "outputs": [],
   "source": [
    "df = data.copy()"
   ]
  },
  {
   "cell_type": "code",
   "execution_count": 6,
   "id": "17221fbf",
   "metadata": {},
   "outputs": [],
   "source": [
    "sampled_df = df.sample(n=10000, replace=False, random_state=42)"
   ]
  },
  {
   "cell_type": "code",
   "execution_count": 7,
   "id": "167ce426",
   "metadata": {},
   "outputs": [
    {
     "data": {
      "text/plain": [
       "(10000, 5)"
      ]
     },
     "execution_count": 7,
     "metadata": {},
     "output_type": "execute_result"
    }
   ],
   "source": [
    "sampled_df.shape"
   ]
  },
  {
   "cell_type": "code",
   "execution_count": 13,
   "id": "72cb2bc3",
   "metadata": {},
   "outputs": [
    {
     "data": {
      "text/html": [
       "<div>\n",
       "<style scoped>\n",
       "    .dataframe tbody tr th:only-of-type {\n",
       "        vertical-align: middle;\n",
       "    }\n",
       "\n",
       "    .dataframe tbody tr th {\n",
       "        vertical-align: top;\n",
       "    }\n",
       "\n",
       "    .dataframe thead th {\n",
       "        text-align: right;\n",
       "    }\n",
       "</style>\n",
       "<table border=\"1\" class=\"dataframe\">\n",
       "  <thead>\n",
       "    <tr style=\"text-align: right;\">\n",
       "      <th></th>\n",
       "      <th>msgDate</th>\n",
       "      <th>msg</th>\n",
       "      <th>replyDate</th>\n",
       "      <th>reply</th>\n",
       "      <th>telegramChannel</th>\n",
       "    </tr>\n",
       "  </thead>\n",
       "  <tbody>\n",
       "    <tr>\n",
       "      <th>1828046</th>\n",
       "      <td>1662174218</td>\n",
       "      <td>Now we know that Katie Hobbs is not only a rac...</td>\n",
       "      <td>1662179098</td>\n",
       "      <td>Kari is an amazing woman and fearless Patriot....</td>\n",
       "      <td>ThePatriotVoice.json</td>\n",
       "    </tr>\n",
       "    <tr>\n",
       "      <th>1374528</th>\n",
       "      <td>1681322431</td>\n",
       "      <td>🔴  Everything You Need to Know About Louisvill...</td>\n",
       "      <td>1681331762</td>\n",
       "      <td>I already know all I need to know. He’s a murd...</td>\n",
       "      <td>ResisttheMainstream.json</td>\n",
       "    </tr>\n",
       "    <tr>\n",
       "      <th>365041</th>\n",
       "      <td>1665680944</td>\n",
       "      <td>W t f   B a s e d   M o s s a d   😳 😳 😳 😳</td>\n",
       "      <td>1665681041</td>\n",
       "      <td>More unique than rare</td>\n",
       "      <td>AnticapitalistSurrealism.json</td>\n",
       "    </tr>\n",
       "    <tr>\n",
       "      <th>1392964</th>\n",
       "      <td>1682656816</td>\n",
       "      <td>🔴  Democrat Sentenced After Sabotaging Ballot ...</td>\n",
       "      <td>1682688911</td>\n",
       "      <td>Glad they got justice 2 years after the electi...</td>\n",
       "      <td>ResisttheMainstream.json</td>\n",
       "    </tr>\n",
       "    <tr>\n",
       "      <th>2241763</th>\n",
       "      <td>1574727208</td>\n",
       "      <td>T h e   p r o b l e m   i s   y o u   a s s u ...</td>\n",
       "      <td>1574727239</td>\n",
       "      <td>No, my problem is that for an Anarch you reek ...</td>\n",
       "      <td>UnitedAnarchists.json</td>\n",
       "    </tr>\n",
       "  </tbody>\n",
       "</table>\n",
       "</div>"
      ],
      "text/plain": [
       "            msgDate                                                msg  \\\n",
       "1828046  1662174218  Now we know that Katie Hobbs is not only a rac...   \n",
       "1374528  1681322431  🔴  Everything You Need to Know About Louisvill...   \n",
       "365041   1665680944          W t f   B a s e d   M o s s a d   😳 😳 😳 😳   \n",
       "1392964  1682656816  🔴  Democrat Sentenced After Sabotaging Ballot ...   \n",
       "2241763  1574727208  T h e   p r o b l e m   i s   y o u   a s s u ...   \n",
       "\n",
       "          replyDate                                              reply  \\\n",
       "1828046  1662179098  Kari is an amazing woman and fearless Patriot....   \n",
       "1374528  1681331762  I already know all I need to know. He’s a murd...   \n",
       "365041   1665681041                              More unique than rare   \n",
       "1392964  1682688911  Glad they got justice 2 years after the electi...   \n",
       "2241763  1574727239  No, my problem is that for an Anarch you reek ...   \n",
       "\n",
       "                       telegramChannel  \n",
       "1828046           ThePatriotVoice.json  \n",
       "1374528       ResisttheMainstream.json  \n",
       "365041   AnticapitalistSurrealism.json  \n",
       "1392964       ResisttheMainstream.json  \n",
       "2241763          UnitedAnarchists.json  "
      ]
     },
     "execution_count": 13,
     "metadata": {},
     "output_type": "execute_result"
    }
   ],
   "source": [
    "sampled_df.head(5)"
   ]
  },
  {
   "cell_type": "code",
   "execution_count": 8,
   "id": "25d9ffe9-b72c-4883-8188-0dd7a938ef74",
   "metadata": {},
   "outputs": [],
   "source": [
    "sampled_df.to_json('/home/ravi/raviProject/DATA/Annotate/sampled_V1.json', orient='records')"
   ]
  },
  {
   "cell_type": "code",
   "execution_count": 10,
   "id": "074700db",
   "metadata": {},
   "outputs": [],
   "source": [
    "remaining_df = df.drop(sampled_df.index)"
   ]
  },
  {
   "cell_type": "code",
   "execution_count": 11,
   "id": "092d9595",
   "metadata": {},
   "outputs": [
    {
     "data": {
      "text/plain": [
       "(2291110, 5)"
      ]
     },
     "execution_count": 11,
     "metadata": {},
     "output_type": "execute_result"
    }
   ],
   "source": [
    "remaining_df.shape"
   ]
  },
  {
   "cell_type": "code",
   "execution_count": 12,
   "id": "08a118db",
   "metadata": {},
   "outputs": [],
   "source": [
    "remaining_df.to_json('/home/ravi/raviProject/DATA/Annotate/remaining_V1.json', orient='records')"
   ]
  },
  {
   "cell_type": "code",
   "execution_count": 14,
   "id": "a82917f7",
   "metadata": {},
   "outputs": [
    {
     "data": {
      "text/html": [
       "<div>\n",
       "<style scoped>\n",
       "    .dataframe tbody tr th:only-of-type {\n",
       "        vertical-align: middle;\n",
       "    }\n",
       "\n",
       "    .dataframe tbody tr th {\n",
       "        vertical-align: top;\n",
       "    }\n",
       "\n",
       "    .dataframe thead th {\n",
       "        text-align: right;\n",
       "    }\n",
       "</style>\n",
       "<table border=\"1\" class=\"dataframe\">\n",
       "  <thead>\n",
       "    <tr style=\"text-align: right;\">\n",
       "      <th></th>\n",
       "      <th>msgDate</th>\n",
       "      <th>msg</th>\n",
       "      <th>replyDate</th>\n",
       "      <th>reply</th>\n",
       "      <th>telegramChannel</th>\n",
       "    </tr>\n",
       "  </thead>\n",
       "  <tbody>\n",
       "    <tr>\n",
       "      <th>0</th>\n",
       "      <td>1611529552</td>\n",
       "      <td>Leftist Eviro. Plan For Total Planetary Serfdo...</td>\n",
       "      <td>1611532985</td>\n",
       "      <td>Keep on keepin’ on. May the Trinity, the Fathe...</td>\n",
       "      <td>AlexJones.json</td>\n",
       "    </tr>\n",
       "    <tr>\n",
       "      <th>1</th>\n",
       "      <td>1611529552</td>\n",
       "      <td>Leftist Eviro. Plan For Total Planetary Serfdo...</td>\n",
       "      <td>1611538372</td>\n",
       "      <td>They are really messing with the signal right ...</td>\n",
       "      <td>AlexJones.json</td>\n",
       "    </tr>\n",
       "    <tr>\n",
       "      <th>2</th>\n",
       "      <td>1611529552</td>\n",
       "      <td>Leftist Eviro. Plan For Total Planetary Serfdo...</td>\n",
       "      <td>1611540892</td>\n",
       "      <td></td>\n",
       "      <td>AlexJones.json</td>\n",
       "    </tr>\n",
       "    <tr>\n",
       "      <th>3</th>\n",
       "      <td>1611529552</td>\n",
       "      <td>Leftist Eviro. Plan For Total Planetary Serfdo...</td>\n",
       "      <td>1611541436</td>\n",
       "      <td>Wow comments are on.</td>\n",
       "      <td>AlexJones.json</td>\n",
       "    </tr>\n",
       "    <tr>\n",
       "      <th>4</th>\n",
       "      <td>1611529552</td>\n",
       "      <td>Leftist Eviro. Plan For Total Planetary Serfdo...</td>\n",
       "      <td>1611542543</td>\n",
       "      <td>The other day when I called in and spoke with ...</td>\n",
       "      <td>AlexJones.json</td>\n",
       "    </tr>\n",
       "  </tbody>\n",
       "</table>\n",
       "</div>"
      ],
      "text/plain": [
       "      msgDate                                                msg   replyDate  \\\n",
       "0  1611529552  Leftist Eviro. Plan For Total Planetary Serfdo...  1611532985   \n",
       "1  1611529552  Leftist Eviro. Plan For Total Planetary Serfdo...  1611538372   \n",
       "2  1611529552  Leftist Eviro. Plan For Total Planetary Serfdo...  1611540892   \n",
       "3  1611529552  Leftist Eviro. Plan For Total Planetary Serfdo...  1611541436   \n",
       "4  1611529552  Leftist Eviro. Plan For Total Planetary Serfdo...  1611542543   \n",
       "\n",
       "                                               reply telegramChannel  \n",
       "0  Keep on keepin’ on. May the Trinity, the Fathe...  AlexJones.json  \n",
       "1  They are really messing with the signal right ...  AlexJones.json  \n",
       "2                                                     AlexJones.json  \n",
       "3                               Wow comments are on.  AlexJones.json  \n",
       "4  The other day when I called in and spoke with ...  AlexJones.json  "
      ]
     },
     "execution_count": 14,
     "metadata": {},
     "output_type": "execute_result"
    }
   ],
   "source": [
    "remaining_df.head(5)"
   ]
  },
  {
   "cell_type": "code",
   "execution_count": null,
   "id": "555739eb",
   "metadata": {},
   "outputs": [],
   "source": []
  }
 ],
 "metadata": {
  "kernelspec": {
   "display_name": "base",
   "language": "python",
   "name": "python3"
  },
  "language_info": {
   "codemirror_mode": {
    "name": "ipython",
    "version": 3
   },
   "file_extension": ".py",
   "mimetype": "text/x-python",
   "name": "python",
   "nbconvert_exporter": "python",
   "pygments_lexer": "ipython3",
   "version": "3.11.5"
  }
 },
 "nbformat": 4,
 "nbformat_minor": 5
}
