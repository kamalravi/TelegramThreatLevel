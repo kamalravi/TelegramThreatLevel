{
 "cells": [
  {
   "cell_type": "code",
   "execution_count": 1,
   "id": "4b295be7-c667-40bc-8f00-3aba590f0f3c",
   "metadata": {},
   "outputs": [],
   "source": [
    "import pandas as pd\n",
    "import glob\n",
    "import numpy as np\n",
    "import json\n",
    "import math\n",
    "from natsort import natsorted"
   ]
  },
  {
   "cell_type": "code",
   "execution_count": 2,
   "id": "08a118db",
   "metadata": {},
   "outputs": [],
   "source": [
    "remaining_df = pd.read_json('/home/ravi/raviProject/DATA/Annotate/remaining_V7_2M.json', orient='records')"
   ]
  },
  {
   "cell_type": "code",
   "execution_count": 3,
   "id": "13d81b63",
   "metadata": {},
   "outputs": [
    {
     "data": {
      "text/plain": [
       "(2000000, 5)"
      ]
     },
     "execution_count": 3,
     "metadata": {},
     "output_type": "execute_result"
    }
   ],
   "source": [
    "remaining_df.shape"
   ]
  },
  {
   "cell_type": "code",
   "execution_count": 4,
   "id": "a82917f7",
   "metadata": {},
   "outputs": [
    {
     "data": {
      "text/html": [
       "<div>\n",
       "<style scoped>\n",
       "    .dataframe tbody tr th:only-of-type {\n",
       "        vertical-align: middle;\n",
       "    }\n",
       "\n",
       "    .dataframe tbody tr th {\n",
       "        vertical-align: top;\n",
       "    }\n",
       "\n",
       "    .dataframe thead th {\n",
       "        text-align: right;\n",
       "    }\n",
       "</style>\n",
       "<table border=\"1\" class=\"dataframe\">\n",
       "  <thead>\n",
       "    <tr style=\"text-align: right;\">\n",
       "      <th></th>\n",
       "      <th>msgDate</th>\n",
       "      <th>msg</th>\n",
       "      <th>replyDate</th>\n",
       "      <th>reply</th>\n",
       "      <th>telegramChannel</th>\n",
       "    </tr>\n",
       "  </thead>\n",
       "  <tbody>\n",
       "    <tr>\n",
       "      <th>0</th>\n",
       "      <td>1619101097</td>\n",
       "      <td>Trump was right!\\n\\n</td>\n",
       "      <td>1619101357</td>\n",
       "      <td>👍🏼</td>\n",
       "      <td>AnalyzingAmerica.json</td>\n",
       "    </tr>\n",
       "    <tr>\n",
       "      <th>1</th>\n",
       "      <td>1694793681</td>\n",
       "      <td>☀️ Watch: Hundreds Baptized in Pond at Auburn ...</td>\n",
       "      <td>1694795420</td>\n",
       "      <td>Proud to see this come from my home state. ❤️❤️❤️</td>\n",
       "      <td>ResisttheMainstream.json</td>\n",
       "    </tr>\n",
       "    <tr>\n",
       "      <th>2</th>\n",
       "      <td>1691129131</td>\n",
       "      <td>Yes or no?</td>\n",
       "      <td>1691135245</td>\n",
       "      <td>Bearing false witness. Where have I heard that...</td>\n",
       "      <td>ResisttheMainstream.json</td>\n",
       "    </tr>\n",
       "    <tr>\n",
       "      <th>3</th>\n",
       "      <td>1669335266</td>\n",
       "      <td>A d h d   m o m e n t</td>\n",
       "      <td>1669335694</td>\n",
       "      <td>when will you get addy, btw? high time you did</td>\n",
       "      <td>LacansWhreHouse.json</td>\n",
       "    </tr>\n",
       "    <tr>\n",
       "      <th>4</th>\n",
       "      <td>1696197725</td>\n",
       "      <td></td>\n",
       "      <td>1696198531</td>\n",
       "      <td>If you workin' dat ass, that still counts as w...</td>\n",
       "      <td>AnticapitalistSurrealism.json</td>\n",
       "    </tr>\n",
       "  </tbody>\n",
       "</table>\n",
       "</div>"
      ],
      "text/plain": [
       "      msgDate                                                msg   replyDate  \\\n",
       "0  1619101097                              Trump was right!\\n\\n   1619101357   \n",
       "1  1694793681  ☀️ Watch: Hundreds Baptized in Pond at Auburn ...  1694795420   \n",
       "2  1691129131                                         Yes or no?  1691135245   \n",
       "3  1669335266                              A d h d   m o m e n t  1669335694   \n",
       "4  1696197725                                                     1696198531   \n",
       "\n",
       "                                               reply  \\\n",
       "0                                                 👍🏼   \n",
       "1  Proud to see this come from my home state. ❤️❤️❤️   \n",
       "2  Bearing false witness. Where have I heard that...   \n",
       "3     when will you get addy, btw? high time you did   \n",
       "4  If you workin' dat ass, that still counts as w...   \n",
       "\n",
       "                 telegramChannel  \n",
       "0          AnalyzingAmerica.json  \n",
       "1       ResisttheMainstream.json  \n",
       "2       ResisttheMainstream.json  \n",
       "3           LacansWhreHouse.json  \n",
       "4  AnticapitalistSurrealism.json  "
      ]
     },
     "execution_count": 4,
     "metadata": {},
     "output_type": "execute_result"
    }
   ],
   "source": [
    "remaining_df.head(5)"
   ]
  },
  {
   "cell_type": "code",
   "execution_count": 5,
   "id": "636a3838",
   "metadata": {},
   "outputs": [
    {
     "data": {
      "text/plain": [
       "17"
      ]
     },
     "execution_count": 5,
     "metadata": {},
     "output_type": "execute_result"
    }
   ],
   "source": [
    "len(remaining_df['telegramChannel'].unique())"
   ]
  },
  {
   "cell_type": "code",
   "execution_count": 6,
   "id": "5188bc31",
   "metadata": {},
   "outputs": [
    {
     "data": {
      "text/plain": [
       "ResisttheMainstream.json         482596\n",
       "AnalyzingAmerica.json            300406\n",
       "ThePatriotVoice.json             166986\n",
       "TheTrumpRepublicans.json         160603\n",
       "TrumpSupportersChannel.json      149506\n",
       "DonaldTrumpJr.json               146081\n",
       "PatriotStreetfighter.json        116114\n",
       "AnticapitalistSurrealism.json     84400\n",
       "RiotDogs.json                     83182\n",
       "LacansWhreHouse.json              82923\n",
       "PrayingMedic.json                 73388\n",
       "UnitedAnarchists.json             59517\n",
       "COVIDVACCINEVICTIMS.json          49342\n",
       "InfoWars.json                     17602\n",
       "FreedomFighters.json              15080\n",
       "AlexJones.json                    11063\n",
       "BlackCrimesMatter.json             1211\n",
       "Name: telegramChannel, dtype: int64"
      ]
     },
     "execution_count": 6,
     "metadata": {},
     "output_type": "execute_result"
    }
   ],
   "source": [
    "remaining_df['telegramChannel'].value_counts()"
   ]
  },
  {
   "cell_type": "code",
   "execution_count": 7,
   "id": "1e55c6e6",
   "metadata": {},
   "outputs": [
    {
     "data": {
      "text/plain": [
       "telegramChannel\n",
       "AlexJones.json                    11063\n",
       "AnalyzingAmerica.json            300406\n",
       "AnticapitalistSurrealism.json     84400\n",
       "BlackCrimesMatter.json             1211\n",
       "COVIDVACCINEVICTIMS.json          49342\n",
       "DonaldTrumpJr.json               146081\n",
       "FreedomFighters.json              15080\n",
       "InfoWars.json                     17602\n",
       "LacansWhreHouse.json              82923\n",
       "PatriotStreetfighter.json        116114\n",
       "PrayingMedic.json                 73388\n",
       "ResisttheMainstream.json         482596\n",
       "RiotDogs.json                     83182\n",
       "ThePatriotVoice.json             166986\n",
       "TheTrumpRepublicans.json         160603\n",
       "TrumpSupportersChannel.json      149506\n",
       "UnitedAnarchists.json             59517\n",
       "Name: reply, dtype: int64"
      ]
     },
     "execution_count": 7,
     "metadata": {},
     "output_type": "execute_result"
    }
   ],
   "source": [
    "remaining_df.groupby('telegramChannel')['reply'].count()"
   ]
  },
  {
   "cell_type": "code",
   "execution_count": 8,
   "id": "214b5164",
   "metadata": {},
   "outputs": [
    {
     "data": {
      "text/plain": [
       "2000000"
      ]
     },
     "execution_count": 8,
     "metadata": {},
     "output_type": "execute_result"
    }
   ],
   "source": [
    "sum(remaining_df.groupby('telegramChannel')['reply'].count())"
   ]
  },
  {
   "cell_type": "code",
   "execution_count": 9,
   "id": "a9ad1ae2",
   "metadata": {},
   "outputs": [
    {
     "data": {
      "text/plain": [
       "(2000000, 5)"
      ]
     },
     "execution_count": 9,
     "metadata": {},
     "output_type": "execute_result"
    }
   ],
   "source": [
    "remaining_df.shape"
   ]
  },
  {
   "cell_type": "code",
   "execution_count": 10,
   "id": "cdf6a4fc",
   "metadata": {},
   "outputs": [],
   "source": [
    "# Remove 'msgDate' and 'text' columns\n",
    "df = remaining_df.drop(columns=['msgDate', 'msg'])\n",
    "# Rename\n",
    "# df = df.rename(columns={'FinalLabel': 'Label'})\n",
    "# df = df.rename(columns={'text': 'reply'})"
   ]
  },
  {
   "cell_type": "code",
   "execution_count": 11,
   "id": "030d05b0",
   "metadata": {},
   "outputs": [
    {
     "data": {
      "text/plain": [
       "(2000000, 3)"
      ]
     },
     "execution_count": 11,
     "metadata": {},
     "output_type": "execute_result"
    }
   ],
   "source": [
    "df.shape"
   ]
  },
  {
   "cell_type": "code",
   "execution_count": 12,
   "id": "ad8d7455",
   "metadata": {},
   "outputs": [
    {
     "data": {
      "text/html": [
       "<div>\n",
       "<style scoped>\n",
       "    .dataframe tbody tr th:only-of-type {\n",
       "        vertical-align: middle;\n",
       "    }\n",
       "\n",
       "    .dataframe tbody tr th {\n",
       "        vertical-align: top;\n",
       "    }\n",
       "\n",
       "    .dataframe thead th {\n",
       "        text-align: right;\n",
       "    }\n",
       "</style>\n",
       "<table border=\"1\" class=\"dataframe\">\n",
       "  <thead>\n",
       "    <tr style=\"text-align: right;\">\n",
       "      <th></th>\n",
       "      <th>replyDate</th>\n",
       "      <th>reply</th>\n",
       "      <th>telegramChannel</th>\n",
       "    </tr>\n",
       "  </thead>\n",
       "  <tbody>\n",
       "    <tr>\n",
       "      <th>0</th>\n",
       "      <td>1619101357</td>\n",
       "      <td>👍🏼</td>\n",
       "      <td>AnalyzingAmerica.json</td>\n",
       "    </tr>\n",
       "  </tbody>\n",
       "</table>\n",
       "</div>"
      ],
      "text/plain": [
       "    replyDate reply        telegramChannel\n",
       "0  1619101357    👍🏼  AnalyzingAmerica.json"
      ]
     },
     "execution_count": 12,
     "metadata": {},
     "output_type": "execute_result"
    }
   ],
   "source": [
    "df.head(1)"
   ]
  },
  {
   "cell_type": "code",
   "execution_count": 13,
   "id": "700e3940",
   "metadata": {},
   "outputs": [
    {
     "data": {
      "text/plain": [
       "telegramChannel\n",
       "AlexJones.json                    11063\n",
       "AnalyzingAmerica.json            300406\n",
       "AnticapitalistSurrealism.json     84400\n",
       "BlackCrimesMatter.json             1211\n",
       "COVIDVACCINEVICTIMS.json          49342\n",
       "DonaldTrumpJr.json               146081\n",
       "FreedomFighters.json              15080\n",
       "InfoWars.json                     17602\n",
       "LacansWhreHouse.json              82923\n",
       "PatriotStreetfighter.json        116114\n",
       "PrayingMedic.json                 73388\n",
       "ResisttheMainstream.json         482596\n",
       "RiotDogs.json                     83182\n",
       "ThePatriotVoice.json             166986\n",
       "TheTrumpRepublicans.json         160603\n",
       "TrumpSupportersChannel.json      149506\n",
       "UnitedAnarchists.json             59517\n",
       "Name: reply, dtype: int64"
      ]
     },
     "execution_count": 13,
     "metadata": {},
     "output_type": "execute_result"
    }
   ],
   "source": [
    "df.groupby('telegramChannel')['reply'].count()"
   ]
  },
  {
   "cell_type": "code",
   "execution_count": 24,
   "id": "4873f90f",
   "metadata": {},
   "outputs": [],
   "source": [
    "df.to_json('/home/ravi/raviProject/DATA/Annotate/Unlabeled_2M.json', orient='records')"
   ]
  },
  {
   "cell_type": "markdown",
   "id": "68e712c5",
   "metadata": {},
   "source": [
    "## make new iter7 labeled data"
   ]
  },
  {
   "cell_type": "code",
   "execution_count": 12,
   "id": "3c4fc865",
   "metadata": {},
   "outputs": [],
   "source": [
    "sampled_df = pd.read_json('/home/ravi/raviProject/DATA/Annotate/iterData/iter7_Labeled_15077_sampled_forNextIter.json', orient='records')"
   ]
  },
  {
   "cell_type": "code",
   "execution_count": 13,
   "id": "59247030",
   "metadata": {},
   "outputs": [
    {
     "data": {
      "text/plain": [
       "(15077, 6)"
      ]
     },
     "execution_count": 13,
     "metadata": {},
     "output_type": "execute_result"
    }
   ],
   "source": [
    "sampled_df.shape"
   ]
  },
  {
   "cell_type": "code",
   "execution_count": 14,
   "id": "0dd4302f",
   "metadata": {},
   "outputs": [
    {
     "data": {
      "text/html": [
       "<div>\n",
       "<style scoped>\n",
       "    .dataframe tbody tr th:only-of-type {\n",
       "        vertical-align: middle;\n",
       "    }\n",
       "\n",
       "    .dataframe tbody tr th {\n",
       "        vertical-align: top;\n",
       "    }\n",
       "\n",
       "    .dataframe thead th {\n",
       "        text-align: right;\n",
       "    }\n",
       "</style>\n",
       "<table border=\"1\" class=\"dataframe\">\n",
       "  <thead>\n",
       "    <tr style=\"text-align: right;\">\n",
       "      <th></th>\n",
       "      <th>msgDate</th>\n",
       "      <th>msg</th>\n",
       "      <th>replyDate</th>\n",
       "      <th>text</th>\n",
       "      <th>telegramChannel</th>\n",
       "      <th>FinalLabel</th>\n",
       "    </tr>\n",
       "  </thead>\n",
       "  <tbody>\n",
       "    <tr>\n",
       "      <th>0</th>\n",
       "      <td>1687098334</td>\n",
       "      <td>Raskin is in the top 5 Dem scum bags in DC. He...</td>\n",
       "      <td>1687098753</td>\n",
       "      <td>And HANG  SCHIFF AND NADLER PELOSI AND ALL THE...</td>\n",
       "      <td>TrumpSupportersChannel.json</td>\n",
       "      <td>2</td>\n",
       "    </tr>\n",
       "    <tr>\n",
       "      <th>1</th>\n",
       "      <td>1698079227</td>\n",
       "      <td>🔴  CDC Issues Warning About ‘Potentially Disfi...</td>\n",
       "      <td>1698117741</td>\n",
       "      <td>Can we please get to the EXECUTIONS ALREADY 🖕🏽💀💩</td>\n",
       "      <td>ResisttheMainstream.json</td>\n",
       "      <td>2</td>\n",
       "    </tr>\n",
       "    <tr>\n",
       "      <th>2</th>\n",
       "      <td>1683948022</td>\n",
       "      <td>Do you approve? 💬</td>\n",
       "      <td>1684179732</td>\n",
       "      <td>Can't trust Musk as far u can shoot that fucki...</td>\n",
       "      <td>ResisttheMainstream.json</td>\n",
       "      <td>2</td>\n",
       "    </tr>\n",
       "    <tr>\n",
       "      <th>3</th>\n",
       "      <td>1623338789</td>\n",
       "      <td>Donald Trump Jr. Rips Hunter Biden For Using t...</td>\n",
       "      <td>1623339801</td>\n",
       "      <td>There are so many criminals in America dishone...</td>\n",
       "      <td>TheTrumpRepublicans.json</td>\n",
       "      <td>2</td>\n",
       "    </tr>\n",
       "    <tr>\n",
       "      <th>4</th>\n",
       "      <td>1685904022</td>\n",
       "      <td>🔴  Here Are The 17 GOP Senators Who Voted For ...</td>\n",
       "      <td>1685904529</td>\n",
       "      <td>Traitors all, hang ‘em high</td>\n",
       "      <td>ResisttheMainstream.json</td>\n",
       "      <td>2</td>\n",
       "    </tr>\n",
       "  </tbody>\n",
       "</table>\n",
       "</div>"
      ],
      "text/plain": [
       "      msgDate                                                msg   replyDate  \\\n",
       "0  1687098334  Raskin is in the top 5 Dem scum bags in DC. He...  1687098753   \n",
       "1  1698079227  🔴  CDC Issues Warning About ‘Potentially Disfi...  1698117741   \n",
       "2  1683948022                                 Do you approve? 💬   1684179732   \n",
       "3  1623338789  Donald Trump Jr. Rips Hunter Biden For Using t...  1623339801   \n",
       "4  1685904022  🔴  Here Are The 17 GOP Senators Who Voted For ...  1685904529   \n",
       "\n",
       "                                                text  \\\n",
       "0  And HANG  SCHIFF AND NADLER PELOSI AND ALL THE...   \n",
       "1   Can we please get to the EXECUTIONS ALREADY 🖕🏽💀💩   \n",
       "2  Can't trust Musk as far u can shoot that fucki...   \n",
       "3  There are so many criminals in America dishone...   \n",
       "4                        Traitors all, hang ‘em high   \n",
       "\n",
       "               telegramChannel  FinalLabel  \n",
       "0  TrumpSupportersChannel.json           2  \n",
       "1     ResisttheMainstream.json           2  \n",
       "2     ResisttheMainstream.json           2  \n",
       "3     TheTrumpRepublicans.json           2  \n",
       "4     ResisttheMainstream.json           2  "
      ]
     },
     "execution_count": 14,
     "metadata": {},
     "output_type": "execute_result"
    }
   ],
   "source": [
    "sampled_df.head(5)"
   ]
  },
  {
   "cell_type": "code",
   "execution_count": 15,
   "id": "919c14e2",
   "metadata": {},
   "outputs": [
    {
     "data": {
      "text/plain": [
       "18"
      ]
     },
     "execution_count": 15,
     "metadata": {},
     "output_type": "execute_result"
    }
   ],
   "source": [
    "len(sampled_df['telegramChannel'].unique())"
   ]
  },
  {
   "cell_type": "code",
   "execution_count": 16,
   "id": "b7cf7c4a",
   "metadata": {},
   "outputs": [
    {
     "data": {
      "text/plain": [
       "ResisttheMainstream.json         4505\n",
       "AnalyzingAmerica.json            4255\n",
       "TheTrumpRepublicans.json         1774\n",
       "TrumpSupportersChannel.json      1414\n",
       "ThePatriotVoice.json              825\n",
       "DonaldTrumpJr.json                634\n",
       "PatriotStreetfighter.json         387\n",
       "AnticapitalistSurrealism.json     192\n",
       "PrayingMedic.json                 176\n",
       "RiotDogs.json                     170\n",
       "COVIDVACCINEVICTIMS.json          153\n",
       "UnitedAnarchists.json             143\n",
       "InfoWars.json                     143\n",
       "LacansWhreHouse.json              131\n",
       "FreedomFighters.json               95\n",
       "AlexJones.json                     72\n",
       "BlackCrimesMatter.json              7\n",
       "False                               1\n",
       "Name: telegramChannel, dtype: int64"
      ]
     },
     "execution_count": 16,
     "metadata": {},
     "output_type": "execute_result"
    }
   ],
   "source": [
    "sampled_df['telegramChannel'].value_counts()"
   ]
  },
  {
   "cell_type": "code",
   "execution_count": 18,
   "id": "d7cb6cf6",
   "metadata": {},
   "outputs": [
    {
     "data": {
      "text/plain": [
       "telegramChannel\n",
       "AlexJones.json                     72\n",
       "AnalyzingAmerica.json            4255\n",
       "AnticapitalistSurrealism.json     192\n",
       "BlackCrimesMatter.json              7\n",
       "COVIDVACCINEVICTIMS.json          153\n",
       "DonaldTrumpJr.json                634\n",
       "False                               1\n",
       "FreedomFighters.json               95\n",
       "InfoWars.json                     143\n",
       "LacansWhreHouse.json              131\n",
       "PatriotStreetfighter.json         387\n",
       "PrayingMedic.json                 176\n",
       "ResisttheMainstream.json         4505\n",
       "RiotDogs.json                     170\n",
       "ThePatriotVoice.json              825\n",
       "TheTrumpRepublicans.json         1774\n",
       "TrumpSupportersChannel.json      1414\n",
       "UnitedAnarchists.json             143\n",
       "Name: text, dtype: int64"
      ]
     },
     "execution_count": 18,
     "metadata": {},
     "output_type": "execute_result"
    }
   ],
   "source": [
    "sampled_df.groupby('telegramChannel')['text'].count()"
   ]
  },
  {
   "cell_type": "code",
   "execution_count": 21,
   "id": "e08c45b2",
   "metadata": {},
   "outputs": [
    {
     "name": "stdout",
     "output_type": "stream",
     "text": [
      "     msgDate                               msg   replyDate  \\\n",
      "848        1   it’s a decree. Do not comply!!!  1693486255   \n",
      "\n",
      "                         text telegramChannel  FinalLabel  \n",
      "848  A ‘mandate’ is not a law           False           0  \n"
     ]
    }
   ],
   "source": [
    "# Extract rows where 'telegramChannel' column has the value 'False'\n",
    "filtered_df = sampled_df[sampled_df['telegramChannel'] == 'False']\n",
    "\n",
    "print(filtered_df)"
   ]
  },
  {
   "cell_type": "code",
   "execution_count": 22,
   "id": "b97cb03c",
   "metadata": {},
   "outputs": [],
   "source": [
    "# Remove rows where 'telegramChannel' column has the value 'False'\n",
    "filtered_df = sampled_df[sampled_df['telegramChannel'] != 'False']"
   ]
  },
  {
   "cell_type": "code",
   "execution_count": 23,
   "id": "1ef79181",
   "metadata": {},
   "outputs": [
    {
     "data": {
      "text/plain": [
       "(15076, 6)"
      ]
     },
     "execution_count": 23,
     "metadata": {},
     "output_type": "execute_result"
    }
   ],
   "source": [
    "filtered_df.shape"
   ]
  },
  {
   "cell_type": "code",
   "execution_count": 24,
   "id": "ee386f5d",
   "metadata": {},
   "outputs": [
    {
     "data": {
      "text/html": [
       "<div>\n",
       "<style scoped>\n",
       "    .dataframe tbody tr th:only-of-type {\n",
       "        vertical-align: middle;\n",
       "    }\n",
       "\n",
       "    .dataframe tbody tr th {\n",
       "        vertical-align: top;\n",
       "    }\n",
       "\n",
       "    .dataframe thead th {\n",
       "        text-align: right;\n",
       "    }\n",
       "</style>\n",
       "<table border=\"1\" class=\"dataframe\">\n",
       "  <thead>\n",
       "    <tr style=\"text-align: right;\">\n",
       "      <th></th>\n",
       "      <th>msgDate</th>\n",
       "      <th>msg</th>\n",
       "      <th>replyDate</th>\n",
       "      <th>text</th>\n",
       "      <th>telegramChannel</th>\n",
       "      <th>FinalLabel</th>\n",
       "    </tr>\n",
       "  </thead>\n",
       "  <tbody>\n",
       "    <tr>\n",
       "      <th>0</th>\n",
       "      <td>1687098334</td>\n",
       "      <td>Raskin is in the top 5 Dem scum bags in DC. He...</td>\n",
       "      <td>1687098753</td>\n",
       "      <td>And HANG  SCHIFF AND NADLER PELOSI AND ALL THE...</td>\n",
       "      <td>TrumpSupportersChannel.json</td>\n",
       "      <td>2</td>\n",
       "    </tr>\n",
       "    <tr>\n",
       "      <th>1</th>\n",
       "      <td>1698079227</td>\n",
       "      <td>🔴  CDC Issues Warning About ‘Potentially Disfi...</td>\n",
       "      <td>1698117741</td>\n",
       "      <td>Can we please get to the EXECUTIONS ALREADY 🖕🏽💀💩</td>\n",
       "      <td>ResisttheMainstream.json</td>\n",
       "      <td>2</td>\n",
       "    </tr>\n",
       "    <tr>\n",
       "      <th>2</th>\n",
       "      <td>1683948022</td>\n",
       "      <td>Do you approve? 💬</td>\n",
       "      <td>1684179732</td>\n",
       "      <td>Can't trust Musk as far u can shoot that fucki...</td>\n",
       "      <td>ResisttheMainstream.json</td>\n",
       "      <td>2</td>\n",
       "    </tr>\n",
       "    <tr>\n",
       "      <th>3</th>\n",
       "      <td>1623338789</td>\n",
       "      <td>Donald Trump Jr. Rips Hunter Biden For Using t...</td>\n",
       "      <td>1623339801</td>\n",
       "      <td>There are so many criminals in America dishone...</td>\n",
       "      <td>TheTrumpRepublicans.json</td>\n",
       "      <td>2</td>\n",
       "    </tr>\n",
       "    <tr>\n",
       "      <th>4</th>\n",
       "      <td>1685904022</td>\n",
       "      <td>🔴  Here Are The 17 GOP Senators Who Voted For ...</td>\n",
       "      <td>1685904529</td>\n",
       "      <td>Traitors all, hang ‘em high</td>\n",
       "      <td>ResisttheMainstream.json</td>\n",
       "      <td>2</td>\n",
       "    </tr>\n",
       "  </tbody>\n",
       "</table>\n",
       "</div>"
      ],
      "text/plain": [
       "      msgDate                                                msg   replyDate  \\\n",
       "0  1687098334  Raskin is in the top 5 Dem scum bags in DC. He...  1687098753   \n",
       "1  1698079227  🔴  CDC Issues Warning About ‘Potentially Disfi...  1698117741   \n",
       "2  1683948022                                 Do you approve? 💬   1684179732   \n",
       "3  1623338789  Donald Trump Jr. Rips Hunter Biden For Using t...  1623339801   \n",
       "4  1685904022  🔴  Here Are The 17 GOP Senators Who Voted For ...  1685904529   \n",
       "\n",
       "                                                text  \\\n",
       "0  And HANG  SCHIFF AND NADLER PELOSI AND ALL THE...   \n",
       "1   Can we please get to the EXECUTIONS ALREADY 🖕🏽💀💩   \n",
       "2  Can't trust Musk as far u can shoot that fucki...   \n",
       "3  There are so many criminals in America dishone...   \n",
       "4                        Traitors all, hang ‘em high   \n",
       "\n",
       "               telegramChannel  FinalLabel  \n",
       "0  TrumpSupportersChannel.json           2  \n",
       "1     ResisttheMainstream.json           2  \n",
       "2     ResisttheMainstream.json           2  \n",
       "3     TheTrumpRepublicans.json           2  \n",
       "4     ResisttheMainstream.json           2  "
      ]
     },
     "execution_count": 24,
     "metadata": {},
     "output_type": "execute_result"
    }
   ],
   "source": [
    "filtered_df.head(5)"
   ]
  },
  {
   "cell_type": "code",
   "execution_count": 25,
   "id": "611ba262",
   "metadata": {},
   "outputs": [
    {
     "data": {
      "text/plain": [
       "17"
      ]
     },
     "execution_count": 25,
     "metadata": {},
     "output_type": "execute_result"
    }
   ],
   "source": [
    "len(filtered_df['telegramChannel'].unique())"
   ]
  },
  {
   "cell_type": "code",
   "execution_count": 26,
   "id": "74a5e006",
   "metadata": {},
   "outputs": [
    {
     "data": {
      "text/plain": [
       "ResisttheMainstream.json         4505\n",
       "AnalyzingAmerica.json            4255\n",
       "TheTrumpRepublicans.json         1774\n",
       "TrumpSupportersChannel.json      1414\n",
       "ThePatriotVoice.json              825\n",
       "DonaldTrumpJr.json                634\n",
       "PatriotStreetfighter.json         387\n",
       "AnticapitalistSurrealism.json     192\n",
       "PrayingMedic.json                 176\n",
       "RiotDogs.json                     170\n",
       "COVIDVACCINEVICTIMS.json          153\n",
       "InfoWars.json                     143\n",
       "UnitedAnarchists.json             143\n",
       "LacansWhreHouse.json              131\n",
       "FreedomFighters.json               95\n",
       "AlexJones.json                     72\n",
       "BlackCrimesMatter.json              7\n",
       "Name: telegramChannel, dtype: int64"
      ]
     },
     "execution_count": 26,
     "metadata": {},
     "output_type": "execute_result"
    }
   ],
   "source": [
    "filtered_df['telegramChannel'].value_counts()"
   ]
  },
  {
   "cell_type": "code",
   "execution_count": 27,
   "id": "9dfbe4a6",
   "metadata": {},
   "outputs": [
    {
     "data": {
      "text/plain": [
       "telegramChannel\n",
       "AlexJones.json                     72\n",
       "AnalyzingAmerica.json            4255\n",
       "AnticapitalistSurrealism.json     192\n",
       "BlackCrimesMatter.json              7\n",
       "COVIDVACCINEVICTIMS.json          153\n",
       "DonaldTrumpJr.json                634\n",
       "FreedomFighters.json               95\n",
       "InfoWars.json                     143\n",
       "LacansWhreHouse.json              131\n",
       "PatriotStreetfighter.json         387\n",
       "PrayingMedic.json                 176\n",
       "ResisttheMainstream.json         4505\n",
       "RiotDogs.json                     170\n",
       "ThePatriotVoice.json              825\n",
       "TheTrumpRepublicans.json         1774\n",
       "TrumpSupportersChannel.json      1414\n",
       "UnitedAnarchists.json             143\n",
       "Name: text, dtype: int64"
      ]
     },
     "execution_count": 27,
     "metadata": {},
     "output_type": "execute_result"
    }
   ],
   "source": [
    "filtered_df.groupby('telegramChannel')['text'].count()"
   ]
  },
  {
   "cell_type": "code",
   "execution_count": 28,
   "id": "4603dd56",
   "metadata": {},
   "outputs": [],
   "source": [
    "filtered_df.to_json('/home/ravi/raviProject/DATA/Annotate/iterData/iter7_Labeled_15076_sampled_forNextIter.json', orient='records')"
   ]
  },
  {
   "cell_type": "markdown",
   "id": "c7fdca2c",
   "metadata": {},
   "source": [
    "# new"
   ]
  },
  {
   "cell_type": "code",
   "execution_count": 14,
   "id": "c653f12d",
   "metadata": {},
   "outputs": [],
   "source": [
    "df = pd.read_json('/home/ravi/raviProject/DATA/Annotate/iterData/iter7_Labeled_15076_sampled_forNextIter.json', orient='records')"
   ]
  },
  {
   "cell_type": "code",
   "execution_count": 15,
   "id": "cb70c885",
   "metadata": {},
   "outputs": [
    {
     "data": {
      "text/html": [
       "<div>\n",
       "<style scoped>\n",
       "    .dataframe tbody tr th:only-of-type {\n",
       "        vertical-align: middle;\n",
       "    }\n",
       "\n",
       "    .dataframe tbody tr th {\n",
       "        vertical-align: top;\n",
       "    }\n",
       "\n",
       "    .dataframe thead th {\n",
       "        text-align: right;\n",
       "    }\n",
       "</style>\n",
       "<table border=\"1\" class=\"dataframe\">\n",
       "  <thead>\n",
       "    <tr style=\"text-align: right;\">\n",
       "      <th></th>\n",
       "      <th>msgDate</th>\n",
       "      <th>msg</th>\n",
       "      <th>replyDate</th>\n",
       "      <th>text</th>\n",
       "      <th>telegramChannel</th>\n",
       "      <th>FinalLabel</th>\n",
       "    </tr>\n",
       "  </thead>\n",
       "  <tbody>\n",
       "    <tr>\n",
       "      <th>0</th>\n",
       "      <td>1687098334</td>\n",
       "      <td>Raskin is in the top 5 Dem scum bags in DC. He...</td>\n",
       "      <td>1687098753</td>\n",
       "      <td>And HANG  SCHIFF AND NADLER PELOSI AND ALL THE...</td>\n",
       "      <td>TrumpSupportersChannel.json</td>\n",
       "      <td>2</td>\n",
       "    </tr>\n",
       "  </tbody>\n",
       "</table>\n",
       "</div>"
      ],
      "text/plain": [
       "      msgDate                                                msg   replyDate  \\\n",
       "0  1687098334  Raskin is in the top 5 Dem scum bags in DC. He...  1687098753   \n",
       "\n",
       "                                                text  \\\n",
       "0  And HANG  SCHIFF AND NADLER PELOSI AND ALL THE...   \n",
       "\n",
       "               telegramChannel  FinalLabel  \n",
       "0  TrumpSupportersChannel.json           2  "
      ]
     },
     "execution_count": 15,
     "metadata": {},
     "output_type": "execute_result"
    }
   ],
   "source": [
    "df.head(1)"
   ]
  },
  {
   "cell_type": "code",
   "execution_count": 16,
   "id": "0d77c657",
   "metadata": {},
   "outputs": [
    {
     "data": {
      "text/plain": [
       "15076"
      ]
     },
     "execution_count": 16,
     "metadata": {},
     "output_type": "execute_result"
    }
   ],
   "source": [
    "sum(df.groupby('telegramChannel')['text'].count())"
   ]
  },
  {
   "cell_type": "code",
   "execution_count": 17,
   "id": "ffcae751",
   "metadata": {},
   "outputs": [],
   "source": [
    "# Remove 'msgDate' and 'text' columns\n",
    "df = df.drop(columns=['msgDate', 'msg'])\n",
    "# Rename\n",
    "df = df.rename(columns={'FinalLabel': 'Label'})\n",
    "df = df.rename(columns={'text': 'reply'})"
   ]
  },
  {
   "cell_type": "code",
   "execution_count": 18,
   "id": "9136f1fa",
   "metadata": {},
   "outputs": [
    {
     "data": {
      "text/html": [
       "<div>\n",
       "<style scoped>\n",
       "    .dataframe tbody tr th:only-of-type {\n",
       "        vertical-align: middle;\n",
       "    }\n",
       "\n",
       "    .dataframe tbody tr th {\n",
       "        vertical-align: top;\n",
       "    }\n",
       "\n",
       "    .dataframe thead th {\n",
       "        text-align: right;\n",
       "    }\n",
       "</style>\n",
       "<table border=\"1\" class=\"dataframe\">\n",
       "  <thead>\n",
       "    <tr style=\"text-align: right;\">\n",
       "      <th></th>\n",
       "      <th>replyDate</th>\n",
       "      <th>reply</th>\n",
       "      <th>telegramChannel</th>\n",
       "      <th>Label</th>\n",
       "    </tr>\n",
       "  </thead>\n",
       "  <tbody>\n",
       "    <tr>\n",
       "      <th>0</th>\n",
       "      <td>1687098753</td>\n",
       "      <td>And HANG  SCHIFF AND NADLER PELOSI AND ALL THE...</td>\n",
       "      <td>TrumpSupportersChannel.json</td>\n",
       "      <td>2</td>\n",
       "    </tr>\n",
       "  </tbody>\n",
       "</table>\n",
       "</div>"
      ],
      "text/plain": [
       "    replyDate                                              reply  \\\n",
       "0  1687098753  And HANG  SCHIFF AND NADLER PELOSI AND ALL THE...   \n",
       "\n",
       "               telegramChannel  Label  \n",
       "0  TrumpSupportersChannel.json      2  "
      ]
     },
     "execution_count": 18,
     "metadata": {},
     "output_type": "execute_result"
    }
   ],
   "source": [
    "df.head(1)"
   ]
  },
  {
   "cell_type": "code",
   "execution_count": 19,
   "id": "0349fa48",
   "metadata": {},
   "outputs": [],
   "source": [
    "df.to_json('/home/ravi/raviProject/DATA/Annotate/iterData/Labeled_15076.json', orient='records')"
   ]
  },
  {
   "cell_type": "markdown",
   "id": "c982fdae",
   "metadata": {},
   "source": [
    "# split data into train dev test"
   ]
  },
  {
   "cell_type": "code",
   "execution_count": 2,
   "id": "020c82d3",
   "metadata": {},
   "outputs": [],
   "source": [
    "df = pd.read_json('/home/ravi/raviProject/DATA/Annotate/iterData/Labeled_15076.json', orient='records')"
   ]
  },
  {
   "cell_type": "code",
   "execution_count": 3,
   "id": "fbf6c105",
   "metadata": {},
   "outputs": [
    {
     "data": {
      "text/html": [
       "<div>\n",
       "<style scoped>\n",
       "    .dataframe tbody tr th:only-of-type {\n",
       "        vertical-align: middle;\n",
       "    }\n",
       "\n",
       "    .dataframe tbody tr th {\n",
       "        vertical-align: top;\n",
       "    }\n",
       "\n",
       "    .dataframe thead th {\n",
       "        text-align: right;\n",
       "    }\n",
       "</style>\n",
       "<table border=\"1\" class=\"dataframe\">\n",
       "  <thead>\n",
       "    <tr style=\"text-align: right;\">\n",
       "      <th></th>\n",
       "      <th>replyDate</th>\n",
       "      <th>reply</th>\n",
       "      <th>telegramChannel</th>\n",
       "      <th>Label</th>\n",
       "    </tr>\n",
       "  </thead>\n",
       "  <tbody>\n",
       "    <tr>\n",
       "      <th>0</th>\n",
       "      <td>1687098753</td>\n",
       "      <td>And HANG  SCHIFF AND NADLER PELOSI AND ALL THE...</td>\n",
       "      <td>TrumpSupportersChannel.json</td>\n",
       "      <td>2</td>\n",
       "    </tr>\n",
       "  </tbody>\n",
       "</table>\n",
       "</div>"
      ],
      "text/plain": [
       "    replyDate                                              reply  \\\n",
       "0  1687098753  And HANG  SCHIFF AND NADLER PELOSI AND ALL THE...   \n",
       "\n",
       "               telegramChannel  Label  \n",
       "0  TrumpSupportersChannel.json      2  "
      ]
     },
     "execution_count": 3,
     "metadata": {},
     "output_type": "execute_result"
    }
   ],
   "source": [
    "df.head(1)"
   ]
  },
  {
   "cell_type": "code",
   "execution_count": 4,
   "id": "fe060c32",
   "metadata": {},
   "outputs": [
    {
     "data": {
      "text/plain": [
       "2    5393\n",
       "0    5025\n",
       "1    4658\n",
       "Name: Label, dtype: int64"
      ]
     },
     "execution_count": 4,
     "metadata": {},
     "output_type": "execute_result"
    }
   ],
   "source": [
    "df['Label'].value_counts()"
   ]
  },
  {
   "cell_type": "code",
   "execution_count": 6,
   "id": "48f3e1ae",
   "metadata": {},
   "outputs": [],
   "source": [
    "from sklearn.model_selection import train_test_split\n",
    "\n",
    "# Split into Train (10,554 samples) and Temp (4,522 samples)\n",
    "train_df, temp_df = train_test_split(\n",
    "    df, train_size=10554, stratify=df[\"Label\"], random_state=42\n",
    ")\n",
    "\n",
    "# Now split Temp into Validate (2,261 samples) and Test (2,261 samples)\n",
    "validate_df, test_df = train_test_split(\n",
    "    temp_df, test_size=2261, stratify=temp_df[\"Label\"], random_state=42\n",
    ")\n",
    "\n",
    "# Now you have the train_df, validate_df, and test_df sets"
   ]
  },
  {
   "cell_type": "code",
   "execution_count": 7,
   "id": "48619e53",
   "metadata": {},
   "outputs": [],
   "source": [
    "train_df.to_json('/home/ravi/raviProject/DATA/Annotate/iterData/Labeled_10554_train.json', orient='records')\n",
    "validate_df.to_json('/home/ravi/raviProject/DATA/Annotate/iterData/Labeled_2261_dev.json', orient='records')\n",
    "test_df.to_json('/home/ravi/raviProject/DATA/Annotate/iterData/Labeled_2261_test.json', orient='records')"
   ]
  },
  {
   "cell_type": "markdown",
   "id": "3aa80b34",
   "metadata": {},
   "source": [
    "# plot"
   ]
  },
  {
   "cell_type": "code",
   "execution_count": 20,
   "id": "af9221ca",
   "metadata": {},
   "outputs": [
    {
     "data": {
      "text/plain": [
       "((2000000, 5), (15076, 4))"
      ]
     },
     "execution_count": 20,
     "metadata": {},
     "output_type": "execute_result"
    }
   ],
   "source": [
    "remaining_df.shape, df.shape"
   ]
  },
  {
   "cell_type": "code",
   "execution_count": 55,
   "id": "73c39580",
   "metadata": {},
   "outputs": [
    {
     "data": {
      "image/png": "[encoded data removed]",
      "text/plain": [
       "<Figure size 252x180 with 1 Axes>"
      ]
     },
     "metadata": {
      "needs_background": "light"
     },
     "output_type": "display_data"
    }
   ],
   "source": [
    "import pandas as pd\n",
    "import matplotlib.pyplot as plt\n",
    "from scipy.signal import savgol_filter\n",
    "\n",
    "# Example DataFrames\n",
    "df1 = df.copy()\n",
    "df2 = remaining_df.copy()\n",
    "\n",
    "# Convert Unix timestamps to datetime\n",
    "df1['replyDate'] = pd.to_datetime(df1['replyDate'], unit='s')\n",
    "df2['replyDate'] = pd.to_datetime(df2['replyDate'], unit='s')\n",
    "\n",
    "# Count replies per day\n",
    "df1_daily = df1.groupby(df1['replyDate'].dt.date).size()\n",
    "df2_daily = df2.groupby(df2['replyDate'].dt.date).size()\n",
    "\n",
    "# Apply Savitzky-Golay filter to smooth the data\n",
    "window_length = 31  # Window length (must be odd)\n",
    "polyorder = 1  # Polynomial order\n",
    "df1_daily_smoothed = savgol_filter(df1_daily, window_length, polyorder, mode='nearest')\n",
    "df2_daily_smoothed = savgol_filter(df2_daily, window_length, polyorder, mode='nearest')\n",
    "\n",
    "# Create the plot\n",
    "plt.figure(figsize=(3.5, 2.5))\n",
    "plt.plot(df1_daily.index, df1_daily_smoothed, label='Labeled')\n",
    "plt.plot(df2_daily.index, df2_daily_smoothed, label='Unlabeled')\n",
    "plt.yscale('log')  # Set y-axis to logarithmic scale\n",
    "plt.xlabel('Day', fontsize=8)\n",
    "plt.ylabel('Number of Replies (Log Scale)', fontsize=8)\n",
    "plt.legend(loc='upper left', fontsize=8)\n",
    "plt.grid(True, which='both', linestyle='--', linewidth=0.5)\n",
    "plt.xticks(rotation=45, fontsize=8)\n",
    "plt.yticks(fontsize=8)\n",
    "plt.tight_layout()\n",
    "\n",
    "plt.savefig('/home/ravi/raviProject/CountVsYear.png', format='png', dpi=1200, bbox_inches='tight')\n",
    "\n",
    "# Show the plot\n",
    "plt.show()"
   ]
  },
  {
   "cell_type": "code",
   "execution_count": 45,
   "id": "aa4e3b8d",
   "metadata": {},
   "outputs": [
    {
     "data": {
      "image/png": "[encoded data removed]",
      "text/plain": [
       "<Figure size 720x432 with 1 Axes>"
      ]
     },
     "metadata": {
      "needs_background": "light"
     },
     "output_type": "display_data"
    }
   ],
   "source": [
    "import pandas as pd\n",
    "import matplotlib.pyplot as plt\n",
    "\n",
    "# Example DataFrames with Unix timestamps\n",
    "# df1 = pd.DataFrame({'replyDate': [1687098753, ...], 'reply': [...]})\n",
    "# df2 = pd.DataFrame({'replyDate': [1687098753, ...], 'reply': [...]})\n",
    "\n",
    "# Convert Unix timestamps to datetime\n",
    "df1['replyDate'] = pd.to_datetime(df1['replyDate'], unit='s')\n",
    "df2['replyDate'] = pd.to_datetime(df2['replyDate'], unit='s')\n",
    "\n",
    "# Count replies per day\n",
    "df1_daily = df1.groupby(df1['replyDate'].dt.date).size()\n",
    "df2_daily = df2.groupby(df2['replyDate'].dt.date).size()\n",
    "\n",
    "# Create the plot\n",
    "plt.figure(figsize=(10, 6))\n",
    "plt.plot(df1_daily.index, df1_daily.values, label='DF1 Replies', marker='o')\n",
    "plt.plot(df2_daily.index, df2_daily.values, label='DF2 Replies', marker='o')\n",
    "plt.yscale('log')  # Set y-axis to logarithmic scale\n",
    "plt.xlabel('Date')\n",
    "plt.ylabel('Number of Replies (Log Scale)')\n",
    "plt.title('Number of Replies per Day')\n",
    "plt.legend()\n",
    "plt.grid(True, which='both', linestyle='--', linewidth=0.5)\n",
    "plt.xticks(rotation=45)\n",
    "plt.tight_layout()\n",
    "\n",
    "# Show the plot\n",
    "plt.show()"
   ]
  },
  {
   "cell_type": "code",
   "execution_count": null,
   "id": "ce6a2bf7",
   "metadata": {},
   "outputs": [],
   "source": []
  },
  {
   "cell_type": "code",
   "execution_count": null,
   "id": "f1e01f10",
   "metadata": {},
   "outputs": [],
   "source": []
  }
 ],
 "metadata": {
  "kernelspec": {
   "display_name": "base",
   "language": "python",
   "name": "python3"
  },
  "language_info": {
   "codemirror_mode": {
    "name": "ipython",
    "version": 3
   },
   "file_extension": ".py",
   "mimetype": "text/x-python",
   "name": "python",
   "nbconvert_exporter": "python",
   "pygments_lexer": "ipython3",
   "version": "3.10.4"
  }
 },
 "nbformat": 4,
 "nbformat_minor": 5
}
