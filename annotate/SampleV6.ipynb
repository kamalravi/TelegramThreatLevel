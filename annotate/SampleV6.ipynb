{
 "cells": [
  {
   "cell_type": "code",
   "execution_count": 2,
   "id": "4b295be7-c667-40bc-8f00-3aba590f0f3c",
   "metadata": {},
   "outputs": [],
   "source": [
    "import pandas as pd\n",
    "import glob\n",
    "import numpy as np\n",
    "import json\n",
    "import math\n",
    "from natsort import natsorted"
   ]
  },
  {
   "cell_type": "code",
   "execution_count": 2,
   "id": "e877d204-43e5-4d28-b25e-d3bc409f4c7f",
   "metadata": {},
   "outputs": [],
   "source": [
    "data = pd.read_json(\"/home/ravi/raviProject/DATA/Annotate/remaining_V5.json\", orient='records')"
   ]
  },
  {
   "cell_type": "code",
   "execution_count": 3,
   "id": "acbc1ad5",
   "metadata": {},
   "outputs": [
    {
     "data": {
      "text/plain": [
       "(2251110, 5)"
      ]
     },
     "execution_count": 3,
     "metadata": {},
     "output_type": "execute_result"
    }
   ],
   "source": [
    "data.shape"
   ]
  },
  {
   "cell_type": "code",
   "execution_count": 5,
   "id": "84b0cd44",
   "metadata": {},
   "outputs": [
    {
     "data": {
      "text/html": [
       "<div>\n",
       "<style scoped>\n",
       "    .dataframe tbody tr th:only-of-type {\n",
       "        vertical-align: middle;\n",
       "    }\n",
       "\n",
       "    .dataframe tbody tr th {\n",
       "        vertical-align: top;\n",
       "    }\n",
       "\n",
       "    .dataframe thead th {\n",
       "        text-align: right;\n",
       "    }\n",
       "</style>\n",
       "<table border=\"1\" class=\"dataframe\">\n",
       "  <thead>\n",
       "    <tr style=\"text-align: right;\">\n",
       "      <th></th>\n",
       "      <th>msgDate</th>\n",
       "      <th>msg</th>\n",
       "      <th>replyDate</th>\n",
       "      <th>reply</th>\n",
       "      <th>telegramChannel</th>\n",
       "    </tr>\n",
       "  </thead>\n",
       "  <tbody>\n",
       "    <tr>\n",
       "      <th>0</th>\n",
       "      <td>1625601315</td>\n",
       "      <td>Jen Psaki Warns Americans: ‘We Will Be Going D...</td>\n",
       "      <td>1625604365</td>\n",
       "      <td>FK off commie</td>\n",
       "      <td>TheTrumpRepublicans.json</td>\n",
       "    </tr>\n",
       "    <tr>\n",
       "      <th>1</th>\n",
       "      <td>1677992459</td>\n",
       "      <td>Because being mayor wasn't.</td>\n",
       "      <td>1677995455</td>\n",
       "      <td>Good server at a homeless shelter</td>\n",
       "      <td>ResisttheMainstream.json</td>\n",
       "    </tr>\n",
       "    <tr>\n",
       "      <th>2</th>\n",
       "      <td>1681423089</td>\n",
       "      <td>Going live now with  @catturd2  tune in and ch...</td>\n",
       "      <td>1681485068</td>\n",
       "      <td>good day to all.</td>\n",
       "      <td>DonaldTrumpJr.json</td>\n",
       "    </tr>\n",
       "    <tr>\n",
       "      <th>3</th>\n",
       "      <td>1702760024</td>\n",
       "      <td>S a d l y   T r u m p   i s   e i t h e r   u ...</td>\n",
       "      <td>1702773525</td>\n",
       "      <td>Sorry buddy, but religious \"fanatics\" of ANY r...</td>\n",
       "      <td>ThePatriotVoice.json</td>\n",
       "    </tr>\n",
       "    <tr>\n",
       "      <th>4</th>\n",
       "      <td>1641020167</td>\n",
       "      <td>I   l i k e   c o f f e e   i n   c o n c e p t</td>\n",
       "      <td>1641020222</td>\n",
       "      <td>kek</td>\n",
       "      <td>LacansWhreHouse.json</td>\n",
       "    </tr>\n",
       "  </tbody>\n",
       "</table>\n",
       "</div>"
      ],
      "text/plain": [
       "      msgDate                                                msg   replyDate  \\\n",
       "0  1625601315  Jen Psaki Warns Americans: ‘We Will Be Going D...  1625604365   \n",
       "1  1677992459                        Because being mayor wasn't.  1677995455   \n",
       "2  1681423089  Going live now with  @catturd2  tune in and ch...  1681485068   \n",
       "3  1702760024  S a d l y   T r u m p   i s   e i t h e r   u ...  1702773525   \n",
       "4  1641020167    I   l i k e   c o f f e e   i n   c o n c e p t  1641020222   \n",
       "\n",
       "                                               reply           telegramChannel  \n",
       "0                                      FK off commie  TheTrumpRepublicans.json  \n",
       "1                  Good server at a homeless shelter  ResisttheMainstream.json  \n",
       "2                                   good day to all.        DonaldTrumpJr.json  \n",
       "3  Sorry buddy, but religious \"fanatics\" of ANY r...      ThePatriotVoice.json  \n",
       "4                                                kek      LacansWhreHouse.json  "
      ]
     },
     "execution_count": 5,
     "metadata": {},
     "output_type": "execute_result"
    }
   ],
   "source": [
    "data.head(5)"
   ]
  },
  {
   "cell_type": "code",
   "execution_count": 6,
   "id": "5e20590b",
   "metadata": {},
   "outputs": [],
   "source": [
    "df = data.copy()"
   ]
  },
  {
   "cell_type": "code",
   "execution_count": 7,
   "id": "17221fbf",
   "metadata": {},
   "outputs": [],
   "source": [
    "# Assuming df is your DataFrame\n",
    "shuffled_df = df.sample(frac=1, random_state=42)  # Shuffle the DataFrame\n",
    "\n",
    "# Sample a fraction of the DataFrame\n",
    "sampled_df = shuffled_df.sample(n=100000, replace=False, random_state=42)"
   ]
  },
  {
   "cell_type": "code",
   "execution_count": 8,
   "id": "167ce426",
   "metadata": {},
   "outputs": [
    {
     "data": {
      "text/plain": [
       "(100000, 5)"
      ]
     },
     "execution_count": 8,
     "metadata": {},
     "output_type": "execute_result"
    }
   ],
   "source": [
    "sampled_df.shape"
   ]
  },
  {
   "cell_type": "code",
   "execution_count": 9,
   "id": "72cb2bc3",
   "metadata": {},
   "outputs": [
    {
     "data": {
      "text/html": [
       "<div>\n",
       "<style scoped>\n",
       "    .dataframe tbody tr th:only-of-type {\n",
       "        vertical-align: middle;\n",
       "    }\n",
       "\n",
       "    .dataframe tbody tr th {\n",
       "        vertical-align: top;\n",
       "    }\n",
       "\n",
       "    .dataframe thead th {\n",
       "        text-align: right;\n",
       "    }\n",
       "</style>\n",
       "<table border=\"1\" class=\"dataframe\">\n",
       "  <thead>\n",
       "    <tr style=\"text-align: right;\">\n",
       "      <th></th>\n",
       "      <th>msgDate</th>\n",
       "      <th>msg</th>\n",
       "      <th>replyDate</th>\n",
       "      <th>reply</th>\n",
       "      <th>telegramChannel</th>\n",
       "    </tr>\n",
       "  </thead>\n",
       "  <tbody>\n",
       "    <tr>\n",
       "      <th>616027</th>\n",
       "      <td>1677869084</td>\n",
       "      <td></td>\n",
       "      <td>1677869167</td>\n",
       "      <td>But CIVIL WAR will happen 1st</td>\n",
       "      <td>ResisttheMainstream.json</td>\n",
       "    </tr>\n",
       "    <tr>\n",
       "      <th>1410665</th>\n",
       "      <td>1652417709</td>\n",
       "      <td>​ With Baby Formula Shortage, Pete Buttigieg F...</td>\n",
       "      <td>1652904626</td>\n",
       "      <td>His kids are at least a yr old now.</td>\n",
       "      <td>TrumpSupportersChannel.json</td>\n",
       "    </tr>\n",
       "    <tr>\n",
       "      <th>828345</th>\n",
       "      <td>1680718485</td>\n",
       "      <td>You don’t have to choose between what you buy ...</td>\n",
       "      <td>1680720428</td>\n",
       "      <td>Good post</td>\n",
       "      <td>DonaldTrumpJr.json</td>\n",
       "    </tr>\n",
       "    <tr>\n",
       "      <th>1303664</th>\n",
       "      <td>1658959141</td>\n",
       "      <td>I s   i t   j u s t   m e ,   o r   d o e s   ...</td>\n",
       "      <td>1658959618</td>\n",
       "      <td>🤣</td>\n",
       "      <td>ThePatriotVoice.json</td>\n",
       "    </tr>\n",
       "    <tr>\n",
       "      <th>797643</th>\n",
       "      <td>1694116233</td>\n",
       "      <td>Greg Gutfeld Predicts Ex-Dem Tulsi Gabbard Wil...</td>\n",
       "      <td>1694179761</td>\n",
       "      <td>No no no</td>\n",
       "      <td>TheTrumpRepublicans.json</td>\n",
       "    </tr>\n",
       "  </tbody>\n",
       "</table>\n",
       "</div>"
      ],
      "text/plain": [
       "            msgDate                                                msg  \\\n",
       "616027   1677869084                                                      \n",
       "1410665  1652417709  ​ With Baby Formula Shortage, Pete Buttigieg F...   \n",
       "828345   1680718485  You don’t have to choose between what you buy ...   \n",
       "1303664  1658959141  I s   i t   j u s t   m e ,   o r   d o e s   ...   \n",
       "797643   1694116233  Greg Gutfeld Predicts Ex-Dem Tulsi Gabbard Wil...   \n",
       "\n",
       "          replyDate                                reply  \\\n",
       "616027   1677869167        But CIVIL WAR will happen 1st   \n",
       "1410665  1652904626  His kids are at least a yr old now.   \n",
       "828345   1680720428                            Good post   \n",
       "1303664  1658959618                                    🤣   \n",
       "797643   1694179761                             No no no   \n",
       "\n",
       "                     telegramChannel  \n",
       "616027      ResisttheMainstream.json  \n",
       "1410665  TrumpSupportersChannel.json  \n",
       "828345            DonaldTrumpJr.json  \n",
       "1303664         ThePatriotVoice.json  \n",
       "797643      TheTrumpRepublicans.json  "
      ]
     },
     "execution_count": 9,
     "metadata": {},
     "output_type": "execute_result"
    }
   ],
   "source": [
    "sampled_df.head(5)"
   ]
  },
  {
   "cell_type": "code",
   "execution_count": 10,
   "id": "25d9ffe9-b72c-4883-8188-0dd7a938ef74",
   "metadata": {},
   "outputs": [],
   "source": [
    "sampled_df.to_json('/home/ravi/raviProject/DATA/Annotate/sampled_V6_100K.json', orient='records')"
   ]
  },
  {
   "cell_type": "code",
   "execution_count": 11,
   "id": "7c9abc8b",
   "metadata": {},
   "outputs": [],
   "source": [
    "# sampled_df=pd.read_json('/home/ravi/raviProject/DATA/Annotate/sampled_V1.json', orient='records')\n",
    "# # Save DataFrame as JSONL (JSON Lines)\n",
    "# with open('/home/ravi/raviProject/DATA/Annotate/sampled_V1.jsonl', 'w') as f:\n",
    "#     sampled_df.to_json(f, orient='records', lines=True)"
   ]
  },
  {
   "cell_type": "code",
   "execution_count": 12,
   "id": "074700db",
   "metadata": {},
   "outputs": [],
   "source": [
    "remaining_df = shuffled_df.drop(sampled_df.index)"
   ]
  },
  {
   "cell_type": "code",
   "execution_count": 13,
   "id": "092d9595",
   "metadata": {},
   "outputs": [
    {
     "data": {
      "text/plain": [
       "(2151110, 5)"
      ]
     },
     "execution_count": 13,
     "metadata": {},
     "output_type": "execute_result"
    }
   ],
   "source": [
    "remaining_df.shape"
   ]
  },
  {
   "cell_type": "code",
   "execution_count": 14,
   "id": "08a118db",
   "metadata": {},
   "outputs": [],
   "source": [
    "remaining_df.to_json('/home/ravi/raviProject/DATA/Annotate/remaining_V6.json', orient='records')"
   ]
  },
  {
   "cell_type": "code",
   "execution_count": 15,
   "id": "a82917f7",
   "metadata": {},
   "outputs": [
    {
     "data": {
      "text/html": [
       "<div>\n",
       "<style scoped>\n",
       "    .dataframe tbody tr th:only-of-type {\n",
       "        vertical-align: middle;\n",
       "    }\n",
       "\n",
       "    .dataframe tbody tr th {\n",
       "        vertical-align: top;\n",
       "    }\n",
       "\n",
       "    .dataframe thead th {\n",
       "        text-align: right;\n",
       "    }\n",
       "</style>\n",
       "<table border=\"1\" class=\"dataframe\">\n",
       "  <thead>\n",
       "    <tr style=\"text-align: right;\">\n",
       "      <th></th>\n",
       "      <th>msgDate</th>\n",
       "      <th>msg</th>\n",
       "      <th>replyDate</th>\n",
       "      <th>reply</th>\n",
       "      <th>telegramChannel</th>\n",
       "    </tr>\n",
       "  </thead>\n",
       "  <tbody>\n",
       "    <tr>\n",
       "      <th>2144695</th>\n",
       "      <td>1621531185</td>\n",
       "      <td>Coming to your city!! Pay attention. \\n</td>\n",
       "      <td>1621532425</td>\n",
       "      <td>We Trump back right now</td>\n",
       "      <td>AnalyzingAmerica.json</td>\n",
       "    </tr>\n",
       "    <tr>\n",
       "      <th>664545</th>\n",
       "      <td>1666120220</td>\n",
       "      <td></td>\n",
       "      <td>1666121082</td>\n",
       "      <td>cool 😀</td>\n",
       "      <td>DonaldTrumpJr.json</td>\n",
       "    </tr>\n",
       "    <tr>\n",
       "      <th>494190</th>\n",
       "      <td>1685195242</td>\n",
       "      <td>Major US Retailers Warn the Shoplifting Epidem...</td>\n",
       "      <td>1685199145</td>\n",
       "      <td>We in uk are encountering shoplifting on a gro...</td>\n",
       "      <td>TheTrumpRepublicans.json</td>\n",
       "    </tr>\n",
       "    <tr>\n",
       "      <th>2001645</th>\n",
       "      <td>1620231265</td>\n",
       "      <td>#AlexJonesShow  LIVE: UN Announces Criminal Pl...</td>\n",
       "      <td>1620232443</td>\n",
       "      <td>Whoever talks about Covid-19 as a deadly disea...</td>\n",
       "      <td>InfoWars.json</td>\n",
       "    </tr>\n",
       "    <tr>\n",
       "      <th>69970</th>\n",
       "      <td>1650756035</td>\n",
       "      <td>W o u l d   y o u ?</td>\n",
       "      <td>1650807458</td>\n",
       "      <td>Hello guys</td>\n",
       "      <td>AnalyzingAmerica.json</td>\n",
       "    </tr>\n",
       "  </tbody>\n",
       "</table>\n",
       "</div>"
      ],
      "text/plain": [
       "            msgDate                                                msg  \\\n",
       "2144695  1621531185           Coming to your city!! Pay attention. \\n    \n",
       "664545   1666120220                                                      \n",
       "494190   1685195242  Major US Retailers Warn the Shoplifting Epidem...   \n",
       "2001645  1620231265  #AlexJonesShow  LIVE: UN Announces Criminal Pl...   \n",
       "69970    1650756035                                W o u l d   y o u ?   \n",
       "\n",
       "          replyDate                                              reply  \\\n",
       "2144695  1621532425                            We Trump back right now   \n",
       "664545   1666121082                                             cool 😀   \n",
       "494190   1685199145  We in uk are encountering shoplifting on a gro...   \n",
       "2001645  1620232443  Whoever talks about Covid-19 as a deadly disea...   \n",
       "69970    1650807458                                         Hello guys   \n",
       "\n",
       "                  telegramChannel  \n",
       "2144695     AnalyzingAmerica.json  \n",
       "664545         DonaldTrumpJr.json  \n",
       "494190   TheTrumpRepublicans.json  \n",
       "2001645             InfoWars.json  \n",
       "69970       AnalyzingAmerica.json  "
      ]
     },
     "execution_count": 15,
     "metadata": {},
     "output_type": "execute_result"
    }
   ],
   "source": [
    "remaining_df.head(5)"
   ]
  },
  {
   "cell_type": "markdown",
   "id": "555739eb",
   "metadata": {},
   "source": [
    "# sample ~100 per class wrt model predictions"
   ]
  },
  {
   "cell_type": "code",
   "execution_count": 5,
   "id": "39229413",
   "metadata": {},
   "outputs": [],
   "source": [
    "df = pd.read_json('/home/ravi/raviProject/DATA/Annotate/LabelV6/sampled_V6_100K_yPred_RoBERTa_bs2_gradAcum8.json', orient='records')\n",
    "df1 = pd.read_json('/home/ravi/raviProject/DATA/Annotate/LabelV6/sampled_V6_100K_yPred_RoBERTa_bs2_gradAcum4.json', orient='records')\n",
    "df2 = pd.read_json('/home/ravi/raviProject/DATA/Annotate/LabelV6/sampled_V6_100K_yPred_RoBERTa_bs2_gradAcum2_steps16.json', orient='records')"
   ]
  },
  {
   "cell_type": "code",
   "execution_count": 6,
   "id": "b8295750",
   "metadata": {},
   "outputs": [
    {
     "data": {
      "text/plain": [
       "(0    94661\n",
       " 1     2713\n",
       " 2     2626\n",
       " Name: y_pred, dtype: int64,\n",
       " 0    93799\n",
       " 2     3931\n",
       " 1     2270\n",
       " Name: y_pred, dtype: int64,\n",
       " 0    95208\n",
       " 2     2747\n",
       " 1     2045\n",
       " Name: y_pred, dtype: int64)"
      ]
     },
     "execution_count": 6,
     "metadata": {},
     "output_type": "execute_result"
    }
   ],
   "source": [
    "df['y_pred'].value_counts(), df1['y_pred'].value_counts(), df2['y_pred'].value_counts()"
   ]
  },
  {
   "cell_type": "code",
   "execution_count": 7,
   "id": "5fdec1fc",
   "metadata": {},
   "outputs": [],
   "source": [
    "df.rename(columns={'y_pred': 'y_pred_bs2_gradcum8'}, inplace=True)\n",
    "df['y_pred_bs2_gradAcum4']=df1['y_pred']\n",
    "df['y_pred_bs2_gradAcum2_steps16']=df2['y_pred']"
   ]
  },
  {
   "cell_type": "code",
   "execution_count": 8,
   "id": "65db281a",
   "metadata": {},
   "outputs": [
    {
     "data": {
      "text/html": [
       "<div>\n",
       "<style scoped>\n",
       "    .dataframe tbody tr th:only-of-type {\n",
       "        vertical-align: middle;\n",
       "    }\n",
       "\n",
       "    .dataframe tbody tr th {\n",
       "        vertical-align: top;\n",
       "    }\n",
       "\n",
       "    .dataframe thead th {\n",
       "        text-align: right;\n",
       "    }\n",
       "</style>\n",
       "<table border=\"1\" class=\"dataframe\">\n",
       "  <thead>\n",
       "    <tr style=\"text-align: right;\">\n",
       "      <th></th>\n",
       "      <th>msgDate</th>\n",
       "      <th>msg</th>\n",
       "      <th>replyDate</th>\n",
       "      <th>text</th>\n",
       "      <th>telegramChannel</th>\n",
       "      <th>y_pred_bs2_gradcum8</th>\n",
       "      <th>y_pred_bs2_gradAcum4</th>\n",
       "      <th>y_pred_bs2_gradAcum2_steps16</th>\n",
       "    </tr>\n",
       "  </thead>\n",
       "  <tbody>\n",
       "    <tr>\n",
       "      <th>0</th>\n",
       "      <td>1677869084</td>\n",
       "      <td></td>\n",
       "      <td>1677869167</td>\n",
       "      <td>But CIVIL WAR will happen 1st</td>\n",
       "      <td>ResisttheMainstream.json</td>\n",
       "      <td>2</td>\n",
       "      <td>2</td>\n",
       "      <td>2</td>\n",
       "    </tr>\n",
       "  </tbody>\n",
       "</table>\n",
       "</div>"
      ],
      "text/plain": [
       "      msgDate msg   replyDate                           text  \\\n",
       "0  1677869084      1677869167  But CIVIL WAR will happen 1st   \n",
       "\n",
       "            telegramChannel  y_pred_bs2_gradcum8  y_pred_bs2_gradAcum4  \\\n",
       "0  ResisttheMainstream.json                    2                     2   \n",
       "\n",
       "   y_pred_bs2_gradAcum2_steps16  \n",
       "0                             2  "
      ]
     },
     "execution_count": 8,
     "metadata": {},
     "output_type": "execute_result"
    }
   ],
   "source": [
    "df.head(1)"
   ]
  },
  {
   "cell_type": "code",
   "execution_count": 9,
   "id": "4080730b",
   "metadata": {},
   "outputs": [],
   "source": [
    "def determine_y_pred(row):\n",
    "    labels = [row['y_pred_bs2_gradcum8'], row['y_pred_bs2_gradAcum4'], row['y_pred_bs2_gradAcum2_steps16']]\n",
    "    unique_labels, counts = np.unique(labels, return_counts=True)\n",
    "    \n",
    "    if len(unique_labels) == 1:\n",
    "        return unique_labels[0]\n",
    "    elif 2 in counts:\n",
    "        return unique_labels[np.argmax(counts)]\n",
    "    else:\n",
    "        return max(labels)\n",
    "\n",
    "df['y_pred'] = df.apply(determine_y_pred, axis=1)"
   ]
  },
  {
   "cell_type": "code",
   "execution_count": 10,
   "id": "1b0904a2",
   "metadata": {},
   "outputs": [
    {
     "data": {
      "text/html": [
       "<div>\n",
       "<style scoped>\n",
       "    .dataframe tbody tr th:only-of-type {\n",
       "        vertical-align: middle;\n",
       "    }\n",
       "\n",
       "    .dataframe tbody tr th {\n",
       "        vertical-align: top;\n",
       "    }\n",
       "\n",
       "    .dataframe thead th {\n",
       "        text-align: right;\n",
       "    }\n",
       "</style>\n",
       "<table border=\"1\" class=\"dataframe\">\n",
       "  <thead>\n",
       "    <tr style=\"text-align: right;\">\n",
       "      <th></th>\n",
       "      <th>msgDate</th>\n",
       "      <th>msg</th>\n",
       "      <th>replyDate</th>\n",
       "      <th>text</th>\n",
       "      <th>telegramChannel</th>\n",
       "      <th>y_pred_bs2_gradcum8</th>\n",
       "      <th>y_pred_bs2_gradAcum4</th>\n",
       "      <th>y_pred_bs2_gradAcum2_steps16</th>\n",
       "      <th>y_pred</th>\n",
       "    </tr>\n",
       "  </thead>\n",
       "  <tbody>\n",
       "    <tr>\n",
       "      <th>0</th>\n",
       "      <td>1677869084</td>\n",
       "      <td></td>\n",
       "      <td>1677869167</td>\n",
       "      <td>But CIVIL WAR will happen 1st</td>\n",
       "      <td>ResisttheMainstream.json</td>\n",
       "      <td>2</td>\n",
       "      <td>2</td>\n",
       "      <td>2</td>\n",
       "      <td>2</td>\n",
       "    </tr>\n",
       "  </tbody>\n",
       "</table>\n",
       "</div>"
      ],
      "text/plain": [
       "      msgDate msg   replyDate                           text  \\\n",
       "0  1677869084      1677869167  But CIVIL WAR will happen 1st   \n",
       "\n",
       "            telegramChannel  y_pred_bs2_gradcum8  y_pred_bs2_gradAcum4  \\\n",
       "0  ResisttheMainstream.json                    2                     2   \n",
       "\n",
       "   y_pred_bs2_gradAcum2_steps16  y_pred  \n",
       "0                             2       2  "
      ]
     },
     "execution_count": 10,
     "metadata": {},
     "output_type": "execute_result"
    }
   ],
   "source": [
    "df.head(1)"
   ]
  },
  {
   "cell_type": "code",
   "execution_count": 11,
   "id": "053366d7",
   "metadata": {},
   "outputs": [
    {
     "data": {
      "text/plain": [
       "0    94923\n",
       "2     2875\n",
       "1     2202\n",
       "Name: y_pred, dtype: int64"
      ]
     },
     "execution_count": 11,
     "metadata": {},
     "output_type": "execute_result"
    }
   ],
   "source": [
    "df['y_pred'].value_counts()"
   ]
  },
  {
   "cell_type": "code",
   "execution_count": 12,
   "id": "ed9b858c",
   "metadata": {},
   "outputs": [],
   "source": [
    "# Sample 100 rows with class 1\n",
    "sample_class_1 = df[df['y_pred'] == 0].sample(n=2539, random_state=42)\n",
    "\n",
    "# Sample 200 rows with class 2\n",
    "sample_class_2 = df[df['y_pred'] == 1].sample(n=2202, random_state=42)\n",
    "\n",
    "# Sample 400 rows with class 3\n",
    "sample_class_3 = df[df['y_pred'] == 2].sample(n=2875, random_state=42)\n",
    "\n",
    "# Concatenate the sampled dataframes\n",
    "sampled_df = pd.concat([sample_class_1, sample_class_2, sample_class_3])\n",
    "\n",
    "# Shuffle the dataframe\n",
    "sampled_df = sampled_df.sample(frac=1, random_state=42)\n",
    "\n",
    "# Drop the sampled rows from the original DataFrame to get the remaining rows\n",
    "remaining_data = df.drop(sampled_df.index)"
   ]
  },
  {
   "cell_type": "code",
   "execution_count": 13,
   "id": "45a7ae55",
   "metadata": {},
   "outputs": [
    {
     "data": {
      "text/html": [
       "<div>\n",
       "<style scoped>\n",
       "    .dataframe tbody tr th:only-of-type {\n",
       "        vertical-align: middle;\n",
       "    }\n",
       "\n",
       "    .dataframe tbody tr th {\n",
       "        vertical-align: top;\n",
       "    }\n",
       "\n",
       "    .dataframe thead th {\n",
       "        text-align: right;\n",
       "    }\n",
       "</style>\n",
       "<table border=\"1\" class=\"dataframe\">\n",
       "  <thead>\n",
       "    <tr style=\"text-align: right;\">\n",
       "      <th></th>\n",
       "      <th>msgDate</th>\n",
       "      <th>msg</th>\n",
       "      <th>replyDate</th>\n",
       "      <th>text</th>\n",
       "      <th>telegramChannel</th>\n",
       "      <th>y_pred_bs2_gradcum8</th>\n",
       "      <th>y_pred_bs2_gradAcum4</th>\n",
       "      <th>y_pred_bs2_gradAcum2_steps16</th>\n",
       "      <th>y_pred</th>\n",
       "    </tr>\n",
       "  </thead>\n",
       "  <tbody>\n",
       "    <tr>\n",
       "      <th>18282</th>\n",
       "      <td>1639548491</td>\n",
       "      <td>​ Dr. Scott Atlas – Fauci Undermined Trump, Mi...</td>\n",
       "      <td>1639570438</td>\n",
       "      <td>President Trump gave opportunity for those who...</td>\n",
       "      <td>TrumpSupportersChannel.json</td>\n",
       "      <td>0</td>\n",
       "      <td>0</td>\n",
       "      <td>0</td>\n",
       "      <td>0</td>\n",
       "    </tr>\n",
       "    <tr>\n",
       "      <th>68905</th>\n",
       "      <td>1664740852</td>\n",
       "      <td>🔴  Teacher Suspected of Grooming, Raping Girls...</td>\n",
       "      <td>1664740984</td>\n",
       "      <td>The reason, jail house justice!</td>\n",
       "      <td>ResisttheMainstream.json</td>\n",
       "      <td>1</td>\n",
       "      <td>1</td>\n",
       "      <td>1</td>\n",
       "      <td>1</td>\n",
       "    </tr>\n",
       "    <tr>\n",
       "      <th>82172</th>\n",
       "      <td>1662489632</td>\n",
       "      <td>🔴  Dem Lawmaker Who Just Won Senate Primary Re...</td>\n",
       "      <td>1662586707</td>\n",
       "      <td>You can run but you can’t hide from God !!</td>\n",
       "      <td>ResisttheMainstream.json</td>\n",
       "      <td>0</td>\n",
       "      <td>0</td>\n",
       "      <td>0</td>\n",
       "      <td>0</td>\n",
       "    </tr>\n",
       "    <tr>\n",
       "      <th>65977</th>\n",
       "      <td>1668368144</td>\n",
       "      <td></td>\n",
       "      <td>1669666078</td>\n",
       "      <td>😡😡</td>\n",
       "      <td>DonaldTrumpJr.json</td>\n",
       "      <td>0</td>\n",
       "      <td>0</td>\n",
       "      <td>0</td>\n",
       "      <td>0</td>\n",
       "    </tr>\n",
       "    <tr>\n",
       "      <th>77159</th>\n",
       "      <td>1648595766</td>\n",
       "      <td>A O C   m a k e s   $ 1 7 4 , 0 0 0   a   y e ...</td>\n",
       "      <td>1648597337</td>\n",
       "      <td>Exactly!!</td>\n",
       "      <td>TheTrumpRepublicans.json</td>\n",
       "      <td>0</td>\n",
       "      <td>0</td>\n",
       "      <td>0</td>\n",
       "      <td>0</td>\n",
       "    </tr>\n",
       "  </tbody>\n",
       "</table>\n",
       "</div>"
      ],
      "text/plain": [
       "          msgDate                                                msg  \\\n",
       "18282  1639548491  ​ Dr. Scott Atlas – Fauci Undermined Trump, Mi...   \n",
       "68905  1664740852  🔴  Teacher Suspected of Grooming, Raping Girls...   \n",
       "82172  1662489632  🔴  Dem Lawmaker Who Just Won Senate Primary Re...   \n",
       "65977  1668368144                                                      \n",
       "77159  1648595766  A O C   m a k e s   $ 1 7 4 , 0 0 0   a   y e ...   \n",
       "\n",
       "        replyDate                                               text  \\\n",
       "18282  1639570438  President Trump gave opportunity for those who...   \n",
       "68905  1664740984                    The reason, jail house justice!   \n",
       "82172  1662586707         You can run but you can’t hide from God !!   \n",
       "65977  1669666078                                                 😡😡   \n",
       "77159  1648597337                                          Exactly!!   \n",
       "\n",
       "                   telegramChannel  y_pred_bs2_gradcum8  y_pred_bs2_gradAcum4  \\\n",
       "18282  TrumpSupportersChannel.json                    0                     0   \n",
       "68905     ResisttheMainstream.json                    1                     1   \n",
       "82172     ResisttheMainstream.json                    0                     0   \n",
       "65977           DonaldTrumpJr.json                    0                     0   \n",
       "77159     TheTrumpRepublicans.json                    0                     0   \n",
       "\n",
       "       y_pred_bs2_gradAcum2_steps16  y_pred  \n",
       "18282                             0       0  \n",
       "68905                             1       1  \n",
       "82172                             0       0  \n",
       "65977                             0       0  \n",
       "77159                             0       0  "
      ]
     },
     "execution_count": 13,
     "metadata": {},
     "output_type": "execute_result"
    }
   ],
   "source": [
    "# Print the first few rows to verify\n",
    "sampled_df.head()"
   ]
  },
  {
   "cell_type": "code",
   "execution_count": 14,
   "id": "38b97c60",
   "metadata": {},
   "outputs": [
    {
     "data": {
      "text/plain": [
       "(7616, 92384)"
      ]
     },
     "execution_count": 14,
     "metadata": {},
     "output_type": "execute_result"
    }
   ],
   "source": [
    "len(sampled_df), len(remaining_data)"
   ]
  },
  {
   "cell_type": "code",
   "execution_count": 15,
   "id": "aca48b31",
   "metadata": {},
   "outputs": [],
   "source": [
    "remaining_data.to_json('/home/ravi/raviProject/DATA/Annotate/LabelV6/sampled_V6_100K_yPred_RoBERTa_remaining92384.json', orient='records')\n",
    "sampled_df.to_json('/home/ravi/raviProject/DATA/Annotate/LabelV6/sampled_V6_100K_yPred_RoBERTa_Sampled7616WithYpred.json', orient='records')\n",
    "sampled_df = sampled_df.drop(columns=['y_pred', 'y_pred_bs2_gradcum8', \n",
    "                                      'y_pred_bs2_gradAcum4', 'y_pred_bs2_gradAcum2_steps16'])\n",
    "sampled_df.to_csv('/home/ravi/raviProject/DATA/Annotate/LabelV6/sampled_V6_100K_yPred_RoBERTa_Sampled7616WithoutYpred.csv')"
   ]
  },
  {
   "cell_type": "markdown",
   "id": "d0fd106d",
   "metadata": {},
   "source": [
    "# Compare Labels"
   ]
  },
  {
   "cell_type": "code",
   "execution_count": 3,
   "id": "07815797",
   "metadata": {},
   "outputs": [],
   "source": [
    "V6GPT=pd.read_json('/home/ravi/raviProject/DATA/Annotate/LabelV6/sampled_V6_100K_yPred_RoBERTa_Sampled7616WithYpred.json', orient='records')"
   ]
  },
  {
   "cell_type": "code",
   "execution_count": 4,
   "id": "c00dda9b",
   "metadata": {},
   "outputs": [
    {
     "data": {
      "text/plain": [
       "(7616, 9)"
      ]
     },
     "execution_count": 4,
     "metadata": {},
     "output_type": "execute_result"
    }
   ],
   "source": [
    "V6GPT.shape"
   ]
  },
  {
   "cell_type": "code",
   "execution_count": 5,
   "id": "fc3b73a4",
   "metadata": {},
   "outputs": [
    {
     "data": {
      "text/html": [
       "<div>\n",
       "<style scoped>\n",
       "    .dataframe tbody tr th:only-of-type {\n",
       "        vertical-align: middle;\n",
       "    }\n",
       "\n",
       "    .dataframe tbody tr th {\n",
       "        vertical-align: top;\n",
       "    }\n",
       "\n",
       "    .dataframe thead th {\n",
       "        text-align: right;\n",
       "    }\n",
       "</style>\n",
       "<table border=\"1\" class=\"dataframe\">\n",
       "  <thead>\n",
       "    <tr style=\"text-align: right;\">\n",
       "      <th></th>\n",
       "      <th>msgDate</th>\n",
       "      <th>msg</th>\n",
       "      <th>replyDate</th>\n",
       "      <th>text</th>\n",
       "      <th>telegramChannel</th>\n",
       "      <th>y_pred_bs2_gradcum8</th>\n",
       "      <th>y_pred_bs2_gradAcum4</th>\n",
       "      <th>y_pred_bs2_gradAcum2_steps16</th>\n",
       "      <th>y_pred</th>\n",
       "    </tr>\n",
       "  </thead>\n",
       "  <tbody>\n",
       "    <tr>\n",
       "      <th>0</th>\n",
       "      <td>1639548491</td>\n",
       "      <td>​ Dr. Scott Atlas – Fauci Undermined Trump, Mi...</td>\n",
       "      <td>1639570438</td>\n",
       "      <td>President Trump gave opportunity for those who...</td>\n",
       "      <td>TrumpSupportersChannel.json</td>\n",
       "      <td>0</td>\n",
       "      <td>0</td>\n",
       "      <td>0</td>\n",
       "      <td>0</td>\n",
       "    </tr>\n",
       "  </tbody>\n",
       "</table>\n",
       "</div>"
      ],
      "text/plain": [
       "      msgDate                                                msg   replyDate  \\\n",
       "0  1639548491  ​ Dr. Scott Atlas – Fauci Undermined Trump, Mi...  1639570438   \n",
       "\n",
       "                                                text  \\\n",
       "0  President Trump gave opportunity for those who...   \n",
       "\n",
       "               telegramChannel  y_pred_bs2_gradcum8  y_pred_bs2_gradAcum4  \\\n",
       "0  TrumpSupportersChannel.json                    0                     0   \n",
       "\n",
       "   y_pred_bs2_gradAcum2_steps16  y_pred  \n",
       "0                             0       0  "
      ]
     },
     "execution_count": 5,
     "metadata": {},
     "output_type": "execute_result"
    }
   ],
   "source": [
    "V6GPT.head(1)"
   ]
  },
  {
   "cell_type": "code",
   "execution_count": 6,
   "id": "f86a3446",
   "metadata": {},
   "outputs": [
    {
     "data": {
      "text/html": [
       "<div>\n",
       "<style scoped>\n",
       "    .dataframe tbody tr th:only-of-type {\n",
       "        vertical-align: middle;\n",
       "    }\n",
       "\n",
       "    .dataframe tbody tr th {\n",
       "        vertical-align: top;\n",
       "    }\n",
       "\n",
       "    .dataframe thead th {\n",
       "        text-align: right;\n",
       "    }\n",
       "</style>\n",
       "<table border=\"1\" class=\"dataframe\">\n",
       "  <thead>\n",
       "    <tr style=\"text-align: right;\">\n",
       "      <th></th>\n",
       "      <th>msgDate</th>\n",
       "      <th>msg</th>\n",
       "      <th>replyDate</th>\n",
       "      <th>text</th>\n",
       "      <th>telegramChannel</th>\n",
       "      <th>y_pred_bs2_gradcum8</th>\n",
       "      <th>y_pred_bs2_gradAcum4</th>\n",
       "      <th>y_pred_bs2_gradAcum2_steps16</th>\n",
       "      <th>y_pred</th>\n",
       "    </tr>\n",
       "  </thead>\n",
       "  <tbody>\n",
       "    <tr>\n",
       "      <th>7615</th>\n",
       "      <td>1673838004</td>\n",
       "      <td>🔴 Ex-FBI Agent Weighs In on Idaho Murders Susp...</td>\n",
       "      <td>1673848988</td>\n",
       "      <td>Incel or not, he need to be put to a quick death.</td>\n",
       "      <td>ResisttheMainstream.json</td>\n",
       "      <td>2</td>\n",
       "      <td>2</td>\n",
       "      <td>2</td>\n",
       "      <td>2</td>\n",
       "    </tr>\n",
       "  </tbody>\n",
       "</table>\n",
       "</div>"
      ],
      "text/plain": [
       "         msgDate                                                msg  \\\n",
       "7615  1673838004  🔴 Ex-FBI Agent Weighs In on Idaho Murders Susp...   \n",
       "\n",
       "       replyDate                                               text  \\\n",
       "7615  1673848988  Incel or not, he need to be put to a quick death.   \n",
       "\n",
       "               telegramChannel  y_pred_bs2_gradcum8  y_pred_bs2_gradAcum4  \\\n",
       "7615  ResisttheMainstream.json                    2                     2   \n",
       "\n",
       "      y_pred_bs2_gradAcum2_steps16  y_pred  \n",
       "7615                             2       2  "
      ]
     },
     "execution_count": 6,
     "metadata": {},
     "output_type": "execute_result"
    }
   ],
   "source": [
    "V6GPT.tail(1)"
   ]
  },
  {
   "cell_type": "code",
   "execution_count": 7,
   "id": "9a136fca",
   "metadata": {},
   "outputs": [
    {
     "data": {
      "text/plain": [
       "2    2875\n",
       "0    2539\n",
       "1    2202\n",
       "Name: y_pred, dtype: int64"
      ]
     },
     "execution_count": 7,
     "metadata": {},
     "output_type": "execute_result"
    }
   ],
   "source": [
    "V6GPT['y_pred'].value_counts()"
   ]
  },
  {
   "cell_type": "code",
   "execution_count": 8,
   "id": "6ca808fe",
   "metadata": {},
   "outputs": [],
   "source": [
    "# Replace values in column 'FinalLabel'\n",
    "replacement_dict = {0 : 1, 1 : 2, 2 : 3}\n",
    "V6GPT['y_pred'] = V6GPT['y_pred'].replace(replacement_dict)\n",
    "V6GPT['y_pred_bs2_gradcum8'] = V6GPT['y_pred_bs2_gradcum8'].replace(replacement_dict)\n",
    "V6GPT['y_pred_bs2_gradAcum4'] = V6GPT['y_pred_bs2_gradAcum4'].replace(replacement_dict)\n",
    "V6GPT['y_pred_bs2_gradAcum2_steps16'] = V6GPT['y_pred_bs2_gradAcum2_steps16'].replace(replacement_dict)"
   ]
  },
  {
   "cell_type": "code",
   "execution_count": 14,
   "id": "6822c518",
   "metadata": {},
   "outputs": [],
   "source": [
    "V6Ravi=pd.read_csv('/home/ravi/raviProject/DATA/Annotate/LabelV6/sampled_V6_100K_yPred_RoBERTa_Sampled7616WithoutYpred_LabelRavi.csv')"
   ]
  },
  {
   "cell_type": "code",
   "execution_count": 15,
   "id": "e6dfd657",
   "metadata": {},
   "outputs": [
    {
     "data": {
      "text/plain": [
       "(7616, 7)"
      ]
     },
     "execution_count": 15,
     "metadata": {},
     "output_type": "execute_result"
    }
   ],
   "source": [
    "V6Ravi.shape"
   ]
  },
  {
   "cell_type": "code",
   "execution_count": 16,
   "id": "dc7e9a46",
   "metadata": {},
   "outputs": [
    {
     "data": {
      "text/html": [
       "<div>\n",
       "<style scoped>\n",
       "    .dataframe tbody tr th:only-of-type {\n",
       "        vertical-align: middle;\n",
       "    }\n",
       "\n",
       "    .dataframe tbody tr th {\n",
       "        vertical-align: top;\n",
       "    }\n",
       "\n",
       "    .dataframe thead th {\n",
       "        text-align: right;\n",
       "    }\n",
       "</style>\n",
       "<table border=\"1\" class=\"dataframe\">\n",
       "  <thead>\n",
       "    <tr style=\"text-align: right;\">\n",
       "      <th></th>\n",
       "      <th>Unnamed: 0</th>\n",
       "      <th>msgDate</th>\n",
       "      <th>msg</th>\n",
       "      <th>replyDate</th>\n",
       "      <th>text</th>\n",
       "      <th>telegramChannel</th>\n",
       "      <th>LabelRavi</th>\n",
       "    </tr>\n",
       "  </thead>\n",
       "  <tbody>\n",
       "    <tr>\n",
       "      <th>0</th>\n",
       "      <td>18282</td>\n",
       "      <td>1639548491</td>\n",
       "      <td>​ Dr. Scott Atlas – Fauci Undermined Trump, Mi...</td>\n",
       "      <td>1639570438</td>\n",
       "      <td>President Trump gave opportunity for those who...</td>\n",
       "      <td>TrumpSupportersChannel.json</td>\n",
       "      <td>1.0</td>\n",
       "    </tr>\n",
       "  </tbody>\n",
       "</table>\n",
       "</div>"
      ],
      "text/plain": [
       "   Unnamed: 0     msgDate                                                msg  \\\n",
       "0       18282  1639548491  ​ Dr. Scott Atlas – Fauci Undermined Trump, Mi...   \n",
       "\n",
       "    replyDate                                               text  \\\n",
       "0  1639570438  President Trump gave opportunity for those who...   \n",
       "\n",
       "               telegramChannel  LabelRavi  \n",
       "0  TrumpSupportersChannel.json        1.0  "
      ]
     },
     "execution_count": 16,
     "metadata": {},
     "output_type": "execute_result"
    }
   ],
   "source": [
    "V6Ravi.head(1)"
   ]
  },
  {
   "cell_type": "code",
   "execution_count": 17,
   "id": "bf9951a0",
   "metadata": {},
   "outputs": [
    {
     "data": {
      "text/html": [
       "<div>\n",
       "<style scoped>\n",
       "    .dataframe tbody tr th:only-of-type {\n",
       "        vertical-align: middle;\n",
       "    }\n",
       "\n",
       "    .dataframe tbody tr th {\n",
       "        vertical-align: top;\n",
       "    }\n",
       "\n",
       "    .dataframe thead th {\n",
       "        text-align: right;\n",
       "    }\n",
       "</style>\n",
       "<table border=\"1\" class=\"dataframe\">\n",
       "  <thead>\n",
       "    <tr style=\"text-align: right;\">\n",
       "      <th></th>\n",
       "      <th>Unnamed: 0</th>\n",
       "      <th>msgDate</th>\n",
       "      <th>msg</th>\n",
       "      <th>replyDate</th>\n",
       "      <th>text</th>\n",
       "      <th>telegramChannel</th>\n",
       "      <th>LabelRavi</th>\n",
       "    </tr>\n",
       "  </thead>\n",
       "  <tbody>\n",
       "    <tr>\n",
       "      <th>7615</th>\n",
       "      <td>27541</td>\n",
       "      <td>1673838004</td>\n",
       "      <td>🔴 Ex-FBI Agent Weighs In on Idaho Murders Susp...</td>\n",
       "      <td>1673848988</td>\n",
       "      <td>Incel or not, he need to be put to a quick death.</td>\n",
       "      <td>ResisttheMainstream.json</td>\n",
       "      <td>3.0</td>\n",
       "    </tr>\n",
       "  </tbody>\n",
       "</table>\n",
       "</div>"
      ],
      "text/plain": [
       "      Unnamed: 0     msgDate  \\\n",
       "7615       27541  1673838004   \n",
       "\n",
       "                                                    msg   replyDate  \\\n",
       "7615  🔴 Ex-FBI Agent Weighs In on Idaho Murders Susp...  1673848988   \n",
       "\n",
       "                                                   text  \\\n",
       "7615  Incel or not, he need to be put to a quick death.   \n",
       "\n",
       "               telegramChannel  LabelRavi  \n",
       "7615  ResisttheMainstream.json        3.0  "
      ]
     },
     "execution_count": 17,
     "metadata": {},
     "output_type": "execute_result"
    }
   ],
   "source": [
    "V6Ravi.tail(1)"
   ]
  },
  {
   "cell_type": "code",
   "execution_count": 18,
   "id": "b4c8c5a0",
   "metadata": {},
   "outputs": [
    {
     "data": {
      "text/plain": [
       "1.0    2114\n",
       "3.0    1967\n",
       "2.0    1595\n",
       "Name: LabelRavi, dtype: int64"
      ]
     },
     "execution_count": 18,
     "metadata": {},
     "output_type": "execute_result"
    }
   ],
   "source": [
    "V6Ravi['LabelRavi'].value_counts()"
   ]
  },
  {
   "cell_type": "code",
   "execution_count": 19,
   "id": "1cbf7fda",
   "metadata": {},
   "outputs": [],
   "source": [
    "V6Labels=V6GPT.copy()\n",
    "V6Labels['RLabel']=V6Ravi['LabelRavi']\n",
    "V6Labels = V6Labels.dropna(subset=['RLabel'], axis=0)\n",
    "V6Labels['RLabel']=V6Labels['RLabel'].astype('int64')"
   ]
  },
  {
   "cell_type": "code",
   "execution_count": 20,
   "id": "f3df5d98",
   "metadata": {},
   "outputs": [
    {
     "data": {
      "text/plain": [
       "(5676, 10)"
      ]
     },
     "execution_count": 20,
     "metadata": {},
     "output_type": "execute_result"
    }
   ],
   "source": [
    "V6Labels.shape"
   ]
  },
  {
   "cell_type": "code",
   "execution_count": 21,
   "id": "f013c492",
   "metadata": {},
   "outputs": [
    {
     "data": {
      "text/plain": [
       "1    2114\n",
       "3    1967\n",
       "2    1595\n",
       "Name: RLabel, dtype: int64"
      ]
     },
     "execution_count": 21,
     "metadata": {},
     "output_type": "execute_result"
    }
   ],
   "source": [
    "V6Labels['RLabel'].value_counts()"
   ]
  },
  {
   "cell_type": "code",
   "execution_count": 22,
   "id": "ed08fef6",
   "metadata": {},
   "outputs": [
    {
     "data": {
      "text/html": [
       "<div>\n",
       "<style scoped>\n",
       "    .dataframe tbody tr th:only-of-type {\n",
       "        vertical-align: middle;\n",
       "    }\n",
       "\n",
       "    .dataframe tbody tr th {\n",
       "        vertical-align: top;\n",
       "    }\n",
       "\n",
       "    .dataframe thead th {\n",
       "        text-align: right;\n",
       "    }\n",
       "</style>\n",
       "<table border=\"1\" class=\"dataframe\">\n",
       "  <thead>\n",
       "    <tr style=\"text-align: right;\">\n",
       "      <th></th>\n",
       "      <th>msgDate</th>\n",
       "      <th>msg</th>\n",
       "      <th>replyDate</th>\n",
       "      <th>text</th>\n",
       "      <th>telegramChannel</th>\n",
       "      <th>y_pred_bs2_gradcum8</th>\n",
       "      <th>y_pred_bs2_gradAcum4</th>\n",
       "      <th>y_pred_bs2_gradAcum2_steps16</th>\n",
       "      <th>y_pred</th>\n",
       "      <th>RLabel</th>\n",
       "    </tr>\n",
       "  </thead>\n",
       "  <tbody>\n",
       "    <tr>\n",
       "      <th>0</th>\n",
       "      <td>1639548491</td>\n",
       "      <td>​ Dr. Scott Atlas – Fauci Undermined Trump, Mi...</td>\n",
       "      <td>1639570438</td>\n",
       "      <td>President Trump gave opportunity for those who...</td>\n",
       "      <td>TrumpSupportersChannel.json</td>\n",
       "      <td>1</td>\n",
       "      <td>1</td>\n",
       "      <td>1</td>\n",
       "      <td>1</td>\n",
       "      <td>1</td>\n",
       "    </tr>\n",
       "  </tbody>\n",
       "</table>\n",
       "</div>"
      ],
      "text/plain": [
       "      msgDate                                                msg   replyDate  \\\n",
       "0  1639548491  ​ Dr. Scott Atlas – Fauci Undermined Trump, Mi...  1639570438   \n",
       "\n",
       "                                                text  \\\n",
       "0  President Trump gave opportunity for those who...   \n",
       "\n",
       "               telegramChannel  y_pred_bs2_gradcum8  y_pred_bs2_gradAcum4  \\\n",
       "0  TrumpSupportersChannel.json                    1                     1   \n",
       "\n",
       "   y_pred_bs2_gradAcum2_steps16  y_pred  RLabel  \n",
       "0                             1       1       1  "
      ]
     },
     "execution_count": 22,
     "metadata": {},
     "output_type": "execute_result"
    }
   ],
   "source": [
    "V6Labels.head(1)"
   ]
  },
  {
   "cell_type": "code",
   "execution_count": 23,
   "id": "29a7d1fc",
   "metadata": {},
   "outputs": [],
   "source": [
    "V6Labels.to_csv('/home/ravi/raviProject/DATA/Annotate/LabelV6/sampled_V6_100K_yPred_RoBERTa_Sampled5676WithYpred_RaviLabel.csv')"
   ]
  },
  {
   "cell_type": "code",
   "execution_count": 24,
   "id": "a4f3e99a",
   "metadata": {},
   "outputs": [],
   "source": [
    "V6Labels.to_json('/home/ravi/raviProject/DATA/Annotate/LabelV6/sampled_V6_100K_yPred_RoBERTa_Sampled5676WithYprednRavi.json', orient='records')"
   ]
  },
  {
   "cell_type": "markdown",
   "id": "3d3256a5",
   "metadata": {},
   "source": [
    "## score"
   ]
  },
  {
   "cell_type": "code",
   "execution_count": 25,
   "id": "627f2a99",
   "metadata": {},
   "outputs": [],
   "source": [
    "from sklearn.metrics import cohen_kappa_score\n",
    "from sklearn.metrics import classification_report, f1_score, accuracy_score\n"
   ]
  },
  {
   "cell_type": "code",
   "execution_count": 26,
   "id": "ed774ff2",
   "metadata": {},
   "outputs": [],
   "source": [
    "def sample_per_class(df, sample_count):\n",
    "    sampled_df = pd.DataFrame()\n",
    "    remaining_df = df.copy()\n",
    "\n",
    "    # Iterate over unique classes\n",
    "    for class_label in df['RLabel'].unique():\n",
    "        # Extract 100 rows where the column value is the current class label\n",
    "        sampled_class_df = remaining_df[remaining_df['RLabel'] == class_label]\n",
    "        sampled_class_df = sampled_class_df.sample(frac=1, random_state=42)\n",
    "        sampled_class_df = sampled_class_df.head(sample_count)\n",
    "\n",
    "        # Append sampled rows to the sampled_df DataFrame\n",
    "        sampled_df = pd.concat([sampled_df, sampled_class_df], ignore_index=True)\n",
    "\n",
    "        # Remove the sampled rows from the remaining_df\n",
    "        remaining_df = remaining_df.drop(sampled_class_df.index)\n",
    "\n",
    "    return sampled_df, remaining_df"
   ]
  },
  {
   "cell_type": "code",
   "execution_count": 101,
   "id": "cd27971c",
   "metadata": {},
   "outputs": [],
   "source": [
    "df = V6Labels.copy()\n",
    "sampled_df, remaining_df = sample_per_class(df, 100)"
   ]
  },
  {
   "cell_type": "code",
   "execution_count": 102,
   "id": "4aac5559",
   "metadata": {},
   "outputs": [
    {
     "data": {
      "text/plain": [
       "(5676, 300, 5376)"
      ]
     },
     "execution_count": 102,
     "metadata": {},
     "output_type": "execute_result"
    }
   ],
   "source": [
    "len(df), len(sampled_df), len(remaining_df)"
   ]
  },
  {
   "cell_type": "code",
   "execution_count": 103,
   "id": "cea93929",
   "metadata": {},
   "outputs": [
    {
     "data": {
      "text/plain": [
       "1    100\n",
       "2    100\n",
       "3    100\n",
       "Name: RLabel, dtype: int64"
      ]
     },
     "execution_count": 103,
     "metadata": {},
     "output_type": "execute_result"
    }
   ],
   "source": [
    "sampled_df['RLabel'].value_counts()"
   ]
  },
  {
   "cell_type": "code",
   "execution_count": 104,
   "id": "f9dae3b8",
   "metadata": {},
   "outputs": [
    {
     "data": {
      "text/plain": [
       "1    2014\n",
       "3    1867\n",
       "2    1495\n",
       "Name: RLabel, dtype: int64"
      ]
     },
     "execution_count": 104,
     "metadata": {},
     "output_type": "execute_result"
    }
   ],
   "source": [
    "remaining_df['RLabel'].value_counts()"
   ]
  },
  {
   "cell_type": "code",
   "execution_count": 105,
   "id": "351982cc",
   "metadata": {},
   "outputs": [
    {
     "data": {
      "text/plain": [
       "5376"
      ]
     },
     "execution_count": 105,
     "metadata": {},
     "output_type": "execute_result"
    }
   ],
   "source": [
    "remaining_df.shape[0]"
   ]
  },
  {
   "cell_type": "code",
   "execution_count": 106,
   "id": "d3af2c5c",
   "metadata": {},
   "outputs": [
    {
     "data": {
      "text/html": [
       "<div>\n",
       "<style scoped>\n",
       "    .dataframe tbody tr th:only-of-type {\n",
       "        vertical-align: middle;\n",
       "    }\n",
       "\n",
       "    .dataframe tbody tr th {\n",
       "        vertical-align: top;\n",
       "    }\n",
       "\n",
       "    .dataframe thead th {\n",
       "        text-align: right;\n",
       "    }\n",
       "</style>\n",
       "<table border=\"1\" class=\"dataframe\">\n",
       "  <thead>\n",
       "    <tr style=\"text-align: right;\">\n",
       "      <th></th>\n",
       "      <th>msgDate</th>\n",
       "      <th>msg</th>\n",
       "      <th>replyDate</th>\n",
       "      <th>text</th>\n",
       "      <th>telegramChannel</th>\n",
       "      <th>y_pred_bs2_gradcum8</th>\n",
       "      <th>y_pred_bs2_gradAcum4</th>\n",
       "      <th>y_pred_bs2_gradAcum2_steps16</th>\n",
       "      <th>y_pred</th>\n",
       "      <th>RLabel</th>\n",
       "    </tr>\n",
       "  </thead>\n",
       "  <tbody>\n",
       "    <tr>\n",
       "      <th>0</th>\n",
       "      <td>1628311477</td>\n",
       "      <td>L i k e l y   t h e   r e a l   r e a s o n   ...</td>\n",
       "      <td>1628340337</td>\n",
       "      <td>Well done good and faithful servant.  May God ...</td>\n",
       "      <td>PatriotStreetfighter.json</td>\n",
       "      <td>1</td>\n",
       "      <td>1</td>\n",
       "      <td>1</td>\n",
       "      <td>1</td>\n",
       "      <td>1</td>\n",
       "    </tr>\n",
       "  </tbody>\n",
       "</table>\n",
       "</div>"
      ],
      "text/plain": [
       "      msgDate                                                msg   replyDate  \\\n",
       "0  1628311477  L i k e l y   t h e   r e a l   r e a s o n   ...  1628340337   \n",
       "\n",
       "                                                text  \\\n",
       "0  Well done good and faithful servant.  May God ...   \n",
       "\n",
       "             telegramChannel  y_pred_bs2_gradcum8  y_pred_bs2_gradAcum4  \\\n",
       "0  PatriotStreetfighter.json                    1                     1   \n",
       "\n",
       "   y_pred_bs2_gradAcum2_steps16  y_pred  RLabel  \n",
       "0                             1       1       1  "
      ]
     },
     "execution_count": 106,
     "metadata": {},
     "output_type": "execute_result"
    }
   ],
   "source": [
    "sampled_df.head(1)"
   ]
  },
  {
   "cell_type": "code",
   "execution_count": 107,
   "id": "23accea3",
   "metadata": {},
   "outputs": [],
   "source": [
    "kappa = cohen_kappa_score(sampled_df['RLabel'], sampled_df['y_pred_bs2_gradAcum2_steps16'])"
   ]
  },
  {
   "cell_type": "code",
   "execution_count": 108,
   "id": "e4a696ab",
   "metadata": {},
   "outputs": [
    {
     "data": {
      "text/plain": [
       "0.735"
      ]
     },
     "execution_count": 108,
     "metadata": {},
     "output_type": "execute_result"
    }
   ],
   "source": [
    "kappa"
   ]
  },
  {
   "cell_type": "code",
   "execution_count": 109,
   "id": "0256f5f0",
   "metadata": {},
   "outputs": [],
   "source": [
    "weighted_f1 = f1_score(sampled_df['RLabel'], sampled_df['y_pred_bs2_gradAcum2_steps16'], average='weighted')"
   ]
  },
  {
   "cell_type": "code",
   "execution_count": 110,
   "id": "924e8525",
   "metadata": {},
   "outputs": [
    {
     "data": {
      "text/plain": [
       "0.8204821213742317"
      ]
     },
     "execution_count": 110,
     "metadata": {},
     "output_type": "execute_result"
    }
   ],
   "source": [
    "weighted_f1"
   ]
  },
  {
   "cell_type": "code",
   "execution_count": 111,
   "id": "c9ff6868",
   "metadata": {},
   "outputs": [],
   "source": [
    "acc = accuracy_score(sampled_df['RLabel'], sampled_df['y_pred_bs2_gradAcum2_steps16'])"
   ]
  },
  {
   "cell_type": "code",
   "execution_count": 112,
   "id": "8429ca36",
   "metadata": {},
   "outputs": [
    {
     "data": {
      "text/plain": [
       "0.8233333333333334"
      ]
     },
     "execution_count": 112,
     "metadata": {},
     "output_type": "execute_result"
    }
   ],
   "source": [
    "acc"
   ]
  },
  {
   "cell_type": "code",
   "execution_count": 113,
   "id": "ec78116d",
   "metadata": {},
   "outputs": [],
   "source": [
    "# Generate classification report\n",
    "class_report = classification_report(sampled_df['RLabel'], sampled_df['y_pred_bs2_gradAcum2_steps16'])"
   ]
  },
  {
   "cell_type": "code",
   "execution_count": 114,
   "id": "c6e976a7",
   "metadata": {},
   "outputs": [
    {
     "name": "stdout",
     "output_type": "stream",
     "text": [
      "Classification Report:\n",
      "               precision    recall  f1-score   support\n",
      "\n",
      "           1       0.81      0.69      0.75       100\n",
      "           2       0.82      0.91      0.86       100\n",
      "           3       0.84      0.87      0.85       100\n",
      "\n",
      "    accuracy                           0.82       300\n",
      "   macro avg       0.82      0.82      0.82       300\n",
      "weighted avg       0.82      0.82      0.82       300\n",
      "\n"
     ]
    }
   ],
   "source": [
    "print(\"Classification Report:\\n\", class_report)"
   ]
  },
  {
   "cell_type": "code",
   "execution_count": 115,
   "id": "6c5bf903",
   "metadata": {},
   "outputs": [],
   "source": [
    "from sklearn.metrics import confusion_matrix\n",
    "import matplotlib.pyplot as plt\n",
    "import seaborn as sns"
   ]
  },
  {
   "cell_type": "code",
   "execution_count": 116,
   "id": "4c30c245",
   "metadata": {},
   "outputs": [
    {
     "data": {
      "image/png": "[encoded data removed]",
      "text/plain": [
       "<Figure size 576x432 with 1 Axes>"
      ]
     },
     "metadata": {
      "needs_background": "light"
     },
     "output_type": "display_data"
    }
   ],
   "source": [
    "conf_matrix=confusion_matrix(sampled_df['RLabel'], sampled_df['y_pred_bs2_gradAcum2_steps16'])\n",
    "# Plot the confusion matrix as a heatmap\n",
    "plt.figure(figsize=(8, 6))\n",
    "sns.heatmap(conf_matrix, annot=True, fmt='d', cmap='Blues', cbar=False)\n",
    "plt.title('Confusion Matrix')\n",
    "plt.xlabel('Predicted Labels')\n",
    "plt.ylabel('True Labels')\n",
    "\n",
    "# Set the tick labels to match your class labels (1, 2, 3)\n",
    "plt.xticks(ticks=[0.5, 1.5, 2.5], labels=[1, 2, 3])\n",
    "plt.yticks(ticks=[0.5, 1.5, 2.5], labels=[1, 2, 3])\n",
    "\n",
    "plt.show()"
   ]
  },
  {
   "cell_type": "code",
   "execution_count": 117,
   "id": "a41da400",
   "metadata": {},
   "outputs": [],
   "source": [
    "sampled_df.to_json('/home/ravi/raviProject/DATA/Annotate/LabelV6/V6_Labeled_300_sampled.json', orient='records')\n",
    "remaining_df.to_json('/home/ravi/raviProject/DATA/Annotate/LabelV6/V6_Labeled_5376_remaining.json', orient='records')"
   ]
  },
  {
   "cell_type": "markdown",
   "id": "c142c27c",
   "metadata": {},
   "source": [
    "# MERGE with previous labeled set"
   ]
  },
  {
   "cell_type": "markdown",
   "id": "61441be9",
   "metadata": {},
   "source": [
    "### combine all - full labeled set"
   ]
  },
  {
   "cell_type": "code",
   "execution_count": 3,
   "id": "fa8fdb64",
   "metadata": {},
   "outputs": [],
   "source": [
    "V1Labels = pd.read_json('/home/ravi/raviProject/DATA/Annotate/LabelV1/sampled_V1_10K_Experts_Sampled487WithMattnRavi.json', orient='records')\n",
    "V2Labels = pd.read_json('/home/ravi/raviProject/DATA/Annotate/LabelV2/sampled_V2_10K_yPred_RoBERTa_Sampled1457WithYprednRavi.json', orient='records')\n",
    "V3Labels = pd.read_json('/home/ravi/raviProject/DATA/Annotate/LabelV3/sampled_V3_10K_yPred_RoBERTa_Sampled1404WithYprednRavi.json', orient='records')\n",
    "V4Labels = pd.read_json('/home/ravi/raviProject/DATA/Annotate/LabelV4/sampled_V4_10K_yPred_RoBERTa_Sampled1044WithYprednRavi.json', orient='records')\n",
    "V5Labels = pd.read_json('/home/ravi/raviProject/DATA/Annotate/LabelV5/sampled_V5_10K_yPred_RoBERTa_Sampled853WithYprednRavi.json', orient='records')\n",
    "V6Labels = pd.read_json('/home/ravi/raviProject/DATA/Annotate/LabelV6/sampled_V6_100K_yPred_RoBERTa_Sampled5676WithYprednRavi.json', orient='records')"
   ]
  },
  {
   "cell_type": "code",
   "execution_count": 10,
   "id": "97e223cc",
   "metadata": {},
   "outputs": [
    {
     "data": {
      "text/html": [
       "<div>\n",
       "<style scoped>\n",
       "    .dataframe tbody tr th:only-of-type {\n",
       "        vertical-align: middle;\n",
       "    }\n",
       "\n",
       "    .dataframe tbody tr th {\n",
       "        vertical-align: top;\n",
       "    }\n",
       "\n",
       "    .dataframe thead th {\n",
       "        text-align: right;\n",
       "    }\n",
       "</style>\n",
       "<table border=\"1\" class=\"dataframe\">\n",
       "  <thead>\n",
       "    <tr style=\"text-align: right;\">\n",
       "      <th></th>\n",
       "      <th>Unnamed: 0</th>\n",
       "      <th>id</th>\n",
       "      <th>text</th>\n",
       "      <th>msg</th>\n",
       "      <th>msgDate</th>\n",
       "      <th>replyDate</th>\n",
       "      <th>comparison_MJ</th>\n",
       "      <th>telegramChannel</th>\n",
       "      <th>label</th>\n",
       "      <th>LabelM</th>\n",
       "      <th>LabelR</th>\n",
       "      <th>Agree?</th>\n",
       "      <th>FinalLabel</th>\n",
       "    </tr>\n",
       "  </thead>\n",
       "  <tbody>\n",
       "    <tr>\n",
       "      <th>0</th>\n",
       "      <td>3</td>\n",
       "      <td>41</td>\n",
       "      <td>She needs to strike that big fat mouth</td>\n",
       "      <td>This would be another win for Republicans.\\n</td>\n",
       "      <td>1651779040</td>\n",
       "      <td>1651806800</td>\n",
       "      <td>True</td>\n",
       "      <td>AnalyzingAmerica.json</td>\n",
       "      <td>['No threat / Ambiguous']</td>\n",
       "      <td>3</td>\n",
       "      <td>3</td>\n",
       "      <td>Equal</td>\n",
       "      <td>1</td>\n",
       "    </tr>\n",
       "  </tbody>\n",
       "</table>\n",
       "</div>"
      ],
      "text/plain": [
       "   Unnamed: 0  id                                    text  \\\n",
       "0           3  41  She needs to strike that big fat mouth   \n",
       "\n",
       "                                             msg     msgDate   replyDate  \\\n",
       "0  This would be another win for Republicans.\\n   1651779040  1651806800   \n",
       "\n",
       "  comparison_MJ        telegramChannel                      label  LabelM  \\\n",
       "0          True  AnalyzingAmerica.json  ['No threat / Ambiguous']       3   \n",
       "\n",
       "   LabelR Agree?  FinalLabel  \n",
       "0       3  Equal           1  "
      ]
     },
     "execution_count": 10,
     "metadata": {},
     "output_type": "execute_result"
    }
   ],
   "source": [
    "V1Labels.head(1)"
   ]
  },
  {
   "cell_type": "code",
   "execution_count": 11,
   "id": "7161dce9",
   "metadata": {},
   "outputs": [],
   "source": [
    "V2Labels.rename(columns={'RLabel': 'FinalLabel'}, inplace=True)\n",
    "V3Labels.rename(columns={'RLabel': 'FinalLabel'}, inplace=True)\n",
    "V4Labels.rename(columns={'RLabel': 'FinalLabel'}, inplace=True)\n",
    "V5Labels.rename(columns={'RLabel': 'FinalLabel'}, inplace=True)\n",
    "V6Labels.rename(columns={'RLabel': 'FinalLabel'}, inplace=True)"
   ]
  },
  {
   "cell_type": "code",
   "execution_count": 12,
   "id": "ae5cea29",
   "metadata": {},
   "outputs": [
    {
     "name": "stdout",
     "output_type": "stream",
     "text": [
      "(487, 13) \n",
      " 1    207\n",
      "3    171\n",
      "2    109\n",
      "Name: FinalLabel, dtype: int64\n",
      "(1457, 7) \n",
      " 1    1185\n",
      "2     152\n",
      "3     120\n",
      "Name: FinalLabel, dtype: int64\n",
      "(1404, 7) \n",
      " 1    1094\n",
      "3     176\n",
      "2     134\n",
      "Name: FinalLabel, dtype: int64\n",
      "(1044, 7) \n",
      " 1    746\n",
      "3    162\n",
      "2    136\n",
      "Name: FinalLabel, dtype: int64\n",
      "(853, 9) \n",
      " 1    505\n",
      "3    190\n",
      "2    158\n",
      "Name: FinalLabel, dtype: int64\n",
      "(5676, 10) \n",
      " 1    2114\n",
      "3    1967\n",
      "2    1595\n",
      "Name: FinalLabel, dtype: int64\n"
     ]
    }
   ],
   "source": [
    "print(V1Labels.shape, '\\n', V1Labels['FinalLabel'].value_counts())\n",
    "print(V2Labels.shape, '\\n', V2Labels['FinalLabel'].value_counts())\n",
    "print(V3Labels.shape, '\\n', V3Labels['FinalLabel'].value_counts())\n",
    "print(V4Labels.shape, '\\n', V4Labels['FinalLabel'].value_counts())\n",
    "print(V5Labels.shape, '\\n', V5Labels['FinalLabel'].value_counts())\n",
    "print(V6Labels.shape, '\\n', V6Labels['FinalLabel'].value_counts())"
   ]
  },
  {
   "cell_type": "code",
   "execution_count": 13,
   "id": "1bd6cf08",
   "metadata": {},
   "outputs": [],
   "source": [
    "selected_cols =['msgDate', 'msg', 'replyDate', 'text', 'telegramChannel', 'FinalLabel']\n",
    "merged_df = pd.concat([V1Labels[selected_cols], V2Labels[selected_cols], \n",
    "                       V3Labels[selected_cols], V4Labels[selected_cols],\n",
    "                       V5Labels[selected_cols], V6Labels[selected_cols]], ignore_index=True)"
   ]
  },
  {
   "cell_type": "code",
   "execution_count": 14,
   "id": "ca8ae9ab",
   "metadata": {},
   "outputs": [],
   "source": [
    "# Replace values in column 'FinalLabel'\n",
    "replacement_dict = {1 : 0, 2 : 1, 3 : 2}\n",
    "merged_df['FinalLabel'] = merged_df['FinalLabel'].replace(replacement_dict)"
   ]
  },
  {
   "cell_type": "code",
   "execution_count": 15,
   "id": "599c333e",
   "metadata": {},
   "outputs": [
    {
     "data": {
      "text/plain": [
       "(10921, 6)"
      ]
     },
     "execution_count": 15,
     "metadata": {},
     "output_type": "execute_result"
    }
   ],
   "source": [
    "merged_df.shape"
   ]
  },
  {
   "cell_type": "code",
   "execution_count": 16,
   "id": "94c423f4",
   "metadata": {},
   "outputs": [
    {
     "data": {
      "text/plain": [
       "0    5851\n",
       "2    2786\n",
       "1    2284\n",
       "Name: FinalLabel, dtype: int64"
      ]
     },
     "execution_count": 16,
     "metadata": {},
     "output_type": "execute_result"
    }
   ],
   "source": [
    "merged_df['FinalLabel'].value_counts()"
   ]
  },
  {
   "cell_type": "code",
   "execution_count": 17,
   "id": "035ee244",
   "metadata": {},
   "outputs": [],
   "source": [
    "shuffled_df = merged_df.sample(frac=1, random_state=42)  # Shuffle the DataFrame"
   ]
  },
  {
   "cell_type": "code",
   "execution_count": 18,
   "id": "ff090e06",
   "metadata": {},
   "outputs": [
    {
     "data": {
      "text/html": [
       "<div>\n",
       "<style scoped>\n",
       "    .dataframe tbody tr th:only-of-type {\n",
       "        vertical-align: middle;\n",
       "    }\n",
       "\n",
       "    .dataframe tbody tr th {\n",
       "        vertical-align: top;\n",
       "    }\n",
       "\n",
       "    .dataframe thead th {\n",
       "        text-align: right;\n",
       "    }\n",
       "</style>\n",
       "<table border=\"1\" class=\"dataframe\">\n",
       "  <thead>\n",
       "    <tr style=\"text-align: right;\">\n",
       "      <th></th>\n",
       "      <th>msgDate</th>\n",
       "      <th>msg</th>\n",
       "      <th>replyDate</th>\n",
       "      <th>text</th>\n",
       "      <th>telegramChannel</th>\n",
       "      <th>FinalLabel</th>\n",
       "    </tr>\n",
       "  </thead>\n",
       "  <tbody>\n",
       "    <tr>\n",
       "      <th>1110</th>\n",
       "      <td>1692927979</td>\n",
       "      <td>DONALDJTRUMP.COM</td>\n",
       "      <td>1692928100</td>\n",
       "      <td>I believe that’s exactly what the Democrats ar...</td>\n",
       "      <td>TrumpSupportersChannel.json</td>\n",
       "      <td>0</td>\n",
       "    </tr>\n",
       "    <tr>\n",
       "      <th>9552</th>\n",
       "      <td>1646855824</td>\n",
       "      <td>J e n   P s a k i :   \\n \\n S i n c e   P u t ...</td>\n",
       "      <td>1646943759</td>\n",
       "      <td>Fuck murderous Nazi scumbag biden \\nThis cocks...</td>\n",
       "      <td>TheTrumpRepublicans.json</td>\n",
       "      <td>2</td>\n",
       "    </tr>\n",
       "    <tr>\n",
       "      <th>5239</th>\n",
       "      <td>1677514811</td>\n",
       "      <td>🔴 Ted Cruz Calls for Senate Investigation Into...</td>\n",
       "      <td>1677594718</td>\n",
       "      <td>Just what we need; more investigations</td>\n",
       "      <td>ResisttheMainstream.json</td>\n",
       "      <td>1</td>\n",
       "    </tr>\n",
       "    <tr>\n",
       "      <th>3532</th>\n",
       "      <td>1707155342</td>\n",
       "      <td>Senate Leader Schumer: US Troops Could Be Sent...</td>\n",
       "      <td>1707160474</td>\n",
       "      <td>chucky needs his face bashed in .period</td>\n",
       "      <td>InfoWars.json</td>\n",
       "      <td>2</td>\n",
       "    </tr>\n",
       "    <tr>\n",
       "      <th>7254</th>\n",
       "      <td>1633132241</td>\n",
       "      <td>Let’s make sure it happens!\\n</td>\n",
       "      <td>1633135045</td>\n",
       "      <td>And so is America!  Time for Revolution ….rest...</td>\n",
       "      <td>AnalyzingAmerica.json</td>\n",
       "      <td>0</td>\n",
       "    </tr>\n",
       "  </tbody>\n",
       "</table>\n",
       "</div>"
      ],
      "text/plain": [
       "         msgDate                                                msg  \\\n",
       "1110  1692927979                                   DONALDJTRUMP.COM   \n",
       "9552  1646855824  J e n   P s a k i :   \\n \\n S i n c e   P u t ...   \n",
       "5239  1677514811  🔴 Ted Cruz Calls for Senate Investigation Into...   \n",
       "3532  1707155342  Senate Leader Schumer: US Troops Could Be Sent...   \n",
       "7254  1633132241                    Let’s make sure it happens!\\n     \n",
       "\n",
       "       replyDate                                               text  \\\n",
       "1110  1692928100  I believe that’s exactly what the Democrats ar...   \n",
       "9552  1646943759  Fuck murderous Nazi scumbag biden \\nThis cocks...   \n",
       "5239  1677594718             Just what we need; more investigations   \n",
       "3532  1707160474            chucky needs his face bashed in .period   \n",
       "7254  1633135045  And so is America!  Time for Revolution ….rest...   \n",
       "\n",
       "                  telegramChannel  FinalLabel  \n",
       "1110  TrumpSupportersChannel.json           0  \n",
       "9552     TheTrumpRepublicans.json           2  \n",
       "5239     ResisttheMainstream.json           1  \n",
       "3532                InfoWars.json           2  \n",
       "7254        AnalyzingAmerica.json           0  "
      ]
     },
     "execution_count": 18,
     "metadata": {},
     "output_type": "execute_result"
    }
   ],
   "source": [
    "shuffled_df.head()"
   ]
  },
  {
   "cell_type": "code",
   "execution_count": 19,
   "id": "7b3fb09a",
   "metadata": {},
   "outputs": [],
   "source": [
    "shuffled_df.to_json('/home/ravi/raviProject/DATA/Annotate/iterData/iter6_Labeled_10921_sampled_ALL.json', orient='records')"
   ]
  },
  {
   "cell_type": "markdown",
   "id": "68e712c5",
   "metadata": {},
   "source": [
    "## make new iter4 labeled data"
   ]
  },
  {
   "cell_type": "code",
   "execution_count": 20,
   "id": "760420cd",
   "metadata": {},
   "outputs": [],
   "source": [
    "df5 = pd.read_json('/home/ravi/raviProject/DATA/Annotate/iterData/iter6_Labeled_10921_sampled_ALL.json', orient='records')"
   ]
  },
  {
   "cell_type": "code",
   "execution_count": 21,
   "id": "da785c3f",
   "metadata": {},
   "outputs": [
    {
     "data": {
      "text/plain": [
       "0    5851\n",
       "2    2786\n",
       "1    2284\n",
       "Name: FinalLabel, dtype: int64"
      ]
     },
     "execution_count": 21,
     "metadata": {},
     "output_type": "execute_result"
    }
   ],
   "source": [
    "df5['FinalLabel'].value_counts()"
   ]
  },
  {
   "cell_type": "code",
   "execution_count": 22,
   "id": "de168ac4",
   "metadata": {},
   "outputs": [],
   "source": [
    "# Sample 100 rows with class 1\n",
    "sample_class_1 = df5[df5['FinalLabel'] == 0].sample(n=2535, random_state=42)\n",
    "\n",
    "# Sample 200 rows with class 2\n",
    "sample_class_2 = df5[df5['FinalLabel'] == 1].sample(n=2284, random_state=42)\n",
    "\n",
    "# Sample 400 rows with class 3\n",
    "sample_class_3 = df5[df5['FinalLabel'] == 2].sample(n=2786, random_state=42)\n",
    "\n",
    "# Concatenate the sampled dataframes\n",
    "sampled_df = pd.concat([sample_class_1, sample_class_2, sample_class_3])\n",
    "\n",
    "# Shuffle the dataframe\n",
    "sampled_df = sampled_df.sample(frac=1, random_state=42)\n",
    "\n",
    "# Drop the sampled rows from the original DataFrame to get the remaining rows\n",
    "remaining_data = df5.drop(sampled_df.index)"
   ]
  },
  {
   "cell_type": "code",
   "execution_count": 23,
   "id": "e21e556c",
   "metadata": {},
   "outputs": [
    {
     "data": {
      "text/plain": [
       "(7605, 3316)"
      ]
     },
     "execution_count": 23,
     "metadata": {},
     "output_type": "execute_result"
    }
   ],
   "source": [
    "len(sampled_df), len(remaining_data)"
   ]
  },
  {
   "cell_type": "code",
   "execution_count": 24,
   "id": "3c4fc865",
   "metadata": {},
   "outputs": [],
   "source": [
    "sampled_df.to_json('/home/ravi/raviProject/DATA/Annotate/LabelV6/V6_ALLLabeled_7605_sampled.json', orient='records')\n",
    "remaining_data.to_json('/home/ravi/raviProject/DATA/Annotate/LabelV6/V6_ALLLabeled_3316_remaining.json', orient='records')"
   ]
  },
  {
   "cell_type": "code",
   "execution_count": 25,
   "id": "762f8e68",
   "metadata": {},
   "outputs": [],
   "source": [
    "sampled_df.to_json('/home/ravi/raviProject/DATA/Annotate/iterData/iter6_Labeled_7605_sampled_forNextIter.json', orient='records')"
   ]
  },
  {
   "cell_type": "code",
   "execution_count": null,
   "id": "59247030",
   "metadata": {},
   "outputs": [],
   "source": []
  }
 ],
 "metadata": {
  "kernelspec": {
   "display_name": "base",
   "language": "python",
   "name": "python3"
  },
  "language_info": {
   "codemirror_mode": {
    "name": "ipython",
    "version": 3
   },
   "file_extension": ".py",
   "mimetype": "text/x-python",
   "name": "python",
   "nbconvert_exporter": "python",
   "pygments_lexer": "ipython3",
   "version": "3.10.4"
  }
 },
 "nbformat": 4,
 "nbformat_minor": 5
}
