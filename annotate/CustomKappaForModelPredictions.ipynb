{
 "cells": [
  {
   "cell_type": "code",
   "execution_count": 114,
   "id": "3774d88c-3046-4898-9a30-f11b47bdf155",
   "metadata": {},
   "outputs": [],
   "source": [
    "import pandas as pd\n",
    "import glob\n",
    "import numpy as np\n",
    "import json\n",
    "import math\n",
    "import matplotlib.pyplot as plt\n",
    "import seaborn as sns\n",
    "from sklearn.metrics import confusion_matrix, f1_score"
   ]
  },
  {
   "cell_type": "markdown",
   "id": "0142810f-b278-4719-b454-a7b05e9089d4",
   "metadata": {
    "tags": []
   },
   "source": [
    "## fastText predictions"
   ]
  },
  {
   "cell_type": "code",
   "execution_count": 3,
   "id": "372fe3b1-3ecd-4016-9c12-447d38878f32",
   "metadata": {},
   "outputs": [],
   "source": [
    "FTdf = pd.read_json(\"/home/ravi/UCF Dropbox/KAMALAKKANNAN RAVI/guyonDesktop/DATA_AutomatedHarmDetection/DataModelsResults/Results/fastText/test_data_yTrue_yPred.json\", orient='records')"
   ]
  },
  {
   "cell_type": "code",
   "execution_count": 4,
   "id": "00e41ab4-f393-4183-a4fa-c12abee041ba",
   "metadata": {},
   "outputs": [
    {
     "data": {
      "text/html": [
       "<div>\n",
       "<style scoped>\n",
       "    .dataframe tbody tr th:only-of-type {\n",
       "        vertical-align: middle;\n",
       "    }\n",
       "\n",
       "    .dataframe tbody tr th {\n",
       "        vertical-align: top;\n",
       "    }\n",
       "\n",
       "    .dataframe thead th {\n",
       "        text-align: right;\n",
       "    }\n",
       "</style>\n",
       "<table border=\"1\" class=\"dataframe\">\n",
       "  <thead>\n",
       "    <tr style=\"text-align: right;\">\n",
       "      <th></th>\n",
       "      <th>label</th>\n",
       "      <th>article</th>\n",
       "      <th>y_pred</th>\n",
       "    </tr>\n",
       "  </thead>\n",
       "  <tbody>\n",
       "    <tr>\n",
       "      <th>0</th>\n",
       "      <td>0</td>\n",
       "      <td>Buy silver and xrp just a opinion. Been diggin...</td>\n",
       "      <td>2</td>\n",
       "    </tr>\n",
       "  </tbody>\n",
       "</table>\n",
       "</div>"
      ],
      "text/plain": [
       "   label                                            article  y_pred\n",
       "0      0  Buy silver and xrp just a opinion. Been diggin...       2"
      ]
     },
     "execution_count": 4,
     "metadata": {},
     "output_type": "execute_result"
    }
   ],
   "source": [
    "FTdf.head(1)"
   ]
  },
  {
   "cell_type": "code",
   "execution_count": 5,
   "id": "2b6261d3-5c45-40f8-b3b6-9c4e4f5a4eb7",
   "metadata": {},
   "outputs": [
    {
     "data": {
      "text/plain": [
       "(1326, 3)"
      ]
     },
     "execution_count": 5,
     "metadata": {},
     "output_type": "execute_result"
    }
   ],
   "source": [
    "FTdf.shape"
   ]
  },
  {
   "cell_type": "code",
   "execution_count": 6,
   "id": "ba70cd68-b23c-491d-9c32-43b9e6145058",
   "metadata": {},
   "outputs": [
    {
     "data": {
      "text/plain": [
       "0    719\n",
       "2    363\n",
       "3    119\n",
       "5     52\n",
       "4     38\n",
       "1     35\n",
       "Name: label, dtype: int64"
      ]
     },
     "execution_count": 6,
     "metadata": {},
     "output_type": "execute_result"
    }
   ],
   "source": [
    "FTdf['label'].value_counts()"
   ]
  },
  {
   "cell_type": "markdown",
   "id": "8c0b7e78-7acd-454d-ada6-2230d167f018",
   "metadata": {
    "tags": []
   },
   "source": [
    "## GPT2 Epoch 5 predictions"
   ]
  },
  {
   "cell_type": "code",
   "execution_count": 16,
   "id": "27ad00a5-0826-4f9b-968a-b6eb2b392890",
   "metadata": {},
   "outputs": [],
   "source": [
    "G5df = pd.read_json(\"/home/ravi/UCF Dropbox/KAMALAKKANNAN RAVI/guyonDesktop/DATA_AutomatedHarmDetection/DataModelsResults/Results/OpenAIGPT2Epochs5/test_data_yTrue_yPred.json\", orient='records')"
   ]
  },
  {
   "cell_type": "code",
   "execution_count": 17,
   "id": "b2037ab8-e498-4ef6-8390-5a69528483e3",
   "metadata": {},
   "outputs": [
    {
     "data": {
      "text/html": [
       "<div>\n",
       "<style scoped>\n",
       "    .dataframe tbody tr th:only-of-type {\n",
       "        vertical-align: middle;\n",
       "    }\n",
       "\n",
       "    .dataframe tbody tr th {\n",
       "        vertical-align: top;\n",
       "    }\n",
       "\n",
       "    .dataframe thead th {\n",
       "        text-align: right;\n",
       "    }\n",
       "</style>\n",
       "<table border=\"1\" class=\"dataframe\">\n",
       "  <thead>\n",
       "    <tr style=\"text-align: right;\">\n",
       "      <th></th>\n",
       "      <th>text</th>\n",
       "      <th>label</th>\n",
       "      <th>y_pred</th>\n",
       "    </tr>\n",
       "  </thead>\n",
       "  <tbody>\n",
       "    <tr>\n",
       "      <th>0</th>\n",
       "      <td>Buy silver and xrp just a opinion. Been diggin...</td>\n",
       "      <td>0</td>\n",
       "      <td>2</td>\n",
       "    </tr>\n",
       "  </tbody>\n",
       "</table>\n",
       "</div>"
      ],
      "text/plain": [
       "                                                text  label  y_pred\n",
       "0  Buy silver and xrp just a opinion. Been diggin...      0       2"
      ]
     },
     "execution_count": 17,
     "metadata": {},
     "output_type": "execute_result"
    }
   ],
   "source": [
    "G5df.head(1)"
   ]
  },
  {
   "cell_type": "code",
   "execution_count": 20,
   "id": "749a7695-ba5d-43f0-b731-f27e5269b463",
   "metadata": {},
   "outputs": [
    {
     "data": {
      "text/plain": [
       "(1326, 3)"
      ]
     },
     "execution_count": 20,
     "metadata": {},
     "output_type": "execute_result"
    }
   ],
   "source": [
    "G5df.shape"
   ]
  },
  {
   "cell_type": "code",
   "execution_count": 21,
   "id": "6c78ae93-c025-4597-b9ea-3368b07f1fef",
   "metadata": {},
   "outputs": [
    {
     "data": {
      "text/plain": [
       "0    719\n",
       "2    363\n",
       "3    119\n",
       "5     52\n",
       "4     38\n",
       "1     35\n",
       "Name: label, dtype: int64"
      ]
     },
     "execution_count": 21,
     "metadata": {},
     "output_type": "execute_result"
    }
   ],
   "source": [
    "G5df['label'].value_counts()"
   ]
  },
  {
   "cell_type": "markdown",
   "id": "86f4d250-bea6-4e35-8d17-e5de57c33300",
   "metadata": {
    "tags": []
   },
   "source": [
    "# Sample 30 from each predicted class to be Annotated by Lizzy"
   ]
  },
  {
   "cell_type": "code",
   "execution_count": 13,
   "id": "20d93e85-2ffe-405e-be57-7f76014aea57",
   "metadata": {},
   "outputs": [
    {
     "data": {
      "text/plain": [
       "0    722\n",
       "2    408\n",
       "3     94\n",
       "4     48\n",
       "5     30\n",
       "1     24\n",
       "Name: y_pred, dtype: int64"
      ]
     },
     "execution_count": 13,
     "metadata": {},
     "output_type": "execute_result"
    }
   ],
   "source": [
    "FTdf['y_pred'].value_counts()"
   ]
  },
  {
   "cell_type": "code",
   "execution_count": 14,
   "id": "dc9e9116-562c-437f-8d18-a2730d87b541",
   "metadata": {},
   "outputs": [
    {
     "data": {
      "text/plain": [
       "0    825\n",
       "2    389\n",
       "3     76\n",
       "5     26\n",
       "4      7\n",
       "1      3\n",
       "Name: y_pred, dtype: int64"
      ]
     },
     "execution_count": 14,
     "metadata": {},
     "output_type": "execute_result"
    }
   ],
   "source": [
    "G5df['y_pred'].value_counts()"
   ]
  },
  {
   "cell_type": "code",
   "execution_count": 15,
   "id": "b70a0355-3e22-4795-81f9-83912c75270f",
   "metadata": {},
   "outputs": [],
   "source": [
    "df = FTdf.copy()"
   ]
  },
  {
   "cell_type": "code",
   "execution_count": 21,
   "id": "6b469c36-65b5-4112-818c-31d3addec085",
   "metadata": {},
   "outputs": [],
   "source": [
    "sampled_df = pd.concat([\n",
    "    df[df['y_pred'] == i].sample(n=min(len(df[df['y_pred'] == i]), 30)) for i in range(0, 6)\n",
    "])"
   ]
  },
  {
   "cell_type": "code",
   "execution_count": 22,
   "id": "923b681d-b4a0-4b88-94d9-a33540e01073",
   "metadata": {},
   "outputs": [
    {
     "data": {
      "text/plain": [
       "(174, 3)"
      ]
     },
     "execution_count": 22,
     "metadata": {},
     "output_type": "execute_result"
    }
   ],
   "source": [
    "sampled_df.shape"
   ]
  },
  {
   "cell_type": "code",
   "execution_count": 23,
   "id": "d7f39283-e3bd-40c2-94ac-4b17d49a3135",
   "metadata": {},
   "outputs": [],
   "source": [
    "sampled_df = sampled_df.sample(frac=1)"
   ]
  },
  {
   "cell_type": "code",
   "execution_count": 24,
   "id": "7303d601-5add-435c-adc2-5592f3a29ca1",
   "metadata": {},
   "outputs": [
    {
     "data": {
      "text/html": [
       "<div>\n",
       "<style scoped>\n",
       "    .dataframe tbody tr th:only-of-type {\n",
       "        vertical-align: middle;\n",
       "    }\n",
       "\n",
       "    .dataframe tbody tr th {\n",
       "        vertical-align: top;\n",
       "    }\n",
       "\n",
       "    .dataframe thead th {\n",
       "        text-align: right;\n",
       "    }\n",
       "</style>\n",
       "<table border=\"1\" class=\"dataframe\">\n",
       "  <thead>\n",
       "    <tr style=\"text-align: right;\">\n",
       "      <th></th>\n",
       "      <th>label</th>\n",
       "      <th>article</th>\n",
       "      <th>y_pred</th>\n",
       "    </tr>\n",
       "  </thead>\n",
       "  <tbody>\n",
       "    <tr>\n",
       "      <th>455</th>\n",
       "      <td>3</td>\n",
       "      <td>\"The principal instructed the teacher to leave...</td>\n",
       "      <td>1</td>\n",
       "    </tr>\n",
       "    <tr>\n",
       "      <th>379</th>\n",
       "      <td>2</td>\n",
       "      <td>Enough is enough already!  These hollywood nut...</td>\n",
       "      <td>3</td>\n",
       "    </tr>\n",
       "    <tr>\n",
       "      <th>571</th>\n",
       "      <td>0</td>\n",
       "      <td>The only people interested in this January 6th...</td>\n",
       "      <td>2</td>\n",
       "    </tr>\n",
       "    <tr>\n",
       "      <th>1196</th>\n",
       "      <td>3</td>\n",
       "      <td>The liberals are running their mouths so much ...</td>\n",
       "      <td>0</td>\n",
       "    </tr>\n",
       "    <tr>\n",
       "      <th>644</th>\n",
       "      <td>0</td>\n",
       "      <td>Sorry nothing to see here Why was there only o...</td>\n",
       "      <td>1</td>\n",
       "    </tr>\n",
       "    <tr>\n",
       "      <th>1047</th>\n",
       "      <td>2</td>\n",
       "      <td>They are not prop weapons but real live weapon...</td>\n",
       "      <td>2</td>\n",
       "    </tr>\n",
       "    <tr>\n",
       "      <th>1164</th>\n",
       "      <td>2</td>\n",
       "      <td>Unless God decides to intervene for a nation w...</td>\n",
       "      <td>2</td>\n",
       "    </tr>\n",
       "    <tr>\n",
       "      <th>1243</th>\n",
       "      <td>2</td>\n",
       "      <td>By the way, is there a US legal code or act th...</td>\n",
       "      <td>4</td>\n",
       "    </tr>\n",
       "    <tr>\n",
       "      <th>620</th>\n",
       "      <td>3</td>\n",
       "      <td>He's been a mean, POS for a very long time. I'...</td>\n",
       "      <td>1</td>\n",
       "    </tr>\n",
       "    <tr>\n",
       "      <th>1097</th>\n",
       "      <td>0</td>\n",
       "      <td>Sorry. The Pentagon looks like a “target” from...</td>\n",
       "      <td>0</td>\n",
       "    </tr>\n",
       "  </tbody>\n",
       "</table>\n",
       "</div>"
      ],
      "text/plain": [
       "      label                                            article  y_pred\n",
       "455       3  \"The principal instructed the teacher to leave...       1\n",
       "379       2  Enough is enough already!  These hollywood nut...       3\n",
       "571       0  The only people interested in this January 6th...       2\n",
       "1196      3  The liberals are running their mouths so much ...       0\n",
       "644       0  Sorry nothing to see here Why was there only o...       1\n",
       "1047      2  They are not prop weapons but real live weapon...       2\n",
       "1164      2  Unless God decides to intervene for a nation w...       2\n",
       "1243      2  By the way, is there a US legal code or act th...       4\n",
       "620       3  He's been a mean, POS for a very long time. I'...       1\n",
       "1097      0  Sorry. The Pentagon looks like a “target” from...       0"
      ]
     },
     "execution_count": 24,
     "metadata": {},
     "output_type": "execute_result"
    }
   ],
   "source": [
    "sampled_df.head(10)"
   ]
  },
  {
   "cell_type": "code",
   "execution_count": 25,
   "id": "e156ec9b-90a8-4b5c-995f-d6c192724771",
   "metadata": {},
   "outputs": [],
   "source": [
    "sampled_df.to_csv(\"/home/ravi/UCF Dropbox/KAMALAKKANNAN RAVI/guyonDesktop/DATA_AutomatedHarmDetection/Annotate/TestSamples174ForAnnotation.csv\")"
   ]
  },
  {
   "cell_type": "markdown",
   "id": "b0f958f3-9dd7-4a42-8760-6bc30f077504",
   "metadata": {},
   "source": [
    "# Get GPT-2 predictions on 174"
   ]
  },
  {
   "cell_type": "code",
   "execution_count": 84,
   "id": "a5915034-a371-4c31-8686-af68d37d5bf3",
   "metadata": {},
   "outputs": [],
   "source": [
    "sampled_df=pd.read_csv(\"/home/ravi/UCF Dropbox/KAMALAKKANNAN RAVI/guyonDesktop/DATA_AutomatedHarmDetection/Annotate/TestSamples174ForAnnotation.csv\")"
   ]
  },
  {
   "cell_type": "code",
   "execution_count": 85,
   "id": "1c74ad10-a678-4aac-83fa-77e2aba9d368",
   "metadata": {},
   "outputs": [
    {
     "data": {
      "text/html": [
       "<div>\n",
       "<style scoped>\n",
       "    .dataframe tbody tr th:only-of-type {\n",
       "        vertical-align: middle;\n",
       "    }\n",
       "\n",
       "    .dataframe tbody tr th {\n",
       "        vertical-align: top;\n",
       "    }\n",
       "\n",
       "    .dataframe thead th {\n",
       "        text-align: right;\n",
       "    }\n",
       "</style>\n",
       "<table border=\"1\" class=\"dataframe\">\n",
       "  <thead>\n",
       "    <tr style=\"text-align: right;\">\n",
       "      <th></th>\n",
       "      <th>Unnamed: 0</th>\n",
       "      <th>label</th>\n",
       "      <th>article</th>\n",
       "      <th>y_pred</th>\n",
       "    </tr>\n",
       "  </thead>\n",
       "  <tbody>\n",
       "    <tr>\n",
       "      <th>0</th>\n",
       "      <td>455</td>\n",
       "      <td>3</td>\n",
       "      <td>\"The principal instructed the teacher to leave...</td>\n",
       "      <td>1</td>\n",
       "    </tr>\n",
       "  </tbody>\n",
       "</table>\n",
       "</div>"
      ],
      "text/plain": [
       "   Unnamed: 0  label                                            article  \\\n",
       "0         455      3  \"The principal instructed the teacher to leave...   \n",
       "\n",
       "   y_pred  \n",
       "0       1  "
      ]
     },
     "execution_count": 85,
     "metadata": {},
     "output_type": "execute_result"
    }
   ],
   "source": [
    "sampled_df.head(1)"
   ]
  },
  {
   "cell_type": "code",
   "execution_count": 86,
   "id": "8e2888ed-b79d-4d35-963f-30802f52c7be",
   "metadata": {},
   "outputs": [],
   "source": [
    "sampled_df=sampled_df.rename(columns={'y_pred':'fastText','article':'reply'})"
   ]
  },
  {
   "cell_type": "code",
   "execution_count": 87,
   "id": "7033a406-1c9c-4862-9f94-274904ec9925",
   "metadata": {},
   "outputs": [],
   "source": [
    "# # Find the values of LizTest174['reply'] in G5df['reply']\n",
    "# matching_replies = G5df[G5df['text'].isin(sampled_df['reply'])]\n",
    "# # Extract G5df['y_pred'] for the matching replies\n",
    "# sampled_df['GPT2Epoch5'] = matching_replies['y_pred']"
   ]
  },
  {
   "cell_type": "code",
   "execution_count": 88,
   "id": "672ceec8-4256-4c81-9893-b4192b2951cc",
   "metadata": {},
   "outputs": [],
   "source": [
    "# Create a new column in LizTest174 to store the label values\n",
    "sampled_df['GPT2Epoch5'] = None\n",
    "\n",
    "# Iterate over each row in LizTest174\n",
    "for index, row in sampled_df.iterrows():\n",
    "    reply = row['reply']\n",
    "    \n",
    "    # Check if the reply is in G5df['reply']\n",
    "    matching_row = G5df[G5df['text'] == reply]\n",
    "    \n",
    "    # If a match is found, retrieve the label value from G5df and fill it in LizTest174\n",
    "    if not matching_row.empty:\n",
    "        label = matching_row.iloc[0]['y_pred']\n",
    "        sampled_df.at[index, 'GPT2Epoch5'] = label"
   ]
  },
  {
   "cell_type": "code",
   "execution_count": 90,
   "id": "ff51e803-8bf7-4b3e-b13a-074c393f2618",
   "metadata": {},
   "outputs": [
    {
     "data": {
      "text/plain": [
       "(174, 5)"
      ]
     },
     "execution_count": 90,
     "metadata": {},
     "output_type": "execute_result"
    }
   ],
   "source": [
    "sampled_df.shape"
   ]
  },
  {
   "cell_type": "code",
   "execution_count": 91,
   "id": "4fa780bd-7670-4792-b282-54d933f2404d",
   "metadata": {},
   "outputs": [
    {
     "data": {
      "text/html": [
       "<div>\n",
       "<style scoped>\n",
       "    .dataframe tbody tr th:only-of-type {\n",
       "        vertical-align: middle;\n",
       "    }\n",
       "\n",
       "    .dataframe tbody tr th {\n",
       "        vertical-align: top;\n",
       "    }\n",
       "\n",
       "    .dataframe thead th {\n",
       "        text-align: right;\n",
       "    }\n",
       "</style>\n",
       "<table border=\"1\" class=\"dataframe\">\n",
       "  <thead>\n",
       "    <tr style=\"text-align: right;\">\n",
       "      <th></th>\n",
       "      <th>Unnamed: 0</th>\n",
       "      <th>label</th>\n",
       "      <th>reply</th>\n",
       "      <th>fastText</th>\n",
       "      <th>GPT2Epoch5</th>\n",
       "    </tr>\n",
       "  </thead>\n",
       "  <tbody>\n",
       "    <tr>\n",
       "      <th>0</th>\n",
       "      <td>455</td>\n",
       "      <td>3</td>\n",
       "      <td>\"The principal instructed the teacher to leave...</td>\n",
       "      <td>1</td>\n",
       "      <td>0</td>\n",
       "    </tr>\n",
       "  </tbody>\n",
       "</table>\n",
       "</div>"
      ],
      "text/plain": [
       "   Unnamed: 0  label                                              reply  \\\n",
       "0         455      3  \"The principal instructed the teacher to leave...   \n",
       "\n",
       "   fastText GPT2Epoch5  \n",
       "0         1          0  "
      ]
     },
     "execution_count": 91,
     "metadata": {},
     "output_type": "execute_result"
    }
   ],
   "source": [
    "sampled_df.head(1)"
   ]
  },
  {
   "cell_type": "code",
   "execution_count": 92,
   "id": "e4c71dee-4b14-4925-9b3a-9361114c2f41",
   "metadata": {},
   "outputs": [],
   "source": [
    "sampled_df.to_csv(\"/home/ravi/UCF Dropbox/KAMALAKKANNAN RAVI/guyonDesktop/DATA_AutomatedHarmDetection/Annotate/TestSamples174ForAnnotationwithfastTextGPT2Epoch5.csv\")"
   ]
  },
  {
   "cell_type": "markdown",
   "id": "3e33b494-cf81-46e4-a7fe-e81b8bb6e634",
   "metadata": {},
   "source": [
    "# Annoation by Lizzy on Test set"
   ]
  },
  {
   "cell_type": "code",
   "execution_count": 93,
   "id": "87e83ce3-e704-4ace-9dbd-13f35b0a7db4",
   "metadata": {},
   "outputs": [],
   "source": [
    "Liz174=pd.read_csv(\"/home/ravi/UCF Dropbox/KAMALAKKANNAN RAVI/guyonDesktop/DATA_AutomatedHarmDetection/Annotate/TestSamples174ForAnnotationByLizzy.csv\")"
   ]
  },
  {
   "cell_type": "code",
   "execution_count": 94,
   "id": "ac94395a-ed75-49d7-9c66-72cd5d8d6e74",
   "metadata": {},
   "outputs": [
    {
     "data": {
      "text/html": [
       "<div>\n",
       "<style scoped>\n",
       "    .dataframe tbody tr th:only-of-type {\n",
       "        vertical-align: middle;\n",
       "    }\n",
       "\n",
       "    .dataframe tbody tr th {\n",
       "        vertical-align: top;\n",
       "    }\n",
       "\n",
       "    .dataframe thead th {\n",
       "        text-align: right;\n",
       "    }\n",
       "</style>\n",
       "<table border=\"1\" class=\"dataframe\">\n",
       "  <thead>\n",
       "    <tr style=\"text-align: right;\">\n",
       "      <th></th>\n",
       "      <th>#1</th>\n",
       "      <th>#</th>\n",
       "      <th>reply</th>\n",
       "      <th>Label</th>\n",
       "      <th>Label1 extra</th>\n",
       "      <th>Label2 extra</th>\n",
       "      <th>Label3 extra</th>\n",
       "    </tr>\n",
       "  </thead>\n",
       "  <tbody>\n",
       "    <tr>\n",
       "      <th>0</th>\n",
       "      <td>1</td>\n",
       "      <td>455</td>\n",
       "      <td>\"The principal instructed the teacher to leave...</td>\n",
       "      <td>1</td>\n",
       "      <td>NaN</td>\n",
       "      <td>NaN</td>\n",
       "      <td>NaN</td>\n",
       "    </tr>\n",
       "  </tbody>\n",
       "</table>\n",
       "</div>"
      ],
      "text/plain": [
       "   #1    #                                              reply  Label  \\\n",
       "0   1  455  \"The principal instructed the teacher to leave...      1   \n",
       "\n",
       "   Label1 extra  Label2 extra  Label3 extra  \n",
       "0           NaN           NaN           NaN  "
      ]
     },
     "execution_count": 94,
     "metadata": {},
     "output_type": "execute_result"
    }
   ],
   "source": [
    "Liz174.head(1)"
   ]
  },
  {
   "cell_type": "code",
   "execution_count": 95,
   "id": "38d966e9-d2bc-401c-8040-a00862511988",
   "metadata": {},
   "outputs": [
    {
     "data": {
      "text/plain": [
       "6    56\n",
       "4    28\n",
       "1    25\n",
       "5    25\n",
       "3    23\n",
       "2    17\n",
       "Name: Label, dtype: int64"
      ]
     },
     "execution_count": 95,
     "metadata": {},
     "output_type": "execute_result"
    }
   ],
   "source": [
    "Liz174['Label'].value_counts()"
   ]
  },
  {
   "cell_type": "code",
   "execution_count": 96,
   "id": "2e9d90ec-8abb-4dc6-a0c6-8c81fffdf1c2",
   "metadata": {},
   "outputs": [],
   "source": [
    "Test174=pd.read_csv(\"/home/ravi/UCF Dropbox/KAMALAKKANNAN RAVI/guyonDesktop/DATA_AutomatedHarmDetection/Annotate/TestSamples174ForAnnotationwithfastTextGPT2Epoch5.csv\")"
   ]
  },
  {
   "cell_type": "code",
   "execution_count": 101,
   "id": "fe9482a2-2b82-438c-882b-f8ebc464fd1d",
   "metadata": {},
   "outputs": [
    {
     "data": {
      "text/html": [
       "<div>\n",
       "<style scoped>\n",
       "    .dataframe tbody tr th:only-of-type {\n",
       "        vertical-align: middle;\n",
       "    }\n",
       "\n",
       "    .dataframe tbody tr th {\n",
       "        vertical-align: top;\n",
       "    }\n",
       "\n",
       "    .dataframe thead th {\n",
       "        text-align: right;\n",
       "    }\n",
       "</style>\n",
       "<table border=\"1\" class=\"dataframe\">\n",
       "  <thead>\n",
       "    <tr style=\"text-align: right;\">\n",
       "      <th></th>\n",
       "      <th>Unnamed: 0</th>\n",
       "      <th>Unnamed: 0.1</th>\n",
       "      <th>label</th>\n",
       "      <th>reply</th>\n",
       "      <th>fastText</th>\n",
       "      <th>GPT2Epoch5</th>\n",
       "    </tr>\n",
       "  </thead>\n",
       "  <tbody>\n",
       "    <tr>\n",
       "      <th>0</th>\n",
       "      <td>0</td>\n",
       "      <td>455</td>\n",
       "      <td>3</td>\n",
       "      <td>\"The principal instructed the teacher to leave...</td>\n",
       "      <td>1</td>\n",
       "      <td>0</td>\n",
       "    </tr>\n",
       "  </tbody>\n",
       "</table>\n",
       "</div>"
      ],
      "text/plain": [
       "   Unnamed: 0  Unnamed: 0.1  label  \\\n",
       "0           0           455      3   \n",
       "\n",
       "                                               reply  fastText  GPT2Epoch5  \n",
       "0  \"The principal instructed the teacher to leave...         1           0  "
      ]
     },
     "execution_count": 101,
     "metadata": {},
     "output_type": "execute_result"
    }
   ],
   "source": [
    "Test174.head(1)"
   ]
  },
  {
   "cell_type": "code",
   "execution_count": 103,
   "id": "a9f4b5f3-fc2e-4086-9f5d-41b9fc97dc6e",
   "metadata": {},
   "outputs": [
    {
     "data": {
      "text/plain": [
       "0    64\n",
       "2    36\n",
       "5    22\n",
       "4    21\n",
       "3    20\n",
       "1    11\n",
       "Name: label, dtype: int64"
      ]
     },
     "execution_count": 103,
     "metadata": {},
     "output_type": "execute_result"
    }
   ],
   "source": [
    "Test174['label'].value_counts()"
   ]
  },
  {
   "cell_type": "markdown",
   "id": "f99e661d-bea8-453b-9d70-cc5a0cba3d02",
   "metadata": {
    "tags": []
   },
   "source": [
    "## Custom Weighted Kappa"
   ]
  },
  {
   "cell_type": "code",
   "execution_count": 104,
   "id": "88396ba2-d19e-46ab-bcdb-66e249d0c057",
   "metadata": {},
   "outputs": [],
   "source": [
    "Liz174['Label'] = Liz174['Label'].replace([6], 0)"
   ]
  },
  {
   "cell_type": "code",
   "execution_count": 105,
   "id": "cb13927e-4635-4efe-ad65-f26d7edd6683",
   "metadata": {},
   "outputs": [
    {
     "data": {
      "text/plain": [
       "0    56\n",
       "4    28\n",
       "1    25\n",
       "5    25\n",
       "3    23\n",
       "2    17\n",
       "Name: Label, dtype: int64"
      ]
     },
     "execution_count": 105,
     "metadata": {},
     "output_type": "execute_result"
    }
   ],
   "source": [
    "Liz174['Label'].value_counts()"
   ]
  },
  {
   "cell_type": "code",
   "execution_count": 106,
   "id": "560da8de-5005-43e8-ac72-328d6abec95f",
   "metadata": {},
   "outputs": [],
   "source": [
    "# Define the weight matrix\n",
    "weightsLR = np.array([\n",
    "    [0, 0.2, 0.2, 0.3, 0.5, 0.5],\n",
    "    [0.2, 0, 0.1, 0.2, 0.4, 0.4],\n",
    "    [0.2, 0.1, 0, 0.2, 0.4, 0.4],\n",
    "    [0.3, 0.2, 0.2, 0, 0.2, 0.1],\n",
    "    [0.5, 0.4, 0.4, 0.2, 0, 0.3],\n",
    "    [0.5, 0.4, 0.4, 0.2, 0.3, 0]\n",
    "])\n",
    "\n",
    "def customWeightedKappa(y1, y2, weights):\n",
    "    # Calculate the confusion matrix\n",
    "    confusion = confusion_matrix(y1, y2)\n",
    "\n",
    "    # Normalize the confusion matrix to represent probabilities\n",
    "    total_ratings = np.sum(confusion)\n",
    "    confusion = confusion / total_ratings\n",
    "\n",
    "    # Compute the expected probability matrix under the assumption of independence\n",
    "    ratings_probs = np.sum(confusion, axis=1)\n",
    "    expected = np.outer(ratings_probs, ratings_probs)\n",
    "\n",
    "    # Compute the weighted Kappa score\n",
    "    kappa = 1 - np.sum(weights * confusion) / np.sum(weights * expected)\n",
    "    \n",
    "    return kappa"
   ]
  },
  {
   "cell_type": "code",
   "execution_count": 107,
   "id": "ece48c87-c75f-4012-b4b0-9432524d7253",
   "metadata": {},
   "outputs": [
    {
     "name": "stdout",
     "output_type": "stream",
     "text": [
      "0.33609116252778193\n"
     ]
    }
   ],
   "source": [
    "print(customWeightedKappa(Liz174['Label'], Test174['fastText'], weights=weightsLR))"
   ]
  },
  {
   "cell_type": "code",
   "execution_count": 108,
   "id": "b5a2cd5f-82be-44ea-b0db-428a0e957246",
   "metadata": {},
   "outputs": [
    {
     "name": "stdout",
     "output_type": "stream",
     "text": [
      "0.37632806176852196\n"
     ]
    }
   ],
   "source": [
    "print(customWeightedKappa(Liz174['Label'], Test174['GPT2Epoch5'], weights=weightsLR))"
   ]
  },
  {
   "cell_type": "code",
   "execution_count": 109,
   "id": "cbbc08b7-d21d-4cae-ab95-37ec952e694a",
   "metadata": {},
   "outputs": [
    {
     "name": "stdout",
     "output_type": "stream",
     "text": [
      "0.5082156759465049\n"
     ]
    }
   ],
   "source": [
    "print(customWeightedKappa(Liz174['Label'], Test174['label'], weights=weightsLR))"
   ]
  },
  {
   "cell_type": "code",
   "execution_count": 117,
   "id": "9ef4cac2-494f-4469-90e2-70d9cdf97f88",
   "metadata": {},
   "outputs": [
    {
     "name": "stdout",
     "output_type": "stream",
     "text": [
      "0.2063643595863166\n"
     ]
    }
   ],
   "source": [
    "print(customWeightedKappa(Test174['fastText'], Test174['GPT2Epoch5'], weights=weightsLR))"
   ]
  },
  {
   "cell_type": "code",
   "execution_count": null,
   "id": "6c95f040-e723-4389-ab6e-ed5790d88517",
   "metadata": {},
   "outputs": [],
   "source": []
  }
 ],
 "metadata": {
  "kernelspec": {
   "display_name": "Python [conda env:redditJournal] *",
   "language": "python",
   "name": "conda-env-redditJournal-py"
  },
  "language_info": {
   "codemirror_mode": {
    "name": "ipython",
    "version": 3
   },
   "file_extension": ".py",
   "mimetype": "text/x-python",
   "name": "python",
   "nbconvert_exporter": "python",
   "pygments_lexer": "ipython3",
   "version": "3.10.4"
  }
 },
 "nbformat": 4,
 "nbformat_minor": 5
}
