{
 "cells": [
  {
   "cell_type": "code",
   "execution_count": 2,
   "id": "4b295be7-c667-40bc-8f00-3aba590f0f3c",
   "metadata": {},
   "outputs": [],
   "source": [
    "import pandas as pd\n",
    "import glob\n",
    "import numpy as np\n",
    "import json\n",
    "import math\n",
    "from natsort import natsorted"
   ]
  },
  {
   "cell_type": "code",
   "execution_count": 2,
   "id": "e877d204-43e5-4d28-b25e-d3bc409f4c7f",
   "metadata": {},
   "outputs": [],
   "source": [
    "data = pd.read_json(\"/home/ravi/raviProject/DATA/Annotate/remaining_V6.json\", orient='records')"
   ]
  },
  {
   "cell_type": "code",
   "execution_count": 3,
   "id": "acbc1ad5",
   "metadata": {},
   "outputs": [
    {
     "data": {
      "text/plain": [
       "(2151110, 5)"
      ]
     },
     "execution_count": 3,
     "metadata": {},
     "output_type": "execute_result"
    }
   ],
   "source": [
    "data.shape"
   ]
  },
  {
   "cell_type": "code",
   "execution_count": 4,
   "id": "84b0cd44",
   "metadata": {},
   "outputs": [
    {
     "data": {
      "text/html": [
       "<div>\n",
       "<style scoped>\n",
       "    .dataframe tbody tr th:only-of-type {\n",
       "        vertical-align: middle;\n",
       "    }\n",
       "\n",
       "    .dataframe tbody tr th {\n",
       "        vertical-align: top;\n",
       "    }\n",
       "\n",
       "    .dataframe thead th {\n",
       "        text-align: right;\n",
       "    }\n",
       "</style>\n",
       "<table border=\"1\" class=\"dataframe\">\n",
       "  <thead>\n",
       "    <tr style=\"text-align: right;\">\n",
       "      <th></th>\n",
       "      <th>msgDate</th>\n",
       "      <th>msg</th>\n",
       "      <th>replyDate</th>\n",
       "      <th>reply</th>\n",
       "      <th>telegramChannel</th>\n",
       "    </tr>\n",
       "  </thead>\n",
       "  <tbody>\n",
       "    <tr>\n",
       "      <th>0</th>\n",
       "      <td>1621531185</td>\n",
       "      <td>Coming to your city!! Pay attention. \\n</td>\n",
       "      <td>1621532425</td>\n",
       "      <td>We Trump back right now</td>\n",
       "      <td>AnalyzingAmerica.json</td>\n",
       "    </tr>\n",
       "    <tr>\n",
       "      <th>1</th>\n",
       "      <td>1666120220</td>\n",
       "      <td></td>\n",
       "      <td>1666121082</td>\n",
       "      <td>cool 😀</td>\n",
       "      <td>DonaldTrumpJr.json</td>\n",
       "    </tr>\n",
       "    <tr>\n",
       "      <th>2</th>\n",
       "      <td>1685195242</td>\n",
       "      <td>Major US Retailers Warn the Shoplifting Epidem...</td>\n",
       "      <td>1685199145</td>\n",
       "      <td>We in uk are encountering shoplifting on a gro...</td>\n",
       "      <td>TheTrumpRepublicans.json</td>\n",
       "    </tr>\n",
       "    <tr>\n",
       "      <th>3</th>\n",
       "      <td>1620231265</td>\n",
       "      <td>#AlexJonesShow  LIVE: UN Announces Criminal Pl...</td>\n",
       "      <td>1620232443</td>\n",
       "      <td>Whoever talks about Covid-19 as a deadly disea...</td>\n",
       "      <td>InfoWars.json</td>\n",
       "    </tr>\n",
       "    <tr>\n",
       "      <th>4</th>\n",
       "      <td>1650756035</td>\n",
       "      <td>W o u l d   y o u ?</td>\n",
       "      <td>1650807458</td>\n",
       "      <td>Hello guys</td>\n",
       "      <td>AnalyzingAmerica.json</td>\n",
       "    </tr>\n",
       "  </tbody>\n",
       "</table>\n",
       "</div>"
      ],
      "text/plain": [
       "      msgDate                                                msg   replyDate  \\\n",
       "0  1621531185           Coming to your city!! Pay attention. \\n   1621532425   \n",
       "1  1666120220                                                     1666121082   \n",
       "2  1685195242  Major US Retailers Warn the Shoplifting Epidem...  1685199145   \n",
       "3  1620231265  #AlexJonesShow  LIVE: UN Announces Criminal Pl...  1620232443   \n",
       "4  1650756035                                W o u l d   y o u ?  1650807458   \n",
       "\n",
       "                                               reply           telegramChannel  \n",
       "0                            We Trump back right now     AnalyzingAmerica.json  \n",
       "1                                             cool 😀        DonaldTrumpJr.json  \n",
       "2  We in uk are encountering shoplifting on a gro...  TheTrumpRepublicans.json  \n",
       "3  Whoever talks about Covid-19 as a deadly disea...             InfoWars.json  \n",
       "4                                         Hello guys     AnalyzingAmerica.json  "
      ]
     },
     "execution_count": 4,
     "metadata": {},
     "output_type": "execute_result"
    }
   ],
   "source": [
    "data.head(5)"
   ]
  },
  {
   "cell_type": "code",
   "execution_count": 5,
   "id": "5e20590b",
   "metadata": {},
   "outputs": [],
   "source": [
    "df = data.copy()"
   ]
  },
  {
   "cell_type": "code",
   "execution_count": 6,
   "id": "17221fbf",
   "metadata": {},
   "outputs": [],
   "source": [
    "# Assuming df is your DataFrame\n",
    "shuffled_df = df.sample(frac=1, random_state=42)  # Shuffle the DataFrame\n",
    "\n",
    "# Sample a fraction of the DataFrame\n",
    "sampled_df = shuffled_df.sample(n=151110, replace=False, random_state=42)"
   ]
  },
  {
   "cell_type": "code",
   "execution_count": 7,
   "id": "167ce426",
   "metadata": {},
   "outputs": [
    {
     "data": {
      "text/plain": [
       "(151110, 5)"
      ]
     },
     "execution_count": 7,
     "metadata": {},
     "output_type": "execute_result"
    }
   ],
   "source": [
    "sampled_df.shape"
   ]
  },
  {
   "cell_type": "code",
   "execution_count": 8,
   "id": "72cb2bc3",
   "metadata": {},
   "outputs": [
    {
     "data": {
      "text/html": [
       "<div>\n",
       "<style scoped>\n",
       "    .dataframe tbody tr th:only-of-type {\n",
       "        vertical-align: middle;\n",
       "    }\n",
       "\n",
       "    .dataframe tbody tr th {\n",
       "        vertical-align: top;\n",
       "    }\n",
       "\n",
       "    .dataframe thead th {\n",
       "        text-align: right;\n",
       "    }\n",
       "</style>\n",
       "<table border=\"1\" class=\"dataframe\">\n",
       "  <thead>\n",
       "    <tr style=\"text-align: right;\">\n",
       "      <th></th>\n",
       "      <th>msgDate</th>\n",
       "      <th>msg</th>\n",
       "      <th>replyDate</th>\n",
       "      <th>reply</th>\n",
       "      <th>telegramChannel</th>\n",
       "    </tr>\n",
       "  </thead>\n",
       "  <tbody>\n",
       "    <tr>\n",
       "      <th>1836384</th>\n",
       "      <td>1628714797</td>\n",
       "      <td>👍👍👍\\n</td>\n",
       "      <td>1628904286</td>\n",
       "      <td>Chuck should be done!</td>\n",
       "      <td>AnalyzingAmerica.json</td>\n",
       "    </tr>\n",
       "    <tr>\n",
       "      <th>68605</th>\n",
       "      <td>1683570125</td>\n",
       "      <td>Investigative journalist  @jsolomonReports  jo...</td>\n",
       "      <td>1683572466</td>\n",
       "      <td>Bouna serata da verona italia 🇮🇹🙋‍♂️🌹</td>\n",
       "      <td>DonaldTrumpJr.json</td>\n",
       "    </tr>\n",
       "    <tr>\n",
       "      <th>831851</th>\n",
       "      <td>1684855224</td>\n",
       "      <td>🔴 PAC Seeks To 'Draft' Tucker Carlson for 2024...</td>\n",
       "      <td>1684873409</td>\n",
       "      <td>Tucker is just the gatekeeper of pandoras box ...</td>\n",
       "      <td>ResisttheMainstream.json</td>\n",
       "    </tr>\n",
       "    <tr>\n",
       "      <th>1394318</th>\n",
       "      <td>1670278749</td>\n",
       "      <td>W h e n   b a d   t h i n g s   h a p p e n   ...</td>\n",
       "      <td>1670280083</td>\n",
       "      <td>I'm so happy</td>\n",
       "      <td>DonaldTrumpJr.json</td>\n",
       "    </tr>\n",
       "    <tr>\n",
       "      <th>1028190</th>\n",
       "      <td>1644850946</td>\n",
       "      <td>'I, for one, will not be silenced. My family h...</td>\n",
       "      <td>1644852080</td>\n",
       "      <td>Agreed! I’m ready to take this to whatever lev...</td>\n",
       "      <td>TheTrumpRepublicans.json</td>\n",
       "    </tr>\n",
       "  </tbody>\n",
       "</table>\n",
       "</div>"
      ],
      "text/plain": [
       "            msgDate                                                msg  \\\n",
       "1836384  1628714797                                            👍👍👍\\n     \n",
       "68605    1683570125  Investigative journalist  @jsolomonReports  jo...   \n",
       "831851   1684855224  🔴 PAC Seeks To 'Draft' Tucker Carlson for 2024...   \n",
       "1394318  1670278749  W h e n   b a d   t h i n g s   h a p p e n   ...   \n",
       "1028190  1644850946  'I, for one, will not be silenced. My family h...   \n",
       "\n",
       "          replyDate                                              reply  \\\n",
       "1836384  1628904286                              Chuck should be done!   \n",
       "68605    1683572466              Bouna serata da verona italia 🇮🇹🙋‍♂️🌹   \n",
       "831851   1684873409  Tucker is just the gatekeeper of pandoras box ...   \n",
       "1394318  1670280083                                       I'm so happy   \n",
       "1028190  1644852080  Agreed! I’m ready to take this to whatever lev...   \n",
       "\n",
       "                  telegramChannel  \n",
       "1836384     AnalyzingAmerica.json  \n",
       "68605          DonaldTrumpJr.json  \n",
       "831851   ResisttheMainstream.json  \n",
       "1394318        DonaldTrumpJr.json  \n",
       "1028190  TheTrumpRepublicans.json  "
      ]
     },
     "execution_count": 8,
     "metadata": {},
     "output_type": "execute_result"
    }
   ],
   "source": [
    "sampled_df.head(5)"
   ]
  },
  {
   "cell_type": "code",
   "execution_count": 9,
   "id": "25d9ffe9-b72c-4883-8188-0dd7a938ef74",
   "metadata": {},
   "outputs": [],
   "source": [
    "sampled_df.to_json('/home/ravi/raviProject/DATA/Annotate/sampled_V7_151110.json', orient='records')"
   ]
  },
  {
   "cell_type": "code",
   "execution_count": 11,
   "id": "7c9abc8b",
   "metadata": {},
   "outputs": [],
   "source": [
    "# sampled_df=pd.read_json('/home/ravi/raviProject/DATA/Annotate/sampled_V1.json', orient='records')\n",
    "# # Save DataFrame as JSONL (JSON Lines)\n",
    "# with open('/home/ravi/raviProject/DATA/Annotate/sampled_V1.jsonl', 'w') as f:\n",
    "#     sampled_df.to_json(f, orient='records', lines=True)"
   ]
  },
  {
   "cell_type": "code",
   "execution_count": 10,
   "id": "074700db",
   "metadata": {},
   "outputs": [],
   "source": [
    "remaining_df = shuffled_df.drop(sampled_df.index)"
   ]
  },
  {
   "cell_type": "code",
   "execution_count": 11,
   "id": "092d9595",
   "metadata": {},
   "outputs": [
    {
     "data": {
      "text/plain": [
       "(2000000, 5)"
      ]
     },
     "execution_count": 11,
     "metadata": {},
     "output_type": "execute_result"
    }
   ],
   "source": [
    "remaining_df.shape"
   ]
  },
  {
   "cell_type": "code",
   "execution_count": 12,
   "id": "08a118db",
   "metadata": {},
   "outputs": [],
   "source": [
    "remaining_df.to_json('/home/ravi/raviProject/DATA/Annotate/remaining_V7_2M.json', orient='records')"
   ]
  },
  {
   "cell_type": "code",
   "execution_count": 13,
   "id": "a82917f7",
   "metadata": {},
   "outputs": [
    {
     "data": {
      "text/html": [
       "<div>\n",
       "<style scoped>\n",
       "    .dataframe tbody tr th:only-of-type {\n",
       "        vertical-align: middle;\n",
       "    }\n",
       "\n",
       "    .dataframe tbody tr th {\n",
       "        vertical-align: top;\n",
       "    }\n",
       "\n",
       "    .dataframe thead th {\n",
       "        text-align: right;\n",
       "    }\n",
       "</style>\n",
       "<table border=\"1\" class=\"dataframe\">\n",
       "  <thead>\n",
       "    <tr style=\"text-align: right;\">\n",
       "      <th></th>\n",
       "      <th>msgDate</th>\n",
       "      <th>msg</th>\n",
       "      <th>replyDate</th>\n",
       "      <th>reply</th>\n",
       "      <th>telegramChannel</th>\n",
       "    </tr>\n",
       "  </thead>\n",
       "  <tbody>\n",
       "    <tr>\n",
       "      <th>1626048</th>\n",
       "      <td>1619101097</td>\n",
       "      <td>Trump was right!\\n\\n</td>\n",
       "      <td>1619101357</td>\n",
       "      <td>👍🏼</td>\n",
       "      <td>AnalyzingAmerica.json</td>\n",
       "    </tr>\n",
       "    <tr>\n",
       "      <th>852804</th>\n",
       "      <td>1694793681</td>\n",
       "      <td>☀️ Watch: Hundreds Baptized in Pond at Auburn ...</td>\n",
       "      <td>1694795420</td>\n",
       "      <td>Proud to see this come from my home state. ❤️❤️❤️</td>\n",
       "      <td>ResisttheMainstream.json</td>\n",
       "    </tr>\n",
       "    <tr>\n",
       "      <th>1585371</th>\n",
       "      <td>1691129131</td>\n",
       "      <td>Yes or no?</td>\n",
       "      <td>1691135245</td>\n",
       "      <td>Bearing false witness. Where have I heard that...</td>\n",
       "      <td>ResisttheMainstream.json</td>\n",
       "    </tr>\n",
       "    <tr>\n",
       "      <th>1884516</th>\n",
       "      <td>1669335266</td>\n",
       "      <td>A d h d   m o m e n t</td>\n",
       "      <td>1669335694</td>\n",
       "      <td>when will you get addy, btw? high time you did</td>\n",
       "      <td>LacansWhreHouse.json</td>\n",
       "    </tr>\n",
       "    <tr>\n",
       "      <th>1797186</th>\n",
       "      <td>1696197725</td>\n",
       "      <td></td>\n",
       "      <td>1696198531</td>\n",
       "      <td>If you workin' dat ass, that still counts as w...</td>\n",
       "      <td>AnticapitalistSurrealism.json</td>\n",
       "    </tr>\n",
       "  </tbody>\n",
       "</table>\n",
       "</div>"
      ],
      "text/plain": [
       "            msgDate                                                msg  \\\n",
       "1626048  1619101097                              Trump was right!\\n\\n    \n",
       "852804   1694793681  ☀️ Watch: Hundreds Baptized in Pond at Auburn ...   \n",
       "1585371  1691129131                                         Yes or no?   \n",
       "1884516  1669335266                              A d h d   m o m e n t   \n",
       "1797186  1696197725                                                      \n",
       "\n",
       "          replyDate                                              reply  \\\n",
       "1626048  1619101357                                                 👍🏼   \n",
       "852804   1694795420  Proud to see this come from my home state. ❤️❤️❤️   \n",
       "1585371  1691135245  Bearing false witness. Where have I heard that...   \n",
       "1884516  1669335694     when will you get addy, btw? high time you did   \n",
       "1797186  1696198531  If you workin' dat ass, that still counts as w...   \n",
       "\n",
       "                       telegramChannel  \n",
       "1626048          AnalyzingAmerica.json  \n",
       "852804        ResisttheMainstream.json  \n",
       "1585371       ResisttheMainstream.json  \n",
       "1884516           LacansWhreHouse.json  \n",
       "1797186  AnticapitalistSurrealism.json  "
      ]
     },
     "execution_count": 13,
     "metadata": {},
     "output_type": "execute_result"
    }
   ],
   "source": [
    "remaining_df.head(5)"
   ]
  },
  {
   "cell_type": "code",
   "execution_count": 22,
   "id": "0fe376f2",
   "metadata": {},
   "outputs": [],
   "source": [
    "check1 = pd.read_json('/home/ravi/raviProject/DATA/Annotate/remaining_V7_2M.json', orient='records')"
   ]
  },
  {
   "cell_type": "code",
   "execution_count": 25,
   "id": "5188bc31",
   "metadata": {},
   "outputs": [
    {
     "data": {
      "text/plain": [
       "telegramChannel\n",
       "AlexJones.json                    1597\n",
       "AnalyzingAmerica.json             2639\n",
       "AnticapitalistSurrealism.json    41151\n",
       "BlackCrimesMatter.json             207\n",
       "COVIDVACCINEVICTIMS.json          9936\n",
       "DonaldTrumpJr.json                6336\n",
       "FreedomFighters.json              6267\n",
       "InfoWars.json                     3945\n",
       "LacansWhreHouse.json             44907\n",
       "PatriotStreetfighter.json        18971\n",
       "PrayingMedic.json                11722\n",
       "ResisttheMainstream.json         11645\n",
       "RiotDogs.json                    55843\n",
       "ThePatriotVoice.json             21938\n",
       "TheTrumpRepublicans.json          9679\n",
       "TrumpSupportersChannel.json       1940\n",
       "UnitedAnarchists.json            40548\n",
       "Name: msg, dtype: int64"
      ]
     },
     "execution_count": 25,
     "metadata": {},
     "output_type": "execute_result"
    }
   ],
   "source": [
    "check1.groupby('telegramChannel')['msg'].nunique()"
   ]
  },
  {
   "cell_type": "code",
   "execution_count": 36,
   "id": "1e55c6e6",
   "metadata": {},
   "outputs": [
    {
     "data": {
      "text/plain": [
       "telegramChannel\n",
       "AlexJones.json                    11063\n",
       "AnalyzingAmerica.json            300406\n",
       "AnticapitalistSurrealism.json     84400\n",
       "BlackCrimesMatter.json             1211\n",
       "COVIDVACCINEVICTIMS.json          49342\n",
       "DonaldTrumpJr.json               146081\n",
       "FreedomFighters.json              15080\n",
       "InfoWars.json                     17602\n",
       "LacansWhreHouse.json              82923\n",
       "PatriotStreetfighter.json        116114\n",
       "PrayingMedic.json                 73388\n",
       "ResisttheMainstream.json         482596\n",
       "RiotDogs.json                     83182\n",
       "ThePatriotVoice.json             166986\n",
       "TheTrumpRepublicans.json         160603\n",
       "TrumpSupportersChannel.json      149506\n",
       "UnitedAnarchists.json             59517\n",
       "Name: reply, dtype: int64"
      ]
     },
     "execution_count": 36,
     "metadata": {},
     "output_type": "execute_result"
    }
   ],
   "source": [
    "check1.groupby('telegramChannel')['reply'].count()"
   ]
  },
  {
   "cell_type": "code",
   "execution_count": 37,
   "id": "5e9b0f45",
   "metadata": {},
   "outputs": [
    {
     "data": {
      "text/plain": [
       "telegramChannel\n",
       "AlexJones.json                    11063\n",
       "AnalyzingAmerica.json            300406\n",
       "AnticapitalistSurrealism.json     84400\n",
       "BlackCrimesMatter.json             1211\n",
       "COVIDVACCINEVICTIMS.json          49342\n",
       "DonaldTrumpJr.json               146081\n",
       "FreedomFighters.json              15080\n",
       "InfoWars.json                     17602\n",
       "LacansWhreHouse.json              82923\n",
       "PatriotStreetfighter.json        116114\n",
       "PrayingMedic.json                 73388\n",
       "ResisttheMainstream.json         482596\n",
       "RiotDogs.json                     83182\n",
       "ThePatriotVoice.json             166986\n",
       "TheTrumpRepublicans.json         160603\n",
       "TrumpSupportersChannel.json      149506\n",
       "UnitedAnarchists.json             59517\n",
       "Name: reply, dtype: int64"
      ]
     },
     "execution_count": 37,
     "metadata": {},
     "output_type": "execute_result"
    }
   ],
   "source": [
    "check1.groupby('telegramChannel')['reply'].count()"
   ]
  },
  {
   "cell_type": "code",
   "execution_count": 30,
   "id": "b4baa77a",
   "metadata": {},
   "outputs": [
    {
     "data": {
      "text/plain": [
       "11063"
      ]
     },
     "execution_count": 30,
     "metadata": {},
     "output_type": "execute_result"
    }
   ],
   "source": []
  },
  {
   "cell_type": "markdown",
   "id": "555739eb",
   "metadata": {},
   "source": [
    "# sample ~100 per class wrt model predictions"
   ]
  },
  {
   "cell_type": "code",
   "execution_count": 14,
   "id": "39229413",
   "metadata": {},
   "outputs": [],
   "source": [
    "df = pd.read_json('/home/ravi/raviProject/DATA/Annotate/LabelV7/sampled_V7_151110_yPred_RoBERTa.json', orient='records')"
   ]
  },
  {
   "cell_type": "code",
   "execution_count": 15,
   "id": "1c490599",
   "metadata": {},
   "outputs": [
    {
     "data": {
      "text/html": [
       "<div>\n",
       "<style scoped>\n",
       "    .dataframe tbody tr th:only-of-type {\n",
       "        vertical-align: middle;\n",
       "    }\n",
       "\n",
       "    .dataframe tbody tr th {\n",
       "        vertical-align: top;\n",
       "    }\n",
       "\n",
       "    .dataframe thead th {\n",
       "        text-align: right;\n",
       "    }\n",
       "</style>\n",
       "<table border=\"1\" class=\"dataframe\">\n",
       "  <thead>\n",
       "    <tr style=\"text-align: right;\">\n",
       "      <th></th>\n",
       "      <th>msgDate</th>\n",
       "      <th>msg</th>\n",
       "      <th>replyDate</th>\n",
       "      <th>text</th>\n",
       "      <th>telegramChannel</th>\n",
       "      <th>y_pred</th>\n",
       "    </tr>\n",
       "  </thead>\n",
       "  <tbody>\n",
       "    <tr>\n",
       "      <th>0</th>\n",
       "      <td>1628714797</td>\n",
       "      <td>👍👍👍\\n</td>\n",
       "      <td>1628904286</td>\n",
       "      <td>Chuck should be done!</td>\n",
       "      <td>AnalyzingAmerica.json</td>\n",
       "      <td>2</td>\n",
       "    </tr>\n",
       "  </tbody>\n",
       "</table>\n",
       "</div>"
      ],
      "text/plain": [
       "      msgDate      msg   replyDate                   text  \\\n",
       "0  1628714797  👍👍👍\\n    1628904286  Chuck should be done!   \n",
       "\n",
       "         telegramChannel  y_pred  \n",
       "0  AnalyzingAmerica.json       2  "
      ]
     },
     "execution_count": 15,
     "metadata": {},
     "output_type": "execute_result"
    }
   ],
   "source": [
    "df.head(1)"
   ]
  },
  {
   "cell_type": "code",
   "execution_count": 16,
   "id": "b8295750",
   "metadata": {},
   "outputs": [
    {
     "data": {
      "text/plain": [
       "0    142423\n",
       "2      5220\n",
       "1      3467\n",
       "Name: y_pred, dtype: int64"
      ]
     },
     "execution_count": 16,
     "metadata": {},
     "output_type": "execute_result"
    }
   ],
   "source": [
    "df['y_pred'].value_counts()"
   ]
  },
  {
   "cell_type": "code",
   "execution_count": 17,
   "id": "ed9b858c",
   "metadata": {},
   "outputs": [],
   "source": [
    "# Sample 100 rows with class 1\n",
    "sample_class_1 = df[df['y_pred'] == 0].sample(n=4343, random_state=42)\n",
    "\n",
    "# Sample 200 rows with class 2\n",
    "sample_class_2 = df[df['y_pred'] == 1].sample(n=3467, random_state=42)\n",
    "\n",
    "# Sample 400 rows with class 3\n",
    "sample_class_3 = df[df['y_pred'] == 2].sample(n=5220, random_state=42)\n",
    "\n",
    "# Concatenate the sampled dataframes\n",
    "sampled_df = pd.concat([sample_class_1, sample_class_2, sample_class_3])\n",
    "\n",
    "# Shuffle the dataframe\n",
    "sampled_df = sampled_df.sample(frac=1, random_state=42)\n",
    "\n",
    "# Drop the sampled rows from the original DataFrame to get the remaining rows\n",
    "remaining_data = df.drop(sampled_df.index)"
   ]
  },
  {
   "cell_type": "code",
   "execution_count": 18,
   "id": "45a7ae55",
   "metadata": {},
   "outputs": [
    {
     "data": {
      "text/html": [
       "<div>\n",
       "<style scoped>\n",
       "    .dataframe tbody tr th:only-of-type {\n",
       "        vertical-align: middle;\n",
       "    }\n",
       "\n",
       "    .dataframe tbody tr th {\n",
       "        vertical-align: top;\n",
       "    }\n",
       "\n",
       "    .dataframe thead th {\n",
       "        text-align: right;\n",
       "    }\n",
       "</style>\n",
       "<table border=\"1\" class=\"dataframe\">\n",
       "  <thead>\n",
       "    <tr style=\"text-align: right;\">\n",
       "      <th></th>\n",
       "      <th>msgDate</th>\n",
       "      <th>msg</th>\n",
       "      <th>replyDate</th>\n",
       "      <th>text</th>\n",
       "      <th>telegramChannel</th>\n",
       "      <th>y_pred</th>\n",
       "    </tr>\n",
       "  </thead>\n",
       "  <tbody>\n",
       "    <tr>\n",
       "      <th>116468</th>\n",
       "      <td>1696648832</td>\n",
       "      <td>What's your response to Hillary Clinton sugges...</td>\n",
       "      <td>1696684708</td>\n",
       "      <td>Hang the cunt</td>\n",
       "      <td>ResisttheMainstream.json</td>\n",
       "      <td>2</td>\n",
       "    </tr>\n",
       "    <tr>\n",
       "      <th>136983</th>\n",
       "      <td>1696303227</td>\n",
       "      <td>Should Kevin McCarthy be removed as speaker of...</td>\n",
       "      <td>1696333205</td>\n",
       "      <td>YES</td>\n",
       "      <td>ResisttheMainstream.json</td>\n",
       "      <td>0</td>\n",
       "    </tr>\n",
       "    <tr>\n",
       "      <th>74338</th>\n",
       "      <td>1667592137</td>\n",
       "      <td>🔴  Top Democrats 'Held Secret Meeting on Picki...</td>\n",
       "      <td>1667594010</td>\n",
       "      <td>Lol...cause she has been taken into custody fo...</td>\n",
       "      <td>ResisttheMainstream.json</td>\n",
       "      <td>1</td>\n",
       "    </tr>\n",
       "    <tr>\n",
       "      <th>23329</th>\n",
       "      <td>1669678504</td>\n",
       "      <td>Who are teachers unions really fighting for? A...</td>\n",
       "      <td>1669735686</td>\n",
       "      <td>DESMANTELEN  EL SISTEMA EDUCATIVO MUNDIAL!!!! ...</td>\n",
       "      <td>DonaldTrumpJr.json</td>\n",
       "      <td>0</td>\n",
       "    </tr>\n",
       "    <tr>\n",
       "      <th>120652</th>\n",
       "      <td>1664512812</td>\n",
       "      <td>And as usual, nobody will call him out on it.</td>\n",
       "      <td>1664550931</td>\n",
       "      <td>Class Action Lawsuit to spread his wealth acro...</td>\n",
       "      <td>ResisttheMainstream.json</td>\n",
       "      <td>1</td>\n",
       "    </tr>\n",
       "  </tbody>\n",
       "</table>\n",
       "</div>"
      ],
      "text/plain": [
       "           msgDate                                                msg  \\\n",
       "116468  1696648832  What's your response to Hillary Clinton sugges...   \n",
       "136983  1696303227  Should Kevin McCarthy be removed as speaker of...   \n",
       "74338   1667592137  🔴  Top Democrats 'Held Secret Meeting on Picki...   \n",
       "23329   1669678504  Who are teachers unions really fighting for? A...   \n",
       "120652  1664512812      And as usual, nobody will call him out on it.   \n",
       "\n",
       "         replyDate                                               text  \\\n",
       "116468  1696684708                                      Hang the cunt   \n",
       "136983  1696333205                                                YES   \n",
       "74338   1667594010  Lol...cause she has been taken into custody fo...   \n",
       "23329   1669735686  DESMANTELEN  EL SISTEMA EDUCATIVO MUNDIAL!!!! ...   \n",
       "120652  1664550931  Class Action Lawsuit to spread his wealth acro...   \n",
       "\n",
       "                 telegramChannel  y_pred  \n",
       "116468  ResisttheMainstream.json       2  \n",
       "136983  ResisttheMainstream.json       0  \n",
       "74338   ResisttheMainstream.json       1  \n",
       "23329         DonaldTrumpJr.json       0  \n",
       "120652  ResisttheMainstream.json       1  "
      ]
     },
     "execution_count": 18,
     "metadata": {},
     "output_type": "execute_result"
    }
   ],
   "source": [
    "# Print the first few rows to verify\n",
    "sampled_df.head()"
   ]
  },
  {
   "cell_type": "code",
   "execution_count": 19,
   "id": "38b97c60",
   "metadata": {},
   "outputs": [
    {
     "data": {
      "text/plain": [
       "(13030, 138080)"
      ]
     },
     "execution_count": 19,
     "metadata": {},
     "output_type": "execute_result"
    }
   ],
   "source": [
    "len(sampled_df), len(remaining_data)"
   ]
  },
  {
   "cell_type": "code",
   "execution_count": 20,
   "id": "aca48b31",
   "metadata": {},
   "outputs": [],
   "source": [
    "remaining_data.to_json('/home/ravi/raviProject/DATA/Annotate/LabelV7/sampled_V7_151110_yPred_RoBERTa_remaining138080.json', orient='records')\n",
    "sampled_df.to_json('/home/ravi/raviProject/DATA/Annotate/LabelV7/sampled_V7_151110_yPred_RoBERTa_Sampled13030WithYpred.json', orient='records')\n",
    "sampled_df = sampled_df.drop(columns=['y_pred'])\n",
    "sampled_df.to_csv('/home/ravi/raviProject/DATA/Annotate/LabelV7/sampled_V7_151110_yPred_RoBERTa_Sampled13030WithoutYpred.csv')"
   ]
  },
  {
   "cell_type": "markdown",
   "id": "d0fd106d",
   "metadata": {},
   "source": [
    "# Compare Labels"
   ]
  },
  {
   "cell_type": "code",
   "execution_count": 3,
   "id": "07815797",
   "metadata": {},
   "outputs": [],
   "source": [
    "V7GPT=pd.read_json('/home/ravi/raviProject/DATA/Annotate/LabelV7/sampled_V7_151110_yPred_RoBERTa_Sampled13030WithYpred.json', orient='records')"
   ]
  },
  {
   "cell_type": "code",
   "execution_count": 4,
   "id": "c00dda9b",
   "metadata": {},
   "outputs": [
    {
     "data": {
      "text/plain": [
       "(13030, 6)"
      ]
     },
     "execution_count": 4,
     "metadata": {},
     "output_type": "execute_result"
    }
   ],
   "source": [
    "V7GPT.shape"
   ]
  },
  {
   "cell_type": "code",
   "execution_count": 5,
   "id": "fc3b73a4",
   "metadata": {},
   "outputs": [
    {
     "data": {
      "text/html": [
       "<div>\n",
       "<style scoped>\n",
       "    .dataframe tbody tr th:only-of-type {\n",
       "        vertical-align: middle;\n",
       "    }\n",
       "\n",
       "    .dataframe tbody tr th {\n",
       "        vertical-align: top;\n",
       "    }\n",
       "\n",
       "    .dataframe thead th {\n",
       "        text-align: right;\n",
       "    }\n",
       "</style>\n",
       "<table border=\"1\" class=\"dataframe\">\n",
       "  <thead>\n",
       "    <tr style=\"text-align: right;\">\n",
       "      <th></th>\n",
       "      <th>msgDate</th>\n",
       "      <th>msg</th>\n",
       "      <th>replyDate</th>\n",
       "      <th>text</th>\n",
       "      <th>telegramChannel</th>\n",
       "      <th>y_pred</th>\n",
       "    </tr>\n",
       "  </thead>\n",
       "  <tbody>\n",
       "    <tr>\n",
       "      <th>0</th>\n",
       "      <td>1696648832</td>\n",
       "      <td>What's your response to Hillary Clinton sugges...</td>\n",
       "      <td>1696684708</td>\n",
       "      <td>Hang the cunt</td>\n",
       "      <td>ResisttheMainstream.json</td>\n",
       "      <td>2</td>\n",
       "    </tr>\n",
       "  </tbody>\n",
       "</table>\n",
       "</div>"
      ],
      "text/plain": [
       "      msgDate                                                msg   replyDate  \\\n",
       "0  1696648832  What's your response to Hillary Clinton sugges...  1696684708   \n",
       "\n",
       "            text           telegramChannel  y_pred  \n",
       "0  Hang the cunt  ResisttheMainstream.json       2  "
      ]
     },
     "execution_count": 5,
     "metadata": {},
     "output_type": "execute_result"
    }
   ],
   "source": [
    "V7GPT.head(1)"
   ]
  },
  {
   "cell_type": "code",
   "execution_count": 6,
   "id": "f86a3446",
   "metadata": {},
   "outputs": [
    {
     "data": {
      "text/html": [
       "<div>\n",
       "<style scoped>\n",
       "    .dataframe tbody tr th:only-of-type {\n",
       "        vertical-align: middle;\n",
       "    }\n",
       "\n",
       "    .dataframe tbody tr th {\n",
       "        vertical-align: top;\n",
       "    }\n",
       "\n",
       "    .dataframe thead th {\n",
       "        text-align: right;\n",
       "    }\n",
       "</style>\n",
       "<table border=\"1\" class=\"dataframe\">\n",
       "  <thead>\n",
       "    <tr style=\"text-align: right;\">\n",
       "      <th></th>\n",
       "      <th>msgDate</th>\n",
       "      <th>msg</th>\n",
       "      <th>replyDate</th>\n",
       "      <th>text</th>\n",
       "      <th>telegramChannel</th>\n",
       "      <th>y_pred</th>\n",
       "    </tr>\n",
       "  </thead>\n",
       "  <tbody>\n",
       "    <tr>\n",
       "      <th>13029</th>\n",
       "      <td>1632967757</td>\n",
       "      <td>It’s only right.\\n</td>\n",
       "      <td>1633061932</td>\n",
       "      <td>Sick of waiting for these evil corrupt politic...</td>\n",
       "      <td>AnalyzingAmerica.json</td>\n",
       "      <td>1</td>\n",
       "    </tr>\n",
       "  </tbody>\n",
       "</table>\n",
       "</div>"
      ],
      "text/plain": [
       "          msgDate                   msg   replyDate  \\\n",
       "13029  1632967757  It’s only right.\\n    1633061932   \n",
       "\n",
       "                                                    text  \\\n",
       "13029  Sick of waiting for these evil corrupt politic...   \n",
       "\n",
       "             telegramChannel  y_pred  \n",
       "13029  AnalyzingAmerica.json       1  "
      ]
     },
     "execution_count": 6,
     "metadata": {},
     "output_type": "execute_result"
    }
   ],
   "source": [
    "V7GPT.tail(1)"
   ]
  },
  {
   "cell_type": "code",
   "execution_count": 7,
   "id": "9a136fca",
   "metadata": {},
   "outputs": [
    {
     "data": {
      "text/plain": [
       "2    5220\n",
       "0    4343\n",
       "1    3467\n",
       "Name: y_pred, dtype: int64"
      ]
     },
     "execution_count": 7,
     "metadata": {},
     "output_type": "execute_result"
    }
   ],
   "source": [
    "V7GPT['y_pred'].value_counts()"
   ]
  },
  {
   "cell_type": "code",
   "execution_count": 8,
   "id": "6ca808fe",
   "metadata": {},
   "outputs": [],
   "source": [
    "# Replace values in column 'FinalLabel'\n",
    "replacement_dict = {0 : 1, 1 : 2, 2 : 3}\n",
    "V7GPT['y_pred'] = V7GPT['y_pred'].replace(replacement_dict)"
   ]
  },
  {
   "cell_type": "code",
   "execution_count": 9,
   "id": "3ff07ca4",
   "metadata": {},
   "outputs": [
    {
     "data": {
      "text/plain": [
       "3    5220\n",
       "1    4343\n",
       "2    3467\n",
       "Name: y_pred, dtype: int64"
      ]
     },
     "execution_count": 9,
     "metadata": {},
     "output_type": "execute_result"
    }
   ],
   "source": [
    "V7GPT['y_pred'].value_counts()"
   ]
  },
  {
   "cell_type": "code",
   "execution_count": 15,
   "id": "6822c518",
   "metadata": {},
   "outputs": [],
   "source": [
    "V7Ravi=pd.read_csv('/home/ravi/raviProject/DATA/Annotate/LabelV7/sampled_V7_151110_yPred_RoBERTa_Sampled13030WithoutYpred_LabelRavi.csv')"
   ]
  },
  {
   "cell_type": "code",
   "execution_count": 16,
   "id": "e6dfd657",
   "metadata": {},
   "outputs": [
    {
     "data": {
      "text/plain": [
       "(13030, 7)"
      ]
     },
     "execution_count": 16,
     "metadata": {},
     "output_type": "execute_result"
    }
   ],
   "source": [
    "V7Ravi.shape"
   ]
  },
  {
   "cell_type": "code",
   "execution_count": 17,
   "id": "dc7e9a46",
   "metadata": {},
   "outputs": [
    {
     "data": {
      "text/html": [
       "<div>\n",
       "<style scoped>\n",
       "    .dataframe tbody tr th:only-of-type {\n",
       "        vertical-align: middle;\n",
       "    }\n",
       "\n",
       "    .dataframe tbody tr th {\n",
       "        vertical-align: top;\n",
       "    }\n",
       "\n",
       "    .dataframe thead th {\n",
       "        text-align: right;\n",
       "    }\n",
       "</style>\n",
       "<table border=\"1\" class=\"dataframe\">\n",
       "  <thead>\n",
       "    <tr style=\"text-align: right;\">\n",
       "      <th></th>\n",
       "      <th>Unnamed: 0</th>\n",
       "      <th>msgDate</th>\n",
       "      <th>msg</th>\n",
       "      <th>replyDate</th>\n",
       "      <th>text</th>\n",
       "      <th>telegramChannel</th>\n",
       "      <th>LabelRavi</th>\n",
       "    </tr>\n",
       "  </thead>\n",
       "  <tbody>\n",
       "    <tr>\n",
       "      <th>0</th>\n",
       "      <td>116468</td>\n",
       "      <td>1696648832</td>\n",
       "      <td>What's your response to Hillary Clinton sugges...</td>\n",
       "      <td>1696684708</td>\n",
       "      <td>Hang the cunt</td>\n",
       "      <td>ResisttheMainstream.json</td>\n",
       "      <td>2.0</td>\n",
       "    </tr>\n",
       "  </tbody>\n",
       "</table>\n",
       "</div>"
      ],
      "text/plain": [
       "   Unnamed: 0     msgDate                                                msg  \\\n",
       "0      116468  1696648832  What's your response to Hillary Clinton sugges...   \n",
       "\n",
       "    replyDate           text           telegramChannel  LabelRavi  \n",
       "0  1696684708  Hang the cunt  ResisttheMainstream.json        2.0  "
      ]
     },
     "execution_count": 17,
     "metadata": {},
     "output_type": "execute_result"
    }
   ],
   "source": [
    "V7Ravi.head(1)"
   ]
  },
  {
   "cell_type": "code",
   "execution_count": 18,
   "id": "bf9951a0",
   "metadata": {},
   "outputs": [
    {
     "data": {
      "text/html": [
       "<div>\n",
       "<style scoped>\n",
       "    .dataframe tbody tr th:only-of-type {\n",
       "        vertical-align: middle;\n",
       "    }\n",
       "\n",
       "    .dataframe tbody tr th {\n",
       "        vertical-align: top;\n",
       "    }\n",
       "\n",
       "    .dataframe thead th {\n",
       "        text-align: right;\n",
       "    }\n",
       "</style>\n",
       "<table border=\"1\" class=\"dataframe\">\n",
       "  <thead>\n",
       "    <tr style=\"text-align: right;\">\n",
       "      <th></th>\n",
       "      <th>Unnamed: 0</th>\n",
       "      <th>msgDate</th>\n",
       "      <th>msg</th>\n",
       "      <th>replyDate</th>\n",
       "      <th>text</th>\n",
       "      <th>telegramChannel</th>\n",
       "      <th>LabelRavi</th>\n",
       "    </tr>\n",
       "  </thead>\n",
       "  <tbody>\n",
       "    <tr>\n",
       "      <th>13029</th>\n",
       "      <td>22610</td>\n",
       "      <td>1632967757</td>\n",
       "      <td>It’s only right.\\n</td>\n",
       "      <td>1633061932</td>\n",
       "      <td>Sick of waiting for these evil corrupt politic...</td>\n",
       "      <td>AnalyzingAmerica.json</td>\n",
       "      <td>NaN</td>\n",
       "    </tr>\n",
       "  </tbody>\n",
       "</table>\n",
       "</div>"
      ],
      "text/plain": [
       "       Unnamed: 0     msgDate                   msg   replyDate  \\\n",
       "13029       22610  1632967757  It’s only right.\\n    1633061932   \n",
       "\n",
       "                                                    text  \\\n",
       "13029  Sick of waiting for these evil corrupt politic...   \n",
       "\n",
       "             telegramChannel  LabelRavi  \n",
       "13029  AnalyzingAmerica.json        NaN  "
      ]
     },
     "execution_count": 18,
     "metadata": {},
     "output_type": "execute_result"
    }
   ],
   "source": [
    "V7Ravi.tail(1)"
   ]
  },
  {
   "cell_type": "code",
   "execution_count": 19,
   "id": "b4c8c5a0",
   "metadata": {},
   "outputs": [
    {
     "data": {
      "text/plain": [
       "3.0    2607\n",
       "2.0    2374\n",
       "1.0    2221\n",
       "Name: LabelRavi, dtype: int64"
      ]
     },
     "execution_count": 19,
     "metadata": {},
     "output_type": "execute_result"
    }
   ],
   "source": [
    "V7Ravi['LabelRavi'].value_counts()"
   ]
  },
  {
   "cell_type": "code",
   "execution_count": 20,
   "id": "1cbf7fda",
   "metadata": {},
   "outputs": [],
   "source": [
    "V7Labels=V7GPT.copy()\n",
    "V7Labels['RLabel']=V7Ravi['LabelRavi']\n",
    "V7Labels = V7Labels.dropna(subset=['RLabel'], axis=0)\n",
    "V7Labels['RLabel']=V7Labels['RLabel'].astype('int64')"
   ]
  },
  {
   "cell_type": "code",
   "execution_count": 21,
   "id": "f3df5d98",
   "metadata": {},
   "outputs": [
    {
     "data": {
      "text/plain": [
       "(7202, 7)"
      ]
     },
     "execution_count": 21,
     "metadata": {},
     "output_type": "execute_result"
    }
   ],
   "source": [
    "V7Labels.shape"
   ]
  },
  {
   "cell_type": "code",
   "execution_count": 22,
   "id": "f013c492",
   "metadata": {},
   "outputs": [
    {
     "data": {
      "text/plain": [
       "3    2607\n",
       "2    2374\n",
       "1    2221\n",
       "Name: RLabel, dtype: int64"
      ]
     },
     "execution_count": 22,
     "metadata": {},
     "output_type": "execute_result"
    }
   ],
   "source": [
    "V7Labels['RLabel'].value_counts()"
   ]
  },
  {
   "cell_type": "code",
   "execution_count": 23,
   "id": "ed08fef6",
   "metadata": {},
   "outputs": [
    {
     "data": {
      "text/html": [
       "<div>\n",
       "<style scoped>\n",
       "    .dataframe tbody tr th:only-of-type {\n",
       "        vertical-align: middle;\n",
       "    }\n",
       "\n",
       "    .dataframe tbody tr th {\n",
       "        vertical-align: top;\n",
       "    }\n",
       "\n",
       "    .dataframe thead th {\n",
       "        text-align: right;\n",
       "    }\n",
       "</style>\n",
       "<table border=\"1\" class=\"dataframe\">\n",
       "  <thead>\n",
       "    <tr style=\"text-align: right;\">\n",
       "      <th></th>\n",
       "      <th>msgDate</th>\n",
       "      <th>msg</th>\n",
       "      <th>replyDate</th>\n",
       "      <th>text</th>\n",
       "      <th>telegramChannel</th>\n",
       "      <th>y_pred</th>\n",
       "      <th>RLabel</th>\n",
       "    </tr>\n",
       "  </thead>\n",
       "  <tbody>\n",
       "    <tr>\n",
       "      <th>0</th>\n",
       "      <td>1696648832</td>\n",
       "      <td>What's your response to Hillary Clinton sugges...</td>\n",
       "      <td>1696684708</td>\n",
       "      <td>Hang the cunt</td>\n",
       "      <td>ResisttheMainstream.json</td>\n",
       "      <td>3</td>\n",
       "      <td>2</td>\n",
       "    </tr>\n",
       "  </tbody>\n",
       "</table>\n",
       "</div>"
      ],
      "text/plain": [
       "      msgDate                                                msg   replyDate  \\\n",
       "0  1696648832  What's your response to Hillary Clinton sugges...  1696684708   \n",
       "\n",
       "            text           telegramChannel  y_pred  RLabel  \n",
       "0  Hang the cunt  ResisttheMainstream.json       3       2  "
      ]
     },
     "execution_count": 23,
     "metadata": {},
     "output_type": "execute_result"
    }
   ],
   "source": [
    "V7Labels.head(1)"
   ]
  },
  {
   "cell_type": "code",
   "execution_count": 91,
   "id": "29a7d1fc",
   "metadata": {},
   "outputs": [],
   "source": [
    "V7Labels.to_csv('/home/ravi/raviProject/DATA/Annotate/LabelV7/sampled_V7_151110_yPred_RoBERTa_Sampled7202WithYprednRavi.csv')"
   ]
  },
  {
   "cell_type": "code",
   "execution_count": 92,
   "id": "a4f3e99a",
   "metadata": {},
   "outputs": [],
   "source": [
    "V7Labels.to_json('/home/ravi/raviProject/DATA/Annotate/LabelV7/sampled_V7_151110_yPred_RoBERTa_Sampled7202WithYprednRavi.json', orient='records')"
   ]
  },
  {
   "cell_type": "markdown",
   "id": "3d3256a5",
   "metadata": {},
   "source": [
    "## score"
   ]
  },
  {
   "cell_type": "code",
   "execution_count": 62,
   "id": "627f2a99",
   "metadata": {},
   "outputs": [],
   "source": [
    "from sklearn.metrics import cohen_kappa_score\n",
    "from sklearn.metrics import classification_report, f1_score, accuracy_score\n"
   ]
  },
  {
   "cell_type": "code",
   "execution_count": 76,
   "id": "ed774ff2",
   "metadata": {},
   "outputs": [],
   "source": [
    "def sample_per_class(df, sample_count):\n",
    "    sampled_df = pd.DataFrame()\n",
    "    remaining_df = df.copy()\n",
    "\n",
    "    # Iterate over unique classes\n",
    "    for class_label in df['RLabel'].unique():\n",
    "        # Extract 100 rows where the column value is the current class label\n",
    "        sampled_class_df = remaining_df[remaining_df['RLabel'] == class_label]\n",
    "        sampled_class_df = sampled_class_df.sample(frac=1, random_state=42)\n",
    "        sampled_class_df = sampled_class_df.head(sample_count)\n",
    "\n",
    "        # Append sampled rows to the sampled_df DataFrame\n",
    "        sampled_df = pd.concat([sampled_df, sampled_class_df], ignore_index=True)\n",
    "\n",
    "        # Remove the sampled rows from the remaining_df\n",
    "        remaining_df = remaining_df.drop(sampled_class_df.index)\n",
    "\n",
    "    return sampled_df, remaining_df"
   ]
  },
  {
   "cell_type": "code",
   "execution_count": 77,
   "id": "cd27971c",
   "metadata": {},
   "outputs": [],
   "source": [
    "df = V7Labels.copy()\n",
    "sampled_df, remaining_df = sample_per_class(df, 100)"
   ]
  },
  {
   "cell_type": "code",
   "execution_count": 78,
   "id": "4aac5559",
   "metadata": {},
   "outputs": [
    {
     "data": {
      "text/plain": [
       "(7202, 300, 6902)"
      ]
     },
     "execution_count": 78,
     "metadata": {},
     "output_type": "execute_result"
    }
   ],
   "source": [
    "len(df), len(sampled_df), len(remaining_df)"
   ]
  },
  {
   "cell_type": "code",
   "execution_count": 79,
   "id": "cea93929",
   "metadata": {},
   "outputs": [
    {
     "data": {
      "text/plain": [
       "2    100\n",
       "1    100\n",
       "3    100\n",
       "Name: RLabel, dtype: int64"
      ]
     },
     "execution_count": 79,
     "metadata": {},
     "output_type": "execute_result"
    }
   ],
   "source": [
    "sampled_df['RLabel'].value_counts()"
   ]
  },
  {
   "cell_type": "code",
   "execution_count": 80,
   "id": "f9dae3b8",
   "metadata": {},
   "outputs": [
    {
     "data": {
      "text/plain": [
       "3    2507\n",
       "2    2274\n",
       "1    2121\n",
       "Name: RLabel, dtype: int64"
      ]
     },
     "execution_count": 80,
     "metadata": {},
     "output_type": "execute_result"
    }
   ],
   "source": [
    "remaining_df['RLabel'].value_counts()"
   ]
  },
  {
   "cell_type": "code",
   "execution_count": 81,
   "id": "351982cc",
   "metadata": {},
   "outputs": [
    {
     "data": {
      "text/plain": [
       "6902"
      ]
     },
     "execution_count": 81,
     "metadata": {},
     "output_type": "execute_result"
    }
   ],
   "source": [
    "remaining_df.shape[0]"
   ]
  },
  {
   "cell_type": "code",
   "execution_count": 82,
   "id": "d3af2c5c",
   "metadata": {},
   "outputs": [
    {
     "data": {
      "text/html": [
       "<div>\n",
       "<style scoped>\n",
       "    .dataframe tbody tr th:only-of-type {\n",
       "        vertical-align: middle;\n",
       "    }\n",
       "\n",
       "    .dataframe tbody tr th {\n",
       "        vertical-align: top;\n",
       "    }\n",
       "\n",
       "    .dataframe thead th {\n",
       "        text-align: right;\n",
       "    }\n",
       "</style>\n",
       "<table border=\"1\" class=\"dataframe\">\n",
       "  <thead>\n",
       "    <tr style=\"text-align: right;\">\n",
       "      <th></th>\n",
       "      <th>msgDate</th>\n",
       "      <th>msg</th>\n",
       "      <th>replyDate</th>\n",
       "      <th>text</th>\n",
       "      <th>telegramChannel</th>\n",
       "      <th>y_pred</th>\n",
       "      <th>RLabel</th>\n",
       "    </tr>\n",
       "  </thead>\n",
       "  <tbody>\n",
       "    <tr>\n",
       "      <th>0</th>\n",
       "      <td>1699107164</td>\n",
       "      <td>🔴 Family of Hockey Star Killed Mid-Game Breaks...</td>\n",
       "      <td>1699195203</td>\n",
       "      <td>That karate kick to the neck was intentional. ...</td>\n",
       "      <td>ResisttheMainstream.json</td>\n",
       "      <td>2</td>\n",
       "      <td>2</td>\n",
       "    </tr>\n",
       "  </tbody>\n",
       "</table>\n",
       "</div>"
      ],
      "text/plain": [
       "      msgDate                                                msg   replyDate  \\\n",
       "0  1699107164  🔴 Family of Hockey Star Killed Mid-Game Breaks...  1699195203   \n",
       "\n",
       "                                                text  \\\n",
       "0  That karate kick to the neck was intentional. ...   \n",
       "\n",
       "            telegramChannel  y_pred  RLabel  \n",
       "0  ResisttheMainstream.json       2       2  "
      ]
     },
     "execution_count": 82,
     "metadata": {},
     "output_type": "execute_result"
    }
   ],
   "source": [
    "sampled_df.head(1)"
   ]
  },
  {
   "cell_type": "code",
   "execution_count": 83,
   "id": "23accea3",
   "metadata": {},
   "outputs": [],
   "source": [
    "kappa = cohen_kappa_score(sampled_df['RLabel'], sampled_df['y_pred'])"
   ]
  },
  {
   "cell_type": "code",
   "execution_count": 84,
   "id": "e4a696ab",
   "metadata": {},
   "outputs": [
    {
     "data": {
      "text/plain": [
       "0.73"
      ]
     },
     "execution_count": 84,
     "metadata": {},
     "output_type": "execute_result"
    }
   ],
   "source": [
    "kappa"
   ]
  },
  {
   "cell_type": "code",
   "execution_count": 85,
   "id": "0256f5f0",
   "metadata": {},
   "outputs": [],
   "source": [
    "weighted_f1 = f1_score(sampled_df['RLabel'], sampled_df['y_pred'], average='weighted')"
   ]
  },
  {
   "cell_type": "code",
   "execution_count": 86,
   "id": "924e8525",
   "metadata": {},
   "outputs": [
    {
     "data": {
      "text/plain": [
       "0.8064371246835365"
      ]
     },
     "execution_count": 86,
     "metadata": {},
     "output_type": "execute_result"
    }
   ],
   "source": [
    "weighted_f1"
   ]
  },
  {
   "cell_type": "code",
   "execution_count": 87,
   "id": "c9ff6868",
   "metadata": {},
   "outputs": [],
   "source": [
    "acc = accuracy_score(sampled_df['RLabel'], sampled_df['y_pred'])"
   ]
  },
  {
   "cell_type": "code",
   "execution_count": 88,
   "id": "8429ca36",
   "metadata": {},
   "outputs": [
    {
     "data": {
      "text/plain": [
       "0.82"
      ]
     },
     "execution_count": 88,
     "metadata": {},
     "output_type": "execute_result"
    }
   ],
   "source": [
    "acc"
   ]
  },
  {
   "cell_type": "code",
   "execution_count": 89,
   "id": "ec78116d",
   "metadata": {},
   "outputs": [],
   "source": [
    "# Generate classification report\n",
    "class_report = classification_report(sampled_df['RLabel'], sampled_df['y_pred'])"
   ]
  },
  {
   "cell_type": "code",
   "execution_count": 59,
   "id": "c6e976a7",
   "metadata": {},
   "outputs": [
    {
     "name": "stdout",
     "output_type": "stream",
     "text": [
      "Classification Report:\n",
      "               precision    recall  f1-score   support\n",
      "\n",
      "           1       0.95      0.53      0.68       100\n",
      "           2       0.83      0.97      0.89       100\n",
      "           3       0.76      0.96      0.85       100\n",
      "\n",
      "    accuracy                           0.82       300\n",
      "   macro avg       0.84      0.82      0.81       300\n",
      "weighted avg       0.84      0.82      0.81       300\n",
      "\n"
     ]
    }
   ],
   "source": [
    "print(\"Classification Report:\\n\", class_report)"
   ]
  },
  {
   "cell_type": "code",
   "execution_count": 60,
   "id": "6c5bf903",
   "metadata": {},
   "outputs": [],
   "source": [
    "from sklearn.metrics import confusion_matrix\n",
    "import matplotlib.pyplot as plt\n",
    "import seaborn as sns"
   ]
  },
  {
   "cell_type": "code",
   "execution_count": 61,
   "id": "4c30c245",
   "metadata": {},
   "outputs": [
    {
     "data": {
      "image/png": "[encoded data removed]",
      "text/plain": [
       "<Figure size 576x432 with 1 Axes>"
      ]
     },
     "metadata": {
      "needs_background": "light"
     },
     "output_type": "display_data"
    }
   ],
   "source": [
    "conf_matrix=confusion_matrix(sampled_df['RLabel'], sampled_df['y_pred'])\n",
    "# Plot the confusion matrix as a heatmap\n",
    "plt.figure(figsize=(8, 6))\n",
    "sns.heatmap(conf_matrix, annot=True, fmt='d', cmap='Blues', cbar=False)\n",
    "plt.title('Confusion Matrix')\n",
    "plt.xlabel('Predicted Labels')\n",
    "plt.ylabel('True Labels')\n",
    "\n",
    "# Set the tick labels to match your class labels (1, 2, 3)\n",
    "plt.xticks(ticks=[0.5, 1.5, 2.5], labels=[1, 2, 3])\n",
    "plt.yticks(ticks=[0.5, 1.5, 2.5], labels=[1, 2, 3])\n",
    "\n",
    "plt.show()"
   ]
  },
  {
   "cell_type": "code",
   "execution_count": 90,
   "id": "a41da400",
   "metadata": {},
   "outputs": [],
   "source": [
    "sampled_df.to_json('/home/ravi/raviProject/DATA/Annotate/LabelV7/V7_Labeled_300_sampled.json', orient='records')\n",
    "remaining_df.to_json('/home/ravi/raviProject/DATA/Annotate/LabelV7/V7_Labeled_6902_remaining.json', orient='records')"
   ]
  },
  {
   "cell_type": "markdown",
   "id": "c142c27c",
   "metadata": {},
   "source": [
    "# MERGE with previous labeled set"
   ]
  },
  {
   "cell_type": "markdown",
   "id": "61441be9",
   "metadata": {},
   "source": [
    "### combine all - full labeled set"
   ]
  },
  {
   "cell_type": "code",
   "execution_count": 93,
   "id": "fa8fdb64",
   "metadata": {},
   "outputs": [],
   "source": [
    "V1Labels = pd.read_json('/home/ravi/raviProject/DATA/Annotate/LabelV1/sampled_V1_10K_Experts_Sampled487WithMattnRavi.json', orient='records')\n",
    "V2Labels = pd.read_json('/home/ravi/raviProject/DATA/Annotate/LabelV2/sampled_V2_10K_yPred_RoBERTa_Sampled1457WithYprednRavi.json', orient='records')\n",
    "V3Labels = pd.read_json('/home/ravi/raviProject/DATA/Annotate/LabelV3/sampled_V3_10K_yPred_RoBERTa_Sampled1404WithYprednRavi.json', orient='records')\n",
    "V4Labels = pd.read_json('/home/ravi/raviProject/DATA/Annotate/LabelV4/sampled_V4_10K_yPred_RoBERTa_Sampled1044WithYprednRavi.json', orient='records')\n",
    "V5Labels = pd.read_json('/home/ravi/raviProject/DATA/Annotate/LabelV5/sampled_V5_10K_yPred_RoBERTa_Sampled853WithYprednRavi.json', orient='records')\n",
    "V6Labels = pd.read_json('/home/ravi/raviProject/DATA/Annotate/LabelV6/sampled_V6_100K_yPred_RoBERTa_Sampled5676WithYprednRavi.json', orient='records')\n",
    "V7Labels = pd.read_json('/home/ravi/raviProject/DATA/Annotate/LabelV7/sampled_V7_151110_yPred_RoBERTa_Sampled7202WithYprednRavi.json', orient='records')"
   ]
  },
  {
   "cell_type": "code",
   "execution_count": 94,
   "id": "97e223cc",
   "metadata": {},
   "outputs": [
    {
     "data": {
      "text/html": [
       "<div>\n",
       "<style scoped>\n",
       "    .dataframe tbody tr th:only-of-type {\n",
       "        vertical-align: middle;\n",
       "    }\n",
       "\n",
       "    .dataframe tbody tr th {\n",
       "        vertical-align: top;\n",
       "    }\n",
       "\n",
       "    .dataframe thead th {\n",
       "        text-align: right;\n",
       "    }\n",
       "</style>\n",
       "<table border=\"1\" class=\"dataframe\">\n",
       "  <thead>\n",
       "    <tr style=\"text-align: right;\">\n",
       "      <th></th>\n",
       "      <th>Unnamed: 0</th>\n",
       "      <th>id</th>\n",
       "      <th>text</th>\n",
       "      <th>msg</th>\n",
       "      <th>msgDate</th>\n",
       "      <th>replyDate</th>\n",
       "      <th>comparison_MJ</th>\n",
       "      <th>telegramChannel</th>\n",
       "      <th>label</th>\n",
       "      <th>LabelM</th>\n",
       "      <th>LabelR</th>\n",
       "      <th>Agree?</th>\n",
       "      <th>FinalLabel</th>\n",
       "    </tr>\n",
       "  </thead>\n",
       "  <tbody>\n",
       "    <tr>\n",
       "      <th>0</th>\n",
       "      <td>3</td>\n",
       "      <td>41</td>\n",
       "      <td>She needs to strike that big fat mouth</td>\n",
       "      <td>This would be another win for Republicans.\\n</td>\n",
       "      <td>1651779040</td>\n",
       "      <td>1651806800</td>\n",
       "      <td>True</td>\n",
       "      <td>AnalyzingAmerica.json</td>\n",
       "      <td>['No threat / Ambiguous']</td>\n",
       "      <td>3</td>\n",
       "      <td>3</td>\n",
       "      <td>Equal</td>\n",
       "      <td>1</td>\n",
       "    </tr>\n",
       "  </tbody>\n",
       "</table>\n",
       "</div>"
      ],
      "text/plain": [
       "   Unnamed: 0  id                                    text  \\\n",
       "0           3  41  She needs to strike that big fat mouth   \n",
       "\n",
       "                                             msg     msgDate   replyDate  \\\n",
       "0  This would be another win for Republicans.\\n   1651779040  1651806800   \n",
       "\n",
       "  comparison_MJ        telegramChannel                      label  LabelM  \\\n",
       "0          True  AnalyzingAmerica.json  ['No threat / Ambiguous']       3   \n",
       "\n",
       "   LabelR Agree?  FinalLabel  \n",
       "0       3  Equal           1  "
      ]
     },
     "execution_count": 94,
     "metadata": {},
     "output_type": "execute_result"
    }
   ],
   "source": [
    "V1Labels.head(1)"
   ]
  },
  {
   "cell_type": "code",
   "execution_count": 95,
   "id": "7161dce9",
   "metadata": {},
   "outputs": [],
   "source": [
    "V2Labels.rename(columns={'RLabel': 'FinalLabel'}, inplace=True)\n",
    "V3Labels.rename(columns={'RLabel': 'FinalLabel'}, inplace=True)\n",
    "V4Labels.rename(columns={'RLabel': 'FinalLabel'}, inplace=True)\n",
    "V5Labels.rename(columns={'RLabel': 'FinalLabel'}, inplace=True)\n",
    "V6Labels.rename(columns={'RLabel': 'FinalLabel'}, inplace=True)\n",
    "V7Labels.rename(columns={'RLabel': 'FinalLabel'}, inplace=True)"
   ]
  },
  {
   "cell_type": "code",
   "execution_count": 96,
   "id": "ae5cea29",
   "metadata": {},
   "outputs": [
    {
     "name": "stdout",
     "output_type": "stream",
     "text": [
      "(487, 13) \n",
      " 1    207\n",
      "3    171\n",
      "2    109\n",
      "Name: FinalLabel, dtype: int64\n",
      "(1457, 7) \n",
      " 1    1185\n",
      "2     152\n",
      "3     120\n",
      "Name: FinalLabel, dtype: int64\n",
      "(1404, 7) \n",
      " 1    1094\n",
      "3     176\n",
      "2     134\n",
      "Name: FinalLabel, dtype: int64\n",
      "(1044, 7) \n",
      " 1    746\n",
      "3    162\n",
      "2    136\n",
      "Name: FinalLabel, dtype: int64\n",
      "(853, 9) \n",
      " 1    505\n",
      "3    190\n",
      "2    158\n",
      "Name: FinalLabel, dtype: int64\n",
      "(5676, 10) \n",
      " 1    2114\n",
      "3    1967\n",
      "2    1595\n",
      "Name: FinalLabel, dtype: int64\n",
      "(7202, 7) \n",
      " 1    2114\n",
      "3    1967\n",
      "2    1595\n",
      "Name: FinalLabel, dtype: int64\n"
     ]
    }
   ],
   "source": [
    "print(V1Labels.shape, '\\n', V1Labels['FinalLabel'].value_counts())\n",
    "print(V2Labels.shape, '\\n', V2Labels['FinalLabel'].value_counts())\n",
    "print(V3Labels.shape, '\\n', V3Labels['FinalLabel'].value_counts())\n",
    "print(V4Labels.shape, '\\n', V4Labels['FinalLabel'].value_counts())\n",
    "print(V5Labels.shape, '\\n', V5Labels['FinalLabel'].value_counts())\n",
    "print(V6Labels.shape, '\\n', V6Labels['FinalLabel'].value_counts())\n",
    "print(V7Labels.shape, '\\n', V6Labels['FinalLabel'].value_counts())"
   ]
  },
  {
   "cell_type": "code",
   "execution_count": 97,
   "id": "1bd6cf08",
   "metadata": {},
   "outputs": [],
   "source": [
    "selected_cols =['msgDate', 'msg', 'replyDate', 'text', 'telegramChannel', 'FinalLabel']\n",
    "merged_df = pd.concat([V1Labels[selected_cols], V2Labels[selected_cols], \n",
    "                       V3Labels[selected_cols], V4Labels[selected_cols],\n",
    "                       V5Labels[selected_cols], V6Labels[selected_cols],\n",
    "                       V7Labels[selected_cols]], ignore_index=True)"
   ]
  },
  {
   "cell_type": "code",
   "execution_count": 98,
   "id": "ca8ae9ab",
   "metadata": {},
   "outputs": [],
   "source": [
    "# Replace values in column 'FinalLabel'\n",
    "replacement_dict = {1 : 0, 2 : 1, 3 : 2}\n",
    "merged_df['FinalLabel'] = merged_df['FinalLabel'].replace(replacement_dict)"
   ]
  },
  {
   "cell_type": "code",
   "execution_count": 101,
   "id": "599c333e",
   "metadata": {},
   "outputs": [
    {
     "data": {
      "text/plain": [
       "(18123, 6)"
      ]
     },
     "execution_count": 101,
     "metadata": {},
     "output_type": "execute_result"
    }
   ],
   "source": [
    "merged_df.shape"
   ]
  },
  {
   "cell_type": "code",
   "execution_count": 102,
   "id": "94c423f4",
   "metadata": {},
   "outputs": [
    {
     "data": {
      "text/plain": [
       "0    8072\n",
       "2    5393\n",
       "1    4658\n",
       "Name: FinalLabel, dtype: int64"
      ]
     },
     "execution_count": 102,
     "metadata": {},
     "output_type": "execute_result"
    }
   ],
   "source": [
    "merged_df['FinalLabel'].value_counts()"
   ]
  },
  {
   "cell_type": "code",
   "execution_count": 103,
   "id": "035ee244",
   "metadata": {},
   "outputs": [],
   "source": [
    "shuffled_df = merged_df.sample(frac=1, random_state=42)  # Shuffle the DataFrame"
   ]
  },
  {
   "cell_type": "code",
   "execution_count": 104,
   "id": "ff090e06",
   "metadata": {},
   "outputs": [
    {
     "data": {
      "text/html": [
       "<div>\n",
       "<style scoped>\n",
       "    .dataframe tbody tr th:only-of-type {\n",
       "        vertical-align: middle;\n",
       "    }\n",
       "\n",
       "    .dataframe tbody tr th {\n",
       "        vertical-align: top;\n",
       "    }\n",
       "\n",
       "    .dataframe thead th {\n",
       "        text-align: right;\n",
       "    }\n",
       "</style>\n",
       "<table border=\"1\" class=\"dataframe\">\n",
       "  <thead>\n",
       "    <tr style=\"text-align: right;\">\n",
       "      <th></th>\n",
       "      <th>msgDate</th>\n",
       "      <th>msg</th>\n",
       "      <th>replyDate</th>\n",
       "      <th>text</th>\n",
       "      <th>telegramChannel</th>\n",
       "      <th>FinalLabel</th>\n",
       "    </tr>\n",
       "  </thead>\n",
       "  <tbody>\n",
       "    <tr>\n",
       "      <th>10132</th>\n",
       "      <td>1631828363</td>\n",
       "      <td>Is the Democratic Party a cult?\\n</td>\n",
       "      <td>1631831072</td>\n",
       "      <td>When is this heartless bitch going to die?</td>\n",
       "      <td>AnalyzingAmerica.json</td>\n",
       "      <td>2</td>\n",
       "    </tr>\n",
       "    <tr>\n",
       "      <th>17886</th>\n",
       "      <td>1624809381</td>\n",
       "      <td>Trump Slams “Woke” General’s Defense Of Critic...</td>\n",
       "      <td>1624817257</td>\n",
       "      <td>Disgusting to see Marxist infiltrating our mil...</td>\n",
       "      <td>TheTrumpRepublicans.json</td>\n",
       "      <td>2</td>\n",
       "    </tr>\n",
       "    <tr>\n",
       "      <th>12362</th>\n",
       "      <td>1627634321</td>\n",
       "      <td>Hello Patriot Streetfighters!!\\n\\nScott here p...</td>\n",
       "      <td>1627682809</td>\n",
       "      <td>Oh my gosh I’m so sorry to hear about the gene...</td>\n",
       "      <td>PatriotStreetfighter.json</td>\n",
       "      <td>0</td>\n",
       "    </tr>\n",
       "    <tr>\n",
       "      <th>11880</th>\n",
       "      <td>1665861934</td>\n",
       "      <td>🔴  Barack Obama Jumps Into Midterm Battle. Her...</td>\n",
       "      <td>1665864900</td>\n",
       "      <td>No ones listening Parasite. You going to JAIL ...</td>\n",
       "      <td>ResisttheMainstream.json</td>\n",
       "      <td>1</td>\n",
       "    </tr>\n",
       "    <tr>\n",
       "      <th>2157</th>\n",
       "      <td>1618852647</td>\n",
       "      <td>Waters has to face the music.\\n\\n</td>\n",
       "      <td>1618863650</td>\n",
       "      <td>Impeach her!</td>\n",
       "      <td>AnalyzingAmerica.json</td>\n",
       "      <td>1</td>\n",
       "    </tr>\n",
       "  </tbody>\n",
       "</table>\n",
       "</div>"
      ],
      "text/plain": [
       "          msgDate                                                msg  \\\n",
       "10132  1631828363                 Is the Democratic Party a cult?\\n    \n",
       "17886  1624809381  Trump Slams “Woke” General’s Defense Of Critic...   \n",
       "12362  1627634321  Hello Patriot Streetfighters!!\\n\\nScott here p...   \n",
       "11880  1665861934  🔴  Barack Obama Jumps Into Midterm Battle. Her...   \n",
       "2157   1618852647                 Waters has to face the music.\\n\\n    \n",
       "\n",
       "        replyDate                                               text  \\\n",
       "10132  1631831072         When is this heartless bitch going to die?   \n",
       "17886  1624817257  Disgusting to see Marxist infiltrating our mil...   \n",
       "12362  1627682809  Oh my gosh I’m so sorry to hear about the gene...   \n",
       "11880  1665864900  No ones listening Parasite. You going to JAIL ...   \n",
       "2157   1618863650                                       Impeach her!   \n",
       "\n",
       "                 telegramChannel  FinalLabel  \n",
       "10132      AnalyzingAmerica.json           2  \n",
       "17886   TheTrumpRepublicans.json           2  \n",
       "12362  PatriotStreetfighter.json           0  \n",
       "11880   ResisttheMainstream.json           1  \n",
       "2157       AnalyzingAmerica.json           1  "
      ]
     },
     "execution_count": 104,
     "metadata": {},
     "output_type": "execute_result"
    }
   ],
   "source": [
    "shuffled_df.head()"
   ]
  },
  {
   "cell_type": "code",
   "execution_count": 105,
   "id": "7b3fb09a",
   "metadata": {},
   "outputs": [],
   "source": [
    "shuffled_df.to_json('/home/ravi/raviProject/DATA/Annotate/iterData/iter7_Labeled_18123_sampled_ALL.json', orient='records')"
   ]
  },
  {
   "cell_type": "markdown",
   "id": "68e712c5",
   "metadata": {},
   "source": [
    "## make new iter7 labeled data"
   ]
  },
  {
   "cell_type": "code",
   "execution_count": 106,
   "id": "760420cd",
   "metadata": {},
   "outputs": [],
   "source": [
    "df5 = pd.read_json('/home/ravi/raviProject/DATA/Annotate/iterData/iter7_Labeled_18123_sampled_ALL.json', orient='records')"
   ]
  },
  {
   "cell_type": "code",
   "execution_count": 107,
   "id": "da785c3f",
   "metadata": {},
   "outputs": [
    {
     "data": {
      "text/plain": [
       "0    8072\n",
       "2    5393\n",
       "1    4658\n",
       "Name: FinalLabel, dtype: int64"
      ]
     },
     "execution_count": 107,
     "metadata": {},
     "output_type": "execute_result"
    }
   ],
   "source": [
    "df5['FinalLabel'].value_counts()"
   ]
  },
  {
   "cell_type": "code",
   "execution_count": 108,
   "id": "de168ac4",
   "metadata": {},
   "outputs": [],
   "source": [
    "# Sample 100 rows with class 1\n",
    "sample_class_1 = df5[df5['FinalLabel'] == 0].sample(n=5026, random_state=42)\n",
    "\n",
    "# Sample 200 rows with class 2\n",
    "sample_class_2 = df5[df5['FinalLabel'] == 1].sample(n=4658, random_state=42)\n",
    "\n",
    "# Sample 400 rows with class 3\n",
    "sample_class_3 = df5[df5['FinalLabel'] == 2].sample(n=5393, random_state=42)\n",
    "\n",
    "# Concatenate the sampled dataframes\n",
    "sampled_df = pd.concat([sample_class_1, sample_class_2, sample_class_3])\n",
    "\n",
    "# Shuffle the dataframe\n",
    "sampled_df = sampled_df.sample(frac=1, random_state=42)\n",
    "\n",
    "# Drop the sampled rows from the original DataFrame to get the remaining rows\n",
    "remaining_data = df5.drop(sampled_df.index)"
   ]
  },
  {
   "cell_type": "code",
   "execution_count": 109,
   "id": "e21e556c",
   "metadata": {},
   "outputs": [
    {
     "data": {
      "text/plain": [
       "(15077, 3046)"
      ]
     },
     "execution_count": 109,
     "metadata": {},
     "output_type": "execute_result"
    }
   ],
   "source": [
    "len(sampled_df), len(remaining_data)"
   ]
  },
  {
   "cell_type": "code",
   "execution_count": 1,
   "id": "e73643ec",
   "metadata": {},
   "outputs": [
    {
     "ename": "NameError",
     "evalue": "name 'sampled_df' is not defined",
     "output_type": "error",
     "traceback": [
      "\u001b[0;31m---------------------------------------------------------------------------\u001b[0m",
      "\u001b[0;31mNameError\u001b[0m                                 Traceback (most recent call last)",
      "Input \u001b[0;32mIn [1]\u001b[0m, in \u001b[0;36m<cell line: 1>\u001b[0;34m()\u001b[0m\n\u001b[0;32m----> 1\u001b[0m \u001b[43msampled_df\u001b[49m[\u001b[38;5;124m'\u001b[39m\u001b[38;5;124mFinalLabel\u001b[39m\u001b[38;5;124m'\u001b[39m]\u001b[38;5;241m.\u001b[39mvalue_counts()\n",
      "\u001b[0;31mNameError\u001b[0m: name 'sampled_df' is not defined"
     ]
    }
   ],
   "source": [
    "sampled_df['FinalLabel'].value_counts()"
   ]
  },
  {
   "cell_type": "code",
   "execution_count": 110,
   "id": "3c4fc865",
   "metadata": {},
   "outputs": [],
   "source": [
    "sampled_df.to_json('/home/ravi/raviProject/DATA/Annotate/LabelV7/V7_ALLLabeled_15077_sampled.json', orient='records')\n",
    "remaining_data.to_json('/home/ravi/raviProject/DATA/Annotate/LabelV7/V7_ALLLabeled_3046_remaining.json', orient='records')"
   ]
  },
  {
   "cell_type": "code",
   "execution_count": 111,
   "id": "762f8e68",
   "metadata": {},
   "outputs": [],
   "source": [
    "sampled_df.to_json('/home/ravi/raviProject/DATA/Annotate/iterData/iter7_Labeled_15077_sampled_forNextIter.json', orient='records')"
   ]
  },
  {
   "cell_type": "code",
   "execution_count": null,
   "id": "59247030",
   "metadata": {},
   "outputs": [],
   "source": []
  }
 ],
 "metadata": {
  "kernelspec": {
   "display_name": "base",
   "language": "python",
   "name": "python3"
  },
  "language_info": {
   "codemirror_mode": {
    "name": "ipython",
    "version": 3
   },
   "file_extension": ".py",
   "mimetype": "text/x-python",
   "name": "python",
   "nbconvert_exporter": "python",
   "pygments_lexer": "ipython3",
   "version": "3.10.4"
  }
 },
 "nbformat": 4,
 "nbformat_minor": 5
}
